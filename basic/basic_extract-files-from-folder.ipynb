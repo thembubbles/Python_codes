{
 "cells": [
  {
   "cell_type": "code",
   "execution_count": 5,
   "metadata": {},
   "outputs": [],
   "source": [
    "import os\n",
    "import shutil\n",
    "import glob\n",
    "\n",
    "inputs=glob.glob('C:/Users/u0125722/OneDrive - KU Leuven/Buranga/_Article3-Metallogenesis/Raman/processed/*_1800*.txt')\n",
    "outputs='C:/Users/u0125722/OneDrive - KU Leuven/Buranga/_Article3-Metallogenesis/Raman/processed/1800 grating'\n",
    "\n",
    "for f in inputs:\n",
    "#     print(f)\n",
    "    shutil.move(f, outputs)"
   ]
  },
  {
   "cell_type": "code",
   "execution_count": null,
   "metadata": {},
   "outputs": [],
   "source": [
    "folder = input(\"pick a folder : \")"
   ]
  }
 ],
 "metadata": {
  "kernelspec": {
   "display_name": "Python 3",
   "language": "python",
   "name": "python3"
  },
  "language_info": {
   "codemirror_mode": {
    "name": "ipython",
    "version": 3
   },
   "file_extension": ".py",
   "mimetype": "text/x-python",
   "name": "python",
   "nbconvert_exporter": "python",
   "pygments_lexer": "ipython3",
   "version": "3.7.1"
  }
 },
 "nbformat": 4,
 "nbformat_minor": 2
}
