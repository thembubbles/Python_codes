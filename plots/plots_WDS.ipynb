{
 "cells": [
  {
   "cell_type": "code",
   "execution_count": 1,
   "metadata": {},
   "outputs": [],
   "source": [
    "# ---------------- plotting mineral chemistry data\n",
    "\n",
    "\n",
    "# --- import modules\n",
    "\n",
    "import numpy as np\n",
    "import pandas as pd\n",
    "import plotly.express as px\n",
    "import matplotlib.pyplot as plt\n",
    "from matplotlib.ticker import (MultipleLocator, AutoMinorLocator)\n",
    "from matplotlib import gridspec\n",
    "import matplotlib.ticker as ticker"
   ]
  },
  {
   "cell_type": "code",
   "execution_count": 2,
   "metadata": {},
   "outputs": [
    {
     "data": {
      "text/html": [
       "<div>\n",
       "<style scoped>\n",
       "    .dataframe tbody tr th:only-of-type {\n",
       "        vertical-align: middle;\n",
       "    }\n",
       "\n",
       "    .dataframe tbody tr th {\n",
       "        vertical-align: top;\n",
       "    }\n",
       "\n",
       "    .dataframe thead th {\n",
       "        text-align: right;\n",
       "    }\n",
       "</style>\n",
       "<table border=\"1\" class=\"dataframe\">\n",
       "  <thead>\n",
       "    <tr style=\"text-align: right;\">\n",
       "      <th></th>\n",
       "      <th>Sample</th>\n",
       "      <th>Area</th>\n",
       "      <th>Comment</th>\n",
       "      <th>Context</th>\n",
       "      <th>Mineral</th>\n",
       "      <th>Al</th>\n",
       "      <th>Ta</th>\n",
       "      <th>Ti</th>\n",
       "      <th>Mn</th>\n",
       "      <th>Mg</th>\n",
       "      <th>...</th>\n",
       "      <th>Ti/NbTa</th>\n",
       "      <th>Ti/FeNbTa</th>\n",
       "      <th>Ti/Nb</th>\n",
       "      <th>Ti/Ta</th>\n",
       "      <th>Ti/Sn</th>\n",
       "      <th>Ta#</th>\n",
       "      <th>Mn#</th>\n",
       "      <th>FeMnNb2</th>\n",
       "      <th>FeMnTa2</th>\n",
       "      <th>TiSn3</th>\n",
       "    </tr>\n",
       "  </thead>\n",
       "  <tbody>\n",
       "    <tr>\n",
       "      <th>0</th>\n",
       "      <td>BU19TS(2)</td>\n",
       "      <td>Ore1</td>\n",
       "      <td>BU19TS(2)-ore1.1</td>\n",
       "      <td>patchy</td>\n",
       "      <td>rutile</td>\n",
       "      <td>0.004586</td>\n",
       "      <td>0.059936</td>\n",
       "      <td>0.824603</td>\n",
       "      <td>0.000203</td>\n",
       "      <td>0.000000</td>\n",
       "      <td>...</td>\n",
       "      <td>8.117834</td>\n",
       "      <td>4.520213</td>\n",
       "      <td>19.801781</td>\n",
       "      <td>13.757984</td>\n",
       "      <td>184.958848</td>\n",
       "      <td>0.590045</td>\n",
       "      <td>0.002510</td>\n",
       "      <td>0.164336</td>\n",
       "      <td>0.200923</td>\n",
       "      <td>2.487184</td>\n",
       "    </tr>\n",
       "    <tr>\n",
       "      <th>1</th>\n",
       "      <td>BU19TS(2)</td>\n",
       "      <td>Ore1</td>\n",
       "      <td>BU19TS(2)-ore1.2</td>\n",
       "      <td>core</td>\n",
       "      <td>rutile</td>\n",
       "      <td>0.005079</td>\n",
       "      <td>0.030841</td>\n",
       "      <td>0.853289</td>\n",
       "      <td>0.000076</td>\n",
       "      <td>0.000000</td>\n",
       "      <td>...</td>\n",
       "      <td>10.116425</td>\n",
       "      <td>5.864168</td>\n",
       "      <td>15.947536</td>\n",
       "      <td>27.667463</td>\n",
       "      <td>124.583648</td>\n",
       "      <td>0.365643</td>\n",
       "      <td>0.001248</td>\n",
       "      <td>0.168250</td>\n",
       "      <td>0.122920</td>\n",
       "      <td>2.580414</td>\n",
       "    </tr>\n",
       "    <tr>\n",
       "      <th>2</th>\n",
       "      <td>BU19TS(2)</td>\n",
       "      <td>Ore1</td>\n",
       "      <td>BU19TS(2)-ore1.3</td>\n",
       "      <td>rim</td>\n",
       "      <td>rutile</td>\n",
       "      <td>0.136536</td>\n",
       "      <td>0.051377</td>\n",
       "      <td>0.732472</td>\n",
       "      <td>0.000887</td>\n",
       "      <td>0.000000</td>\n",
       "      <td>...</td>\n",
       "      <td>7.386743</td>\n",
       "      <td>4.297544</td>\n",
       "      <td>15.329088</td>\n",
       "      <td>14.256753</td>\n",
       "      <td>143.858314</td>\n",
       "      <td>0.518122</td>\n",
       "      <td>0.012297</td>\n",
       "      <td>0.167733</td>\n",
       "      <td>0.174921</td>\n",
       "      <td>2.212691</td>\n",
       "    </tr>\n",
       "    <tr>\n",
       "      <th>3</th>\n",
       "      <td>BU19TS(2)</td>\n",
       "      <td>Ore1</td>\n",
       "      <td>BU19TS(2)-ore1.4</td>\n",
       "      <td>core</td>\n",
       "      <td>rutile</td>\n",
       "      <td>0.005556</td>\n",
       "      <td>0.026573</td>\n",
       "      <td>0.855449</td>\n",
       "      <td>0.000808</td>\n",
       "      <td>0.000000</td>\n",
       "      <td>...</td>\n",
       "      <td>10.416776</td>\n",
       "      <td>6.152805</td>\n",
       "      <td>15.399881</td>\n",
       "      <td>32.192205</td>\n",
       "      <td>96.432318</td>\n",
       "      <td>0.323581</td>\n",
       "      <td>0.013998</td>\n",
       "      <td>0.168818</td>\n",
       "      <td>0.110866</td>\n",
       "      <td>2.592961</td>\n",
       "    </tr>\n",
       "    <tr>\n",
       "      <th>4</th>\n",
       "      <td>BU19TS(2)</td>\n",
       "      <td>Ore1</td>\n",
       "      <td>BU19TS(2)-ore1.5</td>\n",
       "      <td>rim</td>\n",
       "      <td>rutile</td>\n",
       "      <td>0.004474</td>\n",
       "      <td>0.042138</td>\n",
       "      <td>0.837046</td>\n",
       "      <td>0.000134</td>\n",
       "      <td>0.000000</td>\n",
       "      <td>...</td>\n",
       "      <td>8.689104</td>\n",
       "      <td>5.229137</td>\n",
       "      <td>15.445121</td>\n",
       "      <td>19.864406</td>\n",
       "      <td>115.537796</td>\n",
       "      <td>0.437421</td>\n",
       "      <td>0.002100</td>\n",
       "      <td>0.172264</td>\n",
       "      <td>0.148151</td>\n",
       "      <td>2.532873</td>\n",
       "    </tr>\n",
       "    <tr>\n",
       "      <th>...</th>\n",
       "      <td>...</td>\n",
       "      <td>...</td>\n",
       "      <td>...</td>\n",
       "      <td>...</td>\n",
       "      <td>...</td>\n",
       "      <td>...</td>\n",
       "      <td>...</td>\n",
       "      <td>...</td>\n",
       "      <td>...</td>\n",
       "      <td>...</td>\n",
       "      <td>...</td>\n",
       "      <td>...</td>\n",
       "      <td>...</td>\n",
       "      <td>...</td>\n",
       "      <td>...</td>\n",
       "      <td>...</td>\n",
       "      <td>...</td>\n",
       "      <td>...</td>\n",
       "      <td>...</td>\n",
       "      <td>...</td>\n",
       "      <td>...</td>\n",
       "    </tr>\n",
       "    <tr>\n",
       "      <th>87</th>\n",
       "      <td>BU04</td>\n",
       "      <td>Ore2</td>\n",
       "      <td>BU04-Ore2_coltan1</td>\n",
       "      <td>rim</td>\n",
       "      <td>rutile</td>\n",
       "      <td>0.051701</td>\n",
       "      <td>0.095104</td>\n",
       "      <td>0.524222</td>\n",
       "      <td>0.044977</td>\n",
       "      <td>0.000000</td>\n",
       "      <td>...</td>\n",
       "      <td>1.890652</td>\n",
       "      <td>1.344612</td>\n",
       "      <td>2.877703</td>\n",
       "      <td>5.512110</td>\n",
       "      <td>46.416590</td>\n",
       "      <td>0.343000</td>\n",
       "      <td>0.285432</td>\n",
       "      <td>0.521909</td>\n",
       "      <td>0.347782</td>\n",
       "      <td>1.606546</td>\n",
       "    </tr>\n",
       "    <tr>\n",
       "      <th>88</th>\n",
       "      <td>BU19TS(1)</td>\n",
       "      <td>Ore1</td>\n",
       "      <td>BU19TS(1)-rutile1.3</td>\n",
       "      <td>core</td>\n",
       "      <td>rutile</td>\n",
       "      <td>0.028596</td>\n",
       "      <td>0.055664</td>\n",
       "      <td>0.863925</td>\n",
       "      <td>0.001623</td>\n",
       "      <td>0.000000</td>\n",
       "      <td>...</td>\n",
       "      <td>12.987717</td>\n",
       "      <td>7.643243</td>\n",
       "      <td>79.591271</td>\n",
       "      <td>15.520327</td>\n",
       "      <td>116.564163</td>\n",
       "      <td>0.836820</td>\n",
       "      <td>0.033718</td>\n",
       "      <td>0.069845</td>\n",
       "      <td>0.159464</td>\n",
       "      <td>2.614010</td>\n",
       "    </tr>\n",
       "    <tr>\n",
       "      <th>89</th>\n",
       "      <td>BU19TS(1)</td>\n",
       "      <td>Ore1</td>\n",
       "      <td>BU19TS(1)-rutile1.4</td>\n",
       "      <td>core</td>\n",
       "      <td>rutile</td>\n",
       "      <td>0.018926</td>\n",
       "      <td>0.048892</td>\n",
       "      <td>0.875627</td>\n",
       "      <td>0.001681</td>\n",
       "      <td>0.001021</td>\n",
       "      <td>...</td>\n",
       "      <td>13.990902</td>\n",
       "      <td>8.023885</td>\n",
       "      <td>63.947262</td>\n",
       "      <td>17.909229</td>\n",
       "      <td>119.544429</td>\n",
       "      <td>0.781212</td>\n",
       "      <td>0.034855</td>\n",
       "      <td>0.075609</td>\n",
       "      <td>0.146008</td>\n",
       "      <td>2.648854</td>\n",
       "    </tr>\n",
       "    <tr>\n",
       "      <th>90</th>\n",
       "      <td>BU19TS(1)</td>\n",
       "      <td>Ore2</td>\n",
       "      <td>Rut2.1</td>\n",
       "      <td>core</td>\n",
       "      <td>rutile</td>\n",
       "      <td>0.004201</td>\n",
       "      <td>0.024823</td>\n",
       "      <td>0.916692</td>\n",
       "      <td>0.000008</td>\n",
       "      <td>0.000000</td>\n",
       "      <td>...</td>\n",
       "      <td>24.252325</td>\n",
       "      <td>12.631577</td>\n",
       "      <td>70.650532</td>\n",
       "      <td>36.929007</td>\n",
       "      <td>59.069659</td>\n",
       "      <td>0.656728</td>\n",
       "      <td>0.000239</td>\n",
       "      <td>0.060732</td>\n",
       "      <td>0.084428</td>\n",
       "      <td>2.796632</td>\n",
       "    </tr>\n",
       "    <tr>\n",
       "      <th>91</th>\n",
       "      <td>BU19TS(1)</td>\n",
       "      <td>Ore2</td>\n",
       "      <td>Rut2.2</td>\n",
       "      <td>rim</td>\n",
       "      <td>rutile</td>\n",
       "      <td>0.004217</td>\n",
       "      <td>0.018241</td>\n",
       "      <td>0.928788</td>\n",
       "      <td>0.000000</td>\n",
       "      <td>0.000000</td>\n",
       "      <td>...</td>\n",
       "      <td>30.146332</td>\n",
       "      <td>15.284554</td>\n",
       "      <td>73.901991</td>\n",
       "      <td>50.916248</td>\n",
       "      <td>63.795234</td>\n",
       "      <td>0.592077</td>\n",
       "      <td>0.000000</td>\n",
       "      <td>0.055093</td>\n",
       "      <td>0.066440</td>\n",
       "      <td>2.830041</td>\n",
       "    </tr>\n",
       "  </tbody>\n",
       "</table>\n",
       "<p>92 rows × 33 columns</p>\n",
       "</div>"
      ],
      "text/plain": [
       "       Sample  Area              Comment Context Mineral        Al        Ta  \\\n",
       "0   BU19TS(2)  Ore1     BU19TS(2)-ore1.1  patchy  rutile  0.004586  0.059936   \n",
       "1   BU19TS(2)  Ore1     BU19TS(2)-ore1.2    core  rutile  0.005079  0.030841   \n",
       "2   BU19TS(2)  Ore1     BU19TS(2)-ore1.3     rim  rutile  0.136536  0.051377   \n",
       "3   BU19TS(2)  Ore1     BU19TS(2)-ore1.4    core  rutile  0.005556  0.026573   \n",
       "4   BU19TS(2)  Ore1     BU19TS(2)-ore1.5     rim  rutile  0.004474  0.042138   \n",
       "..        ...   ...                  ...     ...     ...       ...       ...   \n",
       "87       BU04  Ore2   BU04-Ore2_coltan1      rim  rutile  0.051701  0.095104   \n",
       "88  BU19TS(1)  Ore1  BU19TS(1)-rutile1.3    core  rutile  0.028596  0.055664   \n",
       "89  BU19TS(1)  Ore1  BU19TS(1)-rutile1.4    core  rutile  0.018926  0.048892   \n",
       "90  BU19TS(1)  Ore2               Rut2.1    core  rutile  0.004201  0.024823   \n",
       "91  BU19TS(1)  Ore2               Rut2.2     rim  rutile  0.004217  0.018241   \n",
       "\n",
       "          Ti        Mn        Mg  ...    Ti/NbTa  Ti/FeNbTa      Ti/Nb  \\\n",
       "0   0.824603  0.000203  0.000000  ...   8.117834   4.520213  19.801781   \n",
       "1   0.853289  0.000076  0.000000  ...  10.116425   5.864168  15.947536   \n",
       "2   0.732472  0.000887  0.000000  ...   7.386743   4.297544  15.329088   \n",
       "3   0.855449  0.000808  0.000000  ...  10.416776   6.152805  15.399881   \n",
       "4   0.837046  0.000134  0.000000  ...   8.689104   5.229137  15.445121   \n",
       "..       ...       ...       ...  ...        ...        ...        ...   \n",
       "87  0.524222  0.044977  0.000000  ...   1.890652   1.344612   2.877703   \n",
       "88  0.863925  0.001623  0.000000  ...  12.987717   7.643243  79.591271   \n",
       "89  0.875627  0.001681  0.001021  ...  13.990902   8.023885  63.947262   \n",
       "90  0.916692  0.000008  0.000000  ...  24.252325  12.631577  70.650532   \n",
       "91  0.928788  0.000000  0.000000  ...  30.146332  15.284554  73.901991   \n",
       "\n",
       "        Ti/Ta       Ti/Sn       Ta#       Mn#   FeMnNb2   FeMnTa2     TiSn3  \n",
       "0   13.757984  184.958848  0.590045  0.002510  0.164336  0.200923  2.487184  \n",
       "1   27.667463  124.583648  0.365643  0.001248  0.168250  0.122920  2.580414  \n",
       "2   14.256753  143.858314  0.518122  0.012297  0.167733  0.174921  2.212691  \n",
       "3   32.192205   96.432318  0.323581  0.013998  0.168818  0.110866  2.592961  \n",
       "4   19.864406  115.537796  0.437421  0.002100  0.172264  0.148151  2.532873  \n",
       "..        ...         ...       ...       ...       ...       ...       ...  \n",
       "87   5.512110   46.416590  0.343000  0.285432  0.521909  0.347782  1.606546  \n",
       "88  15.520327  116.564163  0.836820  0.033718  0.069845  0.159464  2.614010  \n",
       "89  17.909229  119.544429  0.781212  0.034855  0.075609  0.146008  2.648854  \n",
       "90  36.929007   59.069659  0.656728  0.000239  0.060732  0.084428  2.796632  \n",
       "91  50.916248   63.795234  0.592077  0.000000  0.055093  0.066440  2.830041  \n",
       "\n",
       "[92 rows x 33 columns]"
      ]
     },
     "execution_count": 2,
     "metadata": {},
     "output_type": "execute_result"
    }
   ],
   "source": [
    "# --- create dataframe from excel spreadsheet using pandas import command \n",
    "\n",
    "df_analysis = pd.read_csv('_DATA/Ore_WDS_apfu.csv', \n",
    "                          encoding = \"ANSI\")\n",
    "\n",
    "# --- fill with 0.0 data where there are no values \n",
    "\n",
    "df_analysis = df_analysis.fillna(0.0)\n",
    "\n",
    "# --- add relevant sums and ratios to dataframe  \n",
    "\n",
    "df_analysis['NbTa'] = df_analysis['Nb'] + df_analysis['Ta']\n",
    "df_analysis['FeMn'] = df_analysis['Fe'] + df_analysis['Mn']\n",
    "df_analysis['TiSn'] = df_analysis['Ti'] + df_analysis['Sn']\n",
    "df_analysis['FeTa'] = df_analysis['Fe'] + df_analysis['Ta']\n",
    "df_analysis['MnNb'] = df_analysis['Mn'] + df_analysis['Nb']\n",
    "df_analysis['FeNbTa'] = df_analysis['Fe'] + df_analysis['Nb'] + df_analysis['Ta']\n",
    "\n",
    "df_analysis['Fe/Mn'] = df_analysis['Fe'] / df_analysis['Mn']\n",
    "df_analysis['Nb/Ta'] = df_analysis['Nb'] / df_analysis['Ta']\n",
    "df_analysis['Ti/NbTa'] = df_analysis['Ti'] / df_analysis['NbTa']\n",
    "df_analysis['Ti/FeNbTa'] = df_analysis['Ti'] / df_analysis['FeNbTa']\n",
    "df_analysis['Ti/Nb'] = df_analysis['Ti'] / df_analysis['Nb']\n",
    "df_analysis['Ti/Ta'] = df_analysis['Ti'] / df_analysis['Ta']\n",
    "df_analysis['Ti/Sn'] = df_analysis['Ti'] / df_analysis['Sn']\n",
    "df_analysis['Ta#'] = df_analysis['Ta'] / df_analysis['NbTa']\n",
    "df_analysis['Mn#'] = df_analysis['Mn'] / df_analysis['FeMn']\n",
    "\n",
    "df_analysis['FeMnNb2'] = df_analysis['FeMn'] + (2*df_analysis['Nb'])\n",
    "df_analysis['FeMnTa2'] = df_analysis['FeMn'] + (2*df_analysis['Ta'])\n",
    "df_analysis['TiSn3'] = df_analysis['TiSn'] * 3\n",
    "\n",
    "df_analysis"
   ]
  },
  {
   "cell_type": "code",
   "execution_count": 4,
   "metadata": {},
   "outputs": [
    {
     "data": {
      "text/plain": [
       "Index(['Sample', 'Area', 'Comment', 'Context', 'Mineral', 'Al', 'Ta', 'Ti',\n",
       "       'Mn', 'Mg', 'Fe', 'Sn', 'Ca', 'Nb', 'sum', 'NbTa', 'FeMn', 'TiSn',\n",
       "       'FeTa', 'MnNb', 'FeNbTa', 'Fe/Mn', 'Nb/Ta', 'Ti/NbTa', 'Ti/FeNbTa',\n",
       "       'Ti/Nb', 'Ti/Ta', 'Ti/Sn', 'Ta#', 'Mn#', 'FeMnNb2', 'FeMnTa2'],\n",
       "      dtype='object')"
      ]
     },
     "execution_count": 4,
     "metadata": {},
     "output_type": "execute_result"
    }
   ],
   "source": [
    "# --- print the colums of the imported dataframe for later use if required\n",
    "\n",
    "df_analysis.columns\n"
   ]
  },
  {
   "cell_type": "code",
   "execution_count": 3,
   "metadata": {},
   "outputs": [
    {
     "data": {
      "text/html": [
       "<div>\n",
       "<style scoped>\n",
       "    .dataframe tbody tr th:only-of-type {\n",
       "        vertical-align: middle;\n",
       "    }\n",
       "\n",
       "    .dataframe tbody tr th {\n",
       "        vertical-align: top;\n",
       "    }\n",
       "\n",
       "    .dataframe thead th {\n",
       "        text-align: right;\n",
       "    }\n",
       "</style>\n",
       "<table border=\"1\" class=\"dataframe\">\n",
       "  <thead>\n",
       "    <tr style=\"text-align: right;\">\n",
       "      <th></th>\n",
       "      <th>Sample</th>\n",
       "      <th>Area</th>\n",
       "      <th>Comment</th>\n",
       "      <th>Context</th>\n",
       "      <th>Mineral</th>\n",
       "      <th>Al</th>\n",
       "      <th>Ta</th>\n",
       "      <th>Ti</th>\n",
       "      <th>Mn</th>\n",
       "      <th>Mg</th>\n",
       "      <th>...</th>\n",
       "      <th>Ti/NbTa</th>\n",
       "      <th>Ti/FeNbTa</th>\n",
       "      <th>Ti/Nb</th>\n",
       "      <th>Ti/Ta</th>\n",
       "      <th>Ti/Sn</th>\n",
       "      <th>Ta#</th>\n",
       "      <th>Mn#</th>\n",
       "      <th>FeMnNb2</th>\n",
       "      <th>FeMnTa2</th>\n",
       "      <th>TiSn3</th>\n",
       "    </tr>\n",
       "  </thead>\n",
       "  <tbody>\n",
       "    <tr>\n",
       "      <th>42</th>\n",
       "      <td>BU04</td>\n",
       "      <td>Ore1</td>\n",
       "      <td>BU04-Ore1.2</td>\n",
       "      <td>patchy</td>\n",
       "      <td>coltan</td>\n",
       "      <td>0.036266</td>\n",
       "      <td>0.114460</td>\n",
       "      <td>0.037710</td>\n",
       "      <td>0.577711</td>\n",
       "      <td>0.0</td>\n",
       "      <td>...</td>\n",
       "      <td>0.019343</td>\n",
       "      <td>0.016018</td>\n",
       "      <td>0.020550</td>\n",
       "      <td>0.329461</td>\n",
       "      <td>17.515642</td>\n",
       "      <td>0.058712</td>\n",
       "      <td>0.588072</td>\n",
       "      <td>4.652496</td>\n",
       "      <td>1.211301</td>\n",
       "      <td>0.119589</td>\n",
       "    </tr>\n",
       "    <tr>\n",
       "      <th>43</th>\n",
       "      <td>BU04</td>\n",
       "      <td>Ore1</td>\n",
       "      <td>BU04-Ore1.3</td>\n",
       "      <td>rim</td>\n",
       "      <td>coltan</td>\n",
       "      <td>0.002433</td>\n",
       "      <td>0.498909</td>\n",
       "      <td>0.060786</td>\n",
       "      <td>0.429194</td>\n",
       "      <td>0.0</td>\n",
       "      <td>...</td>\n",
       "      <td>0.031029</td>\n",
       "      <td>0.024526</td>\n",
       "      <td>0.041631</td>\n",
       "      <td>0.121837</td>\n",
       "      <td>4.541668</td>\n",
       "      <td>0.254675</td>\n",
       "      <td>0.452428</td>\n",
       "      <td>3.868836</td>\n",
       "      <td>1.946465</td>\n",
       "      <td>0.222509</td>\n",
       "    </tr>\n",
       "    <tr>\n",
       "      <th>44</th>\n",
       "      <td>BU04</td>\n",
       "      <td>Ore1</td>\n",
       "      <td>BU04-Ore1.4</td>\n",
       "      <td>rim</td>\n",
       "      <td>coltan</td>\n",
       "      <td>0.001376</td>\n",
       "      <td>0.436013</td>\n",
       "      <td>0.070937</td>\n",
       "      <td>0.525090</td>\n",
       "      <td>0.0</td>\n",
       "      <td>...</td>\n",
       "      <td>0.036436</td>\n",
       "      <td>0.029768</td>\n",
       "      <td>0.046951</td>\n",
       "      <td>0.162695</td>\n",
       "      <td>5.404760</td>\n",
       "      <td>0.223953</td>\n",
       "      <td>0.546292</td>\n",
       "      <td>3.982949</td>\n",
       "      <td>1.833216</td>\n",
       "      <td>0.252187</td>\n",
       "    </tr>\n",
       "    <tr>\n",
       "      <th>45</th>\n",
       "      <td>BU04</td>\n",
       "      <td>Ore1</td>\n",
       "      <td>BU04-Ore1.5</td>\n",
       "      <td>core</td>\n",
       "      <td>coltan</td>\n",
       "      <td>0.004017</td>\n",
       "      <td>0.317033</td>\n",
       "      <td>0.071461</td>\n",
       "      <td>0.500646</td>\n",
       "      <td>0.0</td>\n",
       "      <td>...</td>\n",
       "      <td>0.036792</td>\n",
       "      <td>0.029674</td>\n",
       "      <td>0.043969</td>\n",
       "      <td>0.225407</td>\n",
       "      <td>6.001381</td>\n",
       "      <td>0.163225</td>\n",
       "      <td>0.517981</td>\n",
       "      <td>4.217068</td>\n",
       "      <td>1.600600</td>\n",
       "      <td>0.250107</td>\n",
       "    </tr>\n",
       "    <tr>\n",
       "      <th>46</th>\n",
       "      <td>BU04</td>\n",
       "      <td>Ore1</td>\n",
       "      <td>BU04-Ore1.6</td>\n",
       "      <td>core</td>\n",
       "      <td>coltan</td>\n",
       "      <td>0.003331</td>\n",
       "      <td>0.279643</td>\n",
       "      <td>0.089239</td>\n",
       "      <td>0.498780</td>\n",
       "      <td>0.0</td>\n",
       "      <td>...</td>\n",
       "      <td>0.046456</td>\n",
       "      <td>0.037025</td>\n",
       "      <td>0.054371</td>\n",
       "      <td>0.319120</td>\n",
       "      <td>7.251686</td>\n",
       "      <td>0.145576</td>\n",
       "      <td>0.504785</td>\n",
       "      <td>4.270706</td>\n",
       "      <td>1.547388</td>\n",
       "      <td>0.304636</td>\n",
       "    </tr>\n",
       "    <tr>\n",
       "      <th>47</th>\n",
       "      <td>BU04</td>\n",
       "      <td>Ore1</td>\n",
       "      <td>BU04-Ore1.7</td>\n",
       "      <td>core</td>\n",
       "      <td>coltan</td>\n",
       "      <td>0.000724</td>\n",
       "      <td>0.293060</td>\n",
       "      <td>0.092193</td>\n",
       "      <td>0.473174</td>\n",
       "      <td>0.0</td>\n",
       "      <td>...</td>\n",
       "      <td>0.047785</td>\n",
       "      <td>0.038077</td>\n",
       "      <td>0.056344</td>\n",
       "      <td>0.314586</td>\n",
       "      <td>7.071631</td>\n",
       "      <td>0.151899</td>\n",
       "      <td>0.490284</td>\n",
       "      <td>4.237613</td>\n",
       "      <td>1.551222</td>\n",
       "      <td>0.315689</td>\n",
       "    </tr>\n",
       "    <tr>\n",
       "      <th>48</th>\n",
       "      <td>BU04</td>\n",
       "      <td>Ore1</td>\n",
       "      <td>BU04-Ore1.8</td>\n",
       "      <td>patchy</td>\n",
       "      <td>coltan</td>\n",
       "      <td>0.000721</td>\n",
       "      <td>0.310927</td>\n",
       "      <td>0.055666</td>\n",
       "      <td>0.530645</td>\n",
       "      <td>0.0</td>\n",
       "      <td>...</td>\n",
       "      <td>0.028452</td>\n",
       "      <td>0.023189</td>\n",
       "      <td>0.033828</td>\n",
       "      <td>0.179031</td>\n",
       "      <td>5.159588</td>\n",
       "      <td>0.158923</td>\n",
       "      <td>0.544448</td>\n",
       "      <td>4.265731</td>\n",
       "      <td>1.596501</td>\n",
       "      <td>0.199363</td>\n",
       "    </tr>\n",
       "    <tr>\n",
       "      <th>49</th>\n",
       "      <td>BU04</td>\n",
       "      <td>Ore1</td>\n",
       "      <td>BU04-Ore1.9</td>\n",
       "      <td>rim</td>\n",
       "      <td>coltan</td>\n",
       "      <td>0.002045</td>\n",
       "      <td>0.328565</td>\n",
       "      <td>0.094596</td>\n",
       "      <td>0.502133</td>\n",
       "      <td>0.0</td>\n",
       "      <td>...</td>\n",
       "      <td>0.049273</td>\n",
       "      <td>0.039684</td>\n",
       "      <td>0.059447</td>\n",
       "      <td>0.287907</td>\n",
       "      <td>4.801065</td>\n",
       "      <td>0.171143</td>\n",
       "      <td>0.519791</td>\n",
       "      <td>4.148555</td>\n",
       "      <td>1.623158</td>\n",
       "      <td>0.342897</td>\n",
       "    </tr>\n",
       "    <tr>\n",
       "      <th>50</th>\n",
       "      <td>BU04</td>\n",
       "      <td>Ore1</td>\n",
       "      <td>BU04-Ore1.10</td>\n",
       "      <td>patchy</td>\n",
       "      <td>coltan</td>\n",
       "      <td>0.000000</td>\n",
       "      <td>0.358935</td>\n",
       "      <td>0.031547</td>\n",
       "      <td>0.546470</td>\n",
       "      <td>0.0</td>\n",
       "      <td>...</td>\n",
       "      <td>0.015963</td>\n",
       "      <td>0.013074</td>\n",
       "      <td>0.019505</td>\n",
       "      <td>0.087890</td>\n",
       "      <td>5.319665</td>\n",
       "      <td>0.181623</td>\n",
       "      <td>0.555840</td>\n",
       "      <td>4.217798</td>\n",
       "      <td>1.701014</td>\n",
       "      <td>0.112430</td>\n",
       "    </tr>\n",
       "  </tbody>\n",
       "</table>\n",
       "<p>9 rows × 33 columns</p>\n",
       "</div>"
      ],
      "text/plain": [
       "   Sample  Area        Comment Context Mineral        Al        Ta        Ti  \\\n",
       "42   BU04  Ore1   BU04-Ore1.2   patchy  coltan  0.036266  0.114460  0.037710   \n",
       "43   BU04  Ore1   BU04-Ore1.3      rim  coltan  0.002433  0.498909  0.060786   \n",
       "44   BU04  Ore1   BU04-Ore1.4      rim  coltan  0.001376  0.436013  0.070937   \n",
       "45   BU04  Ore1   BU04-Ore1.5     core  coltan  0.004017  0.317033  0.071461   \n",
       "46   BU04  Ore1   BU04-Ore1.6     core  coltan  0.003331  0.279643  0.089239   \n",
       "47   BU04  Ore1   BU04-Ore1.7     core  coltan  0.000724  0.293060  0.092193   \n",
       "48   BU04  Ore1   BU04-Ore1.8   patchy  coltan  0.000721  0.310927  0.055666   \n",
       "49   BU04  Ore1   BU04-Ore1.9      rim  coltan  0.002045  0.328565  0.094596   \n",
       "50   BU04  Ore1  BU04-Ore1.10   patchy  coltan  0.000000  0.358935  0.031547   \n",
       "\n",
       "          Mn   Mg  ...   Ti/NbTa  Ti/FeNbTa     Ti/Nb     Ti/Ta      Ti/Sn  \\\n",
       "42  0.577711  0.0  ...  0.019343   0.016018  0.020550  0.329461  17.515642   \n",
       "43  0.429194  0.0  ...  0.031029   0.024526  0.041631  0.121837   4.541668   \n",
       "44  0.525090  0.0  ...  0.036436   0.029768  0.046951  0.162695   5.404760   \n",
       "45  0.500646  0.0  ...  0.036792   0.029674  0.043969  0.225407   6.001381   \n",
       "46  0.498780  0.0  ...  0.046456   0.037025  0.054371  0.319120   7.251686   \n",
       "47  0.473174  0.0  ...  0.047785   0.038077  0.056344  0.314586   7.071631   \n",
       "48  0.530645  0.0  ...  0.028452   0.023189  0.033828  0.179031   5.159588   \n",
       "49  0.502133  0.0  ...  0.049273   0.039684  0.059447  0.287907   4.801065   \n",
       "50  0.546470  0.0  ...  0.015963   0.013074  0.019505  0.087890   5.319665   \n",
       "\n",
       "         Ta#       Mn#   FeMnNb2   FeMnTa2     TiSn3  \n",
       "42  0.058712  0.588072  4.652496  1.211301  0.119589  \n",
       "43  0.254675  0.452428  3.868836  1.946465  0.222509  \n",
       "44  0.223953  0.546292  3.982949  1.833216  0.252187  \n",
       "45  0.163225  0.517981  4.217068  1.600600  0.250107  \n",
       "46  0.145576  0.504785  4.270706  1.547388  0.304636  \n",
       "47  0.151899  0.490284  4.237613  1.551222  0.315689  \n",
       "48  0.158923  0.544448  4.265731  1.596501  0.199363  \n",
       "49  0.171143  0.519791  4.148555  1.623158  0.342897  \n",
       "50  0.181623  0.555840  4.217798  1.701014  0.112430  \n",
       "\n",
       "[9 rows x 33 columns]"
      ]
     },
     "execution_count": 3,
     "metadata": {},
     "output_type": "execute_result"
    }
   ],
   "source": [
    "# --- filter the dataframe to specific conditions\n",
    "\n",
    "df_query = df_analysis.query('Sample == \"BU04\"').query('Area==\"Ore1\"')\n",
    "#df_query = df_analysis.query('Mineral == \"coltan\"')\n",
    "\n",
    "df_query\n"
   ]
  },
  {
   "cell_type": "code",
   "execution_count": 8,
   "metadata": {
    "scrolled": true
   },
   "outputs": [
    {
     "data": {
      "application/vnd.plotly.v1+json": {
       "config": {
        "plotlyServerURL": "https://plot.ly"
       },
       "data": [
        {
         "customdata": [
          [
           "BU04-Ore1.2 "
          ],
          [
           "BU04-Ore1.8 "
          ],
          [
           "BU04-Ore1.10 "
          ]
         ],
         "hoverlabel": {
          "namelength": 0
         },
         "hovertemplate": "Sample=BU04<br>Context=patchy<br>Mn#=%{x}<br>Ti=%{y}<br>Comment=%{customdata[0]}",
         "legendgroup": "Sample=BU04, Context=patchy",
         "marker": {
          "color": "#636efa",
          "symbol": "circle"
         },
         "mode": "markers",
         "name": "Sample=BU04, Context=patchy",
         "showlegend": true,
         "textposition": "top center",
         "type": "scatter",
         "x": [
          0.5880719650776499,
          0.5444484121619098,
          0.5558396469370026
         ],
         "xaxis": "x",
         "y": [
          0.037709951,
          0.055665698,
          0.031546619
         ],
         "yaxis": "y"
        },
        {
         "customdata": [
          [
           "BU04-Ore1.3 "
          ],
          [
           "BU04-Ore1.4 "
          ],
          [
           "BU04-Ore1.9 "
          ]
         ],
         "hoverlabel": {
          "namelength": 0
         },
         "hovertemplate": "Sample=BU04<br>Context=rim<br>Mn#=%{x}<br>Ti=%{y}<br>Comment=%{customdata[0]}",
         "legendgroup": "Sample=BU04, Context=rim",
         "marker": {
          "color": "#636efa",
          "symbol": "diamond"
         },
         "mode": "markers",
         "name": "Sample=BU04, Context=rim",
         "showlegend": true,
         "textposition": "top center",
         "type": "scatter",
         "x": [
          0.4524275818233711,
          0.546292392837652,
          0.5197908222535019
         ],
         "xaxis": "x",
         "y": [
          0.060785671,
          0.070937232,
          0.094596015
         ],
         "yaxis": "y"
        },
        {
         "customdata": [
          [
           "BU04-Ore1.5 "
          ],
          [
           "BU04-Ore1.6 "
          ],
          [
           "BU04-Ore1.7 "
          ],
          [
           "BU04-Ore2_coltan2 "
          ]
         ],
         "hoverlabel": {
          "namelength": 0
         },
         "hovertemplate": "Sample=BU04<br>Context=core<br>Mn#=%{x}<br>Ti=%{y}<br>Comment=%{customdata[0]}",
         "legendgroup": "Sample=BU04, Context=core",
         "marker": {
          "color": "#636efa",
          "symbol": "square"
         },
         "mode": "markers",
         "name": "Sample=BU04, Context=core",
         "showlegend": true,
         "textposition": "top center",
         "type": "scatter",
         "x": [
          0.5179807623454434,
          0.504785487955155,
          0.49028403393990183,
          0.3870186547558688
         ],
         "xaxis": "x",
         "y": [
          0.071461482,
          0.089239432,
          0.092192707,
          0.292688899
         ],
         "yaxis": "y"
        },
        {
         "customdata": [
          [
           "BU19TS-coltan1.3 "
          ],
          [
           "BU19TS-coltan2.4 "
          ],
          [
           "BU19TS-coltan2.5 "
          ]
         ],
         "hoverlabel": {
          "namelength": 0
         },
         "hovertemplate": "Sample=BU19TS<br>Context=patchy<br>Mn#=%{x}<br>Ti=%{y}<br>Comment=%{customdata[0]}",
         "legendgroup": "Sample=BU19TS, Context=patchy",
         "marker": {
          "color": "#EF553B",
          "symbol": "circle"
         },
         "mode": "markers",
         "name": "Sample=BU19TS, Context=patchy",
         "showlegend": true,
         "textposition": "top center",
         "type": "scatter",
         "x": [
          0.47243514545638016,
          0.5102247361414852,
          0.47673158273453814
         ],
         "xaxis": "x",
         "y": [
          0.093953323,
          0.075251448,
          0.074755012
         ],
         "yaxis": "y"
        },
        {
         "customdata": [
          [
           "BU19TS-coltan1.1 "
          ],
          [
           "BU19TS-coltan1.5 "
          ],
          [
           "BU19TS-coltan1.6 "
          ],
          [
           "BU19TS-coltan2.6 "
          ],
          [
           "BU19TS-coltan3.1 "
          ]
         ],
         "hoverlabel": {
          "namelength": 0
         },
         "hovertemplate": "Sample=BU19TS<br>Context=rim<br>Mn#=%{x}<br>Ti=%{y}<br>Comment=%{customdata[0]}",
         "legendgroup": "Sample=BU19TS, Context=rim",
         "marker": {
          "color": "#EF553B",
          "symbol": "diamond"
         },
         "mode": "markers",
         "name": "Sample=BU19TS, Context=rim",
         "showlegend": true,
         "textposition": "top center",
         "type": "scatter",
         "x": [
          0.4022997240338961,
          0.3877491194353499,
          0.41537822929335316,
          0.4617597265855764,
          0.44293364601970264
         ],
         "xaxis": "x",
         "y": [
          0.11823928800000001,
          0.129428069,
          0.13191317800000002,
          0.10355858800000001,
          0.09660786699999999
         ],
         "yaxis": "y"
        },
        {
         "customdata": [
          [
           "BU19TS-coltan1.2 "
          ],
          [
           "BU19TS-coltan1.4 "
          ],
          [
           "BU19TS-coltan1.7 "
          ],
          [
           "BU19TS-coltan2.2 "
          ],
          [
           "BU19TS-coltan2.3 "
          ],
          [
           "BU19TS-coltan3.2 "
          ],
          [
           "BU19TS-coltan3.3 "
          ]
         ],
         "hoverlabel": {
          "namelength": 0
         },
         "hovertemplate": "Sample=BU19TS<br>Context=core<br>Mn#=%{x}<br>Ti=%{y}<br>Comment=%{customdata[0]}",
         "legendgroup": "Sample=BU19TS, Context=core",
         "marker": {
          "color": "#EF553B",
          "symbol": "square"
         },
         "mode": "markers",
         "name": "Sample=BU19TS, Context=core",
         "showlegend": true,
         "textposition": "top center",
         "type": "scatter",
         "x": [
          0.4275437489714471,
          0.42151050055833994,
          0.38714057702011145,
          0.42838866120275765,
          0.4301549892219596,
          0.37990587662756564,
          0.4227847467236893
         ],
         "xaxis": "x",
         "y": [
          0.09340456,
          0.1063619,
          0.139499887,
          0.07980268,
          0.07893354799999999,
          0.160579001,
          0.114794069
         ],
         "yaxis": "y"
        },
        {
         "customdata": [
          [
           "BU24-coltan1.1 "
          ],
          [
           "BU24-coltan2.1 "
          ],
          [
           "BU24-coltan3.2 "
          ],
          [
           "BU24-coltan3.3 "
          ],
          [
           "BU24-coltan3.6 "
          ],
          [
           "BU24-Ore4.1"
          ],
          [
           "BU24-Ore4.4"
          ],
          [
           "BU24-Ore4.6"
          ]
         ],
         "hoverlabel": {
          "namelength": 0
         },
         "hovertemplate": "Sample=BU24<br>Context=rim<br>Mn#=%{x}<br>Ti=%{y}<br>Comment=%{customdata[0]}",
         "legendgroup": "Sample=BU24, Context=rim",
         "marker": {
          "color": "#00cc96",
          "symbol": "diamond"
         },
         "mode": "markers",
         "name": "Sample=BU24, Context=rim",
         "showlegend": true,
         "textposition": "top center",
         "type": "scatter",
         "x": [
          0.4052145578917181,
          0.4096297371215205,
          0.26713327844269996,
          0.19573687872460938,
          0.23176774408999812,
          0.23094613547277937,
          0.2807476195819739,
          0.20682570378299156
         ],
         "xaxis": "x",
         "y": [
          0.022076637000000003,
          0.037578439,
          0.024320658,
          0.051343352,
          0.027931194,
          0.018211149,
          0.014057786000000001,
          0.015571591000000001
         ],
         "yaxis": "y"
        },
        {
         "customdata": [
          [
           "BU24-coltan1.2 "
          ],
          [
           "BU24-coltan2.2 "
          ],
          [
           "BU24-coltan2.3 "
          ],
          [
           "BU24-coltan3.1 "
          ],
          [
           "BU24-coltan3.4 "
          ],
          [
           "BU24-coltan3.5 "
          ],
          [
           "BU24-Ore4.2"
          ],
          [
           "BU24-Ore4.3"
          ],
          [
           "BU24-Ore4.5"
          ],
          [
           "BU24-Ore4.7"
          ]
         ],
         "hoverlabel": {
          "namelength": 0
         },
         "hovertemplate": "Sample=BU24<br>Context=core<br>Mn#=%{x}<br>Ti=%{y}<br>Comment=%{customdata[0]}",
         "legendgroup": "Sample=BU24, Context=core",
         "marker": {
          "color": "#00cc96",
          "symbol": "square"
         },
         "mode": "markers",
         "name": "Sample=BU24, Context=core",
         "showlegend": true,
         "textposition": "top center",
         "type": "scatter",
         "x": [
          0.4272920587408634,
          0.26655005163523854,
          0.3229756886367703,
          0.2502337626988511,
          0.2948154303755866,
          0.3676815391138593,
          0.3008109489255446,
          0.2019450529865596,
          0.23378267882044004,
          0.22734194317382544
         ],
         "xaxis": "x",
         "y": [
          0.020730941,
          0.037773121,
          0.035904929,
          0.024916245,
          0.021860477000000003,
          0.022120612,
          0.042121769,
          0.026917219,
          0.040445827999999996,
          0.039637777
         ],
         "yaxis": "y"
        }
       ],
       "layout": {
        "font": {
         "color": "black",
         "family": "Arial",
         "size": 16
        },
        "height": 600,
        "legend": {
         "tracegroupgap": 0
        },
        "margin": {
         "t": 60
        },
        "plot_bgcolor": "white",
        "template": {
         "data": {
          "bar": [
           {
            "error_x": {
             "color": "#2a3f5f"
            },
            "error_y": {
             "color": "#2a3f5f"
            },
            "marker": {
             "line": {
              "color": "#E5ECF6",
              "width": 0.5
             }
            },
            "type": "bar"
           }
          ],
          "barpolar": [
           {
            "marker": {
             "line": {
              "color": "#E5ECF6",
              "width": 0.5
             }
            },
            "type": "barpolar"
           }
          ],
          "carpet": [
           {
            "aaxis": {
             "endlinecolor": "#2a3f5f",
             "gridcolor": "white",
             "linecolor": "white",
             "minorgridcolor": "white",
             "startlinecolor": "#2a3f5f"
            },
            "baxis": {
             "endlinecolor": "#2a3f5f",
             "gridcolor": "white",
             "linecolor": "white",
             "minorgridcolor": "white",
             "startlinecolor": "#2a3f5f"
            },
            "type": "carpet"
           }
          ],
          "choropleth": [
           {
            "colorbar": {
             "outlinewidth": 0,
             "ticks": ""
            },
            "type": "choropleth"
           }
          ],
          "contour": [
           {
            "colorbar": {
             "outlinewidth": 0,
             "ticks": ""
            },
            "colorscale": [
             [
              0,
              "#0d0887"
             ],
             [
              0.1111111111111111,
              "#46039f"
             ],
             [
              0.2222222222222222,
              "#7201a8"
             ],
             [
              0.3333333333333333,
              "#9c179e"
             ],
             [
              0.4444444444444444,
              "#bd3786"
             ],
             [
              0.5555555555555556,
              "#d8576b"
             ],
             [
              0.6666666666666666,
              "#ed7953"
             ],
             [
              0.7777777777777778,
              "#fb9f3a"
             ],
             [
              0.8888888888888888,
              "#fdca26"
             ],
             [
              1,
              "#f0f921"
             ]
            ],
            "type": "contour"
           }
          ],
          "contourcarpet": [
           {
            "colorbar": {
             "outlinewidth": 0,
             "ticks": ""
            },
            "type": "contourcarpet"
           }
          ],
          "heatmap": [
           {
            "colorbar": {
             "outlinewidth": 0,
             "ticks": ""
            },
            "colorscale": [
             [
              0,
              "#0d0887"
             ],
             [
              0.1111111111111111,
              "#46039f"
             ],
             [
              0.2222222222222222,
              "#7201a8"
             ],
             [
              0.3333333333333333,
              "#9c179e"
             ],
             [
              0.4444444444444444,
              "#bd3786"
             ],
             [
              0.5555555555555556,
              "#d8576b"
             ],
             [
              0.6666666666666666,
              "#ed7953"
             ],
             [
              0.7777777777777778,
              "#fb9f3a"
             ],
             [
              0.8888888888888888,
              "#fdca26"
             ],
             [
              1,
              "#f0f921"
             ]
            ],
            "type": "heatmap"
           }
          ],
          "heatmapgl": [
           {
            "colorbar": {
             "outlinewidth": 0,
             "ticks": ""
            },
            "colorscale": [
             [
              0,
              "#0d0887"
             ],
             [
              0.1111111111111111,
              "#46039f"
             ],
             [
              0.2222222222222222,
              "#7201a8"
             ],
             [
              0.3333333333333333,
              "#9c179e"
             ],
             [
              0.4444444444444444,
              "#bd3786"
             ],
             [
              0.5555555555555556,
              "#d8576b"
             ],
             [
              0.6666666666666666,
              "#ed7953"
             ],
             [
              0.7777777777777778,
              "#fb9f3a"
             ],
             [
              0.8888888888888888,
              "#fdca26"
             ],
             [
              1,
              "#f0f921"
             ]
            ],
            "type": "heatmapgl"
           }
          ],
          "histogram": [
           {
            "marker": {
             "colorbar": {
              "outlinewidth": 0,
              "ticks": ""
             }
            },
            "type": "histogram"
           }
          ],
          "histogram2d": [
           {
            "colorbar": {
             "outlinewidth": 0,
             "ticks": ""
            },
            "colorscale": [
             [
              0,
              "#0d0887"
             ],
             [
              0.1111111111111111,
              "#46039f"
             ],
             [
              0.2222222222222222,
              "#7201a8"
             ],
             [
              0.3333333333333333,
              "#9c179e"
             ],
             [
              0.4444444444444444,
              "#bd3786"
             ],
             [
              0.5555555555555556,
              "#d8576b"
             ],
             [
              0.6666666666666666,
              "#ed7953"
             ],
             [
              0.7777777777777778,
              "#fb9f3a"
             ],
             [
              0.8888888888888888,
              "#fdca26"
             ],
             [
              1,
              "#f0f921"
             ]
            ],
            "type": "histogram2d"
           }
          ],
          "histogram2dcontour": [
           {
            "colorbar": {
             "outlinewidth": 0,
             "ticks": ""
            },
            "colorscale": [
             [
              0,
              "#0d0887"
             ],
             [
              0.1111111111111111,
              "#46039f"
             ],
             [
              0.2222222222222222,
              "#7201a8"
             ],
             [
              0.3333333333333333,
              "#9c179e"
             ],
             [
              0.4444444444444444,
              "#bd3786"
             ],
             [
              0.5555555555555556,
              "#d8576b"
             ],
             [
              0.6666666666666666,
              "#ed7953"
             ],
             [
              0.7777777777777778,
              "#fb9f3a"
             ],
             [
              0.8888888888888888,
              "#fdca26"
             ],
             [
              1,
              "#f0f921"
             ]
            ],
            "type": "histogram2dcontour"
           }
          ],
          "mesh3d": [
           {
            "colorbar": {
             "outlinewidth": 0,
             "ticks": ""
            },
            "type": "mesh3d"
           }
          ],
          "parcoords": [
           {
            "line": {
             "colorbar": {
              "outlinewidth": 0,
              "ticks": ""
             }
            },
            "type": "parcoords"
           }
          ],
          "pie": [
           {
            "automargin": true,
            "type": "pie"
           }
          ],
          "scatter": [
           {
            "marker": {
             "colorbar": {
              "outlinewidth": 0,
              "ticks": ""
             }
            },
            "type": "scatter"
           }
          ],
          "scatter3d": [
           {
            "line": {
             "colorbar": {
              "outlinewidth": 0,
              "ticks": ""
             }
            },
            "marker": {
             "colorbar": {
              "outlinewidth": 0,
              "ticks": ""
             }
            },
            "type": "scatter3d"
           }
          ],
          "scattercarpet": [
           {
            "marker": {
             "colorbar": {
              "outlinewidth": 0,
              "ticks": ""
             }
            },
            "type": "scattercarpet"
           }
          ],
          "scattergeo": [
           {
            "marker": {
             "colorbar": {
              "outlinewidth": 0,
              "ticks": ""
             }
            },
            "type": "scattergeo"
           }
          ],
          "scattergl": [
           {
            "marker": {
             "colorbar": {
              "outlinewidth": 0,
              "ticks": ""
             }
            },
            "type": "scattergl"
           }
          ],
          "scattermapbox": [
           {
            "marker": {
             "colorbar": {
              "outlinewidth": 0,
              "ticks": ""
             }
            },
            "type": "scattermapbox"
           }
          ],
          "scatterpolar": [
           {
            "marker": {
             "colorbar": {
              "outlinewidth": 0,
              "ticks": ""
             }
            },
            "type": "scatterpolar"
           }
          ],
          "scatterpolargl": [
           {
            "marker": {
             "colorbar": {
              "outlinewidth": 0,
              "ticks": ""
             }
            },
            "type": "scatterpolargl"
           }
          ],
          "scatterternary": [
           {
            "marker": {
             "colorbar": {
              "outlinewidth": 0,
              "ticks": ""
             }
            },
            "type": "scatterternary"
           }
          ],
          "surface": [
           {
            "colorbar": {
             "outlinewidth": 0,
             "ticks": ""
            },
            "colorscale": [
             [
              0,
              "#0d0887"
             ],
             [
              0.1111111111111111,
              "#46039f"
             ],
             [
              0.2222222222222222,
              "#7201a8"
             ],
             [
              0.3333333333333333,
              "#9c179e"
             ],
             [
              0.4444444444444444,
              "#bd3786"
             ],
             [
              0.5555555555555556,
              "#d8576b"
             ],
             [
              0.6666666666666666,
              "#ed7953"
             ],
             [
              0.7777777777777778,
              "#fb9f3a"
             ],
             [
              0.8888888888888888,
              "#fdca26"
             ],
             [
              1,
              "#f0f921"
             ]
            ],
            "type": "surface"
           }
          ],
          "table": [
           {
            "cells": {
             "fill": {
              "color": "#EBF0F8"
             },
             "line": {
              "color": "white"
             }
            },
            "header": {
             "fill": {
              "color": "#C8D4E3"
             },
             "line": {
              "color": "white"
             }
            },
            "type": "table"
           }
          ]
         },
         "layout": {
          "annotationdefaults": {
           "arrowcolor": "#2a3f5f",
           "arrowhead": 0,
           "arrowwidth": 1
          },
          "coloraxis": {
           "colorbar": {
            "outlinewidth": 0,
            "ticks": ""
           }
          },
          "colorscale": {
           "diverging": [
            [
             0,
             "#8e0152"
            ],
            [
             0.1,
             "#c51b7d"
            ],
            [
             0.2,
             "#de77ae"
            ],
            [
             0.3,
             "#f1b6da"
            ],
            [
             0.4,
             "#fde0ef"
            ],
            [
             0.5,
             "#f7f7f7"
            ],
            [
             0.6,
             "#e6f5d0"
            ],
            [
             0.7,
             "#b8e186"
            ],
            [
             0.8,
             "#7fbc41"
            ],
            [
             0.9,
             "#4d9221"
            ],
            [
             1,
             "#276419"
            ]
           ],
           "sequential": [
            [
             0,
             "#0d0887"
            ],
            [
             0.1111111111111111,
             "#46039f"
            ],
            [
             0.2222222222222222,
             "#7201a8"
            ],
            [
             0.3333333333333333,
             "#9c179e"
            ],
            [
             0.4444444444444444,
             "#bd3786"
            ],
            [
             0.5555555555555556,
             "#d8576b"
            ],
            [
             0.6666666666666666,
             "#ed7953"
            ],
            [
             0.7777777777777778,
             "#fb9f3a"
            ],
            [
             0.8888888888888888,
             "#fdca26"
            ],
            [
             1,
             "#f0f921"
            ]
           ],
           "sequentialminus": [
            [
             0,
             "#0d0887"
            ],
            [
             0.1111111111111111,
             "#46039f"
            ],
            [
             0.2222222222222222,
             "#7201a8"
            ],
            [
             0.3333333333333333,
             "#9c179e"
            ],
            [
             0.4444444444444444,
             "#bd3786"
            ],
            [
             0.5555555555555556,
             "#d8576b"
            ],
            [
             0.6666666666666666,
             "#ed7953"
            ],
            [
             0.7777777777777778,
             "#fb9f3a"
            ],
            [
             0.8888888888888888,
             "#fdca26"
            ],
            [
             1,
             "#f0f921"
            ]
           ]
          },
          "colorway": [
           "#636efa",
           "#EF553B",
           "#00cc96",
           "#ab63fa",
           "#FFA15A",
           "#19d3f3",
           "#FF6692",
           "#B6E880",
           "#FF97FF",
           "#FECB52"
          ],
          "font": {
           "color": "#2a3f5f"
          },
          "geo": {
           "bgcolor": "white",
           "lakecolor": "white",
           "landcolor": "#E5ECF6",
           "showlakes": true,
           "showland": true,
           "subunitcolor": "white"
          },
          "hoverlabel": {
           "align": "left"
          },
          "hovermode": "closest",
          "mapbox": {
           "style": "light"
          },
          "paper_bgcolor": "white",
          "plot_bgcolor": "#E5ECF6",
          "polar": {
           "angularaxis": {
            "gridcolor": "white",
            "linecolor": "white",
            "ticks": ""
           },
           "bgcolor": "#E5ECF6",
           "radialaxis": {
            "gridcolor": "white",
            "linecolor": "white",
            "ticks": ""
           }
          },
          "scene": {
           "xaxis": {
            "backgroundcolor": "#E5ECF6",
            "gridcolor": "white",
            "gridwidth": 2,
            "linecolor": "white",
            "showbackground": true,
            "ticks": "",
            "zerolinecolor": "white"
           },
           "yaxis": {
            "backgroundcolor": "#E5ECF6",
            "gridcolor": "white",
            "gridwidth": 2,
            "linecolor": "white",
            "showbackground": true,
            "ticks": "",
            "zerolinecolor": "white"
           },
           "zaxis": {
            "backgroundcolor": "#E5ECF6",
            "gridcolor": "white",
            "gridwidth": 2,
            "linecolor": "white",
            "showbackground": true,
            "ticks": "",
            "zerolinecolor": "white"
           }
          },
          "shapedefaults": {
           "line": {
            "color": "#2a3f5f"
           }
          },
          "ternary": {
           "aaxis": {
            "gridcolor": "white",
            "linecolor": "white",
            "ticks": ""
           },
           "baxis": {
            "gridcolor": "white",
            "linecolor": "white",
            "ticks": ""
           },
           "bgcolor": "#E5ECF6",
           "caxis": {
            "gridcolor": "white",
            "linecolor": "white",
            "ticks": ""
           }
          },
          "title": {
           "x": 0.05
          },
          "xaxis": {
           "automargin": true,
           "gridcolor": "white",
           "linecolor": "white",
           "ticks": "",
           "title": {
            "standoff": 15
           },
           "zerolinecolor": "white",
           "zerolinewidth": 2
          },
          "yaxis": {
           "automargin": true,
           "gridcolor": "white",
           "linecolor": "white",
           "ticks": "",
           "title": {
            "standoff": 15
           },
           "zerolinecolor": "white",
           "zerolinewidth": 2
          }
         }
        },
        "width": 900,
        "xaxis": {
         "anchor": "y",
         "domain": [
          0,
          1
         ],
         "linecolor": "black",
         "showgrid": false,
         "ticks": "inside",
         "title": {
          "text": "Mn#"
         },
         "zeroline": true
        },
        "yaxis": {
         "anchor": "x",
         "domain": [
          0,
          1
         ],
         "linecolor": "black",
         "showgrid": false,
         "ticks": "inside",
         "title": {
          "text": "Ti"
         },
         "zeroline": true
        }
       }
      },
      "text/html": [
       "<div>\n",
       "        \n",
       "        \n",
       "            <div id=\"12d02c48-a7b5-46d9-8dde-2257efe57d02\" class=\"plotly-graph-div\" style=\"height:600px; width:900px;\"></div>\n",
       "            <script type=\"text/javascript\">\n",
       "                require([\"plotly\"], function(Plotly) {\n",
       "                    window.PLOTLYENV=window.PLOTLYENV || {};\n",
       "                    \n",
       "                if (document.getElementById(\"12d02c48-a7b5-46d9-8dde-2257efe57d02\")) {\n",
       "                    Plotly.newPlot(\n",
       "                        '12d02c48-a7b5-46d9-8dde-2257efe57d02',\n",
       "                        [{\"customdata\": [[\"BU04-Ore1.2 \"], [\"BU04-Ore1.8 \"], [\"BU04-Ore1.10 \"]], \"hoverlabel\": {\"namelength\": 0}, \"hovertemplate\": \"Sample=BU04<br>Context=patchy<br>Mn#=%{x}<br>Ti=%{y}<br>Comment=%{customdata[0]}\", \"legendgroup\": \"Sample=BU04, Context=patchy\", \"marker\": {\"color\": \"#636efa\", \"symbol\": \"circle\"}, \"mode\": \"markers\", \"name\": \"Sample=BU04, Context=patchy\", \"showlegend\": true, \"textposition\": \"top center\", \"type\": \"scatter\", \"x\": [0.5880719650776499, 0.5444484121619098, 0.5558396469370026], \"xaxis\": \"x\", \"y\": [0.037709951, 0.055665698, 0.031546619], \"yaxis\": \"y\"}, {\"customdata\": [[\"BU04-Ore1.3 \"], [\"BU04-Ore1.4 \"], [\"BU04-Ore1.9 \"]], \"hoverlabel\": {\"namelength\": 0}, \"hovertemplate\": \"Sample=BU04<br>Context=rim<br>Mn#=%{x}<br>Ti=%{y}<br>Comment=%{customdata[0]}\", \"legendgroup\": \"Sample=BU04, Context=rim\", \"marker\": {\"color\": \"#636efa\", \"symbol\": \"diamond\"}, \"mode\": \"markers\", \"name\": \"Sample=BU04, Context=rim\", \"showlegend\": true, \"textposition\": \"top center\", \"type\": \"scatter\", \"x\": [0.4524275818233711, 0.546292392837652, 0.5197908222535019], \"xaxis\": \"x\", \"y\": [0.060785671, 0.070937232, 0.094596015], \"yaxis\": \"y\"}, {\"customdata\": [[\"BU04-Ore1.5 \"], [\"BU04-Ore1.6 \"], [\"BU04-Ore1.7 \"], [\"BU04-Ore2_coltan2 \"]], \"hoverlabel\": {\"namelength\": 0}, \"hovertemplate\": \"Sample=BU04<br>Context=core<br>Mn#=%{x}<br>Ti=%{y}<br>Comment=%{customdata[0]}\", \"legendgroup\": \"Sample=BU04, Context=core\", \"marker\": {\"color\": \"#636efa\", \"symbol\": \"square\"}, \"mode\": \"markers\", \"name\": \"Sample=BU04, Context=core\", \"showlegend\": true, \"textposition\": \"top center\", \"type\": \"scatter\", \"x\": [0.5179807623454434, 0.504785487955155, 0.49028403393990183, 0.3870186547558688], \"xaxis\": \"x\", \"y\": [0.071461482, 0.089239432, 0.092192707, 0.292688899], \"yaxis\": \"y\"}, {\"customdata\": [[\"BU19TS-coltan1.3 \"], [\"BU19TS-coltan2.4 \"], [\"BU19TS-coltan2.5 \"]], \"hoverlabel\": {\"namelength\": 0}, \"hovertemplate\": \"Sample=BU19TS<br>Context=patchy<br>Mn#=%{x}<br>Ti=%{y}<br>Comment=%{customdata[0]}\", \"legendgroup\": \"Sample=BU19TS, Context=patchy\", \"marker\": {\"color\": \"#EF553B\", \"symbol\": \"circle\"}, \"mode\": \"markers\", \"name\": \"Sample=BU19TS, Context=patchy\", \"showlegend\": true, \"textposition\": \"top center\", \"type\": \"scatter\", \"x\": [0.47243514545638016, 0.5102247361414852, 0.47673158273453814], \"xaxis\": \"x\", \"y\": [0.093953323, 0.075251448, 0.074755012], \"yaxis\": \"y\"}, {\"customdata\": [[\"BU19TS-coltan1.1 \"], [\"BU19TS-coltan1.5 \"], [\"BU19TS-coltan1.6 \"], [\"BU19TS-coltan2.6 \"], [\"BU19TS-coltan3.1 \"]], \"hoverlabel\": {\"namelength\": 0}, \"hovertemplate\": \"Sample=BU19TS<br>Context=rim<br>Mn#=%{x}<br>Ti=%{y}<br>Comment=%{customdata[0]}\", \"legendgroup\": \"Sample=BU19TS, Context=rim\", \"marker\": {\"color\": \"#EF553B\", \"symbol\": \"diamond\"}, \"mode\": \"markers\", \"name\": \"Sample=BU19TS, Context=rim\", \"showlegend\": true, \"textposition\": \"top center\", \"type\": \"scatter\", \"x\": [0.4022997240338961, 0.3877491194353499, 0.41537822929335316, 0.4617597265855764, 0.44293364601970264], \"xaxis\": \"x\", \"y\": [0.11823928800000001, 0.129428069, 0.13191317800000002, 0.10355858800000001, 0.09660786699999999], \"yaxis\": \"y\"}, {\"customdata\": [[\"BU19TS-coltan1.2 \"], [\"BU19TS-coltan1.4 \"], [\"BU19TS-coltan1.7 \"], [\"BU19TS-coltan2.2 \"], [\"BU19TS-coltan2.3 \"], [\"BU19TS-coltan3.2 \"], [\"BU19TS-coltan3.3 \"]], \"hoverlabel\": {\"namelength\": 0}, \"hovertemplate\": \"Sample=BU19TS<br>Context=core<br>Mn#=%{x}<br>Ti=%{y}<br>Comment=%{customdata[0]}\", \"legendgroup\": \"Sample=BU19TS, Context=core\", \"marker\": {\"color\": \"#EF553B\", \"symbol\": \"square\"}, \"mode\": \"markers\", \"name\": \"Sample=BU19TS, Context=core\", \"showlegend\": true, \"textposition\": \"top center\", \"type\": \"scatter\", \"x\": [0.4275437489714471, 0.42151050055833994, 0.38714057702011145, 0.42838866120275765, 0.4301549892219596, 0.37990587662756564, 0.4227847467236893], \"xaxis\": \"x\", \"y\": [0.09340456, 0.1063619, 0.139499887, 0.07980268, 0.07893354799999999, 0.160579001, 0.114794069], \"yaxis\": \"y\"}, {\"customdata\": [[\"BU24-coltan1.1 \"], [\"BU24-coltan2.1 \"], [\"BU24-coltan3.2 \"], [\"BU24-coltan3.3 \"], [\"BU24-coltan3.6 \"], [\"BU24-Ore4.1\"], [\"BU24-Ore4.4\"], [\"BU24-Ore4.6\"]], \"hoverlabel\": {\"namelength\": 0}, \"hovertemplate\": \"Sample=BU24<br>Context=rim<br>Mn#=%{x}<br>Ti=%{y}<br>Comment=%{customdata[0]}\", \"legendgroup\": \"Sample=BU24, Context=rim\", \"marker\": {\"color\": \"#00cc96\", \"symbol\": \"diamond\"}, \"mode\": \"markers\", \"name\": \"Sample=BU24, Context=rim\", \"showlegend\": true, \"textposition\": \"top center\", \"type\": \"scatter\", \"x\": [0.4052145578917181, 0.4096297371215205, 0.26713327844269996, 0.19573687872460938, 0.23176774408999812, 0.23094613547277937, 0.2807476195819739, 0.20682570378299156], \"xaxis\": \"x\", \"y\": [0.022076637000000003, 0.037578439, 0.024320658, 0.051343352, 0.027931194, 0.018211149, 0.014057786000000001, 0.015571591000000001], \"yaxis\": \"y\"}, {\"customdata\": [[\"BU24-coltan1.2 \"], [\"BU24-coltan2.2 \"], [\"BU24-coltan2.3 \"], [\"BU24-coltan3.1 \"], [\"BU24-coltan3.4 \"], [\"BU24-coltan3.5 \"], [\"BU24-Ore4.2\"], [\"BU24-Ore4.3\"], [\"BU24-Ore4.5\"], [\"BU24-Ore4.7\"]], \"hoverlabel\": {\"namelength\": 0}, \"hovertemplate\": \"Sample=BU24<br>Context=core<br>Mn#=%{x}<br>Ti=%{y}<br>Comment=%{customdata[0]}\", \"legendgroup\": \"Sample=BU24, Context=core\", \"marker\": {\"color\": \"#00cc96\", \"symbol\": \"square\"}, \"mode\": \"markers\", \"name\": \"Sample=BU24, Context=core\", \"showlegend\": true, \"textposition\": \"top center\", \"type\": \"scatter\", \"x\": [0.4272920587408634, 0.26655005163523854, 0.3229756886367703, 0.2502337626988511, 0.2948154303755866, 0.3676815391138593, 0.3008109489255446, 0.2019450529865596, 0.23378267882044004, 0.22734194317382544], \"xaxis\": \"x\", \"y\": [0.020730941, 0.037773121, 0.035904929, 0.024916245, 0.021860477000000003, 0.022120612, 0.042121769, 0.026917219, 0.040445827999999996, 0.039637777], \"yaxis\": \"y\"}],\n",
       "                        {\"font\": {\"color\": \"black\", \"family\": \"Arial\", \"size\": 16}, \"height\": 600, \"legend\": {\"tracegroupgap\": 0}, \"margin\": {\"t\": 60}, \"plot_bgcolor\": \"white\", \"template\": {\"data\": {\"bar\": [{\"error_x\": {\"color\": \"#2a3f5f\"}, \"error_y\": {\"color\": \"#2a3f5f\"}, \"marker\": {\"line\": {\"color\": \"#E5ECF6\", \"width\": 0.5}}, \"type\": \"bar\"}], \"barpolar\": [{\"marker\": {\"line\": {\"color\": \"#E5ECF6\", \"width\": 0.5}}, \"type\": \"barpolar\"}], \"carpet\": [{\"aaxis\": {\"endlinecolor\": \"#2a3f5f\", \"gridcolor\": \"white\", \"linecolor\": \"white\", \"minorgridcolor\": \"white\", \"startlinecolor\": \"#2a3f5f\"}, \"baxis\": {\"endlinecolor\": \"#2a3f5f\", \"gridcolor\": \"white\", \"linecolor\": \"white\", \"minorgridcolor\": \"white\", \"startlinecolor\": \"#2a3f5f\"}, \"type\": \"carpet\"}], \"choropleth\": [{\"colorbar\": {\"outlinewidth\": 0, \"ticks\": \"\"}, \"type\": \"choropleth\"}], \"contour\": [{\"colorbar\": {\"outlinewidth\": 0, \"ticks\": \"\"}, \"colorscale\": [[0.0, \"#0d0887\"], [0.1111111111111111, \"#46039f\"], [0.2222222222222222, \"#7201a8\"], [0.3333333333333333, \"#9c179e\"], [0.4444444444444444, \"#bd3786\"], [0.5555555555555556, \"#d8576b\"], [0.6666666666666666, \"#ed7953\"], [0.7777777777777778, \"#fb9f3a\"], [0.8888888888888888, \"#fdca26\"], [1.0, \"#f0f921\"]], \"type\": \"contour\"}], \"contourcarpet\": [{\"colorbar\": {\"outlinewidth\": 0, \"ticks\": \"\"}, \"type\": \"contourcarpet\"}], \"heatmap\": [{\"colorbar\": {\"outlinewidth\": 0, \"ticks\": \"\"}, \"colorscale\": [[0.0, \"#0d0887\"], [0.1111111111111111, \"#46039f\"], [0.2222222222222222, \"#7201a8\"], [0.3333333333333333, \"#9c179e\"], [0.4444444444444444, \"#bd3786\"], [0.5555555555555556, \"#d8576b\"], [0.6666666666666666, \"#ed7953\"], [0.7777777777777778, \"#fb9f3a\"], [0.8888888888888888, \"#fdca26\"], [1.0, \"#f0f921\"]], \"type\": \"heatmap\"}], \"heatmapgl\": [{\"colorbar\": {\"outlinewidth\": 0, \"ticks\": \"\"}, \"colorscale\": [[0.0, \"#0d0887\"], [0.1111111111111111, \"#46039f\"], [0.2222222222222222, \"#7201a8\"], [0.3333333333333333, \"#9c179e\"], [0.4444444444444444, \"#bd3786\"], [0.5555555555555556, \"#d8576b\"], [0.6666666666666666, \"#ed7953\"], [0.7777777777777778, \"#fb9f3a\"], [0.8888888888888888, \"#fdca26\"], [1.0, \"#f0f921\"]], \"type\": \"heatmapgl\"}], \"histogram\": [{\"marker\": {\"colorbar\": {\"outlinewidth\": 0, \"ticks\": \"\"}}, \"type\": \"histogram\"}], \"histogram2d\": [{\"colorbar\": {\"outlinewidth\": 0, \"ticks\": \"\"}, \"colorscale\": [[0.0, \"#0d0887\"], [0.1111111111111111, \"#46039f\"], [0.2222222222222222, \"#7201a8\"], [0.3333333333333333, \"#9c179e\"], [0.4444444444444444, \"#bd3786\"], [0.5555555555555556, \"#d8576b\"], [0.6666666666666666, \"#ed7953\"], [0.7777777777777778, \"#fb9f3a\"], [0.8888888888888888, \"#fdca26\"], [1.0, \"#f0f921\"]], \"type\": \"histogram2d\"}], \"histogram2dcontour\": [{\"colorbar\": {\"outlinewidth\": 0, \"ticks\": \"\"}, \"colorscale\": [[0.0, \"#0d0887\"], [0.1111111111111111, \"#46039f\"], [0.2222222222222222, \"#7201a8\"], [0.3333333333333333, \"#9c179e\"], [0.4444444444444444, \"#bd3786\"], [0.5555555555555556, \"#d8576b\"], [0.6666666666666666, \"#ed7953\"], [0.7777777777777778, \"#fb9f3a\"], [0.8888888888888888, \"#fdca26\"], [1.0, \"#f0f921\"]], \"type\": \"histogram2dcontour\"}], \"mesh3d\": [{\"colorbar\": {\"outlinewidth\": 0, \"ticks\": \"\"}, \"type\": \"mesh3d\"}], \"parcoords\": [{\"line\": {\"colorbar\": {\"outlinewidth\": 0, \"ticks\": \"\"}}, \"type\": \"parcoords\"}], \"pie\": [{\"automargin\": true, \"type\": \"pie\"}], \"scatter\": [{\"marker\": {\"colorbar\": {\"outlinewidth\": 0, \"ticks\": \"\"}}, \"type\": \"scatter\"}], \"scatter3d\": [{\"line\": {\"colorbar\": {\"outlinewidth\": 0, \"ticks\": \"\"}}, \"marker\": {\"colorbar\": {\"outlinewidth\": 0, \"ticks\": \"\"}}, \"type\": \"scatter3d\"}], \"scattercarpet\": [{\"marker\": {\"colorbar\": {\"outlinewidth\": 0, \"ticks\": \"\"}}, \"type\": \"scattercarpet\"}], \"scattergeo\": [{\"marker\": {\"colorbar\": {\"outlinewidth\": 0, \"ticks\": \"\"}}, \"type\": \"scattergeo\"}], \"scattergl\": [{\"marker\": {\"colorbar\": {\"outlinewidth\": 0, \"ticks\": \"\"}}, \"type\": \"scattergl\"}], \"scattermapbox\": [{\"marker\": {\"colorbar\": {\"outlinewidth\": 0, \"ticks\": \"\"}}, \"type\": \"scattermapbox\"}], \"scatterpolar\": [{\"marker\": {\"colorbar\": {\"outlinewidth\": 0, \"ticks\": \"\"}}, \"type\": \"scatterpolar\"}], \"scatterpolargl\": [{\"marker\": {\"colorbar\": {\"outlinewidth\": 0, \"ticks\": \"\"}}, \"type\": \"scatterpolargl\"}], \"scatterternary\": [{\"marker\": {\"colorbar\": {\"outlinewidth\": 0, \"ticks\": \"\"}}, \"type\": \"scatterternary\"}], \"surface\": [{\"colorbar\": {\"outlinewidth\": 0, \"ticks\": \"\"}, \"colorscale\": [[0.0, \"#0d0887\"], [0.1111111111111111, \"#46039f\"], [0.2222222222222222, \"#7201a8\"], [0.3333333333333333, \"#9c179e\"], [0.4444444444444444, \"#bd3786\"], [0.5555555555555556, \"#d8576b\"], [0.6666666666666666, \"#ed7953\"], [0.7777777777777778, \"#fb9f3a\"], [0.8888888888888888, \"#fdca26\"], [1.0, \"#f0f921\"]], \"type\": \"surface\"}], \"table\": [{\"cells\": {\"fill\": {\"color\": \"#EBF0F8\"}, \"line\": {\"color\": \"white\"}}, \"header\": {\"fill\": {\"color\": \"#C8D4E3\"}, \"line\": {\"color\": \"white\"}}, \"type\": \"table\"}]}, \"layout\": {\"annotationdefaults\": {\"arrowcolor\": \"#2a3f5f\", \"arrowhead\": 0, \"arrowwidth\": 1}, \"coloraxis\": {\"colorbar\": {\"outlinewidth\": 0, \"ticks\": \"\"}}, \"colorscale\": {\"diverging\": [[0, \"#8e0152\"], [0.1, \"#c51b7d\"], [0.2, \"#de77ae\"], [0.3, \"#f1b6da\"], [0.4, \"#fde0ef\"], [0.5, \"#f7f7f7\"], [0.6, \"#e6f5d0\"], [0.7, \"#b8e186\"], [0.8, \"#7fbc41\"], [0.9, \"#4d9221\"], [1, \"#276419\"]], \"sequential\": [[0.0, \"#0d0887\"], [0.1111111111111111, \"#46039f\"], [0.2222222222222222, \"#7201a8\"], [0.3333333333333333, \"#9c179e\"], [0.4444444444444444, \"#bd3786\"], [0.5555555555555556, \"#d8576b\"], [0.6666666666666666, \"#ed7953\"], [0.7777777777777778, \"#fb9f3a\"], [0.8888888888888888, \"#fdca26\"], [1.0, \"#f0f921\"]], \"sequentialminus\": [[0.0, \"#0d0887\"], [0.1111111111111111, \"#46039f\"], [0.2222222222222222, \"#7201a8\"], [0.3333333333333333, \"#9c179e\"], [0.4444444444444444, \"#bd3786\"], [0.5555555555555556, \"#d8576b\"], [0.6666666666666666, \"#ed7953\"], [0.7777777777777778, \"#fb9f3a\"], [0.8888888888888888, \"#fdca26\"], [1.0, \"#f0f921\"]]}, \"colorway\": [\"#636efa\", \"#EF553B\", \"#00cc96\", \"#ab63fa\", \"#FFA15A\", \"#19d3f3\", \"#FF6692\", \"#B6E880\", \"#FF97FF\", \"#FECB52\"], \"font\": {\"color\": \"#2a3f5f\"}, \"geo\": {\"bgcolor\": \"white\", \"lakecolor\": \"white\", \"landcolor\": \"#E5ECF6\", \"showlakes\": true, \"showland\": true, \"subunitcolor\": \"white\"}, \"hoverlabel\": {\"align\": \"left\"}, \"hovermode\": \"closest\", \"mapbox\": {\"style\": \"light\"}, \"paper_bgcolor\": \"white\", \"plot_bgcolor\": \"#E5ECF6\", \"polar\": {\"angularaxis\": {\"gridcolor\": \"white\", \"linecolor\": \"white\", \"ticks\": \"\"}, \"bgcolor\": \"#E5ECF6\", \"radialaxis\": {\"gridcolor\": \"white\", \"linecolor\": \"white\", \"ticks\": \"\"}}, \"scene\": {\"xaxis\": {\"backgroundcolor\": \"#E5ECF6\", \"gridcolor\": \"white\", \"gridwidth\": 2, \"linecolor\": \"white\", \"showbackground\": true, \"ticks\": \"\", \"zerolinecolor\": \"white\"}, \"yaxis\": {\"backgroundcolor\": \"#E5ECF6\", \"gridcolor\": \"white\", \"gridwidth\": 2, \"linecolor\": \"white\", \"showbackground\": true, \"ticks\": \"\", \"zerolinecolor\": \"white\"}, \"zaxis\": {\"backgroundcolor\": \"#E5ECF6\", \"gridcolor\": \"white\", \"gridwidth\": 2, \"linecolor\": \"white\", \"showbackground\": true, \"ticks\": \"\", \"zerolinecolor\": \"white\"}}, \"shapedefaults\": {\"line\": {\"color\": \"#2a3f5f\"}}, \"ternary\": {\"aaxis\": {\"gridcolor\": \"white\", \"linecolor\": \"white\", \"ticks\": \"\"}, \"baxis\": {\"gridcolor\": \"white\", \"linecolor\": \"white\", \"ticks\": \"\"}, \"bgcolor\": \"#E5ECF6\", \"caxis\": {\"gridcolor\": \"white\", \"linecolor\": \"white\", \"ticks\": \"\"}}, \"title\": {\"x\": 0.05}, \"xaxis\": {\"automargin\": true, \"gridcolor\": \"white\", \"linecolor\": \"white\", \"ticks\": \"\", \"title\": {\"standoff\": 15}, \"zerolinecolor\": \"white\", \"zerolinewidth\": 2}, \"yaxis\": {\"automargin\": true, \"gridcolor\": \"white\", \"linecolor\": \"white\", \"ticks\": \"\", \"title\": {\"standoff\": 15}, \"zerolinecolor\": \"white\", \"zerolinewidth\": 2}}}, \"width\": 900, \"xaxis\": {\"anchor\": \"y\", \"domain\": [0.0, 1.0], \"linecolor\": \"black\", \"showgrid\": false, \"ticks\": \"inside\", \"title\": {\"text\": \"Mn#\"}, \"zeroline\": true}, \"yaxis\": {\"anchor\": \"x\", \"domain\": [0.0, 1.0], \"linecolor\": \"black\", \"showgrid\": false, \"ticks\": \"inside\", \"title\": {\"text\": \"Ti\"}, \"zeroline\": true}},\n",
       "                        {\"responsive\": true}\n",
       "                    ).then(function(){\n",
       "                            \n",
       "var gd = document.getElementById('12d02c48-a7b5-46d9-8dde-2257efe57d02');\n",
       "var x = new MutationObserver(function (mutations, observer) {{\n",
       "        var display = window.getComputedStyle(gd).display;\n",
       "        if (!display || display === 'none') {{\n",
       "            console.log([gd, 'removed!']);\n",
       "            Plotly.purge(gd);\n",
       "            observer.disconnect();\n",
       "        }}\n",
       "}});\n",
       "\n",
       "// Listen for the removal of the full notebook cells\n",
       "var notebookContainer = gd.closest('#notebook-container');\n",
       "if (notebookContainer) {{\n",
       "    x.observe(notebookContainer, {childList: true});\n",
       "}}\n",
       "\n",
       "// Listen for the clearing of the current output cell\n",
       "var outputEl = gd.closest('.output');\n",
       "if (outputEl) {{\n",
       "    x.observe(outputEl, {childList: true});\n",
       "}}\n",
       "\n",
       "                        })\n",
       "                };\n",
       "                });\n",
       "            </script>\n",
       "        </div>"
      ]
     },
     "metadata": {},
     "output_type": "display_data"
    }
   ],
   "source": [
    "# --- plot binary scatter graphs\n",
    "\n",
    "fig = px.scatter(df_query, x=\"Mn#\", y=\"Ti\",symbol=\"Context\", color=\"Sample\", hover_data=[\"Comment\"],\n",
    "                width=900, height=600)\n",
    "#                  size=\"Ti\",text=df_analysis[\"Comment\"].str.slice(start=-4))\n",
    "\n",
    "\n",
    "fig.update_layout(plot_bgcolor=\"white\")\n",
    "fig.update_traces(textposition='top center')\n",
    "\n",
    "# fig.update_traces(marker=dict(size=10))\n",
    "\n",
    "fig.update_layout(font=dict(family=\"Arial\",size=16,color=\"black\")) \n",
    "\n",
    "fig.update_xaxes(ticks='inside',zeroline=True,linecolor=\"black\",showgrid=False)#,range=(0,1))\n",
    "fig.update_yaxes(ticks='inside',zeroline=True,linecolor=\"black\",showgrid=False)#,range=(0,1))\n",
    "\n",
    "#fig.write_image(\"Ore_coltan_Ta#-Mn#.pdf\");\n",
    "fig.show()"
   ]
  },
  {
   "cell_type": "code",
   "execution_count": 6,
   "metadata": {},
   "outputs": [
    {
     "data": {
      "image/png": "[encoded data removed]",
      "text/plain": [
       "<Figure size 576x540 with 1 Axes>"
      ]
     },
     "metadata": {
      "needs_background": "light"
     },
     "output_type": "display_data"
    }
   ],
   "source": [
    "# --- plot binary line graphs\n",
    "\n",
    "fig, ax = plt.subplots(figsize=(8,7.5))\n",
    "\n",
    "    # - plot the raw spectrum line (measured data) and the modelled spectrum (after peak fitting)\n",
    "\n",
    "plt.plot(df_query[\"Comment\"],df_query[\"Nb\"],'-o', label='Nb')\n",
    "plt.plot(df_query[\"Comment\"],df_query[\"Ta\"],'-o', label='Ta')\n",
    "plt.plot(df_query[\"Comment\"],df_query[\"Ti\"],'-o', label='Ti')\n",
    "plt.plot(df_query[\"Comment\"],df_query[\"Fe\"],'-o', label='Fe')\n",
    "plt.plot(df_query[\"Comment\"],df_query[\"Mn\"],'-o', label='Mn')\n",
    "plt.plot(df_query[\"Comment\"],df_query[\"Ta#\"],'-o', label='Ta#')\n",
    "plt.plot(df_query[\"Comment\"],df_query[\"Mn#\"],'-o', label='Mn#')\n",
    "\n",
    "\n",
    "\n",
    "    # --- adjust plot parameters\n",
    "\n",
    "plt.legend(loc='best', fontsize=14, ncol=9, handletextpad=0.1, columnspacing = 0.5)  \n",
    "    \n",
    "plt.xlabel(\"Analysis\",fontsize=20)\n",
    "#plt.xlim([start,end])\n",
    "plt.ylabel(\"apfu\",fontsize=20)\n",
    "plt.ylim([0,2])\n",
    "\n",
    "ax.invert_xaxis()\n",
    "\n",
    "# ax.xaxis.set_minor_locator(MultipleLocator(100))\n",
    "ax.yaxis.set_minor_locator(MultipleLocator(0.05))\n",
    "\n",
    "ax.set_xticklabels(['1', '2','3', '4', '5', '6', '7', '8', '9'])\n",
    "\n",
    "ax.tick_params(axis='both', which='major',labelsize=20,direction='in',width=1.5,length=8,right=True, top=True)\n",
    "ax.tick_params(axis='both', which='minor',direction='in',width=1,length=4,right=True)\n",
    "\n",
    "#plt.title(df_spectrum_peaks.iloc[0][\"file\"],horizontalalignment='center',fontsize=22)\n",
    "\n",
    "        \n",
    "plt.savefig('C:/Users/u0125722/Documents/Python_Scripts/output/figures/coltan-BU04-Ore1.pdf')\n",
    "plt.show()"
   ]
  },
  {
   "cell_type": "code",
   "execution_count": 3,
   "metadata": {},
   "outputs": [],
   "source": [
    "# --- normalization function - written by Bram Paredis\n",
    "\n",
    "def normalize(data, total=None):\n",
    "    \"\"\"Normalize data to 100%\"\"\"\n",
    "    if total is None:\n",
    "        total = data.sum(axis=1)\n",
    "    return data.divide(total, axis=0) * 100"
   ]
  },
  {
   "cell_type": "code",
   "execution_count": 4,
   "metadata": {},
   "outputs": [
    {
     "data": {
      "text/html": [
       "<div>\n",
       "<style scoped>\n",
       "    .dataframe tbody tr th:only-of-type {\n",
       "        vertical-align: middle;\n",
       "    }\n",
       "\n",
       "    .dataframe tbody tr th {\n",
       "        vertical-align: top;\n",
       "    }\n",
       "\n",
       "    .dataframe thead th {\n",
       "        text-align: right;\n",
       "    }\n",
       "</style>\n",
       "<table border=\"1\" class=\"dataframe\">\n",
       "  <thead>\n",
       "    <tr style=\"text-align: right;\">\n",
       "      <th></th>\n",
       "      <th>TiSn</th>\n",
       "      <th>Nb</th>\n",
       "      <th>Ta</th>\n",
       "      <th>sample</th>\n",
       "      <th>point</th>\n",
       "      <th>area</th>\n",
       "      <th>mineral</th>\n",
       "      <th>Context</th>\n",
       "    </tr>\n",
       "  </thead>\n",
       "  <tbody>\n",
       "    <tr>\n",
       "      <th>0</th>\n",
       "      <td>89.085023</td>\n",
       "      <td>4.474646</td>\n",
       "      <td>6.440330</td>\n",
       "      <td>BU19TS(2)</td>\n",
       "      <td>BU19TS(2)-ore1.1</td>\n",
       "      <td>Ore1</td>\n",
       "      <td>rutile</td>\n",
       "      <td>patchy</td>\n",
       "    </tr>\n",
       "    <tr>\n",
       "      <th>1</th>\n",
       "      <td>91.069536</td>\n",
       "      <td>5.665099</td>\n",
       "      <td>3.265365</td>\n",
       "      <td>BU19TS(2)</td>\n",
       "      <td>BU19TS(2)-ore1.2</td>\n",
       "      <td>Ore1</td>\n",
       "      <td>rutile</td>\n",
       "      <td>core</td>\n",
       "    </tr>\n",
       "    <tr>\n",
       "      <th>2</th>\n",
       "      <td>88.148978</td>\n",
       "      <td>5.710742</td>\n",
       "      <td>6.140280</td>\n",
       "      <td>BU19TS(2)</td>\n",
       "      <td>BU19TS(2)-ore1.3</td>\n",
       "      <td>Ore1</td>\n",
       "      <td>rutile</td>\n",
       "      <td>rim</td>\n",
       "    </tr>\n",
       "    <tr>\n",
       "      <th>3</th>\n",
       "      <td>91.323058</td>\n",
       "      <td>5.869251</td>\n",
       "      <td>2.807691</td>\n",
       "      <td>BU19TS(2)</td>\n",
       "      <td>BU19TS(2)-ore1.4</td>\n",
       "      <td>Ore1</td>\n",
       "      <td>rutile</td>\n",
       "      <td>core</td>\n",
       "    </tr>\n",
       "    <tr>\n",
       "      <th>4</th>\n",
       "      <td>89.758621</td>\n",
       "      <td>5.761587</td>\n",
       "      <td>4.479792</td>\n",
       "      <td>BU19TS(2)</td>\n",
       "      <td>BU19TS(2)-ore1.5</td>\n",
       "      <td>Ore1</td>\n",
       "      <td>rutile</td>\n",
       "      <td>rim</td>\n",
       "    </tr>\n",
       "    <tr>\n",
       "      <th>...</th>\n",
       "      <td>...</td>\n",
       "      <td>...</td>\n",
       "      <td>...</td>\n",
       "      <td>...</td>\n",
       "      <td>...</td>\n",
       "      <td>...</td>\n",
       "      <td>...</td>\n",
       "      <td>...</td>\n",
       "    </tr>\n",
       "    <tr>\n",
       "      <th>87</th>\n",
       "      <td>65.886422</td>\n",
       "      <td>22.412632</td>\n",
       "      <td>11.700946</td>\n",
       "      <td>BU04</td>\n",
       "      <td>BU04-Ore2_coltan1</td>\n",
       "      <td>Ore2</td>\n",
       "      <td>rutile</td>\n",
       "      <td>rim</td>\n",
       "    </tr>\n",
       "    <tr>\n",
       "      <th>88</th>\n",
       "      <td>92.907368</td>\n",
       "      <td>1.157377</td>\n",
       "      <td>5.935255</td>\n",
       "      <td>BU19TS(1)</td>\n",
       "      <td>BU19TS(1)-rutile1.3</td>\n",
       "      <td>Ore1</td>\n",
       "      <td>rutile</td>\n",
       "      <td>core</td>\n",
       "    </tr>\n",
       "    <tr>\n",
       "      <th>89</th>\n",
       "      <td>93.380963</td>\n",
       "      <td>1.448167</td>\n",
       "      <td>5.170870</td>\n",
       "      <td>BU19TS(1)</td>\n",
       "      <td>BU19TS(1)-rutile1.4</td>\n",
       "      <td>Ore1</td>\n",
       "      <td>rutile</td>\n",
       "      <td>core</td>\n",
       "    </tr>\n",
       "    <tr>\n",
       "      <th>90</th>\n",
       "      <td>96.103324</td>\n",
       "      <td>1.337619</td>\n",
       "      <td>2.559058</td>\n",
       "      <td>BU19TS(1)</td>\n",
       "      <td>Rut2.1</td>\n",
       "      <td>Ore2</td>\n",
       "      <td>rutile</td>\n",
       "      <td>core</td>\n",
       "    </tr>\n",
       "    <tr>\n",
       "      <th>91</th>\n",
       "      <td>96.837333</td>\n",
       "      <td>1.290125</td>\n",
       "      <td>1.872542</td>\n",
       "      <td>BU19TS(1)</td>\n",
       "      <td>Rut2.2</td>\n",
       "      <td>Ore2</td>\n",
       "      <td>rutile</td>\n",
       "      <td>rim</td>\n",
       "    </tr>\n",
       "  </tbody>\n",
       "</table>\n",
       "<p>92 rows × 8 columns</p>\n",
       "</div>"
      ],
      "text/plain": [
       "         TiSn         Nb         Ta     sample                point  area  \\\n",
       "0   89.085023   4.474646   6.440330  BU19TS(2)     BU19TS(2)-ore1.1  Ore1   \n",
       "1   91.069536   5.665099   3.265365  BU19TS(2)     BU19TS(2)-ore1.2  Ore1   \n",
       "2   88.148978   5.710742   6.140280  BU19TS(2)     BU19TS(2)-ore1.3  Ore1   \n",
       "3   91.323058   5.869251   2.807691  BU19TS(2)     BU19TS(2)-ore1.4  Ore1   \n",
       "4   89.758621   5.761587   4.479792  BU19TS(2)     BU19TS(2)-ore1.5  Ore1   \n",
       "..        ...        ...        ...        ...                  ...   ...   \n",
       "87  65.886422  22.412632  11.700946       BU04   BU04-Ore2_coltan1   Ore2   \n",
       "88  92.907368   1.157377   5.935255  BU19TS(1)  BU19TS(1)-rutile1.3  Ore1   \n",
       "89  93.380963   1.448167   5.170870  BU19TS(1)  BU19TS(1)-rutile1.4  Ore1   \n",
       "90  96.103324   1.337619   2.559058  BU19TS(1)               Rut2.1  Ore2   \n",
       "91  96.837333   1.290125   1.872542  BU19TS(1)               Rut2.2  Ore2   \n",
       "\n",
       "   mineral Context  \n",
       "0   rutile  patchy  \n",
       "1   rutile    core  \n",
       "2   rutile     rim  \n",
       "3   rutile    core  \n",
       "4   rutile     rim  \n",
       "..     ...     ...  \n",
       "87  rutile     rim  \n",
       "88  rutile    core  \n",
       "89  rutile    core  \n",
       "90  rutile    core  \n",
       "91  rutile     rim  \n",
       "\n",
       "[92 rows x 8 columns]"
      ]
     },
     "execution_count": 4,
     "metadata": {},
     "output_type": "execute_result"
    }
   ],
   "source": [
    "# --- define subset within dataset for ternary normalization\n",
    "A = \"TiSn\"\n",
    "B = \"Nb\" \n",
    "C = \"Ta\"\n",
    "\n",
    "df_subset = df_analysis.loc[:, [A, B, C]]\n",
    "\n",
    "\n",
    "# --- normalize subset using function defined above\n",
    "\n",
    "df_subset_normalized = normalize(df_subset)\n",
    "\n",
    "\n",
    "# --- combine calculated data with metadata\n",
    "\n",
    "df_subset_normalized['sample'] = df_analysis['Sample']\n",
    "df_subset_normalized['point'] = df_analysis['Comment']\n",
    "df_subset_normalized['area'] = df_analysis['Area']\n",
    "df_subset_normalized['mineral'] = df_analysis['Mineral']\n",
    "df_subset_normalized['Context'] = df_analysis['Context']\n",
    "\n",
    "df_subset_normalized"
   ]
  },
  {
   "cell_type": "code",
   "execution_count": 6,
   "metadata": {},
   "outputs": [
    {
     "data": {
      "application/vnd.plotly.v1+json": {
       "config": {
        "plotlyServerURL": "https://plot.ly"
       },
       "data": [
        {
         "a": [
          89.08502323746521,
          90.35617911615185,
          88.74787330428742,
          89.21482548001431
         ],
         "b": [
          4.474646305536132,
          5.362607946664326,
          4.9068570189481475,
          8.090754859877661
         ],
         "c": [
          6.440330456998665,
          4.281212937183828,
          6.345269676764439,
          2.6944196601080246
         ],
         "customdata": [
          [
           "Ore1",
           "BU19TS(2)-ore1.1"
          ],
          [
           "Ore1",
           "BU19TS(2)-ore1.6"
          ],
          [
           "Ore2",
           "BU19TS(2)-ore2.4"
          ],
          [
           "Ore5",
           "BU19TS(2)-Ore5.3"
          ]
         ],
         "hoverlabel": {
          "namelength": 0
         },
         "hovertemplate": "sample=BU19TS(2)<br>Context=patchy<br>TiSn=%{a}<br>Nb=%{b}<br>Ta=%{c}<br>area=%{customdata[0]}<br>point=%{customdata[1]}",
         "legendgroup": "sample=BU19TS(2), Context=patchy",
         "marker": {
          "color": "#636efa",
          "size": 8,
          "symbol": "circle"
         },
         "mode": "markers",
         "name": "sample=BU19TS(2), Context=patchy",
         "showlegend": true,
         "subplot": "ternary",
         "type": "scatterternary"
        },
        {
         "a": [
          91.0695362508535,
          91.32305838629333,
          91.44491653018719,
          87.13859458462233,
          88.70522795245076,
          90.8084253588347,
          89.71475503068345,
          88.95475217564255,
          86.55726669062828,
          90.56383710189462,
          86.69441286680704,
          90.41032921232976,
          87.26324640407206,
          90.42760049880165
         ],
         "b": [
          5.665098673052744,
          5.869250737691401,
          7.497667708494442,
          10.509037416410031,
          8.668417585969799,
          7.166272439451555,
          8.735623450385063,
          8.720077098310869,
          10.344722251259387,
          7.260677541990038,
          9.405457486710688,
          7.625594019349295,
          8.624605058513602,
          7.244598607887968
         ],
         "c": [
          3.265365076093757,
          2.8076908760152794,
          1.057415761318363,
          2.3523679989676425,
          2.6263544615794503,
          2.0253022017137434,
          1.5496215189314815,
          2.325170726046568,
          3.0980110581123297,
          2.1754853561153373,
          3.9001296464822794,
          1.964076768320958,
          4.112148537414336,
          2.327800893310384
         ],
         "customdata": [
          [
           "Ore1",
           "BU19TS(2)-ore1.2"
          ],
          [
           "Ore1",
           "BU19TS(2)-ore1.4"
          ],
          [
           "Ore2",
           "BU19TS(2)-ore2.2"
          ],
          [
           "Ore2",
           "BU19TS(2)-ore2.3"
          ],
          [
           "Ore3",
           "BU19TS(2)-ore3a.1"
          ],
          [
           "Ore3",
           "BU19TS(2)-ore3a.2"
          ],
          [
           "Ore3",
           "BU19TS(2)-ore3b.1"
          ],
          [
           "Ore3",
           "BU19TS(2)-ore3c.1"
          ],
          [
           "Ore3",
           "BU19TS(2)-ore3c.2"
          ],
          [
           "Ore3",
           "BU19TS(2)-ore3d.2"
          ],
          [
           "Ore3",
           "BU19TS(2)-ore3d.3"
          ],
          [
           "Ore5",
           "BU19TS(2)-Ore5.1"
          ],
          [
           "Ore5",
           "BU19TS(2)-Ore5.2"
          ],
          [
           "Ore5",
           "BU19TS(2)-Ore5.4"
          ]
         ],
         "hoverlabel": {
          "namelength": 0
         },
         "hovertemplate": "sample=BU19TS(2)<br>Context=core<br>TiSn=%{a}<br>Nb=%{b}<br>Ta=%{c}<br>area=%{customdata[0]}<br>point=%{customdata[1]}",
         "legendgroup": "sample=BU19TS(2), Context=core",
         "marker": {
          "color": "#636efa",
          "size": 8,
          "symbol": "diamond"
         },
         "mode": "markers",
         "name": "sample=BU19TS(2), Context=core",
         "showlegend": true,
         "subplot": "ternary",
         "type": "scatterternary"
        },
        {
         "a": [
          88.1489780176559,
          89.75862056101714,
          83.65375788064654,
          88.73090157442286,
          88.22581266045209,
          89.68774164831055,
          92.61238492170587
         ],
         "b": [
          5.710741641299505,
          5.761587264277718,
          5.486292852434144,
          4.826068687226863,
          8.82788412416599,
          8.876061019565114,
          5.752913772975139
         ],
         "c": [
          6.140280341044588,
          4.479792174705133,
          10.85994926691932,
          6.443029738350275,
          2.94630321538192,
          1.436197332124338,
          1.6347013053189918
         ],
         "customdata": [
          [
           "Ore1",
           "BU19TS(2)-ore1.3"
          ],
          [
           "Ore1",
           "BU19TS(2)-ore1.5"
          ],
          [
           "Ore2",
           "BU19TS(2)-ore2.1"
          ],
          [
           "Ore2",
           "BU19TS(2)-ore2.5"
          ],
          [
           "Ore3",
           "BU19TS(2)-ore3a.3"
          ],
          [
           "Ore3",
           "BU19TS(2)-ore3b.2"
          ],
          [
           "Ore3",
           "BU19TS(2)-ore3d.1"
          ]
         ],
         "hoverlabel": {
          "namelength": 0
         },
         "hovertemplate": "sample=BU19TS(2)<br>Context=rim<br>TiSn=%{a}<br>Nb=%{b}<br>Ta=%{c}<br>area=%{customdata[0]}<br>point=%{customdata[1]}",
         "legendgroup": "sample=BU19TS(2), Context=rim",
         "marker": {
          "color": "#636efa",
          "size": 8,
          "symbol": "square"
         },
         "mode": "markers",
         "name": "sample=BU19TS(2), Context=rim",
         "showlegend": true,
         "subplot": "ternary",
         "type": "scatterternary"
        },
        {
         "a": [
          90.57403421506098
         ],
         "b": [
          5.330966987656899
         ],
         "c": [
          4.094998797282137
         ],
         "customdata": [
          [
           "Ore4",
           "BU19w-Rut4.3"
          ]
         ],
         "hoverlabel": {
          "namelength": 0
         },
         "hovertemplate": "sample=BU19w<br>Context=patchy<br>TiSn=%{a}<br>Nb=%{b}<br>Ta=%{c}<br>area=%{customdata[0]}<br>point=%{customdata[1]}",
         "legendgroup": "sample=BU19w, Context=patchy",
         "marker": {
          "color": "#EF553B",
          "size": 8,
          "symbol": "circle"
         },
         "mode": "markers",
         "name": "sample=BU19w, Context=patchy",
         "showlegend": true,
         "subplot": "ternary",
         "type": "scatterternary"
        },
        {
         "a": [
          95.49148771021177,
          97.00372255985693,
          90.40014233571942,
          95.49187850504921,
          96.56745396482633,
          92.9414761136215,
          94.79502643398293,
          96.31354830781308,
          91.90286631460977
         ],
         "b": [
          3.8617608154238816,
          2.4245446307957508,
          4.404305508116531,
          3.6909617328358935,
          2.7213218362066676,
          3.8396392675042526,
          3.660529818551006,
          1.9727817220256196,
          5.416066789244332
         ],
         "c": [
          0.6467514743643454,
          0.571732809347315,
          5.195552156164047,
          0.8171597621149058,
          0.7112241989669962,
          3.218884618874244,
          1.5444437474660602,
          1.713669970161311,
          2.6810668961459023
         ],
         "customdata": [
          [
           "Ore2",
           "Rut2.1"
          ],
          [
           "Ore2",
           "Rut2b.2"
          ],
          [
           "Ore2",
           "Rut2.2"
          ],
          [
           "Ore2",
           "Rut2b.4"
          ],
          [
           "Ore2",
           "Rut2b.5"
          ],
          [
           "Ore2",
           "Rut2.6"
          ],
          [
           "Ore2",
           "Rut2.7"
          ],
          [
           "Ore4",
           "BU19w-Rut4.2"
          ],
          [
           "Ore5",
           "BU19w-Area7_ore.2"
          ]
         ],
         "hoverlabel": {
          "namelength": 0
         },
         "hovertemplate": "sample=BU19w<br>Context=core<br>TiSn=%{a}<br>Nb=%{b}<br>Ta=%{c}<br>area=%{customdata[0]}<br>point=%{customdata[1]}",
         "legendgroup": "sample=BU19w, Context=core",
         "marker": {
          "color": "#EF553B",
          "size": 8,
          "symbol": "diamond"
         },
         "mode": "markers",
         "name": "sample=BU19w, Context=core",
         "showlegend": true,
         "subplot": "ternary",
         "type": "scatterternary"
        },
        {
         "a": [
          90.80158370222773,
          91.04229148224135,
          88.61558737181181,
          90.01109907498153,
          93.92281990295615,
          90.65518890310096
         ],
         "b": [
          4.489947738490833,
          4.157083853078595,
          6.66613807772298,
          5.09280621781812,
          3.495334287001725,
          6.464000736063611
         ],
         "c": [
          4.708468559281442,
          4.800624664680043,
          4.718274550465213,
          4.896094707200352,
          2.58184581004213,
          2.8808103608354165
         ],
         "customdata": [
          [
           "Ore2",
           "Rut2.5"
          ],
          [
           "Ore2",
           "Rut2.8"
          ],
          [
           "Ore3",
           "BU19w-Rut3.2"
          ],
          [
           "Ore3",
           "BU19w-Rut3.4"
          ],
          [
           "Ore4",
           "BU19w-Rut4.1"
          ],
          [
           "Ore5",
           "BU19w-Area7_ore.3"
          ]
         ],
         "hoverlabel": {
          "namelength": 0
         },
         "hovertemplate": "sample=BU19w<br>Context=rim<br>TiSn=%{a}<br>Nb=%{b}<br>Ta=%{c}<br>area=%{customdata[0]}<br>point=%{customdata[1]}",
         "legendgroup": "sample=BU19w, Context=rim",
         "marker": {
          "color": "#EF553B",
          "size": 8,
          "symbol": "square"
         },
         "mode": "markers",
         "name": "sample=BU19w, Context=rim",
         "showlegend": true,
         "subplot": "ternary",
         "type": "scatterternary"
        },
        {
         "a": [
          95.97094688772289
         ],
         "b": [
          3.6150981077272757
         ],
         "c": [
          0.4139550045498373
         ],
         "customdata": [
          [
           "Ore2",
           "Rut2.4"
          ]
         ],
         "hoverlabel": {
          "namelength": 0
         },
         "hovertemplate": "sample=BU19w<br>Context=overgrowth<br>TiSn=%{a}<br>Nb=%{b}<br>Ta=%{c}<br>area=%{customdata[0]}<br>point=%{customdata[1]}",
         "legendgroup": "sample=BU19w, Context=overgrowth",
         "marker": {
          "color": "#EF553B",
          "size": 8,
          "symbol": "x"
         },
         "mode": "markers",
         "name": "sample=BU19w, Context=overgrowth",
         "showlegend": true,
         "subplot": "ternary",
         "type": "scatterternary"
        },
        {
         "a": [
          2.0037843412227576,
          3.2850709108444223,
          1.8610561455915282,
          82.76123986059089
         ],
         "b": [
          92.24267906562099,
          81.34474188681844,
          80.31463480200696,
          9.089999374691716
         ],
         "c": [
          5.753536593156245,
          15.370187202337146,
          17.824309052401496,
          8.148760764717395
         ],
         "customdata": [
          [
           "Ore1",
           "BU04-Ore1.2 "
          ],
          [
           "Ore1",
           "BU04-Ore1.8 "
          ],
          [
           "Ore1",
           "BU04-Ore1.10 "
          ],
          [
           "Ore2",
           "Rut2.2"
          ]
         ],
         "hoverlabel": {
          "namelength": 0
         },
         "hovertemplate": "sample=BU04<br>Context=patchy<br>TiSn=%{a}<br>Nb=%{b}<br>Ta=%{c}<br>area=%{customdata[0]}<br>point=%{customdata[1]}",
         "legendgroup": "sample=BU04, Context=patchy",
         "marker": {
          "color": "#00cc96",
          "size": 8,
          "symbol": "circle"
         },
         "mode": "markers",
         "name": "sample=BU04, Context=patchy",
         "showlegend": true,
         "subplot": "ternary",
         "type": "scatterternary"
        },
        {
         "a": [
          4.115627841590863,
          5.020814617848559,
          5.172147884314135,
          14.972775257962967,
          85.51214373064656
         ],
         "b": [
          80.23360006646062,
          81.15253853284166,
          80.42364043041972,
          63.48944379756733,
          9.70851121892901
         ],
         "c": [
          15.650772091948523,
          13.826646849309773,
          14.40421168526613,
          21.537780944469713,
          4.779345050424426
         ],
         "customdata": [
          [
           "Ore1",
           "BU04-Ore1.5 "
          ],
          [
           "Ore1",
           "BU04-Ore1.6 "
          ],
          [
           "Ore1",
           "BU04-Ore1.7 "
          ],
          [
           "Ore2",
           "BU04-Ore2_coltan2 "
          ],
          [
           "Ore2",
           "Rut2.3"
          ]
         ],
         "hoverlabel": {
          "namelength": 0
         },
         "hovertemplate": "sample=BU04<br>Context=core<br>TiSn=%{a}<br>Nb=%{b}<br>Ta=%{c}<br>area=%{customdata[0]}<br>point=%{customdata[1]}",
         "legendgroup": "sample=BU04, Context=core",
         "marker": {
          "color": "#00cc96",
          "size": 8,
          "symbol": "diamond"
         },
         "mode": "markers",
         "name": "sample=BU04, Context=core",
         "showlegend": true,
         "subplot": "ternary",
         "type": "scatterternary"
        },
        {
         "a": [
          3.647974073894656,
          4.13904661854824,
          5.619074900570588,
          65.886422105733
         ],
         "b": [
          71.81358122902506,
          74.39257348739255,
          78.22830348800935,
          22.41263209208838
         ],
         "c": [
          24.53844469708029,
          21.468379894059193,
          16.152621611420077,
          11.700945802178623
         ],
         "customdata": [
          [
           "Ore1",
           "BU04-Ore1.3 "
          ],
          [
           "Ore1",
           "BU04-Ore1.4 "
          ],
          [
           "Ore1",
           "BU04-Ore1.9 "
          ],
          [
           "Ore2",
           "BU04-Ore2_coltan1 "
          ]
         ],
         "hoverlabel": {
          "namelength": 0
         },
         "hovertemplate": "sample=BU04<br>Context=rim<br>TiSn=%{a}<br>Nb=%{b}<br>Ta=%{c}<br>area=%{customdata[0]}<br>point=%{customdata[1]}",
         "legendgroup": "sample=BU04, Context=rim",
         "marker": {
          "color": "#00cc96",
          "size": 8,
          "symbol": "square"
         },
         "mode": "markers",
         "name": "sample=BU04, Context=rim",
         "showlegend": true,
         "subplot": "ternary",
         "type": "scatterternary"
        },
        {
         "a": [
          5.391365880866051,
          4.463948990888686,
          4.208861112375307
         ],
         "b": [
          72.18620327919373,
          64.04044474107789,
          71.55675822616627
         ],
         "c": [
          22.422430839940205,
          31.495606268033416,
          24.23438066145843
         ],
         "customdata": [
          [
           "Ore1",
           "BU19TS-coltan1.3 "
          ],
          [
           "Ore2",
           "BU19TS-coltan2.4 "
          ],
          [
           "Ore2",
           "BU19TS-coltan2.5 "
          ]
         ],
         "hoverlabel": {
          "namelength": 0
         },
         "hovertemplate": "sample=BU19TS<br>Context=patchy<br>TiSn=%{a}<br>Nb=%{b}<br>Ta=%{c}<br>area=%{customdata[0]}<br>point=%{customdata[1]}",
         "legendgroup": "sample=BU19TS, Context=patchy",
         "marker": {
          "color": "#ab63fa",
          "size": 8,
          "symbol": "circle"
         },
         "mode": "markers",
         "name": "sample=BU19TS, Context=patchy",
         "showlegend": true,
         "subplot": "ternary",
         "type": "scatterternary"
        },
        {
         "a": [
          5.379330497531149,
          6.057152177893706,
          8.051341730039171,
          4.697442377479603,
          4.608727736818084,
          8.888523854939812,
          6.7106027824216445
         ],
         "b": [
          63.381283381509476,
          60.8708765245776,
          55.942707946841864,
          63.65789370882511,
          67.05060579646394,
          53.55812633975364,
          54.05012369525344
         ],
         "c": [
          31.239386120959377,
          33.07197129752869,
          36.00595032311897,
          31.644663913695293,
          28.340666466717977,
          37.55334980530654,
          39.23927352232491
         ],
         "customdata": [
          [
           "Ore1",
           "BU19TS-coltan1.2 "
          ],
          [
           "Ore1",
           "BU19TS-coltan1.4 "
          ],
          [
           "Ore1",
           "BU19TS-coltan1.7 "
          ],
          [
           "Ore2",
           "BU19TS-coltan2.2 "
          ],
          [
           "Ore2",
           "BU19TS-coltan2.3 "
          ],
          [
           "Ore3",
           "BU19TS-coltan3.2 "
          ],
          [
           "Ore3",
           "BU19TS-coltan3.3 "
          ]
         ],
         "hoverlabel": {
          "namelength": 0
         },
         "hovertemplate": "sample=BU19TS<br>Context=core<br>TiSn=%{a}<br>Nb=%{b}<br>Ta=%{c}<br>area=%{customdata[0]}<br>point=%{customdata[1]}",
         "legendgroup": "sample=BU19TS, Context=core",
         "marker": {
          "color": "#ab63fa",
          "size": 8,
          "symbol": "diamond"
         },
         "mode": "markers",
         "name": "sample=BU19TS, Context=core",
         "showlegend": true,
         "subplot": "ternary",
         "type": "scatterternary"
        },
        {
         "a": [
          6.942506899138902,
          7.4731923093065245,
          7.9309711648322425,
          5.906399797767558,
          5.332595672606742
         ],
         "b": [
          55.84393926783912,
          56.1750269882839,
          57.80543820023817,
          60.04465639628687,
          68.08057704523121
         ],
         "c": [
          37.21355383302198,
          36.35178070240957,
          34.263590634929585,
          34.04894380594558,
          26.586827282162062
         ],
         "customdata": [
          [
           "Ore1",
           "BU19TS-coltan1.1 "
          ],
          [
           "Ore1",
           "BU19TS-coltan1.5 "
          ],
          [
           "Ore1",
           "BU19TS-coltan1.6 "
          ],
          [
           "Ore2",
           "BU19TS-coltan2.6 "
          ],
          [
           "Ore3",
           "BU19TS-coltan3.1 "
          ]
         ],
         "hoverlabel": {
          "namelength": 0
         },
         "hovertemplate": "sample=BU19TS<br>Context=rim<br>TiSn=%{a}<br>Nb=%{b}<br>Ta=%{c}<br>area=%{customdata[0]}<br>point=%{customdata[1]}",
         "legendgroup": "sample=BU19TS, Context=rim",
         "marker": {
          "color": "#ab63fa",
          "size": 8,
          "symbol": "square"
         },
         "mode": "markers",
         "name": "sample=BU19TS, Context=rim",
         "showlegend": true,
         "subplot": "ternary",
         "type": "scatterternary"
        },
        {
         "a": [
          1.102120018284944,
          1.9812322895393892,
          1.9366355489643217,
          1.3305870604044483,
          1.1664247949481523,
          1.1767630949886283,
          2.347556305761488,
          1.4598576920248132,
          2.254149851365195,
          2.168988225553994
         ],
         "b": [
          89.25596831104184,
          86.12991406413683,
          84.39925178989989,
          86.91235806001526,
          86.01739430415967,
          85.84997171603423,
          87.2922826190002,
          91.29972994952597,
          88.34116417076044,
          87.93575877615557
         ],
         "c": [
          9.641911670673204,
          11.888853646323776,
          13.664112661135796,
          11.757054879580291,
          12.816180900892176,
          12.973265188977145,
          10.360161075238295,
          7.240412358449228,
          9.40468597787438,
          9.895252998290449
         ],
         "customdata": [
          [
           "Ore1",
           "BU24-coltan1.2 "
          ],
          [
           "Ore2",
           "BU24-coltan2.2 "
          ],
          [
           "Ore2",
           "BU24-coltan2.3 "
          ],
          [
           "Ore3",
           "BU24-coltan3.1 "
          ],
          [
           "Ore3",
           "BU24-coltan3.4 "
          ],
          [
           "Ore3",
           "BU24-coltan3.5 "
          ],
          [
           "Ore4",
           "BU24-Ore4.2"
          ],
          [
           "Ore4",
           "BU24-Ore4.3"
          ],
          [
           "Ore4",
           "BU24-Ore4.5"
          ],
          [
           "Ore4",
           "BU24-Ore4.7"
          ]
         ],
         "hoverlabel": {
          "namelength": 0
         },
         "hovertemplate": "sample=BU24<br>Context=core<br>TiSn=%{a}<br>Nb=%{b}<br>Ta=%{c}<br>area=%{customdata[0]}<br>point=%{customdata[1]}",
         "legendgroup": "sample=BU24, Context=core",
         "marker": {
          "color": "#FFA15A",
          "size": 8,
          "symbol": "diamond"
         },
         "mode": "markers",
         "name": "sample=BU24, Context=core",
         "showlegend": true,
         "subplot": "ternary",
         "type": "scatterternary"
        },
        {
         "a": [
          1.1614887584425737,
          1.9956634326444038,
          1.2441017100620728,
          2.725860850770483,
          1.4525680787978348,
          0.9685411003691361,
          0.7434477279986274,
          0.8388345799822796
         ],
         "b": [
          89.9906311199042,
          85.45233075057256,
          54.14795555090779,
          70.02001783165514,
          69.44197145658035,
          80.46584723864541,
          83.87119812179668,
          84.2951257958318
         ],
         "c": [
          8.847880121653224,
          12.552005816783026,
          44.60794273903015,
          27.25412131757437,
          29.105460464621824,
          18.565611660985457,
          15.385354150204705,
          14.866039624185929
         ],
         "customdata": [
          [
           "Ore1",
           "BU24-coltan1.1 "
          ],
          [
           "Ore2",
           "BU24-coltan2.1 "
          ],
          [
           "Ore3",
           "BU24-coltan3.2 "
          ],
          [
           "Ore3",
           "BU24-coltan3.3 "
          ],
          [
           "Ore3",
           "BU24-coltan3.6 "
          ],
          [
           "Ore4",
           "BU24-Ore4.1"
          ],
          [
           "Ore4",
           "BU24-Ore4.4"
          ],
          [
           "Ore4",
           "BU24-Ore4.6"
          ]
         ],
         "hoverlabel": {
          "namelength": 0
         },
         "hovertemplate": "sample=BU24<br>Context=rim<br>TiSn=%{a}<br>Nb=%{b}<br>Ta=%{c}<br>area=%{customdata[0]}<br>point=%{customdata[1]}",
         "legendgroup": "sample=BU24, Context=rim",
         "marker": {
          "color": "#FFA15A",
          "size": 8,
          "symbol": "square"
         },
         "mode": "markers",
         "name": "sample=BU24, Context=rim",
         "showlegend": true,
         "subplot": "ternary",
         "type": "scatterternary"
        },
        {
         "a": [
          92.90736814976621,
          93.38096271944792,
          96.10332379961696
         ],
         "b": [
          1.1573768987184219,
          1.4481668179415736,
          1.33761851451497
         ],
         "c": [
          5.935254951515366,
          5.170870462610503,
          2.5590576858680802
         ],
         "customdata": [
          [
           "Ore1",
           "BU19TS(1)-rutile1.3"
          ],
          [
           "Ore1",
           "BU19TS(1)-rutile1.4"
          ],
          [
           "Ore2",
           "Rut2.1"
          ]
         ],
         "hoverlabel": {
          "namelength": 0
         },
         "hovertemplate": "sample=BU19TS(1)<br>Context=core<br>TiSn=%{a}<br>Nb=%{b}<br>Ta=%{c}<br>area=%{customdata[0]}<br>point=%{customdata[1]}",
         "legendgroup": "sample=BU19TS(1), Context=core",
         "marker": {
          "color": "#19d3f3",
          "size": 8,
          "symbol": "diamond"
         },
         "mode": "markers",
         "name": "sample=BU19TS(1), Context=core",
         "showlegend": true,
         "subplot": "ternary",
         "type": "scatterternary"
        },
        {
         "a": [
          96.83733270412294
         ],
         "b": [
          1.290125173780616
         ],
         "c": [
          1.8725421220964429
         ],
         "customdata": [
          [
           "Ore2",
           "Rut2.2"
          ]
         ],
         "hoverlabel": {
          "namelength": 0
         },
         "hovertemplate": "sample=BU19TS(1)<br>Context=rim<br>TiSn=%{a}<br>Nb=%{b}<br>Ta=%{c}<br>area=%{customdata[0]}<br>point=%{customdata[1]}",
         "legendgroup": "sample=BU19TS(1), Context=rim",
         "marker": {
          "color": "#19d3f3",
          "size": 8,
          "symbol": "square"
         },
         "mode": "markers",
         "name": "sample=BU19TS(1), Context=rim",
         "showlegend": true,
         "subplot": "ternary",
         "type": "scatterternary"
        }
       ],
       "layout": {
        "height": 600,
        "legend": {
         "tracegroupgap": 0
        },
        "margin": {
         "t": 60
        },
        "template": {
         "data": {
          "bar": [
           {
            "error_x": {
             "color": "#2a3f5f"
            },
            "error_y": {
             "color": "#2a3f5f"
            },
            "marker": {
             "line": {
              "color": "#E5ECF6",
              "width": 0.5
             }
            },
            "type": "bar"
           }
          ],
          "barpolar": [
           {
            "marker": {
             "line": {
              "color": "#E5ECF6",
              "width": 0.5
             }
            },
            "type": "barpolar"
           }
          ],
          "carpet": [
           {
            "aaxis": {
             "endlinecolor": "#2a3f5f",
             "gridcolor": "white",
             "linecolor": "white",
             "minorgridcolor": "white",
             "startlinecolor": "#2a3f5f"
            },
            "baxis": {
             "endlinecolor": "#2a3f5f",
             "gridcolor": "white",
             "linecolor": "white",
             "minorgridcolor": "white",
             "startlinecolor": "#2a3f5f"
            },
            "type": "carpet"
           }
          ],
          "choropleth": [
           {
            "colorbar": {
             "outlinewidth": 0,
             "ticks": ""
            },
            "type": "choropleth"
           }
          ],
          "contour": [
           {
            "colorbar": {
             "outlinewidth": 0,
             "ticks": ""
            },
            "colorscale": [
             [
              0,
              "#0d0887"
             ],
             [
              0.1111111111111111,
              "#46039f"
             ],
             [
              0.2222222222222222,
              "#7201a8"
             ],
             [
              0.3333333333333333,
              "#9c179e"
             ],
             [
              0.4444444444444444,
              "#bd3786"
             ],
             [
              0.5555555555555556,
              "#d8576b"
             ],
             [
              0.6666666666666666,
              "#ed7953"
             ],
             [
              0.7777777777777778,
              "#fb9f3a"
             ],
             [
              0.8888888888888888,
              "#fdca26"
             ],
             [
              1,
              "#f0f921"
             ]
            ],
            "type": "contour"
           }
          ],
          "contourcarpet": [
           {
            "colorbar": {
             "outlinewidth": 0,
             "ticks": ""
            },
            "type": "contourcarpet"
           }
          ],
          "heatmap": [
           {
            "colorbar": {
             "outlinewidth": 0,
             "ticks": ""
            },
            "colorscale": [
             [
              0,
              "#0d0887"
             ],
             [
              0.1111111111111111,
              "#46039f"
             ],
             [
              0.2222222222222222,
              "#7201a8"
             ],
             [
              0.3333333333333333,
              "#9c179e"
             ],
             [
              0.4444444444444444,
              "#bd3786"
             ],
             [
              0.5555555555555556,
              "#d8576b"
             ],
             [
              0.6666666666666666,
              "#ed7953"
             ],
             [
              0.7777777777777778,
              "#fb9f3a"
             ],
             [
              0.8888888888888888,
              "#fdca26"
             ],
             [
              1,
              "#f0f921"
             ]
            ],
            "type": "heatmap"
           }
          ],
          "heatmapgl": [
           {
            "colorbar": {
             "outlinewidth": 0,
             "ticks": ""
            },
            "colorscale": [
             [
              0,
              "#0d0887"
             ],
             [
              0.1111111111111111,
              "#46039f"
             ],
             [
              0.2222222222222222,
              "#7201a8"
             ],
             [
              0.3333333333333333,
              "#9c179e"
             ],
             [
              0.4444444444444444,
              "#bd3786"
             ],
             [
              0.5555555555555556,
              "#d8576b"
             ],
             [
              0.6666666666666666,
              "#ed7953"
             ],
             [
              0.7777777777777778,
              "#fb9f3a"
             ],
             [
              0.8888888888888888,
              "#fdca26"
             ],
             [
              1,
              "#f0f921"
             ]
            ],
            "type": "heatmapgl"
           }
          ],
          "histogram": [
           {
            "marker": {
             "colorbar": {
              "outlinewidth": 0,
              "ticks": ""
             }
            },
            "type": "histogram"
           }
          ],
          "histogram2d": [
           {
            "colorbar": {
             "outlinewidth": 0,
             "ticks": ""
            },
            "colorscale": [
             [
              0,
              "#0d0887"
             ],
             [
              0.1111111111111111,
              "#46039f"
             ],
             [
              0.2222222222222222,
              "#7201a8"
             ],
             [
              0.3333333333333333,
              "#9c179e"
             ],
             [
              0.4444444444444444,
              "#bd3786"
             ],
             [
              0.5555555555555556,
              "#d8576b"
             ],
             [
              0.6666666666666666,
              "#ed7953"
             ],
             [
              0.7777777777777778,
              "#fb9f3a"
             ],
             [
              0.8888888888888888,
              "#fdca26"
             ],
             [
              1,
              "#f0f921"
             ]
            ],
            "type": "histogram2d"
           }
          ],
          "histogram2dcontour": [
           {
            "colorbar": {
             "outlinewidth": 0,
             "ticks": ""
            },
            "colorscale": [
             [
              0,
              "#0d0887"
             ],
             [
              0.1111111111111111,
              "#46039f"
             ],
             [
              0.2222222222222222,
              "#7201a8"
             ],
             [
              0.3333333333333333,
              "#9c179e"
             ],
             [
              0.4444444444444444,
              "#bd3786"
             ],
             [
              0.5555555555555556,
              "#d8576b"
             ],
             [
              0.6666666666666666,
              "#ed7953"
             ],
             [
              0.7777777777777778,
              "#fb9f3a"
             ],
             [
              0.8888888888888888,
              "#fdca26"
             ],
             [
              1,
              "#f0f921"
             ]
            ],
            "type": "histogram2dcontour"
           }
          ],
          "mesh3d": [
           {
            "colorbar": {
             "outlinewidth": 0,
             "ticks": ""
            },
            "type": "mesh3d"
           }
          ],
          "parcoords": [
           {
            "line": {
             "colorbar": {
              "outlinewidth": 0,
              "ticks": ""
             }
            },
            "type": "parcoords"
           }
          ],
          "pie": [
           {
            "automargin": true,
            "type": "pie"
           }
          ],
          "scatter": [
           {
            "marker": {
             "colorbar": {
              "outlinewidth": 0,
              "ticks": ""
             }
            },
            "type": "scatter"
           }
          ],
          "scatter3d": [
           {
            "line": {
             "colorbar": {
              "outlinewidth": 0,
              "ticks": ""
             }
            },
            "marker": {
             "colorbar": {
              "outlinewidth": 0,
              "ticks": ""
             }
            },
            "type": "scatter3d"
           }
          ],
          "scattercarpet": [
           {
            "marker": {
             "colorbar": {
              "outlinewidth": 0,
              "ticks": ""
             }
            },
            "type": "scattercarpet"
           }
          ],
          "scattergeo": [
           {
            "marker": {
             "colorbar": {
              "outlinewidth": 0,
              "ticks": ""
             }
            },
            "type": "scattergeo"
           }
          ],
          "scattergl": [
           {
            "marker": {
             "colorbar": {
              "outlinewidth": 0,
              "ticks": ""
             }
            },
            "type": "scattergl"
           }
          ],
          "scattermapbox": [
           {
            "marker": {
             "colorbar": {
              "outlinewidth": 0,
              "ticks": ""
             }
            },
            "type": "scattermapbox"
           }
          ],
          "scatterpolar": [
           {
            "marker": {
             "colorbar": {
              "outlinewidth": 0,
              "ticks": ""
             }
            },
            "type": "scatterpolar"
           }
          ],
          "scatterpolargl": [
           {
            "marker": {
             "colorbar": {
              "outlinewidth": 0,
              "ticks": ""
             }
            },
            "type": "scatterpolargl"
           }
          ],
          "scatterternary": [
           {
            "marker": {
             "colorbar": {
              "outlinewidth": 0,
              "ticks": ""
             }
            },
            "type": "scatterternary"
           }
          ],
          "surface": [
           {
            "colorbar": {
             "outlinewidth": 0,
             "ticks": ""
            },
            "colorscale": [
             [
              0,
              "#0d0887"
             ],
             [
              0.1111111111111111,
              "#46039f"
             ],
             [
              0.2222222222222222,
              "#7201a8"
             ],
             [
              0.3333333333333333,
              "#9c179e"
             ],
             [
              0.4444444444444444,
              "#bd3786"
             ],
             [
              0.5555555555555556,
              "#d8576b"
             ],
             [
              0.6666666666666666,
              "#ed7953"
             ],
             [
              0.7777777777777778,
              "#fb9f3a"
             ],
             [
              0.8888888888888888,
              "#fdca26"
             ],
             [
              1,
              "#f0f921"
             ]
            ],
            "type": "surface"
           }
          ],
          "table": [
           {
            "cells": {
             "fill": {
              "color": "#EBF0F8"
             },
             "line": {
              "color": "white"
             }
            },
            "header": {
             "fill": {
              "color": "#C8D4E3"
             },
             "line": {
              "color": "white"
             }
            },
            "type": "table"
           }
          ]
         },
         "layout": {
          "annotationdefaults": {
           "arrowcolor": "#2a3f5f",
           "arrowhead": 0,
           "arrowwidth": 1
          },
          "coloraxis": {
           "colorbar": {
            "outlinewidth": 0,
            "ticks": ""
           }
          },
          "colorscale": {
           "diverging": [
            [
             0,
             "#8e0152"
            ],
            [
             0.1,
             "#c51b7d"
            ],
            [
             0.2,
             "#de77ae"
            ],
            [
             0.3,
             "#f1b6da"
            ],
            [
             0.4,
             "#fde0ef"
            ],
            [
             0.5,
             "#f7f7f7"
            ],
            [
             0.6,
             "#e6f5d0"
            ],
            [
             0.7,
             "#b8e186"
            ],
            [
             0.8,
             "#7fbc41"
            ],
            [
             0.9,
             "#4d9221"
            ],
            [
             1,
             "#276419"
            ]
           ],
           "sequential": [
            [
             0,
             "#0d0887"
            ],
            [
             0.1111111111111111,
             "#46039f"
            ],
            [
             0.2222222222222222,
             "#7201a8"
            ],
            [
             0.3333333333333333,
             "#9c179e"
            ],
            [
             0.4444444444444444,
             "#bd3786"
            ],
            [
             0.5555555555555556,
             "#d8576b"
            ],
            [
             0.6666666666666666,
             "#ed7953"
            ],
            [
             0.7777777777777778,
             "#fb9f3a"
            ],
            [
             0.8888888888888888,
             "#fdca26"
            ],
            [
             1,
             "#f0f921"
            ]
           ],
           "sequentialminus": [
            [
             0,
             "#0d0887"
            ],
            [
             0.1111111111111111,
             "#46039f"
            ],
            [
             0.2222222222222222,
             "#7201a8"
            ],
            [
             0.3333333333333333,
             "#9c179e"
            ],
            [
             0.4444444444444444,
             "#bd3786"
            ],
            [
             0.5555555555555556,
             "#d8576b"
            ],
            [
             0.6666666666666666,
             "#ed7953"
            ],
            [
             0.7777777777777778,
             "#fb9f3a"
            ],
            [
             0.8888888888888888,
             "#fdca26"
            ],
            [
             1,
             "#f0f921"
            ]
           ]
          },
          "colorway": [
           "#636efa",
           "#EF553B",
           "#00cc96",
           "#ab63fa",
           "#FFA15A",
           "#19d3f3",
           "#FF6692",
           "#B6E880",
           "#FF97FF",
           "#FECB52"
          ],
          "font": {
           "color": "#2a3f5f"
          },
          "geo": {
           "bgcolor": "white",
           "lakecolor": "white",
           "landcolor": "#E5ECF6",
           "showlakes": true,
           "showland": true,
           "subunitcolor": "white"
          },
          "hoverlabel": {
           "align": "left"
          },
          "hovermode": "closest",
          "mapbox": {
           "style": "light"
          },
          "paper_bgcolor": "white",
          "plot_bgcolor": "#E5ECF6",
          "polar": {
           "angularaxis": {
            "gridcolor": "white",
            "linecolor": "white",
            "ticks": ""
           },
           "bgcolor": "#E5ECF6",
           "radialaxis": {
            "gridcolor": "white",
            "linecolor": "white",
            "ticks": ""
           }
          },
          "scene": {
           "xaxis": {
            "backgroundcolor": "#E5ECF6",
            "gridcolor": "white",
            "gridwidth": 2,
            "linecolor": "white",
            "showbackground": true,
            "ticks": "",
            "zerolinecolor": "white"
           },
           "yaxis": {
            "backgroundcolor": "#E5ECF6",
            "gridcolor": "white",
            "gridwidth": 2,
            "linecolor": "white",
            "showbackground": true,
            "ticks": "",
            "zerolinecolor": "white"
           },
           "zaxis": {
            "backgroundcolor": "#E5ECF6",
            "gridcolor": "white",
            "gridwidth": 2,
            "linecolor": "white",
            "showbackground": true,
            "ticks": "",
            "zerolinecolor": "white"
           }
          },
          "shapedefaults": {
           "line": {
            "color": "#2a3f5f"
           }
          },
          "ternary": {
           "aaxis": {
            "gridcolor": "white",
            "linecolor": "white",
            "ticks": ""
           },
           "baxis": {
            "gridcolor": "white",
            "linecolor": "white",
            "ticks": ""
           },
           "bgcolor": "#E5ECF6",
           "caxis": {
            "gridcolor": "white",
            "linecolor": "white",
            "ticks": ""
           }
          },
          "title": {
           "x": 0.05
          },
          "xaxis": {
           "automargin": true,
           "gridcolor": "white",
           "linecolor": "white",
           "ticks": "",
           "title": {
            "standoff": 15
           },
           "zerolinecolor": "white",
           "zerolinewidth": 2
          },
          "yaxis": {
           "automargin": true,
           "gridcolor": "white",
           "linecolor": "white",
           "ticks": "",
           "title": {
            "standoff": 15
           },
           "zerolinecolor": "white",
           "zerolinewidth": 2
          }
         }
        },
        "ternary": {
         "aaxis": {
          "linecolor": "black",
          "showgrid": false,
          "tickcolor": "black",
          "ticks": "inside",
          "title": {
           "text": "TiSn"
          }
         },
         "baxis": {
          "linecolor": "black",
          "showgrid": false,
          "tickcolor": "black",
          "ticks": "inside",
          "title": {
           "text": "Nb"
          }
         },
         "bgcolor": "white",
         "caxis": {
          "linecolor": "black",
          "showgrid": false,
          "tickcolor": "black",
          "ticks": "inside",
          "title": {
           "text": "Ta"
          }
         },
         "domain": {
          "x": [
           0,
           1
          ],
          "y": [
           0,
           1
          ]
         }
        }
       }
      },
      "text/html": [
       "<div>\n",
       "        \n",
       "        \n",
       "            <div id=\"a360278b-9f82-4e31-9d43-5db3f16c7ee8\" class=\"plotly-graph-div\" style=\"height:600px; width:100%;\"></div>\n",
       "            <script type=\"text/javascript\">\n",
       "                require([\"plotly\"], function(Plotly) {\n",
       "                    window.PLOTLYENV=window.PLOTLYENV || {};\n",
       "                    \n",
       "                if (document.getElementById(\"a360278b-9f82-4e31-9d43-5db3f16c7ee8\")) {\n",
       "                    Plotly.newPlot(\n",
       "                        'a360278b-9f82-4e31-9d43-5db3f16c7ee8',\n",
       "                        [{\"a\": [89.08502323746521, 90.35617911615185, 88.74787330428742, 89.21482548001431], \"b\": [4.474646305536132, 5.362607946664326, 4.9068570189481475, 8.090754859877661], \"c\": [6.440330456998665, 4.281212937183828, 6.345269676764439, 2.6944196601080246], \"customdata\": [[\"Ore1\", \"BU19TS(2)-ore1.1\"], [\"Ore1\", \"BU19TS(2)-ore1.6\"], [\"Ore2\", \"BU19TS(2)-ore2.4\"], [\"Ore5\", \"BU19TS(2)-Ore5.3\"]], \"hoverlabel\": {\"namelength\": 0}, \"hovertemplate\": \"sample=BU19TS(2)<br>Context=patchy<br>TiSn=%{a}<br>Nb=%{b}<br>Ta=%{c}<br>area=%{customdata[0]}<br>point=%{customdata[1]}\", \"legendgroup\": \"sample=BU19TS(2), Context=patchy\", \"marker\": {\"color\": \"#636efa\", \"size\": 8, \"symbol\": \"circle\"}, \"mode\": \"markers\", \"name\": \"sample=BU19TS(2), Context=patchy\", \"showlegend\": true, \"subplot\": \"ternary\", \"type\": \"scatterternary\"}, {\"a\": [91.0695362508535, 91.32305838629333, 91.44491653018719, 87.13859458462233, 88.70522795245076, 90.8084253588347, 89.71475503068345, 88.95475217564255, 86.55726669062828, 90.56383710189462, 86.69441286680704, 90.41032921232976, 87.26324640407206, 90.42760049880165], \"b\": [5.665098673052744, 5.869250737691401, 7.497667708494442, 10.509037416410031, 8.668417585969799, 7.166272439451555, 8.735623450385063, 8.720077098310869, 10.344722251259387, 7.260677541990038, 9.405457486710688, 7.625594019349295, 8.624605058513602, 7.244598607887968], \"c\": [3.265365076093757, 2.8076908760152794, 1.057415761318363, 2.3523679989676425, 2.6263544615794503, 2.0253022017137434, 1.5496215189314815, 2.325170726046568, 3.0980110581123297, 2.1754853561153373, 3.9001296464822794, 1.964076768320958, 4.112148537414336, 2.327800893310384], \"customdata\": [[\"Ore1\", \"BU19TS(2)-ore1.2\"], [\"Ore1\", \"BU19TS(2)-ore1.4\"], [\"Ore2\", \"BU19TS(2)-ore2.2\"], [\"Ore2\", \"BU19TS(2)-ore2.3\"], [\"Ore3\", \"BU19TS(2)-ore3a.1\"], [\"Ore3\", \"BU19TS(2)-ore3a.2\"], [\"Ore3\", \"BU19TS(2)-ore3b.1\"], [\"Ore3\", \"BU19TS(2)-ore3c.1\"], [\"Ore3\", \"BU19TS(2)-ore3c.2\"], [\"Ore3\", \"BU19TS(2)-ore3d.2\"], [\"Ore3\", \"BU19TS(2)-ore3d.3\"], [\"Ore5\", \"BU19TS(2)-Ore5.1\"], [\"Ore5\", \"BU19TS(2)-Ore5.2\"], [\"Ore5\", \"BU19TS(2)-Ore5.4\"]], \"hoverlabel\": {\"namelength\": 0}, \"hovertemplate\": \"sample=BU19TS(2)<br>Context=core<br>TiSn=%{a}<br>Nb=%{b}<br>Ta=%{c}<br>area=%{customdata[0]}<br>point=%{customdata[1]}\", \"legendgroup\": \"sample=BU19TS(2), Context=core\", \"marker\": {\"color\": \"#636efa\", \"size\": 8, \"symbol\": \"diamond\"}, \"mode\": \"markers\", \"name\": \"sample=BU19TS(2), Context=core\", \"showlegend\": true, \"subplot\": \"ternary\", \"type\": \"scatterternary\"}, {\"a\": [88.1489780176559, 89.75862056101714, 83.65375788064654, 88.73090157442286, 88.22581266045209, 89.68774164831055, 92.61238492170587], \"b\": [5.710741641299505, 5.761587264277718, 5.486292852434144, 4.826068687226863, 8.82788412416599, 8.876061019565114, 5.752913772975139], \"c\": [6.140280341044588, 4.479792174705133, 10.85994926691932, 6.443029738350275, 2.94630321538192, 1.436197332124338, 1.6347013053189918], \"customdata\": [[\"Ore1\", \"BU19TS(2)-ore1.3\"], [\"Ore1\", \"BU19TS(2)-ore1.5\"], [\"Ore2\", \"BU19TS(2)-ore2.1\"], [\"Ore2\", \"BU19TS(2)-ore2.5\"], [\"Ore3\", \"BU19TS(2)-ore3a.3\"], [\"Ore3\", \"BU19TS(2)-ore3b.2\"], [\"Ore3\", \"BU19TS(2)-ore3d.1\"]], \"hoverlabel\": {\"namelength\": 0}, \"hovertemplate\": \"sample=BU19TS(2)<br>Context=rim<br>TiSn=%{a}<br>Nb=%{b}<br>Ta=%{c}<br>area=%{customdata[0]}<br>point=%{customdata[1]}\", \"legendgroup\": \"sample=BU19TS(2), Context=rim\", \"marker\": {\"color\": \"#636efa\", \"size\": 8, \"symbol\": \"square\"}, \"mode\": \"markers\", \"name\": \"sample=BU19TS(2), Context=rim\", \"showlegend\": true, \"subplot\": \"ternary\", \"type\": \"scatterternary\"}, {\"a\": [90.57403421506098], \"b\": [5.330966987656899], \"c\": [4.094998797282137], \"customdata\": [[\"Ore4\", \"BU19w-Rut4.3\"]], \"hoverlabel\": {\"namelength\": 0}, \"hovertemplate\": \"sample=BU19w<br>Context=patchy<br>TiSn=%{a}<br>Nb=%{b}<br>Ta=%{c}<br>area=%{customdata[0]}<br>point=%{customdata[1]}\", \"legendgroup\": \"sample=BU19w, Context=patchy\", \"marker\": {\"color\": \"#EF553B\", \"size\": 8, \"symbol\": \"circle\"}, \"mode\": \"markers\", \"name\": \"sample=BU19w, Context=patchy\", \"showlegend\": true, \"subplot\": \"ternary\", \"type\": \"scatterternary\"}, {\"a\": [95.49148771021177, 97.00372255985693, 90.40014233571942, 95.49187850504921, 96.56745396482633, 92.9414761136215, 94.79502643398293, 96.31354830781308, 91.90286631460977], \"b\": [3.8617608154238816, 2.4245446307957508, 4.404305508116531, 3.6909617328358935, 2.7213218362066676, 3.8396392675042526, 3.660529818551006, 1.9727817220256196, 5.416066789244332], \"c\": [0.6467514743643454, 0.571732809347315, 5.195552156164047, 0.8171597621149058, 0.7112241989669962, 3.218884618874244, 1.5444437474660602, 1.713669970161311, 2.6810668961459023], \"customdata\": [[\"Ore2\", \"Rut2.1\"], [\"Ore2\", \"Rut2b.2\"], [\"Ore2\", \"Rut2.2\"], [\"Ore2\", \"Rut2b.4\"], [\"Ore2\", \"Rut2b.5\"], [\"Ore2\", \"Rut2.6\"], [\"Ore2\", \"Rut2.7\"], [\"Ore4\", \"BU19w-Rut4.2\"], [\"Ore5\", \"BU19w-Area7_ore.2\"]], \"hoverlabel\": {\"namelength\": 0}, \"hovertemplate\": \"sample=BU19w<br>Context=core<br>TiSn=%{a}<br>Nb=%{b}<br>Ta=%{c}<br>area=%{customdata[0]}<br>point=%{customdata[1]}\", \"legendgroup\": \"sample=BU19w, Context=core\", \"marker\": {\"color\": \"#EF553B\", \"size\": 8, \"symbol\": \"diamond\"}, \"mode\": \"markers\", \"name\": \"sample=BU19w, Context=core\", \"showlegend\": true, \"subplot\": \"ternary\", \"type\": \"scatterternary\"}, {\"a\": [90.80158370222773, 91.04229148224135, 88.61558737181181, 90.01109907498153, 93.92281990295615, 90.65518890310096], \"b\": [4.489947738490833, 4.157083853078595, 6.66613807772298, 5.09280621781812, 3.495334287001725, 6.464000736063611], \"c\": [4.708468559281442, 4.800624664680043, 4.718274550465213, 4.896094707200352, 2.58184581004213, 2.8808103608354165], \"customdata\": [[\"Ore2\", \"Rut2.5\"], [\"Ore2\", \"Rut2.8\"], [\"Ore3\", \"BU19w-Rut3.2\"], [\"Ore3\", \"BU19w-Rut3.4\"], [\"Ore4\", \"BU19w-Rut4.1\"], [\"Ore5\", \"BU19w-Area7_ore.3\"]], \"hoverlabel\": {\"namelength\": 0}, \"hovertemplate\": \"sample=BU19w<br>Context=rim<br>TiSn=%{a}<br>Nb=%{b}<br>Ta=%{c}<br>area=%{customdata[0]}<br>point=%{customdata[1]}\", \"legendgroup\": \"sample=BU19w, Context=rim\", \"marker\": {\"color\": \"#EF553B\", \"size\": 8, \"symbol\": \"square\"}, \"mode\": \"markers\", \"name\": \"sample=BU19w, Context=rim\", \"showlegend\": true, \"subplot\": \"ternary\", \"type\": \"scatterternary\"}, {\"a\": [95.97094688772289], \"b\": [3.6150981077272757], \"c\": [0.4139550045498373], \"customdata\": [[\"Ore2\", \"Rut2.4\"]], \"hoverlabel\": {\"namelength\": 0}, \"hovertemplate\": \"sample=BU19w<br>Context=overgrowth<br>TiSn=%{a}<br>Nb=%{b}<br>Ta=%{c}<br>area=%{customdata[0]}<br>point=%{customdata[1]}\", \"legendgroup\": \"sample=BU19w, Context=overgrowth\", \"marker\": {\"color\": \"#EF553B\", \"size\": 8, \"symbol\": \"x\"}, \"mode\": \"markers\", \"name\": \"sample=BU19w, Context=overgrowth\", \"showlegend\": true, \"subplot\": \"ternary\", \"type\": \"scatterternary\"}, {\"a\": [2.0037843412227576, 3.2850709108444223, 1.8610561455915282, 82.76123986059089], \"b\": [92.24267906562099, 81.34474188681844, 80.31463480200696, 9.089999374691716], \"c\": [5.753536593156245, 15.370187202337146, 17.824309052401496, 8.148760764717395], \"customdata\": [[\"Ore1\", \"BU04-Ore1.2 \"], [\"Ore1\", \"BU04-Ore1.8 \"], [\"Ore1\", \"BU04-Ore1.10 \"], [\"Ore2\", \"Rut2.2\"]], \"hoverlabel\": {\"namelength\": 0}, \"hovertemplate\": \"sample=BU04<br>Context=patchy<br>TiSn=%{a}<br>Nb=%{b}<br>Ta=%{c}<br>area=%{customdata[0]}<br>point=%{customdata[1]}\", \"legendgroup\": \"sample=BU04, Context=patchy\", \"marker\": {\"color\": \"#00cc96\", \"size\": 8, \"symbol\": \"circle\"}, \"mode\": \"markers\", \"name\": \"sample=BU04, Context=patchy\", \"showlegend\": true, \"subplot\": \"ternary\", \"type\": \"scatterternary\"}, {\"a\": [4.115627841590863, 5.020814617848559, 5.172147884314135, 14.972775257962967, 85.51214373064656], \"b\": [80.23360006646062, 81.15253853284166, 80.42364043041972, 63.48944379756733, 9.70851121892901], \"c\": [15.650772091948523, 13.826646849309773, 14.40421168526613, 21.537780944469713, 4.779345050424426], \"customdata\": [[\"Ore1\", \"BU04-Ore1.5 \"], [\"Ore1\", \"BU04-Ore1.6 \"], [\"Ore1\", \"BU04-Ore1.7 \"], [\"Ore2\", \"BU04-Ore2_coltan2 \"], [\"Ore2\", \"Rut2.3\"]], \"hoverlabel\": {\"namelength\": 0}, \"hovertemplate\": \"sample=BU04<br>Context=core<br>TiSn=%{a}<br>Nb=%{b}<br>Ta=%{c}<br>area=%{customdata[0]}<br>point=%{customdata[1]}\", \"legendgroup\": \"sample=BU04, Context=core\", \"marker\": {\"color\": \"#00cc96\", \"size\": 8, \"symbol\": \"diamond\"}, \"mode\": \"markers\", \"name\": \"sample=BU04, Context=core\", \"showlegend\": true, \"subplot\": \"ternary\", \"type\": \"scatterternary\"}, {\"a\": [3.647974073894656, 4.13904661854824, 5.619074900570588, 65.886422105733], \"b\": [71.81358122902506, 74.39257348739255, 78.22830348800935, 22.41263209208838], \"c\": [24.53844469708029, 21.468379894059193, 16.152621611420077, 11.700945802178623], \"customdata\": [[\"Ore1\", \"BU04-Ore1.3 \"], [\"Ore1\", \"BU04-Ore1.4 \"], [\"Ore1\", \"BU04-Ore1.9 \"], [\"Ore2\", \"BU04-Ore2_coltan1 \"]], \"hoverlabel\": {\"namelength\": 0}, \"hovertemplate\": \"sample=BU04<br>Context=rim<br>TiSn=%{a}<br>Nb=%{b}<br>Ta=%{c}<br>area=%{customdata[0]}<br>point=%{customdata[1]}\", \"legendgroup\": \"sample=BU04, Context=rim\", \"marker\": {\"color\": \"#00cc96\", \"size\": 8, \"symbol\": \"square\"}, \"mode\": \"markers\", \"name\": \"sample=BU04, Context=rim\", \"showlegend\": true, \"subplot\": \"ternary\", \"type\": \"scatterternary\"}, {\"a\": [5.391365880866051, 4.463948990888686, 4.208861112375307], \"b\": [72.18620327919373, 64.04044474107789, 71.55675822616627], \"c\": [22.422430839940205, 31.495606268033416, 24.23438066145843], \"customdata\": [[\"Ore1\", \"BU19TS-coltan1.3 \"], [\"Ore2\", \"BU19TS-coltan2.4 \"], [\"Ore2\", \"BU19TS-coltan2.5 \"]], \"hoverlabel\": {\"namelength\": 0}, \"hovertemplate\": \"sample=BU19TS<br>Context=patchy<br>TiSn=%{a}<br>Nb=%{b}<br>Ta=%{c}<br>area=%{customdata[0]}<br>point=%{customdata[1]}\", \"legendgroup\": \"sample=BU19TS, Context=patchy\", \"marker\": {\"color\": \"#ab63fa\", \"size\": 8, \"symbol\": \"circle\"}, \"mode\": \"markers\", \"name\": \"sample=BU19TS, Context=patchy\", \"showlegend\": true, \"subplot\": \"ternary\", \"type\": \"scatterternary\"}, {\"a\": [5.379330497531149, 6.057152177893706, 8.051341730039171, 4.697442377479603, 4.608727736818084, 8.888523854939812, 6.7106027824216445], \"b\": [63.381283381509476, 60.8708765245776, 55.942707946841864, 63.65789370882511, 67.05060579646394, 53.55812633975364, 54.05012369525344], \"c\": [31.239386120959377, 33.07197129752869, 36.00595032311897, 31.644663913695293, 28.340666466717977, 37.55334980530654, 39.23927352232491], \"customdata\": [[\"Ore1\", \"BU19TS-coltan1.2 \"], [\"Ore1\", \"BU19TS-coltan1.4 \"], [\"Ore1\", \"BU19TS-coltan1.7 \"], [\"Ore2\", \"BU19TS-coltan2.2 \"], [\"Ore2\", \"BU19TS-coltan2.3 \"], [\"Ore3\", \"BU19TS-coltan3.2 \"], [\"Ore3\", \"BU19TS-coltan3.3 \"]], \"hoverlabel\": {\"namelength\": 0}, \"hovertemplate\": \"sample=BU19TS<br>Context=core<br>TiSn=%{a}<br>Nb=%{b}<br>Ta=%{c}<br>area=%{customdata[0]}<br>point=%{customdata[1]}\", \"legendgroup\": \"sample=BU19TS, Context=core\", \"marker\": {\"color\": \"#ab63fa\", \"size\": 8, \"symbol\": \"diamond\"}, \"mode\": \"markers\", \"name\": \"sample=BU19TS, Context=core\", \"showlegend\": true, \"subplot\": \"ternary\", \"type\": \"scatterternary\"}, {\"a\": [6.942506899138902, 7.4731923093065245, 7.9309711648322425, 5.906399797767558, 5.332595672606742], \"b\": [55.84393926783912, 56.1750269882839, 57.80543820023817, 60.04465639628687, 68.08057704523121], \"c\": [37.21355383302198, 36.35178070240957, 34.263590634929585, 34.04894380594558, 26.586827282162062], \"customdata\": [[\"Ore1\", \"BU19TS-coltan1.1 \"], [\"Ore1\", \"BU19TS-coltan1.5 \"], [\"Ore1\", \"BU19TS-coltan1.6 \"], [\"Ore2\", \"BU19TS-coltan2.6 \"], [\"Ore3\", \"BU19TS-coltan3.1 \"]], \"hoverlabel\": {\"namelength\": 0}, \"hovertemplate\": \"sample=BU19TS<br>Context=rim<br>TiSn=%{a}<br>Nb=%{b}<br>Ta=%{c}<br>area=%{customdata[0]}<br>point=%{customdata[1]}\", \"legendgroup\": \"sample=BU19TS, Context=rim\", \"marker\": {\"color\": \"#ab63fa\", \"size\": 8, \"symbol\": \"square\"}, \"mode\": \"markers\", \"name\": \"sample=BU19TS, Context=rim\", \"showlegend\": true, \"subplot\": \"ternary\", \"type\": \"scatterternary\"}, {\"a\": [1.102120018284944, 1.9812322895393892, 1.9366355489643217, 1.3305870604044483, 1.1664247949481523, 1.1767630949886283, 2.347556305761488, 1.4598576920248132, 2.254149851365195, 2.168988225553994], \"b\": [89.25596831104184, 86.12991406413683, 84.39925178989989, 86.91235806001526, 86.01739430415967, 85.84997171603423, 87.2922826190002, 91.29972994952597, 88.34116417076044, 87.93575877615557], \"c\": [9.641911670673204, 11.888853646323776, 13.664112661135796, 11.757054879580291, 12.816180900892176, 12.973265188977145, 10.360161075238295, 7.240412358449228, 9.40468597787438, 9.895252998290449], \"customdata\": [[\"Ore1\", \"BU24-coltan1.2 \"], [\"Ore2\", \"BU24-coltan2.2 \"], [\"Ore2\", \"BU24-coltan2.3 \"], [\"Ore3\", \"BU24-coltan3.1 \"], [\"Ore3\", \"BU24-coltan3.4 \"], [\"Ore3\", \"BU24-coltan3.5 \"], [\"Ore4\", \"BU24-Ore4.2\"], [\"Ore4\", \"BU24-Ore4.3\"], [\"Ore4\", \"BU24-Ore4.5\"], [\"Ore4\", \"BU24-Ore4.7\"]], \"hoverlabel\": {\"namelength\": 0}, \"hovertemplate\": \"sample=BU24<br>Context=core<br>TiSn=%{a}<br>Nb=%{b}<br>Ta=%{c}<br>area=%{customdata[0]}<br>point=%{customdata[1]}\", \"legendgroup\": \"sample=BU24, Context=core\", \"marker\": {\"color\": \"#FFA15A\", \"size\": 8, \"symbol\": \"diamond\"}, \"mode\": \"markers\", \"name\": \"sample=BU24, Context=core\", \"showlegend\": true, \"subplot\": \"ternary\", \"type\": \"scatterternary\"}, {\"a\": [1.1614887584425737, 1.9956634326444038, 1.2441017100620728, 2.725860850770483, 1.4525680787978348, 0.9685411003691361, 0.7434477279986274, 0.8388345799822796], \"b\": [89.9906311199042, 85.45233075057256, 54.14795555090779, 70.02001783165514, 69.44197145658035, 80.46584723864541, 83.87119812179668, 84.2951257958318], \"c\": [8.847880121653224, 12.552005816783026, 44.60794273903015, 27.25412131757437, 29.105460464621824, 18.565611660985457, 15.385354150204705, 14.866039624185929], \"customdata\": [[\"Ore1\", \"BU24-coltan1.1 \"], [\"Ore2\", \"BU24-coltan2.1 \"], [\"Ore3\", \"BU24-coltan3.2 \"], [\"Ore3\", \"BU24-coltan3.3 \"], [\"Ore3\", \"BU24-coltan3.6 \"], [\"Ore4\", \"BU24-Ore4.1\"], [\"Ore4\", \"BU24-Ore4.4\"], [\"Ore4\", \"BU24-Ore4.6\"]], \"hoverlabel\": {\"namelength\": 0}, \"hovertemplate\": \"sample=BU24<br>Context=rim<br>TiSn=%{a}<br>Nb=%{b}<br>Ta=%{c}<br>area=%{customdata[0]}<br>point=%{customdata[1]}\", \"legendgroup\": \"sample=BU24, Context=rim\", \"marker\": {\"color\": \"#FFA15A\", \"size\": 8, \"symbol\": \"square\"}, \"mode\": \"markers\", \"name\": \"sample=BU24, Context=rim\", \"showlegend\": true, \"subplot\": \"ternary\", \"type\": \"scatterternary\"}, {\"a\": [92.90736814976621, 93.38096271944792, 96.10332379961696], \"b\": [1.1573768987184219, 1.4481668179415736, 1.33761851451497], \"c\": [5.935254951515366, 5.170870462610503, 2.5590576858680802], \"customdata\": [[\"Ore1\", \"BU19TS(1)-rutile1.3\"], [\"Ore1\", \"BU19TS(1)-rutile1.4\"], [\"Ore2\", \"Rut2.1\"]], \"hoverlabel\": {\"namelength\": 0}, \"hovertemplate\": \"sample=BU19TS(1)<br>Context=core<br>TiSn=%{a}<br>Nb=%{b}<br>Ta=%{c}<br>area=%{customdata[0]}<br>point=%{customdata[1]}\", \"legendgroup\": \"sample=BU19TS(1), Context=core\", \"marker\": {\"color\": \"#19d3f3\", \"size\": 8, \"symbol\": \"diamond\"}, \"mode\": \"markers\", \"name\": \"sample=BU19TS(1), Context=core\", \"showlegend\": true, \"subplot\": \"ternary\", \"type\": \"scatterternary\"}, {\"a\": [96.83733270412294], \"b\": [1.290125173780616], \"c\": [1.8725421220964429], \"customdata\": [[\"Ore2\", \"Rut2.2\"]], \"hoverlabel\": {\"namelength\": 0}, \"hovertemplate\": \"sample=BU19TS(1)<br>Context=rim<br>TiSn=%{a}<br>Nb=%{b}<br>Ta=%{c}<br>area=%{customdata[0]}<br>point=%{customdata[1]}\", \"legendgroup\": \"sample=BU19TS(1), Context=rim\", \"marker\": {\"color\": \"#19d3f3\", \"size\": 8, \"symbol\": \"square\"}, \"mode\": \"markers\", \"name\": \"sample=BU19TS(1), Context=rim\", \"showlegend\": true, \"subplot\": \"ternary\", \"type\": \"scatterternary\"}],\n",
       "                        {\"height\": 600, \"legend\": {\"tracegroupgap\": 0}, \"margin\": {\"t\": 60}, \"template\": {\"data\": {\"bar\": [{\"error_x\": {\"color\": \"#2a3f5f\"}, \"error_y\": {\"color\": \"#2a3f5f\"}, \"marker\": {\"line\": {\"color\": \"#E5ECF6\", \"width\": 0.5}}, \"type\": \"bar\"}], \"barpolar\": [{\"marker\": {\"line\": {\"color\": \"#E5ECF6\", \"width\": 0.5}}, \"type\": \"barpolar\"}], \"carpet\": [{\"aaxis\": {\"endlinecolor\": \"#2a3f5f\", \"gridcolor\": \"white\", \"linecolor\": \"white\", \"minorgridcolor\": \"white\", \"startlinecolor\": \"#2a3f5f\"}, \"baxis\": {\"endlinecolor\": \"#2a3f5f\", \"gridcolor\": \"white\", \"linecolor\": \"white\", \"minorgridcolor\": \"white\", \"startlinecolor\": \"#2a3f5f\"}, \"type\": \"carpet\"}], \"choropleth\": [{\"colorbar\": {\"outlinewidth\": 0, \"ticks\": \"\"}, \"type\": \"choropleth\"}], \"contour\": [{\"colorbar\": {\"outlinewidth\": 0, \"ticks\": \"\"}, \"colorscale\": [[0.0, \"#0d0887\"], [0.1111111111111111, \"#46039f\"], [0.2222222222222222, \"#7201a8\"], [0.3333333333333333, \"#9c179e\"], [0.4444444444444444, \"#bd3786\"], [0.5555555555555556, \"#d8576b\"], [0.6666666666666666, \"#ed7953\"], [0.7777777777777778, \"#fb9f3a\"], [0.8888888888888888, \"#fdca26\"], [1.0, \"#f0f921\"]], \"type\": \"contour\"}], \"contourcarpet\": [{\"colorbar\": {\"outlinewidth\": 0, \"ticks\": \"\"}, \"type\": \"contourcarpet\"}], \"heatmap\": [{\"colorbar\": {\"outlinewidth\": 0, \"ticks\": \"\"}, \"colorscale\": [[0.0, \"#0d0887\"], [0.1111111111111111, \"#46039f\"], [0.2222222222222222, \"#7201a8\"], [0.3333333333333333, \"#9c179e\"], [0.4444444444444444, \"#bd3786\"], [0.5555555555555556, \"#d8576b\"], [0.6666666666666666, \"#ed7953\"], [0.7777777777777778, \"#fb9f3a\"], [0.8888888888888888, \"#fdca26\"], [1.0, \"#f0f921\"]], \"type\": \"heatmap\"}], \"heatmapgl\": [{\"colorbar\": {\"outlinewidth\": 0, \"ticks\": \"\"}, \"colorscale\": [[0.0, \"#0d0887\"], [0.1111111111111111, \"#46039f\"], [0.2222222222222222, \"#7201a8\"], [0.3333333333333333, \"#9c179e\"], [0.4444444444444444, \"#bd3786\"], [0.5555555555555556, \"#d8576b\"], [0.6666666666666666, \"#ed7953\"], [0.7777777777777778, \"#fb9f3a\"], [0.8888888888888888, \"#fdca26\"], [1.0, \"#f0f921\"]], \"type\": \"heatmapgl\"}], \"histogram\": [{\"marker\": {\"colorbar\": {\"outlinewidth\": 0, \"ticks\": \"\"}}, \"type\": \"histogram\"}], \"histogram2d\": [{\"colorbar\": {\"outlinewidth\": 0, \"ticks\": \"\"}, \"colorscale\": [[0.0, \"#0d0887\"], [0.1111111111111111, \"#46039f\"], [0.2222222222222222, \"#7201a8\"], [0.3333333333333333, \"#9c179e\"], [0.4444444444444444, \"#bd3786\"], [0.5555555555555556, \"#d8576b\"], [0.6666666666666666, \"#ed7953\"], [0.7777777777777778, \"#fb9f3a\"], [0.8888888888888888, \"#fdca26\"], [1.0, \"#f0f921\"]], \"type\": \"histogram2d\"}], \"histogram2dcontour\": [{\"colorbar\": {\"outlinewidth\": 0, \"ticks\": \"\"}, \"colorscale\": [[0.0, \"#0d0887\"], [0.1111111111111111, \"#46039f\"], [0.2222222222222222, \"#7201a8\"], [0.3333333333333333, \"#9c179e\"], [0.4444444444444444, \"#bd3786\"], [0.5555555555555556, \"#d8576b\"], [0.6666666666666666, \"#ed7953\"], [0.7777777777777778, \"#fb9f3a\"], [0.8888888888888888, \"#fdca26\"], [1.0, \"#f0f921\"]], \"type\": \"histogram2dcontour\"}], \"mesh3d\": [{\"colorbar\": {\"outlinewidth\": 0, \"ticks\": \"\"}, \"type\": \"mesh3d\"}], \"parcoords\": [{\"line\": {\"colorbar\": {\"outlinewidth\": 0, \"ticks\": \"\"}}, \"type\": \"parcoords\"}], \"pie\": [{\"automargin\": true, \"type\": \"pie\"}], \"scatter\": [{\"marker\": {\"colorbar\": {\"outlinewidth\": 0, \"ticks\": \"\"}}, \"type\": \"scatter\"}], \"scatter3d\": [{\"line\": {\"colorbar\": {\"outlinewidth\": 0, \"ticks\": \"\"}}, \"marker\": {\"colorbar\": {\"outlinewidth\": 0, \"ticks\": \"\"}}, \"type\": \"scatter3d\"}], \"scattercarpet\": [{\"marker\": {\"colorbar\": {\"outlinewidth\": 0, \"ticks\": \"\"}}, \"type\": \"scattercarpet\"}], \"scattergeo\": [{\"marker\": {\"colorbar\": {\"outlinewidth\": 0, \"ticks\": \"\"}}, \"type\": \"scattergeo\"}], \"scattergl\": [{\"marker\": {\"colorbar\": {\"outlinewidth\": 0, \"ticks\": \"\"}}, \"type\": \"scattergl\"}], \"scattermapbox\": [{\"marker\": {\"colorbar\": {\"outlinewidth\": 0, \"ticks\": \"\"}}, \"type\": \"scattermapbox\"}], \"scatterpolar\": [{\"marker\": {\"colorbar\": {\"outlinewidth\": 0, \"ticks\": \"\"}}, \"type\": \"scatterpolar\"}], \"scatterpolargl\": [{\"marker\": {\"colorbar\": {\"outlinewidth\": 0, \"ticks\": \"\"}}, \"type\": \"scatterpolargl\"}], \"scatterternary\": [{\"marker\": {\"colorbar\": {\"outlinewidth\": 0, \"ticks\": \"\"}}, \"type\": \"scatterternary\"}], \"surface\": [{\"colorbar\": {\"outlinewidth\": 0, \"ticks\": \"\"}, \"colorscale\": [[0.0, \"#0d0887\"], [0.1111111111111111, \"#46039f\"], [0.2222222222222222, \"#7201a8\"], [0.3333333333333333, \"#9c179e\"], [0.4444444444444444, \"#bd3786\"], [0.5555555555555556, \"#d8576b\"], [0.6666666666666666, \"#ed7953\"], [0.7777777777777778, \"#fb9f3a\"], [0.8888888888888888, \"#fdca26\"], [1.0, \"#f0f921\"]], \"type\": \"surface\"}], \"table\": [{\"cells\": {\"fill\": {\"color\": \"#EBF0F8\"}, \"line\": {\"color\": \"white\"}}, \"header\": {\"fill\": {\"color\": \"#C8D4E3\"}, \"line\": {\"color\": \"white\"}}, \"type\": \"table\"}]}, \"layout\": {\"annotationdefaults\": {\"arrowcolor\": \"#2a3f5f\", \"arrowhead\": 0, \"arrowwidth\": 1}, \"coloraxis\": {\"colorbar\": {\"outlinewidth\": 0, \"ticks\": \"\"}}, \"colorscale\": {\"diverging\": [[0, \"#8e0152\"], [0.1, \"#c51b7d\"], [0.2, \"#de77ae\"], [0.3, \"#f1b6da\"], [0.4, \"#fde0ef\"], [0.5, \"#f7f7f7\"], [0.6, \"#e6f5d0\"], [0.7, \"#b8e186\"], [0.8, \"#7fbc41\"], [0.9, \"#4d9221\"], [1, \"#276419\"]], \"sequential\": [[0.0, \"#0d0887\"], [0.1111111111111111, \"#46039f\"], [0.2222222222222222, \"#7201a8\"], [0.3333333333333333, \"#9c179e\"], [0.4444444444444444, \"#bd3786\"], [0.5555555555555556, \"#d8576b\"], [0.6666666666666666, \"#ed7953\"], [0.7777777777777778, \"#fb9f3a\"], [0.8888888888888888, \"#fdca26\"], [1.0, \"#f0f921\"]], \"sequentialminus\": [[0.0, \"#0d0887\"], [0.1111111111111111, \"#46039f\"], [0.2222222222222222, \"#7201a8\"], [0.3333333333333333, \"#9c179e\"], [0.4444444444444444, \"#bd3786\"], [0.5555555555555556, \"#d8576b\"], [0.6666666666666666, \"#ed7953\"], [0.7777777777777778, \"#fb9f3a\"], [0.8888888888888888, \"#fdca26\"], [1.0, \"#f0f921\"]]}, \"colorway\": [\"#636efa\", \"#EF553B\", \"#00cc96\", \"#ab63fa\", \"#FFA15A\", \"#19d3f3\", \"#FF6692\", \"#B6E880\", \"#FF97FF\", \"#FECB52\"], \"font\": {\"color\": \"#2a3f5f\"}, \"geo\": {\"bgcolor\": \"white\", \"lakecolor\": \"white\", \"landcolor\": \"#E5ECF6\", \"showlakes\": true, \"showland\": true, \"subunitcolor\": \"white\"}, \"hoverlabel\": {\"align\": \"left\"}, \"hovermode\": \"closest\", \"mapbox\": {\"style\": \"light\"}, \"paper_bgcolor\": \"white\", \"plot_bgcolor\": \"#E5ECF6\", \"polar\": {\"angularaxis\": {\"gridcolor\": \"white\", \"linecolor\": \"white\", \"ticks\": \"\"}, \"bgcolor\": \"#E5ECF6\", \"radialaxis\": {\"gridcolor\": \"white\", \"linecolor\": \"white\", \"ticks\": \"\"}}, \"scene\": {\"xaxis\": {\"backgroundcolor\": \"#E5ECF6\", \"gridcolor\": \"white\", \"gridwidth\": 2, \"linecolor\": \"white\", \"showbackground\": true, \"ticks\": \"\", \"zerolinecolor\": \"white\"}, \"yaxis\": {\"backgroundcolor\": \"#E5ECF6\", \"gridcolor\": \"white\", \"gridwidth\": 2, \"linecolor\": \"white\", \"showbackground\": true, \"ticks\": \"\", \"zerolinecolor\": \"white\"}, \"zaxis\": {\"backgroundcolor\": \"#E5ECF6\", \"gridcolor\": \"white\", \"gridwidth\": 2, \"linecolor\": \"white\", \"showbackground\": true, \"ticks\": \"\", \"zerolinecolor\": \"white\"}}, \"shapedefaults\": {\"line\": {\"color\": \"#2a3f5f\"}}, \"ternary\": {\"aaxis\": {\"gridcolor\": \"white\", \"linecolor\": \"white\", \"ticks\": \"\"}, \"baxis\": {\"gridcolor\": \"white\", \"linecolor\": \"white\", \"ticks\": \"\"}, \"bgcolor\": \"#E5ECF6\", \"caxis\": {\"gridcolor\": \"white\", \"linecolor\": \"white\", \"ticks\": \"\"}}, \"title\": {\"x\": 0.05}, \"xaxis\": {\"automargin\": true, \"gridcolor\": \"white\", \"linecolor\": \"white\", \"ticks\": \"\", \"title\": {\"standoff\": 15}, \"zerolinecolor\": \"white\", \"zerolinewidth\": 2}, \"yaxis\": {\"automargin\": true, \"gridcolor\": \"white\", \"linecolor\": \"white\", \"ticks\": \"\", \"title\": {\"standoff\": 15}, \"zerolinecolor\": \"white\", \"zerolinewidth\": 2}}}, \"ternary\": {\"aaxis\": {\"linecolor\": \"black\", \"showgrid\": false, \"tickcolor\": \"black\", \"ticks\": \"inside\", \"title\": {\"text\": \"TiSn\"}}, \"baxis\": {\"linecolor\": \"black\", \"showgrid\": false, \"tickcolor\": \"black\", \"ticks\": \"inside\", \"title\": {\"text\": \"Nb\"}}, \"bgcolor\": \"white\", \"caxis\": {\"linecolor\": \"black\", \"showgrid\": false, \"tickcolor\": \"black\", \"ticks\": \"inside\", \"title\": {\"text\": \"Ta\"}}, \"domain\": {\"x\": [0.0, 1.0], \"y\": [0.0, 1.0]}}},\n",
       "                        {\"responsive\": true}\n",
       "                    ).then(function(){\n",
       "                            \n",
       "var gd = document.getElementById('a360278b-9f82-4e31-9d43-5db3f16c7ee8');\n",
       "var x = new MutationObserver(function (mutations, observer) {{\n",
       "        var display = window.getComputedStyle(gd).display;\n",
       "        if (!display || display === 'none') {{\n",
       "            console.log([gd, 'removed!']);\n",
       "            Plotly.purge(gd);\n",
       "            observer.disconnect();\n",
       "        }}\n",
       "}});\n",
       "\n",
       "// Listen for the removal of the full notebook cells\n",
       "var notebookContainer = gd.closest('#notebook-container');\n",
       "if (notebookContainer) {{\n",
       "    x.observe(notebookContainer, {childList: true});\n",
       "}}\n",
       "\n",
       "// Listen for the clearing of the current output cell\n",
       "var outputEl = gd.closest('.output');\n",
       "if (outputEl) {{\n",
       "    x.observe(outputEl, {childList: true});\n",
       "}}\n",
       "\n",
       "                        })\n",
       "                };\n",
       "                });\n",
       "            </script>\n",
       "        </div>"
      ]
     },
     "metadata": {},
     "output_type": "display_data"
    }
   ],
   "source": [
    "# --- ternary plot of normalized subset\n",
    "\n",
    "fig2 = px.scatter_ternary(df_subset_normalized, a=A, b=B, c=C,\n",
    "                          color=\"sample\",hover_data=['area','point'],symbol=\"Context\")#,range_color=[1,5],color_continuous_scale='Inferno'))\n",
    "\n",
    "fig2.update_traces(marker=dict(size=8),\n",
    "                  selector=dict(mode='markers'))\n",
    "\n",
    "fig2.update_ternaries(bgcolor=\"white\")\n",
    "\n",
    "fig2.update_ternaries(aaxis_linecolor='black',aaxis_tickcolor='black',aaxis_ticks='inside',aaxis_showgrid=False,\n",
    "                      baxis_linecolor='black',baxis_tickcolor='black',baxis_ticks='inside',baxis_showgrid=False,\n",
    "                      caxis_linecolor='black',caxis_tickcolor='black',caxis_ticks='inside',caxis_showgrid=False)\n",
    "\n",
    "#fig2.update_ternaries(aaxis_min=0,baxis_min=0.5,caxis_min=0)\n",
    "#fig2.update_ternaries(aaxis_min=0.55,baxis_min=0,caxis_min=0.25)\n",
    "\n",
    "fig2.write_image(\"Ore_ternary_TiSn-Nb-Ta.pdf\")\n",
    "fig2.show()"
   ]
  },
  {
   "cell_type": "code",
   "execution_count": 22,
   "metadata": {},
   "outputs": [
    {
     "data": {
      "image/png": "[encoded data removed]",
      "text/plain": [
       "<Figure size 576x576 with 1 Axes>"
      ]
     },
     "metadata": {
      "needs_background": "light"
     },
     "output_type": "display_data"
    }
   ],
   "source": [
    "fig = plt.figure(figsize=(8,8))\n",
    "gs = gridspec.GridSpec(1,1)\n",
    "ax1 = fig.add_subplot(gs[0])\n",
    "\n",
    "ax1.plot(df_analysis['Mn#'], df_analysis['Ta#'],'ro')\n",
    "\n",
    "\n",
    "ax1.set_xlim(0,1)\n",
    "ax1.set_ylim(0,1)\n",
    "\n",
    "ax1.set_xlabel(\"Mn#\",family=\"serif\",  fontsize=12)\n",
    "ax1.set_ylabel(\"Ta#\",family=\"serif\",  fontsize=12)\n",
    "\n",
    "ax1.xaxis.set_major_locator(ticker.MultipleLocator(0.1))\n",
    "ax1.yaxis.set_major_locator(ticker.MultipleLocator(0.1))\n",
    "\n",
    "ax1.xaxis.set_minor_locator(AutoMinorLocator(2))\n",
    "ax1.yaxis.set_minor_locator(AutoMinorLocator(2))\n",
    "\n",
    "ax1.tick_params(axis='both',which='major', direction=\"in\", top=True, right=True, bottom=True, length=8, labelsize=12)\n",
    "ax1.tick_params(axis='both',which='minor', direction=\"in\", top=True, right=True, bottom=True, length=4, labelsize=12)\n",
    "\n",
    "fig.tight_layout()"
   ]
  },
  {
   "cell_type": "code",
   "execution_count": null,
   "metadata": {},
   "outputs": [],
   "source": [
    "# --- separate data from metadata - only do calculation in data afterwards\n",
    "\n",
    "df_data = df_analysis.drop(['Sample', 'Area', 'Analysis', 'Mineral','Total'], \n",
    "                             axis=1)\n",
    "\n",
    "#df_apfu = df_analysis.drop(['Sample', 'Analysis', 'Point', 'mineral','Al2O3', 'SrO', 'SiO2', 'Cl',\n",
    "       #'K2O', 'TiO2', 'Na2O', 'F', 'MgO', 'FeO', 'MnO', 'P2O5', 'CaO', 'BaO',\n",
    "       #'Total','?cations', '?cations+Li', 'Cl.1', 'F.1', 'OH', '?X'], axis=1)\n",
    "\n",
    "#df_analysis_metadata = df_analysis.drop(['SiO2', 'TiO2', 'Al2O3', 'Cr2O3',\n",
    "       #'FeO', 'MnO', 'MgO', 'CaO', 'ZnO', 'BaO', 'Na2O', 'K2O', 'F', 'Cl',\n",
    "       #'Li2O', 'H2O', 'Si', 'Al4', 'Ti', 'Al6', 'Cr', 'Fe', 'Mn', 'Mg', 'Li',\n",
    "       #'Zn', 'Ca', 'Na', 'K', 'Ba', 'F.1', 'Cl.1', 'OH', 'Mg/(Mg+Fe)', 'XF',\n",
    "       #'Li7', 'Mg24', 'P31', 'Ca44', 'Sc45', 'Ti46', 'Ti49', 'V51', 'Cr52',\n",
    "       #'Mn55', 'Co59', 'Sr88', 'Y89', 'Zr91', 'Nb93', 'Sn118', 'Ba137',\n",
    "       #'La139', 'Ce140', 'Pr141', 'Nd143', 'Sm147', 'Gd157', 'Tb159', 'Dy161',\n",
    "       #'Ho165', 'Er166', 'Tm169', 'Yb173', 'Lu175', 'Hf178', 'Ta181', 'W182',\n",
    "       #'Pb206', 'Pb207', 'Pb208', 'Th232', 'U238'], axis=1).drop(48,axis=0)\n",
    "df_data"
   ]
  },
  {
   "cell_type": "code",
   "execution_count": null,
   "metadata": {},
   "outputs": [],
   "source": [
    "# --- replace values starting with \"<\" (i.e. below detection limit) to 0.0001\n",
    "\n",
    "#df_data_bdl = df_data.replace('NaN',0.0)\n",
    "\n",
    "df_data_bdl = df_analysis.fillna(0.0)\n",
    "# --- change data type from string to float for calculations\n",
    "\n",
    "#df_data_bdl = df_data_bdl.astype(float)\n",
    "\n",
    "df_data_bdl"
   ]
  },
  {
   "cell_type": "code",
   "execution_count": null,
   "metadata": {},
   "outputs": [],
   "source": [
    "# --- add columns in the dataframe using iloc characters\n",
    "\n",
    "df_apfu[\"M3\"] = df_Al_data['Fe2O3'] + df_Al_data['Al2O3']\n",
    "df_apfu[\"M2\"] = df_Al_data['MnO'] + df_Al_data['FeO'] + df_Al_data['MgO'] + df_Al_data['CaO']\n",
    "df_apfu[\"A\"] = df_Al_data['Li2O'] + df_Al_data['Na2O']\n",
    "\n",
    "\n",
    "#df_apfu[\"X\"] = df_Al_data['H2O.1'] + df_Al_data['F']\n",
    "#df_analysis_bdl[\"Th/U\"] = df_analysis_bdl['Th232']/ df_analysis_bdl['U238']\n",
    "#df_analysis_bdl[\"REE\"] = df_analysis_bdl.iloc[:, 52:65].sum(axis=1)\n",
    "#df_analysis_bdl[\"Mg-Li\"] = df_analysis_bdl['Mg']-df_analysis_bdl['Li']"
   ]
  },
  {
   "cell_type": "code",
   "execution_count": null,
   "metadata": {},
   "outputs": [],
   "source": [
    "# --- combine calculated data with metadata\n",
    "\n",
    "df_data_bdl['sample'] = df_analysis['Sample']\n",
    "df_data_bdl['point'] = df_analysis['Analysis']\n",
    "df_data_bdl['mineral'] = df_analysis['mineral']\n",
    "df_data_bdl"
   ]
  },
  {
   "cell_type": "code",
   "execution_count": null,
   "metadata": {},
   "outputs": [],
   "source": [
    "# --- filter dataframe for only selected entries, e.g. only phases containing Al\n",
    "\n",
    "df_filter = df_analysis.query('F!= 0')\n",
    "df_filter"
   ]
  },
  {
   "cell_type": "code",
   "execution_count": null,
   "metadata": {},
   "outputs": [],
   "source": []
  }
 ],
 "metadata": {
  "kernelspec": {
   "display_name": "Python 3",
   "language": "python",
   "name": "python3"
  },
  "language_info": {
   "codemirror_mode": {
    "name": "ipython",
    "version": 3
   },
   "file_extension": ".py",
   "mimetype": "text/x-python",
   "name": "python",
   "nbconvert_exporter": "python",
   "pygments_lexer": "ipython3",
   "version": "3.7.1"
  }
 },
 "nbformat": 4,
 "nbformat_minor": 2
}
