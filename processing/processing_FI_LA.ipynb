{
 "cells": [
  {
   "cell_type": "code",
   "execution_count": 1,
   "id": "ac8d3b15",
   "metadata": {},
   "outputs": [],
   "source": [
    "# ---------------- importing reduced LAICPMS data files\n",
    "\n",
    "    # - LAICPMS data processed using SILLS for data reduction\n",
    "\n",
    "# --- import modules\n",
    "\n",
    "import os\n",
    "import glob\n",
    "import pandas as pd\n",
    "import math\n",
    "import numpy as np\n",
    "import plotly.express as px\n",
    "\n",
    "\n",
    "# --- set working directory\n",
    "\n",
    "base_dir = \".DATA/LA-ICP-MS/\""
   ]
  },
  {
   "cell_type": "code",
   "execution_count": 2,
   "id": "ada3d0c8",
   "metadata": {},
   "outputs": [
    {
     "name": "stdout",
     "output_type": "stream",
     "text": [
      "['2021_08_25-test.xls', '2021_11_29-AM.xls', '2021_11_29-PM1.xls', '2021_11_29-PM2.xls', '2021_11_30-AM.xls', '2021_11_30-AM2.xls', '2021_11_30-PM.xls', '2021_11_30-PM2.xls', '2021_12_01-AM.xls', '2021_12_01-PM.xls', '2021_12_01-PM2.xls']\n"
     ]
    },
    {
     "data": {
      "text/plain": [
       "11"
      ]
     },
     "execution_count": 2,
     "metadata": {},
     "output_type": "execute_result"
    }
   ],
   "source": [
    "# --- look into working directory and create a list with selected files - .xls\n",
    "os.chdir(base_dir)\n",
    "txt_files = glob.glob('*.xls')\n",
    "\n",
    "print(txt_files)\n",
    "len(txt_files)"
   ]
  },
  {
   "cell_type": "code",
   "execution_count": 36,
   "id": "854a37b2",
   "metadata": {},
   "outputs": [
    {
     "name": "stdout",
     "output_type": "stream",
     "text": [
      "2021_08_25-test.xls\n",
      "2021_11_29-AM.xls\n",
      "2021_11_29-PM1.xls\n",
      "2021_11_29-PM2.xls\n",
      "2021_11_30-AM.xls\n",
      "2021_11_30-AM2.xls\n",
      "2021_11_30-PM.xls\n",
      "2021_11_30-PM2.xls\n",
      "2021_12_01-AM.xls\n",
      "2021_12_01-PM.xls\n",
      "2021_12_01-PM2.xls\n"
     ]
    },
    {
     "data": {
      "text/html": [
       "<div>\n",
       "<style scoped>\n",
       "    .dataframe tbody tr th:only-of-type {\n",
       "        vertical-align: middle;\n",
       "    }\n",
       "\n",
       "    .dataframe tbody tr th {\n",
       "        vertical-align: top;\n",
       "    }\n",
       "\n",
       "    .dataframe thead th {\n",
       "        text-align: right;\n",
       "    }\n",
       "</style>\n",
       "<table border=\"1\" class=\"dataframe\">\n",
       "  <thead>\n",
       "    <tr style=\"text-align: right;\">\n",
       "      <th></th>\n",
       "      <th>sample</th>\n",
       "      <th>piece</th>\n",
       "      <th>field</th>\n",
       "      <th>analysis</th>\n",
       "      <th>Host</th>\n",
       "      <th>Time</th>\n",
       "      <th>Info</th>\n",
       "      <th>Li7</th>\n",
       "      <th>B11</th>\n",
       "      <th>Na23</th>\n",
       "      <th>...</th>\n",
       "      <th>Fe56</th>\n",
       "      <th>Fe57</th>\n",
       "      <th>Rb85</th>\n",
       "      <th>Sr88</th>\n",
       "      <th>Nb93</th>\n",
       "      <th>Sn118</th>\n",
       "      <th>Cs133</th>\n",
       "      <th>Ba137</th>\n",
       "      <th>Ta181</th>\n",
       "      <th>W182</th>\n",
       "    </tr>\n",
       "  </thead>\n",
       "  <tbody>\n",
       "    <tr>\n",
       "      <th>0</th>\n",
       "      <td>20</td>\n",
       "      <td>B</td>\n",
       "      <td>4.0</td>\n",
       "      <td>1</td>\n",
       "      <td>bertossaite</td>\n",
       "      <td>14:36:00</td>\n",
       "      <td>NaN</td>\n",
       "      <td>&lt;8.1678</td>\n",
       "      <td>243.017826</td>\n",
       "      <td>44286.873509</td>\n",
       "      <td>...</td>\n",
       "      <td>380.788387</td>\n",
       "      <td>&lt;134.2921</td>\n",
       "      <td>798.763019</td>\n",
       "      <td>NaN</td>\n",
       "      <td>&lt;0.089087</td>\n",
       "      <td>&lt;4.4638</td>\n",
       "      <td>571.702701</td>\n",
       "      <td>NaN</td>\n",
       "      <td>&lt;0.38684</td>\n",
       "      <td>&lt;1.4856</td>\n",
       "    </tr>\n",
       "    <tr>\n",
       "      <th>1</th>\n",
       "      <td>20</td>\n",
       "      <td>B</td>\n",
       "      <td>4.0</td>\n",
       "      <td>2</td>\n",
       "      <td>bertossaite</td>\n",
       "      <td>14:41:00</td>\n",
       "      <td>NaN</td>\n",
       "      <td>4364.129983</td>\n",
       "      <td>283.372066</td>\n",
       "      <td>40731.651892</td>\n",
       "      <td>...</td>\n",
       "      <td>&lt;170.9541</td>\n",
       "      <td>&lt;310.2672</td>\n",
       "      <td>771.347476</td>\n",
       "      <td>NaN</td>\n",
       "      <td>&lt;0.48308</td>\n",
       "      <td>&lt;10.8423</td>\n",
       "      <td>706.986291</td>\n",
       "      <td>NaN</td>\n",
       "      <td>&lt;0.89823</td>\n",
       "      <td>&lt;4.1129</td>\n",
       "    </tr>\n",
       "    <tr>\n",
       "      <th>2</th>\n",
       "      <td>20</td>\n",
       "      <td>B</td>\n",
       "      <td>4.0</td>\n",
       "      <td>3b</td>\n",
       "      <td>bertossaite</td>\n",
       "      <td>14:49:00</td>\n",
       "      <td>NaN</td>\n",
       "      <td>6460.774841</td>\n",
       "      <td>236.260499</td>\n",
       "      <td>35981.020799</td>\n",
       "      <td>...</td>\n",
       "      <td>1071.500697</td>\n",
       "      <td>559.03085</td>\n",
       "      <td>745.991087</td>\n",
       "      <td>NaN</td>\n",
       "      <td>&lt;0.31016</td>\n",
       "      <td>&lt;7.8353</td>\n",
       "      <td>535.075053</td>\n",
       "      <td>NaN</td>\n",
       "      <td>&lt;0.66429</td>\n",
       "      <td>&lt;1.9577</td>\n",
       "    </tr>\n",
       "    <tr>\n",
       "      <th>3</th>\n",
       "      <td>20</td>\n",
       "      <td>J</td>\n",
       "      <td>1.0</td>\n",
       "      <td>1</td>\n",
       "      <td>trolleite</td>\n",
       "      <td>14:11:00</td>\n",
       "      <td>NaN</td>\n",
       "      <td>434.836112</td>\n",
       "      <td>2855.375827</td>\n",
       "      <td>37825.239581</td>\n",
       "      <td>...</td>\n",
       "      <td>3666.43071</td>\n",
       "      <td>862.006039</td>\n",
       "      <td>1900.347217</td>\n",
       "      <td>NaN</td>\n",
       "      <td>1.233901</td>\n",
       "      <td>9.757163</td>\n",
       "      <td>1143.178165</td>\n",
       "      <td>NaN</td>\n",
       "      <td>9.76354</td>\n",
       "      <td>15.726706</td>\n",
       "    </tr>\n",
       "    <tr>\n",
       "      <th>4</th>\n",
       "      <td>20</td>\n",
       "      <td>J</td>\n",
       "      <td>1.0</td>\n",
       "      <td>2b</td>\n",
       "      <td>trolleite</td>\n",
       "      <td>14:16:00</td>\n",
       "      <td>NaN</td>\n",
       "      <td>178.412401</td>\n",
       "      <td>1573.511157</td>\n",
       "      <td>36780.957507</td>\n",
       "      <td>...</td>\n",
       "      <td>&lt;491.3925</td>\n",
       "      <td>&lt;826.9806</td>\n",
       "      <td>1311.715072</td>\n",
       "      <td>NaN</td>\n",
       "      <td>&lt;1.007</td>\n",
       "      <td>&lt;28.6566</td>\n",
       "      <td>545.693152</td>\n",
       "      <td>NaN</td>\n",
       "      <td>&lt;1.6585</td>\n",
       "      <td>&lt;11.6703</td>\n",
       "    </tr>\n",
       "    <tr>\n",
       "      <th>...</th>\n",
       "      <td>...</td>\n",
       "      <td>...</td>\n",
       "      <td>...</td>\n",
       "      <td>...</td>\n",
       "      <td>...</td>\n",
       "      <td>...</td>\n",
       "      <td>...</td>\n",
       "      <td>...</td>\n",
       "      <td>...</td>\n",
       "      <td>...</td>\n",
       "      <td>...</td>\n",
       "      <td>...</td>\n",
       "      <td>...</td>\n",
       "      <td>...</td>\n",
       "      <td>...</td>\n",
       "      <td>...</td>\n",
       "      <td>...</td>\n",
       "      <td>...</td>\n",
       "      <td>...</td>\n",
       "      <td>...</td>\n",
       "      <td>...</td>\n",
       "    </tr>\n",
       "    <tr>\n",
       "      <th>163</th>\n",
       "      <td>19(2)</td>\n",
       "      <td>C</td>\n",
       "      <td>2</td>\n",
       "      <td>wyl</td>\n",
       "      <td>wyllieite</td>\n",
       "      <td>16:24:00</td>\n",
       "      <td>Wyl-matrix</td>\n",
       "      <td>&lt;2.7868</td>\n",
       "      <td>&lt;14.9017</td>\n",
       "      <td>63123.179629</td>\n",
       "      <td>...</td>\n",
       "      <td>113561.695469</td>\n",
       "      <td>94236.435981</td>\n",
       "      <td>&lt;0.39905</td>\n",
       "      <td>1.623696</td>\n",
       "      <td>0.070576</td>\n",
       "      <td>&lt;1.3492</td>\n",
       "      <td>&lt;0.43114</td>\n",
       "      <td>&lt;0.64908</td>\n",
       "      <td>&lt;0.19826</td>\n",
       "      <td>1.02802</td>\n",
       "    </tr>\n",
       "    <tr>\n",
       "      <th>164</th>\n",
       "      <td>19</td>\n",
       "      <td>E</td>\n",
       "      <td>11b</td>\n",
       "      <td>3</td>\n",
       "      <td>quartz</td>\n",
       "      <td>16:06:00</td>\n",
       "      <td>NaN</td>\n",
       "      <td>8139.744285</td>\n",
       "      <td>&lt;1131.2472</td>\n",
       "      <td>36895.330495</td>\n",
       "      <td>...</td>\n",
       "      <td>21750.053796</td>\n",
       "      <td>11944.60507</td>\n",
       "      <td>1293.324711</td>\n",
       "      <td>367.649885</td>\n",
       "      <td>&lt;12.5783</td>\n",
       "      <td>&lt;114.3945</td>\n",
       "      <td>111.557053</td>\n",
       "      <td>936.884638</td>\n",
       "      <td>&lt;22.7527</td>\n",
       "      <td>&lt;95.5103</td>\n",
       "    </tr>\n",
       "    <tr>\n",
       "      <th>165</th>\n",
       "      <td>19</td>\n",
       "      <td>E</td>\n",
       "      <td>11b</td>\n",
       "      <td>4</td>\n",
       "      <td>quartz</td>\n",
       "      <td>16:10:00</td>\n",
       "      <td>NaN</td>\n",
       "      <td>&lt;116.2199</td>\n",
       "      <td>1602.664237</td>\n",
       "      <td>43288.551278</td>\n",
       "      <td>...</td>\n",
       "      <td>1539.850901</td>\n",
       "      <td>&lt;1580.1095</td>\n",
       "      <td>1596.468023</td>\n",
       "      <td>278.828777</td>\n",
       "      <td>18.621208</td>\n",
       "      <td>151.316832</td>\n",
       "      <td>274.385185</td>\n",
       "      <td>135.987287</td>\n",
       "      <td>&lt;10.3592</td>\n",
       "      <td>162.805301</td>\n",
       "    </tr>\n",
       "    <tr>\n",
       "      <th>166</th>\n",
       "      <td>4</td>\n",
       "      <td>C</td>\n",
       "      <td>8</td>\n",
       "      <td>4</td>\n",
       "      <td>trolleite</td>\n",
       "      <td>16:45:00</td>\n",
       "      <td>2shots</td>\n",
       "      <td>3160.320899</td>\n",
       "      <td>1451.754807</td>\n",
       "      <td>29383.474629</td>\n",
       "      <td>...</td>\n",
       "      <td>1266.046399</td>\n",
       "      <td>&lt;667.382</td>\n",
       "      <td>2713.85015</td>\n",
       "      <td>&lt;3.1026</td>\n",
       "      <td>2.093393</td>\n",
       "      <td>&lt;25.7419</td>\n",
       "      <td>488.197384</td>\n",
       "      <td>&lt;29.6833</td>\n",
       "      <td>&lt;3.8746</td>\n",
       "      <td>&lt;16.6224</td>\n",
       "    </tr>\n",
       "    <tr>\n",
       "      <th>167</th>\n",
       "      <td>4</td>\n",
       "      <td>C</td>\n",
       "      <td>8</td>\n",
       "      <td>5</td>\n",
       "      <td>trolleite</td>\n",
       "      <td>16:49:00</td>\n",
       "      <td>NaN</td>\n",
       "      <td>95.142198</td>\n",
       "      <td>1504.879588</td>\n",
       "      <td>48470.078537</td>\n",
       "      <td>...</td>\n",
       "      <td>&lt;137.0932</td>\n",
       "      <td>&lt;495.1902</td>\n",
       "      <td>1616.601743</td>\n",
       "      <td>&lt;2.4637</td>\n",
       "      <td>&lt;1.6151</td>\n",
       "      <td>&lt;18.6897</td>\n",
       "      <td>300.942542</td>\n",
       "      <td>&lt;16.6584</td>\n",
       "      <td>&lt;2.5397</td>\n",
       "      <td>&lt;12.8505</td>\n",
       "    </tr>\n",
       "  </tbody>\n",
       "</table>\n",
       "<p>168 rows × 29 columns</p>\n",
       "</div>"
      ],
      "text/plain": [
       "    sample piece field analysis         Host      Time        Info  \\\n",
       "0       20     B   4.0        1  bertossaite  14:36:00         NaN   \n",
       "1       20     B   4.0        2  bertossaite  14:41:00         NaN   \n",
       "2       20     B   4.0       3b  bertossaite  14:49:00         NaN   \n",
       "3       20     J   1.0        1    trolleite  14:11:00         NaN   \n",
       "4       20     J   1.0       2b    trolleite  14:16:00         NaN   \n",
       "..     ...   ...   ...      ...          ...       ...         ...   \n",
       "163  19(2)     C     2      wyl    wyllieite  16:24:00  Wyl-matrix   \n",
       "164     19     E   11b        3       quartz  16:06:00         NaN   \n",
       "165     19     E   11b        4       quartz  16:10:00         NaN   \n",
       "166      4     C     8        4    trolleite  16:45:00      2shots   \n",
       "167      4     C     8        5    trolleite  16:49:00         NaN   \n",
       "\n",
       "             Li7          B11          Na23  ...           Fe56          Fe57  \\\n",
       "0        <8.1678   243.017826  44286.873509  ...     380.788387     <134.2921   \n",
       "1    4364.129983   283.372066  40731.651892  ...      <170.9541     <310.2672   \n",
       "2    6460.774841   236.260499  35981.020799  ...    1071.500697     559.03085   \n",
       "3     434.836112  2855.375827  37825.239581  ...     3666.43071    862.006039   \n",
       "4     178.412401  1573.511157  36780.957507  ...      <491.3925     <826.9806   \n",
       "..           ...          ...           ...  ...            ...           ...   \n",
       "163      <2.7868     <14.9017  63123.179629  ...  113561.695469  94236.435981   \n",
       "164  8139.744285   <1131.2472  36895.330495  ...   21750.053796   11944.60507   \n",
       "165    <116.2199  1602.664237  43288.551278  ...    1539.850901    <1580.1095   \n",
       "166  3160.320899  1451.754807  29383.474629  ...    1266.046399      <667.382   \n",
       "167    95.142198  1504.879588  48470.078537  ...      <137.0932     <495.1902   \n",
       "\n",
       "            Rb85        Sr88       Nb93       Sn118        Cs133       Ba137  \\\n",
       "0     798.763019         NaN  <0.089087     <4.4638   571.702701         NaN   \n",
       "1     771.347476         NaN   <0.48308    <10.8423   706.986291         NaN   \n",
       "2     745.991087         NaN   <0.31016     <7.8353   535.075053         NaN   \n",
       "3    1900.347217         NaN   1.233901    9.757163  1143.178165         NaN   \n",
       "4    1311.715072         NaN     <1.007    <28.6566   545.693152         NaN   \n",
       "..           ...         ...        ...         ...          ...         ...   \n",
       "163     <0.39905    1.623696   0.070576     <1.3492     <0.43114    <0.64908   \n",
       "164  1293.324711  367.649885   <12.5783   <114.3945   111.557053  936.884638   \n",
       "165  1596.468023  278.828777  18.621208  151.316832   274.385185  135.987287   \n",
       "166   2713.85015     <3.1026   2.093393    <25.7419   488.197384    <29.6833   \n",
       "167  1616.601743     <2.4637    <1.6151    <18.6897   300.942542    <16.6584   \n",
       "\n",
       "        Ta181        W182  \n",
       "0    <0.38684     <1.4856  \n",
       "1    <0.89823     <4.1129  \n",
       "2    <0.66429     <1.9577  \n",
       "3     9.76354   15.726706  \n",
       "4     <1.6585    <11.6703  \n",
       "..        ...         ...  \n",
       "163  <0.19826     1.02802  \n",
       "164  <22.7527    <95.5103  \n",
       "165  <10.3592  162.805301  \n",
       "166   <3.8746    <16.6224  \n",
       "167   <2.5397    <12.8505  \n",
       "\n",
       "[168 rows x 29 columns]"
      ]
     },
     "execution_count": 36,
     "metadata": {},
     "output_type": "execute_result"
    }
   ],
   "source": [
    "# --- create a single dataframe with all files in the list\n",
    "\n",
    "df_raw = pd.DataFrame()\n",
    "\n",
    "    # -- loop in the file list, get relevant data and append to combined dataframe\n",
    "for file in txt_files:\n",
    "    print(file)\n",
    "    df = pd.read_excel(file, skiprows = (0,1,2,3,4,5,6,7,9), na_values=None) #skiprows in the start of the file, before actual data\n",
    "    blank_df = df.loc[df.isnull().all(1)] #creates a dataframe showing where blank lines are located\n",
    "\n",
    "        # - here is a condition to remove everything after the relevant data (multidata input file, only first part is required)\n",
    "    if len(blank_df) > 0: #check if there are indeed blank lines in the df\n",
    "        first_blank_index = blank_df.index[0]  #locate index of first blank line\n",
    "        df = df[:first_blank_index]  #filters data from start of dataframe up to the first blank line\n",
    "    \n",
    "    df_raw = pd.concat((df_raw,df),sort=False,ignore_index = True)\n",
    "    \n",
    "\n",
    "    \n",
    "df_raw = df_raw.rename(columns={\"Sample\": \"sample\", \"Piece\": \"piece\", \"Field\": \"field\", \"Analysis\": \"analysis\"})\n",
    "\n",
    "df_raw"
   ]
  },
  {
   "cell_type": "code",
   "execution_count": 37,
   "id": "bc4ca680",
   "metadata": {},
   "outputs": [
    {
     "name": "stdout",
     "output_type": "stream",
     "text": [
      "Index(['Li', 'B', 'Na', 'Mg', 'Al', 'Si', 'P', 'K', 'Ca43', 'Ca44', 'Ti', 'Mn',\n",
      "       'Fe56', 'Fe57', 'Rb', 'Sr', 'Nb', 'Sn', 'Cs', 'Ba', 'Ta', 'W'],\n",
      "      dtype='object')\n"
     ]
    },
    {
     "data": {
      "text/html": [
       "<div>\n",
       "<style scoped>\n",
       "    .dataframe tbody tr th:only-of-type {\n",
       "        vertical-align: middle;\n",
       "    }\n",
       "\n",
       "    .dataframe tbody tr th {\n",
       "        vertical-align: top;\n",
       "    }\n",
       "\n",
       "    .dataframe thead th {\n",
       "        text-align: right;\n",
       "    }\n",
       "</style>\n",
       "<table border=\"1\" class=\"dataframe\">\n",
       "  <thead>\n",
       "    <tr style=\"text-align: right;\">\n",
       "      <th></th>\n",
       "      <th>Li</th>\n",
       "      <th>B</th>\n",
       "      <th>Na</th>\n",
       "      <th>Mg</th>\n",
       "      <th>Al</th>\n",
       "      <th>Si</th>\n",
       "      <th>P</th>\n",
       "      <th>K</th>\n",
       "      <th>Ca43</th>\n",
       "      <th>Ca44</th>\n",
       "      <th>...</th>\n",
       "      <th>Fe56</th>\n",
       "      <th>Fe57</th>\n",
       "      <th>Rb</th>\n",
       "      <th>Sr</th>\n",
       "      <th>Nb</th>\n",
       "      <th>Sn</th>\n",
       "      <th>Cs</th>\n",
       "      <th>Ba</th>\n",
       "      <th>Ta</th>\n",
       "      <th>W</th>\n",
       "    </tr>\n",
       "  </thead>\n",
       "  <tbody>\n",
       "    <tr>\n",
       "      <th>0</th>\n",
       "      <td>&lt;8.1678</td>\n",
       "      <td>243.017826</td>\n",
       "      <td>44286.873509</td>\n",
       "      <td>&lt;1.3586</td>\n",
       "      <td>&lt;7.6038</td>\n",
       "      <td>NaN</td>\n",
       "      <td>19621.767193</td>\n",
       "      <td>17304.44194</td>\n",
       "      <td>&lt;2093.9036</td>\n",
       "      <td>&lt;787.0589</td>\n",
       "      <td>...</td>\n",
       "      <td>380.788387</td>\n",
       "      <td>&lt;134.2921</td>\n",
       "      <td>798.763019</td>\n",
       "      <td>NaN</td>\n",
       "      <td>&lt;0.089087</td>\n",
       "      <td>&lt;4.4638</td>\n",
       "      <td>571.702701</td>\n",
       "      <td>NaN</td>\n",
       "      <td>&lt;0.38684</td>\n",
       "      <td>&lt;1.4856</td>\n",
       "    </tr>\n",
       "    <tr>\n",
       "      <th>1</th>\n",
       "      <td>4364.129983</td>\n",
       "      <td>283.372066</td>\n",
       "      <td>40731.651892</td>\n",
       "      <td>&lt;2.4529</td>\n",
       "      <td>&lt;17.9401</td>\n",
       "      <td>NaN</td>\n",
       "      <td>28551.259407</td>\n",
       "      <td>12733.89934</td>\n",
       "      <td>&lt;4745.4249</td>\n",
       "      <td>&lt;1848.0081</td>\n",
       "      <td>...</td>\n",
       "      <td>&lt;170.9541</td>\n",
       "      <td>&lt;310.2672</td>\n",
       "      <td>771.347476</td>\n",
       "      <td>NaN</td>\n",
       "      <td>&lt;0.48308</td>\n",
       "      <td>&lt;10.8423</td>\n",
       "      <td>706.986291</td>\n",
       "      <td>NaN</td>\n",
       "      <td>&lt;0.89823</td>\n",
       "      <td>&lt;4.1129</td>\n",
       "    </tr>\n",
       "    <tr>\n",
       "      <th>2</th>\n",
       "      <td>6460.774841</td>\n",
       "      <td>236.260499</td>\n",
       "      <td>35981.020799</td>\n",
       "      <td>26.107586</td>\n",
       "      <td>&lt;13.9121</td>\n",
       "      <td>NaN</td>\n",
       "      <td>18063.733313</td>\n",
       "      <td>18817.427948</td>\n",
       "      <td>3784.027315</td>\n",
       "      <td>2765.706974</td>\n",
       "      <td>...</td>\n",
       "      <td>1071.500697</td>\n",
       "      <td>559.03085</td>\n",
       "      <td>745.991087</td>\n",
       "      <td>NaN</td>\n",
       "      <td>&lt;0.31016</td>\n",
       "      <td>&lt;7.8353</td>\n",
       "      <td>535.075053</td>\n",
       "      <td>NaN</td>\n",
       "      <td>&lt;0.66429</td>\n",
       "      <td>&lt;1.9577</td>\n",
       "    </tr>\n",
       "    <tr>\n",
       "      <th>3</th>\n",
       "      <td>434.836112</td>\n",
       "      <td>2855.375827</td>\n",
       "      <td>37825.239581</td>\n",
       "      <td>1496.743447</td>\n",
       "      <td>&lt;13.5197</td>\n",
       "      <td>NaN</td>\n",
       "      <td>19153.614296</td>\n",
       "      <td>31943.847324</td>\n",
       "      <td>&lt;3943.1651</td>\n",
       "      <td>&lt;1431.7765</td>\n",
       "      <td>...</td>\n",
       "      <td>3666.43071</td>\n",
       "      <td>862.006039</td>\n",
       "      <td>1900.347217</td>\n",
       "      <td>NaN</td>\n",
       "      <td>1.233901</td>\n",
       "      <td>9.757163</td>\n",
       "      <td>1143.178165</td>\n",
       "      <td>NaN</td>\n",
       "      <td>9.76354</td>\n",
       "      <td>15.726706</td>\n",
       "    </tr>\n",
       "    <tr>\n",
       "      <th>4</th>\n",
       "      <td>178.412401</td>\n",
       "      <td>1573.511157</td>\n",
       "      <td>36780.957507</td>\n",
       "      <td>206.10789</td>\n",
       "      <td>&lt;43.8831</td>\n",
       "      <td>NaN</td>\n",
       "      <td>&lt;1410.4975</td>\n",
       "      <td>36383.554954</td>\n",
       "      <td>&lt;12348.5107</td>\n",
       "      <td>&lt;4531.7175</td>\n",
       "      <td>...</td>\n",
       "      <td>&lt;491.3925</td>\n",
       "      <td>&lt;826.9806</td>\n",
       "      <td>1311.715072</td>\n",
       "      <td>NaN</td>\n",
       "      <td>&lt;1.007</td>\n",
       "      <td>&lt;28.6566</td>\n",
       "      <td>545.693152</td>\n",
       "      <td>NaN</td>\n",
       "      <td>&lt;1.6585</td>\n",
       "      <td>&lt;11.6703</td>\n",
       "    </tr>\n",
       "    <tr>\n",
       "      <th>...</th>\n",
       "      <td>...</td>\n",
       "      <td>...</td>\n",
       "      <td>...</td>\n",
       "      <td>...</td>\n",
       "      <td>...</td>\n",
       "      <td>...</td>\n",
       "      <td>...</td>\n",
       "      <td>...</td>\n",
       "      <td>...</td>\n",
       "      <td>...</td>\n",
       "      <td>...</td>\n",
       "      <td>...</td>\n",
       "      <td>...</td>\n",
       "      <td>...</td>\n",
       "      <td>...</td>\n",
       "      <td>...</td>\n",
       "      <td>...</td>\n",
       "      <td>...</td>\n",
       "      <td>...</td>\n",
       "      <td>...</td>\n",
       "      <td>...</td>\n",
       "    </tr>\n",
       "    <tr>\n",
       "      <th>163</th>\n",
       "      <td>&lt;2.7868</td>\n",
       "      <td>&lt;14.9017</td>\n",
       "      <td>63123.179629</td>\n",
       "      <td>2901.537923</td>\n",
       "      <td>41173.872107</td>\n",
       "      <td>760.21364</td>\n",
       "      <td>120134.277192</td>\n",
       "      <td>73.471986</td>\n",
       "      <td>4276.485199</td>\n",
       "      <td>4185.040749</td>\n",
       "      <td>...</td>\n",
       "      <td>113561.695469</td>\n",
       "      <td>94236.435981</td>\n",
       "      <td>&lt;0.39905</td>\n",
       "      <td>1.623696</td>\n",
       "      <td>0.070576</td>\n",
       "      <td>&lt;1.3492</td>\n",
       "      <td>&lt;0.43114</td>\n",
       "      <td>&lt;0.64908</td>\n",
       "      <td>&lt;0.19826</td>\n",
       "      <td>1.02802</td>\n",
       "    </tr>\n",
       "    <tr>\n",
       "      <th>164</th>\n",
       "      <td>8139.744285</td>\n",
       "      <td>&lt;1131.2472</td>\n",
       "      <td>36895.330495</td>\n",
       "      <td>872.964919</td>\n",
       "      <td>90889.421741</td>\n",
       "      <td>&lt;23673.358</td>\n",
       "      <td>62522.700636</td>\n",
       "      <td>21365.653601</td>\n",
       "      <td>75412.037448</td>\n",
       "      <td>71596.418822</td>\n",
       "      <td>...</td>\n",
       "      <td>21750.053796</td>\n",
       "      <td>11944.60507</td>\n",
       "      <td>1293.324711</td>\n",
       "      <td>367.649885</td>\n",
       "      <td>&lt;12.5783</td>\n",
       "      <td>&lt;114.3945</td>\n",
       "      <td>111.557053</td>\n",
       "      <td>936.884638</td>\n",
       "      <td>&lt;22.7527</td>\n",
       "      <td>&lt;95.5103</td>\n",
       "    </tr>\n",
       "    <tr>\n",
       "      <th>165</th>\n",
       "      <td>&lt;116.2199</td>\n",
       "      <td>1602.664237</td>\n",
       "      <td>43288.551278</td>\n",
       "      <td>12965.476511</td>\n",
       "      <td>14864.742036</td>\n",
       "      <td>&lt;13933.6769</td>\n",
       "      <td>&lt;2743.4184</td>\n",
       "      <td>30061.625403</td>\n",
       "      <td>&lt;27324.135</td>\n",
       "      <td>&lt;12370.5121</td>\n",
       "      <td>...</td>\n",
       "      <td>1539.850901</td>\n",
       "      <td>&lt;1580.1095</td>\n",
       "      <td>1596.468023</td>\n",
       "      <td>278.828777</td>\n",
       "      <td>18.621208</td>\n",
       "      <td>151.316832</td>\n",
       "      <td>274.385185</td>\n",
       "      <td>135.987287</td>\n",
       "      <td>&lt;10.3592</td>\n",
       "      <td>162.805301</td>\n",
       "    </tr>\n",
       "    <tr>\n",
       "      <th>166</th>\n",
       "      <td>3160.320899</td>\n",
       "      <td>1451.754807</td>\n",
       "      <td>29383.474629</td>\n",
       "      <td>498.86357</td>\n",
       "      <td>&lt;45.2691</td>\n",
       "      <td>&lt;6158.0215</td>\n",
       "      <td>89935.335895</td>\n",
       "      <td>45553.496975</td>\n",
       "      <td>&lt;11018.9869</td>\n",
       "      <td>&lt;5382.4929</td>\n",
       "      <td>...</td>\n",
       "      <td>1266.046399</td>\n",
       "      <td>&lt;667.382</td>\n",
       "      <td>2713.85015</td>\n",
       "      <td>&lt;3.1026</td>\n",
       "      <td>2.093393</td>\n",
       "      <td>&lt;25.7419</td>\n",
       "      <td>488.197384</td>\n",
       "      <td>&lt;29.6833</td>\n",
       "      <td>&lt;3.8746</td>\n",
       "      <td>&lt;16.6224</td>\n",
       "    </tr>\n",
       "    <tr>\n",
       "      <th>167</th>\n",
       "      <td>95.142198</td>\n",
       "      <td>1504.879588</td>\n",
       "      <td>48470.078537</td>\n",
       "      <td>66.357977</td>\n",
       "      <td>&lt;33.652</td>\n",
       "      <td>&lt;4635.569</td>\n",
       "      <td>&lt;889.1145</td>\n",
       "      <td>5418.458838</td>\n",
       "      <td>&lt;8322.9776</td>\n",
       "      <td>&lt;4178.6451</td>\n",
       "      <td>...</td>\n",
       "      <td>&lt;137.0932</td>\n",
       "      <td>&lt;495.1902</td>\n",
       "      <td>1616.601743</td>\n",
       "      <td>&lt;2.4637</td>\n",
       "      <td>&lt;1.6151</td>\n",
       "      <td>&lt;18.6897</td>\n",
       "      <td>300.942542</td>\n",
       "      <td>&lt;16.6584</td>\n",
       "      <td>&lt;2.5397</td>\n",
       "      <td>&lt;12.8505</td>\n",
       "    </tr>\n",
       "  </tbody>\n",
       "</table>\n",
       "<p>168 rows × 22 columns</p>\n",
       "</div>"
      ],
      "text/plain": [
       "              Li            B            Na            Mg            Al  \\\n",
       "0        <8.1678   243.017826  44286.873509       <1.3586       <7.6038   \n",
       "1    4364.129983   283.372066  40731.651892       <2.4529      <17.9401   \n",
       "2    6460.774841   236.260499  35981.020799     26.107586      <13.9121   \n",
       "3     434.836112  2855.375827  37825.239581   1496.743447      <13.5197   \n",
       "4     178.412401  1573.511157  36780.957507     206.10789      <43.8831   \n",
       "..           ...          ...           ...           ...           ...   \n",
       "163      <2.7868     <14.9017  63123.179629   2901.537923  41173.872107   \n",
       "164  8139.744285   <1131.2472  36895.330495    872.964919  90889.421741   \n",
       "165    <116.2199  1602.664237  43288.551278  12965.476511  14864.742036   \n",
       "166  3160.320899  1451.754807  29383.474629     498.86357      <45.2691   \n",
       "167    95.142198  1504.879588  48470.078537     66.357977       <33.652   \n",
       "\n",
       "              Si              P             K          Ca43          Ca44  \\\n",
       "0            NaN   19621.767193   17304.44194    <2093.9036     <787.0589   \n",
       "1            NaN   28551.259407   12733.89934    <4745.4249    <1848.0081   \n",
       "2            NaN   18063.733313  18817.427948   3784.027315   2765.706974   \n",
       "3            NaN   19153.614296  31943.847324    <3943.1651    <1431.7765   \n",
       "4            NaN     <1410.4975  36383.554954   <12348.5107    <4531.7175   \n",
       "..           ...            ...           ...           ...           ...   \n",
       "163    760.21364  120134.277192     73.471986   4276.485199   4185.040749   \n",
       "164   <23673.358   62522.700636  21365.653601  75412.037448  71596.418822   \n",
       "165  <13933.6769     <2743.4184  30061.625403    <27324.135   <12370.5121   \n",
       "166   <6158.0215   89935.335895  45553.496975   <11018.9869    <5382.4929   \n",
       "167    <4635.569      <889.1145   5418.458838    <8322.9776    <4178.6451   \n",
       "\n",
       "     ...           Fe56          Fe57           Rb          Sr         Nb  \\\n",
       "0    ...     380.788387     <134.2921   798.763019         NaN  <0.089087   \n",
       "1    ...      <170.9541     <310.2672   771.347476         NaN   <0.48308   \n",
       "2    ...    1071.500697     559.03085   745.991087         NaN   <0.31016   \n",
       "3    ...     3666.43071    862.006039  1900.347217         NaN   1.233901   \n",
       "4    ...      <491.3925     <826.9806  1311.715072         NaN     <1.007   \n",
       "..   ...            ...           ...          ...         ...        ...   \n",
       "163  ...  113561.695469  94236.435981     <0.39905    1.623696   0.070576   \n",
       "164  ...   21750.053796   11944.60507  1293.324711  367.649885   <12.5783   \n",
       "165  ...    1539.850901    <1580.1095  1596.468023  278.828777  18.621208   \n",
       "166  ...    1266.046399      <667.382   2713.85015     <3.1026   2.093393   \n",
       "167  ...      <137.0932     <495.1902  1616.601743     <2.4637    <1.6151   \n",
       "\n",
       "             Sn           Cs          Ba        Ta           W  \n",
       "0       <4.4638   571.702701         NaN  <0.38684     <1.4856  \n",
       "1      <10.8423   706.986291         NaN  <0.89823     <4.1129  \n",
       "2       <7.8353   535.075053         NaN  <0.66429     <1.9577  \n",
       "3      9.757163  1143.178165         NaN   9.76354   15.726706  \n",
       "4      <28.6566   545.693152         NaN   <1.6585    <11.6703  \n",
       "..          ...          ...         ...       ...         ...  \n",
       "163     <1.3492     <0.43114    <0.64908  <0.19826     1.02802  \n",
       "164   <114.3945   111.557053  936.884638  <22.7527    <95.5103  \n",
       "165  151.316832   274.385185  135.987287  <10.3592  162.805301  \n",
       "166    <25.7419   488.197384    <29.6833   <3.8746    <16.6224  \n",
       "167    <18.6897   300.942542    <16.6584   <2.5397    <12.8505  \n",
       "\n",
       "[168 rows x 22 columns]"
      ]
     },
     "execution_count": 37,
     "metadata": {},
     "output_type": "execute_result"
    }
   ],
   "source": [
    "df_data = df_raw.drop(['sample', 'piece', 'field', 'analysis', 'Host', 'Time', 'Info'], axis=1)\n",
    "\n",
    "#separate data from metadata - only do calculation in data afterwards\n",
    "df_metadata = df_raw[['sample', 'piece', 'field', 'analysis', 'Host', 'Time', 'Info']]\n",
    "\n",
    "#rename dataframe columns for simplification\n",
    "df_data.columns = ['Li', 'B', 'Na', 'Mg', 'Al', 'Si','P', 'K', 'Ca43','Ca44', \n",
    "                       'Ti', 'Mn', 'Fe56', 'Fe57', 'Rb', 'Sr', 'Nb', 'Sn','Cs', 'Ba', 'Ta', 'W']\n",
    "\n",
    "print(df_data.columns)\n",
    "\n",
    "df_data"
   ]
  },
  {
   "cell_type": "code",
   "execution_count": 38,
   "id": "6f6c5472",
   "metadata": {},
   "outputs": [
    {
     "name": "stdout",
     "output_type": "stream",
     "text": [
      "Index(['Li', 'B', 'Na', 'Mg', 'Al', 'Si', 'P', 'K', 'Ti', 'Mn', 'Rb', 'Sr',\n",
      "       'Nb', 'Sn', 'Cs', 'Ba', 'Ta', 'W'],\n",
      "      dtype='object') 18 \n",
      "\n",
      " Li      6.94070\n",
      "B      10.80910\n",
      "Na     22.98947\n",
      "Mg     24.30440\n",
      "Al     26.98064\n",
      "Si     28.08480\n",
      "P      30.97226\n",
      "K      39.09770\n",
      "Ti     47.89880\n",
      "Mn     54.93740\n",
      "Rb     85.46750\n",
      "Sr     87.61940\n",
      "Nb     92.90490\n",
      "Sn    118.68880\n",
      "Cs    132.90510\n",
      "Ba    137.33940\n",
      "Ta    180.94640\n",
      "W     183.85000\n",
      "Name: Atom_wt, dtype: float64\n"
     ]
    },
    {
     "name": "stderr",
     "output_type": "stream",
     "text": [
      "C:\\Users\\u0125722\\anaconda3\\lib\\site-packages\\ipykernel_launcher.py:16: FutureWarning: Index.__and__ operating as a set operation is deprecated, in the future this will be a logical operation matching Series.__and__.  Use index.intersection(other) instead\n",
      "  app.launch_new_instance()\n"
     ]
    },
    {
     "data": {
      "text/html": [
       "<div>\n",
       "<style scoped>\n",
       "    .dataframe tbody tr th:only-of-type {\n",
       "        vertical-align: middle;\n",
       "    }\n",
       "\n",
       "    .dataframe tbody tr th {\n",
       "        vertical-align: top;\n",
       "    }\n",
       "\n",
       "    .dataframe thead th {\n",
       "        text-align: right;\n",
       "    }\n",
       "</style>\n",
       "<table border=\"1\" class=\"dataframe\">\n",
       "  <thead>\n",
       "    <tr style=\"text-align: right;\">\n",
       "      <th></th>\n",
       "      <th>Li</th>\n",
       "      <th>B</th>\n",
       "      <th>Na</th>\n",
       "      <th>Mg</th>\n",
       "      <th>Al</th>\n",
       "      <th>Si</th>\n",
       "      <th>P</th>\n",
       "      <th>K</th>\n",
       "      <th>Ti</th>\n",
       "      <th>Mn</th>\n",
       "      <th>Rb</th>\n",
       "      <th>Sr</th>\n",
       "      <th>Nb</th>\n",
       "      <th>Sn</th>\n",
       "      <th>Cs</th>\n",
       "      <th>Ba</th>\n",
       "      <th>Ta</th>\n",
       "      <th>W</th>\n",
       "    </tr>\n",
       "    <tr>\n",
       "      <th>Oxide</th>\n",
       "      <th></th>\n",
       "      <th></th>\n",
       "      <th></th>\n",
       "      <th></th>\n",
       "      <th></th>\n",
       "      <th></th>\n",
       "      <th></th>\n",
       "      <th></th>\n",
       "      <th></th>\n",
       "      <th></th>\n",
       "      <th></th>\n",
       "      <th></th>\n",
       "      <th></th>\n",
       "      <th></th>\n",
       "      <th></th>\n",
       "      <th></th>\n",
       "      <th></th>\n",
       "      <th></th>\n",
       "    </tr>\n",
       "  </thead>\n",
       "  <tbody>\n",
       "    <tr>\n",
       "      <th>Mol_wt</th>\n",
       "      <td>29.88140</td>\n",
       "      <td>69.618200</td>\n",
       "      <td>61.978940</td>\n",
       "      <td>40.304400</td>\n",
       "      <td>101.961280</td>\n",
       "      <td>60.084800</td>\n",
       "      <td>141.944520</td>\n",
       "      <td>94.195400</td>\n",
       "      <td>79.898800</td>\n",
       "      <td>70.937400</td>\n",
       "      <td>186.935000</td>\n",
       "      <td>103.619400</td>\n",
       "      <td>265.809800</td>\n",
       "      <td>150.68880</td>\n",
       "      <td>281.810200</td>\n",
       "      <td>153.33940</td>\n",
       "      <td>441.892800</td>\n",
       "      <td>231.850</td>\n",
       "    </tr>\n",
       "    <tr>\n",
       "      <th>Conv_Factor</th>\n",
       "      <td>0.46457</td>\n",
       "      <td>0.310551</td>\n",
       "      <td>0.741857</td>\n",
       "      <td>0.603036</td>\n",
       "      <td>0.529251</td>\n",
       "      <td>0.467439</td>\n",
       "      <td>0.436421</td>\n",
       "      <td>0.830147</td>\n",
       "      <td>0.599508</td>\n",
       "      <td>0.774457</td>\n",
       "      <td>0.914412</td>\n",
       "      <td>0.845595</td>\n",
       "      <td>0.699044</td>\n",
       "      <td>0.78765</td>\n",
       "      <td>0.943226</td>\n",
       "      <td>0.89566</td>\n",
       "      <td>0.818967</td>\n",
       "      <td>0.793</td>\n",
       "    </tr>\n",
       "    <tr>\n",
       "      <th>Ox</th>\n",
       "      <td>1.00000</td>\n",
       "      <td>3.000000</td>\n",
       "      <td>1.000000</td>\n",
       "      <td>1.000000</td>\n",
       "      <td>3.000000</td>\n",
       "      <td>2.000000</td>\n",
       "      <td>5.000000</td>\n",
       "      <td>1.000000</td>\n",
       "      <td>2.000000</td>\n",
       "      <td>1.000000</td>\n",
       "      <td>1.000000</td>\n",
       "      <td>1.000000</td>\n",
       "      <td>5.000000</td>\n",
       "      <td>2.00000</td>\n",
       "      <td>1.000000</td>\n",
       "      <td>1.00000</td>\n",
       "      <td>5.000000</td>\n",
       "      <td>3.000</td>\n",
       "    </tr>\n",
       "    <tr>\n",
       "      <th>Cat</th>\n",
       "      <td>2.00000</td>\n",
       "      <td>2.000000</td>\n",
       "      <td>2.000000</td>\n",
       "      <td>1.000000</td>\n",
       "      <td>2.000000</td>\n",
       "      <td>1.000000</td>\n",
       "      <td>2.000000</td>\n",
       "      <td>2.000000</td>\n",
       "      <td>1.000000</td>\n",
       "      <td>1.000000</td>\n",
       "      <td>2.000000</td>\n",
       "      <td>1.000000</td>\n",
       "      <td>2.000000</td>\n",
       "      <td>1.00000</td>\n",
       "      <td>2.000000</td>\n",
       "      <td>1.00000</td>\n",
       "      <td>2.000000</td>\n",
       "      <td>1.000</td>\n",
       "    </tr>\n",
       "    <tr>\n",
       "      <th>Atom_wt</th>\n",
       "      <td>6.94070</td>\n",
       "      <td>10.809100</td>\n",
       "      <td>22.989470</td>\n",
       "      <td>24.304400</td>\n",
       "      <td>26.980640</td>\n",
       "      <td>28.084800</td>\n",
       "      <td>30.972260</td>\n",
       "      <td>39.097700</td>\n",
       "      <td>47.898800</td>\n",
       "      <td>54.937400</td>\n",
       "      <td>85.467500</td>\n",
       "      <td>87.619400</td>\n",
       "      <td>92.904900</td>\n",
       "      <td>118.68880</td>\n",
       "      <td>132.905100</td>\n",
       "      <td>137.33940</td>\n",
       "      <td>180.946400</td>\n",
       "      <td>183.850</td>\n",
       "    </tr>\n",
       "  </tbody>\n",
       "</table>\n",
       "</div>"
      ],
      "text/plain": [
       "                   Li          B         Na         Mg          Al         Si  \\\n",
       "Oxide                                                                           \n",
       "Mol_wt       29.88140  69.618200  61.978940  40.304400  101.961280  60.084800   \n",
       "Conv_Factor   0.46457   0.310551   0.741857   0.603036    0.529251   0.467439   \n",
       "Ox            1.00000   3.000000   1.000000   1.000000    3.000000   2.000000   \n",
       "Cat           2.00000   2.000000   2.000000   1.000000    2.000000   1.000000   \n",
       "Atom_wt       6.94070  10.809100  22.989470  24.304400   26.980640  28.084800   \n",
       "\n",
       "                      P          K         Ti         Mn          Rb  \\\n",
       "Oxide                                                                  \n",
       "Mol_wt       141.944520  94.195400  79.898800  70.937400  186.935000   \n",
       "Conv_Factor    0.436421   0.830147   0.599508   0.774457    0.914412   \n",
       "Ox             5.000000   1.000000   2.000000   1.000000    1.000000   \n",
       "Cat            2.000000   2.000000   1.000000   1.000000    2.000000   \n",
       "Atom_wt       30.972260  39.097700  47.898800  54.937400   85.467500   \n",
       "\n",
       "                     Sr          Nb         Sn          Cs         Ba  \\\n",
       "Oxide                                                                   \n",
       "Mol_wt       103.619400  265.809800  150.68880  281.810200  153.33940   \n",
       "Conv_Factor    0.845595    0.699044    0.78765    0.943226    0.89566   \n",
       "Ox             1.000000    5.000000    2.00000    1.000000    1.00000   \n",
       "Cat            1.000000    2.000000    1.00000    2.000000    1.00000   \n",
       "Atom_wt       87.619400   92.904900  118.68880  132.905100  137.33940   \n",
       "\n",
       "                     Ta        W  \n",
       "Oxide                             \n",
       "Mol_wt       441.892800  231.850  \n",
       "Conv_Factor    0.818967    0.793  \n",
       "Ox             5.000000    3.000  \n",
       "Cat            2.000000    1.000  \n",
       "Atom_wt      180.946400  183.850  "
      ]
     },
     "execution_count": 38,
     "metadata": {},
     "output_type": "execute_result"
    }
   ],
   "source": [
    "\n",
    "df_reference = pd.read_csv('./DATA/_Oxides_mass.csv', \n",
    "                    encoding = \"ANSI\", \n",
    "                   index_col = 0)\n",
    "\n",
    "\n",
    "df_reference.columns = ['H', 'Li', 'Be', 'B', 'C', 'F', 'Na', 'Mg', 'Al',\n",
    "       'Si', 'P', 'S', 'Cl', 'K', 'Ca', 'Sc', 'Ti', 'Ti2O3',\n",
    "       'V', 'Cr', 'Mn', 'Fe2O3', 'Fe', 'Ni', 'Co', 'Cu', 'Zn',\n",
    "       'Ga', 'Ge', 'As', 'Rb', 'Sr', 'Y', 'Zr', 'Nb',\n",
    "       'Mo', 'Sn', 'Sb', 'Cs', 'Ba', 'La', 'Ce', 'Ce2O3',\n",
    "       'Pr', 'Nd', 'Sm', 'Eu', 'EuO', 'Gd', 'Tb', 'Dy',\n",
    "       'Ho', 'Er', 'Tm', 'Yb', 'Lu', 'Hf', 'Ta', 'W',\n",
    "       'Au', 'Pb', 'Th', 'U']\n",
    "\n",
    "\n",
    "reference_oxides = df_reference[(df_reference.columns) & (df_data.columns)]\n",
    "\n",
    "\n",
    "\n",
    "    # --- create an array with molecular weights of oxides\n",
    "    \n",
    "molar_mass = reference_oxides.iloc[4,:]\n",
    "\n",
    "\n",
    "\n",
    "print(reference_oxides.columns, len(reference_oxides.columns), '\\n\\n', molar_mass)\n",
    "\n",
    "reference_oxides"
   ]
  },
  {
   "cell_type": "code",
   "execution_count": 39,
   "id": "c2db7052",
   "metadata": {},
   "outputs": [
    {
     "data": {
      "text/html": [
       "<div>\n",
       "<style scoped>\n",
       "    .dataframe tbody tr th:only-of-type {\n",
       "        vertical-align: middle;\n",
       "    }\n",
       "\n",
       "    .dataframe tbody tr th {\n",
       "        vertical-align: top;\n",
       "    }\n",
       "\n",
       "    .dataframe thead th {\n",
       "        text-align: right;\n",
       "    }\n",
       "</style>\n",
       "<table border=\"1\" class=\"dataframe\">\n",
       "  <thead>\n",
       "    <tr style=\"text-align: right;\">\n",
       "      <th></th>\n",
       "      <th>Li</th>\n",
       "      <th>B</th>\n",
       "      <th>Na</th>\n",
       "      <th>Mg</th>\n",
       "      <th>Al</th>\n",
       "      <th>Si</th>\n",
       "      <th>P</th>\n",
       "      <th>K</th>\n",
       "      <th>Ti</th>\n",
       "      <th>Mn</th>\n",
       "      <th>Rb</th>\n",
       "      <th>Sr</th>\n",
       "      <th>Nb</th>\n",
       "      <th>Sn</th>\n",
       "      <th>Cs</th>\n",
       "      <th>Ba</th>\n",
       "      <th>Ta</th>\n",
       "      <th>W</th>\n",
       "      <th>Ca</th>\n",
       "      <th>Fe</th>\n",
       "    </tr>\n",
       "  </thead>\n",
       "  <tbody>\n",
       "    <tr>\n",
       "      <th>0</th>\n",
       "      <td>NaN</td>\n",
       "      <td>243.017826</td>\n",
       "      <td>44286.873509</td>\n",
       "      <td>NaN</td>\n",
       "      <td>NaN</td>\n",
       "      <td>NaN</td>\n",
       "      <td>19621.767193</td>\n",
       "      <td>17304.441940</td>\n",
       "      <td>NaN</td>\n",
       "      <td>1133.525329</td>\n",
       "      <td>798.763019</td>\n",
       "      <td>NaN</td>\n",
       "      <td>NaN</td>\n",
       "      <td>NaN</td>\n",
       "      <td>571.702701</td>\n",
       "      <td>NaN</td>\n",
       "      <td>NaN</td>\n",
       "      <td>NaN</td>\n",
       "      <td>NaN</td>\n",
       "      <td>NaN</td>\n",
       "    </tr>\n",
       "    <tr>\n",
       "      <th>1</th>\n",
       "      <td>4364.129983</td>\n",
       "      <td>283.372066</td>\n",
       "      <td>40731.651892</td>\n",
       "      <td>NaN</td>\n",
       "      <td>NaN</td>\n",
       "      <td>NaN</td>\n",
       "      <td>28551.259407</td>\n",
       "      <td>12733.899340</td>\n",
       "      <td>NaN</td>\n",
       "      <td>134.645018</td>\n",
       "      <td>771.347476</td>\n",
       "      <td>NaN</td>\n",
       "      <td>NaN</td>\n",
       "      <td>NaN</td>\n",
       "      <td>706.986291</td>\n",
       "      <td>NaN</td>\n",
       "      <td>NaN</td>\n",
       "      <td>NaN</td>\n",
       "      <td>NaN</td>\n",
       "      <td>NaN</td>\n",
       "    </tr>\n",
       "    <tr>\n",
       "      <th>2</th>\n",
       "      <td>6460.774841</td>\n",
       "      <td>236.260499</td>\n",
       "      <td>35981.020799</td>\n",
       "      <td>26.107586</td>\n",
       "      <td>NaN</td>\n",
       "      <td>NaN</td>\n",
       "      <td>18063.733313</td>\n",
       "      <td>18817.427948</td>\n",
       "      <td>NaN</td>\n",
       "      <td>939.465010</td>\n",
       "      <td>745.991087</td>\n",
       "      <td>NaN</td>\n",
       "      <td>NaN</td>\n",
       "      <td>NaN</td>\n",
       "      <td>535.075053</td>\n",
       "      <td>NaN</td>\n",
       "      <td>NaN</td>\n",
       "      <td>NaN</td>\n",
       "      <td>6549.734290</td>\n",
       "      <td>1630.531547</td>\n",
       "    </tr>\n",
       "    <tr>\n",
       "      <th>3</th>\n",
       "      <td>434.836112</td>\n",
       "      <td>2855.375827</td>\n",
       "      <td>37825.239581</td>\n",
       "      <td>1496.743447</td>\n",
       "      <td>NaN</td>\n",
       "      <td>NaN</td>\n",
       "      <td>19153.614296</td>\n",
       "      <td>31943.847324</td>\n",
       "      <td>NaN</td>\n",
       "      <td>1468.102905</td>\n",
       "      <td>1900.347217</td>\n",
       "      <td>NaN</td>\n",
       "      <td>1.233901</td>\n",
       "      <td>9.757163</td>\n",
       "      <td>1143.178165</td>\n",
       "      <td>NaN</td>\n",
       "      <td>9.76354</td>\n",
       "      <td>15.726706</td>\n",
       "      <td>NaN</td>\n",
       "      <td>4528.436749</td>\n",
       "    </tr>\n",
       "    <tr>\n",
       "      <th>4</th>\n",
       "      <td>178.412401</td>\n",
       "      <td>1573.511157</td>\n",
       "      <td>36780.957507</td>\n",
       "      <td>206.107890</td>\n",
       "      <td>NaN</td>\n",
       "      <td>NaN</td>\n",
       "      <td>NaN</td>\n",
       "      <td>36383.554954</td>\n",
       "      <td>58.065345</td>\n",
       "      <td>239.827905</td>\n",
       "      <td>1311.715072</td>\n",
       "      <td>NaN</td>\n",
       "      <td>NaN</td>\n",
       "      <td>NaN</td>\n",
       "      <td>545.693152</td>\n",
       "      <td>NaN</td>\n",
       "      <td>NaN</td>\n",
       "      <td>NaN</td>\n",
       "      <td>NaN</td>\n",
       "      <td>NaN</td>\n",
       "    </tr>\n",
       "    <tr>\n",
       "      <th>...</th>\n",
       "      <td>...</td>\n",
       "      <td>...</td>\n",
       "      <td>...</td>\n",
       "      <td>...</td>\n",
       "      <td>...</td>\n",
       "      <td>...</td>\n",
       "      <td>...</td>\n",
       "      <td>...</td>\n",
       "      <td>...</td>\n",
       "      <td>...</td>\n",
       "      <td>...</td>\n",
       "      <td>...</td>\n",
       "      <td>...</td>\n",
       "      <td>...</td>\n",
       "      <td>...</td>\n",
       "      <td>...</td>\n",
       "      <td>...</td>\n",
       "      <td>...</td>\n",
       "      <td>...</td>\n",
       "      <td>...</td>\n",
       "    </tr>\n",
       "    <tr>\n",
       "      <th>163</th>\n",
       "      <td>NaN</td>\n",
       "      <td>NaN</td>\n",
       "      <td>63123.179629</td>\n",
       "      <td>2901.537923</td>\n",
       "      <td>41173.872107</td>\n",
       "      <td>760.21364</td>\n",
       "      <td>120134.277192</td>\n",
       "      <td>73.471986</td>\n",
       "      <td>12.268744</td>\n",
       "      <td>143938.477808</td>\n",
       "      <td>NaN</td>\n",
       "      <td>1.623696</td>\n",
       "      <td>0.070576</td>\n",
       "      <td>NaN</td>\n",
       "      <td>NaN</td>\n",
       "      <td>NaN</td>\n",
       "      <td>NaN</td>\n",
       "      <td>1.028020</td>\n",
       "      <td>8461.525948</td>\n",
       "      <td>207798.131450</td>\n",
       "    </tr>\n",
       "    <tr>\n",
       "      <th>164</th>\n",
       "      <td>8139.744285</td>\n",
       "      <td>NaN</td>\n",
       "      <td>36895.330495</td>\n",
       "      <td>872.964919</td>\n",
       "      <td>90889.421741</td>\n",
       "      <td>NaN</td>\n",
       "      <td>62522.700636</td>\n",
       "      <td>21365.653601</td>\n",
       "      <td>NaN</td>\n",
       "      <td>14320.529500</td>\n",
       "      <td>1293.324711</td>\n",
       "      <td>367.649885</td>\n",
       "      <td>NaN</td>\n",
       "      <td>NaN</td>\n",
       "      <td>111.557053</td>\n",
       "      <td>936.884638</td>\n",
       "      <td>NaN</td>\n",
       "      <td>NaN</td>\n",
       "      <td>147008.456270</td>\n",
       "      <td>33694.658866</td>\n",
       "    </tr>\n",
       "    <tr>\n",
       "      <th>165</th>\n",
       "      <td>NaN</td>\n",
       "      <td>1602.664237</td>\n",
       "      <td>43288.551278</td>\n",
       "      <td>12965.476511</td>\n",
       "      <td>14864.742036</td>\n",
       "      <td>NaN</td>\n",
       "      <td>NaN</td>\n",
       "      <td>30061.625403</td>\n",
       "      <td>2419.281000</td>\n",
       "      <td>5595.449751</td>\n",
       "      <td>1596.468023</td>\n",
       "      <td>278.828777</td>\n",
       "      <td>18.621208</td>\n",
       "      <td>151.316832</td>\n",
       "      <td>274.385185</td>\n",
       "      <td>135.987287</td>\n",
       "      <td>NaN</td>\n",
       "      <td>162.805301</td>\n",
       "      <td>NaN</td>\n",
       "      <td>NaN</td>\n",
       "    </tr>\n",
       "    <tr>\n",
       "      <th>166</th>\n",
       "      <td>3160.320899</td>\n",
       "      <td>1451.754807</td>\n",
       "      <td>29383.474629</td>\n",
       "      <td>498.863570</td>\n",
       "      <td>NaN</td>\n",
       "      <td>NaN</td>\n",
       "      <td>89935.335895</td>\n",
       "      <td>45553.496975</td>\n",
       "      <td>NaN</td>\n",
       "      <td>356.576277</td>\n",
       "      <td>2713.850150</td>\n",
       "      <td>NaN</td>\n",
       "      <td>2.093393</td>\n",
       "      <td>NaN</td>\n",
       "      <td>488.197384</td>\n",
       "      <td>NaN</td>\n",
       "      <td>NaN</td>\n",
       "      <td>NaN</td>\n",
       "      <td>NaN</td>\n",
       "      <td>NaN</td>\n",
       "    </tr>\n",
       "    <tr>\n",
       "      <th>167</th>\n",
       "      <td>95.142198</td>\n",
       "      <td>1504.879588</td>\n",
       "      <td>48470.078537</td>\n",
       "      <td>66.357977</td>\n",
       "      <td>NaN</td>\n",
       "      <td>NaN</td>\n",
       "      <td>NaN</td>\n",
       "      <td>5418.458838</td>\n",
       "      <td>NaN</td>\n",
       "      <td>63.074351</td>\n",
       "      <td>1616.601743</td>\n",
       "      <td>NaN</td>\n",
       "      <td>NaN</td>\n",
       "      <td>NaN</td>\n",
       "      <td>300.942542</td>\n",
       "      <td>NaN</td>\n",
       "      <td>NaN</td>\n",
       "      <td>NaN</td>\n",
       "      <td>NaN</td>\n",
       "      <td>NaN</td>\n",
       "    </tr>\n",
       "  </tbody>\n",
       "</table>\n",
       "<p>168 rows × 20 columns</p>\n",
       "</div>"
      ],
      "text/plain": [
       "              Li            B            Na            Mg            Al  \\\n",
       "0            NaN   243.017826  44286.873509           NaN           NaN   \n",
       "1    4364.129983   283.372066  40731.651892           NaN           NaN   \n",
       "2    6460.774841   236.260499  35981.020799     26.107586           NaN   \n",
       "3     434.836112  2855.375827  37825.239581   1496.743447           NaN   \n",
       "4     178.412401  1573.511157  36780.957507    206.107890           NaN   \n",
       "..           ...          ...           ...           ...           ...   \n",
       "163          NaN          NaN  63123.179629   2901.537923  41173.872107   \n",
       "164  8139.744285          NaN  36895.330495    872.964919  90889.421741   \n",
       "165          NaN  1602.664237  43288.551278  12965.476511  14864.742036   \n",
       "166  3160.320899  1451.754807  29383.474629    498.863570           NaN   \n",
       "167    95.142198  1504.879588  48470.078537     66.357977           NaN   \n",
       "\n",
       "            Si              P             K           Ti             Mn  \\\n",
       "0          NaN   19621.767193  17304.441940          NaN    1133.525329   \n",
       "1          NaN   28551.259407  12733.899340          NaN     134.645018   \n",
       "2          NaN   18063.733313  18817.427948          NaN     939.465010   \n",
       "3          NaN   19153.614296  31943.847324          NaN    1468.102905   \n",
       "4          NaN            NaN  36383.554954    58.065345     239.827905   \n",
       "..         ...            ...           ...          ...            ...   \n",
       "163  760.21364  120134.277192     73.471986    12.268744  143938.477808   \n",
       "164        NaN   62522.700636  21365.653601          NaN   14320.529500   \n",
       "165        NaN            NaN  30061.625403  2419.281000    5595.449751   \n",
       "166        NaN   89935.335895  45553.496975          NaN     356.576277   \n",
       "167        NaN            NaN   5418.458838          NaN      63.074351   \n",
       "\n",
       "              Rb          Sr         Nb          Sn           Cs          Ba  \\\n",
       "0     798.763019         NaN        NaN         NaN   571.702701         NaN   \n",
       "1     771.347476         NaN        NaN         NaN   706.986291         NaN   \n",
       "2     745.991087         NaN        NaN         NaN   535.075053         NaN   \n",
       "3    1900.347217         NaN   1.233901    9.757163  1143.178165         NaN   \n",
       "4    1311.715072         NaN        NaN         NaN   545.693152         NaN   \n",
       "..           ...         ...        ...         ...          ...         ...   \n",
       "163          NaN    1.623696   0.070576         NaN          NaN         NaN   \n",
       "164  1293.324711  367.649885        NaN         NaN   111.557053  936.884638   \n",
       "165  1596.468023  278.828777  18.621208  151.316832   274.385185  135.987287   \n",
       "166  2713.850150         NaN   2.093393         NaN   488.197384         NaN   \n",
       "167  1616.601743         NaN        NaN         NaN   300.942542         NaN   \n",
       "\n",
       "          Ta           W             Ca             Fe  \n",
       "0        NaN         NaN            NaN            NaN  \n",
       "1        NaN         NaN            NaN            NaN  \n",
       "2        NaN         NaN    6549.734290    1630.531547  \n",
       "3    9.76354   15.726706            NaN    4528.436749  \n",
       "4        NaN         NaN            NaN            NaN  \n",
       "..       ...         ...            ...            ...  \n",
       "163      NaN    1.028020    8461.525948  207798.131450  \n",
       "164      NaN         NaN  147008.456270   33694.658866  \n",
       "165      NaN  162.805301            NaN            NaN  \n",
       "166      NaN         NaN            NaN            NaN  \n",
       "167      NaN         NaN            NaN            NaN  \n",
       "\n",
       "[168 rows x 20 columns]"
      ]
     },
     "execution_count": 39,
     "metadata": {},
     "output_type": "execute_result"
    }
   ],
   "source": [
    "df_data_bdl = df_data.copy()\n",
    "\n",
    "#replace values starting with \"<\" (i.e. below detection limit) to value/sqrt(value)\n",
    "#replace negative values with 0\n",
    "# for col_name, col_values in df_data_bdl.iteritems():\n",
    "#     for index, value in enumerate(col_values):\n",
    "#         if type(value) is str:\n",
    "#             value = value.replace('<', '')\n",
    "#             value = float(value)\n",
    "#             if value < 0:\n",
    "#                 df_data_bdl[col_name][index] = 0\n",
    "#             else:\n",
    "#                 df_data_bdl[col_name][index] = (value/(math.sqrt(2)))\n",
    "#         elif value < 0:\n",
    "#             df_data_bdl[col_name][index] = 0    \n",
    "            \n",
    "            \n",
    "df_data_bdl = df_data.replace({'<': np.nan},regex=True)\n",
    "df_data_bdl[df_data_bdl < 0] = np.nan\n",
    "\n",
    "\n",
    "#add columns in the dataframe using iloc characters\n",
    "df_data_bdl[\"Ca\"] = df_data_bdl['Ca43'] + df_data_bdl['Ca44']\n",
    "df_data_bdl[\"Fe\"] = df_data_bdl['Fe56'] + df_data_bdl['Fe57']\n",
    "\n",
    "\n",
    "df_data_bdl = df_data_bdl.drop(['Ca43','Ca44', 'Fe56', 'Fe57'], axis=1)\n",
    "\n",
    "\n",
    "df_data_bdl"
   ]
  },
  {
   "cell_type": "code",
   "execution_count": 40,
   "id": "5325f6f1",
   "metadata": {},
   "outputs": [
    {
     "data": {
      "text/html": [
       "<div>\n",
       "<style scoped>\n",
       "    .dataframe tbody tr th:only-of-type {\n",
       "        vertical-align: middle;\n",
       "    }\n",
       "\n",
       "    .dataframe tbody tr th {\n",
       "        vertical-align: top;\n",
       "    }\n",
       "\n",
       "    .dataframe thead th {\n",
       "        text-align: right;\n",
       "    }\n",
       "</style>\n",
       "<table border=\"1\" class=\"dataframe\">\n",
       "  <thead>\n",
       "    <tr style=\"text-align: right;\">\n",
       "      <th></th>\n",
       "      <th>Al</th>\n",
       "      <th>B</th>\n",
       "      <th>Ba</th>\n",
       "      <th>Ca</th>\n",
       "      <th>Cs</th>\n",
       "      <th>Fe</th>\n",
       "      <th>K</th>\n",
       "      <th>Li</th>\n",
       "      <th>Mg</th>\n",
       "      <th>Mn</th>\n",
       "      <th>...</th>\n",
       "      <th>B%</th>\n",
       "      <th>Alkalis</th>\n",
       "      <th>Alkalis%</th>\n",
       "      <th>sample</th>\n",
       "      <th>piece</th>\n",
       "      <th>field</th>\n",
       "      <th>analysis</th>\n",
       "      <th>Host</th>\n",
       "      <th>Time</th>\n",
       "      <th>Info</th>\n",
       "    </tr>\n",
       "  </thead>\n",
       "  <tbody>\n",
       "    <tr>\n",
       "      <th>0</th>\n",
       "      <td>NaN</td>\n",
       "      <td>0.022483</td>\n",
       "      <td>NaN</td>\n",
       "      <td>NaN</td>\n",
       "      <td>0.004302</td>\n",
       "      <td>NaN</td>\n",
       "      <td>0.442595</td>\n",
       "      <td>NaN</td>\n",
       "      <td>NaN</td>\n",
       "      <td>0.020633</td>\n",
       "      <td>...</td>\n",
       "      <td>0.024302</td>\n",
       "      <td>NaN</td>\n",
       "      <td>NaN</td>\n",
       "      <td>20</td>\n",
       "      <td>B</td>\n",
       "      <td>4.0</td>\n",
       "      <td>1</td>\n",
       "      <td>bertossaite</td>\n",
       "      <td>14:36:00</td>\n",
       "      <td></td>\n",
       "    </tr>\n",
       "    <tr>\n",
       "      <th>1</th>\n",
       "      <td>NaN</td>\n",
       "      <td>0.026216</td>\n",
       "      <td>NaN</td>\n",
       "      <td>NaN</td>\n",
       "      <td>0.005319</td>\n",
       "      <td>NaN</td>\n",
       "      <td>0.325694</td>\n",
       "      <td>0.628774</td>\n",
       "      <td>NaN</td>\n",
       "      <td>0.002451</td>\n",
       "      <td>...</td>\n",
       "      <td>0.028337</td>\n",
       "      <td>2.740565</td>\n",
       "      <td>5.930801</td>\n",
       "      <td>20</td>\n",
       "      <td>B</td>\n",
       "      <td>4.0</td>\n",
       "      <td>2</td>\n",
       "      <td>bertossaite</td>\n",
       "      <td>14:41:00</td>\n",
       "      <td></td>\n",
       "    </tr>\n",
       "    <tr>\n",
       "      <th>2</th>\n",
       "      <td>NaN</td>\n",
       "      <td>0.021858</td>\n",
       "      <td>NaN</td>\n",
       "      <td>NaN</td>\n",
       "      <td>0.004026</td>\n",
       "      <td>NaN</td>\n",
       "      <td>0.481292</td>\n",
       "      <td>0.930853</td>\n",
       "      <td>0.001074</td>\n",
       "      <td>0.017101</td>\n",
       "      <td>...</td>\n",
       "      <td>0.023626</td>\n",
       "      <td>2.990009</td>\n",
       "      <td>6.254029</td>\n",
       "      <td>20</td>\n",
       "      <td>B</td>\n",
       "      <td>4.0</td>\n",
       "      <td>3b</td>\n",
       "      <td>bertossaite</td>\n",
       "      <td>14:49:00</td>\n",
       "      <td></td>\n",
       "    </tr>\n",
       "    <tr>\n",
       "      <th>3</th>\n",
       "      <td>NaN</td>\n",
       "      <td>0.264164</td>\n",
       "      <td>NaN</td>\n",
       "      <td>NaN</td>\n",
       "      <td>0.008601</td>\n",
       "      <td>NaN</td>\n",
       "      <td>0.817026</td>\n",
       "      <td>0.062650</td>\n",
       "      <td>0.061583</td>\n",
       "      <td>0.026723</td>\n",
       "      <td>...</td>\n",
       "      <td>0.285538</td>\n",
       "      <td>2.555842</td>\n",
       "      <td>7.324745</td>\n",
       "      <td>20</td>\n",
       "      <td>J</td>\n",
       "      <td>1.0</td>\n",
       "      <td>1</td>\n",
       "      <td>trolleite</td>\n",
       "      <td>14:11:00</td>\n",
       "      <td></td>\n",
       "    </tr>\n",
       "    <tr>\n",
       "      <th>4</th>\n",
       "      <td>NaN</td>\n",
       "      <td>0.145573</td>\n",
       "      <td>NaN</td>\n",
       "      <td>NaN</td>\n",
       "      <td>0.004106</td>\n",
       "      <td>NaN</td>\n",
       "      <td>0.930580</td>\n",
       "      <td>0.025705</td>\n",
       "      <td>0.008480</td>\n",
       "      <td>0.004365</td>\n",
       "      <td>...</td>\n",
       "      <td>0.157351</td>\n",
       "      <td>2.575644</td>\n",
       "      <td>7.520033</td>\n",
       "      <td>20</td>\n",
       "      <td>J</td>\n",
       "      <td>1.0</td>\n",
       "      <td>2b</td>\n",
       "      <td>trolleite</td>\n",
       "      <td>14:16:00</td>\n",
       "      <td></td>\n",
       "    </tr>\n",
       "    <tr>\n",
       "      <th>...</th>\n",
       "      <td>...</td>\n",
       "      <td>...</td>\n",
       "      <td>...</td>\n",
       "      <td>...</td>\n",
       "      <td>...</td>\n",
       "      <td>...</td>\n",
       "      <td>...</td>\n",
       "      <td>...</td>\n",
       "      <td>...</td>\n",
       "      <td>...</td>\n",
       "      <td>...</td>\n",
       "      <td>...</td>\n",
       "      <td>...</td>\n",
       "      <td>...</td>\n",
       "      <td>...</td>\n",
       "      <td>...</td>\n",
       "      <td>...</td>\n",
       "      <td>...</td>\n",
       "      <td>...</td>\n",
       "      <td>...</td>\n",
       "      <td>...</td>\n",
       "    </tr>\n",
       "    <tr>\n",
       "      <th>163</th>\n",
       "      <td>1.526052</td>\n",
       "      <td>NaN</td>\n",
       "      <td>NaN</td>\n",
       "      <td>NaN</td>\n",
       "      <td>NaN</td>\n",
       "      <td>NaN</td>\n",
       "      <td>0.001879</td>\n",
       "      <td>NaN</td>\n",
       "      <td>0.119383</td>\n",
       "      <td>2.620045</td>\n",
       "      <td>...</td>\n",
       "      <td>NaN</td>\n",
       "      <td>NaN</td>\n",
       "      <td>NaN</td>\n",
       "      <td>19(2)</td>\n",
       "      <td>C</td>\n",
       "      <td>2</td>\n",
       "      <td>wyl</td>\n",
       "      <td>wyllieite</td>\n",
       "      <td>16:24:00</td>\n",
       "      <td>Wyl-matrix</td>\n",
       "    </tr>\n",
       "    <tr>\n",
       "      <th>164</th>\n",
       "      <td>3.368690</td>\n",
       "      <td>NaN</td>\n",
       "      <td>0.006822</td>\n",
       "      <td>NaN</td>\n",
       "      <td>0.000839</td>\n",
       "      <td>NaN</td>\n",
       "      <td>0.546468</td>\n",
       "      <td>1.172756</td>\n",
       "      <td>0.035918</td>\n",
       "      <td>0.260670</td>\n",
       "      <td>...</td>\n",
       "      <td>NaN</td>\n",
       "      <td>3.340075</td>\n",
       "      <td>6.780561</td>\n",
       "      <td>19</td>\n",
       "      <td>E</td>\n",
       "      <td>11b</td>\n",
       "      <td>3</td>\n",
       "      <td>quartz</td>\n",
       "      <td>16:06:00</td>\n",
       "      <td></td>\n",
       "    </tr>\n",
       "    <tr>\n",
       "      <th>165</th>\n",
       "      <td>0.550941</td>\n",
       "      <td>0.148270</td>\n",
       "      <td>0.000990</td>\n",
       "      <td>NaN</td>\n",
       "      <td>0.002065</td>\n",
       "      <td>NaN</td>\n",
       "      <td>0.768885</td>\n",
       "      <td>NaN</td>\n",
       "      <td>0.533462</td>\n",
       "      <td>0.101851</td>\n",
       "      <td>...</td>\n",
       "      <td>0.160266</td>\n",
       "      <td>NaN</td>\n",
       "      <td>NaN</td>\n",
       "      <td>19</td>\n",
       "      <td>E</td>\n",
       "      <td>11b</td>\n",
       "      <td>4</td>\n",
       "      <td>quartz</td>\n",
       "      <td>16:10:00</td>\n",
       "      <td></td>\n",
       "    </tr>\n",
       "    <tr>\n",
       "      <th>166</th>\n",
       "      <td>NaN</td>\n",
       "      <td>0.134309</td>\n",
       "      <td>NaN</td>\n",
       "      <td>NaN</td>\n",
       "      <td>0.003673</td>\n",
       "      <td>NaN</td>\n",
       "      <td>1.165120</td>\n",
       "      <td>0.455332</td>\n",
       "      <td>0.020526</td>\n",
       "      <td>0.006491</td>\n",
       "      <td>...</td>\n",
       "      <td>0.145175</td>\n",
       "      <td>2.934005</td>\n",
       "      <td>8.129934</td>\n",
       "      <td>4</td>\n",
       "      <td>C</td>\n",
       "      <td>8</td>\n",
       "      <td>4</td>\n",
       "      <td>trolleite</td>\n",
       "      <td>16:45:00</td>\n",
       "      <td>2shots</td>\n",
       "    </tr>\n",
       "    <tr>\n",
       "      <th>167</th>\n",
       "      <td>NaN</td>\n",
       "      <td>0.139223</td>\n",
       "      <td>NaN</td>\n",
       "      <td>NaN</td>\n",
       "      <td>0.002264</td>\n",
       "      <td>NaN</td>\n",
       "      <td>0.138588</td>\n",
       "      <td>0.013708</td>\n",
       "      <td>0.002730</td>\n",
       "      <td>0.001148</td>\n",
       "      <td>...</td>\n",
       "      <td>0.150488</td>\n",
       "      <td>2.281835</td>\n",
       "      <td>5.590122</td>\n",
       "      <td>4</td>\n",
       "      <td>C</td>\n",
       "      <td>8</td>\n",
       "      <td>5</td>\n",
       "      <td>trolleite</td>\n",
       "      <td>16:49:00</td>\n",
       "      <td></td>\n",
       "    </tr>\n",
       "  </tbody>\n",
       "</table>\n",
       "<p>168 rows × 40 columns</p>\n",
       "</div>"
      ],
      "text/plain": [
       "           Al         B        Ba  Ca        Cs  Fe         K        Li  \\\n",
       "0         NaN  0.022483       NaN NaN  0.004302 NaN  0.442595       NaN   \n",
       "1         NaN  0.026216       NaN NaN  0.005319 NaN  0.325694  0.628774   \n",
       "2         NaN  0.021858       NaN NaN  0.004026 NaN  0.481292  0.930853   \n",
       "3         NaN  0.264164       NaN NaN  0.008601 NaN  0.817026  0.062650   \n",
       "4         NaN  0.145573       NaN NaN  0.004106 NaN  0.930580  0.025705   \n",
       "..        ...       ...       ...  ..       ...  ..       ...       ...   \n",
       "163  1.526052       NaN       NaN NaN       NaN NaN  0.001879       NaN   \n",
       "164  3.368690       NaN  0.006822 NaN  0.000839 NaN  0.546468  1.172756   \n",
       "165  0.550941  0.148270  0.000990 NaN  0.002065 NaN  0.768885       NaN   \n",
       "166       NaN  0.134309       NaN NaN  0.003673 NaN  1.165120  0.455332   \n",
       "167       NaN  0.139223       NaN NaN  0.002264 NaN  0.138588  0.013708   \n",
       "\n",
       "           Mg        Mn  ...        B%   Alkalis  Alkalis%  sample  piece  \\\n",
       "0         NaN  0.020633  ...  0.024302       NaN       NaN      20      B   \n",
       "1         NaN  0.002451  ...  0.028337  2.740565  5.930801      20      B   \n",
       "2    0.001074  0.017101  ...  0.023626  2.990009  6.254029      20      B   \n",
       "3    0.061583  0.026723  ...  0.285538  2.555842  7.324745      20      J   \n",
       "4    0.008480  0.004365  ...  0.157351  2.575644  7.520033      20      J   \n",
       "..        ...       ...  ...       ...       ...       ...     ...    ...   \n",
       "163  0.119383  2.620045  ...       NaN       NaN       NaN   19(2)      C   \n",
       "164  0.035918  0.260670  ...       NaN  3.340075  6.780561      19      E   \n",
       "165  0.533462  0.101851  ...  0.160266       NaN       NaN      19      E   \n",
       "166  0.020526  0.006491  ...  0.145175  2.934005  8.129934       4      C   \n",
       "167  0.002730  0.001148  ...  0.150488  2.281835  5.590122       4      C   \n",
       "\n",
       "     field  analysis         Host      Time        Info  \n",
       "0      4.0         1  bertossaite  14:36:00              \n",
       "1      4.0         2  bertossaite  14:41:00              \n",
       "2      4.0        3b  bertossaite  14:49:00              \n",
       "3      1.0         1    trolleite  14:11:00              \n",
       "4      1.0        2b    trolleite  14:16:00              \n",
       "..     ...       ...          ...       ...         ...  \n",
       "163      2       wyl    wyllieite  16:24:00  Wyl-matrix  \n",
       "164    11b         3       quartz  16:06:00              \n",
       "165    11b         4       quartz  16:10:00              \n",
       "166      8         4    trolleite  16:45:00      2shots  \n",
       "167      8         5    trolleite  16:49:00              \n",
       "\n",
       "[168 rows x 40 columns]"
      ]
     },
     "execution_count": 40,
     "metadata": {},
     "output_type": "execute_result"
    }
   ],
   "source": [
    "def ppm_to_mol(concentration, solute):\n",
    "    mol = concentration / (solute * 1000)\n",
    "    return mol\n",
    "\n",
    "# --- new dataframe with molar concentrations (measured ppm divided by molar weights * 1000)\n",
    "    \n",
    "df_mol = df_data_bdl.div((molar_mass*1000), axis='columns')\n",
    "\n",
    "\n",
    "\n",
    "\n",
    "df_mol[\"NbTa\"] = df_mol['Nb'] + df_mol['Ta']\n",
    "df_mol[\"Nb/Ta\"] = df_mol['Nb'] / (df_mol['Ta'].replace(0, np.nan))\n",
    "df_mol[\"Li/Na\"] = df_mol['Li'] / df_mol['Na']\n",
    "df_mol[\"K/Na\"] = df_mol['K'] / df_mol['Na']\n",
    "\n",
    "df_mol[\"Na%\"] = df_data_bdl['Na'] / 10000\n",
    "df_mol[\"Li%\"] = df_data_bdl['Li'] / 10000\n",
    "df_mol[\"K%\"] = df_data_bdl['K'] / 10000\n",
    "df_mol[\"Rb%\"] = df_data_bdl['Rb'] / 10000\n",
    "df_mol[\"Cs%\"] = df_data_bdl['Cs'] / 10000\n",
    "\n",
    "df_mol[\"P%\"] = df_data_bdl['P'] / 10000\n",
    "df_mol[\"B%\"] = df_data_bdl['B'] / 10000\n",
    "\n",
    "df_mol[\"Alkalis\"] = df_mol['Li'] + df_mol['Na'] + df_mol['K'] + df_mol['Rb'] + df_mol['Cs']\n",
    "df_mol[\"Alkalis%\"] = df_mol['Li%'] + df_mol['Na%'] + df_mol['K%'] + df_mol['Rb%'] + df_mol['Cs%']\n",
    "\n",
    "\n",
    "#combine calculated data with metadata\n",
    "df_mol[['sample', 'piece', 'field', 'analysis', 'Host', 'Time', 'Info']] = df_metadata[['sample', 'piece', 'field', 'analysis', 'Host', 'Time', 'Info']]\n",
    "\n",
    "df_mol['Info'] = df_mol['Info'].fillna('')\n",
    "# df_mol = df_mol.fillna(0.0)\n",
    "\n",
    "df_mol"
   ]
  },
  {
   "cell_type": "code",
   "execution_count": 41,
   "id": "a2d423c7",
   "metadata": {},
   "outputs": [
    {
     "data": {
      "text/html": [
       "<div>\n",
       "<style scoped>\n",
       "    .dataframe tbody tr th:only-of-type {\n",
       "        vertical-align: middle;\n",
       "    }\n",
       "\n",
       "    .dataframe tbody tr th {\n",
       "        vertical-align: top;\n",
       "    }\n",
       "\n",
       "    .dataframe thead th {\n",
       "        text-align: right;\n",
       "    }\n",
       "</style>\n",
       "<table border=\"1\" class=\"dataframe\">\n",
       "  <thead>\n",
       "    <tr style=\"text-align: right;\">\n",
       "      <th></th>\n",
       "      <th>sample</th>\n",
       "      <th>piece</th>\n",
       "      <th>field</th>\n",
       "      <th>analysis</th>\n",
       "      <th>Host</th>\n",
       "      <th>Li</th>\n",
       "      <th>B</th>\n",
       "      <th>Na</th>\n",
       "      <th>Mg</th>\n",
       "      <th>Al</th>\n",
       "      <th>...</th>\n",
       "      <th>Na%</th>\n",
       "      <th>Li%</th>\n",
       "      <th>K%</th>\n",
       "      <th>Rb%</th>\n",
       "      <th>Cs%</th>\n",
       "      <th>B%</th>\n",
       "      <th>P%</th>\n",
       "      <th>Alkalis</th>\n",
       "      <th>Time</th>\n",
       "      <th>Info</th>\n",
       "    </tr>\n",
       "  </thead>\n",
       "  <tbody>\n",
       "    <tr>\n",
       "      <th>0</th>\n",
       "      <td>BU18FA20</td>\n",
       "      <td>B</td>\n",
       "      <td>ff4</td>\n",
       "      <td>fi01</td>\n",
       "      <td>bertossaite</td>\n",
       "      <td>NaN</td>\n",
       "      <td>0.022483</td>\n",
       "      <td>1.926398</td>\n",
       "      <td>NaN</td>\n",
       "      <td>NaN</td>\n",
       "      <td>...</td>\n",
       "      <td>4.428687</td>\n",
       "      <td>NaN</td>\n",
       "      <td>1.730444</td>\n",
       "      <td>0.079876</td>\n",
       "      <td>0.057170</td>\n",
       "      <td>0.024302</td>\n",
       "      <td>1.962177</td>\n",
       "      <td>NaN</td>\n",
       "      <td>14:36:00</td>\n",
       "      <td></td>\n",
       "    </tr>\n",
       "    <tr>\n",
       "      <th>1</th>\n",
       "      <td>BU18FA20</td>\n",
       "      <td>B</td>\n",
       "      <td>ff4</td>\n",
       "      <td>fi02</td>\n",
       "      <td>bertossaite</td>\n",
       "      <td>0.628774</td>\n",
       "      <td>0.026216</td>\n",
       "      <td>1.771753</td>\n",
       "      <td>NaN</td>\n",
       "      <td>NaN</td>\n",
       "      <td>...</td>\n",
       "      <td>4.073165</td>\n",
       "      <td>0.436413</td>\n",
       "      <td>1.273390</td>\n",
       "      <td>0.077135</td>\n",
       "      <td>0.070699</td>\n",
       "      <td>0.028337</td>\n",
       "      <td>2.855126</td>\n",
       "      <td>2.740565</td>\n",
       "      <td>14:41:00</td>\n",
       "      <td></td>\n",
       "    </tr>\n",
       "    <tr>\n",
       "      <th>2</th>\n",
       "      <td>BU18FA20</td>\n",
       "      <td>B</td>\n",
       "      <td>ff4</td>\n",
       "      <td>fi03</td>\n",
       "      <td>bertossaite</td>\n",
       "      <td>0.930853</td>\n",
       "      <td>0.021858</td>\n",
       "      <td>1.565109</td>\n",
       "      <td>0.001074</td>\n",
       "      <td>NaN</td>\n",
       "      <td>...</td>\n",
       "      <td>3.598102</td>\n",
       "      <td>0.646077</td>\n",
       "      <td>1.881743</td>\n",
       "      <td>0.074599</td>\n",
       "      <td>0.053508</td>\n",
       "      <td>0.023626</td>\n",
       "      <td>1.806373</td>\n",
       "      <td>2.990009</td>\n",
       "      <td>14:49:00</td>\n",
       "      <td></td>\n",
       "    </tr>\n",
       "    <tr>\n",
       "      <th>3</th>\n",
       "      <td>BU18FA20</td>\n",
       "      <td>J</td>\n",
       "      <td>ff1</td>\n",
       "      <td>fi01</td>\n",
       "      <td>trolleite</td>\n",
       "      <td>0.062650</td>\n",
       "      <td>0.264164</td>\n",
       "      <td>1.645329</td>\n",
       "      <td>0.061583</td>\n",
       "      <td>NaN</td>\n",
       "      <td>...</td>\n",
       "      <td>3.782524</td>\n",
       "      <td>0.043484</td>\n",
       "      <td>3.194385</td>\n",
       "      <td>0.190035</td>\n",
       "      <td>0.114318</td>\n",
       "      <td>0.285538</td>\n",
       "      <td>1.915361</td>\n",
       "      <td>2.555842</td>\n",
       "      <td>14:11:00</td>\n",
       "      <td></td>\n",
       "    </tr>\n",
       "    <tr>\n",
       "      <th>4</th>\n",
       "      <td>BU18FA20</td>\n",
       "      <td>J</td>\n",
       "      <td>ff1</td>\n",
       "      <td>fi02</td>\n",
       "      <td>trolleite</td>\n",
       "      <td>0.025705</td>\n",
       "      <td>0.145573</td>\n",
       "      <td>1.599905</td>\n",
       "      <td>0.008480</td>\n",
       "      <td>NaN</td>\n",
       "      <td>...</td>\n",
       "      <td>3.678096</td>\n",
       "      <td>0.017841</td>\n",
       "      <td>3.638355</td>\n",
       "      <td>0.131172</td>\n",
       "      <td>0.054569</td>\n",
       "      <td>0.157351</td>\n",
       "      <td>NaN</td>\n",
       "      <td>2.575644</td>\n",
       "      <td>14:16:00</td>\n",
       "      <td></td>\n",
       "    </tr>\n",
       "    <tr>\n",
       "      <th>...</th>\n",
       "      <td>...</td>\n",
       "      <td>...</td>\n",
       "      <td>...</td>\n",
       "      <td>...</td>\n",
       "      <td>...</td>\n",
       "      <td>...</td>\n",
       "      <td>...</td>\n",
       "      <td>...</td>\n",
       "      <td>...</td>\n",
       "      <td>...</td>\n",
       "      <td>...</td>\n",
       "      <td>...</td>\n",
       "      <td>...</td>\n",
       "      <td>...</td>\n",
       "      <td>...</td>\n",
       "      <td>...</td>\n",
       "      <td>...</td>\n",
       "      <td>...</td>\n",
       "      <td>...</td>\n",
       "      <td>...</td>\n",
       "      <td>...</td>\n",
       "    </tr>\n",
       "    <tr>\n",
       "      <th>161</th>\n",
       "      <td>BU18FA04</td>\n",
       "      <td>C</td>\n",
       "      <td>ff8</td>\n",
       "      <td>fi03</td>\n",
       "      <td>trolleite</td>\n",
       "      <td>0.261808</td>\n",
       "      <td>0.167808</td>\n",
       "      <td>1.108561</td>\n",
       "      <td>0.001249</td>\n",
       "      <td>NaN</td>\n",
       "      <td>...</td>\n",
       "      <td>2.548523</td>\n",
       "      <td>0.181713</td>\n",
       "      <td>6.036756</td>\n",
       "      <td>0.264373</td>\n",
       "      <td>0.039088</td>\n",
       "      <td>0.181385</td>\n",
       "      <td>65.843704</td>\n",
       "      <td>2.948261</td>\n",
       "      <td>16:39:00</td>\n",
       "      <td></td>\n",
       "    </tr>\n",
       "    <tr>\n",
       "      <th>164</th>\n",
       "      <td>BU18FA19</td>\n",
       "      <td>E</td>\n",
       "      <td>ff11b</td>\n",
       "      <td>fi03</td>\n",
       "      <td>quartz</td>\n",
       "      <td>1.172756</td>\n",
       "      <td>NaN</td>\n",
       "      <td>1.604880</td>\n",
       "      <td>0.035918</td>\n",
       "      <td>3.368690</td>\n",
       "      <td>...</td>\n",
       "      <td>3.689533</td>\n",
       "      <td>0.813974</td>\n",
       "      <td>2.136565</td>\n",
       "      <td>0.129332</td>\n",
       "      <td>0.011156</td>\n",
       "      <td>NaN</td>\n",
       "      <td>6.252270</td>\n",
       "      <td>3.340075</td>\n",
       "      <td>16:06:00</td>\n",
       "      <td></td>\n",
       "    </tr>\n",
       "    <tr>\n",
       "      <th>165</th>\n",
       "      <td>BU18FA19</td>\n",
       "      <td>E</td>\n",
       "      <td>ff11b</td>\n",
       "      <td>fi04</td>\n",
       "      <td>quartz</td>\n",
       "      <td>NaN</td>\n",
       "      <td>0.148270</td>\n",
       "      <td>1.882973</td>\n",
       "      <td>0.533462</td>\n",
       "      <td>0.550941</td>\n",
       "      <td>...</td>\n",
       "      <td>4.328855</td>\n",
       "      <td>NaN</td>\n",
       "      <td>3.006163</td>\n",
       "      <td>0.159647</td>\n",
       "      <td>0.027439</td>\n",
       "      <td>0.160266</td>\n",
       "      <td>NaN</td>\n",
       "      <td>NaN</td>\n",
       "      <td>16:10:00</td>\n",
       "      <td></td>\n",
       "    </tr>\n",
       "    <tr>\n",
       "      <th>166</th>\n",
       "      <td>BU18FA04</td>\n",
       "      <td>C</td>\n",
       "      <td>ff8</td>\n",
       "      <td>fi04</td>\n",
       "      <td>trolleite</td>\n",
       "      <td>0.455332</td>\n",
       "      <td>0.134309</td>\n",
       "      <td>1.278128</td>\n",
       "      <td>0.020526</td>\n",
       "      <td>NaN</td>\n",
       "      <td>...</td>\n",
       "      <td>2.938347</td>\n",
       "      <td>0.316032</td>\n",
       "      <td>4.555350</td>\n",
       "      <td>0.271385</td>\n",
       "      <td>0.048820</td>\n",
       "      <td>0.145175</td>\n",
       "      <td>8.993534</td>\n",
       "      <td>2.934005</td>\n",
       "      <td>16:45:00</td>\n",
       "      <td>2shots</td>\n",
       "    </tr>\n",
       "    <tr>\n",
       "      <th>167</th>\n",
       "      <td>BU18FA04</td>\n",
       "      <td>C</td>\n",
       "      <td>ff8</td>\n",
       "      <td>fi05</td>\n",
       "      <td>trolleite</td>\n",
       "      <td>0.013708</td>\n",
       "      <td>0.139223</td>\n",
       "      <td>2.108360</td>\n",
       "      <td>0.002730</td>\n",
       "      <td>NaN</td>\n",
       "      <td>...</td>\n",
       "      <td>4.847008</td>\n",
       "      <td>0.009514</td>\n",
       "      <td>0.541846</td>\n",
       "      <td>0.161660</td>\n",
       "      <td>0.030094</td>\n",
       "      <td>0.150488</td>\n",
       "      <td>NaN</td>\n",
       "      <td>2.281835</td>\n",
       "      <td>16:49:00</td>\n",
       "      <td></td>\n",
       "    </tr>\n",
       "  </tbody>\n",
       "</table>\n",
       "<p>120 rows × 39 columns</p>\n",
       "</div>"
      ],
      "text/plain": [
       "       sample piece  field analysis         Host        Li         B  \\\n",
       "0    BU18FA20     B    ff4     fi01  bertossaite       NaN  0.022483   \n",
       "1    BU18FA20     B    ff4     fi02  bertossaite  0.628774  0.026216   \n",
       "2    BU18FA20     B    ff4     fi03  bertossaite  0.930853  0.021858   \n",
       "3    BU18FA20     J    ff1     fi01    trolleite  0.062650  0.264164   \n",
       "4    BU18FA20     J    ff1     fi02    trolleite  0.025705  0.145573   \n",
       "..        ...   ...    ...      ...          ...       ...       ...   \n",
       "161  BU18FA04     C    ff8     fi03    trolleite  0.261808  0.167808   \n",
       "164  BU18FA19     E  ff11b     fi03       quartz  1.172756       NaN   \n",
       "165  BU18FA19     E  ff11b     fi04       quartz       NaN  0.148270   \n",
       "166  BU18FA04     C    ff8     fi04    trolleite  0.455332  0.134309   \n",
       "167  BU18FA04     C    ff8     fi05    trolleite  0.013708  0.139223   \n",
       "\n",
       "           Na        Mg        Al  ...       Na%       Li%        K%  \\\n",
       "0    1.926398       NaN       NaN  ...  4.428687       NaN  1.730444   \n",
       "1    1.771753       NaN       NaN  ...  4.073165  0.436413  1.273390   \n",
       "2    1.565109  0.001074       NaN  ...  3.598102  0.646077  1.881743   \n",
       "3    1.645329  0.061583       NaN  ...  3.782524  0.043484  3.194385   \n",
       "4    1.599905  0.008480       NaN  ...  3.678096  0.017841  3.638355   \n",
       "..        ...       ...       ...  ...       ...       ...       ...   \n",
       "161  1.108561  0.001249       NaN  ...  2.548523  0.181713  6.036756   \n",
       "164  1.604880  0.035918  3.368690  ...  3.689533  0.813974  2.136565   \n",
       "165  1.882973  0.533462  0.550941  ...  4.328855       NaN  3.006163   \n",
       "166  1.278128  0.020526       NaN  ...  2.938347  0.316032  4.555350   \n",
       "167  2.108360  0.002730       NaN  ...  4.847008  0.009514  0.541846   \n",
       "\n",
       "          Rb%       Cs%        B%         P%   Alkalis      Time    Info  \n",
       "0    0.079876  0.057170  0.024302   1.962177       NaN  14:36:00          \n",
       "1    0.077135  0.070699  0.028337   2.855126  2.740565  14:41:00          \n",
       "2    0.074599  0.053508  0.023626   1.806373  2.990009  14:49:00          \n",
       "3    0.190035  0.114318  0.285538   1.915361  2.555842  14:11:00          \n",
       "4    0.131172  0.054569  0.157351        NaN  2.575644  14:16:00          \n",
       "..        ...       ...       ...        ...       ...       ...     ...  \n",
       "161  0.264373  0.039088  0.181385  65.843704  2.948261  16:39:00          \n",
       "164  0.129332  0.011156       NaN   6.252270  3.340075  16:06:00          \n",
       "165  0.159647  0.027439  0.160266        NaN       NaN  16:10:00          \n",
       "166  0.271385  0.048820  0.145175   8.993534  2.934005  16:45:00  2shots  \n",
       "167  0.161660  0.030094  0.150488        NaN  2.281835  16:49:00          \n",
       "\n",
       "[120 rows x 39 columns]"
      ]
     },
     "execution_count": 41,
     "metadata": {},
     "output_type": "execute_result"
    }
   ],
   "source": [
    "df_hosts = df_mol[df_mol['Info'].str.contains(\"matri|rutile\")]\n",
    "\n",
    "df_FI = df_mol[~df_mol['Info'].str.contains(\"matri|rutile\")]\n",
    "\n",
    "\n",
    "\n",
    "df_FI = df_FI[['sample', 'piece', 'field', 'analysis', 'Host',\n",
    "               'Li', 'B', 'Na', 'Mg', 'Al', 'Si', 'P', 'K', \n",
    "               'Ti', 'Mn','Rb', \n",
    "               'Sr', 'Nb', 'Sn', 'Cs', 'Ba', 'Ta', 'W', 'Ca',\n",
    "               'Fe', 'NbTa', 'Nb/Ta', 'Li/Na', 'K/Na', \n",
    "               'Na%', 'Li%', 'K%', 'Rb%','Cs%', 'B%', 'P%',\n",
    "               'Alkalis',\n",
    "               'Time', 'Info']]\n",
    "\n",
    "\n",
    "\n",
    "df_FI['sample'] = 'BU18FA' + df_FI['sample'].astype(str)\n",
    "df_FI['sample'] = df_FI['sample'].astype(str).replace(('4'),('04'),regex=True)\n",
    "\n",
    "df_FI['field'] = 'ff' + df_FI['field'].astype(str).replace(('.0'),(''),regex=True)\n",
    "df_FI['field'] = df_FI['field'].astype(str).replace(('ffC'),('incC'),regex=True)\n",
    "\n",
    "df_FI['analysis'] = df_FI['analysis'].astype(str).replace(('\\.0','b'),('',''),regex=True)\n",
    "df_FI['analysis'] = 'fi0' + df_FI['analysis'].astype(str)\n",
    "\n",
    "df_FI.to_csv(base_dir+'FI_LAICPMS_bdl_mol.csv',index=False)\n",
    "\n",
    "df_FI"
   ]
  },
  {
   "cell_type": "code",
   "execution_count": 12,
   "id": "8d90632b",
   "metadata": {},
   "outputs": [
    {
     "name": "stdout",
     "output_type": "stream",
     "text": [
      "Index(['sample', 'piece', 'field', 'analysis', 'Host', 'Li', 'B', 'Na', 'Mg',\n",
      "       'Al', 'Si', 'P', 'K', 'Ti', 'Mn', 'Rb', 'Sr', 'Nb', 'Sn', 'Cs', 'Ba',\n",
      "       'Ta', 'W', 'Ca', 'Fe', 'NbTa', 'Nb/Ta', 'Li/Na', 'K/Na', 'Alkalis',\n",
      "       'Time', 'Info'],\n",
      "      dtype='object')\n"
     ]
    },
    {
     "data": {
      "text/html": [
       "<div>\n",
       "<style scoped>\n",
       "    .dataframe tbody tr th:only-of-type {\n",
       "        vertical-align: middle;\n",
       "    }\n",
       "\n",
       "    .dataframe tbody tr th {\n",
       "        vertical-align: top;\n",
       "    }\n",
       "\n",
       "    .dataframe thead th {\n",
       "        text-align: right;\n",
       "    }\n",
       "</style>\n",
       "<table border=\"1\" class=\"dataframe\">\n",
       "  <thead>\n",
       "    <tr style=\"text-align: right;\">\n",
       "      <th></th>\n",
       "      <th>sample</th>\n",
       "      <th>piece</th>\n",
       "      <th>field</th>\n",
       "      <th>analysis</th>\n",
       "      <th>Host</th>\n",
       "      <th>Li</th>\n",
       "      <th>B</th>\n",
       "      <th>Na</th>\n",
       "      <th>Mg</th>\n",
       "      <th>Al</th>\n",
       "      <th>...</th>\n",
       "      <th>W</th>\n",
       "      <th>Ca</th>\n",
       "      <th>Fe</th>\n",
       "      <th>NbTa</th>\n",
       "      <th>Nb/Ta</th>\n",
       "      <th>Li/Na</th>\n",
       "      <th>K/Na</th>\n",
       "      <th>Alkalis</th>\n",
       "      <th>Time</th>\n",
       "      <th>Info</th>\n",
       "    </tr>\n",
       "  </thead>\n",
       "  <tbody>\n",
       "    <tr>\n",
       "      <th>3</th>\n",
       "      <td>BU18FA20</td>\n",
       "      <td>J</td>\n",
       "      <td>ff1</td>\n",
       "      <td>fi01</td>\n",
       "      <td>trolleite</td>\n",
       "      <td>0.062650</td>\n",
       "      <td>0.264164</td>\n",
       "      <td>1.645329</td>\n",
       "      <td>0.061583</td>\n",
       "      <td>0.0</td>\n",
       "      <td>...</td>\n",
       "      <td>0.000086</td>\n",
       "      <td>0.0</td>\n",
       "      <td>0.0</td>\n",
       "      <td>0.0</td>\n",
       "      <td>0.0</td>\n",
       "      <td>0.0</td>\n",
       "      <td>0.0</td>\n",
       "      <td>2.555842</td>\n",
       "      <td>14:11:00</td>\n",
       "      <td></td>\n",
       "    </tr>\n",
       "    <tr>\n",
       "      <th>4</th>\n",
       "      <td>BU18FA20</td>\n",
       "      <td>J</td>\n",
       "      <td>ff1</td>\n",
       "      <td>fi02b</td>\n",
       "      <td>trolleite</td>\n",
       "      <td>0.025705</td>\n",
       "      <td>0.145573</td>\n",
       "      <td>1.599905</td>\n",
       "      <td>0.008480</td>\n",
       "      <td>0.0</td>\n",
       "      <td>...</td>\n",
       "      <td>0.000000</td>\n",
       "      <td>0.0</td>\n",
       "      <td>0.0</td>\n",
       "      <td>0.0</td>\n",
       "      <td>0.0</td>\n",
       "      <td>0.0</td>\n",
       "      <td>0.0</td>\n",
       "      <td>2.575644</td>\n",
       "      <td>14:16:00</td>\n",
       "      <td></td>\n",
       "    </tr>\n",
       "    <tr>\n",
       "      <th>5</th>\n",
       "      <td>BU18FA20</td>\n",
       "      <td>J</td>\n",
       "      <td>ff1</td>\n",
       "      <td>fi03</td>\n",
       "      <td>trolleite</td>\n",
       "      <td>0.048827</td>\n",
       "      <td>0.114653</td>\n",
       "      <td>1.553009</td>\n",
       "      <td>0.007575</td>\n",
       "      <td>0.0</td>\n",
       "      <td>...</td>\n",
       "      <td>0.000000</td>\n",
       "      <td>0.0</td>\n",
       "      <td>0.0</td>\n",
       "      <td>0.0</td>\n",
       "      <td>0.0</td>\n",
       "      <td>0.0</td>\n",
       "      <td>0.0</td>\n",
       "      <td>2.610539</td>\n",
       "      <td>14:20:00</td>\n",
       "      <td></td>\n",
       "    </tr>\n",
       "    <tr>\n",
       "      <th>11</th>\n",
       "      <td>BU18FA19</td>\n",
       "      <td>A</td>\n",
       "      <td>ff7b</td>\n",
       "      <td>fi06</td>\n",
       "      <td>trolleite</td>\n",
       "      <td>0.000000</td>\n",
       "      <td>0.000000</td>\n",
       "      <td>1.885721</td>\n",
       "      <td>0.000000</td>\n",
       "      <td>0.0</td>\n",
       "      <td>...</td>\n",
       "      <td>0.000000</td>\n",
       "      <td>0.0</td>\n",
       "      <td>0.0</td>\n",
       "      <td>0.0</td>\n",
       "      <td>0.0</td>\n",
       "      <td>0.0</td>\n",
       "      <td>0.0</td>\n",
       "      <td>0.000000</td>\n",
       "      <td>10:29:00</td>\n",
       "      <td></td>\n",
       "    </tr>\n",
       "    <tr>\n",
       "      <th>12</th>\n",
       "      <td>BU18FA19</td>\n",
       "      <td>A</td>\n",
       "      <td>ff7b</td>\n",
       "      <td>fi08</td>\n",
       "      <td>trolleite</td>\n",
       "      <td>0.000000</td>\n",
       "      <td>0.000000</td>\n",
       "      <td>1.682806</td>\n",
       "      <td>0.000000</td>\n",
       "      <td>0.0</td>\n",
       "      <td>...</td>\n",
       "      <td>0.000000</td>\n",
       "      <td>0.0</td>\n",
       "      <td>0.0</td>\n",
       "      <td>0.0</td>\n",
       "      <td>0.0</td>\n",
       "      <td>0.0</td>\n",
       "      <td>0.0</td>\n",
       "      <td>0.000000</td>\n",
       "      <td>10:47:00</td>\n",
       "      <td></td>\n",
       "    </tr>\n",
       "  </tbody>\n",
       "</table>\n",
       "<p>5 rows × 32 columns</p>\n",
       "</div>"
      ],
      "text/plain": [
       "      sample piece field analysis       Host        Li         B        Na  \\\n",
       "3   BU18FA20     J   ff1     fi01  trolleite  0.062650  0.264164  1.645329   \n",
       "4   BU18FA20     J   ff1    fi02b  trolleite  0.025705  0.145573  1.599905   \n",
       "5   BU18FA20     J   ff1     fi03  trolleite  0.048827  0.114653  1.553009   \n",
       "11  BU18FA19     A  ff7b     fi06  trolleite  0.000000  0.000000  1.885721   \n",
       "12  BU18FA19     A  ff7b     fi08  trolleite  0.000000  0.000000  1.682806   \n",
       "\n",
       "          Mg   Al  ...         W   Ca   Fe  NbTa  Nb/Ta  Li/Na  K/Na  \\\n",
       "3   0.061583  0.0  ...  0.000086  0.0  0.0   0.0    0.0    0.0   0.0   \n",
       "4   0.008480  0.0  ...  0.000000  0.0  0.0   0.0    0.0    0.0   0.0   \n",
       "5   0.007575  0.0  ...  0.000000  0.0  0.0   0.0    0.0    0.0   0.0   \n",
       "11  0.000000  0.0  ...  0.000000  0.0  0.0   0.0    0.0    0.0   0.0   \n",
       "12  0.000000  0.0  ...  0.000000  0.0  0.0   0.0    0.0    0.0   0.0   \n",
       "\n",
       "     Alkalis      Time  Info  \n",
       "3   2.555842  14:11:00        \n",
       "4   2.575644  14:16:00        \n",
       "5   2.610539  14:20:00        \n",
       "11  0.000000  10:29:00        \n",
       "12  0.000000  10:47:00        \n",
       "\n",
       "[5 rows x 32 columns]"
      ]
     },
     "execution_count": 12,
     "metadata": {},
     "output_type": "execute_result"
    }
   ],
   "source": [
    "print(df_FI.columns)\n",
    "\n",
    "df_wyl = df_FI.query('Host == \"wyllieite\"')\n",
    "df_trl = df_FI.query('Host == \"trolleite\"')\n",
    "df_bts = df_FI.query('Host == \"bertossaite\"')\n",
    "df_aug = df_FI.query('Host == \"augelite\"')\n",
    "df_brz = df_FI.query('Host == \"brazilianite\"')\n",
    "df_qtz = df_FI.query('Host == \"quartz\"')\n",
    "\n",
    "df_trl.head()\n",
    "\n",
    "# df_trl.describe()\n",
    "\n",
    "# df_trl"
   ]
  },
  {
   "cell_type": "code",
   "execution_count": 27,
   "id": "5103491b",
   "metadata": {},
   "outputs": [
    {
     "data": {
      "application/vnd.plotly.v1+json": {
       "config": {
        "plotlyServerURL": "https://plot.ly"
       },
       "data": [
        {
         "customdata": [
          [
           "B",
           "ff4",
           "fi01",
           "",
           "BU18FA20"
          ],
          [
           "B",
           "ff4",
           "fi02",
           "",
           "BU18FA20"
          ],
          [
           "B",
           "ff4",
           "fi03b",
           "",
           "BU18FA20"
          ],
          [
           "A",
           "ff3",
           "fi01",
           "bts",
           "BU18FA4"
          ],
          [
           "A",
           "ff3",
           "fi02",
           "bts",
           "BU18FA4"
          ],
          [
           "A",
           "ff3",
           "fi03",
           "bts",
           "BU18FA4"
          ],
          [
           "A",
           "ff3",
           "fi04",
           "bts",
           "BU18FA4"
          ],
          [
           "A",
           "ff3",
           "fi05",
           "bts",
           "BU18FA4"
          ],
          [
           "A",
           "ff3",
           "fi06",
           "bts",
           "BU18FA4"
          ],
          [
           "A",
           "ff3",
           "fi08",
           "bts",
           "BU18FA4"
          ],
          [
           "B",
           "ff6",
           "fi01",
           "",
           "BU18FA4"
          ],
          [
           "B",
           "ff6",
           "fi06",
           "3shots",
           "BU18FA4"
          ],
          [
           "B",
           "ff6",
           "fi09",
           "",
           "BU18FA4"
          ],
          [
           "B",
           "ff7",
           "fi01",
           "2shots",
           "BU18FA4"
          ],
          [
           "B",
           "ff7",
           "fi02",
           "2shots",
           "BU18FA4"
          ],
          [
           "B",
           "ff7",
           "fi03",
           "",
           "BU18FA4"
          ],
          [
           "B",
           "ff7",
           "fi05",
           "2shots",
           "BU18FA4"
          ],
          [
           "E",
           "ff11",
           "fi06",
           "2shots",
           "BU18FA19"
          ],
          [
           "E",
           "ff11",
           "fi07",
           "",
           "BU18FA19"
          ],
          [
           "E",
           "ff11",
           "fi09",
           "2shots",
           "BU18FA19"
          ],
          [
           "E",
           "ff11",
           "fi010",
           "2shots",
           "BU18FA19"
          ],
          [
           "B",
           "ff2",
           "fi01",
           "2shots",
           "BU18FA20"
          ],
          [
           "B",
           "ff2",
           "fi02",
           "maybe-not",
           "BU18FA20"
          ],
          [
           "B",
           "ff2",
           "fi03",
           "3shots",
           "BU18FA20"
          ],
          [
           "B",
           "ff2",
           "fi04",
           "3shots",
           "BU18FA20"
          ],
          [
           "B",
           "ff2",
           "fi05",
           "3shots",
           "BU18FA20"
          ],
          [
           "B",
           "ff2",
           "fi07",
           "",
           "BU18FA20"
          ],
          [
           "B",
           "ff4",
           "fi06.0",
           "",
           "BU18FA20"
          ],
          [
           "B",
           "ff4",
           "fi07.0",
           "3shots",
           "BU18FA20"
          ],
          [
           "B",
           "ff4",
           "fi09.0",
           "",
           "BU18FA20"
          ],
          [
           "C",
           "ff2",
           "fi01",
           "",
           "BU18FA22"
          ],
          [
           "C",
           "ff2",
           "fi02",
           "",
           "BU18FA22"
          ],
          [
           "C",
           "ff2",
           "fi03",
           "2shots",
           "BU18FA22"
          ],
          [
           "C",
           "ff3",
           "fi04",
           "3shots",
           "BU18FA22"
          ],
          [
           "C",
           "ff1",
           "fi01",
           "3shots",
           "BU18FA20"
          ],
          [
           "C",
           "ff1",
           "fi02",
           "2shots",
           "BU18FA20"
          ],
          [
           "C",
           "ff1",
           "fi04",
           "2shots",
           "BU18FA20"
          ],
          [
           "C",
           "ff1",
           "fi08",
           "2shots",
           "BU18FA20"
          ],
          [
           "C",
           "ff1",
           "fi09",
           "",
           "BU18FA20"
          ]
         ],
         "hovertemplate": "Host=bertossaite<br>Li/Na=%{x}<br>Mn=%{y}<br>piece=%{customdata[0]}<br>field=%{customdata[1]}<br>analysis=%{customdata[2]}<br>Info=%{customdata[3]}<br>sample=%{customdata[4]}<extra></extra>",
         "legendgroup": "bertossaite",
         "marker": {
          "color": "#636efa",
          "size": 8,
          "symbol": "circle"
         },
         "mode": "markers",
         "name": "bertossaite",
         "orientation": "v",
         "showlegend": true,
         "type": "scatter",
         "x": [
          0,
          0.3548880205845609,
          0.5947532333069078,
          1.7094079148649566,
          0.4506240669221839,
          0.18970400793603118,
          0.6521126891648122,
          3.6098379827154794,
          0,
          0.9396990008624022,
          0.13186493422623524,
          0.05890504552376754,
          0,
          0.5585169532482023,
          0,
          2.498633275195581,
          0,
          0,
          0,
          1.2578502786921693,
          0.11563126021273244,
          0,
          1.3499540459571666,
          0.13829867199863233,
          3.009802437712795,
          0,
          0.2734053135069615,
          0.6001173383745367,
          0.8595330930403188,
          0,
          0.5496767750075884,
          0,
          0.2854049269680126,
          0.38198946938499423,
          0.31438614489529654,
          0.9717352296976924,
          0.21791268749420112,
          0.6608344981087403,
          0
         ],
         "xaxis": "x",
         "y": [
          0.020633035588339198,
          0.0024508807895982513,
          0.017100645644668115,
          0,
          0.014992738168248195,
          0.0054630427965749705,
          0.018342858318791858,
          0.05445642872189441,
          0,
          0.002800960450050946,
          0,
          0.047070552891868164,
          0,
          0,
          0.058768197081497726,
          0.01923271428834583,
          0.010852870338023228,
          0.1516165698027076,
          0.021072910123163518,
          0.1192045360903675,
          0.03012110523146667,
          0,
          0.190754295394922,
          0.0072615845713198185,
          0,
          0.057752539946948074,
          0.017199968791381078,
          0.03885624126882863,
          0,
          0.03091728407647058,
          0.12156344439708584,
          0,
          0,
          0.08246975534989026,
          0.008352160734620646,
          0.03825420956958371,
          0.03378417231659503,
          0,
          0
         ],
         "yaxis": "y"
        },
        {
         "customdata": [
          [
           "J",
           "ff1",
           "fi01",
           "",
           "BU18FA20"
          ],
          [
           "J",
           "ff1",
           "fi02b",
           "",
           "BU18FA20"
          ],
          [
           "J",
           "ff1",
           "fi03",
           "",
           "BU18FA20"
          ],
          [
           "A",
           "ff7b",
           "fi06",
           "",
           "BU18FA19"
          ],
          [
           "A",
           "ff7b",
           "fi08",
           "",
           "BU18FA19"
          ],
          [
           "A",
           "ff7b",
           "fi012",
           "",
           "BU18FA19"
          ],
          [
           "A",
           "ff7b",
           "fi07",
           "",
           "BU18FA19"
          ],
          [
           "A",
           "ff7b",
           "fi09",
           "",
           "BU18FA19"
          ],
          [
           "A",
           "ff7b",
           "fi01",
           "",
           "BU18FA19"
          ],
          [
           "A",
           "ff7b",
           "fi011",
           "",
           "BU18FA19"
          ],
          [
           "A",
           "ff7b",
           "fi02",
           "",
           "BU18FA19"
          ],
          [
           "B",
           "ff1",
           "fi02",
           "",
           "BU18FA19"
          ],
          [
           "B",
           "ff1",
           "fi03",
           "",
           "BU18FA19"
          ],
          [
           "B",
           "ff1",
           "fi04",
           "",
           "BU18FA19"
          ],
          [
           "B",
           "ff5",
           "fi01",
           "trl",
           "BU18FA4"
          ],
          [
           "B",
           "ff1",
           "fi05",
           "trl",
           "BU18FA19"
          ],
          [
           "B",
           "ff1",
           "fi06",
           "trl",
           "BU18FA19"
          ],
          [
           "B",
           "ff1",
           "fi07",
           "trl",
           "BU18FA19"
          ],
          [
           "E",
           "ff1",
           "fi01",
           "trl-real?",
           "BU18FA20"
          ],
          [
           "E",
           "ff1",
           "fi02",
           "trl",
           "BU18FA20"
          ],
          [
           "E",
           "ff1",
           "fi03",
           "trl",
           "BU18FA20"
          ],
          [
           "E",
           "ff1",
           "fi04",
           "trl",
           "BU18FA20"
          ],
          [
           "E",
           "ff1",
           "fi05",
           "trl-Xtl-rich",
           "BU18FA20"
          ],
          [
           "E",
           "ff1",
           "fi07",
           "trl",
           "BU18FA20"
          ],
          [
           "E",
           "ff1",
           "fi08",
           "trl",
           "BU18FA20"
          ],
          [
           "C",
           "ff8",
           "fi01",
           "",
           "BU18FA4"
          ],
          [
           "C",
           "ff8",
           "fi03",
           "",
           "BU18FA4"
          ],
          [
           "C",
           "ff8",
           "fi04",
           "2shots",
           "BU18FA4"
          ],
          [
           "C",
           "ff8",
           "fi05",
           "",
           "BU18FA4"
          ]
         ],
         "hovertemplate": "Host=trolleite<br>Li/Na=%{x}<br>Mn=%{y}<br>piece=%{customdata[0]}<br>field=%{customdata[1]}<br>analysis=%{customdata[2]}<br>Info=%{customdata[3]}<br>sample=%{customdata[4]}<extra></extra>",
         "legendgroup": "trolleite",
         "marker": {
          "color": "#EF553B",
          "size": 8,
          "symbol": "diamond"
         },
         "mode": "markers",
         "name": "trolleite",
         "orientation": "v",
         "showlegend": true,
         "type": "scatter",
         "x": [
          0.03807760310868545,
          0.016066737275832153,
          0.03144007841695721,
          0,
          0,
          0.10539842348699467,
          0.17033945249128135,
          0.10184306159054768,
          0.03267682386501205,
          1.023678319456586,
          0,
          0.09526895411639912,
          0.04579309113381668,
          0.18639776600663252,
          0,
          0.09091329673789975,
          0.20090374764499963,
          0.05537999617568028,
          0,
          0.07915805181390853,
          0.15984199204460336,
          0.02573724926922735,
          1.7852958003273034,
          0.29528744240319255,
          0.03017556322706482,
          0.032426935450642166,
          0.23616934568398168,
          0.3562490531522458,
          0.006501673301421722
         ],
         "xaxis": "x",
         "y": [
          0.02672319595315579,
          0.004365476066664593,
          0.0033255864664157074,
          0.007637788192134348,
          0,
          0,
          0.21201621139889507,
          0.013225686469972332,
          0.007340448150016503,
          0.0021847564303913813,
          0,
          0.02497717392753451,
          0.005301175769905048,
          0.0023923161578490127,
          0,
          0.03887248569291793,
          0.019509113710794265,
          0,
          0.01305639707173543,
          0,
          0.030437732370229075,
          0.01291963754512699,
          0.0029147859780588037,
          0.013942507856725756,
          0.02977728726356345,
          0.014963624717374656,
          0.013052418210866988,
          0.006490592514516113,
          0.0011481131520363452
         ],
         "yaxis": "y"
        },
        {
         "customdata": [
          [
           "B",
           "ff1b",
           "fi01",
           "qz",
           "BU18FA22"
          ],
          [
           "E",
           "ff11b",
           "fi02",
           "Qz-exploded",
           "BU18FA19"
          ],
          [
           "A",
           "ff2",
           "fi01",
           "",
           "BU18FA22"
          ],
          [
           "A",
           "ff2",
           "fi02",
           "",
           "BU18FA22"
          ],
          [
           "A",
           "ff3",
           "fi01",
           "",
           "BU18FA22"
          ],
          [
           "A",
           "ff3",
           "fi04",
           "",
           "BU18FA22"
          ],
          [
           "A",
           "ff3",
           "fi05",
           "",
           "BU18FA22"
          ],
          [
           "A",
           "ff3b",
           "fi01",
           "",
           "BU18FA22"
          ],
          [
           "A",
           "ff3b",
           "fi02",
           "",
           "BU18FA22"
          ],
          [
           "E",
           "ff11b",
           "fi03",
           "",
           "BU18FA19"
          ],
          [
           "E",
           "ff11b",
           "fi04",
           "",
           "BU18FA19"
          ]
         ],
         "hovertemplate": "Host=quartz<br>Li/Na=%{x}<br>Mn=%{y}<br>piece=%{customdata[0]}<br>field=%{customdata[1]}<br>analysis=%{customdata[2]}<br>Info=%{customdata[3]}<br>sample=%{customdata[4]}<extra></extra>",
         "legendgroup": "quartz",
         "marker": {
          "color": "#00cc96",
          "size": 8,
          "symbol": "square"
         },
         "mode": "markers",
         "name": "quartz",
         "orientation": "v",
         "showlegend": true,
         "type": "scatter",
         "x": [
          0.06825756601817631,
          0,
          0.01781241769951706,
          0,
          0.09744848480329375,
          0.035621484620417754,
          0,
          0.008463927157450295,
          0,
          0.730743637227141,
          0
         ],
         "xaxis": "x",
         "y": [
          0.0025886395847098524,
          0,
          0.00625738986768228,
          0,
          0.009755746720646982,
          0.006864051936369433,
          0,
          0.0026732392488144473,
          5.417204867206865,
          0.26066995343229377,
          0.10185137540199164
         ],
         "yaxis": "y"
        },
        {
         "customdata": [
          [
           "A",
           "ff1",
           "fi01",
           "",
           "BU18FA32"
          ],
          [
           "A",
           "ff1",
           "fi03",
           "2shots",
           "BU18FA32"
          ],
          [
           "A",
           "ff1",
           "fi06",
           "3shots",
           "BU18FA32"
          ],
          [
           "A",
           "ff1",
           "fi09",
           "2shots",
           "BU18FA32"
          ],
          [
           "A",
           "ff1",
           "fi011",
           "3shots",
           "BU18FA32"
          ],
          [
           "B",
           "ff3",
           "fi01",
           "",
           "BU18FA02a"
          ],
          [
           "B",
           "ff3",
           "fi02",
           "",
           "BU18FA02a"
          ],
          [
           "B",
           "ff3",
           "fi03",
           "",
           "BU18FA02a"
          ],
          [
           "B",
           "ff3",
           "fi04",
           "",
           "BU18FA02a"
          ],
          [
           "B",
           "ff3",
           "fi05",
           "",
           "BU18FA02a"
          ],
          [
           "B",
           "ff3",
           "fi06",
           "",
           "BU18FA02a"
          ],
          [
           "B",
           "ff4",
           "fi01",
           "",
           "BU18FA02a"
          ],
          [
           "B",
           "ff1",
           "fi01",
           "",
           "BU18FA32"
          ],
          [
           "B",
           "ff1",
           "fi02",
           "",
           "BU18FA32"
          ],
          [
           "B",
           "ff1",
           "fi03",
           "",
           "BU18FA32"
          ],
          [
           "B",
           "ff1",
           "fi04",
           "",
           "BU18FA32"
          ],
          [
           "B",
           "ff1",
           "fi05",
           "",
           "BU18FA32"
          ],
          [
           "B",
           "ff1",
           "fi06",
           "",
           "BU18FA32"
          ],
          [
           "B",
           "ff2",
           "fi06",
           "",
           "BU18FA32"
          ],
          [
           "B",
           "ff2",
           "fi07",
           "",
           "BU18FA32"
          ],
          [
           "B",
           "ff2",
           "fi08",
           "",
           "BU18FA32"
          ],
          [
           "B",
           "ff2",
           "fi09b",
           "",
           "BU18FA32"
          ]
         ],
         "hovertemplate": "Host=brazilianite<br>Li/Na=%{x}<br>Mn=%{y}<br>piece=%{customdata[0]}<br>field=%{customdata[1]}<br>analysis=%{customdata[2]}<br>Info=%{customdata[3]}<br>sample=%{customdata[4]}<extra></extra>",
         "legendgroup": "brazilianite",
         "marker": {
          "color": "#ab63fa",
          "size": 8,
          "symbol": "x"
         },
         "mode": "markers",
         "name": "brazilianite",
         "orientation": "v",
         "showlegend": true,
         "type": "scatter",
         "x": [
          0.010511935507779345,
          0.05008341058137913,
          0.0706563426060007,
          0.08896110381565565,
          0,
          0.023814120066956334,
          0.6774556486255383,
          0.0260342056507763,
          0.25831795006667174,
          0,
          0,
          0.011588323062303747,
          0.06164930688885073,
          0.14425146399228903,
          0,
          0,
          0,
          0.1936903306790137,
          0.08457763322653405,
          0.05876580032865426,
          0,
          0.0264848487729657
         ],
         "xaxis": "x",
         "y": [
          0,
          0.0002941584966630161,
          0.0012202605402094962,
          0.003020976529565654,
          0,
          0.004126721814246527,
          0,
          0.004260697829388376,
          0.05299108153908771,
          0,
          0,
          0.0017045530747163858,
          0,
          0.003765319525005562,
          0,
          0.0007275299972543858,
          0,
          0.0018833137220159546,
          0.0007723915340653382,
          0.0010048863289892074,
          0,
          9.761949584820748e-05
         ],
         "yaxis": "y"
        },
        {
         "customdata": [
          [
           "A",
           "ff2",
           "fi03",
           "",
           "BU18FA19(2)"
          ],
          [
           "A",
           "ff2",
           "fi04",
           "",
           "BU18FA19(2)"
          ],
          [
           "A",
           "ff2",
           "fi05",
           "",
           "BU18FA19(2)"
          ],
          [
           "A",
           "ff2",
           "fi06",
           "",
           "BU18FA19(2)"
          ],
          [
           "A",
           "ff2",
           "fi07",
           "true?",
           "BU18FA19(2)"
          ],
          [
           "A",
           "ff1",
           "fi01",
           "",
           "BU18FA19(2)"
          ],
          [
           "A",
           "ff1",
           "fi07",
           "2shots",
           "BU18FA19(2)"
          ],
          [
           "A",
           "ff1",
           "fi08",
           "2shots",
           "BU18FA19(2)"
          ],
          [
           "A",
           "ff1",
           "fi09",
           "",
           "BU18FA19(2)"
          ],
          [
           "A",
           "ff1",
           "fi010",
           "",
           "BU18FA19(2)"
          ],
          [
           "A",
           "ff1b",
           "fi01",
           "",
           "BU18FA19(2)"
          ],
          [
           "A",
           "ff2b",
           "fi01",
           "",
           "BU18FA19(2)"
          ]
         ],
         "hovertemplate": "Host=augelite<br>Li/Na=%{x}<br>Mn=%{y}<br>piece=%{customdata[0]}<br>field=%{customdata[1]}<br>analysis=%{customdata[2]}<br>Info=%{customdata[3]}<br>sample=%{customdata[4]}<extra></extra>",
         "legendgroup": "augelite",
         "marker": {
          "color": "#FFA15A",
          "size": 8,
          "symbol": "cross"
         },
         "mode": "markers",
         "name": "augelite",
         "orientation": "v",
         "showlegend": true,
         "type": "scatter",
         "x": [
          0.0322386098781519,
          0,
          0.038506536162148275,
          0,
          0,
          0.042027128892350454,
          0.033680238334587886,
          0,
          0,
          0,
          0,
          0.04329156124258107
         ],
         "xaxis": "x",
         "y": [
          0.214870062810835,
          0.043624335532083995,
          0.0029411242840702346,
          0.03332471613689502,
          0,
          0.00810190772334213,
          0.0012193744355223145,
          0.006097189755780293,
          0,
          0,
          0,
          0.02289967649873059
         ],
         "yaxis": "y"
        },
        {
         "customdata": [
          [
           "AII",
           "ffC",
           "fi01",
           "",
           "BU18FA32"
          ],
          [
           "AII",
           "ffC",
           "fi02",
           "",
           "BU18FA32"
          ],
          [
           "AII",
           "ffC",
           "fi04",
           "",
           "BU18FA32"
          ],
          [
           "AII",
           "ffC",
           "fi05",
           "",
           "BU18FA32"
          ],
          [
           "AII",
           "ffC",
           "fi06",
           "",
           "BU18FA32"
          ],
          [
           "AII",
           "ffC",
           "fi07",
           "",
           "BU18FA32"
          ],
          [
           "AII",
           "ffC",
           "fi08",
           "",
           "BU18FA32"
          ]
         ],
         "hovertemplate": "Host=wyllieite<br>Li/Na=%{x}<br>Mn=%{y}<br>piece=%{customdata[0]}<br>field=%{customdata[1]}<br>analysis=%{customdata[2]}<br>Info=%{customdata[3]}<br>sample=%{customdata[4]}<extra></extra>",
         "legendgroup": "wyllieite",
         "marker": {
          "color": "#19d3f3",
          "size": 8,
          "symbol": "circle"
         },
         "mode": "markers",
         "name": "wyllieite",
         "orientation": "v",
         "showlegend": true,
         "type": "scatter",
         "x": [
          0,
          0.07186987129089209,
          0.3096580947658245,
          0,
          0.08450785948183905,
          0.07240921701894008,
          0.10231448326767542
         ],
         "xaxis": "x",
         "y": [
          0,
          0,
          2.3474270318819945,
          0,
          0.15122660376929162,
          0.18089217707378683,
          0.297024428862969
         ],
         "yaxis": "y"
        }
       ],
       "layout": {
        "height": 500,
        "legend": {
         "title": {
          "text": "Host"
         },
         "tracegroupgap": 0
        },
        "margin": {
         "t": 60
        },
        "plot_bgcolor": "white",
        "template": {
         "data": {
          "bar": [
           {
            "error_x": {
             "color": "rgb(36,36,36)"
            },
            "error_y": {
             "color": "rgb(36,36,36)"
            },
            "marker": {
             "line": {
              "color": "white",
              "width": 0.5
             }
            },
            "type": "bar"
           }
          ],
          "barpolar": [
           {
            "marker": {
             "line": {
              "color": "white",
              "width": 0.5
             }
            },
            "type": "barpolar"
           }
          ],
          "carpet": [
           {
            "aaxis": {
             "endlinecolor": "rgb(36,36,36)",
             "gridcolor": "white",
             "linecolor": "white",
             "minorgridcolor": "white",
             "startlinecolor": "rgb(36,36,36)"
            },
            "baxis": {
             "endlinecolor": "rgb(36,36,36)",
             "gridcolor": "white",
             "linecolor": "white",
             "minorgridcolor": "white",
             "startlinecolor": "rgb(36,36,36)"
            },
            "type": "carpet"
           }
          ],
          "choropleth": [
           {
            "colorbar": {
             "outlinewidth": 1,
             "tickcolor": "rgb(36,36,36)",
             "ticks": "outside"
            },
            "type": "choropleth"
           }
          ],
          "contour": [
           {
            "colorbar": {
             "outlinewidth": 1,
             "tickcolor": "rgb(36,36,36)",
             "ticks": "outside"
            },
            "colorscale": [
             [
              0,
              "#440154"
             ],
             [
              0.1111111111111111,
              "#482878"
             ],
             [
              0.2222222222222222,
              "#3e4989"
             ],
             [
              0.3333333333333333,
              "#31688e"
             ],
             [
              0.4444444444444444,
              "#26828e"
             ],
             [
              0.5555555555555556,
              "#1f9e89"
             ],
             [
              0.6666666666666666,
              "#35b779"
             ],
             [
              0.7777777777777778,
              "#6ece58"
             ],
             [
              0.8888888888888888,
              "#b5de2b"
             ],
             [
              1,
              "#fde725"
             ]
            ],
            "type": "contour"
           }
          ],
          "contourcarpet": [
           {
            "colorbar": {
             "outlinewidth": 1,
             "tickcolor": "rgb(36,36,36)",
             "ticks": "outside"
            },
            "type": "contourcarpet"
           }
          ],
          "heatmap": [
           {
            "colorbar": {
             "outlinewidth": 1,
             "tickcolor": "rgb(36,36,36)",
             "ticks": "outside"
            },
            "colorscale": [
             [
              0,
              "#440154"
             ],
             [
              0.1111111111111111,
              "#482878"
             ],
             [
              0.2222222222222222,
              "#3e4989"
             ],
             [
              0.3333333333333333,
              "#31688e"
             ],
             [
              0.4444444444444444,
              "#26828e"
             ],
             [
              0.5555555555555556,
              "#1f9e89"
             ],
             [
              0.6666666666666666,
              "#35b779"
             ],
             [
              0.7777777777777778,
              "#6ece58"
             ],
             [
              0.8888888888888888,
              "#b5de2b"
             ],
             [
              1,
              "#fde725"
             ]
            ],
            "type": "heatmap"
           }
          ],
          "heatmapgl": [
           {
            "colorbar": {
             "outlinewidth": 1,
             "tickcolor": "rgb(36,36,36)",
             "ticks": "outside"
            },
            "colorscale": [
             [
              0,
              "#440154"
             ],
             [
              0.1111111111111111,
              "#482878"
             ],
             [
              0.2222222222222222,
              "#3e4989"
             ],
             [
              0.3333333333333333,
              "#31688e"
             ],
             [
              0.4444444444444444,
              "#26828e"
             ],
             [
              0.5555555555555556,
              "#1f9e89"
             ],
             [
              0.6666666666666666,
              "#35b779"
             ],
             [
              0.7777777777777778,
              "#6ece58"
             ],
             [
              0.8888888888888888,
              "#b5de2b"
             ],
             [
              1,
              "#fde725"
             ]
            ],
            "type": "heatmapgl"
           }
          ],
          "histogram": [
           {
            "marker": {
             "line": {
              "color": "white",
              "width": 0.6
             }
            },
            "type": "histogram"
           }
          ],
          "histogram2d": [
           {
            "colorbar": {
             "outlinewidth": 1,
             "tickcolor": "rgb(36,36,36)",
             "ticks": "outside"
            },
            "colorscale": [
             [
              0,
              "#440154"
             ],
             [
              0.1111111111111111,
              "#482878"
             ],
             [
              0.2222222222222222,
              "#3e4989"
             ],
             [
              0.3333333333333333,
              "#31688e"
             ],
             [
              0.4444444444444444,
              "#26828e"
             ],
             [
              0.5555555555555556,
              "#1f9e89"
             ],
             [
              0.6666666666666666,
              "#35b779"
             ],
             [
              0.7777777777777778,
              "#6ece58"
             ],
             [
              0.8888888888888888,
              "#b5de2b"
             ],
             [
              1,
              "#fde725"
             ]
            ],
            "type": "histogram2d"
           }
          ],
          "histogram2dcontour": [
           {
            "colorbar": {
             "outlinewidth": 1,
             "tickcolor": "rgb(36,36,36)",
             "ticks": "outside"
            },
            "colorscale": [
             [
              0,
              "#440154"
             ],
             [
              0.1111111111111111,
              "#482878"
             ],
             [
              0.2222222222222222,
              "#3e4989"
             ],
             [
              0.3333333333333333,
              "#31688e"
             ],
             [
              0.4444444444444444,
              "#26828e"
             ],
             [
              0.5555555555555556,
              "#1f9e89"
             ],
             [
              0.6666666666666666,
              "#35b779"
             ],
             [
              0.7777777777777778,
              "#6ece58"
             ],
             [
              0.8888888888888888,
              "#b5de2b"
             ],
             [
              1,
              "#fde725"
             ]
            ],
            "type": "histogram2dcontour"
           }
          ],
          "mesh3d": [
           {
            "colorbar": {
             "outlinewidth": 1,
             "tickcolor": "rgb(36,36,36)",
             "ticks": "outside"
            },
            "type": "mesh3d"
           }
          ],
          "parcoords": [
           {
            "line": {
             "colorbar": {
              "outlinewidth": 1,
              "tickcolor": "rgb(36,36,36)",
              "ticks": "outside"
             }
            },
            "type": "parcoords"
           }
          ],
          "pie": [
           {
            "automargin": true,
            "type": "pie"
           }
          ],
          "scatter": [
           {
            "marker": {
             "colorbar": {
              "outlinewidth": 1,
              "tickcolor": "rgb(36,36,36)",
              "ticks": "outside"
             }
            },
            "type": "scatter"
           }
          ],
          "scatter3d": [
           {
            "line": {
             "colorbar": {
              "outlinewidth": 1,
              "tickcolor": "rgb(36,36,36)",
              "ticks": "outside"
             }
            },
            "marker": {
             "colorbar": {
              "outlinewidth": 1,
              "tickcolor": "rgb(36,36,36)",
              "ticks": "outside"
             }
            },
            "type": "scatter3d"
           }
          ],
          "scattercarpet": [
           {
            "marker": {
             "colorbar": {
              "outlinewidth": 1,
              "tickcolor": "rgb(36,36,36)",
              "ticks": "outside"
             }
            },
            "type": "scattercarpet"
           }
          ],
          "scattergeo": [
           {
            "marker": {
             "colorbar": {
              "outlinewidth": 1,
              "tickcolor": "rgb(36,36,36)",
              "ticks": "outside"
             }
            },
            "type": "scattergeo"
           }
          ],
          "scattergl": [
           {
            "marker": {
             "colorbar": {
              "outlinewidth": 1,
              "tickcolor": "rgb(36,36,36)",
              "ticks": "outside"
             }
            },
            "type": "scattergl"
           }
          ],
          "scattermapbox": [
           {
            "marker": {
             "colorbar": {
              "outlinewidth": 1,
              "tickcolor": "rgb(36,36,36)",
              "ticks": "outside"
             }
            },
            "type": "scattermapbox"
           }
          ],
          "scatterpolar": [
           {
            "marker": {
             "colorbar": {
              "outlinewidth": 1,
              "tickcolor": "rgb(36,36,36)",
              "ticks": "outside"
             }
            },
            "type": "scatterpolar"
           }
          ],
          "scatterpolargl": [
           {
            "marker": {
             "colorbar": {
              "outlinewidth": 1,
              "tickcolor": "rgb(36,36,36)",
              "ticks": "outside"
             }
            },
            "type": "scatterpolargl"
           }
          ],
          "scatterternary": [
           {
            "marker": {
             "colorbar": {
              "outlinewidth": 1,
              "tickcolor": "rgb(36,36,36)",
              "ticks": "outside"
             }
            },
            "type": "scatterternary"
           }
          ],
          "surface": [
           {
            "colorbar": {
             "outlinewidth": 1,
             "tickcolor": "rgb(36,36,36)",
             "ticks": "outside"
            },
            "colorscale": [
             [
              0,
              "#440154"
             ],
             [
              0.1111111111111111,
              "#482878"
             ],
             [
              0.2222222222222222,
              "#3e4989"
             ],
             [
              0.3333333333333333,
              "#31688e"
             ],
             [
              0.4444444444444444,
              "#26828e"
             ],
             [
              0.5555555555555556,
              "#1f9e89"
             ],
             [
              0.6666666666666666,
              "#35b779"
             ],
             [
              0.7777777777777778,
              "#6ece58"
             ],
             [
              0.8888888888888888,
              "#b5de2b"
             ],
             [
              1,
              "#fde725"
             ]
            ],
            "type": "surface"
           }
          ],
          "table": [
           {
            "cells": {
             "fill": {
              "color": "rgb(237,237,237)"
             },
             "line": {
              "color": "white"
             }
            },
            "header": {
             "fill": {
              "color": "rgb(217,217,217)"
             },
             "line": {
              "color": "white"
             }
            },
            "type": "table"
           }
          ]
         },
         "layout": {
          "annotationdefaults": {
           "arrowhead": 0,
           "arrowwidth": 1
          },
          "autotypenumbers": "strict",
          "coloraxis": {
           "colorbar": {
            "outlinewidth": 1,
            "tickcolor": "rgb(36,36,36)",
            "ticks": "outside"
           }
          },
          "colorscale": {
           "diverging": [
            [
             0,
             "rgb(103,0,31)"
            ],
            [
             0.1,
             "rgb(178,24,43)"
            ],
            [
             0.2,
             "rgb(214,96,77)"
            ],
            [
             0.3,
             "rgb(244,165,130)"
            ],
            [
             0.4,
             "rgb(253,219,199)"
            ],
            [
             0.5,
             "rgb(247,247,247)"
            ],
            [
             0.6,
             "rgb(209,229,240)"
            ],
            [
             0.7,
             "rgb(146,197,222)"
            ],
            [
             0.8,
             "rgb(67,147,195)"
            ],
            [
             0.9,
             "rgb(33,102,172)"
            ],
            [
             1,
             "rgb(5,48,97)"
            ]
           ],
           "sequential": [
            [
             0,
             "#440154"
            ],
            [
             0.1111111111111111,
             "#482878"
            ],
            [
             0.2222222222222222,
             "#3e4989"
            ],
            [
             0.3333333333333333,
             "#31688e"
            ],
            [
             0.4444444444444444,
             "#26828e"
            ],
            [
             0.5555555555555556,
             "#1f9e89"
            ],
            [
             0.6666666666666666,
             "#35b779"
            ],
            [
             0.7777777777777778,
             "#6ece58"
            ],
            [
             0.8888888888888888,
             "#b5de2b"
            ],
            [
             1,
             "#fde725"
            ]
           ],
           "sequentialminus": [
            [
             0,
             "#440154"
            ],
            [
             0.1111111111111111,
             "#482878"
            ],
            [
             0.2222222222222222,
             "#3e4989"
            ],
            [
             0.3333333333333333,
             "#31688e"
            ],
            [
             0.4444444444444444,
             "#26828e"
            ],
            [
             0.5555555555555556,
             "#1f9e89"
            ],
            [
             0.6666666666666666,
             "#35b779"
            ],
            [
             0.7777777777777778,
             "#6ece58"
            ],
            [
             0.8888888888888888,
             "#b5de2b"
            ],
            [
             1,
             "#fde725"
            ]
           ]
          },
          "colorway": [
           "#1F77B4",
           "#FF7F0E",
           "#2CA02C",
           "#D62728",
           "#9467BD",
           "#8C564B",
           "#E377C2",
           "#7F7F7F",
           "#BCBD22",
           "#17BECF"
          ],
          "font": {
           "color": "rgb(36,36,36)"
          },
          "geo": {
           "bgcolor": "white",
           "lakecolor": "white",
           "landcolor": "white",
           "showlakes": true,
           "showland": true,
           "subunitcolor": "white"
          },
          "hoverlabel": {
           "align": "left"
          },
          "hovermode": "closest",
          "mapbox": {
           "style": "light"
          },
          "paper_bgcolor": "white",
          "plot_bgcolor": "white",
          "polar": {
           "angularaxis": {
            "gridcolor": "rgb(232,232,232)",
            "linecolor": "rgb(36,36,36)",
            "showgrid": false,
            "showline": true,
            "ticks": "outside"
           },
           "bgcolor": "white",
           "radialaxis": {
            "gridcolor": "rgb(232,232,232)",
            "linecolor": "rgb(36,36,36)",
            "showgrid": false,
            "showline": true,
            "ticks": "outside"
           }
          },
          "scene": {
           "xaxis": {
            "backgroundcolor": "white",
            "gridcolor": "rgb(232,232,232)",
            "gridwidth": 2,
            "linecolor": "rgb(36,36,36)",
            "showbackground": true,
            "showgrid": false,
            "showline": true,
            "ticks": "outside",
            "zeroline": false,
            "zerolinecolor": "rgb(36,36,36)"
           },
           "yaxis": {
            "backgroundcolor": "white",
            "gridcolor": "rgb(232,232,232)",
            "gridwidth": 2,
            "linecolor": "rgb(36,36,36)",
            "showbackground": true,
            "showgrid": false,
            "showline": true,
            "ticks": "outside",
            "zeroline": false,
            "zerolinecolor": "rgb(36,36,36)"
           },
           "zaxis": {
            "backgroundcolor": "white",
            "gridcolor": "rgb(232,232,232)",
            "gridwidth": 2,
            "linecolor": "rgb(36,36,36)",
            "showbackground": true,
            "showgrid": false,
            "showline": true,
            "ticks": "outside",
            "zeroline": false,
            "zerolinecolor": "rgb(36,36,36)"
           }
          },
          "shapedefaults": {
           "fillcolor": "black",
           "line": {
            "width": 0
           },
           "opacity": 0.3
          },
          "ternary": {
           "aaxis": {
            "gridcolor": "rgb(232,232,232)",
            "linecolor": "rgb(36,36,36)",
            "showgrid": false,
            "showline": true,
            "ticks": "outside"
           },
           "baxis": {
            "gridcolor": "rgb(232,232,232)",
            "linecolor": "rgb(36,36,36)",
            "showgrid": false,
            "showline": true,
            "ticks": "outside"
           },
           "bgcolor": "white",
           "caxis": {
            "gridcolor": "rgb(232,232,232)",
            "linecolor": "rgb(36,36,36)",
            "showgrid": false,
            "showline": true,
            "ticks": "outside"
           }
          },
          "title": {
           "x": 0.05
          },
          "xaxis": {
           "automargin": true,
           "gridcolor": "rgb(232,232,232)",
           "linecolor": "rgb(36,36,36)",
           "showgrid": false,
           "showline": true,
           "ticks": "outside",
           "title": {
            "standoff": 15
           },
           "zeroline": false,
           "zerolinecolor": "rgb(36,36,36)"
          },
          "yaxis": {
           "automargin": true,
           "gridcolor": "rgb(232,232,232)",
           "linecolor": "rgb(36,36,36)",
           "showgrid": false,
           "showline": true,
           "ticks": "outside",
           "title": {
            "standoff": 15
           },
           "zeroline": false,
           "zerolinecolor": "rgb(36,36,36)"
          }
         }
        },
        "width": 650,
        "xaxis": {
         "anchor": "y",
         "domain": [
          0,
          1
         ],
         "linecolor": "black",
         "mirror": "allticks",
         "showgrid": false,
         "ticks": "inside",
         "title": {
          "text": "Li/Na"
         },
         "type": "log",
         "zeroline": true
        },
        "yaxis": {
         "anchor": "x",
         "domain": [
          0,
          1
         ],
         "linecolor": "black",
         "mirror": "allticks",
         "showgrid": false,
         "ticks": "inside",
         "title": {
          "text": "Mn"
         },
         "type": "log",
         "zeroline": true
        }
       }
      },
      "text/html": [
       "<div>                            <div id=\"bdd3f151-06fd-4bc8-b0f4-f401b4085b8f\" class=\"plotly-graph-div\" style=\"height:500px; width:650px;\"></div>            <script type=\"text/javascript\">                require([\"plotly\"], function(Plotly) {                    window.PLOTLYENV=window.PLOTLYENV || {};                                    if (document.getElementById(\"bdd3f151-06fd-4bc8-b0f4-f401b4085b8f\")) {                    Plotly.newPlot(                        \"bdd3f151-06fd-4bc8-b0f4-f401b4085b8f\",                        [{\"customdata\": [[\"B\", \"ff4\", \"fi01\", \"\", \"BU18FA20\"], [\"B\", \"ff4\", \"fi02\", \"\", \"BU18FA20\"], [\"B\", \"ff4\", \"fi03b\", \"\", \"BU18FA20\"], [\"A\", \"ff3\", \"fi01\", \"bts\", \"BU18FA4\"], [\"A\", \"ff3\", \"fi02\", \"bts\", \"BU18FA4\"], [\"A\", \"ff3\", \"fi03\", \"bts\", \"BU18FA4\"], [\"A\", \"ff3\", \"fi04\", \"bts\", \"BU18FA4\"], [\"A\", \"ff3\", \"fi05\", \"bts\", \"BU18FA4\"], [\"A\", \"ff3\", \"fi06\", \"bts\", \"BU18FA4\"], [\"A\", \"ff3\", \"fi08\", \"bts\", \"BU18FA4\"], [\"B\", \"ff6\", \"fi01\", \"\", \"BU18FA4\"], [\"B\", \"ff6\", \"fi06\", \"3shots\", \"BU18FA4\"], [\"B\", \"ff6\", \"fi09\", \"\", \"BU18FA4\"], [\"B\", \"ff7\", \"fi01\", \"2shots\", \"BU18FA4\"], [\"B\", \"ff7\", \"fi02\", \"2shots\", \"BU18FA4\"], [\"B\", \"ff7\", \"fi03\", \"\", \"BU18FA4\"], [\"B\", \"ff7\", \"fi05\", \"2shots\", \"BU18FA4\"], [\"E\", \"ff11\", \"fi06\", \"2shots\", \"BU18FA19\"], [\"E\", \"ff11\", \"fi07\", \"\", \"BU18FA19\"], [\"E\", \"ff11\", \"fi09\", \"2shots\", \"BU18FA19\"], [\"E\", \"ff11\", \"fi010\", \"2shots\", \"BU18FA19\"], [\"B\", \"ff2\", \"fi01\", \"2shots\", \"BU18FA20\"], [\"B\", \"ff2\", \"fi02\", \"maybe-not\", \"BU18FA20\"], [\"B\", \"ff2\", \"fi03\", \"3shots\", \"BU18FA20\"], [\"B\", \"ff2\", \"fi04\", \"3shots\", \"BU18FA20\"], [\"B\", \"ff2\", \"fi05\", \"3shots\", \"BU18FA20\"], [\"B\", \"ff2\", \"fi07\", \"\", \"BU18FA20\"], [\"B\", \"ff4\", \"fi06.0\", \"\", \"BU18FA20\"], [\"B\", \"ff4\", \"fi07.0\", \"3shots\", \"BU18FA20\"], [\"B\", \"ff4\", \"fi09.0\", \"\", \"BU18FA20\"], [\"C\", \"ff2\", \"fi01\", \"\", \"BU18FA22\"], [\"C\", \"ff2\", \"fi02\", \"\", \"BU18FA22\"], [\"C\", \"ff2\", \"fi03\", \"2shots\", \"BU18FA22\"], [\"C\", \"ff3\", \"fi04\", \"3shots\", \"BU18FA22\"], [\"C\", \"ff1\", \"fi01\", \"3shots\", \"BU18FA20\"], [\"C\", \"ff1\", \"fi02\", \"2shots\", \"BU18FA20\"], [\"C\", \"ff1\", \"fi04\", \"2shots\", \"BU18FA20\"], [\"C\", \"ff1\", \"fi08\", \"2shots\", \"BU18FA20\"], [\"C\", \"ff1\", \"fi09\", \"\", \"BU18FA20\"]], \"hovertemplate\": \"Host=bertossaite<br>Li/Na=%{x}<br>Mn=%{y}<br>piece=%{customdata[0]}<br>field=%{customdata[1]}<br>analysis=%{customdata[2]}<br>Info=%{customdata[3]}<br>sample=%{customdata[4]}<extra></extra>\", \"legendgroup\": \"bertossaite\", \"marker\": {\"color\": \"#636efa\", \"size\": 8, \"symbol\": \"circle\"}, \"mode\": \"markers\", \"name\": \"bertossaite\", \"orientation\": \"v\", \"showlegend\": true, \"type\": \"scatter\", \"x\": [0.0, 0.3548880205845609, 0.5947532333069078, 1.7094079148649566, 0.4506240669221839, 0.18970400793603118, 0.6521126891648122, 3.6098379827154794, 0.0, 0.9396990008624022, 0.13186493422623524, 0.05890504552376754, 0.0, 0.5585169532482023, 0.0, 2.498633275195581, 0.0, 0.0, 0.0, 1.2578502786921693, 0.11563126021273244, 0.0, 1.3499540459571666, 0.13829867199863233, 3.009802437712795, 0.0, 0.2734053135069615, 0.6001173383745367, 0.8595330930403188, 0.0, 0.5496767750075884, 0.0, 0.2854049269680126, 0.38198946938499423, 0.31438614489529654, 0.9717352296976924, 0.21791268749420112, 0.6608344981087403, 0.0], \"xaxis\": \"x\", \"y\": [0.020633035588339198, 0.0024508807895982513, 0.017100645644668115, 0.0, 0.014992738168248195, 0.0054630427965749705, 0.018342858318791858, 0.05445642872189441, 0.0, 0.002800960450050946, 0.0, 0.047070552891868164, 0.0, 0.0, 0.058768197081497726, 0.01923271428834583, 0.010852870338023228, 0.1516165698027076, 0.021072910123163518, 0.1192045360903675, 0.03012110523146667, 0.0, 0.190754295394922, 0.0072615845713198185, 0.0, 0.057752539946948074, 0.017199968791381078, 0.03885624126882863, 0.0, 0.03091728407647058, 0.12156344439708584, 0.0, 0.0, 0.08246975534989026, 0.008352160734620646, 0.03825420956958371, 0.03378417231659503, 0.0, 0.0], \"yaxis\": \"y\"}, {\"customdata\": [[\"J\", \"ff1\", \"fi01\", \"\", \"BU18FA20\"], [\"J\", \"ff1\", \"fi02b\", \"\", \"BU18FA20\"], [\"J\", \"ff1\", \"fi03\", \"\", \"BU18FA20\"], [\"A\", \"ff7b\", \"fi06\", \"\", \"BU18FA19\"], [\"A\", \"ff7b\", \"fi08\", \"\", \"BU18FA19\"], [\"A\", \"ff7b\", \"fi012\", \"\", \"BU18FA19\"], [\"A\", \"ff7b\", \"fi07\", \"\", \"BU18FA19\"], [\"A\", \"ff7b\", \"fi09\", \"\", \"BU18FA19\"], [\"A\", \"ff7b\", \"fi01\", \"\", \"BU18FA19\"], [\"A\", \"ff7b\", \"fi011\", \"\", \"BU18FA19\"], [\"A\", \"ff7b\", \"fi02\", \"\", \"BU18FA19\"], [\"B\", \"ff1\", \"fi02\", \"\", \"BU18FA19\"], [\"B\", \"ff1\", \"fi03\", \"\", \"BU18FA19\"], [\"B\", \"ff1\", \"fi04\", \"\", \"BU18FA19\"], [\"B\", \"ff5\", \"fi01\", \"trl\", \"BU18FA4\"], [\"B\", \"ff1\", \"fi05\", \"trl\", \"BU18FA19\"], [\"B\", \"ff1\", \"fi06\", \"trl\", \"BU18FA19\"], [\"B\", \"ff1\", \"fi07\", \"trl\", \"BU18FA19\"], [\"E\", \"ff1\", \"fi01\", \"trl-real?\", \"BU18FA20\"], [\"E\", \"ff1\", \"fi02\", \"trl\", \"BU18FA20\"], [\"E\", \"ff1\", \"fi03\", \"trl\", \"BU18FA20\"], [\"E\", \"ff1\", \"fi04\", \"trl\", \"BU18FA20\"], [\"E\", \"ff1\", \"fi05\", \"trl-Xtl-rich\", \"BU18FA20\"], [\"E\", \"ff1\", \"fi07\", \"trl\", \"BU18FA20\"], [\"E\", \"ff1\", \"fi08\", \"trl\", \"BU18FA20\"], [\"C\", \"ff8\", \"fi01\", \"\", \"BU18FA4\"], [\"C\", \"ff8\", \"fi03\", \"\", \"BU18FA4\"], [\"C\", \"ff8\", \"fi04\", \"2shots\", \"BU18FA4\"], [\"C\", \"ff8\", \"fi05\", \"\", \"BU18FA4\"]], \"hovertemplate\": \"Host=trolleite<br>Li/Na=%{x}<br>Mn=%{y}<br>piece=%{customdata[0]}<br>field=%{customdata[1]}<br>analysis=%{customdata[2]}<br>Info=%{customdata[3]}<br>sample=%{customdata[4]}<extra></extra>\", \"legendgroup\": \"trolleite\", \"marker\": {\"color\": \"#EF553B\", \"size\": 8, \"symbol\": \"diamond\"}, \"mode\": \"markers\", \"name\": \"trolleite\", \"orientation\": \"v\", \"showlegend\": true, \"type\": \"scatter\", \"x\": [0.03807760310868545, 0.016066737275832153, 0.03144007841695721, 0.0, 0.0, 0.10539842348699467, 0.17033945249128135, 0.10184306159054768, 0.03267682386501205, 1.023678319456586, 0.0, 0.09526895411639912, 0.04579309113381668, 0.18639776600663252, 0.0, 0.09091329673789975, 0.20090374764499963, 0.05537999617568028, 0.0, 0.07915805181390853, 0.15984199204460336, 0.02573724926922735, 1.7852958003273034, 0.29528744240319255, 0.03017556322706482, 0.032426935450642166, 0.23616934568398168, 0.3562490531522458, 0.006501673301421722], \"xaxis\": \"x\", \"y\": [0.02672319595315579, 0.004365476066664593, 0.0033255864664157074, 0.007637788192134348, 0.0, 0.0, 0.21201621139889507, 0.013225686469972332, 0.007340448150016503, 0.0021847564303913813, 0.0, 0.02497717392753451, 0.005301175769905048, 0.0023923161578490127, 0.0, 0.03887248569291793, 0.019509113710794265, 0.0, 0.01305639707173543, 0.0, 0.030437732370229075, 0.01291963754512699, 0.0029147859780588037, 0.013942507856725756, 0.02977728726356345, 0.014963624717374656, 0.013052418210866988, 0.006490592514516113, 0.0011481131520363452], \"yaxis\": \"y\"}, {\"customdata\": [[\"B\", \"ff1b\", \"fi01\", \"qz\", \"BU18FA22\"], [\"E\", \"ff11b\", \"fi02\", \"Qz-exploded\", \"BU18FA19\"], [\"A\", \"ff2\", \"fi01\", \"\", \"BU18FA22\"], [\"A\", \"ff2\", \"fi02\", \"\", \"BU18FA22\"], [\"A\", \"ff3\", \"fi01\", \"\", \"BU18FA22\"], [\"A\", \"ff3\", \"fi04\", \"\", \"BU18FA22\"], [\"A\", \"ff3\", \"fi05\", \"\", \"BU18FA22\"], [\"A\", \"ff3b\", \"fi01\", \"\", \"BU18FA22\"], [\"A\", \"ff3b\", \"fi02\", \"\", \"BU18FA22\"], [\"E\", \"ff11b\", \"fi03\", \"\", \"BU18FA19\"], [\"E\", \"ff11b\", \"fi04\", \"\", \"BU18FA19\"]], \"hovertemplate\": \"Host=quartz<br>Li/Na=%{x}<br>Mn=%{y}<br>piece=%{customdata[0]}<br>field=%{customdata[1]}<br>analysis=%{customdata[2]}<br>Info=%{customdata[3]}<br>sample=%{customdata[4]}<extra></extra>\", \"legendgroup\": \"quartz\", \"marker\": {\"color\": \"#00cc96\", \"size\": 8, \"symbol\": \"square\"}, \"mode\": \"markers\", \"name\": \"quartz\", \"orientation\": \"v\", \"showlegend\": true, \"type\": \"scatter\", \"x\": [0.06825756601817631, 0.0, 0.01781241769951706, 0.0, 0.09744848480329375, 0.035621484620417754, 0.0, 0.008463927157450295, 0.0, 0.730743637227141, 0.0], \"xaxis\": \"x\", \"y\": [0.0025886395847098524, 0.0, 0.00625738986768228, 0.0, 0.009755746720646982, 0.006864051936369433, 0.0, 0.0026732392488144473, 5.417204867206865, 0.26066995343229377, 0.10185137540199164], \"yaxis\": \"y\"}, {\"customdata\": [[\"A\", \"ff1\", \"fi01\", \"\", \"BU18FA32\"], [\"A\", \"ff1\", \"fi03\", \"2shots\", \"BU18FA32\"], [\"A\", \"ff1\", \"fi06\", \"3shots\", \"BU18FA32\"], [\"A\", \"ff1\", \"fi09\", \"2shots\", \"BU18FA32\"], [\"A\", \"ff1\", \"fi011\", \"3shots\", \"BU18FA32\"], [\"B\", \"ff3\", \"fi01\", \"\", \"BU18FA02a\"], [\"B\", \"ff3\", \"fi02\", \"\", \"BU18FA02a\"], [\"B\", \"ff3\", \"fi03\", \"\", \"BU18FA02a\"], [\"B\", \"ff3\", \"fi04\", \"\", \"BU18FA02a\"], [\"B\", \"ff3\", \"fi05\", \"\", \"BU18FA02a\"], [\"B\", \"ff3\", \"fi06\", \"\", \"BU18FA02a\"], [\"B\", \"ff4\", \"fi01\", \"\", \"BU18FA02a\"], [\"B\", \"ff1\", \"fi01\", \"\", \"BU18FA32\"], [\"B\", \"ff1\", \"fi02\", \"\", \"BU18FA32\"], [\"B\", \"ff1\", \"fi03\", \"\", \"BU18FA32\"], [\"B\", \"ff1\", \"fi04\", \"\", \"BU18FA32\"], [\"B\", \"ff1\", \"fi05\", \"\", \"BU18FA32\"], [\"B\", \"ff1\", \"fi06\", \"\", \"BU18FA32\"], [\"B\", \"ff2\", \"fi06\", \"\", \"BU18FA32\"], [\"B\", \"ff2\", \"fi07\", \"\", \"BU18FA32\"], [\"B\", \"ff2\", \"fi08\", \"\", \"BU18FA32\"], [\"B\", \"ff2\", \"fi09b\", \"\", \"BU18FA32\"]], \"hovertemplate\": \"Host=brazilianite<br>Li/Na=%{x}<br>Mn=%{y}<br>piece=%{customdata[0]}<br>field=%{customdata[1]}<br>analysis=%{customdata[2]}<br>Info=%{customdata[3]}<br>sample=%{customdata[4]}<extra></extra>\", \"legendgroup\": \"brazilianite\", \"marker\": {\"color\": \"#ab63fa\", \"size\": 8, \"symbol\": \"x\"}, \"mode\": \"markers\", \"name\": \"brazilianite\", \"orientation\": \"v\", \"showlegend\": true, \"type\": \"scatter\", \"x\": [0.010511935507779345, 0.05008341058137913, 0.0706563426060007, 0.08896110381565565, 0.0, 0.023814120066956334, 0.6774556486255383, 0.0260342056507763, 0.25831795006667174, 0.0, 0.0, 0.011588323062303747, 0.06164930688885073, 0.14425146399228903, 0.0, 0.0, 0.0, 0.1936903306790137, 0.08457763322653405, 0.05876580032865426, 0.0, 0.0264848487729657], \"xaxis\": \"x\", \"y\": [0.0, 0.0002941584966630161, 0.0012202605402094962, 0.003020976529565654, 0.0, 0.004126721814246527, 0.0, 0.004260697829388376, 0.05299108153908771, 0.0, 0.0, 0.0017045530747163858, 0.0, 0.003765319525005562, 0.0, 0.0007275299972543858, 0.0, 0.0018833137220159546, 0.0007723915340653382, 0.0010048863289892074, 0.0, 9.761949584820748e-05], \"yaxis\": \"y\"}, {\"customdata\": [[\"A\", \"ff2\", \"fi03\", \"\", \"BU18FA19(2)\"], [\"A\", \"ff2\", \"fi04\", \"\", \"BU18FA19(2)\"], [\"A\", \"ff2\", \"fi05\", \"\", \"BU18FA19(2)\"], [\"A\", \"ff2\", \"fi06\", \"\", \"BU18FA19(2)\"], [\"A\", \"ff2\", \"fi07\", \"true?\", \"BU18FA19(2)\"], [\"A\", \"ff1\", \"fi01\", \"\", \"BU18FA19(2)\"], [\"A\", \"ff1\", \"fi07\", \"2shots\", \"BU18FA19(2)\"], [\"A\", \"ff1\", \"fi08\", \"2shots\", \"BU18FA19(2)\"], [\"A\", \"ff1\", \"fi09\", \"\", \"BU18FA19(2)\"], [\"A\", \"ff1\", \"fi010\", \"\", \"BU18FA19(2)\"], [\"A\", \"ff1b\", \"fi01\", \"\", \"BU18FA19(2)\"], [\"A\", \"ff2b\", \"fi01\", \"\", \"BU18FA19(2)\"]], \"hovertemplate\": \"Host=augelite<br>Li/Na=%{x}<br>Mn=%{y}<br>piece=%{customdata[0]}<br>field=%{customdata[1]}<br>analysis=%{customdata[2]}<br>Info=%{customdata[3]}<br>sample=%{customdata[4]}<extra></extra>\", \"legendgroup\": \"augelite\", \"marker\": {\"color\": \"#FFA15A\", \"size\": 8, \"symbol\": \"cross\"}, \"mode\": \"markers\", \"name\": \"augelite\", \"orientation\": \"v\", \"showlegend\": true, \"type\": \"scatter\", \"x\": [0.0322386098781519, 0.0, 0.038506536162148275, 0.0, 0.0, 0.042027128892350454, 0.033680238334587886, 0.0, 0.0, 0.0, 0.0, 0.04329156124258107], \"xaxis\": \"x\", \"y\": [0.214870062810835, 0.043624335532083995, 0.0029411242840702346, 0.03332471613689502, 0.0, 0.00810190772334213, 0.0012193744355223145, 0.006097189755780293, 0.0, 0.0, 0.0, 0.02289967649873059], \"yaxis\": \"y\"}, {\"customdata\": [[\"AII\", \"ffC\", \"fi01\", \"\", \"BU18FA32\"], [\"AII\", \"ffC\", \"fi02\", \"\", \"BU18FA32\"], [\"AII\", \"ffC\", \"fi04\", \"\", \"BU18FA32\"], [\"AII\", \"ffC\", \"fi05\", \"\", \"BU18FA32\"], [\"AII\", \"ffC\", \"fi06\", \"\", \"BU18FA32\"], [\"AII\", \"ffC\", \"fi07\", \"\", \"BU18FA32\"], [\"AII\", \"ffC\", \"fi08\", \"\", \"BU18FA32\"]], \"hovertemplate\": \"Host=wyllieite<br>Li/Na=%{x}<br>Mn=%{y}<br>piece=%{customdata[0]}<br>field=%{customdata[1]}<br>analysis=%{customdata[2]}<br>Info=%{customdata[3]}<br>sample=%{customdata[4]}<extra></extra>\", \"legendgroup\": \"wyllieite\", \"marker\": {\"color\": \"#19d3f3\", \"size\": 8, \"symbol\": \"circle\"}, \"mode\": \"markers\", \"name\": \"wyllieite\", \"orientation\": \"v\", \"showlegend\": true, \"type\": \"scatter\", \"x\": [0.0, 0.07186987129089209, 0.3096580947658245, 0.0, 0.08450785948183905, 0.07240921701894008, 0.10231448326767542], \"xaxis\": \"x\", \"y\": [0.0, 0.0, 2.3474270318819945, 0.0, 0.15122660376929162, 0.18089217707378683, 0.297024428862969], \"yaxis\": \"y\"}],                        {\"height\": 500, \"legend\": {\"title\": {\"text\": \"Host\"}, \"tracegroupgap\": 0}, \"margin\": {\"t\": 60}, \"plot_bgcolor\": \"white\", \"template\": {\"data\": {\"bar\": [{\"error_x\": {\"color\": \"rgb(36,36,36)\"}, \"error_y\": {\"color\": \"rgb(36,36,36)\"}, \"marker\": {\"line\": {\"color\": \"white\", \"width\": 0.5}}, \"type\": \"bar\"}], \"barpolar\": [{\"marker\": {\"line\": {\"color\": \"white\", \"width\": 0.5}}, \"type\": \"barpolar\"}], \"carpet\": [{\"aaxis\": {\"endlinecolor\": \"rgb(36,36,36)\", \"gridcolor\": \"white\", \"linecolor\": \"white\", \"minorgridcolor\": \"white\", \"startlinecolor\": \"rgb(36,36,36)\"}, \"baxis\": {\"endlinecolor\": \"rgb(36,36,36)\", \"gridcolor\": \"white\", \"linecolor\": \"white\", \"minorgridcolor\": \"white\", \"startlinecolor\": \"rgb(36,36,36)\"}, \"type\": \"carpet\"}], \"choropleth\": [{\"colorbar\": {\"outlinewidth\": 1, \"tickcolor\": \"rgb(36,36,36)\", \"ticks\": \"outside\"}, \"type\": \"choropleth\"}], \"contour\": [{\"colorbar\": {\"outlinewidth\": 1, \"tickcolor\": \"rgb(36,36,36)\", \"ticks\": \"outside\"}, \"colorscale\": [[0.0, \"#440154\"], [0.1111111111111111, \"#482878\"], [0.2222222222222222, \"#3e4989\"], [0.3333333333333333, \"#31688e\"], [0.4444444444444444, \"#26828e\"], [0.5555555555555556, \"#1f9e89\"], [0.6666666666666666, \"#35b779\"], [0.7777777777777778, \"#6ece58\"], [0.8888888888888888, \"#b5de2b\"], [1.0, \"#fde725\"]], \"type\": \"contour\"}], \"contourcarpet\": [{\"colorbar\": {\"outlinewidth\": 1, \"tickcolor\": \"rgb(36,36,36)\", \"ticks\": \"outside\"}, \"type\": \"contourcarpet\"}], \"heatmap\": [{\"colorbar\": {\"outlinewidth\": 1, \"tickcolor\": \"rgb(36,36,36)\", \"ticks\": \"outside\"}, \"colorscale\": [[0.0, \"#440154\"], [0.1111111111111111, \"#482878\"], [0.2222222222222222, \"#3e4989\"], [0.3333333333333333, \"#31688e\"], [0.4444444444444444, \"#26828e\"], [0.5555555555555556, \"#1f9e89\"], [0.6666666666666666, \"#35b779\"], [0.7777777777777778, \"#6ece58\"], [0.8888888888888888, \"#b5de2b\"], [1.0, \"#fde725\"]], \"type\": \"heatmap\"}], \"heatmapgl\": [{\"colorbar\": {\"outlinewidth\": 1, \"tickcolor\": \"rgb(36,36,36)\", \"ticks\": \"outside\"}, \"colorscale\": [[0.0, \"#440154\"], [0.1111111111111111, \"#482878\"], [0.2222222222222222, \"#3e4989\"], [0.3333333333333333, \"#31688e\"], [0.4444444444444444, \"#26828e\"], [0.5555555555555556, \"#1f9e89\"], [0.6666666666666666, \"#35b779\"], [0.7777777777777778, \"#6ece58\"], [0.8888888888888888, \"#b5de2b\"], [1.0, \"#fde725\"]], \"type\": \"heatmapgl\"}], \"histogram\": [{\"marker\": {\"line\": {\"color\": \"white\", \"width\": 0.6}}, \"type\": \"histogram\"}], \"histogram2d\": [{\"colorbar\": {\"outlinewidth\": 1, \"tickcolor\": \"rgb(36,36,36)\", \"ticks\": \"outside\"}, \"colorscale\": [[0.0, \"#440154\"], [0.1111111111111111, \"#482878\"], [0.2222222222222222, \"#3e4989\"], [0.3333333333333333, \"#31688e\"], [0.4444444444444444, \"#26828e\"], [0.5555555555555556, \"#1f9e89\"], [0.6666666666666666, \"#35b779\"], [0.7777777777777778, \"#6ece58\"], [0.8888888888888888, \"#b5de2b\"], [1.0, \"#fde725\"]], \"type\": \"histogram2d\"}], \"histogram2dcontour\": [{\"colorbar\": {\"outlinewidth\": 1, \"tickcolor\": \"rgb(36,36,36)\", \"ticks\": \"outside\"}, \"colorscale\": [[0.0, \"#440154\"], [0.1111111111111111, \"#482878\"], [0.2222222222222222, \"#3e4989\"], [0.3333333333333333, \"#31688e\"], [0.4444444444444444, \"#26828e\"], [0.5555555555555556, \"#1f9e89\"], [0.6666666666666666, \"#35b779\"], [0.7777777777777778, \"#6ece58\"], [0.8888888888888888, \"#b5de2b\"], [1.0, \"#fde725\"]], \"type\": \"histogram2dcontour\"}], \"mesh3d\": [{\"colorbar\": {\"outlinewidth\": 1, \"tickcolor\": \"rgb(36,36,36)\", \"ticks\": \"outside\"}, \"type\": \"mesh3d\"}], \"parcoords\": [{\"line\": {\"colorbar\": {\"outlinewidth\": 1, \"tickcolor\": \"rgb(36,36,36)\", \"ticks\": \"outside\"}}, \"type\": \"parcoords\"}], \"pie\": [{\"automargin\": true, \"type\": \"pie\"}], \"scatter\": [{\"marker\": {\"colorbar\": {\"outlinewidth\": 1, \"tickcolor\": \"rgb(36,36,36)\", \"ticks\": \"outside\"}}, \"type\": \"scatter\"}], \"scatter3d\": [{\"line\": {\"colorbar\": {\"outlinewidth\": 1, \"tickcolor\": \"rgb(36,36,36)\", \"ticks\": \"outside\"}}, \"marker\": {\"colorbar\": {\"outlinewidth\": 1, \"tickcolor\": \"rgb(36,36,36)\", \"ticks\": \"outside\"}}, \"type\": \"scatter3d\"}], \"scattercarpet\": [{\"marker\": {\"colorbar\": {\"outlinewidth\": 1, \"tickcolor\": \"rgb(36,36,36)\", \"ticks\": \"outside\"}}, \"type\": \"scattercarpet\"}], \"scattergeo\": [{\"marker\": {\"colorbar\": {\"outlinewidth\": 1, \"tickcolor\": \"rgb(36,36,36)\", \"ticks\": \"outside\"}}, \"type\": \"scattergeo\"}], \"scattergl\": [{\"marker\": {\"colorbar\": {\"outlinewidth\": 1, \"tickcolor\": \"rgb(36,36,36)\", \"ticks\": \"outside\"}}, \"type\": \"scattergl\"}], \"scattermapbox\": [{\"marker\": {\"colorbar\": {\"outlinewidth\": 1, \"tickcolor\": \"rgb(36,36,36)\", \"ticks\": \"outside\"}}, \"type\": \"scattermapbox\"}], \"scatterpolar\": [{\"marker\": {\"colorbar\": {\"outlinewidth\": 1, \"tickcolor\": \"rgb(36,36,36)\", \"ticks\": \"outside\"}}, \"type\": \"scatterpolar\"}], \"scatterpolargl\": [{\"marker\": {\"colorbar\": {\"outlinewidth\": 1, \"tickcolor\": \"rgb(36,36,36)\", \"ticks\": \"outside\"}}, \"type\": \"scatterpolargl\"}], \"scatterternary\": [{\"marker\": {\"colorbar\": {\"outlinewidth\": 1, \"tickcolor\": \"rgb(36,36,36)\", \"ticks\": \"outside\"}}, \"type\": \"scatterternary\"}], \"surface\": [{\"colorbar\": {\"outlinewidth\": 1, \"tickcolor\": \"rgb(36,36,36)\", \"ticks\": \"outside\"}, \"colorscale\": [[0.0, \"#440154\"], [0.1111111111111111, \"#482878\"], [0.2222222222222222, \"#3e4989\"], [0.3333333333333333, \"#31688e\"], [0.4444444444444444, \"#26828e\"], [0.5555555555555556, \"#1f9e89\"], [0.6666666666666666, \"#35b779\"], [0.7777777777777778, \"#6ece58\"], [0.8888888888888888, \"#b5de2b\"], [1.0, \"#fde725\"]], \"type\": \"surface\"}], \"table\": [{\"cells\": {\"fill\": {\"color\": \"rgb(237,237,237)\"}, \"line\": {\"color\": \"white\"}}, \"header\": {\"fill\": {\"color\": \"rgb(217,217,217)\"}, \"line\": {\"color\": \"white\"}}, \"type\": \"table\"}]}, \"layout\": {\"annotationdefaults\": {\"arrowhead\": 0, \"arrowwidth\": 1}, \"autotypenumbers\": \"strict\", \"coloraxis\": {\"colorbar\": {\"outlinewidth\": 1, \"tickcolor\": \"rgb(36,36,36)\", \"ticks\": \"outside\"}}, \"colorscale\": {\"diverging\": [[0.0, \"rgb(103,0,31)\"], [0.1, \"rgb(178,24,43)\"], [0.2, \"rgb(214,96,77)\"], [0.3, \"rgb(244,165,130)\"], [0.4, \"rgb(253,219,199)\"], [0.5, \"rgb(247,247,247)\"], [0.6, \"rgb(209,229,240)\"], [0.7, \"rgb(146,197,222)\"], [0.8, \"rgb(67,147,195)\"], [0.9, \"rgb(33,102,172)\"], [1.0, \"rgb(5,48,97)\"]], \"sequential\": [[0.0, \"#440154\"], [0.1111111111111111, \"#482878\"], [0.2222222222222222, \"#3e4989\"], [0.3333333333333333, \"#31688e\"], [0.4444444444444444, \"#26828e\"], [0.5555555555555556, \"#1f9e89\"], [0.6666666666666666, \"#35b779\"], [0.7777777777777778, \"#6ece58\"], [0.8888888888888888, \"#b5de2b\"], [1.0, \"#fde725\"]], \"sequentialminus\": [[0.0, \"#440154\"], [0.1111111111111111, \"#482878\"], [0.2222222222222222, \"#3e4989\"], [0.3333333333333333, \"#31688e\"], [0.4444444444444444, \"#26828e\"], [0.5555555555555556, \"#1f9e89\"], [0.6666666666666666, \"#35b779\"], [0.7777777777777778, \"#6ece58\"], [0.8888888888888888, \"#b5de2b\"], [1.0, \"#fde725\"]]}, \"colorway\": [\"#1F77B4\", \"#FF7F0E\", \"#2CA02C\", \"#D62728\", \"#9467BD\", \"#8C564B\", \"#E377C2\", \"#7F7F7F\", \"#BCBD22\", \"#17BECF\"], \"font\": {\"color\": \"rgb(36,36,36)\"}, \"geo\": {\"bgcolor\": \"white\", \"lakecolor\": \"white\", \"landcolor\": \"white\", \"showlakes\": true, \"showland\": true, \"subunitcolor\": \"white\"}, \"hoverlabel\": {\"align\": \"left\"}, \"hovermode\": \"closest\", \"mapbox\": {\"style\": \"light\"}, \"paper_bgcolor\": \"white\", \"plot_bgcolor\": \"white\", \"polar\": {\"angularaxis\": {\"gridcolor\": \"rgb(232,232,232)\", \"linecolor\": \"rgb(36,36,36)\", \"showgrid\": false, \"showline\": true, \"ticks\": \"outside\"}, \"bgcolor\": \"white\", \"radialaxis\": {\"gridcolor\": \"rgb(232,232,232)\", \"linecolor\": \"rgb(36,36,36)\", \"showgrid\": false, \"showline\": true, \"ticks\": \"outside\"}}, \"scene\": {\"xaxis\": {\"backgroundcolor\": \"white\", \"gridcolor\": \"rgb(232,232,232)\", \"gridwidth\": 2, \"linecolor\": \"rgb(36,36,36)\", \"showbackground\": true, \"showgrid\": false, \"showline\": true, \"ticks\": \"outside\", \"zeroline\": false, \"zerolinecolor\": \"rgb(36,36,36)\"}, \"yaxis\": {\"backgroundcolor\": \"white\", \"gridcolor\": \"rgb(232,232,232)\", \"gridwidth\": 2, \"linecolor\": \"rgb(36,36,36)\", \"showbackground\": true, \"showgrid\": false, \"showline\": true, \"ticks\": \"outside\", \"zeroline\": false, \"zerolinecolor\": \"rgb(36,36,36)\"}, \"zaxis\": {\"backgroundcolor\": \"white\", \"gridcolor\": \"rgb(232,232,232)\", \"gridwidth\": 2, \"linecolor\": \"rgb(36,36,36)\", \"showbackground\": true, \"showgrid\": false, \"showline\": true, \"ticks\": \"outside\", \"zeroline\": false, \"zerolinecolor\": \"rgb(36,36,36)\"}}, \"shapedefaults\": {\"fillcolor\": \"black\", \"line\": {\"width\": 0}, \"opacity\": 0.3}, \"ternary\": {\"aaxis\": {\"gridcolor\": \"rgb(232,232,232)\", \"linecolor\": \"rgb(36,36,36)\", \"showgrid\": false, \"showline\": true, \"ticks\": \"outside\"}, \"baxis\": {\"gridcolor\": \"rgb(232,232,232)\", \"linecolor\": \"rgb(36,36,36)\", \"showgrid\": false, \"showline\": true, \"ticks\": \"outside\"}, \"bgcolor\": \"white\", \"caxis\": {\"gridcolor\": \"rgb(232,232,232)\", \"linecolor\": \"rgb(36,36,36)\", \"showgrid\": false, \"showline\": true, \"ticks\": \"outside\"}}, \"title\": {\"x\": 0.05}, \"xaxis\": {\"automargin\": true, \"gridcolor\": \"rgb(232,232,232)\", \"linecolor\": \"rgb(36,36,36)\", \"showgrid\": false, \"showline\": true, \"ticks\": \"outside\", \"title\": {\"standoff\": 15}, \"zeroline\": false, \"zerolinecolor\": \"rgb(36,36,36)\"}, \"yaxis\": {\"automargin\": true, \"gridcolor\": \"rgb(232,232,232)\", \"linecolor\": \"rgb(36,36,36)\", \"showgrid\": false, \"showline\": true, \"ticks\": \"outside\", \"title\": {\"standoff\": 15}, \"zeroline\": false, \"zerolinecolor\": \"rgb(36,36,36)\"}}}, \"width\": 650, \"xaxis\": {\"anchor\": \"y\", \"domain\": [0.0, 1.0], \"linecolor\": \"black\", \"mirror\": \"allticks\", \"showgrid\": false, \"ticks\": \"inside\", \"title\": {\"text\": \"Li/Na\"}, \"type\": \"log\", \"zeroline\": true}, \"yaxis\": {\"anchor\": \"x\", \"domain\": [0.0, 1.0], \"linecolor\": \"black\", \"mirror\": \"allticks\", \"showgrid\": false, \"ticks\": \"inside\", \"title\": {\"text\": \"Mn\"}, \"type\": \"log\", \"zeroline\": true}},                        {\"responsive\": true}                    ).then(function(){\n",
       "                            \n",
       "var gd = document.getElementById('bdd3f151-06fd-4bc8-b0f4-f401b4085b8f');\n",
       "var x = new MutationObserver(function (mutations, observer) {{\n",
       "        var display = window.getComputedStyle(gd).display;\n",
       "        if (!display || display === 'none') {{\n",
       "            console.log([gd, 'removed!']);\n",
       "            Plotly.purge(gd);\n",
       "            observer.disconnect();\n",
       "        }}\n",
       "}});\n",
       "\n",
       "// Listen for the removal of the full notebook cells\n",
       "var notebookContainer = gd.closest('#notebook-container');\n",
       "if (notebookContainer) {{\n",
       "    x.observe(notebookContainer, {childList: true});\n",
       "}}\n",
       "\n",
       "// Listen for the clearing of the current output cell\n",
       "var outputEl = gd.closest('.output');\n",
       "if (outputEl) {{\n",
       "    x.observe(outputEl, {childList: true});\n",
       "}}\n",
       "\n",
       "                        })                };                });            </script>        </div>"
      ]
     },
     "metadata": {},
     "output_type": "display_data"
    }
   ],
   "source": [
    "# --- plot binary graphs\n",
    "\n",
    "x = \"Li/Na\"\n",
    "y = \"Mn\"\n",
    "\n",
    "fig = px.scatter(df_FI, x=x, y=y,\n",
    "                 hover_data=[\"piece\",'field','analysis',\"Info\",'sample'],\n",
    "                 width=650, height=500,\n",
    "                symbol = \"Host\", color=\"Host\",\n",
    "                log_x=True, log_y=True,\n",
    "#                 labels={\n",
    "#                      x: \"Mn (mol/L)\",\n",
    "#                      y: \"Alkalis (mol/L)\"}\n",
    "                )\n",
    "\n",
    "fig.update_layout(plot_bgcolor=\"white\",template=\"simple_white\")\n",
    "\n",
    "fig.update_traces(marker=dict(size=8),\n",
    "                  selector=dict(mode='markers'))\n",
    "\n",
    "fig.update_xaxes(ticks='inside',zeroline=True,linecolor=\"black\",showgrid=False,mirror= \"allticks\")\n",
    "fig.update_yaxes(ticks='inside',zeroline=True,linecolor=\"black\",showgrid=False,mirror= \"allticks\")\n",
    "\n",
    "# fig.update_xaxes(range=(-4,-1))\n",
    "# fig.update_yaxes(range=(-4,-1))\n",
    "\n",
    "# fig.update_xaxes(tickvals=[0,1,2,3,4,5,6,7])\n",
    "\n",
    "# fig.write_image(base_dir+\"plot_binary_AlkalisMn.pdf\");\n",
    "fig.show()\n",
    "\n"
   ]
  },
  {
   "cell_type": "code",
   "execution_count": 113,
   "id": "8265ddd4",
   "metadata": {},
   "outputs": [
    {
     "data": {
      "application/vnd.plotly.v1+json": {
       "config": {
        "plotlyServerURL": "https://plot.ly"
       },
       "data": [
        {
         "a": [
          29.828366677442908,
          5.292234249767751,
          3.266826499556318,
          null,
          19.124418914773187,
          42.47774383167812,
          3.7669755289060953,
          null,
          null,
          12.530428790037028,
          36.035498444247196,
          71.0331437369752,
          95.28636970089188,
          12.878108579581646,
          85.33923260975588,
          3.750329591294874,
          85.13553890131942,
          80.09398510462881,
          74.63731323956199,
          null,
          20.337350718156603,
          96.6742963913176,
          null,
          42.56212416970948,
          6.028322919800741,
          97.53726989305422,
          25.64178587060934,
          6.3977885434285255,
          11.893530010960623,
          58.92041096930228,
          6.158990618495178,
          null,
          11.77057097801121,
          25.60096722216115,
          9.981498608595345,
          4.512141839125068,
          null,
          6.171423902991557,
          38.905474695194556
         ],
         "b": [
          70.17163332255708,
          13.20361995972156,
          7.39860184094815,
          1.9629775030718815,
          1.4392854723219455,
          1.4285002888841773,
          2.7407942806157894,
          null,
          100,
          0.2906720071830195,
          1.7518355955847145,
          3.125464106454117,
          4.713630299108125,
          0.7983316969257319,
          14.66076739024412,
          0.134796971249265,
          14.864461098680579,
          19.90601489537119,
          25.36268676043801,
          1.9626801672964787,
          12.032199632789116,
          3.325703608682404,
          null,
          2.5938518076986377,
          0.47358914990681156,
          2.4627301069457816,
          1.2329106395440186,
          7.288584200910559,
          3.2368009301658986,
          41.07958903069772,
          5.096918161798668,
          100,
          8.680167965642474,
          1.8304232352067458,
          12.728830760782946,
          6.750705597882225,
          28.33487492376711,
          9.84231365225325,
          61.09452530480544
         ],
         "c": [
          null,
          81.50414579051069,
          89.33457165949554,
          98.03702249692812,
          79.43629561290487,
          56.09375587943772,
          93.49223019047811,
          100,
          null,
          87.17889920277996,
          62.21266596016809,
          25.84139215657068,
          null,
          86.32355972349262,
          null,
          96.11487343745586,
          null,
          null,
          null,
          98.03731983270353,
          67.63044964905427,
          null,
          100,
          54.844024022591874,
          93.49808793029246,
          null,
          73.12530348984664,
          86.31362725566092,
          84.86966905887347,
          null,
          88.74409121970615,
          null,
          79.54926105634632,
          72.56860954263212,
          77.28967063062171,
          88.7371525629927,
          71.66512507623288,
          83.9862624447552,
          null
         ],
         "customdata": [
          [
           "B",
           4,
           1,
           ""
          ],
          [
           "B",
           4,
           2,
           ""
          ],
          [
           "B",
           4,
           "3b",
           ""
          ],
          [
           "A",
           3,
           1,
           "bts"
          ],
          [
           "A",
           3,
           2,
           "bts"
          ],
          [
           "A",
           3,
           3,
           "bts"
          ],
          [
           "A",
           3,
           4,
           "bts"
          ],
          [
           "A",
           3,
           5,
           "bts"
          ],
          [
           "A",
           3,
           6,
           "bts"
          ],
          [
           "A",
           3,
           8,
           "bts"
          ],
          [
           "B",
           6,
           1,
           ""
          ],
          [
           "B",
           6,
           6,
           "3shots"
          ],
          [
           "B",
           6,
           9,
           ""
          ],
          [
           "B",
           7,
           1,
           "2shots"
          ],
          [
           "B",
           7,
           2,
           "2shots"
          ],
          [
           "B",
           7,
           3,
           ""
          ],
          [
           "B",
           7,
           5,
           "2shots"
          ],
          [
           "E",
           11,
           6,
           "2shots"
          ],
          [
           "E",
           11,
           7,
           ""
          ],
          [
           "E",
           11,
           9,
           "2shots"
          ],
          [
           "E",
           11,
           10,
           "2shots"
          ],
          [
           "B",
           2,
           1,
           "2shots"
          ],
          [
           "B",
           2,
           2,
           "maybe-not"
          ],
          [
           "B",
           2,
           3,
           "3shots"
          ],
          [
           "B",
           2,
           4,
           "3shots"
          ],
          [
           "B",
           2,
           5,
           "3shots"
          ],
          [
           "B",
           2,
           7,
           ""
          ],
          [
           "B",
           4,
           6,
           ""
          ],
          [
           "B",
           4,
           7,
           "3shots"
          ],
          [
           "B",
           4,
           9,
           ""
          ],
          [
           "C",
           2,
           1,
           ""
          ],
          [
           "C",
           2,
           2,
           ""
          ],
          [
           "C",
           2,
           3,
           "2shots"
          ],
          [
           "C",
           3,
           4,
           "3shots"
          ],
          [
           "C",
           1,
           1,
           "3shots"
          ],
          [
           "C",
           1,
           2,
           "2shots"
          ],
          [
           "C",
           1,
           4,
           "2shots"
          ],
          [
           "C",
           1,
           8,
           "2shots"
          ],
          [
           "C",
           1,
           9,
           ""
          ]
         ],
         "hovertemplate": "Host=bertossaite<br>B=%{a}<br>Cs=%{b}<br>Li=%{c}<br>piece=%{customdata[0]}<br>field=%{customdata[1]}<br>analysis=%{customdata[2]}<br>Info=%{customdata[3]}<extra></extra>",
         "legendgroup": "bertossaite",
         "marker": {
          "color": "#636efa",
          "size": 8,
          "symbol": "circle"
         },
         "mode": "markers",
         "name": "bertossaite",
         "showlegend": true,
         "subplot": "ternary",
         "type": "scatterternary"
        },
        {
         "a": [
          64.40614878842466,
          68.48449310809316,
          58.10119264069419,
          null,
          null,
          null,
          70.27281564261892,
          81.96932996619061,
          86.6721910382802,
          21.950677177996816,
          null,
          48.77164976820049,
          null,
          36.97915893317075,
          null,
          50.15184279571178,
          50.22259947140502,
          null,
          null,
          null,
          null,
          null,
          5.205717978709603,
          null,
          null,
          59.70497443794355,
          45.09981934568443,
          28.464256346940637,
          79.16400987437665
         ],
         "b": [
          25.78564345039928,
          23.75039968750874,
          26.010741031404226,
          100,
          100,
          23.146355298958127,
          5.601568657814249,
          2.3013506586529515,
          5.218318303016043,
          2.227146581440763,
          100,
          15.890063631396051,
          36.05327368749964,
          8.35885590945181,
          null,
          17.256346803731322,
          13.566898255505775,
          38.17056170321588,
          null,
          47.81559063990464,
          31.45186999460085,
          72.1998255032871,
          3.328554960737136,
          16.139363130351725,
          65.74159587919246,
          15.992685152099728,
          9.718862664059733,
          9.571985178577986,
          15.83104623285566
         ],
         "c": [
          9.80820776117607,
          7.765107204398106,
          15.888066327901583,
          null,
          null,
          76.85364470104187,
          24.125615699566826,
          15.72931937515644,
          8.109490658703733,
          75.82217624056241,
          null,
          35.33828660040347,
          63.94672631250037,
          54.66198515737744,
          null,
          32.5918104005569,
          36.210502273089205,
          61.82943829678411,
          null,
          52.18440936009535,
          68.54813000539914,
          27.800174496712888,
          91.46572706055326,
          83.86063686964827,
          34.25840412080754,
          24.30234040995672,
          45.181317990255835,
          61.96375847448138,
          5.004943892767706
         ],
         "customdata": [
          [
           "J",
           1,
           1,
           ""
          ],
          [
           "J",
           1,
           "2b",
           ""
          ],
          [
           "J",
           1,
           3,
           ""
          ],
          [
           "A",
           "7b",
           6,
           ""
          ],
          [
           "A",
           "7b",
           8,
           ""
          ],
          [
           "A",
           "7b",
           12,
           ""
          ],
          [
           "A",
           "7b",
           7,
           ""
          ],
          [
           "A",
           "7b",
           9,
           ""
          ],
          [
           "A",
           "7b",
           1,
           ""
          ],
          [
           "A",
           "7b",
           11,
           ""
          ],
          [
           "A",
           "7b",
           2,
           ""
          ],
          [
           "B",
           1,
           2,
           ""
          ],
          [
           "B",
           1,
           3,
           ""
          ],
          [
           "B",
           1,
           4,
           ""
          ],
          [
           "B",
           5,
           1,
           "trl"
          ],
          [
           "B",
           1,
           5,
           "trl"
          ],
          [
           "B",
           1,
           6,
           "trl"
          ],
          [
           "B",
           1,
           7,
           "trl"
          ],
          [
           "E",
           1,
           1,
           "trl-real?"
          ],
          [
           "E",
           1,
           2,
           "trl"
          ],
          [
           "E",
           1,
           3,
           "trl"
          ],
          [
           "E",
           1,
           4,
           "trl"
          ],
          [
           "E",
           1,
           5,
           "trl-Xtl-rich"
          ],
          [
           "E",
           1,
           7,
           "trl"
          ],
          [
           "E",
           1,
           8,
           "trl"
          ],
          [
           "C",
           8,
           1,
           ""
          ],
          [
           "C",
           8,
           3,
           ""
          ],
          [
           "C",
           8,
           4,
           "2shots"
          ],
          [
           "C",
           8,
           5,
           ""
          ]
         ],
         "hovertemplate": "Host=trolleite<br>B=%{a}<br>Cs=%{b}<br>Li=%{c}<br>piece=%{customdata[0]}<br>field=%{customdata[1]}<br>analysis=%{customdata[2]}<br>Info=%{customdata[3]}<extra></extra>",
         "legendgroup": "trolleite",
         "marker": {
          "color": "#EF553B",
          "size": 8,
          "symbol": "diamond"
         },
         "mode": "markers",
         "name": "trolleite",
         "showlegend": true,
         "subplot": "ternary",
         "type": "scatterternary"
        },
        {
         "a": [
          null,
          81.74780828637344,
          74.46182585543126,
          null,
          43.17019186328276,
          66.21739269131731,
          null,
          80.73854646489715,
          0,
          null,
          85.38210119470774
         ],
         "b": [
          19.394696206634716,
          18.25219171362656,
          18.62348819052381,
          null,
          14.857176452510682,
          9.339126470973579,
          null,
          10.901141227190262,
          100,
          1.3519934395511024,
          14.617898805292254
         ],
         "c": [
          80.60530379336528,
          null,
          6.9146859540449315,
          null,
          41.97263168420657,
          24.44348083770911,
          null,
          8.360312307912587,
          0,
          98.6480065604489,
          null
         ],
         "customdata": [
          [
           "B",
           "1b",
           1,
           "qz"
          ],
          [
           "E",
           "11b",
           2,
           "Qz-exploded"
          ],
          [
           "A",
           2,
           1,
           ""
          ],
          [
           "A",
           2,
           2,
           ""
          ],
          [
           "A",
           3,
           1,
           ""
          ],
          [
           "A",
           3,
           4,
           ""
          ],
          [
           "A",
           3,
           5,
           ""
          ],
          [
           "A",
           "3b",
           1,
           ""
          ],
          [
           "A",
           "3b",
           2,
           ""
          ],
          [
           "E",
           "11b",
           3,
           ""
          ],
          [
           "E",
           "11b",
           4,
           ""
          ]
         ],
         "hovertemplate": "Host=quartz<br>B=%{a}<br>Cs=%{b}<br>Li=%{c}<br>piece=%{customdata[0]}<br>field=%{customdata[1]}<br>analysis=%{customdata[2]}<br>Info=%{customdata[3]}<extra></extra>",
         "legendgroup": "quartz",
         "marker": {
          "color": "#00cc96",
          "size": 8,
          "symbol": "square"
         },
         "mode": "markers",
         "name": "quartz",
         "showlegend": true,
         "subplot": "ternary",
         "type": "scatterternary"
        },
        {
         "a": [
          51.10635266689325,
          24.912769487315277,
          58.783949336069355,
          53.59316546898536,
          null,
          72.64643614685905,
          69.21128151740851,
          61.53736254133382,
          43.23404326064381,
          null,
          null,
          61.84819430225045,
          65.6120923687389,
          51.70071867508336,
          null,
          null,
          null,
          43.981757387437966,
          45.593011191023116,
          50.51032871555997,
          null,
          59.39077812749114
         ],
         "b": [
          8.424514996514178,
          19.883513587665842,
          6.255656031339009,
          6.7654665733756225,
          null,
          6.5014262828878895,
          12.327601037614487,
          13.847106744373573,
          4.270852802900908,
          null,
          null,
          13.545402482325688,
          5.440031792631125,
          7.271880265935712,
          null,
          null,
          null,
          7.432683836817225,
          7.174174999798478,
          7.421685936863369,
          null,
          5.688604900982949
         ],
         "c": [
          40.46913233659256,
          55.20371692501889,
          34.96039463259164,
          39.64136795763901,
          null,
          20.852137570253056,
          18.461117444977,
          24.615530714292618,
          52.49510393645528,
          null,
          null,
          24.60640321542387,
          28.947875838629965,
          41.02740105898094,
          null,
          null,
          null,
          48.585558775744815,
          47.232813809178396,
          42.06798534757666,
          null,
          34.92061697152592
         ],
         "customdata": [
          [
           "A",
           1,
           1,
           ""
          ],
          [
           "A",
           1,
           3,
           "2shots"
          ],
          [
           "A",
           1,
           6,
           "3shots"
          ],
          [
           "A",
           1,
           9,
           "2shots"
          ],
          [
           "A",
           1,
           11,
           "3shots"
          ],
          [
           "B",
           3,
           1,
           ""
          ],
          [
           "B",
           3,
           2,
           ""
          ],
          [
           "B",
           3,
           3,
           ""
          ],
          [
           "B",
           3,
           4,
           ""
          ],
          [
           "B",
           3,
           5,
           ""
          ],
          [
           "B",
           3,
           6,
           ""
          ],
          [
           "B",
           4,
           1,
           ""
          ],
          [
           "B",
           1,
           1,
           ""
          ],
          [
           "B",
           1,
           2,
           ""
          ],
          [
           "B",
           1,
           3,
           ""
          ],
          [
           "B",
           1,
           4,
           ""
          ],
          [
           "B",
           1,
           5,
           ""
          ],
          [
           "B",
           1,
           6,
           ""
          ],
          [
           "B",
           2,
           6,
           ""
          ],
          [
           "B",
           2,
           7,
           ""
          ],
          [
           "B",
           2,
           8,
           ""
          ],
          [
           "B",
           2,
           "9b",
           ""
          ]
         ],
         "hovertemplate": "Host=brazilianite<br>B=%{a}<br>Cs=%{b}<br>Li=%{c}<br>piece=%{customdata[0]}<br>field=%{customdata[1]}<br>analysis=%{customdata[2]}<br>Info=%{customdata[3]}<extra></extra>",
         "legendgroup": "brazilianite",
         "marker": {
          "color": "#ab63fa",
          "size": 8,
          "symbol": "x"
         },
         "mode": "markers",
         "name": "brazilianite",
         "showlegend": true,
         "subplot": "ternary",
         "type": "scatterternary"
        },
        {
         "a": [
          null,
          null,
          61.11982184384874,
          null,
          null,
          79.19035771758458,
          65.68060055888925,
          null,
          null,
          76.17683354252243,
          null,
          null
         ],
         "b": [
          37.29819876982868,
          100,
          11.594831010638613,
          null,
          null,
          10.790181072471498,
          8.045914280125757,
          100,
          100,
          23.82316645747757,
          100,
          41.390498396282105
         ],
         "c": [
          62.70180123017132,
          null,
          27.285347145512645,
          null,
          null,
          10.019461209943927,
          26.273485160984976,
          null,
          null,
          null,
          null,
          58.609501603717895
         ],
         "customdata": [
          [
           "A",
           2,
           3,
           ""
          ],
          [
           "A",
           2,
           4,
           ""
          ],
          [
           "A",
           2,
           5,
           ""
          ],
          [
           "A",
           2,
           6,
           ""
          ],
          [
           "A",
           2,
           7,
           "true?"
          ],
          [
           "A",
           1,
           1,
           ""
          ],
          [
           "A",
           1,
           7,
           "2shots"
          ],
          [
           "A",
           1,
           8,
           "2shots"
          ],
          [
           "A",
           1,
           9,
           ""
          ],
          [
           "A",
           1,
           10,
           ""
          ],
          [
           "A",
           "1b",
           1,
           ""
          ],
          [
           "A",
           "2b",
           1,
           ""
          ]
         ],
         "hovertemplate": "Host=augelite<br>B=%{a}<br>Cs=%{b}<br>Li=%{c}<br>piece=%{customdata[0]}<br>field=%{customdata[1]}<br>analysis=%{customdata[2]}<br>Info=%{customdata[3]}<extra></extra>",
         "legendgroup": "augelite",
         "marker": {
          "color": "#FFA15A",
          "size": 8,
          "symbol": "cross"
         },
         "mode": "markers",
         "name": "augelite",
         "showlegend": true,
         "subplot": "ternary",
         "type": "scatterternary"
        },
        {
         "a": [
          null,
          22.880511399868812,
          null,
          null,
          26.961620014980888,
          28.311783335369427,
          30.526550682768157
         ],
         "b": [
          null,
          3.194028701986077,
          5.316129137012127,
          null,
          4.700159847365707,
          4.227002155129727,
          4.651444007127457
         ],
         "c": [
          null,
          73.9254598981451,
          94.68387086298787,
          null,
          68.33822013765341,
          67.46121450950083,
          64.82200531010437
         ],
         "customdata": [
          [
           "AII",
           "C",
           1,
           ""
          ],
          [
           "AII",
           "C",
           2,
           ""
          ],
          [
           "AII",
           "C",
           4,
           ""
          ],
          [
           "AII",
           "C",
           5,
           ""
          ],
          [
           "AII",
           "C",
           6,
           ""
          ],
          [
           "AII",
           "C",
           7,
           ""
          ],
          [
           "AII",
           "C",
           8,
           ""
          ]
         ],
         "hovertemplate": "Host=wyllieite<br>B=%{a}<br>Cs=%{b}<br>Li=%{c}<br>piece=%{customdata[0]}<br>field=%{customdata[1]}<br>analysis=%{customdata[2]}<br>Info=%{customdata[3]}<extra></extra>",
         "legendgroup": "wyllieite",
         "marker": {
          "color": "#19d3f3",
          "size": 8,
          "symbol": "circle"
         },
         "mode": "markers",
         "name": "wyllieite",
         "showlegend": true,
         "subplot": "ternary",
         "type": "scatterternary"
        }
       ],
       "layout": {
        "legend": {
         "title": {
          "text": "Host"
         },
         "tracegroupgap": 0
        },
        "margin": {
         "t": 60
        },
        "template": {
         "data": {
          "bar": [
           {
            "error_x": {
             "color": "#2a3f5f"
            },
            "error_y": {
             "color": "#2a3f5f"
            },
            "marker": {
             "line": {
              "color": "white",
              "width": 0.5
             }
            },
            "type": "bar"
           }
          ],
          "barpolar": [
           {
            "marker": {
             "line": {
              "color": "white",
              "width": 0.5
             }
            },
            "type": "barpolar"
           }
          ],
          "carpet": [
           {
            "aaxis": {
             "endlinecolor": "#2a3f5f",
             "gridcolor": "#C8D4E3",
             "linecolor": "#C8D4E3",
             "minorgridcolor": "#C8D4E3",
             "startlinecolor": "#2a3f5f"
            },
            "baxis": {
             "endlinecolor": "#2a3f5f",
             "gridcolor": "#C8D4E3",
             "linecolor": "#C8D4E3",
             "minorgridcolor": "#C8D4E3",
             "startlinecolor": "#2a3f5f"
            },
            "type": "carpet"
           }
          ],
          "choropleth": [
           {
            "colorbar": {
             "outlinewidth": 0,
             "ticks": ""
            },
            "type": "choropleth"
           }
          ],
          "contour": [
           {
            "colorbar": {
             "outlinewidth": 0,
             "ticks": ""
            },
            "colorscale": [
             [
              0,
              "#0d0887"
             ],
             [
              0.1111111111111111,
              "#46039f"
             ],
             [
              0.2222222222222222,
              "#7201a8"
             ],
             [
              0.3333333333333333,
              "#9c179e"
             ],
             [
              0.4444444444444444,
              "#bd3786"
             ],
             [
              0.5555555555555556,
              "#d8576b"
             ],
             [
              0.6666666666666666,
              "#ed7953"
             ],
             [
              0.7777777777777778,
              "#fb9f3a"
             ],
             [
              0.8888888888888888,
              "#fdca26"
             ],
             [
              1,
              "#f0f921"
             ]
            ],
            "type": "contour"
           }
          ],
          "contourcarpet": [
           {
            "colorbar": {
             "outlinewidth": 0,
             "ticks": ""
            },
            "type": "contourcarpet"
           }
          ],
          "heatmap": [
           {
            "colorbar": {
             "outlinewidth": 0,
             "ticks": ""
            },
            "colorscale": [
             [
              0,
              "#0d0887"
             ],
             [
              0.1111111111111111,
              "#46039f"
             ],
             [
              0.2222222222222222,
              "#7201a8"
             ],
             [
              0.3333333333333333,
              "#9c179e"
             ],
             [
              0.4444444444444444,
              "#bd3786"
             ],
             [
              0.5555555555555556,
              "#d8576b"
             ],
             [
              0.6666666666666666,
              "#ed7953"
             ],
             [
              0.7777777777777778,
              "#fb9f3a"
             ],
             [
              0.8888888888888888,
              "#fdca26"
             ],
             [
              1,
              "#f0f921"
             ]
            ],
            "type": "heatmap"
           }
          ],
          "heatmapgl": [
           {
            "colorbar": {
             "outlinewidth": 0,
             "ticks": ""
            },
            "colorscale": [
             [
              0,
              "#0d0887"
             ],
             [
              0.1111111111111111,
              "#46039f"
             ],
             [
              0.2222222222222222,
              "#7201a8"
             ],
             [
              0.3333333333333333,
              "#9c179e"
             ],
             [
              0.4444444444444444,
              "#bd3786"
             ],
             [
              0.5555555555555556,
              "#d8576b"
             ],
             [
              0.6666666666666666,
              "#ed7953"
             ],
             [
              0.7777777777777778,
              "#fb9f3a"
             ],
             [
              0.8888888888888888,
              "#fdca26"
             ],
             [
              1,
              "#f0f921"
             ]
            ],
            "type": "heatmapgl"
           }
          ],
          "histogram": [
           {
            "marker": {
             "colorbar": {
              "outlinewidth": 0,
              "ticks": ""
             }
            },
            "type": "histogram"
           }
          ],
          "histogram2d": [
           {
            "colorbar": {
             "outlinewidth": 0,
             "ticks": ""
            },
            "colorscale": [
             [
              0,
              "#0d0887"
             ],
             [
              0.1111111111111111,
              "#46039f"
             ],
             [
              0.2222222222222222,
              "#7201a8"
             ],
             [
              0.3333333333333333,
              "#9c179e"
             ],
             [
              0.4444444444444444,
              "#bd3786"
             ],
             [
              0.5555555555555556,
              "#d8576b"
             ],
             [
              0.6666666666666666,
              "#ed7953"
             ],
             [
              0.7777777777777778,
              "#fb9f3a"
             ],
             [
              0.8888888888888888,
              "#fdca26"
             ],
             [
              1,
              "#f0f921"
             ]
            ],
            "type": "histogram2d"
           }
          ],
          "histogram2dcontour": [
           {
            "colorbar": {
             "outlinewidth": 0,
             "ticks": ""
            },
            "colorscale": [
             [
              0,
              "#0d0887"
             ],
             [
              0.1111111111111111,
              "#46039f"
             ],
             [
              0.2222222222222222,
              "#7201a8"
             ],
             [
              0.3333333333333333,
              "#9c179e"
             ],
             [
              0.4444444444444444,
              "#bd3786"
             ],
             [
              0.5555555555555556,
              "#d8576b"
             ],
             [
              0.6666666666666666,
              "#ed7953"
             ],
             [
              0.7777777777777778,
              "#fb9f3a"
             ],
             [
              0.8888888888888888,
              "#fdca26"
             ],
             [
              1,
              "#f0f921"
             ]
            ],
            "type": "histogram2dcontour"
           }
          ],
          "mesh3d": [
           {
            "colorbar": {
             "outlinewidth": 0,
             "ticks": ""
            },
            "type": "mesh3d"
           }
          ],
          "parcoords": [
           {
            "line": {
             "colorbar": {
              "outlinewidth": 0,
              "ticks": ""
             }
            },
            "type": "parcoords"
           }
          ],
          "pie": [
           {
            "automargin": true,
            "type": "pie"
           }
          ],
          "scatter": [
           {
            "marker": {
             "colorbar": {
              "outlinewidth": 0,
              "ticks": ""
             }
            },
            "type": "scatter"
           }
          ],
          "scatter3d": [
           {
            "line": {
             "colorbar": {
              "outlinewidth": 0,
              "ticks": ""
             }
            },
            "marker": {
             "colorbar": {
              "outlinewidth": 0,
              "ticks": ""
             }
            },
            "type": "scatter3d"
           }
          ],
          "scattercarpet": [
           {
            "marker": {
             "colorbar": {
              "outlinewidth": 0,
              "ticks": ""
             }
            },
            "type": "scattercarpet"
           }
          ],
          "scattergeo": [
           {
            "marker": {
             "colorbar": {
              "outlinewidth": 0,
              "ticks": ""
             }
            },
            "type": "scattergeo"
           }
          ],
          "scattergl": [
           {
            "marker": {
             "colorbar": {
              "outlinewidth": 0,
              "ticks": ""
             }
            },
            "type": "scattergl"
           }
          ],
          "scattermapbox": [
           {
            "marker": {
             "colorbar": {
              "outlinewidth": 0,
              "ticks": ""
             }
            },
            "type": "scattermapbox"
           }
          ],
          "scatterpolar": [
           {
            "marker": {
             "colorbar": {
              "outlinewidth": 0,
              "ticks": ""
             }
            },
            "type": "scatterpolar"
           }
          ],
          "scatterpolargl": [
           {
            "marker": {
             "colorbar": {
              "outlinewidth": 0,
              "ticks": ""
             }
            },
            "type": "scatterpolargl"
           }
          ],
          "scatterternary": [
           {
            "marker": {
             "colorbar": {
              "outlinewidth": 0,
              "ticks": ""
             }
            },
            "type": "scatterternary"
           }
          ],
          "surface": [
           {
            "colorbar": {
             "outlinewidth": 0,
             "ticks": ""
            },
            "colorscale": [
             [
              0,
              "#0d0887"
             ],
             [
              0.1111111111111111,
              "#46039f"
             ],
             [
              0.2222222222222222,
              "#7201a8"
             ],
             [
              0.3333333333333333,
              "#9c179e"
             ],
             [
              0.4444444444444444,
              "#bd3786"
             ],
             [
              0.5555555555555556,
              "#d8576b"
             ],
             [
              0.6666666666666666,
              "#ed7953"
             ],
             [
              0.7777777777777778,
              "#fb9f3a"
             ],
             [
              0.8888888888888888,
              "#fdca26"
             ],
             [
              1,
              "#f0f921"
             ]
            ],
            "type": "surface"
           }
          ],
          "table": [
           {
            "cells": {
             "fill": {
              "color": "#EBF0F8"
             },
             "line": {
              "color": "white"
             }
            },
            "header": {
             "fill": {
              "color": "#C8D4E3"
             },
             "line": {
              "color": "white"
             }
            },
            "type": "table"
           }
          ]
         },
         "layout": {
          "annotationdefaults": {
           "arrowcolor": "#2a3f5f",
           "arrowhead": 0,
           "arrowwidth": 1
          },
          "autotypenumbers": "strict",
          "coloraxis": {
           "colorbar": {
            "outlinewidth": 0,
            "ticks": ""
           }
          },
          "colorscale": {
           "diverging": [
            [
             0,
             "#8e0152"
            ],
            [
             0.1,
             "#c51b7d"
            ],
            [
             0.2,
             "#de77ae"
            ],
            [
             0.3,
             "#f1b6da"
            ],
            [
             0.4,
             "#fde0ef"
            ],
            [
             0.5,
             "#f7f7f7"
            ],
            [
             0.6,
             "#e6f5d0"
            ],
            [
             0.7,
             "#b8e186"
            ],
            [
             0.8,
             "#7fbc41"
            ],
            [
             0.9,
             "#4d9221"
            ],
            [
             1,
             "#276419"
            ]
           ],
           "sequential": [
            [
             0,
             "#0d0887"
            ],
            [
             0.1111111111111111,
             "#46039f"
            ],
            [
             0.2222222222222222,
             "#7201a8"
            ],
            [
             0.3333333333333333,
             "#9c179e"
            ],
            [
             0.4444444444444444,
             "#bd3786"
            ],
            [
             0.5555555555555556,
             "#d8576b"
            ],
            [
             0.6666666666666666,
             "#ed7953"
            ],
            [
             0.7777777777777778,
             "#fb9f3a"
            ],
            [
             0.8888888888888888,
             "#fdca26"
            ],
            [
             1,
             "#f0f921"
            ]
           ],
           "sequentialminus": [
            [
             0,
             "#0d0887"
            ],
            [
             0.1111111111111111,
             "#46039f"
            ],
            [
             0.2222222222222222,
             "#7201a8"
            ],
            [
             0.3333333333333333,
             "#9c179e"
            ],
            [
             0.4444444444444444,
             "#bd3786"
            ],
            [
             0.5555555555555556,
             "#d8576b"
            ],
            [
             0.6666666666666666,
             "#ed7953"
            ],
            [
             0.7777777777777778,
             "#fb9f3a"
            ],
            [
             0.8888888888888888,
             "#fdca26"
            ],
            [
             1,
             "#f0f921"
            ]
           ]
          },
          "colorway": [
           "#636efa",
           "#EF553B",
           "#00cc96",
           "#ab63fa",
           "#FFA15A",
           "#19d3f3",
           "#FF6692",
           "#B6E880",
           "#FF97FF",
           "#FECB52"
          ],
          "font": {
           "color": "#2a3f5f"
          },
          "geo": {
           "bgcolor": "white",
           "lakecolor": "white",
           "landcolor": "white",
           "showlakes": true,
           "showland": true,
           "subunitcolor": "#C8D4E3"
          },
          "hoverlabel": {
           "align": "left"
          },
          "hovermode": "closest",
          "mapbox": {
           "style": "light"
          },
          "paper_bgcolor": "white",
          "plot_bgcolor": "white",
          "polar": {
           "angularaxis": {
            "gridcolor": "#EBF0F8",
            "linecolor": "#EBF0F8",
            "ticks": ""
           },
           "bgcolor": "white",
           "radialaxis": {
            "gridcolor": "#EBF0F8",
            "linecolor": "#EBF0F8",
            "ticks": ""
           }
          },
          "scene": {
           "xaxis": {
            "backgroundcolor": "white",
            "gridcolor": "#DFE8F3",
            "gridwidth": 2,
            "linecolor": "#EBF0F8",
            "showbackground": true,
            "ticks": "",
            "zerolinecolor": "#EBF0F8"
           },
           "yaxis": {
            "backgroundcolor": "white",
            "gridcolor": "#DFE8F3",
            "gridwidth": 2,
            "linecolor": "#EBF0F8",
            "showbackground": true,
            "ticks": "",
            "zerolinecolor": "#EBF0F8"
           },
           "zaxis": {
            "backgroundcolor": "white",
            "gridcolor": "#DFE8F3",
            "gridwidth": 2,
            "linecolor": "#EBF0F8",
            "showbackground": true,
            "ticks": "",
            "zerolinecolor": "#EBF0F8"
           }
          },
          "shapedefaults": {
           "line": {
            "color": "#2a3f5f"
           }
          },
          "ternary": {
           "aaxis": {
            "gridcolor": "#DFE8F3",
            "linecolor": "#A2B1C6",
            "ticks": ""
           },
           "baxis": {
            "gridcolor": "#DFE8F3",
            "linecolor": "#A2B1C6",
            "ticks": ""
           },
           "bgcolor": "white",
           "caxis": {
            "gridcolor": "#DFE8F3",
            "linecolor": "#A2B1C6",
            "ticks": ""
           }
          },
          "title": {
           "x": 0.05
          },
          "xaxis": {
           "automargin": true,
           "gridcolor": "#EBF0F8",
           "linecolor": "#EBF0F8",
           "ticks": "",
           "title": {
            "standoff": 15
           },
           "zerolinecolor": "#EBF0F8",
           "zerolinewidth": 2
          },
          "yaxis": {
           "automargin": true,
           "gridcolor": "#EBF0F8",
           "linecolor": "#EBF0F8",
           "ticks": "",
           "title": {
            "standoff": 15
           },
           "zerolinecolor": "#EBF0F8",
           "zerolinewidth": 2
          }
         }
        },
        "ternary": {
         "aaxis": {
          "title": {
           "text": "B"
          }
         },
         "baxis": {
          "title": {
           "text": "Cs"
          }
         },
         "caxis": {
          "title": {
           "text": "Li"
          }
         },
         "domain": {
          "x": [
           0,
           1
          ],
          "y": [
           0,
           1
          ]
         }
        }
       }
      },
      "text/html": [
       "<div>                            <div id=\"ba74e2a6-986d-4994-89b7-416f0ca87db8\" class=\"plotly-graph-div\" style=\"height:525px; width:100%;\"></div>            <script type=\"text/javascript\">                require([\"plotly\"], function(Plotly) {                    window.PLOTLYENV=window.PLOTLYENV || {};                                    if (document.getElementById(\"ba74e2a6-986d-4994-89b7-416f0ca87db8\")) {                    Plotly.newPlot(                        \"ba74e2a6-986d-4994-89b7-416f0ca87db8\",                        [{\"a\": [29.828366677442908, 5.292234249767751, 3.266826499556318, null, 19.124418914773187, 42.47774383167812, 3.7669755289060953, null, null, 12.530428790037028, 36.035498444247196, 71.0331437369752, 95.28636970089188, 12.878108579581646, 85.33923260975588, 3.750329591294874, 85.13553890131942, 80.09398510462881, 74.63731323956199, null, 20.337350718156603, 96.6742963913176, null, 42.56212416970948, 6.028322919800741, 97.53726989305422, 25.64178587060934, 6.3977885434285255, 11.893530010960623, 58.92041096930228, 6.158990618495178, null, 11.77057097801121, 25.60096722216115, 9.981498608595345, 4.512141839125068, null, 6.171423902991557, 38.905474695194556], \"b\": [70.17163332255708, 13.20361995972156, 7.39860184094815, 1.9629775030718815, 1.4392854723219455, 1.4285002888841773, 2.7407942806157894, null, 100.0, 0.2906720071830195, 1.7518355955847145, 3.125464106454117, 4.713630299108125, 0.7983316969257319, 14.66076739024412, 0.134796971249265, 14.864461098680579, 19.90601489537119, 25.36268676043801, 1.9626801672964787, 12.032199632789116, 3.325703608682404, null, 2.5938518076986377, 0.47358914990681156, 2.4627301069457816, 1.2329106395440186, 7.288584200910559, 3.2368009301658986, 41.07958903069772, 5.096918161798668, 100.0, 8.680167965642474, 1.8304232352067458, 12.728830760782946, 6.750705597882225, 28.33487492376711, 9.84231365225325, 61.09452530480544], \"c\": [null, 81.50414579051069, 89.33457165949554, 98.03702249692812, 79.43629561290487, 56.09375587943772, 93.49223019047811, 100.0, null, 87.17889920277996, 62.21266596016809, 25.84139215657068, null, 86.32355972349262, null, 96.11487343745586, null, null, null, 98.03731983270353, 67.63044964905427, null, 100.0, 54.844024022591874, 93.49808793029246, null, 73.12530348984664, 86.31362725566092, 84.86966905887347, null, 88.74409121970615, null, 79.54926105634632, 72.56860954263212, 77.28967063062171, 88.7371525629927, 71.66512507623288, 83.9862624447552, null], \"customdata\": [[\"B\", 4.0, 1, \"\"], [\"B\", 4.0, 2, \"\"], [\"B\", 4.0, \"3b\", \"\"], [\"A\", 3, 1, \"bts\"], [\"A\", 3, 2, \"bts\"], [\"A\", 3, 3, \"bts\"], [\"A\", 3, 4, \"bts\"], [\"A\", 3, 5, \"bts\"], [\"A\", 3, 6, \"bts\"], [\"A\", 3, 8, \"bts\"], [\"B\", 6, 1, \"\"], [\"B\", 6, 6, \"3shots\"], [\"B\", 6, 9, \"\"], [\"B\", 7, 1, \"2shots\"], [\"B\", 7, 2, \"2shots\"], [\"B\", 7, 3, \"\"], [\"B\", 7, 5, \"2shots\"], [\"E\", 11, 6, \"2shots\"], [\"E\", 11, 7, \"\"], [\"E\", 11, 9, \"2shots\"], [\"E\", 11, 10, \"2shots\"], [\"B\", 2, 1, \"2shots\"], [\"B\", 2, 2, \"maybe-not\"], [\"B\", 2, 3, \"3shots\"], [\"B\", 2, 4, \"3shots\"], [\"B\", 2, 5, \"3shots\"], [\"B\", 2, 7, \"\"], [\"B\", 4.0, 6.0, \"\"], [\"B\", 4.0, 7.0, \"3shots\"], [\"B\", 4.0, 9.0, \"\"], [\"C\", 2.0, 1, \"\"], [\"C\", 2.0, 2, \"\"], [\"C\", 2.0, 3, \"2shots\"], [\"C\", 3.0, 4, \"3shots\"], [\"C\", 1, 1, \"3shots\"], [\"C\", 1, 2, \"2shots\"], [\"C\", 1, 4, \"2shots\"], [\"C\", 1, 8, \"2shots\"], [\"C\", 1, 9, \"\"]], \"hovertemplate\": \"Host=bertossaite<br>B=%{a}<br>Cs=%{b}<br>Li=%{c}<br>piece=%{customdata[0]}<br>field=%{customdata[1]}<br>analysis=%{customdata[2]}<br>Info=%{customdata[3]}<extra></extra>\", \"legendgroup\": \"bertossaite\", \"marker\": {\"color\": \"#636efa\", \"size\": 8, \"symbol\": \"circle\"}, \"mode\": \"markers\", \"name\": \"bertossaite\", \"showlegend\": true, \"subplot\": \"ternary\", \"type\": \"scatterternary\"}, {\"a\": [64.40614878842466, 68.48449310809316, 58.10119264069419, null, null, null, 70.27281564261892, 81.96932996619061, 86.6721910382802, 21.950677177996816, null, 48.77164976820049, null, 36.97915893317075, null, 50.15184279571178, 50.22259947140502, null, null, null, null, null, 5.205717978709603, null, null, 59.70497443794355, 45.09981934568443, 28.464256346940637, 79.16400987437665], \"b\": [25.78564345039928, 23.75039968750874, 26.010741031404226, 100.0, 100.0, 23.146355298958127, 5.601568657814249, 2.3013506586529515, 5.218318303016043, 2.227146581440763, 100.0, 15.890063631396051, 36.05327368749964, 8.35885590945181, null, 17.256346803731322, 13.566898255505775, 38.17056170321588, null, 47.81559063990464, 31.45186999460085, 72.1998255032871, 3.328554960737136, 16.139363130351725, 65.74159587919246, 15.992685152099728, 9.718862664059733, 9.571985178577986, 15.83104623285566], \"c\": [9.80820776117607, 7.765107204398106, 15.888066327901583, null, null, 76.85364470104187, 24.125615699566826, 15.72931937515644, 8.109490658703733, 75.82217624056241, null, 35.33828660040347, 63.94672631250037, 54.66198515737744, null, 32.5918104005569, 36.210502273089205, 61.82943829678411, null, 52.18440936009535, 68.54813000539914, 27.800174496712888, 91.46572706055326, 83.86063686964827, 34.25840412080754, 24.30234040995672, 45.181317990255835, 61.96375847448138, 5.004943892767706], \"customdata\": [[\"J\", 1.0, 1, \"\"], [\"J\", 1.0, \"2b\", \"\"], [\"J\", 1.0, 3, \"\"], [\"A\", \"7b\", 6, \"\"], [\"A\", \"7b\", 8, \"\"], [\"A\", \"7b\", 12, \"\"], [\"A\", \"7b\", 7, \"\"], [\"A\", \"7b\", 9, \"\"], [\"A\", \"7b\", 1, \"\"], [\"A\", \"7b\", 11, \"\"], [\"A\", \"7b\", 2, \"\"], [\"B\", 1, 2, \"\"], [\"B\", 1, 3, \"\"], [\"B\", 1, 4, \"\"], [\"B\", 5, 1, \"trl\"], [\"B\", 1, 5, \"trl\"], [\"B\", 1, 6, \"trl\"], [\"B\", 1, 7, \"trl\"], [\"E\", 1, 1, \"trl-real?\"], [\"E\", 1, 2, \"trl\"], [\"E\", 1, 3, \"trl\"], [\"E\", 1, 4, \"trl\"], [\"E\", 1, 5, \"trl-Xtl-rich\"], [\"E\", 1, 7, \"trl\"], [\"E\", 1, 8, \"trl\"], [\"C\", 8, 1, \"\"], [\"C\", 8, 3, \"\"], [\"C\", 8, 4, \"2shots\"], [\"C\", 8, 5, \"\"]], \"hovertemplate\": \"Host=trolleite<br>B=%{a}<br>Cs=%{b}<br>Li=%{c}<br>piece=%{customdata[0]}<br>field=%{customdata[1]}<br>analysis=%{customdata[2]}<br>Info=%{customdata[3]}<extra></extra>\", \"legendgroup\": \"trolleite\", \"marker\": {\"color\": \"#EF553B\", \"size\": 8, \"symbol\": \"diamond\"}, \"mode\": \"markers\", \"name\": \"trolleite\", \"showlegend\": true, \"subplot\": \"ternary\", \"type\": \"scatterternary\"}, {\"a\": [null, 81.74780828637344, 74.46182585543126, null, 43.17019186328276, 66.21739269131731, null, 80.73854646489715, 0.0, null, 85.38210119470774], \"b\": [19.394696206634716, 18.25219171362656, 18.62348819052381, null, 14.857176452510682, 9.339126470973579, null, 10.901141227190262, 100.0, 1.3519934395511024, 14.617898805292254], \"c\": [80.60530379336528, null, 6.9146859540449315, null, 41.97263168420657, 24.44348083770911, null, 8.360312307912587, 0.0, 98.6480065604489, null], \"customdata\": [[\"B\", \"1b\", 1, \"qz\"], [\"E\", \"11b\", 2, \"Qz-exploded\"], [\"A\", 2, 1, \"\"], [\"A\", 2, 2, \"\"], [\"A\", 3, 1, \"\"], [\"A\", 3, 4, \"\"], [\"A\", 3, 5, \"\"], [\"A\", \"3b\", 1, \"\"], [\"A\", \"3b\", 2, \"\"], [\"E\", \"11b\", 3, \"\"], [\"E\", \"11b\", 4, \"\"]], \"hovertemplate\": \"Host=quartz<br>B=%{a}<br>Cs=%{b}<br>Li=%{c}<br>piece=%{customdata[0]}<br>field=%{customdata[1]}<br>analysis=%{customdata[2]}<br>Info=%{customdata[3]}<extra></extra>\", \"legendgroup\": \"quartz\", \"marker\": {\"color\": \"#00cc96\", \"size\": 8, \"symbol\": \"square\"}, \"mode\": \"markers\", \"name\": \"quartz\", \"showlegend\": true, \"subplot\": \"ternary\", \"type\": \"scatterternary\"}, {\"a\": [51.10635266689325, 24.912769487315277, 58.783949336069355, 53.59316546898536, null, 72.64643614685905, 69.21128151740851, 61.53736254133382, 43.23404326064381, null, null, 61.84819430225045, 65.6120923687389, 51.70071867508336, null, null, null, 43.981757387437966, 45.593011191023116, 50.51032871555997, null, 59.39077812749114], \"b\": [8.424514996514178, 19.883513587665842, 6.255656031339009, 6.7654665733756225, null, 6.5014262828878895, 12.327601037614487, 13.847106744373573, 4.270852802900908, null, null, 13.545402482325688, 5.440031792631125, 7.271880265935712, null, null, null, 7.432683836817225, 7.174174999798478, 7.421685936863369, null, 5.688604900982949], \"c\": [40.46913233659256, 55.20371692501889, 34.96039463259164, 39.64136795763901, null, 20.852137570253056, 18.461117444977, 24.615530714292618, 52.49510393645528, null, null, 24.60640321542387, 28.947875838629965, 41.02740105898094, null, null, null, 48.585558775744815, 47.232813809178396, 42.06798534757666, null, 34.92061697152592], \"customdata\": [[\"A\", 1.0, 1, \"\"], [\"A\", 1.0, 3, \"2shots\"], [\"A\", 1.0, 6, \"3shots\"], [\"A\", 1.0, 9, \"2shots\"], [\"A\", 1.0, 11, \"3shots\"], [\"B\", 3.0, 1, \"\"], [\"B\", 3.0, 2, \"\"], [\"B\", 3.0, 3, \"\"], [\"B\", 3.0, 4, \"\"], [\"B\", 3.0, 5, \"\"], [\"B\", 3.0, 6, \"\"], [\"B\", 4.0, 1, \"\"], [\"B\", 1.0, 1, \"\"], [\"B\", 1.0, 2, \"\"], [\"B\", 1.0, 3, \"\"], [\"B\", 1.0, 4, \"\"], [\"B\", 1.0, 5, \"\"], [\"B\", 1.0, 6, \"\"], [\"B\", 2.0, 6, \"\"], [\"B\", 2.0, 7, \"\"], [\"B\", 2.0, 8, \"\"], [\"B\", 2.0, \"9b\", \"\"]], \"hovertemplate\": \"Host=brazilianite<br>B=%{a}<br>Cs=%{b}<br>Li=%{c}<br>piece=%{customdata[0]}<br>field=%{customdata[1]}<br>analysis=%{customdata[2]}<br>Info=%{customdata[3]}<extra></extra>\", \"legendgroup\": \"brazilianite\", \"marker\": {\"color\": \"#ab63fa\", \"size\": 8, \"symbol\": \"x\"}, \"mode\": \"markers\", \"name\": \"brazilianite\", \"showlegend\": true, \"subplot\": \"ternary\", \"type\": \"scatterternary\"}, {\"a\": [null, null, 61.11982184384874, null, null, 79.19035771758458, 65.68060055888925, null, null, 76.17683354252243, null, null], \"b\": [37.29819876982868, 100.0, 11.594831010638613, null, null, 10.790181072471498, 8.045914280125757, 100.0, 100.0, 23.82316645747757, 100.0, 41.390498396282105], \"c\": [62.70180123017132, null, 27.285347145512645, null, null, 10.019461209943927, 26.273485160984976, null, null, null, null, 58.609501603717895], \"customdata\": [[\"A\", 2, 3, \"\"], [\"A\", 2, 4, \"\"], [\"A\", 2, 5, \"\"], [\"A\", 2, 6, \"\"], [\"A\", 2, 7, \"true?\"], [\"A\", 1, 1, \"\"], [\"A\", 1, 7, \"2shots\"], [\"A\", 1, 8, \"2shots\"], [\"A\", 1, 9, \"\"], [\"A\", 1, 10, \"\"], [\"A\", \"1b\", 1, \"\"], [\"A\", \"2b\", 1, \"\"]], \"hovertemplate\": \"Host=augelite<br>B=%{a}<br>Cs=%{b}<br>Li=%{c}<br>piece=%{customdata[0]}<br>field=%{customdata[1]}<br>analysis=%{customdata[2]}<br>Info=%{customdata[3]}<extra></extra>\", \"legendgroup\": \"augelite\", \"marker\": {\"color\": \"#FFA15A\", \"size\": 8, \"symbol\": \"cross\"}, \"mode\": \"markers\", \"name\": \"augelite\", \"showlegend\": true, \"subplot\": \"ternary\", \"type\": \"scatterternary\"}, {\"a\": [null, 22.880511399868812, null, null, 26.961620014980888, 28.311783335369427, 30.526550682768157], \"b\": [null, 3.194028701986077, 5.316129137012127, null, 4.700159847365707, 4.227002155129727, 4.651444007127457], \"c\": [null, 73.9254598981451, 94.68387086298787, null, 68.33822013765341, 67.46121450950083, 64.82200531010437], \"customdata\": [[\"AII\", \"C\", 1, \"\"], [\"AII\", \"C\", 2, \"\"], [\"AII\", \"C\", 4, \"\"], [\"AII\", \"C\", 5, \"\"], [\"AII\", \"C\", 6, \"\"], [\"AII\", \"C\", 7, \"\"], [\"AII\", \"C\", 8, \"\"]], \"hovertemplate\": \"Host=wyllieite<br>B=%{a}<br>Cs=%{b}<br>Li=%{c}<br>piece=%{customdata[0]}<br>field=%{customdata[1]}<br>analysis=%{customdata[2]}<br>Info=%{customdata[3]}<extra></extra>\", \"legendgroup\": \"wyllieite\", \"marker\": {\"color\": \"#19d3f3\", \"size\": 8, \"symbol\": \"circle\"}, \"mode\": \"markers\", \"name\": \"wyllieite\", \"showlegend\": true, \"subplot\": \"ternary\", \"type\": \"scatterternary\"}],                        {\"legend\": {\"title\": {\"text\": \"Host\"}, \"tracegroupgap\": 0}, \"margin\": {\"t\": 60}, \"template\": {\"data\": {\"bar\": [{\"error_x\": {\"color\": \"#2a3f5f\"}, \"error_y\": {\"color\": \"#2a3f5f\"}, \"marker\": {\"line\": {\"color\": \"white\", \"width\": 0.5}}, \"type\": \"bar\"}], \"barpolar\": [{\"marker\": {\"line\": {\"color\": \"white\", \"width\": 0.5}}, \"type\": \"barpolar\"}], \"carpet\": [{\"aaxis\": {\"endlinecolor\": \"#2a3f5f\", \"gridcolor\": \"#C8D4E3\", \"linecolor\": \"#C8D4E3\", \"minorgridcolor\": \"#C8D4E3\", \"startlinecolor\": \"#2a3f5f\"}, \"baxis\": {\"endlinecolor\": \"#2a3f5f\", \"gridcolor\": \"#C8D4E3\", \"linecolor\": \"#C8D4E3\", \"minorgridcolor\": \"#C8D4E3\", \"startlinecolor\": \"#2a3f5f\"}, \"type\": \"carpet\"}], \"choropleth\": [{\"colorbar\": {\"outlinewidth\": 0, \"ticks\": \"\"}, \"type\": \"choropleth\"}], \"contour\": [{\"colorbar\": {\"outlinewidth\": 0, \"ticks\": \"\"}, \"colorscale\": [[0.0, \"#0d0887\"], [0.1111111111111111, \"#46039f\"], [0.2222222222222222, \"#7201a8\"], [0.3333333333333333, \"#9c179e\"], [0.4444444444444444, \"#bd3786\"], [0.5555555555555556, \"#d8576b\"], [0.6666666666666666, \"#ed7953\"], [0.7777777777777778, \"#fb9f3a\"], [0.8888888888888888, \"#fdca26\"], [1.0, \"#f0f921\"]], \"type\": \"contour\"}], \"contourcarpet\": [{\"colorbar\": {\"outlinewidth\": 0, \"ticks\": \"\"}, \"type\": \"contourcarpet\"}], \"heatmap\": [{\"colorbar\": {\"outlinewidth\": 0, \"ticks\": \"\"}, \"colorscale\": [[0.0, \"#0d0887\"], [0.1111111111111111, \"#46039f\"], [0.2222222222222222, \"#7201a8\"], [0.3333333333333333, \"#9c179e\"], [0.4444444444444444, \"#bd3786\"], [0.5555555555555556, \"#d8576b\"], [0.6666666666666666, \"#ed7953\"], [0.7777777777777778, \"#fb9f3a\"], [0.8888888888888888, \"#fdca26\"], [1.0, \"#f0f921\"]], \"type\": \"heatmap\"}], \"heatmapgl\": [{\"colorbar\": {\"outlinewidth\": 0, \"ticks\": \"\"}, \"colorscale\": [[0.0, \"#0d0887\"], [0.1111111111111111, \"#46039f\"], [0.2222222222222222, \"#7201a8\"], [0.3333333333333333, \"#9c179e\"], [0.4444444444444444, \"#bd3786\"], [0.5555555555555556, \"#d8576b\"], [0.6666666666666666, \"#ed7953\"], [0.7777777777777778, \"#fb9f3a\"], [0.8888888888888888, \"#fdca26\"], [1.0, \"#f0f921\"]], \"type\": \"heatmapgl\"}], \"histogram\": [{\"marker\": {\"colorbar\": {\"outlinewidth\": 0, \"ticks\": \"\"}}, \"type\": \"histogram\"}], \"histogram2d\": [{\"colorbar\": {\"outlinewidth\": 0, \"ticks\": \"\"}, \"colorscale\": [[0.0, \"#0d0887\"], [0.1111111111111111, \"#46039f\"], [0.2222222222222222, \"#7201a8\"], [0.3333333333333333, \"#9c179e\"], [0.4444444444444444, \"#bd3786\"], [0.5555555555555556, \"#d8576b\"], [0.6666666666666666, \"#ed7953\"], [0.7777777777777778, \"#fb9f3a\"], [0.8888888888888888, \"#fdca26\"], [1.0, \"#f0f921\"]], \"type\": \"histogram2d\"}], \"histogram2dcontour\": [{\"colorbar\": {\"outlinewidth\": 0, \"ticks\": \"\"}, \"colorscale\": [[0.0, \"#0d0887\"], [0.1111111111111111, \"#46039f\"], [0.2222222222222222, \"#7201a8\"], [0.3333333333333333, \"#9c179e\"], [0.4444444444444444, \"#bd3786\"], [0.5555555555555556, \"#d8576b\"], [0.6666666666666666, \"#ed7953\"], [0.7777777777777778, \"#fb9f3a\"], [0.8888888888888888, \"#fdca26\"], [1.0, \"#f0f921\"]], \"type\": \"histogram2dcontour\"}], \"mesh3d\": [{\"colorbar\": {\"outlinewidth\": 0, \"ticks\": \"\"}, \"type\": \"mesh3d\"}], \"parcoords\": [{\"line\": {\"colorbar\": {\"outlinewidth\": 0, \"ticks\": \"\"}}, \"type\": \"parcoords\"}], \"pie\": [{\"automargin\": true, \"type\": \"pie\"}], \"scatter\": [{\"marker\": {\"colorbar\": {\"outlinewidth\": 0, \"ticks\": \"\"}}, \"type\": \"scatter\"}], \"scatter3d\": [{\"line\": {\"colorbar\": {\"outlinewidth\": 0, \"ticks\": \"\"}}, \"marker\": {\"colorbar\": {\"outlinewidth\": 0, \"ticks\": \"\"}}, \"type\": \"scatter3d\"}], \"scattercarpet\": [{\"marker\": {\"colorbar\": {\"outlinewidth\": 0, \"ticks\": \"\"}}, \"type\": \"scattercarpet\"}], \"scattergeo\": [{\"marker\": {\"colorbar\": {\"outlinewidth\": 0, \"ticks\": \"\"}}, \"type\": \"scattergeo\"}], \"scattergl\": [{\"marker\": {\"colorbar\": {\"outlinewidth\": 0, \"ticks\": \"\"}}, \"type\": \"scattergl\"}], \"scattermapbox\": [{\"marker\": {\"colorbar\": {\"outlinewidth\": 0, \"ticks\": \"\"}}, \"type\": \"scattermapbox\"}], \"scatterpolar\": [{\"marker\": {\"colorbar\": {\"outlinewidth\": 0, \"ticks\": \"\"}}, \"type\": \"scatterpolar\"}], \"scatterpolargl\": [{\"marker\": {\"colorbar\": {\"outlinewidth\": 0, \"ticks\": \"\"}}, \"type\": \"scatterpolargl\"}], \"scatterternary\": [{\"marker\": {\"colorbar\": {\"outlinewidth\": 0, \"ticks\": \"\"}}, \"type\": \"scatterternary\"}], \"surface\": [{\"colorbar\": {\"outlinewidth\": 0, \"ticks\": \"\"}, \"colorscale\": [[0.0, \"#0d0887\"], [0.1111111111111111, \"#46039f\"], [0.2222222222222222, \"#7201a8\"], [0.3333333333333333, \"#9c179e\"], [0.4444444444444444, \"#bd3786\"], [0.5555555555555556, \"#d8576b\"], [0.6666666666666666, \"#ed7953\"], [0.7777777777777778, \"#fb9f3a\"], [0.8888888888888888, \"#fdca26\"], [1.0, \"#f0f921\"]], \"type\": \"surface\"}], \"table\": [{\"cells\": {\"fill\": {\"color\": \"#EBF0F8\"}, \"line\": {\"color\": \"white\"}}, \"header\": {\"fill\": {\"color\": \"#C8D4E3\"}, \"line\": {\"color\": \"white\"}}, \"type\": \"table\"}]}, \"layout\": {\"annotationdefaults\": {\"arrowcolor\": \"#2a3f5f\", \"arrowhead\": 0, \"arrowwidth\": 1}, \"autotypenumbers\": \"strict\", \"coloraxis\": {\"colorbar\": {\"outlinewidth\": 0, \"ticks\": \"\"}}, \"colorscale\": {\"diverging\": [[0, \"#8e0152\"], [0.1, \"#c51b7d\"], [0.2, \"#de77ae\"], [0.3, \"#f1b6da\"], [0.4, \"#fde0ef\"], [0.5, \"#f7f7f7\"], [0.6, \"#e6f5d0\"], [0.7, \"#b8e186\"], [0.8, \"#7fbc41\"], [0.9, \"#4d9221\"], [1, \"#276419\"]], \"sequential\": [[0.0, \"#0d0887\"], [0.1111111111111111, \"#46039f\"], [0.2222222222222222, \"#7201a8\"], [0.3333333333333333, \"#9c179e\"], [0.4444444444444444, \"#bd3786\"], [0.5555555555555556, \"#d8576b\"], [0.6666666666666666, \"#ed7953\"], [0.7777777777777778, \"#fb9f3a\"], [0.8888888888888888, \"#fdca26\"], [1.0, \"#f0f921\"]], \"sequentialminus\": [[0.0, \"#0d0887\"], [0.1111111111111111, \"#46039f\"], [0.2222222222222222, \"#7201a8\"], [0.3333333333333333, \"#9c179e\"], [0.4444444444444444, \"#bd3786\"], [0.5555555555555556, \"#d8576b\"], [0.6666666666666666, \"#ed7953\"], [0.7777777777777778, \"#fb9f3a\"], [0.8888888888888888, \"#fdca26\"], [1.0, \"#f0f921\"]]}, \"colorway\": [\"#636efa\", \"#EF553B\", \"#00cc96\", \"#ab63fa\", \"#FFA15A\", \"#19d3f3\", \"#FF6692\", \"#B6E880\", \"#FF97FF\", \"#FECB52\"], \"font\": {\"color\": \"#2a3f5f\"}, \"geo\": {\"bgcolor\": \"white\", \"lakecolor\": \"white\", \"landcolor\": \"white\", \"showlakes\": true, \"showland\": true, \"subunitcolor\": \"#C8D4E3\"}, \"hoverlabel\": {\"align\": \"left\"}, \"hovermode\": \"closest\", \"mapbox\": {\"style\": \"light\"}, \"paper_bgcolor\": \"white\", \"plot_bgcolor\": \"white\", \"polar\": {\"angularaxis\": {\"gridcolor\": \"#EBF0F8\", \"linecolor\": \"#EBF0F8\", \"ticks\": \"\"}, \"bgcolor\": \"white\", \"radialaxis\": {\"gridcolor\": \"#EBF0F8\", \"linecolor\": \"#EBF0F8\", \"ticks\": \"\"}}, \"scene\": {\"xaxis\": {\"backgroundcolor\": \"white\", \"gridcolor\": \"#DFE8F3\", \"gridwidth\": 2, \"linecolor\": \"#EBF0F8\", \"showbackground\": true, \"ticks\": \"\", \"zerolinecolor\": \"#EBF0F8\"}, \"yaxis\": {\"backgroundcolor\": \"white\", \"gridcolor\": \"#DFE8F3\", \"gridwidth\": 2, \"linecolor\": \"#EBF0F8\", \"showbackground\": true, \"ticks\": \"\", \"zerolinecolor\": \"#EBF0F8\"}, \"zaxis\": {\"backgroundcolor\": \"white\", \"gridcolor\": \"#DFE8F3\", \"gridwidth\": 2, \"linecolor\": \"#EBF0F8\", \"showbackground\": true, \"ticks\": \"\", \"zerolinecolor\": \"#EBF0F8\"}}, \"shapedefaults\": {\"line\": {\"color\": \"#2a3f5f\"}}, \"ternary\": {\"aaxis\": {\"gridcolor\": \"#DFE8F3\", \"linecolor\": \"#A2B1C6\", \"ticks\": \"\"}, \"baxis\": {\"gridcolor\": \"#DFE8F3\", \"linecolor\": \"#A2B1C6\", \"ticks\": \"\"}, \"bgcolor\": \"white\", \"caxis\": {\"gridcolor\": \"#DFE8F3\", \"linecolor\": \"#A2B1C6\", \"ticks\": \"\"}}, \"title\": {\"x\": 0.05}, \"xaxis\": {\"automargin\": true, \"gridcolor\": \"#EBF0F8\", \"linecolor\": \"#EBF0F8\", \"ticks\": \"\", \"title\": {\"standoff\": 15}, \"zerolinecolor\": \"#EBF0F8\", \"zerolinewidth\": 2}, \"yaxis\": {\"automargin\": true, \"gridcolor\": \"#EBF0F8\", \"linecolor\": \"#EBF0F8\", \"ticks\": \"\", \"title\": {\"standoff\": 15}, \"zerolinecolor\": \"#EBF0F8\", \"zerolinewidth\": 2}}}, \"ternary\": {\"aaxis\": {\"title\": {\"text\": \"B\"}}, \"baxis\": {\"title\": {\"text\": \"Cs\"}}, \"caxis\": {\"title\": {\"text\": \"Li\"}}, \"domain\": {\"x\": [0.0, 1.0], \"y\": [0.0, 1.0]}}},                        {\"responsive\": true}                    ).then(function(){\n",
       "                            \n",
       "var gd = document.getElementById('ba74e2a6-986d-4994-89b7-416f0ca87db8');\n",
       "var x = new MutationObserver(function (mutations, observer) {{\n",
       "        var display = window.getComputedStyle(gd).display;\n",
       "        if (!display || display === 'none') {{\n",
       "            console.log([gd, 'removed!']);\n",
       "            Plotly.purge(gd);\n",
       "            observer.disconnect();\n",
       "        }}\n",
       "}});\n",
       "\n",
       "// Listen for the removal of the full notebook cells\n",
       "var notebookContainer = gd.closest('#notebook-container');\n",
       "if (notebookContainer) {{\n",
       "    x.observe(notebookContainer, {childList: true});\n",
       "}}\n",
       "\n",
       "// Listen for the clearing of the current output cell\n",
       "var outputEl = gd.closest('.output');\n",
       "if (outputEl) {{\n",
       "    x.observe(outputEl, {childList: true});\n",
       "}}\n",
       "\n",
       "                        })                };                });            </script>        </div>"
      ]
     },
     "metadata": {},
     "output_type": "display_data"
    }
   ],
   "source": [
    "#normalization function - written by Bram Paredis\n",
    "def normalize(data, total=None):\n",
    "    \"\"\"Normalize data to 100%\"\"\"\n",
    "    if total is None:\n",
    "        total = data.sum(axis=1)\n",
    "    return data.divide(total, axis=0) * 100\n",
    "\n",
    "\n",
    "A = 'B'\n",
    "B = 'Cs'\n",
    "C = 'Li'\n",
    "\n",
    "#define subset within dataset\n",
    "df_subset = df_FI.loc[:, [A, B, C]]\n",
    "\n",
    "#normalize subset using function defined above\n",
    "df_subset_normalized = normalize(df_subset)\n",
    "#combine calculated data with metadata\n",
    "df_subset_normalized[['sample', 'piece', 'field', 'analysis', 'Host', 'Info','Ti']] = df_data_bdl[['sample', 'piece', 'field', 'analysis', 'Host', 'Info','Ti']]\n",
    "\n",
    "#ternary plot of normalized subset\n",
    "\n",
    "fig2 = px.scatter_ternary(df_subset_normalized, a=A, b=B, c=C,\n",
    "                          hover_data=[\"piece\",'field','analysis',\"Info\"],\n",
    "                          symbol = \"Host\", color=\"Host\",\n",
    "                          template='plotly_white')\n",
    "\n",
    "fig2.update_traces(marker=dict(size=8),\n",
    "                  selector=dict(mode='markers'))\n",
    "\n",
    "# fig2.write_image(base_dir+\"plot_ternary_RbCsLi.pdf\")\n",
    "fig2.show()"
   ]
  },
  {
   "cell_type": "code",
   "execution_count": 89,
   "id": "14b7f589",
   "metadata": {},
   "outputs": [
    {
     "data": {
      "image/png": "[encoded data removed]",
      "text/plain": [
       "<Figure size 3456x1512 with 1 Axes>"
      ]
     },
     "metadata": {},
     "output_type": "display_data"
    }
   ],
   "source": [
    "import seaborn as sns\n",
    "import matplotlib.pyplot as plt\n",
    "\n",
    "df_plot = df_trl.copy()\n",
    "\n",
    "# df_plot = df_aug.query('sample == \"BU18FA19(2)\"')\n",
    "\n",
    "\n",
    "host_list = ['wyllieite', 'trolleite', 'bertossaite', 'augelite', \n",
    "             'brazilianite', 'quartz']\n",
    "\n",
    "elem_list = ['Li', 'B', 'Na', 'Mg',\n",
    "       'Al', 'Si', 'P', 'K', 'Ti', 'Mn', 'Rb',\n",
    "       'Sr', 'Nb', 'Sn', 'Cs', 'Ba', 'Ta', 'W', 'Ca', 'Fe', 'NbTa', 'Nb/Ta',\n",
    "       'Li/Na', 'K/Na', 'Alkalis']\n",
    "\n",
    "fig = plt.figure(figsize =(48, 21))\n",
    "\n",
    "# fig, (ax1, ax2, ax3, ax4) = plt.subplots(1, 4, figsize=(16,5))\n",
    "\n",
    "sns.set_style(\"whitegrid\")\n",
    "\n",
    "\n",
    "# Histogram + kernel density function curve\n",
    "\n",
    "# ax = sns.displot(df_plot, x=\"K%\", hue=\"Host\", multiple='stack', kde=True)#col=\"Host\"\n",
    "# sns.kdeplot(data=df_plot, x=\"K\", hue=\"Host\")\n",
    "\n",
    "\n",
    "\n",
    "\n",
    "# Boxplot + data on top\n",
    "\n",
    "x = df_plot.columns\n",
    "# y = 'B'\n",
    "\n",
    "ax = sns.boxplot(data=df_plot, showfliers = True, order = elem_list)\n",
    "# ax = sns.violinplot(x=x, y=y, data=df_plot, showfliers = False, hue=\"sample\")\n",
    "ax = sns.stripplot(data=df_plot, color=\".0\", order = elem_list, size=12, jitter=True)\n",
    "ax.set(yscale=\"log\")\n",
    "\n",
    "for i,box in enumerate(ax.artists):\n",
    "    box.set_edgecolor('black')\n",
    "    box.set_facecolor('lightgrey')\n",
    "\n",
    "\n",
    "\n",
    "# # Binary distribution map\n",
    "\n",
    "# sns.displot(df_plot, x=\"K%\", y=\"Na%\", hue=\"Host\", kind=\"kde\")\n",
    "\n",
    "\n",
    "\n",
    "\n",
    "# # Binary scatter plot \n",
    "\n",
    "# sns.scatterplot(data=df_plot, x=\"K%\", y=\"Na%\", hue=\"Host\")\n",
    "# ax.set_xlim([0, 12.5])\n",
    "\n",
    "\n",
    "\n",
    "\n",
    "# Mixed plots\n",
    "\n",
    "# plot = sns.jointplot(data=df_plot, x=\"K%\", y=\"B%\", hue=\"Host\")\n",
    "\n",
    "# plot.ax_marg_x.set_xlim(-2.5, 7.5)\n",
    "# ax.set_ylim(0.001, 30000)\n",
    "\n",
    "\n",
    "\n",
    "# Add artistic features to graph\n",
    "plt.title('Trolleite_all', fontsize=48, fontname=\"Arial\",fontweight=\"bold\")\n",
    "plt.xlabel('Elements', fontsize=40)\n",
    "plt.ylabel('Concentration (ug/g)', fontsize=40)\n",
    "\n",
    "\n",
    "plt.xticks(fontsize=36)\n",
    "plt.yticks(fontsize=36)\n",
    "\n",
    "ax.set_ylim(0.000000000001, 100000000)\n",
    "\n",
    "plt.savefig(base_dir+'Boxplot_Trl_all.svg')\n",
    "plt.show()\n",
    "\n",
    "   "
   ]
  },
  {
   "cell_type": "markdown",
   "id": "71fa046f",
   "metadata": {},
   "source": [
    "# Things to do in the code:\n",
    "\n",
    "#### 1. Figure out a way to easily illustrate the processes"
   ]
  },
  {
   "cell_type": "code",
   "execution_count": null,
   "id": "4ca3c31a",
   "metadata": {},
   "outputs": [],
   "source": []
  },
  {
   "cell_type": "code",
   "execution_count": null,
   "id": "c55e3b6b",
   "metadata": {},
   "outputs": [],
   "source": []
  }
 ],
 "metadata": {
  "kernelspec": {
   "display_name": "Python 3",
   "language": "python",
   "name": "python3"
  },
  "language_info": {
   "codemirror_mode": {
    "name": "ipython",
    "version": 3
   },
   "file_extension": ".py",
   "mimetype": "text/x-python",
   "name": "python",
   "nbconvert_exporter": "python",
   "pygments_lexer": "ipython3",
   "version": "3.7.1"
  }
 },
 "nbformat": 4,
 "nbformat_minor": 5
}
