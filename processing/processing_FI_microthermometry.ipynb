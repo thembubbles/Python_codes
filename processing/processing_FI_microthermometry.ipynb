{
 "cells": [
  {
   "cell_type": "code",
   "execution_count": 5,
   "metadata": {},
   "outputs": [],
   "source": [
    "# ---------------- processing fluid inclusion data (microthermometry + Raman spectroscopy)\n",
    "\n",
    "\n",
    "# --- import modules\n",
    "\n",
    "import os\n",
    "import pandas as pd\n",
    "import numpy as np\n",
    "import matplotlib.pyplot as plt\n",
    "from matplotlib.ticker import (MultipleLocator, AutoMinorLocator)\n",
    "import plotly.express as px\n",
    "\n",
    "# --- set working directories\n",
    "\n",
    "\n",
    "# base_dir = input(\"pick a folder : \")\n",
    "\n",
    "base_dir = \".DATA/Microthermometry/\""
   ]
  },
  {
   "cell_type": "code",
   "execution_count": 6,
   "metadata": {
    "scrolled": true
   },
   "outputs": [
    {
     "name": "stdout",
     "output_type": "stream",
     "text": [
      "Index(['Date', 'sample', 'piece', 'field', 'Host', 'analysis', 'Length',\n",
      "       'Width', 'Phases', 'VL (%)', 'VV (%)', 'V2 (%)', 'Vb', 'Tm CO2', 'Te',\n",
      "       'Tm Hh', 'Tm H2O', 'Tm CL', 'Th CO2', 'Tm Xts', 'Th total', 'Hmg Mode',\n",
      "       'Type', 'Color', 'Symbol'],\n",
      "      dtype='object')\n"
     ]
    },
    {
     "data": {
      "text/html": [
       "<div>\n",
       "<style scoped>\n",
       "    .dataframe tbody tr th:only-of-type {\n",
       "        vertical-align: middle;\n",
       "    }\n",
       "\n",
       "    .dataframe tbody tr th {\n",
       "        vertical-align: top;\n",
       "    }\n",
       "\n",
       "    .dataframe thead th {\n",
       "        text-align: right;\n",
       "    }\n",
       "</style>\n",
       "<table border=\"1\" class=\"dataframe\">\n",
       "  <thead>\n",
       "    <tr style=\"text-align: right;\">\n",
       "      <th></th>\n",
       "      <th>Date</th>\n",
       "      <th>sample</th>\n",
       "      <th>piece</th>\n",
       "      <th>field</th>\n",
       "      <th>Host</th>\n",
       "      <th>analysis</th>\n",
       "      <th>Length</th>\n",
       "      <th>Width</th>\n",
       "      <th>Phases</th>\n",
       "      <th>VL (%)</th>\n",
       "      <th>...</th>\n",
       "      <th>Tm Hh</th>\n",
       "      <th>Tm H2O</th>\n",
       "      <th>Tm CL</th>\n",
       "      <th>Th CO2</th>\n",
       "      <th>Tm Xts</th>\n",
       "      <th>Th total</th>\n",
       "      <th>Hmg Mode</th>\n",
       "      <th>Type</th>\n",
       "      <th>Color</th>\n",
       "      <th>Symbol</th>\n",
       "    </tr>\n",
       "  </thead>\n",
       "  <tbody>\n",
       "    <tr>\n",
       "      <th>1</th>\n",
       "      <td>11/02/2019</td>\n",
       "      <td>BU18FA22</td>\n",
       "      <td>A</td>\n",
       "      <td>FF1</td>\n",
       "      <td>quartz</td>\n",
       "      <td>1</td>\n",
       "      <td>9.1</td>\n",
       "      <td>7.4</td>\n",
       "      <td>L - V</td>\n",
       "      <td>75.0</td>\n",
       "      <td>...</td>\n",
       "      <td>NaN</td>\n",
       "      <td>NaN</td>\n",
       "      <td>NaN</td>\n",
       "      <td>NaN</td>\n",
       "      <td>NaN</td>\n",
       "      <td>NaN</td>\n",
       "      <td>NaN</td>\n",
       "      <td>NaN</td>\n",
       "      <td>grey</td>\n",
       "      <td>circle</td>\n",
       "    </tr>\n",
       "    <tr>\n",
       "      <th>2</th>\n",
       "      <td>11/02/2019</td>\n",
       "      <td>BU18FA22</td>\n",
       "      <td>A</td>\n",
       "      <td>FF1</td>\n",
       "      <td>quartz</td>\n",
       "      <td>2</td>\n",
       "      <td>9.8</td>\n",
       "      <td>7.8</td>\n",
       "      <td>L - V</td>\n",
       "      <td>72.0</td>\n",
       "      <td>...</td>\n",
       "      <td>NaN</td>\n",
       "      <td>NaN</td>\n",
       "      <td>NaN</td>\n",
       "      <td>NaN</td>\n",
       "      <td>NaN</td>\n",
       "      <td>NaN</td>\n",
       "      <td>NaN</td>\n",
       "      <td>NaN</td>\n",
       "      <td>grey</td>\n",
       "      <td>circle</td>\n",
       "    </tr>\n",
       "    <tr>\n",
       "      <th>3</th>\n",
       "      <td>20/02/2019</td>\n",
       "      <td>BU18FA22</td>\n",
       "      <td>A</td>\n",
       "      <td>FF2</td>\n",
       "      <td>quartz</td>\n",
       "      <td>1</td>\n",
       "      <td>24.8</td>\n",
       "      <td>13.3</td>\n",
       "      <td>L - V</td>\n",
       "      <td>73.0</td>\n",
       "      <td>...</td>\n",
       "      <td>-25.2</td>\n",
       "      <td>-19.1</td>\n",
       "      <td>0.6</td>\n",
       "      <td>NaN</td>\n",
       "      <td>NaN</td>\n",
       "      <td>NaN</td>\n",
       "      <td>NaN</td>\n",
       "      <td>NaN</td>\n",
       "      <td>grey</td>\n",
       "      <td>circle</td>\n",
       "    </tr>\n",
       "    <tr>\n",
       "      <th>4</th>\n",
       "      <td>11/02/2019</td>\n",
       "      <td>BU18FA22</td>\n",
       "      <td>A</td>\n",
       "      <td>FF2</td>\n",
       "      <td>quartz</td>\n",
       "      <td>2</td>\n",
       "      <td>13.8</td>\n",
       "      <td>8.9</td>\n",
       "      <td>L - V</td>\n",
       "      <td>80.0</td>\n",
       "      <td>...</td>\n",
       "      <td>-25.2</td>\n",
       "      <td>-16.5</td>\n",
       "      <td>NaN</td>\n",
       "      <td>NaN</td>\n",
       "      <td>NaN</td>\n",
       "      <td>NaN</td>\n",
       "      <td>NaN</td>\n",
       "      <td>NaN</td>\n",
       "      <td>grey</td>\n",
       "      <td>circle</td>\n",
       "    </tr>\n",
       "    <tr>\n",
       "      <th>5</th>\n",
       "      <td>11/02/2019</td>\n",
       "      <td>BU18FA22</td>\n",
       "      <td>A</td>\n",
       "      <td>FF2</td>\n",
       "      <td>quartz</td>\n",
       "      <td>3</td>\n",
       "      <td>14.1</td>\n",
       "      <td>10.2</td>\n",
       "      <td>L - V</td>\n",
       "      <td>77.0</td>\n",
       "      <td>...</td>\n",
       "      <td>-27.3</td>\n",
       "      <td>-17.2</td>\n",
       "      <td>0.1</td>\n",
       "      <td>NaN</td>\n",
       "      <td>NaN</td>\n",
       "      <td>NaN</td>\n",
       "      <td>NaN</td>\n",
       "      <td>NaN</td>\n",
       "      <td>grey</td>\n",
       "      <td>circle</td>\n",
       "    </tr>\n",
       "    <tr>\n",
       "      <th>...</th>\n",
       "      <td>...</td>\n",
       "      <td>...</td>\n",
       "      <td>...</td>\n",
       "      <td>...</td>\n",
       "      <td>...</td>\n",
       "      <td>...</td>\n",
       "      <td>...</td>\n",
       "      <td>...</td>\n",
       "      <td>...</td>\n",
       "      <td>...</td>\n",
       "      <td>...</td>\n",
       "      <td>...</td>\n",
       "      <td>...</td>\n",
       "      <td>...</td>\n",
       "      <td>...</td>\n",
       "      <td>...</td>\n",
       "      <td>...</td>\n",
       "      <td>...</td>\n",
       "      <td>...</td>\n",
       "      <td>...</td>\n",
       "      <td>...</td>\n",
       "    </tr>\n",
       "    <tr>\n",
       "      <th>225</th>\n",
       "      <td>18/11/2021</td>\n",
       "      <td>BU18FA32</td>\n",
       "      <td>AII</td>\n",
       "      <td>incC</td>\n",
       "      <td>wyllieite</td>\n",
       "      <td>1</td>\n",
       "      <td>39.6</td>\n",
       "      <td>29.3</td>\n",
       "      <td>L - V - S</td>\n",
       "      <td>79.0</td>\n",
       "      <td>...</td>\n",
       "      <td>-18.8</td>\n",
       "      <td>-13.1</td>\n",
       "      <td>1.6</td>\n",
       "      <td>NaN</td>\n",
       "      <td>NaN</td>\n",
       "      <td>NaN</td>\n",
       "      <td>NaN</td>\n",
       "      <td>NaN</td>\n",
       "      <td>red</td>\n",
       "      <td>square</td>\n",
       "    </tr>\n",
       "    <tr>\n",
       "      <th>226</th>\n",
       "      <td>18/11/2021</td>\n",
       "      <td>BU18FA32</td>\n",
       "      <td>AII</td>\n",
       "      <td>incC</td>\n",
       "      <td>wyllieite</td>\n",
       "      <td>2</td>\n",
       "      <td>18.8</td>\n",
       "      <td>5.6</td>\n",
       "      <td>L - V - S</td>\n",
       "      <td>78.0</td>\n",
       "      <td>...</td>\n",
       "      <td>-21.3</td>\n",
       "      <td>-11.3</td>\n",
       "      <td>1.5</td>\n",
       "      <td>NaN</td>\n",
       "      <td>NaN</td>\n",
       "      <td>NaN</td>\n",
       "      <td>NaN</td>\n",
       "      <td>NaN</td>\n",
       "      <td>red</td>\n",
       "      <td>square</td>\n",
       "    </tr>\n",
       "    <tr>\n",
       "      <th>227</th>\n",
       "      <td>18/11/2021</td>\n",
       "      <td>BU18FA32</td>\n",
       "      <td>AII</td>\n",
       "      <td>incC</td>\n",
       "      <td>wyllieite</td>\n",
       "      <td>3</td>\n",
       "      <td>13.1</td>\n",
       "      <td>10.0</td>\n",
       "      <td>L - V - S</td>\n",
       "      <td>77.0</td>\n",
       "      <td>...</td>\n",
       "      <td>-24.4</td>\n",
       "      <td>-11.3</td>\n",
       "      <td>1.4</td>\n",
       "      <td>NaN</td>\n",
       "      <td>NaN</td>\n",
       "      <td>NaN</td>\n",
       "      <td>NaN</td>\n",
       "      <td>NaN</td>\n",
       "      <td>red</td>\n",
       "      <td>square</td>\n",
       "    </tr>\n",
       "    <tr>\n",
       "      <th>228</th>\n",
       "      <td>18/11/2021</td>\n",
       "      <td>BU18FA32</td>\n",
       "      <td>AII</td>\n",
       "      <td>incC</td>\n",
       "      <td>wyllieite</td>\n",
       "      <td>4</td>\n",
       "      <td>8.4</td>\n",
       "      <td>6.0</td>\n",
       "      <td>L - V - S</td>\n",
       "      <td>76.0</td>\n",
       "      <td>...</td>\n",
       "      <td>-22.3</td>\n",
       "      <td>-13.1</td>\n",
       "      <td>1.5</td>\n",
       "      <td>NaN</td>\n",
       "      <td>NaN</td>\n",
       "      <td>NaN</td>\n",
       "      <td>NaN</td>\n",
       "      <td>NaN</td>\n",
       "      <td>red</td>\n",
       "      <td>square</td>\n",
       "    </tr>\n",
       "    <tr>\n",
       "      <th>229</th>\n",
       "      <td>18/11/2021</td>\n",
       "      <td>BU18FA32</td>\n",
       "      <td>AII</td>\n",
       "      <td>incC</td>\n",
       "      <td>wyllieite</td>\n",
       "      <td>5</td>\n",
       "      <td>22.2</td>\n",
       "      <td>8.7</td>\n",
       "      <td>L - V - S</td>\n",
       "      <td>78.0</td>\n",
       "      <td>...</td>\n",
       "      <td>-17.2</td>\n",
       "      <td>-10.7</td>\n",
       "      <td>1.4</td>\n",
       "      <td>NaN</td>\n",
       "      <td>NaN</td>\n",
       "      <td>NaN</td>\n",
       "      <td>NaN</td>\n",
       "      <td>NaN</td>\n",
       "      <td>red</td>\n",
       "      <td>square</td>\n",
       "    </tr>\n",
       "  </tbody>\n",
       "</table>\n",
       "<p>229 rows × 25 columns</p>\n",
       "</div>"
      ],
      "text/plain": [
       "           Date    sample piece field       Host analysis  Length  Width  \\\n",
       "1    11/02/2019  BU18FA22     A   FF1     quartz        1     9.1    7.4   \n",
       "2    11/02/2019  BU18FA22     A   FF1     quartz        2     9.8    7.8   \n",
       "3    20/02/2019  BU18FA22     A   FF2     quartz        1    24.8   13.3   \n",
       "4    11/02/2019  BU18FA22     A   FF2     quartz        2    13.8    8.9   \n",
       "5    11/02/2019  BU18FA22     A   FF2     quartz        3    14.1   10.2   \n",
       "..          ...       ...   ...   ...        ...      ...     ...    ...   \n",
       "225  18/11/2021  BU18FA32   AII  incC  wyllieite        1    39.6   29.3   \n",
       "226  18/11/2021  BU18FA32   AII  incC  wyllieite        2    18.8    5.6   \n",
       "227  18/11/2021  BU18FA32   AII  incC  wyllieite        3    13.1   10.0   \n",
       "228  18/11/2021  BU18FA32   AII  incC  wyllieite        4     8.4    6.0   \n",
       "229  18/11/2021  BU18FA32   AII  incC  wyllieite        5    22.2    8.7   \n",
       "\n",
       "        Phases  VL (%)  ...  Tm Hh  Tm H2O  Tm CL  Th CO2  Tm Xts  Th total  \\\n",
       "1        L - V    75.0  ...    NaN     NaN    NaN     NaN     NaN       NaN   \n",
       "2        L - V    72.0  ...    NaN     NaN    NaN     NaN     NaN       NaN   \n",
       "3        L - V    73.0  ...  -25.2   -19.1    0.6     NaN     NaN       NaN   \n",
       "4        L - V    80.0  ...  -25.2   -16.5    NaN     NaN     NaN       NaN   \n",
       "5        L - V    77.0  ...  -27.3   -17.2    0.1     NaN     NaN       NaN   \n",
       "..         ...     ...  ...    ...     ...    ...     ...     ...       ...   \n",
       "225  L - V - S    79.0  ...  -18.8   -13.1    1.6     NaN     NaN       NaN   \n",
       "226  L - V - S    78.0  ...  -21.3   -11.3    1.5     NaN     NaN       NaN   \n",
       "227  L - V - S    77.0  ...  -24.4   -11.3    1.4     NaN     NaN       NaN   \n",
       "228  L - V - S    76.0  ...  -22.3   -13.1    1.5     NaN     NaN       NaN   \n",
       "229  L - V - S    78.0  ...  -17.2   -10.7    1.4     NaN     NaN       NaN   \n",
       "\n",
       "     Hmg Mode  Type  Color  Symbol  \n",
       "1         NaN   NaN   grey  circle  \n",
       "2         NaN   NaN   grey  circle  \n",
       "3         NaN   NaN   grey  circle  \n",
       "4         NaN   NaN   grey  circle  \n",
       "5         NaN   NaN   grey  circle  \n",
       "..        ...   ...    ...     ...  \n",
       "225       NaN   NaN    red  square  \n",
       "226       NaN   NaN    red  square  \n",
       "227       NaN   NaN    red  square  \n",
       "228       NaN   NaN    red  square  \n",
       "229       NaN   NaN    red  square  \n",
       "\n",
       "[229 rows x 25 columns]"
      ]
     },
     "execution_count": 6,
     "metadata": {},
     "output_type": "execute_result"
    }
   ],
   "source": [
    "# --- create dataframe from csv file using pandas import command \n",
    "\n",
    "df_FI = pd.read_csv(base_dir + \"FI_data.csv\", \n",
    "                    encoding = \"ANSI\", \n",
    "                   index_col = 0)\n",
    "\n",
    "\n",
    "# --- add symbology to observations depending on the host phase\n",
    "\n",
    "symbols =  {'augelite' : 'triangle',\n",
    "            'bertossaite' : 'triangle',\n",
    "            'brazilianite' : 'triangle',\n",
    "            'montebrasite-F' : 'square',\n",
    "            'montebrasite-OH' : 'triangle',\n",
    "            'quartz' : 'circle',\n",
    "            'scorzalite' : 'triangle',\n",
    "            'trolleite' : 'square',\n",
    "            'wyllieite' : 'square'}\n",
    "\n",
    "colors = {'augelite' : 'yellow',\n",
    "          'bertossaite' : 'yellow',\n",
    "          'brazilianite' : 'green',\n",
    "          'montebrasite-F' : 'red',\n",
    "          'montebrasite-OH' : 'green',\n",
    "          'quartz' : 'grey',\n",
    "          'scorzalite' : 'green',\n",
    "          'trolleite' : 'orange',\n",
    "          'wyllieite' : 'red'}\n",
    "\n",
    "\n",
    "df_FI['Color'] = df_FI['Host'].map(colors)\n",
    "df_FI['Symbol'] = df_FI['Host'].map(symbols)\n",
    "\n",
    "\n",
    "# --- print the colums of the imported dataframe - can be changed if necessary\n",
    "\n",
    "print(df_FI.columns) \n",
    "\n",
    "\n",
    "df_FI"
   ]
  },
  {
   "cell_type": "code",
   "execution_count": null,
   "metadata": {},
   "outputs": [],
   "source": [
    "# --- calculate ratios of columns in the dataframe\n",
    "\n",
    "# df_FI[\"Na/Li\"] = df_FI['mNaCl (mol/kg)'] / df_FI['mLiCl (mol/kg)']\n",
    "# df_FI[\"Na%\"] = (100 * df_FI['mNaCl (mol/kg)'] * 0.05844) / (1 + (df_FI['mNaCl (mol/kg)'] * 0.05844) + (df_FI['mLiCl (mol/kg)'] * 0.04239))\n",
    "# df_FI[\"Li%\"] = (100 * df_FI['mLiCl (mol/kg)'] * 0.04239) / (1 + (df_FI['mNaCl (mol/kg)'] * 0.05844) + (df_FI['mLiCl (mol/kg)'] * 0.04239))\n",
    "# df_FI[\"Na/Li%\"] = df_FI['Na%'] / df_FI['Li%']\n",
    "# df_FI[\"salinity\"] = df_FI['Na%'] + df_FI['Li%']\n",
    "# df_FI[\"mCl (mol/kg)\"] = (df_FI['mNaCl (mol/kg)'] + df_FI['mLiCl (mol/kg)'])\n",
    "\n",
    "# df_FI[\"N2/CO2\"] = df_FI['XN2']/ df_FI['XCO2']\n",
    "\n",
    "\n",
    "# df_FI[\"NaCl_mol\"] = (df_FI['Bakker/Bodnar']*((100*df_FI['mNaCl(Dubois)']*0.05844)/(1+(df_FI['mNaCl(Dubois)']*0.05844)+(df_FI['mLiCl(Dubois)']*0.04239)))/58.44277)\n",
    "# df_FI[\"LiCl_mol\"] = (df_FI['Bakker/Bodnar']*((100*df_FI['mLiCl(Dubois)']*0.04239)/(1+(df_FI['mNaCl(Dubois)']*0.05844)+(df_FI['mLiCl(Dubois)']*0.04239)))/42.394)\n",
    "# df_FI[\"Li/Na_mol\"] = df_FI['mLiCl(Dubois)']/ df_FI['mNaCl(Dubois)']\n",
    "# df_FI[\"Li/Na_mol2\"] = (df_FI['LiCl%']/42.394)/(df_FI['NaCl%']/58.44277)\n",
    "\n",
    "\n",
    "\n"
   ]
  },
  {
   "cell_type": "code",
   "execution_count": 7,
   "metadata": {},
   "outputs": [
    {
     "name": "stdout",
     "output_type": "stream",
     "text": [
      "Index(['Standard', '3/12/2018', '21/12/2018', '7/01/2019', '11/02/2019',\n",
      "       '20/02/2019', '20/03/2019', '24/04/2019', '26/04/2019', '29/04/2019',\n",
      "       '18/06/2019', '18/07/2019', '8/08/2019', '27/07/2021', '3/08/2021',\n",
      "       '16/08/2021', '13/09/2021', '20/09/2021', '6/10/2021', '13/10/2021',\n",
      "       '21/10/2021', '28/10/2021', '18/11/2021'],\n",
      "      dtype='object')\n",
      "{'3/12/2018': (0.9671329690881035, 0.3056069221278131), '21/12/2018': (0.9852339749915826, 0.17941079576458865), '7/01/2019': (0.9857489242141172, 0.24933280936289848), '11/02/2019': (0.9867935303039075, 0.27437995834056456), '20/02/2019': (0.9974182997665206, 0.09605609313605182), '20/03/2019': (0.9979140579984189, 0.18317340118723674), '24/04/2019': (0.9967522050544694, 0.040900826765451), '26/04/2019': (0.9929733481102493, 0.19296700882819331), '29/04/2019': (0.9960705549729215, 0.06869542128426835), '18/06/2019': (0.9972456111918138, -0.021667858624396606), '18/07/2019': (0.9919475498395687, 0.06891373204989229), '8/08/2019': (0.9859499780701194, 0.30028565168082066), '27/07/2021': (0.9827031038824526, 0.15874201504003116), '3/08/2021': (0.9839238488963381, 0.1031165093936775), '16/08/2021': (0.9965954764495398, 0.056267371107175335), '13/09/2021': (0.9987405973550307, -0.009907300807093514), '20/09/2021': (0.9993583218268011, -0.021703840326278263), '6/10/2021': (0.9906181776567524, 0.12431996643114211), '13/10/2021': (0.9963179640611926, 0.0042452494167537595), '21/10/2021': (0.9945164449350589, 0.07288961873155424), '28/10/2021': (0.9962060625843879, 0.03656809650280575), '18/11/2021': (0.98991984223381, 0.08568939927827281)}\n"
     ]
    },
    {
     "data": {
      "text/html": [
       "<div>\n",
       "<style scoped>\n",
       "    .dataframe tbody tr th:only-of-type {\n",
       "        vertical-align: middle;\n",
       "    }\n",
       "\n",
       "    .dataframe tbody tr th {\n",
       "        vertical-align: top;\n",
       "    }\n",
       "\n",
       "    .dataframe thead th {\n",
       "        text-align: right;\n",
       "    }\n",
       "</style>\n",
       "<table border=\"1\" class=\"dataframe\">\n",
       "  <thead>\n",
       "    <tr style=\"text-align: right;\">\n",
       "      <th></th>\n",
       "      <th>Standard</th>\n",
       "      <th>3/12/2018</th>\n",
       "      <th>21/12/2018</th>\n",
       "      <th>7/01/2019</th>\n",
       "      <th>11/02/2019</th>\n",
       "      <th>20/02/2019</th>\n",
       "      <th>20/03/2019</th>\n",
       "      <th>24/04/2019</th>\n",
       "      <th>26/04/2019</th>\n",
       "      <th>29/04/2019</th>\n",
       "      <th>...</th>\n",
       "      <th>27/07/2021</th>\n",
       "      <th>3/08/2021</th>\n",
       "      <th>16/08/2021</th>\n",
       "      <th>13/09/2021</th>\n",
       "      <th>20/09/2021</th>\n",
       "      <th>6/10/2021</th>\n",
       "      <th>13/10/2021</th>\n",
       "      <th>21/10/2021</th>\n",
       "      <th>28/10/2021</th>\n",
       "      <th>18/11/2021</th>\n",
       "    </tr>\n",
       "  </thead>\n",
       "  <tbody>\n",
       "    <tr>\n",
       "      <th>CO2 melting</th>\n",
       "      <td>-56.6</td>\n",
       "      <td>-59.2</td>\n",
       "      <td>-57.6</td>\n",
       "      <td>-57.8</td>\n",
       "      <td>-57.6</td>\n",
       "      <td>-56.9</td>\n",
       "      <td>-57.0</td>\n",
       "      <td>-56.8</td>\n",
       "      <td>-57.1</td>\n",
       "      <td>-56.9</td>\n",
       "      <td>...</td>\n",
       "      <td>-58.1</td>\n",
       "      <td>-58.0</td>\n",
       "      <td>-56.9</td>\n",
       "      <td>-56.7</td>\n",
       "      <td>-56.6</td>\n",
       "      <td>-57.4</td>\n",
       "      <td>-56.9</td>\n",
       "      <td>-57.0</td>\n",
       "      <td>-56.9</td>\n",
       "      <td>-57.5</td>\n",
       "    </tr>\n",
       "    <tr>\n",
       "      <th>CL melting</th>\n",
       "      <td>10.0</td>\n",
       "      <td>10.0</td>\n",
       "      <td>10.0</td>\n",
       "      <td>10.0</td>\n",
       "      <td>10.0</td>\n",
       "      <td>10.1</td>\n",
       "      <td>10.2</td>\n",
       "      <td>10.1</td>\n",
       "      <td>10.2</td>\n",
       "      <td>10.1</td>\n",
       "      <td>...</td>\n",
       "      <td>10.1</td>\n",
       "      <td>10.0</td>\n",
       "      <td>10.1</td>\n",
       "      <td>10.1</td>\n",
       "      <td>10.1</td>\n",
       "      <td>10.1</td>\n",
       "      <td>10.1</td>\n",
       "      <td>10.1</td>\n",
       "      <td>10.1</td>\n",
       "      <td>10.0</td>\n",
       "    </tr>\n",
       "    <tr>\n",
       "      <th>CO2 homog</th>\n",
       "      <td>31.1</td>\n",
       "      <td>31.5</td>\n",
       "      <td>31.3</td>\n",
       "      <td>31.1</td>\n",
       "      <td>31.2</td>\n",
       "      <td>31.0</td>\n",
       "      <td>30.7</td>\n",
       "      <td>31.1</td>\n",
       "      <td>31.1</td>\n",
       "      <td>31.1</td>\n",
       "      <td>...</td>\n",
       "      <td>31.2</td>\n",
       "      <td>31.2</td>\n",
       "      <td>31.0</td>\n",
       "      <td>31.1</td>\n",
       "      <td>31.1</td>\n",
       "      <td>31.1</td>\n",
       "      <td>31.1</td>\n",
       "      <td>31.1</td>\n",
       "      <td>31.1</td>\n",
       "      <td>31.1</td>\n",
       "    </tr>\n",
       "    <tr>\n",
       "      <th>H2O-NaCl melting</th>\n",
       "      <td>-21.2</td>\n",
       "      <td>-21.9</td>\n",
       "      <td>-22.0</td>\n",
       "      <td>-21.6</td>\n",
       "      <td>-21.7</td>\n",
       "      <td>-21.2</td>\n",
       "      <td>-21.4</td>\n",
       "      <td>-21.3</td>\n",
       "      <td>-21.4</td>\n",
       "      <td>-21.2</td>\n",
       "      <td>...</td>\n",
       "      <td>-21.2</td>\n",
       "      <td>-21.2</td>\n",
       "      <td>-21.4</td>\n",
       "      <td>-21.1</td>\n",
       "      <td>-21.2</td>\n",
       "      <td>-21.3</td>\n",
       "      <td>-21.1</td>\n",
       "      <td>-21.3</td>\n",
       "      <td>-21.2</td>\n",
       "      <td>-21.2</td>\n",
       "    </tr>\n",
       "    <tr>\n",
       "      <th>KCl melting</th>\n",
       "      <td>-10.5</td>\n",
       "      <td>-10.9</td>\n",
       "      <td>-10.6</td>\n",
       "      <td>-11.0</td>\n",
       "      <td>-11.2</td>\n",
       "      <td>-10.7</td>\n",
       "      <td>-10.7</td>\n",
       "      <td>-10.8</td>\n",
       "      <td>-11.3</td>\n",
       "      <td>-10.9</td>\n",
       "      <td>...</td>\n",
       "      <td>-10.8</td>\n",
       "      <td>-10.6</td>\n",
       "      <td>-10.5</td>\n",
       "      <td>-10.6</td>\n",
       "      <td>-10.6</td>\n",
       "      <td>-10.8</td>\n",
       "      <td>-10.7</td>\n",
       "      <td>-10.9</td>\n",
       "      <td>-10.7</td>\n",
       "      <td>-10.7</td>\n",
       "    </tr>\n",
       "    <tr>\n",
       "      <th>H2O melting</th>\n",
       "      <td>0.0</td>\n",
       "      <td>-0.2</td>\n",
       "      <td>-0.1</td>\n",
       "      <td>-0.1</td>\n",
       "      <td>-0.2</td>\n",
       "      <td>-0.2</td>\n",
       "      <td>-0.2</td>\n",
       "      <td>0.1</td>\n",
       "      <td>-0.2</td>\n",
       "      <td>0.0</td>\n",
       "      <td>...</td>\n",
       "      <td>-0.2</td>\n",
       "      <td>0.0</td>\n",
       "      <td>0.0</td>\n",
       "      <td>0.0</td>\n",
       "      <td>0.1</td>\n",
       "      <td>-0.1</td>\n",
       "      <td>0.1</td>\n",
       "      <td>0.1</td>\n",
       "      <td>0.0</td>\n",
       "      <td>0.1</td>\n",
       "    </tr>\n",
       "  </tbody>\n",
       "</table>\n",
       "<p>6 rows × 23 columns</p>\n",
       "</div>"
      ],
      "text/plain": [
       "                  Standard  3/12/2018  21/12/2018  7/01/2019  11/02/2019  \\\n",
       "CO2 melting          -56.6      -59.2       -57.6      -57.8       -57.6   \n",
       "CL melting            10.0       10.0        10.0       10.0        10.0   \n",
       "CO2 homog             31.1       31.5        31.3       31.1        31.2   \n",
       "H2O-NaCl melting     -21.2      -21.9       -22.0      -21.6       -21.7   \n",
       "KCl melting          -10.5      -10.9       -10.6      -11.0       -11.2   \n",
       "H2O melting            0.0       -0.2        -0.1       -0.1        -0.2   \n",
       "\n",
       "                  20/02/2019  20/03/2019  24/04/2019  26/04/2019  29/04/2019  \\\n",
       "CO2 melting            -56.9       -57.0       -56.8       -57.1       -56.9   \n",
       "CL melting              10.1        10.2        10.1        10.2        10.1   \n",
       "CO2 homog               31.0        30.7        31.1        31.1        31.1   \n",
       "H2O-NaCl melting       -21.2       -21.4       -21.3       -21.4       -21.2   \n",
       "KCl melting            -10.7       -10.7       -10.8       -11.3       -10.9   \n",
       "H2O melting             -0.2        -0.2         0.1        -0.2         0.0   \n",
       "\n",
       "                  ...  27/07/2021  3/08/2021  16/08/2021  13/09/2021  \\\n",
       "CO2 melting       ...       -58.1      -58.0       -56.9       -56.7   \n",
       "CL melting        ...        10.1       10.0        10.1        10.1   \n",
       "CO2 homog         ...        31.2       31.2        31.0        31.1   \n",
       "H2O-NaCl melting  ...       -21.2      -21.2       -21.4       -21.1   \n",
       "KCl melting       ...       -10.8      -10.6       -10.5       -10.6   \n",
       "H2O melting       ...        -0.2        0.0         0.0         0.0   \n",
       "\n",
       "                  20/09/2021  6/10/2021  13/10/2021  21/10/2021  28/10/2021  \\\n",
       "CO2 melting            -56.6      -57.4       -56.9       -57.0       -56.9   \n",
       "CL melting              10.1       10.1        10.1        10.1        10.1   \n",
       "CO2 homog               31.1       31.1        31.1        31.1        31.1   \n",
       "H2O-NaCl melting       -21.2      -21.3       -21.1       -21.3       -21.2   \n",
       "KCl melting            -10.6      -10.8       -10.7       -10.9       -10.7   \n",
       "H2O melting              0.1       -0.1         0.1         0.1         0.0   \n",
       "\n",
       "                  18/11/2021  \n",
       "CO2 melting            -57.5  \n",
       "CL melting              10.0  \n",
       "CO2 homog               31.1  \n",
       "H2O-NaCl melting       -21.2  \n",
       "KCl melting            -10.7  \n",
       "H2O melting              0.1  \n",
       "\n",
       "[6 rows x 23 columns]"
      ]
     },
     "execution_count": 7,
     "metadata": {},
     "output_type": "execute_result"
    }
   ],
   "source": [
    "# --- create standard dataframe from csv \n",
    "\n",
    "df_std = pd.read_csv(base_dir + \"FI_standards.csv\", \n",
    "                    encoding = \"ANSI\",index_col=0, header=0).T\n",
    "\n",
    "print(df_std.columns)\n",
    "\n",
    "\n",
    "a = list(df_std.columns[1:]) #list with each entry date (column names) in the dataset\n",
    "y = list(df_std[\"Standard\"]) #list with expected values for the standards\n",
    "\n",
    "calibration_dict = dict()\n",
    "\n",
    "    # -- plot measured data against the expected values from the fluid inclusion standards\n",
    "\n",
    "for item in range(len(df_std.columns[1:])):  # loop to plot measurements for each entry date\n",
    "\n",
    "    x = list(df_std[a[item]]) #list with measured values for the current entry date\n",
    "    \n",
    "        # - here the data are fitted by a linear model to obtain the correction equation\n",
    "        \n",
    "    z = np.polyfit(x, y, 1)\n",
    "    p = np.poly1d(z)\n",
    "            \n",
    "        # - create a dictionary with the correction equation values\n",
    "    calibration_dict[a[item]] = (z[0],z[1])\n",
    "    \n",
    "#     print(calibration_dict[a[item]],'\\n',z[0],z[1],'\\n')\n",
    "    \n",
    "#     df_std['z0'] = z[0]\n",
    "#     df_std['z1'] = z[1]\n",
    "\n",
    "\n",
    "print(calibration_dict)\n",
    "\n",
    "df_std"
   ]
  },
  {
   "cell_type": "code",
   "execution_count": null,
   "metadata": {},
   "outputs": [],
   "source": [
    "# --- plot standard data to obtain correction values\n",
    "\n",
    "a = list(df_std.columns[1:]) #list with each entry date (column names) in the dataset\n",
    "y = list(df_std[\"Standard\"]) #list with expected values for the standards\n",
    "\n",
    "calibration_dict = dict()\n",
    "\n",
    "    # -- plot measured data against the expected values from the fluid inclusion standards\n",
    "\n",
    "fig, ax = plt.subplots(figsize=(10,10))\n",
    "\n",
    "for item in range(len(df_std.columns[1:])):  # loop to plot measurements for each entry date\n",
    "\n",
    "    x = list(df_std[a[item]]) #list with measured values for the current entry date\n",
    "    \n",
    "        # - here the data are fitted by a linear model to obtain the correction equation\n",
    "        \n",
    "    z = np.polyfit(x, y, 1)\n",
    "    p = np.poly1d(z)\n",
    "    \n",
    "    plt.plot(x,p(x),\"-\") #plot fitted line\n",
    "    plt.plot(x,y,'o', label=a[item]+\"\\n y=%.4fx+%.4f\"%(z[0],z[1]), alpha=1)    #plot standards data with entry date fitted equation in the legend\n",
    "    \n",
    "             \n",
    "        # - create a dictionary with the correction equation values\n",
    "    calibration_dict[a[item]] = (z[0],z[1])\n",
    "    \n",
    "        \n",
    "print(calibration_dict)   \n",
    "\n",
    "    # -- adjust plot parameters\n",
    "\n",
    "plt.legend(loc=(1.04,0),fontsize=11)\n",
    "\n",
    "    \n",
    "plt.xlabel(\"measured values ($^{o}C$)\",fontsize=20)\n",
    "plt.xlim([-60,35])\n",
    "plt.ylabel(\"expected values ($^{o}C$)\",fontsize=20)\n",
    "plt.ylim([-60,35])\n",
    "\n",
    "ax.xaxis.set_minor_locator(MultipleLocator(5))\n",
    "ax.yaxis.set_minor_locator(AutoMinorLocator())\n",
    "\n",
    "ax.tick_params(axis='both', which='major',labelsize=20,direction='in',width=1.5,length=8)\n",
    "ax.tick_params(axis='both', which='minor',direction='in',width=1,length=4)\n",
    "\n",
    "plt.title(\"Calibration curves for microthermometric data\",horizontalalignment='center',fontsize=22)\n",
    "\n",
    "\n",
    "\n",
    "#fig.write_image(\"FI_N2-Co2_vs_Li-Na_mass.pdf\")\n",
    "\n",
    "plt.show()\n"
   ]
  },
  {
   "cell_type": "code",
   "execution_count": 8,
   "metadata": {},
   "outputs": [
    {
     "data": {
      "text/html": [
       "<div>\n",
       "<style scoped>\n",
       "    .dataframe tbody tr th:only-of-type {\n",
       "        vertical-align: middle;\n",
       "    }\n",
       "\n",
       "    .dataframe tbody tr th {\n",
       "        vertical-align: top;\n",
       "    }\n",
       "\n",
       "    .dataframe thead th {\n",
       "        text-align: right;\n",
       "    }\n",
       "</style>\n",
       "<table border=\"1\" class=\"dataframe\">\n",
       "  <thead>\n",
       "    <tr style=\"text-align: right;\">\n",
       "      <th></th>\n",
       "      <th>sample</th>\n",
       "      <th>piece</th>\n",
       "      <th>field</th>\n",
       "      <th>analysis</th>\n",
       "      <th>Host</th>\n",
       "      <th>Length</th>\n",
       "      <th>Width</th>\n",
       "      <th>Phases</th>\n",
       "      <th>VL (%)</th>\n",
       "      <th>Tm CO2</th>\n",
       "      <th>...</th>\n",
       "      <th>Tm Hh</th>\n",
       "      <th>Tm H2O</th>\n",
       "      <th>Tm CL</th>\n",
       "      <th>Th CO2</th>\n",
       "      <th>Hmg Mode</th>\n",
       "      <th>Type</th>\n",
       "      <th>Color</th>\n",
       "      <th>Symbol</th>\n",
       "      <th>salinity(NaCleq wt%)</th>\n",
       "      <th>salBod(NaCleq%)</th>\n",
       "    </tr>\n",
       "  </thead>\n",
       "  <tbody>\n",
       "    <tr>\n",
       "      <th>1</th>\n",
       "      <td>BU18FA22</td>\n",
       "      <td>A</td>\n",
       "      <td>FF1</td>\n",
       "      <td>1</td>\n",
       "      <td>quartz</td>\n",
       "      <td>9.1</td>\n",
       "      <td>7.4</td>\n",
       "      <td>L - V</td>\n",
       "      <td>75.0</td>\n",
       "      <td>-57.453042</td>\n",
       "      <td>...</td>\n",
       "      <td>NaN</td>\n",
       "      <td>NaN</td>\n",
       "      <td>NaN</td>\n",
       "      <td>NaN</td>\n",
       "      <td>NaN</td>\n",
       "      <td>NaN</td>\n",
       "      <td>grey</td>\n",
       "      <td>circle</td>\n",
       "      <td>NaN</td>\n",
       "      <td>NaN</td>\n",
       "    </tr>\n",
       "    <tr>\n",
       "      <th>2</th>\n",
       "      <td>BU18FA22</td>\n",
       "      <td>A</td>\n",
       "      <td>FF1</td>\n",
       "      <td>2</td>\n",
       "      <td>quartz</td>\n",
       "      <td>9.8</td>\n",
       "      <td>7.8</td>\n",
       "      <td>L - V</td>\n",
       "      <td>72.0</td>\n",
       "      <td>NaN</td>\n",
       "      <td>...</td>\n",
       "      <td>NaN</td>\n",
       "      <td>NaN</td>\n",
       "      <td>NaN</td>\n",
       "      <td>NaN</td>\n",
       "      <td>NaN</td>\n",
       "      <td>NaN</td>\n",
       "      <td>grey</td>\n",
       "      <td>circle</td>\n",
       "      <td>NaN</td>\n",
       "      <td>NaN</td>\n",
       "    </tr>\n",
       "    <tr>\n",
       "      <th>3</th>\n",
       "      <td>BU18FA22</td>\n",
       "      <td>A</td>\n",
       "      <td>FF2</td>\n",
       "      <td>1</td>\n",
       "      <td>quartz</td>\n",
       "      <td>24.8</td>\n",
       "      <td>13.3</td>\n",
       "      <td>L - V</td>\n",
       "      <td>73.0</td>\n",
       "      <td>-61.943362</td>\n",
       "      <td>...</td>\n",
       "      <td>-25.038885</td>\n",
       "      <td>-18.954633</td>\n",
       "      <td>0.694507</td>\n",
       "      <td>NaN</td>\n",
       "      <td>NaN</td>\n",
       "      <td>NaN</td>\n",
       "      <td>grey</td>\n",
       "      <td>circle</td>\n",
       "      <td>14.816611</td>\n",
       "      <td>21.652316</td>\n",
       "    </tr>\n",
       "    <tr>\n",
       "      <th>4</th>\n",
       "      <td>BU18FA22</td>\n",
       "      <td>A</td>\n",
       "      <td>FF2</td>\n",
       "      <td>2</td>\n",
       "      <td>quartz</td>\n",
       "      <td>13.8</td>\n",
       "      <td>8.9</td>\n",
       "      <td>L - V</td>\n",
       "      <td>80.0</td>\n",
       "      <td>NaN</td>\n",
       "      <td>...</td>\n",
       "      <td>-24.592817</td>\n",
       "      <td>-16.007713</td>\n",
       "      <td>NaN</td>\n",
       "      <td>NaN</td>\n",
       "      <td>NaN</td>\n",
       "      <td>NaN</td>\n",
       "      <td>grey</td>\n",
       "      <td>circle</td>\n",
       "      <td>NaN</td>\n",
       "      <td>19.452391</td>\n",
       "    </tr>\n",
       "    <tr>\n",
       "      <th>5</th>\n",
       "      <td>BU18FA22</td>\n",
       "      <td>A</td>\n",
       "      <td>FF2</td>\n",
       "      <td>3</td>\n",
       "      <td>quartz</td>\n",
       "      <td>14.1</td>\n",
       "      <td>10.2</td>\n",
       "      <td>L - V</td>\n",
       "      <td>77.0</td>\n",
       "      <td>-57.6504</td>\n",
       "      <td>...</td>\n",
       "      <td>-26.665083</td>\n",
       "      <td>-16.698469</td>\n",
       "      <td>0.373059</td>\n",
       "      <td>NaN</td>\n",
       "      <td>NaN</td>\n",
       "      <td>NaN</td>\n",
       "      <td>grey</td>\n",
       "      <td>circle</td>\n",
       "      <td>15.187212</td>\n",
       "      <td>19.99209</td>\n",
       "    </tr>\n",
       "    <tr>\n",
       "      <th>...</th>\n",
       "      <td>...</td>\n",
       "      <td>...</td>\n",
       "      <td>...</td>\n",
       "      <td>...</td>\n",
       "      <td>...</td>\n",
       "      <td>...</td>\n",
       "      <td>...</td>\n",
       "      <td>...</td>\n",
       "      <td>...</td>\n",
       "      <td>...</td>\n",
       "      <td>...</td>\n",
       "      <td>...</td>\n",
       "      <td>...</td>\n",
       "      <td>...</td>\n",
       "      <td>...</td>\n",
       "      <td>...</td>\n",
       "      <td>...</td>\n",
       "      <td>...</td>\n",
       "      <td>...</td>\n",
       "      <td>...</td>\n",
       "      <td>...</td>\n",
       "    </tr>\n",
       "    <tr>\n",
       "      <th>225</th>\n",
       "      <td>BU18FA32</td>\n",
       "      <td>AII</td>\n",
       "      <td>incC</td>\n",
       "      <td>1</td>\n",
       "      <td>wyllieite</td>\n",
       "      <td>39.6</td>\n",
       "      <td>29.3</td>\n",
       "      <td>L - V - S</td>\n",
       "      <td>79.0</td>\n",
       "      <td>NaN</td>\n",
       "      <td>...</td>\n",
       "      <td>-18.524804</td>\n",
       "      <td>-12.882261</td>\n",
       "      <td>1.669561</td>\n",
       "      <td>NaN</td>\n",
       "      <td>NaN</td>\n",
       "      <td>NaN</td>\n",
       "      <td>red</td>\n",
       "      <td>square</td>\n",
       "      <td>13.645113</td>\n",
       "      <td>16.786097</td>\n",
       "    </tr>\n",
       "    <tr>\n",
       "      <th>226</th>\n",
       "      <td>BU18FA32</td>\n",
       "      <td>AII</td>\n",
       "      <td>incC</td>\n",
       "      <td>2</td>\n",
       "      <td>wyllieite</td>\n",
       "      <td>18.8</td>\n",
       "      <td>5.6</td>\n",
       "      <td>L - V - S</td>\n",
       "      <td>78.0</td>\n",
       "      <td>NaN</td>\n",
       "      <td>...</td>\n",
       "      <td>-20.999603</td>\n",
       "      <td>-11.100405</td>\n",
       "      <td>1.570569</td>\n",
       "      <td>NaN</td>\n",
       "      <td>NaN</td>\n",
       "      <td>NaN</td>\n",
       "      <td>red</td>\n",
       "      <td>square</td>\n",
       "      <td>13.767399</td>\n",
       "      <td>15.074295</td>\n",
       "    </tr>\n",
       "    <tr>\n",
       "      <th>227</th>\n",
       "      <td>BU18FA32</td>\n",
       "      <td>AII</td>\n",
       "      <td>incC</td>\n",
       "      <td>3</td>\n",
       "      <td>wyllieite</td>\n",
       "      <td>13.1</td>\n",
       "      <td>10.0</td>\n",
       "      <td>L - V - S</td>\n",
       "      <td>77.0</td>\n",
       "      <td>NaN</td>\n",
       "      <td>...</td>\n",
       "      <td>-24.068355</td>\n",
       "      <td>-11.100405</td>\n",
       "      <td>1.471577</td>\n",
       "      <td>NaN</td>\n",
       "      <td>NaN</td>\n",
       "      <td>NaN</td>\n",
       "      <td>red</td>\n",
       "      <td>square</td>\n",
       "      <td>13.888912</td>\n",
       "      <td>15.074295</td>\n",
       "    </tr>\n",
       "    <tr>\n",
       "      <th>228</th>\n",
       "      <td>BU18FA32</td>\n",
       "      <td>AII</td>\n",
       "      <td>incC</td>\n",
       "      <td>4</td>\n",
       "      <td>wyllieite</td>\n",
       "      <td>8.4</td>\n",
       "      <td>6.0</td>\n",
       "      <td>L - V - S</td>\n",
       "      <td>76.0</td>\n",
       "      <td>NaN</td>\n",
       "      <td>...</td>\n",
       "      <td>-21.989523</td>\n",
       "      <td>-12.882261</td>\n",
       "      <td>1.570569</td>\n",
       "      <td>NaN</td>\n",
       "      <td>NaN</td>\n",
       "      <td>NaN</td>\n",
       "      <td>red</td>\n",
       "      <td>square</td>\n",
       "      <td>13.767399</td>\n",
       "      <td>16.786097</td>\n",
       "    </tr>\n",
       "    <tr>\n",
       "      <th>229</th>\n",
       "      <td>BU18FA32</td>\n",
       "      <td>AII</td>\n",
       "      <td>incC</td>\n",
       "      <td>5</td>\n",
       "      <td>wyllieite</td>\n",
       "      <td>22.2</td>\n",
       "      <td>8.7</td>\n",
       "      <td>L - V - S</td>\n",
       "      <td>78.0</td>\n",
       "      <td>NaN</td>\n",
       "      <td>...</td>\n",
       "      <td>-16.940932</td>\n",
       "      <td>-10.506453</td>\n",
       "      <td>1.471577</td>\n",
       "      <td>NaN</td>\n",
       "      <td>NaN</td>\n",
       "      <td>NaN</td>\n",
       "      <td>red</td>\n",
       "      <td>square</td>\n",
       "      <td>13.888912</td>\n",
       "      <td>14.468431</td>\n",
       "    </tr>\n",
       "  </tbody>\n",
       "</table>\n",
       "<p>229 rows × 21 columns</p>\n",
       "</div>"
      ],
      "text/plain": [
       "       sample piece field analysis       Host  Length  Width     Phases  \\\n",
       "1    BU18FA22     A   FF1        1     quartz     9.1    7.4      L - V   \n",
       "2    BU18FA22     A   FF1        2     quartz     9.8    7.8      L - V   \n",
       "3    BU18FA22     A   FF2        1     quartz    24.8   13.3      L - V   \n",
       "4    BU18FA22     A   FF2        2     quartz    13.8    8.9      L - V   \n",
       "5    BU18FA22     A   FF2        3     quartz    14.1   10.2      L - V   \n",
       "..        ...   ...   ...      ...        ...     ...    ...        ...   \n",
       "225  BU18FA32   AII  incC        1  wyllieite    39.6   29.3  L - V - S   \n",
       "226  BU18FA32   AII  incC        2  wyllieite    18.8    5.6  L - V - S   \n",
       "227  BU18FA32   AII  incC        3  wyllieite    13.1   10.0  L - V - S   \n",
       "228  BU18FA32   AII  incC        4  wyllieite     8.4    6.0  L - V - S   \n",
       "229  BU18FA32   AII  incC        5  wyllieite    22.2    8.7  L - V - S   \n",
       "\n",
       "     VL (%)     Tm CO2  ...      Tm Hh     Tm H2O     Tm CL Th CO2 Hmg Mode  \\\n",
       "1      75.0 -57.453042  ...        NaN        NaN       NaN    NaN      NaN   \n",
       "2      72.0        NaN  ...        NaN        NaN       NaN    NaN      NaN   \n",
       "3      73.0 -61.943362  ... -25.038885 -18.954633  0.694507    NaN      NaN   \n",
       "4      80.0        NaN  ... -24.592817 -16.007713       NaN    NaN      NaN   \n",
       "5      77.0   -57.6504  ... -26.665083 -16.698469  0.373059    NaN      NaN   \n",
       "..      ...        ...  ...        ...        ...       ...    ...      ...   \n",
       "225    79.0        NaN  ... -18.524804 -12.882261  1.669561    NaN      NaN   \n",
       "226    78.0        NaN  ... -20.999603 -11.100405  1.570569    NaN      NaN   \n",
       "227    77.0        NaN  ... -24.068355 -11.100405  1.471577    NaN      NaN   \n",
       "228    76.0        NaN  ... -21.989523 -12.882261  1.570569    NaN      NaN   \n",
       "229    78.0        NaN  ... -16.940932 -10.506453  1.471577    NaN      NaN   \n",
       "\n",
       "    Type  Color  Symbol salinity(NaCleq wt%) salBod(NaCleq%)  \n",
       "1    NaN   grey  circle                  NaN             NaN  \n",
       "2    NaN   grey  circle                  NaN             NaN  \n",
       "3    NaN   grey  circle            14.816611       21.652316  \n",
       "4    NaN   grey  circle                  NaN       19.452391  \n",
       "5    NaN   grey  circle            15.187212        19.99209  \n",
       "..   ...    ...     ...                  ...             ...  \n",
       "225  NaN    red  square            13.645113       16.786097  \n",
       "226  NaN    red  square            13.767399       15.074295  \n",
       "227  NaN    red  square            13.888912       15.074295  \n",
       "228  NaN    red  square            13.767399       16.786097  \n",
       "229  NaN    red  square            13.888912       14.468431  \n",
       "\n",
       "[229 rows x 21 columns]"
      ]
     },
     "execution_count": 8,
     "metadata": {},
     "output_type": "execute_result"
    }
   ],
   "source": [
    "# --- Use formula from calibration trendline to correct measured unknown data\n",
    "\n",
    "    # -- remove unwanted data that could block the calculation\n",
    "    \n",
    "df_corrected = df_FI.drop(['sample', 'piece', 'field', 'Host', 'analysis', 'Length',\n",
    "       'Width', 'Phases', 'VL (%)', 'VV (%)', 'V2 (%)', 'Vb','Hmg Mode',\n",
    "       'Type', 'Color', 'Symbol'], axis=1).T\n",
    "    \n",
    " \n",
    "    \n",
    "#  'XCO2', 'XN2', 'XCH4','Modelling (Dubois, 2010)', 'mNaCl (mol/kg)',\n",
    "#        'mLiCl (mol/kg)', 'Na/Li', 'Na%', 'Li%', 'Na/Li%', 'salinity',\n",
    "#        'mCl (mol/kg)', 'N2/CO2'\n",
    "\n",
    "\n",
    "    # -- save important metadata to a separate dataframe\n",
    "    \n",
    "df_corrected_metadata = df_FI[['sample', 'piece', 'field', 'Host', 'analysis', \n",
    "                               'Length', 'Width', 'Phases', 'VL (%)','Hmg Mode','Type','Color', 'Symbol']]\n",
    "\n",
    "# print(df_corrected)\n",
    "# print(df_corrected.index)\n",
    "df_corrected = df_corrected.drop(index=['Tm Xts','Th total'])\n",
    "\n",
    "\n",
    "    # -- walk through dataframe columns to perfom calculation according to calibration trendline\n",
    "    \n",
    "for column, values in df_corrected.iteritems():\n",
    "#     print(column, '\\n', values,'\\n')\n",
    "#     print(calibration_dict[values[0]][0], calibration_dict[values[0]][1],'\\n')\n",
    "#     print(df_corrected[column][1:],'\\n\\n')\n",
    "#     print(df_corrected[column])\n",
    "\n",
    "        # - grab values from calibration dictionary to perform calculations\n",
    "    df_corrected[column][1:] = (df_corrected[column][1:]*calibration_dict[values[0]][0]) + calibration_dict[values[0]][1]\n",
    "\n",
    "\n",
    "    # -- transpose back the dataframe to usual position and concatenate with metadata\n",
    "    \n",
    "df_corrected = df_corrected.T\n",
    "df_corrected = pd.concat([df_corrected_metadata,df_corrected], axis=1)\n",
    "\n",
    "df_corrected = df_corrected.drop(['Date'], axis=1)\n",
    "\n",
    "\n",
    "\n",
    "# df_corrected[['XCO2', 'XN2', 'XCH4', 'N2/CO2','mNaCl (mol/kg)','mLiCl (mol/kg)', \n",
    "#               'Na/Li', 'Na%', 'Li%', 'Na/Li%', 'salinity',\n",
    "#               'mCl (mol/kg)']] = df_FI[['XCO2', 'XN2', 'XCH4', 'N2/CO2','mNaCl (mol/kg)',\n",
    "#                                         'mLiCl (mol/kg)', 'Na/Li', 'Na%', 'Li%', 'Na/Li%', 'salinity','mCl (mol/kg)']]\n",
    "\n",
    "\n",
    "\n",
    "\n",
    "# df_corrected[['sample','piece','field','extra']]=df_corrected[\"Sample\"].str.split(pat=' ', expand=True)\n",
    "\n",
    "\n",
    "df_corrected = df_corrected[['sample','piece', 'field', 'analysis', 'Host',\n",
    "                            'Length', 'Width', 'Phases', 'VL (%)', \n",
    "                            'Tm CO2','Te', 'Tm Hh', 'Tm H2O', 'Tm CL', \n",
    "                            'Th CO2','Hmg Mode','Type','Color', 'Symbol']]\n",
    "#                             'Tm Xts', 'Th total']]\n",
    "#                             'XCO2', 'XN2', 'XCH4', 'N2/CO2', \n",
    "#                             'mNaCl (mol/kg)', 'mLiCl (mol/kg)','Na/Li', \n",
    "#                             'Na%', 'Li%', 'Na/Li%', 'salinity', 'mCl (mol/kg)']]\n",
    "\n",
    "\n",
    "\n",
    "# W = 0.00098241*(10-TmCL)*(TmCL**2 + (45.385*TmCL) + 1588.75) \n",
    "#Equation from Darling (1991) GCA\n",
    "df_corrected['salinity(NaCleq wt%)'] = 0.00098241*(10-df_corrected['Tm CL'])*((df_corrected['Tm CL']**2) + (45.385*df_corrected['Tm CL']) + 1588.75) \n",
    "\n",
    "df_corrected['salBod(NaCleq%)'] = (1.78*(0-df_corrected['Tm H2O']))-(0.0442*((0-df_corrected['Tm H2O'])**2))+(0.000557*((0-df_corrected['Tm H2O'])**3)) \n",
    "\n",
    "\n",
    "df_corrected.to_csv('base_dir/_output/' + \n",
    "                    'microthermometry_processed.csv')\n",
    "    \n",
    "df_corrected"
   ]
  },
  {
   "cell_type": "code",
   "execution_count": 10,
   "metadata": {},
   "outputs": [
    {
     "data": {
      "application/vnd.plotly.v1+json": {
       "config": {
        "plotlyServerURL": "https://plot.ly"
       },
       "data": [
        {
         "customdata": [
          [
           "BU18FA22",
           "B",
           "FF1",
           "1",
           "L - V",
           "Trolleite"
          ],
          [
           "BU18FA22",
           "B",
           "FF1",
           "2",
           "L - V",
           "Trolleite"
          ],
          [
           "BU18FA22",
           "B",
           "FF1",
           "3",
           "L - V",
           "Trolleite"
          ],
          [
           "BU18FA22",
           "B",
           "FF1",
           "4",
           "L - V",
           "Trolleite"
          ],
          [
           "BU18FA22",
           "B",
           "FF1",
           "5",
           "L - V",
           "Trolleite"
          ]
         ],
         "hovertemplate": "Phases=%{customdata[4]}<br>sample=%{customdata[0]}<br>salinity(NaCleq wt%)=%{x}<br>Tm H2O=%{y}<br>piece=%{customdata[1]}<br>field=%{customdata[2]}<br>analysis=%{customdata[3]}<br>Host=%{customdata[5]}<extra></extra>",
         "legendgroup": "L - V, BU18FA22",
         "marker": {
          "color": "#636efa",
          "size": 8,
          "symbol": "circle"
         },
         "mode": "markers",
         "name": "L - V, BU18FA22",
         "orientation": "v",
         "showlegend": true,
         "type": "scatter",
         "x": [
          20.34458381243426,
          18.37100013398051,
          17.70202517016243,
          null,
          17.207424606110436
         ],
         "xaxis": "x",
         "y": [
          -16.062120363081583,
          -10.777707581063199,
          -16.797148115917036,
          null,
          -22.224512532588527
         ],
         "yaxis": "y"
        },
        {
         "customdata": [
          [
           "BU18FA20",
           "E",
           "FF1",
           "3",
           "L - V",
           "Trolleite"
          ],
          [
           "BU18FA20",
           "E",
           "FF1",
           "4",
           "L - V",
           "Trolleite"
          ],
          [
           "BU18FA20",
           "A",
           "FF2",
           "1",
           "L - V",
           "Trolleite"
          ],
          [
           "BU18FA20",
           "A",
           "FF2",
           "2",
           "L - V",
           "Trolleite"
          ],
          [
           "BU18FA20",
           "A",
           "FF2",
           "3",
           "L - V",
           "Trolleite"
          ],
          [
           "BU18FA20",
           "F",
           "FF2",
           "1",
           "L - V",
           "Trolleite"
          ],
          [
           "BU18FA20",
           "E",
           "FF1",
           "7",
           "L - V",
           "Trolleite"
          ],
          [
           "BU18FA20",
           "H",
           "FF1",
           "1",
           "L - V",
           "Trolleite"
          ],
          [
           "BU18FA20",
           "H",
           "FF1",
           "2",
           "L - V",
           "Trolleite"
          ],
          [
           "BU18FA20",
           "H",
           "FF1",
           "3",
           "L - V",
           "Trolleite"
          ],
          [
           "BU18FA20",
           "H",
           "FF1",
           "4",
           "L - V",
           "Trolleite"
          ],
          [
           "BU18FA20",
           "H",
           "FF1",
           "5",
           "L - V",
           "Trolleite"
          ]
         ],
         "hovertemplate": "Phases=%{customdata[4]}<br>sample=%{customdata[0]}<br>salinity(NaCleq wt%)=%{x}<br>Tm H2O=%{y}<br>piece=%{customdata[1]}<br>field=%{customdata[2]}<br>analysis=%{customdata[3]}<br>Host=%{customdata[5]}<extra></extra>",
         "legendgroup": "L - V, BU18FA20",
         "marker": {
          "color": "#636efa",
          "size": 8,
          "symbol": "diamond"
         },
         "mode": "markers",
         "name": "L - V, BU18FA20",
         "orientation": "v",
         "showlegend": true,
         "type": "scatter",
         "x": [
          18.988110791605617,
          12.93313854060685,
          14.35419230400871,
          10.434591077819363,
          9.999572753374881,
          14.964825792438985,
          17.424465665976616,
          13.414669000419766,
          12.91071309221757,
          12.653870147657353,
          11.997204066506159,
          12.782701830149897
         ],
         "xaxis": "x",
         "y": [
          -14.412006146524355,
          -14.312330926018907,
          -17.87914792677834,
          -12.020605172927874,
          -14.403741208392471,
          -9.692796017450364,
          -13.322378190784285,
          -14.71110476055968,
          -14.909494270527594,
          -13.818351965704068,
          -13.223183435800328,
          -13.123988680816371
         ],
         "yaxis": "y"
        },
        {
         "customdata": [
          [
           "BU18FA19",
           "A",
           "FF7b",
           "10",
           "L - V",
           "Trolleite"
          ],
          [
           "BU18FA19",
           "C",
           "FFore1",
           "2",
           "L - V",
           "Trolleite"
          ],
          [
           "BU18FA19",
           "C",
           "FFore1",
           "4",
           "L - V",
           "Trolleite"
          ],
          [
           "BU18FA19",
           "C",
           "FFore1",
           "7",
           "L - V",
           "Trolleite"
          ],
          [
           "BU18FA19",
           "D",
           "FF2",
           "2",
           "L - V",
           "Trolleite"
          ],
          [
           "BU18FA19",
           "D",
           "FF2",
           "5",
           "L - V",
           "Trolleite"
          ],
          [
           "BU18FA19",
           "D",
           "FF2",
           "6",
           "L - V",
           "Trolleite"
          ],
          [
           "BU18FA19",
           "D",
           "FF2",
           "7",
           "L - V",
           "Trolleite"
          ],
          [
           "BU18FA19",
           "D",
           "FF2",
           "8",
           "L - V",
           "Trolleite"
          ],
          [
           "BU18FA19",
           "D",
           "FF2",
           "9",
           "L - V",
           "Trolleite"
          ],
          [
           "BU18FA19",
           "D",
           "FF2",
           "10",
           "L - V",
           "Trolleite"
          ]
         ],
         "hovertemplate": "Phases=%{customdata[4]}<br>sample=%{customdata[0]}<br>salinity(NaCleq wt%)=%{x}<br>Tm H2O=%{y}<br>piece=%{customdata[1]}<br>field=%{customdata[2]}<br>analysis=%{customdata[3]}<br>Host=%{customdata[5]}<extra></extra>",
         "legendgroup": "L - V, BU18FA19",
         "marker": {
          "color": "#636efa",
          "size": 8,
          "symbol": "square"
         },
         "mode": "markers",
         "name": "L - V, BU18FA19",
         "orientation": "v",
         "showlegend": true,
         "type": "scatter",
         "x": [
          12.762303309157337,
          13.386235621190378,
          14.124971711089447,
          13.260330243578828,
          13.569922818153943,
          12.421777969248167,
          12.940248473251872,
          15.567221213752008,
          13.320467458168098,
          13.067800697715041,
          12.940248473251872
         ],
         "xaxis": "x",
         "y": [
          -16.033234612506263,
          -15.811565325189736,
          null,
          -14.612335338997573,
          -13.312593142127993,
          -14.906522842263012,
          -15.9027289048474,
          -18.59248527382525,
          -16.301211329881156,
          -16.600073148656474,
          -16.20159072362272
         ],
         "yaxis": "y"
        },
        {
         "customdata": [
          [
           "BU18FA20",
           "E",
           "FF1",
           "1",
           "L - L - V",
           "Trolleite"
          ],
          [
           "BU18FA20",
           "E",
           "FF1",
           "2",
           "L - L - V",
           "Trolleite"
          ],
          [
           "BU18FA20",
           "E",
           "FF1",
           "6",
           "L - L - V",
           "Trolleite"
          ]
         ],
         "hovertemplate": "Phases=%{customdata[4]}<br>sample=%{customdata[0]}<br>salinity(NaCleq wt%)=%{x}<br>Tm H2O=%{y}<br>piece=%{customdata[1]}<br>field=%{customdata[2]}<br>analysis=%{customdata[3]}<br>Host=%{customdata[5]}<extra></extra>",
         "legendgroup": "L - L - V, BU18FA20",
         "marker": {
          "color": "#EF553B",
          "size": 8,
          "symbol": "diamond"
         },
         "mode": "markers",
         "name": "L - L - V, BU18FA20",
         "orientation": "v",
         "showlegend": true,
         "type": "scatter",
         "x": [
          2.7986191239042495,
          3.559565984761997,
          18.01186417109948
         ],
         "xaxis": "x",
         "y": [
          -15.109732690062483,
          -14.611356587535248,
          -12.429625395928673
         ],
         "yaxis": "y"
        },
        {
         "customdata": [
          [
           "BU18FA19",
           "B",
           "FF1",
           "5",
           "L - L - V",
           "Trolleite"
          ],
          [
           "BU18FA19",
           "B",
           "FF1",
           "10",
           "L - L - V",
           "Trolleite"
          ]
         ],
         "hovertemplate": "Phases=%{customdata[4]}<br>sample=%{customdata[0]}<br>salinity(NaCleq wt%)=%{x}<br>Tm H2O=%{y}<br>piece=%{customdata[1]}<br>field=%{customdata[2]}<br>analysis=%{customdata[3]}<br>Host=%{customdata[5]}<extra></extra>",
         "legendgroup": "L - L - V, BU18FA19",
         "marker": {
          "color": "#EF553B",
          "size": 8,
          "symbol": "square"
         },
         "mode": "markers",
         "name": "L - L - V, BU18FA19",
         "orientation": "v",
         "showlegend": true,
         "type": "scatter",
         "x": [
          15.168337371012532,
          13.260330243578828
         ],
         "xaxis": "x",
         "y": [
          null,
          null
         ],
         "yaxis": "y"
        },
        {
         "customdata": [
          [
           "BU18FA20",
           "E",
           "FF1",
           "5",
           "L - V - S",
           "Trolleite"
          ],
          [
           "BU18FA20",
           "G",
           "FF1",
           "1",
           "L - V - S",
           "Trolleite"
          ],
          [
           "BU18FA20",
           "G",
           "FF1",
           "2",
           "L - V - S",
           "Trolleite"
          ],
          [
           "BU18FA20",
           "G",
           "FF1",
           "3",
           "L - V - S",
           "Trolleite"
          ],
          [
           "BU18FA20",
           "H",
           "FF1",
           "7",
           "L - V - S",
           "Trolleite"
          ],
          [
           "BU18FA20",
           "J",
           "FF1",
           "1",
           "L - V - S",
           "Trolleite"
          ],
          [
           "BU18FA20",
           "J",
           "FF1",
           "2",
           "L - V - S",
           "Trolleite"
          ],
          [
           "BU18FA20",
           "J",
           "FF1",
           "3",
           "L - V - S",
           "Trolleite"
          ]
         ],
         "hovertemplate": "Phases=%{customdata[4]}<br>sample=%{customdata[0]}<br>salinity(NaCleq wt%)=%{x}<br>Tm H2O=%{y}<br>piece=%{customdata[1]}<br>field=%{customdata[2]}<br>analysis=%{customdata[3]}<br>Host=%{customdata[5]}<extra></extra>",
         "legendgroup": "L - V - S, BU18FA20",
         "marker": {
          "color": "#00cc96",
          "size": 8,
          "symbol": "diamond"
         },
         "mode": "markers",
         "name": "L - V - S, BU18FA20",
         "orientation": "v",
         "showlegend": true,
         "type": "scatter",
         "x": [
          12.393722508561602,
          null,
          18.392386073034213,
          null,
          13.661874015405918,
          12.82112109079005,
          12.693737837264916,
          12.306711084038552
         ],
         "xaxis": "x",
         "y": [
          -16.00063657535112,
          null,
          -15.10788378049551,
          null,
          -13.619962455736156,
          -14.286993612032022,
          -15.073156095137984,
          -12.812938956208342
         ],
         "yaxis": "y"
        },
        {
         "customdata": [
          [
           "BU18FA19",
           "A",
           "FF7b",
           "1",
           "L - V - S",
           "Trolleite"
          ],
          [
           "BU18FA19",
           "A",
           "FF7b",
           "2",
           "L - V - S",
           "Trolleite"
          ],
          [
           "BU18FA19",
           "A",
           "FF7b",
           "3",
           "L - V - S",
           "Trolleite"
          ],
          [
           "BU18FA19",
           "A",
           "FF7b",
           "4",
           "L - V - S",
           "Trolleite"
          ],
          [
           "BU18FA19",
           "A",
           "FF7b",
           "5",
           "L - V - S",
           "Trolleite"
          ],
          [
           "BU18FA19",
           "A",
           "FF7b",
           "6",
           "L - V - S",
           "Trolleite"
          ],
          [
           "BU18FA19",
           "A",
           "FF7b",
           "7",
           "L - V - S",
           "Trolleite"
          ],
          [
           "BU18FA19",
           "A",
           "FF7b",
           "8",
           "L - V - S",
           "Trolleite"
          ],
          [
           "BU18FA19",
           "A",
           "FF7b",
           "9",
           "L - V - S",
           "Trolleite"
          ],
          [
           "BU18FA19",
           "B",
           "FF1",
           "1",
           "L - V - S",
           "Trolleite"
          ],
          [
           "BU18FA19",
           "B",
           "FF1",
           "2",
           "L - V - S",
           "Trolleite"
          ],
          [
           "BU18FA19",
           "B",
           "FF1",
           "3",
           "L - V - S",
           "Trolleite"
          ],
          [
           "BU18FA19",
           "B",
           "FF1",
           "4",
           "L - V - S",
           "Trolleite"
          ],
          [
           "BU18FA19",
           "B",
           "FF1",
           "6",
           "L - V - S",
           "Trolleite"
          ],
          [
           "BU18FA19",
           "B",
           "FF1",
           "7",
           "L - V - S",
           "Trolleite"
          ],
          [
           "BU18FA19",
           "B",
           "FF1",
           "8",
           "L - V - S",
           "Trolleite"
          ],
          [
           "BU18FA19",
           "B",
           "FF1",
           "9",
           "L - V - S",
           "Trolleite"
          ],
          [
           "BU18FA19",
           "C",
           "FFore1",
           "1",
           "L - V - S",
           "Trolleite"
          ],
          [
           "BU18FA19",
           "C",
           "FFore1",
           "3",
           "L - V - S",
           "Trolleite"
          ],
          [
           "BU18FA19",
           "C",
           "FFore1",
           "5",
           "L - V - S",
           "Trolleite"
          ],
          [
           "BU18FA19",
           "C",
           "FFore1",
           "6",
           "L - V - S",
           "Trolleite"
          ],
          [
           "BU18FA19",
           "D",
           "FF2",
           "1",
           "L - V - S",
           "Trolleite"
          ],
          [
           "BU18FA19",
           "D",
           "FF2",
           "3",
           "L - V - S",
           "Trolleite"
          ],
          [
           "BU18FA19",
           "D",
           "FF2",
           "4",
           "L - V - S",
           "Trolleite"
          ]
         ],
         "hovertemplate": "Phases=%{customdata[4]}<br>sample=%{customdata[0]}<br>salinity(NaCleq wt%)=%{x}<br>Tm H2O=%{y}<br>piece=%{customdata[1]}<br>field=%{customdata[2]}<br>analysis=%{customdata[3]}<br>Host=%{customdata[5]}<extra></extra>",
         "legendgroup": "L - V - S, BU18FA19",
         "marker": {
          "color": "#00cc96",
          "size": 8,
          "symbol": "square"
         },
         "mode": "markers",
         "name": "L - V - S, BU18FA19",
         "orientation": "v",
         "showlegend": true,
         "type": "scatter",
         "x": [
          6.624765812639447,
          13.9979441837764,
          10.473248122614311,
          12.889411204921602,
          12.634387313112137,
          12.505657602061046,
          13.265942437778394,
          12.505657602061046,
          13.389874079668525,
          16.626524742639393,
          13.622309309365908,
          null,
          13.37289061066687,
          14.364997821362445,
          12.618524528470758,
          12.223406245437,
          12.487666438197396,
          null,
          13.006081372306383,
          12.748542458833217,
          12.618524528470758,
          13.6934607920331,
          12.940248473251872,
          12.552646491420896
         ],
         "xaxis": "x",
         "y": [
          -8.161843821335562,
          -8.752198130673365,
          -8.457020976004463,
          -15.836449842727,
          -16.033234612506263,
          -15.934842227616633,
          -17.0171584614026,
          -16.721981306733703,
          -15.442880303168465,
          -6.919900964039604,
          -14.192023783248528,
          null,
          -16.4891271571651,
          -9.115864568950167,
          -17.610410304477977,
          -16.710987814833857,
          -14.012720345901494,
          null,
          -15.511757828641695,
          -15.811565325189736,
          -17.810281968843338,
          -17.695899817499303,
          -15.803108298588961,
          -14.707281629746136
         ],
         "yaxis": "y"
        },
        {
         "customdata": [
          [
           "BU18FA20",
           "G",
           "FF1",
           "4",
           "V - L",
           "Trolleite"
          ]
         ],
         "hovertemplate": "Phases=%{customdata[4]}<br>sample=%{customdata[0]}<br>salinity(NaCleq wt%)=%{x}<br>Tm H2O=%{y}<br>piece=%{customdata[1]}<br>field=%{customdata[2]}<br>analysis=%{customdata[3]}<br>Host=%{customdata[5]}<extra></extra>",
         "legendgroup": "V - L, BU18FA20",
         "marker": {
          "color": "#ab63fa",
          "size": 8,
          "symbol": "diamond"
         },
         "mode": "markers",
         "name": "V - L, BU18FA20",
         "orientation": "v",
         "showlegend": true,
         "type": "scatter",
         "x": [
          12.524212291530924
         ],
         "xaxis": "x",
         "y": [
          -13.322378190784285
         ],
         "yaxis": "y"
        },
        {
         "customdata": [
          [
           "BU18FA20",
           "H",
           "FF1",
           "6",
           "L",
           "Trolleite"
          ]
         ],
         "hovertemplate": "Phases=%{customdata[4]}<br>sample=%{customdata[0]}<br>salinity(NaCleq wt%)=%{x}<br>Tm H2O=%{y}<br>piece=%{customdata[1]}<br>field=%{customdata[2]}<br>analysis=%{customdata[3]}<br>Host=%{customdata[5]}<extra></extra>",
         "legendgroup": "L, BU18FA20",
         "marker": {
          "color": "#FFA15A",
          "size": 8,
          "symbol": "diamond"
         },
         "mode": "markers",
         "name": "L, BU18FA20",
         "orientation": "v",
         "showlegend": true,
         "type": "scatter",
         "x": [
          null
         ],
         "xaxis": "x",
         "y": [
          null
         ],
         "yaxis": "y"
        },
        {
         "customdata": [
          [
           "BU18FA19",
           "B",
           "FF1",
           "MI",
           "S - L - V",
           "Trolleite"
          ]
         ],
         "hovertemplate": "Phases=%{customdata[4]}<br>sample=%{customdata[0]}<br>salinity(NaCleq wt%)=%{x}<br>Tm H2O=%{y}<br>piece=%{customdata[1]}<br>field=%{customdata[2]}<br>analysis=%{customdata[3]}<br>Host=%{customdata[5]}<extra></extra>",
         "legendgroup": "S - L - V, BU18FA19",
         "marker": {
          "color": "#19d3f3",
          "size": 8,
          "symbol": "square"
         },
         "mode": "markers",
         "name": "S - L - V, BU18FA19",
         "orientation": "v",
         "showlegend": true,
         "type": "scatter",
         "x": [
          null
         ],
         "xaxis": "x",
         "y": [
          null
         ],
         "yaxis": "y"
        }
       ],
       "layout": {
        "height": 500,
        "legend": {
         "title": {
          "text": "Phases, sample"
         },
         "tracegroupgap": 0
        },
        "margin": {
         "t": 60
        },
        "plot_bgcolor": "white",
        "template": {
         "data": {
          "bar": [
           {
            "error_x": {
             "color": "rgb(36,36,36)"
            },
            "error_y": {
             "color": "rgb(36,36,36)"
            },
            "marker": {
             "line": {
              "color": "white",
              "width": 0.5
             }
            },
            "type": "bar"
           }
          ],
          "barpolar": [
           {
            "marker": {
             "line": {
              "color": "white",
              "width": 0.5
             }
            },
            "type": "barpolar"
           }
          ],
          "carpet": [
           {
            "aaxis": {
             "endlinecolor": "rgb(36,36,36)",
             "gridcolor": "white",
             "linecolor": "white",
             "minorgridcolor": "white",
             "startlinecolor": "rgb(36,36,36)"
            },
            "baxis": {
             "endlinecolor": "rgb(36,36,36)",
             "gridcolor": "white",
             "linecolor": "white",
             "minorgridcolor": "white",
             "startlinecolor": "rgb(36,36,36)"
            },
            "type": "carpet"
           }
          ],
          "choropleth": [
           {
            "colorbar": {
             "outlinewidth": 1,
             "tickcolor": "rgb(36,36,36)",
             "ticks": "outside"
            },
            "type": "choropleth"
           }
          ],
          "contour": [
           {
            "colorbar": {
             "outlinewidth": 1,
             "tickcolor": "rgb(36,36,36)",
             "ticks": "outside"
            },
            "colorscale": [
             [
              0,
              "#440154"
             ],
             [
              0.1111111111111111,
              "#482878"
             ],
             [
              0.2222222222222222,
              "#3e4989"
             ],
             [
              0.3333333333333333,
              "#31688e"
             ],
             [
              0.4444444444444444,
              "#26828e"
             ],
             [
              0.5555555555555556,
              "#1f9e89"
             ],
             [
              0.6666666666666666,
              "#35b779"
             ],
             [
              0.7777777777777778,
              "#6ece58"
             ],
             [
              0.8888888888888888,
              "#b5de2b"
             ],
             [
              1,
              "#fde725"
             ]
            ],
            "type": "contour"
           }
          ],
          "contourcarpet": [
           {
            "colorbar": {
             "outlinewidth": 1,
             "tickcolor": "rgb(36,36,36)",
             "ticks": "outside"
            },
            "type": "contourcarpet"
           }
          ],
          "heatmap": [
           {
            "colorbar": {
             "outlinewidth": 1,
             "tickcolor": "rgb(36,36,36)",
             "ticks": "outside"
            },
            "colorscale": [
             [
              0,
              "#440154"
             ],
             [
              0.1111111111111111,
              "#482878"
             ],
             [
              0.2222222222222222,
              "#3e4989"
             ],
             [
              0.3333333333333333,
              "#31688e"
             ],
             [
              0.4444444444444444,
              "#26828e"
             ],
             [
              0.5555555555555556,
              "#1f9e89"
             ],
             [
              0.6666666666666666,
              "#35b779"
             ],
             [
              0.7777777777777778,
              "#6ece58"
             ],
             [
              0.8888888888888888,
              "#b5de2b"
             ],
             [
              1,
              "#fde725"
             ]
            ],
            "type": "heatmap"
           }
          ],
          "heatmapgl": [
           {
            "colorbar": {
             "outlinewidth": 1,
             "tickcolor": "rgb(36,36,36)",
             "ticks": "outside"
            },
            "colorscale": [
             [
              0,
              "#440154"
             ],
             [
              0.1111111111111111,
              "#482878"
             ],
             [
              0.2222222222222222,
              "#3e4989"
             ],
             [
              0.3333333333333333,
              "#31688e"
             ],
             [
              0.4444444444444444,
              "#26828e"
             ],
             [
              0.5555555555555556,
              "#1f9e89"
             ],
             [
              0.6666666666666666,
              "#35b779"
             ],
             [
              0.7777777777777778,
              "#6ece58"
             ],
             [
              0.8888888888888888,
              "#b5de2b"
             ],
             [
              1,
              "#fde725"
             ]
            ],
            "type": "heatmapgl"
           }
          ],
          "histogram": [
           {
            "marker": {
             "line": {
              "color": "white",
              "width": 0.6
             }
            },
            "type": "histogram"
           }
          ],
          "histogram2d": [
           {
            "colorbar": {
             "outlinewidth": 1,
             "tickcolor": "rgb(36,36,36)",
             "ticks": "outside"
            },
            "colorscale": [
             [
              0,
              "#440154"
             ],
             [
              0.1111111111111111,
              "#482878"
             ],
             [
              0.2222222222222222,
              "#3e4989"
             ],
             [
              0.3333333333333333,
              "#31688e"
             ],
             [
              0.4444444444444444,
              "#26828e"
             ],
             [
              0.5555555555555556,
              "#1f9e89"
             ],
             [
              0.6666666666666666,
              "#35b779"
             ],
             [
              0.7777777777777778,
              "#6ece58"
             ],
             [
              0.8888888888888888,
              "#b5de2b"
             ],
             [
              1,
              "#fde725"
             ]
            ],
            "type": "histogram2d"
           }
          ],
          "histogram2dcontour": [
           {
            "colorbar": {
             "outlinewidth": 1,
             "tickcolor": "rgb(36,36,36)",
             "ticks": "outside"
            },
            "colorscale": [
             [
              0,
              "#440154"
             ],
             [
              0.1111111111111111,
              "#482878"
             ],
             [
              0.2222222222222222,
              "#3e4989"
             ],
             [
              0.3333333333333333,
              "#31688e"
             ],
             [
              0.4444444444444444,
              "#26828e"
             ],
             [
              0.5555555555555556,
              "#1f9e89"
             ],
             [
              0.6666666666666666,
              "#35b779"
             ],
             [
              0.7777777777777778,
              "#6ece58"
             ],
             [
              0.8888888888888888,
              "#b5de2b"
             ],
             [
              1,
              "#fde725"
             ]
            ],
            "type": "histogram2dcontour"
           }
          ],
          "mesh3d": [
           {
            "colorbar": {
             "outlinewidth": 1,
             "tickcolor": "rgb(36,36,36)",
             "ticks": "outside"
            },
            "type": "mesh3d"
           }
          ],
          "parcoords": [
           {
            "line": {
             "colorbar": {
              "outlinewidth": 1,
              "tickcolor": "rgb(36,36,36)",
              "ticks": "outside"
             }
            },
            "type": "parcoords"
           }
          ],
          "pie": [
           {
            "automargin": true,
            "type": "pie"
           }
          ],
          "scatter": [
           {
            "marker": {
             "colorbar": {
              "outlinewidth": 1,
              "tickcolor": "rgb(36,36,36)",
              "ticks": "outside"
             }
            },
            "type": "scatter"
           }
          ],
          "scatter3d": [
           {
            "line": {
             "colorbar": {
              "outlinewidth": 1,
              "tickcolor": "rgb(36,36,36)",
              "ticks": "outside"
             }
            },
            "marker": {
             "colorbar": {
              "outlinewidth": 1,
              "tickcolor": "rgb(36,36,36)",
              "ticks": "outside"
             }
            },
            "type": "scatter3d"
           }
          ],
          "scattercarpet": [
           {
            "marker": {
             "colorbar": {
              "outlinewidth": 1,
              "tickcolor": "rgb(36,36,36)",
              "ticks": "outside"
             }
            },
            "type": "scattercarpet"
           }
          ],
          "scattergeo": [
           {
            "marker": {
             "colorbar": {
              "outlinewidth": 1,
              "tickcolor": "rgb(36,36,36)",
              "ticks": "outside"
             }
            },
            "type": "scattergeo"
           }
          ],
          "scattergl": [
           {
            "marker": {
             "colorbar": {
              "outlinewidth": 1,
              "tickcolor": "rgb(36,36,36)",
              "ticks": "outside"
             }
            },
            "type": "scattergl"
           }
          ],
          "scattermapbox": [
           {
            "marker": {
             "colorbar": {
              "outlinewidth": 1,
              "tickcolor": "rgb(36,36,36)",
              "ticks": "outside"
             }
            },
            "type": "scattermapbox"
           }
          ],
          "scatterpolar": [
           {
            "marker": {
             "colorbar": {
              "outlinewidth": 1,
              "tickcolor": "rgb(36,36,36)",
              "ticks": "outside"
             }
            },
            "type": "scatterpolar"
           }
          ],
          "scatterpolargl": [
           {
            "marker": {
             "colorbar": {
              "outlinewidth": 1,
              "tickcolor": "rgb(36,36,36)",
              "ticks": "outside"
             }
            },
            "type": "scatterpolargl"
           }
          ],
          "scatterternary": [
           {
            "marker": {
             "colorbar": {
              "outlinewidth": 1,
              "tickcolor": "rgb(36,36,36)",
              "ticks": "outside"
             }
            },
            "type": "scatterternary"
           }
          ],
          "surface": [
           {
            "colorbar": {
             "outlinewidth": 1,
             "tickcolor": "rgb(36,36,36)",
             "ticks": "outside"
            },
            "colorscale": [
             [
              0,
              "#440154"
             ],
             [
              0.1111111111111111,
              "#482878"
             ],
             [
              0.2222222222222222,
              "#3e4989"
             ],
             [
              0.3333333333333333,
              "#31688e"
             ],
             [
              0.4444444444444444,
              "#26828e"
             ],
             [
              0.5555555555555556,
              "#1f9e89"
             ],
             [
              0.6666666666666666,
              "#35b779"
             ],
             [
              0.7777777777777778,
              "#6ece58"
             ],
             [
              0.8888888888888888,
              "#b5de2b"
             ],
             [
              1,
              "#fde725"
             ]
            ],
            "type": "surface"
           }
          ],
          "table": [
           {
            "cells": {
             "fill": {
              "color": "rgb(237,237,237)"
             },
             "line": {
              "color": "white"
             }
            },
            "header": {
             "fill": {
              "color": "rgb(217,217,217)"
             },
             "line": {
              "color": "white"
             }
            },
            "type": "table"
           }
          ]
         },
         "layout": {
          "annotationdefaults": {
           "arrowhead": 0,
           "arrowwidth": 1
          },
          "autotypenumbers": "strict",
          "coloraxis": {
           "colorbar": {
            "outlinewidth": 1,
            "tickcolor": "rgb(36,36,36)",
            "ticks": "outside"
           }
          },
          "colorscale": {
           "diverging": [
            [
             0,
             "rgb(103,0,31)"
            ],
            [
             0.1,
             "rgb(178,24,43)"
            ],
            [
             0.2,
             "rgb(214,96,77)"
            ],
            [
             0.3,
             "rgb(244,165,130)"
            ],
            [
             0.4,
             "rgb(253,219,199)"
            ],
            [
             0.5,
             "rgb(247,247,247)"
            ],
            [
             0.6,
             "rgb(209,229,240)"
            ],
            [
             0.7,
             "rgb(146,197,222)"
            ],
            [
             0.8,
             "rgb(67,147,195)"
            ],
            [
             0.9,
             "rgb(33,102,172)"
            ],
            [
             1,
             "rgb(5,48,97)"
            ]
           ],
           "sequential": [
            [
             0,
             "#440154"
            ],
            [
             0.1111111111111111,
             "#482878"
            ],
            [
             0.2222222222222222,
             "#3e4989"
            ],
            [
             0.3333333333333333,
             "#31688e"
            ],
            [
             0.4444444444444444,
             "#26828e"
            ],
            [
             0.5555555555555556,
             "#1f9e89"
            ],
            [
             0.6666666666666666,
             "#35b779"
            ],
            [
             0.7777777777777778,
             "#6ece58"
            ],
            [
             0.8888888888888888,
             "#b5de2b"
            ],
            [
             1,
             "#fde725"
            ]
           ],
           "sequentialminus": [
            [
             0,
             "#440154"
            ],
            [
             0.1111111111111111,
             "#482878"
            ],
            [
             0.2222222222222222,
             "#3e4989"
            ],
            [
             0.3333333333333333,
             "#31688e"
            ],
            [
             0.4444444444444444,
             "#26828e"
            ],
            [
             0.5555555555555556,
             "#1f9e89"
            ],
            [
             0.6666666666666666,
             "#35b779"
            ],
            [
             0.7777777777777778,
             "#6ece58"
            ],
            [
             0.8888888888888888,
             "#b5de2b"
            ],
            [
             1,
             "#fde725"
            ]
           ]
          },
          "colorway": [
           "#1F77B4",
           "#FF7F0E",
           "#2CA02C",
           "#D62728",
           "#9467BD",
           "#8C564B",
           "#E377C2",
           "#7F7F7F",
           "#BCBD22",
           "#17BECF"
          ],
          "font": {
           "color": "rgb(36,36,36)"
          },
          "geo": {
           "bgcolor": "white",
           "lakecolor": "white",
           "landcolor": "white",
           "showlakes": true,
           "showland": true,
           "subunitcolor": "white"
          },
          "hoverlabel": {
           "align": "left"
          },
          "hovermode": "closest",
          "mapbox": {
           "style": "light"
          },
          "paper_bgcolor": "white",
          "plot_bgcolor": "white",
          "polar": {
           "angularaxis": {
            "gridcolor": "rgb(232,232,232)",
            "linecolor": "rgb(36,36,36)",
            "showgrid": false,
            "showline": true,
            "ticks": "outside"
           },
           "bgcolor": "white",
           "radialaxis": {
            "gridcolor": "rgb(232,232,232)",
            "linecolor": "rgb(36,36,36)",
            "showgrid": false,
            "showline": true,
            "ticks": "outside"
           }
          },
          "scene": {
           "xaxis": {
            "backgroundcolor": "white",
            "gridcolor": "rgb(232,232,232)",
            "gridwidth": 2,
            "linecolor": "rgb(36,36,36)",
            "showbackground": true,
            "showgrid": false,
            "showline": true,
            "ticks": "outside",
            "zeroline": false,
            "zerolinecolor": "rgb(36,36,36)"
           },
           "yaxis": {
            "backgroundcolor": "white",
            "gridcolor": "rgb(232,232,232)",
            "gridwidth": 2,
            "linecolor": "rgb(36,36,36)",
            "showbackground": true,
            "showgrid": false,
            "showline": true,
            "ticks": "outside",
            "zeroline": false,
            "zerolinecolor": "rgb(36,36,36)"
           },
           "zaxis": {
            "backgroundcolor": "white",
            "gridcolor": "rgb(232,232,232)",
            "gridwidth": 2,
            "linecolor": "rgb(36,36,36)",
            "showbackground": true,
            "showgrid": false,
            "showline": true,
            "ticks": "outside",
            "zeroline": false,
            "zerolinecolor": "rgb(36,36,36)"
           }
          },
          "shapedefaults": {
           "fillcolor": "black",
           "line": {
            "width": 0
           },
           "opacity": 0.3
          },
          "ternary": {
           "aaxis": {
            "gridcolor": "rgb(232,232,232)",
            "linecolor": "rgb(36,36,36)",
            "showgrid": false,
            "showline": true,
            "ticks": "outside"
           },
           "baxis": {
            "gridcolor": "rgb(232,232,232)",
            "linecolor": "rgb(36,36,36)",
            "showgrid": false,
            "showline": true,
            "ticks": "outside"
           },
           "bgcolor": "white",
           "caxis": {
            "gridcolor": "rgb(232,232,232)",
            "linecolor": "rgb(36,36,36)",
            "showgrid": false,
            "showline": true,
            "ticks": "outside"
           }
          },
          "title": {
           "x": 0.05
          },
          "xaxis": {
           "automargin": true,
           "gridcolor": "rgb(232,232,232)",
           "linecolor": "rgb(36,36,36)",
           "showgrid": false,
           "showline": true,
           "ticks": "outside",
           "title": {
            "standoff": 15
           },
           "zeroline": false,
           "zerolinecolor": "rgb(36,36,36)"
          },
          "yaxis": {
           "automargin": true,
           "gridcolor": "rgb(232,232,232)",
           "linecolor": "rgb(36,36,36)",
           "showgrid": false,
           "showline": true,
           "ticks": "outside",
           "title": {
            "standoff": 15
           },
           "zeroline": false,
           "zerolinecolor": "rgb(36,36,36)"
          }
         }
        },
        "width": 650,
        "xaxis": {
         "anchor": "y",
         "domain": [
          0,
          1
         ],
         "linecolor": "black",
         "mirror": "allticks",
         "showgrid": false,
         "ticks": "inside",
         "title": {
          "text": "salinity(NaCleq wt%)"
         },
         "zeroline": false
        },
        "yaxis": {
         "anchor": "x",
         "domain": [
          0,
          1
         ],
         "linecolor": "black",
         "mirror": "allticks",
         "showgrid": false,
         "ticks": "inside",
         "title": {
          "text": "Tm H2O"
         },
         "zeroline": false
        }
       }
      },
      "text/html": [
       "<div>                            <div id=\"5ad63c26-1bd5-4b08-9b7d-4d181247d735\" class=\"plotly-graph-div\" style=\"height:500px; width:650px;\"></div>            <script type=\"text/javascript\">                require([\"plotly\"], function(Plotly) {                    window.PLOTLYENV=window.PLOTLYENV || {};                                    if (document.getElementById(\"5ad63c26-1bd5-4b08-9b7d-4d181247d735\")) {                    Plotly.newPlot(                        \"5ad63c26-1bd5-4b08-9b7d-4d181247d735\",                        [{\"customdata\": [[\"BU18FA22\", \"B\", \"FF1\", \"1\", \"L - V\", \"Trolleite\"], [\"BU18FA22\", \"B\", \"FF1\", \"2\", \"L - V\", \"Trolleite\"], [\"BU18FA22\", \"B\", \"FF1\", \"3\", \"L - V\", \"Trolleite\"], [\"BU18FA22\", \"B\", \"FF1\", \"4\", \"L - V\", \"Trolleite\"], [\"BU18FA22\", \"B\", \"FF1\", \"5\", \"L - V\", \"Trolleite\"]], \"hovertemplate\": \"Phases=%{customdata[4]}<br>sample=%{customdata[0]}<br>salinity(NaCleq wt%)=%{x}<br>Tm H2O=%{y}<br>piece=%{customdata[1]}<br>field=%{customdata[2]}<br>analysis=%{customdata[3]}<br>Host=%{customdata[5]}<extra></extra>\", \"legendgroup\": \"L - V, BU18FA22\", \"marker\": {\"color\": \"#636efa\", \"size\": 8, \"symbol\": \"circle\"}, \"mode\": \"markers\", \"name\": \"L - V, BU18FA22\", \"orientation\": \"v\", \"showlegend\": true, \"type\": \"scatter\", \"x\": [20.34458381243426, 18.37100013398051, 17.70202517016243, null, 17.207424606110436], \"xaxis\": \"x\", \"y\": [-16.062120363081583, -10.777707581063199, -16.797148115917036, null, -22.224512532588527], \"yaxis\": \"y\"}, {\"customdata\": [[\"BU18FA20\", \"E\", \"FF1\", \"3\", \"L - V\", \"Trolleite\"], [\"BU18FA20\", \"E\", \"FF1\", \"4\", \"L - V\", \"Trolleite\"], [\"BU18FA20\", \"A\", \"FF2\", \"1\", \"L - V\", \"Trolleite\"], [\"BU18FA20\", \"A\", \"FF2\", \"2\", \"L - V\", \"Trolleite\"], [\"BU18FA20\", \"A\", \"FF2\", \"3\", \"L - V\", \"Trolleite\"], [\"BU18FA20\", \"F\", \"FF2\", \"1\", \"L - V\", \"Trolleite\"], [\"BU18FA20\", \"E\", \"FF1\", \"7\", \"L - V\", \"Trolleite\"], [\"BU18FA20\", \"H\", \"FF1\", \"1\", \"L - V\", \"Trolleite\"], [\"BU18FA20\", \"H\", \"FF1\", \"2\", \"L - V\", \"Trolleite\"], [\"BU18FA20\", \"H\", \"FF1\", \"3\", \"L - V\", \"Trolleite\"], [\"BU18FA20\", \"H\", \"FF1\", \"4\", \"L - V\", \"Trolleite\"], [\"BU18FA20\", \"H\", \"FF1\", \"5\", \"L - V\", \"Trolleite\"]], \"hovertemplate\": \"Phases=%{customdata[4]}<br>sample=%{customdata[0]}<br>salinity(NaCleq wt%)=%{x}<br>Tm H2O=%{y}<br>piece=%{customdata[1]}<br>field=%{customdata[2]}<br>analysis=%{customdata[3]}<br>Host=%{customdata[5]}<extra></extra>\", \"legendgroup\": \"L - V, BU18FA20\", \"marker\": {\"color\": \"#636efa\", \"size\": 8, \"symbol\": \"diamond\"}, \"mode\": \"markers\", \"name\": \"L - V, BU18FA20\", \"orientation\": \"v\", \"showlegend\": true, \"type\": \"scatter\", \"x\": [18.988110791605617, 12.93313854060685, 14.35419230400871, 10.434591077819363, 9.999572753374881, 14.964825792438985, 17.424465665976616, 13.414669000419766, 12.91071309221757, 12.653870147657353, 11.997204066506159, 12.782701830149897], \"xaxis\": \"x\", \"y\": [-14.412006146524355, -14.312330926018907, -17.87914792677834, -12.020605172927874, -14.403741208392471, -9.692796017450364, -13.322378190784285, -14.71110476055968, -14.909494270527594, -13.818351965704068, -13.223183435800328, -13.123988680816371], \"yaxis\": \"y\"}, {\"customdata\": [[\"BU18FA19\", \"A\", \"FF7b\", \"10\", \"L - V\", \"Trolleite\"], [\"BU18FA19\", \"C\", \"FFore1\", \"2\", \"L - V\", \"Trolleite\"], [\"BU18FA19\", \"C\", \"FFore1\", \"4\", \"L - V\", \"Trolleite\"], [\"BU18FA19\", \"C\", \"FFore1\", \"7\", \"L - V\", \"Trolleite\"], [\"BU18FA19\", \"D\", \"FF2\", \"2\", \"L - V\", \"Trolleite\"], [\"BU18FA19\", \"D\", \"FF2\", \"5\", \"L - V\", \"Trolleite\"], [\"BU18FA19\", \"D\", \"FF2\", \"6\", \"L - V\", \"Trolleite\"], [\"BU18FA19\", \"D\", \"FF2\", \"7\", \"L - V\", \"Trolleite\"], [\"BU18FA19\", \"D\", \"FF2\", \"8\", \"L - V\", \"Trolleite\"], [\"BU18FA19\", \"D\", \"FF2\", \"9\", \"L - V\", \"Trolleite\"], [\"BU18FA19\", \"D\", \"FF2\", \"10\", \"L - V\", \"Trolleite\"]], \"hovertemplate\": \"Phases=%{customdata[4]}<br>sample=%{customdata[0]}<br>salinity(NaCleq wt%)=%{x}<br>Tm H2O=%{y}<br>piece=%{customdata[1]}<br>field=%{customdata[2]}<br>analysis=%{customdata[3]}<br>Host=%{customdata[5]}<extra></extra>\", \"legendgroup\": \"L - V, BU18FA19\", \"marker\": {\"color\": \"#636efa\", \"size\": 8, \"symbol\": \"square\"}, \"mode\": \"markers\", \"name\": \"L - V, BU18FA19\", \"orientation\": \"v\", \"showlegend\": true, \"type\": \"scatter\", \"x\": [12.762303309157337, 13.386235621190378, 14.124971711089447, 13.260330243578828, 13.569922818153943, 12.421777969248167, 12.940248473251872, 15.567221213752008, 13.320467458168098, 13.067800697715041, 12.940248473251872], \"xaxis\": \"x\", \"y\": [-16.033234612506263, -15.811565325189736, null, -14.612335338997573, -13.312593142127993, -14.906522842263012, -15.9027289048474, -18.59248527382525, -16.301211329881156, -16.600073148656474, -16.20159072362272], \"yaxis\": \"y\"}, {\"customdata\": [[\"BU18FA20\", \"E\", \"FF1\", \"1\", \"L - L - V\", \"Trolleite\"], [\"BU18FA20\", \"E\", \"FF1\", \"2\", \"L - L - V\", \"Trolleite\"], [\"BU18FA20\", \"E\", \"FF1\", \"6\", \"L - L - V\", \"Trolleite\"]], \"hovertemplate\": \"Phases=%{customdata[4]}<br>sample=%{customdata[0]}<br>salinity(NaCleq wt%)=%{x}<br>Tm H2O=%{y}<br>piece=%{customdata[1]}<br>field=%{customdata[2]}<br>analysis=%{customdata[3]}<br>Host=%{customdata[5]}<extra></extra>\", \"legendgroup\": \"L - L - V, BU18FA20\", \"marker\": {\"color\": \"#EF553B\", \"size\": 8, \"symbol\": \"diamond\"}, \"mode\": \"markers\", \"name\": \"L - L - V, BU18FA20\", \"orientation\": \"v\", \"showlegend\": true, \"type\": \"scatter\", \"x\": [2.7986191239042495, 3.559565984761997, 18.01186417109948], \"xaxis\": \"x\", \"y\": [-15.109732690062483, -14.611356587535248, -12.429625395928673], \"yaxis\": \"y\"}, {\"customdata\": [[\"BU18FA19\", \"B\", \"FF1\", \"5\", \"L - L - V\", \"Trolleite\"], [\"BU18FA19\", \"B\", \"FF1\", \"10\", \"L - L - V\", \"Trolleite\"]], \"hovertemplate\": \"Phases=%{customdata[4]}<br>sample=%{customdata[0]}<br>salinity(NaCleq wt%)=%{x}<br>Tm H2O=%{y}<br>piece=%{customdata[1]}<br>field=%{customdata[2]}<br>analysis=%{customdata[3]}<br>Host=%{customdata[5]}<extra></extra>\", \"legendgroup\": \"L - L - V, BU18FA19\", \"marker\": {\"color\": \"#EF553B\", \"size\": 8, \"symbol\": \"square\"}, \"mode\": \"markers\", \"name\": \"L - L - V, BU18FA19\", \"orientation\": \"v\", \"showlegend\": true, \"type\": \"scatter\", \"x\": [15.168337371012532, 13.260330243578828], \"xaxis\": \"x\", \"y\": [null, null], \"yaxis\": \"y\"}, {\"customdata\": [[\"BU18FA20\", \"E\", \"FF1\", \"5\", \"L - V - S\", \"Trolleite\"], [\"BU18FA20\", \"G\", \"FF1\", \"1\", \"L - V - S\", \"Trolleite\"], [\"BU18FA20\", \"G\", \"FF1\", \"2\", \"L - V - S\", \"Trolleite\"], [\"BU18FA20\", \"G\", \"FF1\", \"3\", \"L - V - S\", \"Trolleite\"], [\"BU18FA20\", \"H\", \"FF1\", \"7\", \"L - V - S\", \"Trolleite\"], [\"BU18FA20\", \"J\", \"FF1\", \"1\", \"L - V - S\", \"Trolleite\"], [\"BU18FA20\", \"J\", \"FF1\", \"2\", \"L - V - S\", \"Trolleite\"], [\"BU18FA20\", \"J\", \"FF1\", \"3\", \"L - V - S\", \"Trolleite\"]], \"hovertemplate\": \"Phases=%{customdata[4]}<br>sample=%{customdata[0]}<br>salinity(NaCleq wt%)=%{x}<br>Tm H2O=%{y}<br>piece=%{customdata[1]}<br>field=%{customdata[2]}<br>analysis=%{customdata[3]}<br>Host=%{customdata[5]}<extra></extra>\", \"legendgroup\": \"L - V - S, BU18FA20\", \"marker\": {\"color\": \"#00cc96\", \"size\": 8, \"symbol\": \"diamond\"}, \"mode\": \"markers\", \"name\": \"L - V - S, BU18FA20\", \"orientation\": \"v\", \"showlegend\": true, \"type\": \"scatter\", \"x\": [12.393722508561602, null, 18.392386073034213, null, 13.661874015405918, 12.82112109079005, 12.693737837264916, 12.306711084038552], \"xaxis\": \"x\", \"y\": [-16.00063657535112, null, -15.10788378049551, null, -13.619962455736156, -14.286993612032022, -15.073156095137984, -12.812938956208342], \"yaxis\": \"y\"}, {\"customdata\": [[\"BU18FA19\", \"A\", \"FF7b\", \"1\", \"L - V - S\", \"Trolleite\"], [\"BU18FA19\", \"A\", \"FF7b\", \"2\", \"L - V - S\", \"Trolleite\"], [\"BU18FA19\", \"A\", \"FF7b\", \"3\", \"L - V - S\", \"Trolleite\"], [\"BU18FA19\", \"A\", \"FF7b\", \"4\", \"L - V - S\", \"Trolleite\"], [\"BU18FA19\", \"A\", \"FF7b\", \"5\", \"L - V - S\", \"Trolleite\"], [\"BU18FA19\", \"A\", \"FF7b\", \"6\", \"L - V - S\", \"Trolleite\"], [\"BU18FA19\", \"A\", \"FF7b\", \"7\", \"L - V - S\", \"Trolleite\"], [\"BU18FA19\", \"A\", \"FF7b\", \"8\", \"L - V - S\", \"Trolleite\"], [\"BU18FA19\", \"A\", \"FF7b\", \"9\", \"L - V - S\", \"Trolleite\"], [\"BU18FA19\", \"B\", \"FF1\", \"1\", \"L - V - S\", \"Trolleite\"], [\"BU18FA19\", \"B\", \"FF1\", \"2\", \"L - V - S\", \"Trolleite\"], [\"BU18FA19\", \"B\", \"FF1\", \"3\", \"L - V - S\", \"Trolleite\"], [\"BU18FA19\", \"B\", \"FF1\", \"4\", \"L - V - S\", \"Trolleite\"], [\"BU18FA19\", \"B\", \"FF1\", \"6\", \"L - V - S\", \"Trolleite\"], [\"BU18FA19\", \"B\", \"FF1\", \"7\", \"L - V - S\", \"Trolleite\"], [\"BU18FA19\", \"B\", \"FF1\", \"8\", \"L - V - S\", \"Trolleite\"], [\"BU18FA19\", \"B\", \"FF1\", \"9\", \"L - V - S\", \"Trolleite\"], [\"BU18FA19\", \"C\", \"FFore1\", \"1\", \"L - V - S\", \"Trolleite\"], [\"BU18FA19\", \"C\", \"FFore1\", \"3\", \"L - V - S\", \"Trolleite\"], [\"BU18FA19\", \"C\", \"FFore1\", \"5\", \"L - V - S\", \"Trolleite\"], [\"BU18FA19\", \"C\", \"FFore1\", \"6\", \"L - V - S\", \"Trolleite\"], [\"BU18FA19\", \"D\", \"FF2\", \"1\", \"L - V - S\", \"Trolleite\"], [\"BU18FA19\", \"D\", \"FF2\", \"3\", \"L - V - S\", \"Trolleite\"], [\"BU18FA19\", \"D\", \"FF2\", \"4\", \"L - V - S\", \"Trolleite\"]], \"hovertemplate\": \"Phases=%{customdata[4]}<br>sample=%{customdata[0]}<br>salinity(NaCleq wt%)=%{x}<br>Tm H2O=%{y}<br>piece=%{customdata[1]}<br>field=%{customdata[2]}<br>analysis=%{customdata[3]}<br>Host=%{customdata[5]}<extra></extra>\", \"legendgroup\": \"L - V - S, BU18FA19\", \"marker\": {\"color\": \"#00cc96\", \"size\": 8, \"symbol\": \"square\"}, \"mode\": \"markers\", \"name\": \"L - V - S, BU18FA19\", \"orientation\": \"v\", \"showlegend\": true, \"type\": \"scatter\", \"x\": [6.624765812639447, 13.9979441837764, 10.473248122614311, 12.889411204921602, 12.634387313112137, 12.505657602061046, 13.265942437778394, 12.505657602061046, 13.389874079668525, 16.626524742639393, 13.622309309365908, null, 13.37289061066687, 14.364997821362445, 12.618524528470758, 12.223406245437, 12.487666438197396, null, 13.006081372306383, 12.748542458833217, 12.618524528470758, 13.6934607920331, 12.940248473251872, 12.552646491420896], \"xaxis\": \"x\", \"y\": [-8.161843821335562, -8.752198130673365, -8.457020976004463, -15.836449842727, -16.033234612506263, -15.934842227616633, -17.0171584614026, -16.721981306733703, -15.442880303168465, -6.919900964039604, -14.192023783248528, null, -16.4891271571651, -9.115864568950167, -17.610410304477977, -16.710987814833857, -14.012720345901494, null, -15.511757828641695, -15.811565325189736, -17.810281968843338, -17.695899817499303, -15.803108298588961, -14.707281629746136], \"yaxis\": \"y\"}, {\"customdata\": [[\"BU18FA20\", \"G\", \"FF1\", \"4\", \"V - L\", \"Trolleite\"]], \"hovertemplate\": \"Phases=%{customdata[4]}<br>sample=%{customdata[0]}<br>salinity(NaCleq wt%)=%{x}<br>Tm H2O=%{y}<br>piece=%{customdata[1]}<br>field=%{customdata[2]}<br>analysis=%{customdata[3]}<br>Host=%{customdata[5]}<extra></extra>\", \"legendgroup\": \"V - L, BU18FA20\", \"marker\": {\"color\": \"#ab63fa\", \"size\": 8, \"symbol\": \"diamond\"}, \"mode\": \"markers\", \"name\": \"V - L, BU18FA20\", \"orientation\": \"v\", \"showlegend\": true, \"type\": \"scatter\", \"x\": [12.524212291530924], \"xaxis\": \"x\", \"y\": [-13.322378190784285], \"yaxis\": \"y\"}, {\"customdata\": [[\"BU18FA20\", \"H\", \"FF1\", \"6\", \"L\", \"Trolleite\"]], \"hovertemplate\": \"Phases=%{customdata[4]}<br>sample=%{customdata[0]}<br>salinity(NaCleq wt%)=%{x}<br>Tm H2O=%{y}<br>piece=%{customdata[1]}<br>field=%{customdata[2]}<br>analysis=%{customdata[3]}<br>Host=%{customdata[5]}<extra></extra>\", \"legendgroup\": \"L, BU18FA20\", \"marker\": {\"color\": \"#FFA15A\", \"size\": 8, \"symbol\": \"diamond\"}, \"mode\": \"markers\", \"name\": \"L, BU18FA20\", \"orientation\": \"v\", \"showlegend\": true, \"type\": \"scatter\", \"x\": [null], \"xaxis\": \"x\", \"y\": [null], \"yaxis\": \"y\"}, {\"customdata\": [[\"BU18FA19\", \"B\", \"FF1\", \"MI\", \"S - L - V\", \"Trolleite\"]], \"hovertemplate\": \"Phases=%{customdata[4]}<br>sample=%{customdata[0]}<br>salinity(NaCleq wt%)=%{x}<br>Tm H2O=%{y}<br>piece=%{customdata[1]}<br>field=%{customdata[2]}<br>analysis=%{customdata[3]}<br>Host=%{customdata[5]}<extra></extra>\", \"legendgroup\": \"S - L - V, BU18FA19\", \"marker\": {\"color\": \"#19d3f3\", \"size\": 8, \"symbol\": \"square\"}, \"mode\": \"markers\", \"name\": \"S - L - V, BU18FA19\", \"orientation\": \"v\", \"showlegend\": true, \"type\": \"scatter\", \"x\": [null], \"xaxis\": \"x\", \"y\": [null], \"yaxis\": \"y\"}],                        {\"height\": 500, \"legend\": {\"title\": {\"text\": \"Phases, sample\"}, \"tracegroupgap\": 0}, \"margin\": {\"t\": 60}, \"plot_bgcolor\": \"white\", \"template\": {\"data\": {\"bar\": [{\"error_x\": {\"color\": \"rgb(36,36,36)\"}, \"error_y\": {\"color\": \"rgb(36,36,36)\"}, \"marker\": {\"line\": {\"color\": \"white\", \"width\": 0.5}}, \"type\": \"bar\"}], \"barpolar\": [{\"marker\": {\"line\": {\"color\": \"white\", \"width\": 0.5}}, \"type\": \"barpolar\"}], \"carpet\": [{\"aaxis\": {\"endlinecolor\": \"rgb(36,36,36)\", \"gridcolor\": \"white\", \"linecolor\": \"white\", \"minorgridcolor\": \"white\", \"startlinecolor\": \"rgb(36,36,36)\"}, \"baxis\": {\"endlinecolor\": \"rgb(36,36,36)\", \"gridcolor\": \"white\", \"linecolor\": \"white\", \"minorgridcolor\": \"white\", \"startlinecolor\": \"rgb(36,36,36)\"}, \"type\": \"carpet\"}], \"choropleth\": [{\"colorbar\": {\"outlinewidth\": 1, \"tickcolor\": \"rgb(36,36,36)\", \"ticks\": \"outside\"}, \"type\": \"choropleth\"}], \"contour\": [{\"colorbar\": {\"outlinewidth\": 1, \"tickcolor\": \"rgb(36,36,36)\", \"ticks\": \"outside\"}, \"colorscale\": [[0.0, \"#440154\"], [0.1111111111111111, \"#482878\"], [0.2222222222222222, \"#3e4989\"], [0.3333333333333333, \"#31688e\"], [0.4444444444444444, \"#26828e\"], [0.5555555555555556, \"#1f9e89\"], [0.6666666666666666, \"#35b779\"], [0.7777777777777778, \"#6ece58\"], [0.8888888888888888, \"#b5de2b\"], [1.0, \"#fde725\"]], \"type\": \"contour\"}], \"contourcarpet\": [{\"colorbar\": {\"outlinewidth\": 1, \"tickcolor\": \"rgb(36,36,36)\", \"ticks\": \"outside\"}, \"type\": \"contourcarpet\"}], \"heatmap\": [{\"colorbar\": {\"outlinewidth\": 1, \"tickcolor\": \"rgb(36,36,36)\", \"ticks\": \"outside\"}, \"colorscale\": [[0.0, \"#440154\"], [0.1111111111111111, \"#482878\"], [0.2222222222222222, \"#3e4989\"], [0.3333333333333333, \"#31688e\"], [0.4444444444444444, \"#26828e\"], [0.5555555555555556, \"#1f9e89\"], [0.6666666666666666, \"#35b779\"], [0.7777777777777778, \"#6ece58\"], [0.8888888888888888, \"#b5de2b\"], [1.0, \"#fde725\"]], \"type\": \"heatmap\"}], \"heatmapgl\": [{\"colorbar\": {\"outlinewidth\": 1, \"tickcolor\": \"rgb(36,36,36)\", \"ticks\": \"outside\"}, \"colorscale\": [[0.0, \"#440154\"], [0.1111111111111111, \"#482878\"], [0.2222222222222222, \"#3e4989\"], [0.3333333333333333, \"#31688e\"], [0.4444444444444444, \"#26828e\"], [0.5555555555555556, \"#1f9e89\"], [0.6666666666666666, \"#35b779\"], [0.7777777777777778, \"#6ece58\"], [0.8888888888888888, \"#b5de2b\"], [1.0, \"#fde725\"]], \"type\": \"heatmapgl\"}], \"histogram\": [{\"marker\": {\"line\": {\"color\": \"white\", \"width\": 0.6}}, \"type\": \"histogram\"}], \"histogram2d\": [{\"colorbar\": {\"outlinewidth\": 1, \"tickcolor\": \"rgb(36,36,36)\", \"ticks\": \"outside\"}, \"colorscale\": [[0.0, \"#440154\"], [0.1111111111111111, \"#482878\"], [0.2222222222222222, \"#3e4989\"], [0.3333333333333333, \"#31688e\"], [0.4444444444444444, \"#26828e\"], [0.5555555555555556, \"#1f9e89\"], [0.6666666666666666, \"#35b779\"], [0.7777777777777778, \"#6ece58\"], [0.8888888888888888, \"#b5de2b\"], [1.0, \"#fde725\"]], \"type\": \"histogram2d\"}], \"histogram2dcontour\": [{\"colorbar\": {\"outlinewidth\": 1, \"tickcolor\": \"rgb(36,36,36)\", \"ticks\": \"outside\"}, \"colorscale\": [[0.0, \"#440154\"], [0.1111111111111111, \"#482878\"], [0.2222222222222222, \"#3e4989\"], [0.3333333333333333, \"#31688e\"], [0.4444444444444444, \"#26828e\"], [0.5555555555555556, \"#1f9e89\"], [0.6666666666666666, \"#35b779\"], [0.7777777777777778, \"#6ece58\"], [0.8888888888888888, \"#b5de2b\"], [1.0, \"#fde725\"]], \"type\": \"histogram2dcontour\"}], \"mesh3d\": [{\"colorbar\": {\"outlinewidth\": 1, \"tickcolor\": \"rgb(36,36,36)\", \"ticks\": \"outside\"}, \"type\": \"mesh3d\"}], \"parcoords\": [{\"line\": {\"colorbar\": {\"outlinewidth\": 1, \"tickcolor\": \"rgb(36,36,36)\", \"ticks\": \"outside\"}}, \"type\": \"parcoords\"}], \"pie\": [{\"automargin\": true, \"type\": \"pie\"}], \"scatter\": [{\"marker\": {\"colorbar\": {\"outlinewidth\": 1, \"tickcolor\": \"rgb(36,36,36)\", \"ticks\": \"outside\"}}, \"type\": \"scatter\"}], \"scatter3d\": [{\"line\": {\"colorbar\": {\"outlinewidth\": 1, \"tickcolor\": \"rgb(36,36,36)\", \"ticks\": \"outside\"}}, \"marker\": {\"colorbar\": {\"outlinewidth\": 1, \"tickcolor\": \"rgb(36,36,36)\", \"ticks\": \"outside\"}}, \"type\": \"scatter3d\"}], \"scattercarpet\": [{\"marker\": {\"colorbar\": {\"outlinewidth\": 1, \"tickcolor\": \"rgb(36,36,36)\", \"ticks\": \"outside\"}}, \"type\": \"scattercarpet\"}], \"scattergeo\": [{\"marker\": {\"colorbar\": {\"outlinewidth\": 1, \"tickcolor\": \"rgb(36,36,36)\", \"ticks\": \"outside\"}}, \"type\": \"scattergeo\"}], \"scattergl\": [{\"marker\": {\"colorbar\": {\"outlinewidth\": 1, \"tickcolor\": \"rgb(36,36,36)\", \"ticks\": \"outside\"}}, \"type\": \"scattergl\"}], \"scattermapbox\": [{\"marker\": {\"colorbar\": {\"outlinewidth\": 1, \"tickcolor\": \"rgb(36,36,36)\", \"ticks\": \"outside\"}}, \"type\": \"scattermapbox\"}], \"scatterpolar\": [{\"marker\": {\"colorbar\": {\"outlinewidth\": 1, \"tickcolor\": \"rgb(36,36,36)\", \"ticks\": \"outside\"}}, \"type\": \"scatterpolar\"}], \"scatterpolargl\": [{\"marker\": {\"colorbar\": {\"outlinewidth\": 1, \"tickcolor\": \"rgb(36,36,36)\", \"ticks\": \"outside\"}}, \"type\": \"scatterpolargl\"}], \"scatterternary\": [{\"marker\": {\"colorbar\": {\"outlinewidth\": 1, \"tickcolor\": \"rgb(36,36,36)\", \"ticks\": \"outside\"}}, \"type\": \"scatterternary\"}], \"surface\": [{\"colorbar\": {\"outlinewidth\": 1, \"tickcolor\": \"rgb(36,36,36)\", \"ticks\": \"outside\"}, \"colorscale\": [[0.0, \"#440154\"], [0.1111111111111111, \"#482878\"], [0.2222222222222222, \"#3e4989\"], [0.3333333333333333, \"#31688e\"], [0.4444444444444444, \"#26828e\"], [0.5555555555555556, \"#1f9e89\"], [0.6666666666666666, \"#35b779\"], [0.7777777777777778, \"#6ece58\"], [0.8888888888888888, \"#b5de2b\"], [1.0, \"#fde725\"]], \"type\": \"surface\"}], \"table\": [{\"cells\": {\"fill\": {\"color\": \"rgb(237,237,237)\"}, \"line\": {\"color\": \"white\"}}, \"header\": {\"fill\": {\"color\": \"rgb(217,217,217)\"}, \"line\": {\"color\": \"white\"}}, \"type\": \"table\"}]}, \"layout\": {\"annotationdefaults\": {\"arrowhead\": 0, \"arrowwidth\": 1}, \"autotypenumbers\": \"strict\", \"coloraxis\": {\"colorbar\": {\"outlinewidth\": 1, \"tickcolor\": \"rgb(36,36,36)\", \"ticks\": \"outside\"}}, \"colorscale\": {\"diverging\": [[0.0, \"rgb(103,0,31)\"], [0.1, \"rgb(178,24,43)\"], [0.2, \"rgb(214,96,77)\"], [0.3, \"rgb(244,165,130)\"], [0.4, \"rgb(253,219,199)\"], [0.5, \"rgb(247,247,247)\"], [0.6, \"rgb(209,229,240)\"], [0.7, \"rgb(146,197,222)\"], [0.8, \"rgb(67,147,195)\"], [0.9, \"rgb(33,102,172)\"], [1.0, \"rgb(5,48,97)\"]], \"sequential\": [[0.0, \"#440154\"], [0.1111111111111111, \"#482878\"], [0.2222222222222222, \"#3e4989\"], [0.3333333333333333, \"#31688e\"], [0.4444444444444444, \"#26828e\"], [0.5555555555555556, \"#1f9e89\"], [0.6666666666666666, \"#35b779\"], [0.7777777777777778, \"#6ece58\"], [0.8888888888888888, \"#b5de2b\"], [1.0, \"#fde725\"]], \"sequentialminus\": [[0.0, \"#440154\"], [0.1111111111111111, \"#482878\"], [0.2222222222222222, \"#3e4989\"], [0.3333333333333333, \"#31688e\"], [0.4444444444444444, \"#26828e\"], [0.5555555555555556, \"#1f9e89\"], [0.6666666666666666, \"#35b779\"], [0.7777777777777778, \"#6ece58\"], [0.8888888888888888, \"#b5de2b\"], [1.0, \"#fde725\"]]}, \"colorway\": [\"#1F77B4\", \"#FF7F0E\", \"#2CA02C\", \"#D62728\", \"#9467BD\", \"#8C564B\", \"#E377C2\", \"#7F7F7F\", \"#BCBD22\", \"#17BECF\"], \"font\": {\"color\": \"rgb(36,36,36)\"}, \"geo\": {\"bgcolor\": \"white\", \"lakecolor\": \"white\", \"landcolor\": \"white\", \"showlakes\": true, \"showland\": true, \"subunitcolor\": \"white\"}, \"hoverlabel\": {\"align\": \"left\"}, \"hovermode\": \"closest\", \"mapbox\": {\"style\": \"light\"}, \"paper_bgcolor\": \"white\", \"plot_bgcolor\": \"white\", \"polar\": {\"angularaxis\": {\"gridcolor\": \"rgb(232,232,232)\", \"linecolor\": \"rgb(36,36,36)\", \"showgrid\": false, \"showline\": true, \"ticks\": \"outside\"}, \"bgcolor\": \"white\", \"radialaxis\": {\"gridcolor\": \"rgb(232,232,232)\", \"linecolor\": \"rgb(36,36,36)\", \"showgrid\": false, \"showline\": true, \"ticks\": \"outside\"}}, \"scene\": {\"xaxis\": {\"backgroundcolor\": \"white\", \"gridcolor\": \"rgb(232,232,232)\", \"gridwidth\": 2, \"linecolor\": \"rgb(36,36,36)\", \"showbackground\": true, \"showgrid\": false, \"showline\": true, \"ticks\": \"outside\", \"zeroline\": false, \"zerolinecolor\": \"rgb(36,36,36)\"}, \"yaxis\": {\"backgroundcolor\": \"white\", \"gridcolor\": \"rgb(232,232,232)\", \"gridwidth\": 2, \"linecolor\": \"rgb(36,36,36)\", \"showbackground\": true, \"showgrid\": false, \"showline\": true, \"ticks\": \"outside\", \"zeroline\": false, \"zerolinecolor\": \"rgb(36,36,36)\"}, \"zaxis\": {\"backgroundcolor\": \"white\", \"gridcolor\": \"rgb(232,232,232)\", \"gridwidth\": 2, \"linecolor\": \"rgb(36,36,36)\", \"showbackground\": true, \"showgrid\": false, \"showline\": true, \"ticks\": \"outside\", \"zeroline\": false, \"zerolinecolor\": \"rgb(36,36,36)\"}}, \"shapedefaults\": {\"fillcolor\": \"black\", \"line\": {\"width\": 0}, \"opacity\": 0.3}, \"ternary\": {\"aaxis\": {\"gridcolor\": \"rgb(232,232,232)\", \"linecolor\": \"rgb(36,36,36)\", \"showgrid\": false, \"showline\": true, \"ticks\": \"outside\"}, \"baxis\": {\"gridcolor\": \"rgb(232,232,232)\", \"linecolor\": \"rgb(36,36,36)\", \"showgrid\": false, \"showline\": true, \"ticks\": \"outside\"}, \"bgcolor\": \"white\", \"caxis\": {\"gridcolor\": \"rgb(232,232,232)\", \"linecolor\": \"rgb(36,36,36)\", \"showgrid\": false, \"showline\": true, \"ticks\": \"outside\"}}, \"title\": {\"x\": 0.05}, \"xaxis\": {\"automargin\": true, \"gridcolor\": \"rgb(232,232,232)\", \"linecolor\": \"rgb(36,36,36)\", \"showgrid\": false, \"showline\": true, \"ticks\": \"outside\", \"title\": {\"standoff\": 15}, \"zeroline\": false, \"zerolinecolor\": \"rgb(36,36,36)\"}, \"yaxis\": {\"automargin\": true, \"gridcolor\": \"rgb(232,232,232)\", \"linecolor\": \"rgb(36,36,36)\", \"showgrid\": false, \"showline\": true, \"ticks\": \"outside\", \"title\": {\"standoff\": 15}, \"zeroline\": false, \"zerolinecolor\": \"rgb(36,36,36)\"}}}, \"width\": 650, \"xaxis\": {\"anchor\": \"y\", \"domain\": [0.0, 1.0], \"linecolor\": \"black\", \"mirror\": \"allticks\", \"showgrid\": false, \"ticks\": \"inside\", \"title\": {\"text\": \"salinity(NaCleq wt%)\"}, \"zeroline\": false}, \"yaxis\": {\"anchor\": \"x\", \"domain\": [0.0, 1.0], \"linecolor\": \"black\", \"mirror\": \"allticks\", \"showgrid\": false, \"ticks\": \"inside\", \"title\": {\"text\": \"Tm H2O\"}, \"zeroline\": false}},                        {\"responsive\": true}                    ).then(function(){\n",
       "                            \n",
       "var gd = document.getElementById('5ad63c26-1bd5-4b08-9b7d-4d181247d735');\n",
       "var x = new MutationObserver(function (mutations, observer) {{\n",
       "        var display = window.getComputedStyle(gd).display;\n",
       "        if (!display || display === 'none') {{\n",
       "            console.log([gd, 'removed!']);\n",
       "            Plotly.purge(gd);\n",
       "            observer.disconnect();\n",
       "        }}\n",
       "}});\n",
       "\n",
       "// Listen for the removal of the full notebook cells\n",
       "var notebookContainer = gd.closest('#notebook-container');\n",
       "if (notebookContainer) {{\n",
       "    x.observe(notebookContainer, {childList: true});\n",
       "}}\n",
       "\n",
       "// Listen for the clearing of the current output cell\n",
       "var outputEl = gd.closest('.output');\n",
       "if (outputEl) {{\n",
       "    x.observe(outputEl, {childList: true});\n",
       "}}\n",
       "\n",
       "                        })                };                });            </script>        </div>"
      ]
     },
     "metadata": {},
     "output_type": "display_data"
    }
   ],
   "source": [
    "\n",
    "df_wyl = df_corrected.query('Host == \"Wyllieite\"')\n",
    "df_trl = df_corrected.query('Host == \"Trolleite\"')\n",
    "df_bts = df_corrected.query('Host == \"Bertossaite\"')\n",
    "df_aug = df_corrected.query('Host == \"Augelite\"')\n",
    "df_brz = df_corrected.query('Host == \"Brazilianite\"')\n",
    "df_qtz = df_corrected.query('Host == \"Quartz\"')\n",
    "\n",
    "\n",
    "# --- plot figures\n",
    "fig = px.scatter(df_trl, x=\"salinity(NaCleq wt%)\", y=\"Tm H2O\",\n",
    "                 symbol = \"sample\", color=\"Phases\", \n",
    "                 hover_data=[\"sample\",'piece','field',\"analysis\",\"Phases\",\"Host\"],\n",
    "                 width=650, height=500)\n",
    "\n",
    "fig.update_layout(plot_bgcolor=\"white\",template=\"simple_white\")\n",
    "\n",
    "fig.update_traces(marker=dict(size=8),\n",
    "                  selector=dict(mode='markers'))\n",
    "\n",
    "fig.update_xaxes(ticks='inside',zeroline=False,linecolor=\"black\",showgrid=False,mirror= \"allticks\")#,range=(0,23.2))\n",
    "fig.update_yaxes(ticks='inside',zeroline=False,linecolor=\"black\",showgrid=False,mirror= \"allticks\")#,range=(-25,15))\n",
    "\n",
    "# fig.update_xaxes(tickvals=[0,1,2,3,4,5,6,7])\n",
    "\n",
    "\n",
    "# fig.write_image(\"FI_N2-Co2_vs_NaLi_mol.pdf\");\n",
    "fig.show()"
   ]
  },
  {
   "cell_type": "code",
   "execution_count": null,
   "metadata": {
    "scrolled": false
   },
   "outputs": [],
   "source": [
    "\n",
    "df_wyl = df_corrected.query('Host == \"Wyllieite\"')\n",
    "df_trl = df_corrected.query('Host == \"Trolleite\"')\n",
    "df_bts = df_corrected.query('Host == \"Bertossaite\"')\n",
    "df_aug = df_corrected.query('Host == \"Augelite\"')\n",
    "df_brz = df_corrected.query('Host == \"Brazilianite\"')\n",
    "df_qtz = df_corrected.query('Host == \"Quartz\"')\n",
    "\n",
    "\n",
    "# --- plot figures\n",
    "fig = px.scatter(df_corrected, x=\"salinity(NaCleq wt%)\", y=\"Tm CL\",\n",
    "                 symbol = \"Phases\", color=\"Host\", \n",
    "                 hover_data=[\"sample\",'piece','field',\"analysis\",\"Phases\",\"Host\"],\n",
    "                 width=650, height=500)\n",
    "\n",
    "fig.update_layout(plot_bgcolor=\"white\",template=\"simple_white\")\n",
    "\n",
    "fig.update_traces(marker=dict(size=8),\n",
    "                  selector=dict(mode='markers'))\n",
    "\n",
    "fig.update_xaxes(ticks='inside',zeroline=False,linecolor=\"black\",showgrid=False,mirror= \"allticks\",range=(0,23.2))\n",
    "fig.update_yaxes(ticks='inside',zeroline=False,linecolor=\"black\",showgrid=False,mirror= \"allticks\",range=(-25,15))\n",
    "\n",
    "# fig.update_xaxes(tickvals=[0,1,2,3,4,5,6,7])\n",
    "\n",
    "# Adding features to plot\n",
    "\n",
    "# Create lines for salinity curves in multiple systems\n",
    "yline = np.arange (-10, 10.5, 0.5) \n",
    "xDar = np.zeros(len(yline))\n",
    "\n",
    "xBoz = np.zeros(len(yline))\n",
    "\n",
    "    #-H2O-NaCl-CO2 after Darling (1991) GCA\n",
    "i=0\n",
    "for item in yline:\n",
    "    xDar[i] = (0.00098241*(10-item)*(item**2 + (45.385*item) + 1588.75))\n",
    "    i=i+1\n",
    "    \n",
    "    #-H2O-NaCl-CO2 after Bozzo et al. (1973,1975)\n",
    "# j=0    \n",
    "# for item in yline:\n",
    "#     xBoz[j] = 0.05286*(10-item)*(item+29.361)\n",
    "#     j=j+1\n",
    "    \n",
    "    #-H2O-NaCl after Bodnar (1993) GCA\n",
    "yBod = np.arange (-21.2, 0.2, 0.2) \n",
    "xBod = np.zeros(len(yBod))    \n",
    "\n",
    "k=0    \n",
    "for item in yBod:\n",
    "    xBod[k] = (1.78*(0-item))-(0.0442*((0-item)**2))+(0.000557*((0-item)**3))\n",
    "    k=k+1\n",
    "    \n",
    "        \n",
    "#Plot features\n",
    "fig.add_traces(list(px.line(x=xDar, y=yline).select_traces()))\n",
    "\n",
    "# fig.add_traces(list(px.line(x=xBoz,y=yline).select_traces()))\n",
    "\n",
    "fig.add_traces(list(px.line(x=xBod,y=yBod).select_traces()))\n",
    "\n",
    "\n",
    "fig.add_traces(list(px.scatter(df_corrected, x=\"salBod(NaCleq%)\", y=\"Tm H2O\",\n",
    "                 symbol = \"Phases\", color=\"Host\", \n",
    "                 hover_data=[\"sample\",'piece','field',\"analysis\",\"Phases\",\"Host\"]).select_traces()))\n",
    "\n",
    "\n",
    "\n",
    "\n",
    "# fig.data = (fig.data[1],fig.data[2],fig.data[0]) #changer order of plotting\n",
    "\n",
    "# fig.write_image(\"FI_N2-Co2_vs_NaLi_mol.pdf\");\n",
    "fig.show()\n"
   ]
  },
  {
   "cell_type": "code",
   "execution_count": null,
   "metadata": {},
   "outputs": [],
   "source": [
    "# --- Use formula from Bodnar(1993) GCA 57 to calculate the salinity in the H20-NaCl system\n",
    "\n",
    "x = -(df_corrected['Tm H2O']) # get the freezing point depression temperature value\n",
    "\n",
    "df_corrected['Bodnar'] = 0.00 + 1.78*x - 0.0442*(x**2) + 0.000557*(x**3)\n",
    "\n",
    "df_corrected"
   ]
  },
  {
   "cell_type": "code",
   "execution_count": null,
   "metadata": {},
   "outputs": [],
   "source": []
  }
 ],
 "metadata": {
  "kernelspec": {
   "display_name": "Python 3",
   "language": "python",
   "name": "python3"
  },
  "language_info": {
   "codemirror_mode": {
    "name": "ipython",
    "version": 3
   },
   "file_extension": ".py",
   "mimetype": "text/x-python",
   "name": "python",
   "nbconvert_exporter": "python",
   "pygments_lexer": "ipython3",
   "version": "3.7.1"
  }
 },
 "nbformat": 4,
 "nbformat_minor": 2
}
