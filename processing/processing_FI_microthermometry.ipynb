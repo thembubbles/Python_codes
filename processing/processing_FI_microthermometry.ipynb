{
 "cells": [
  {
   "cell_type": "code",
   "execution_count": 1,
   "metadata": {},
   "outputs": [
    {
     "name": "stdout",
     "output_type": "stream",
     "text": [
      "pick a folder : C:/Users/u0125722/OneDrive - KU Leuven/Buranga/Microthermometry/_data/\n"
     ]
    }
   ],
   "source": [
    "# ---------------- processing fluid inclusion data (microthermometry + Raman spectroscopy)\n",
    "\n",
    "\n",
    "# --- import modules\n",
    "\n",
    "import os\n",
    "import pandas as pd\n",
    "import numpy as np\n",
    "import matplotlib.pyplot as plt\n",
    "from matplotlib.ticker import (MultipleLocator, AutoMinorLocator)\n",
    "import plotly.express as px\n",
    "\n",
    "# --- set working directories\n",
    "\n",
    "\n",
    "base_dir = input(\"pick a folder : \")\n",
    "\n",
    "# \"C:/Users/u0125722/OneDrive - KU Leuven/Buranga/Microthermometry/_data/\""
   ]
  },
  {
   "cell_type": "code",
   "execution_count": 56,
   "metadata": {
    "scrolled": true
   },
   "outputs": [
    {
     "name": "stdout",
     "output_type": "stream",
     "text": [
      "Index(['Date', 'sample', 'piece', 'field', 'Host', 'analysis', 'Length',\n",
      "       'Width', 'Phases', 'VL (%)', 'VV (%)', 'V2 (%)', 'Vb', 'Tm CO2', 'Te',\n",
      "       'Tm Hh', 'Tm H2O', 'Tm CL', 'Th CO2', 'Tm Xts', 'Th total', 'Hmg Mode',\n",
      "       'Type', 'Color', 'Symbol'],\n",
      "      dtype='object')\n"
     ]
    },
    {
     "data": {
      "text/html": [
       "<div>\n",
       "<style scoped>\n",
       "    .dataframe tbody tr th:only-of-type {\n",
       "        vertical-align: middle;\n",
       "    }\n",
       "\n",
       "    .dataframe tbody tr th {\n",
       "        vertical-align: top;\n",
       "    }\n",
       "\n",
       "    .dataframe thead th {\n",
       "        text-align: right;\n",
       "    }\n",
       "</style>\n",
       "<table border=\"1\" class=\"dataframe\">\n",
       "  <thead>\n",
       "    <tr style=\"text-align: right;\">\n",
       "      <th></th>\n",
       "      <th>Date</th>\n",
       "      <th>sample</th>\n",
       "      <th>piece</th>\n",
       "      <th>field</th>\n",
       "      <th>Host</th>\n",
       "      <th>analysis</th>\n",
       "      <th>Length</th>\n",
       "      <th>Width</th>\n",
       "      <th>Phases</th>\n",
       "      <th>VL (%)</th>\n",
       "      <th>...</th>\n",
       "      <th>Tm Hh</th>\n",
       "      <th>Tm H2O</th>\n",
       "      <th>Tm CL</th>\n",
       "      <th>Th CO2</th>\n",
       "      <th>Tm Xts</th>\n",
       "      <th>Th total</th>\n",
       "      <th>Hmg Mode</th>\n",
       "      <th>Type</th>\n",
       "      <th>Color</th>\n",
       "      <th>Symbol</th>\n",
       "    </tr>\n",
       "  </thead>\n",
       "  <tbody>\n",
       "    <tr>\n",
       "      <th>1</th>\n",
       "      <td>11/02/2019</td>\n",
       "      <td>BU18FA22</td>\n",
       "      <td>A</td>\n",
       "      <td>FF1</td>\n",
       "      <td>Quartz</td>\n",
       "      <td>1</td>\n",
       "      <td>9.1</td>\n",
       "      <td>7.4</td>\n",
       "      <td>L - V</td>\n",
       "      <td>75.0</td>\n",
       "      <td>...</td>\n",
       "      <td>NaN</td>\n",
       "      <td>NaN</td>\n",
       "      <td>NaN</td>\n",
       "      <td>NaN</td>\n",
       "      <td>NaN</td>\n",
       "      <td>NaN</td>\n",
       "      <td>NaN</td>\n",
       "      <td>NaN</td>\n",
       "      <td>grey</td>\n",
       "      <td>circle</td>\n",
       "    </tr>\n",
       "    <tr>\n",
       "      <th>2</th>\n",
       "      <td>11/02/2019</td>\n",
       "      <td>BU18FA22</td>\n",
       "      <td>A</td>\n",
       "      <td>FF1</td>\n",
       "      <td>Quartz</td>\n",
       "      <td>2</td>\n",
       "      <td>9.8</td>\n",
       "      <td>7.8</td>\n",
       "      <td>L - V</td>\n",
       "      <td>72.0</td>\n",
       "      <td>...</td>\n",
       "      <td>NaN</td>\n",
       "      <td>NaN</td>\n",
       "      <td>NaN</td>\n",
       "      <td>NaN</td>\n",
       "      <td>NaN</td>\n",
       "      <td>NaN</td>\n",
       "      <td>NaN</td>\n",
       "      <td>NaN</td>\n",
       "      <td>grey</td>\n",
       "      <td>circle</td>\n",
       "    </tr>\n",
       "    <tr>\n",
       "      <th>3</th>\n",
       "      <td>20/02/2019</td>\n",
       "      <td>BU18FA22</td>\n",
       "      <td>A</td>\n",
       "      <td>FF2</td>\n",
       "      <td>Quartz</td>\n",
       "      <td>1</td>\n",
       "      <td>24.8</td>\n",
       "      <td>13.3</td>\n",
       "      <td>L - V</td>\n",
       "      <td>73.0</td>\n",
       "      <td>...</td>\n",
       "      <td>-25.2</td>\n",
       "      <td>-19.1</td>\n",
       "      <td>0.6</td>\n",
       "      <td>NaN</td>\n",
       "      <td>NaN</td>\n",
       "      <td>NaN</td>\n",
       "      <td>NaN</td>\n",
       "      <td>NaN</td>\n",
       "      <td>grey</td>\n",
       "      <td>circle</td>\n",
       "    </tr>\n",
       "    <tr>\n",
       "      <th>4</th>\n",
       "      <td>11/02/2019</td>\n",
       "      <td>BU18FA22</td>\n",
       "      <td>A</td>\n",
       "      <td>FF2</td>\n",
       "      <td>Quartz</td>\n",
       "      <td>2</td>\n",
       "      <td>13.8</td>\n",
       "      <td>8.9</td>\n",
       "      <td>L - V</td>\n",
       "      <td>80.0</td>\n",
       "      <td>...</td>\n",
       "      <td>-25.2</td>\n",
       "      <td>-16.5</td>\n",
       "      <td>NaN</td>\n",
       "      <td>NaN</td>\n",
       "      <td>NaN</td>\n",
       "      <td>NaN</td>\n",
       "      <td>NaN</td>\n",
       "      <td>NaN</td>\n",
       "      <td>grey</td>\n",
       "      <td>circle</td>\n",
       "    </tr>\n",
       "    <tr>\n",
       "      <th>5</th>\n",
       "      <td>11/02/2019</td>\n",
       "      <td>BU18FA22</td>\n",
       "      <td>A</td>\n",
       "      <td>FF2</td>\n",
       "      <td>Quartz</td>\n",
       "      <td>3</td>\n",
       "      <td>14.1</td>\n",
       "      <td>10.2</td>\n",
       "      <td>L - V</td>\n",
       "      <td>77.0</td>\n",
       "      <td>...</td>\n",
       "      <td>-27.3</td>\n",
       "      <td>-17.2</td>\n",
       "      <td>0.1</td>\n",
       "      <td>NaN</td>\n",
       "      <td>NaN</td>\n",
       "      <td>NaN</td>\n",
       "      <td>NaN</td>\n",
       "      <td>NaN</td>\n",
       "      <td>grey</td>\n",
       "      <td>circle</td>\n",
       "    </tr>\n",
       "    <tr>\n",
       "      <th>...</th>\n",
       "      <td>...</td>\n",
       "      <td>...</td>\n",
       "      <td>...</td>\n",
       "      <td>...</td>\n",
       "      <td>...</td>\n",
       "      <td>...</td>\n",
       "      <td>...</td>\n",
       "      <td>...</td>\n",
       "      <td>...</td>\n",
       "      <td>...</td>\n",
       "      <td>...</td>\n",
       "      <td>...</td>\n",
       "      <td>...</td>\n",
       "      <td>...</td>\n",
       "      <td>...</td>\n",
       "      <td>...</td>\n",
       "      <td>...</td>\n",
       "      <td>...</td>\n",
       "      <td>...</td>\n",
       "      <td>...</td>\n",
       "      <td>...</td>\n",
       "    </tr>\n",
       "    <tr>\n",
       "      <th>225</th>\n",
       "      <td>18/11/2021</td>\n",
       "      <td>BU18FA32</td>\n",
       "      <td>A.II</td>\n",
       "      <td>incC</td>\n",
       "      <td>Wyllieite</td>\n",
       "      <td>1</td>\n",
       "      <td>39.6</td>\n",
       "      <td>29.3</td>\n",
       "      <td>L - V - S</td>\n",
       "      <td>79.0</td>\n",
       "      <td>...</td>\n",
       "      <td>-18.8</td>\n",
       "      <td>-13.1</td>\n",
       "      <td>2.3</td>\n",
       "      <td>NaN</td>\n",
       "      <td>NaN</td>\n",
       "      <td>NaN</td>\n",
       "      <td>NaN</td>\n",
       "      <td>NaN</td>\n",
       "      <td>red</td>\n",
       "      <td>square</td>\n",
       "    </tr>\n",
       "    <tr>\n",
       "      <th>226</th>\n",
       "      <td>18/11/2021</td>\n",
       "      <td>BU18FA32</td>\n",
       "      <td>A.II</td>\n",
       "      <td>incC</td>\n",
       "      <td>Wyllieite</td>\n",
       "      <td>2</td>\n",
       "      <td>18.8</td>\n",
       "      <td>5.6</td>\n",
       "      <td>L - V - S</td>\n",
       "      <td>78.0</td>\n",
       "      <td>...</td>\n",
       "      <td>-21.3</td>\n",
       "      <td>-11.3</td>\n",
       "      <td>NaN</td>\n",
       "      <td>NaN</td>\n",
       "      <td>NaN</td>\n",
       "      <td>NaN</td>\n",
       "      <td>NaN</td>\n",
       "      <td>NaN</td>\n",
       "      <td>red</td>\n",
       "      <td>square</td>\n",
       "    </tr>\n",
       "    <tr>\n",
       "      <th>227</th>\n",
       "      <td>18/11/2021</td>\n",
       "      <td>BU18FA32</td>\n",
       "      <td>A.II</td>\n",
       "      <td>incC</td>\n",
       "      <td>Wyllieite</td>\n",
       "      <td>3</td>\n",
       "      <td>13.1</td>\n",
       "      <td>10.0</td>\n",
       "      <td>L - V - S</td>\n",
       "      <td>77.0</td>\n",
       "      <td>...</td>\n",
       "      <td>-24.4</td>\n",
       "      <td>-11.3</td>\n",
       "      <td>1.4</td>\n",
       "      <td>NaN</td>\n",
       "      <td>NaN</td>\n",
       "      <td>NaN</td>\n",
       "      <td>NaN</td>\n",
       "      <td>NaN</td>\n",
       "      <td>red</td>\n",
       "      <td>square</td>\n",
       "    </tr>\n",
       "    <tr>\n",
       "      <th>228</th>\n",
       "      <td>18/11/2021</td>\n",
       "      <td>BU18FA32</td>\n",
       "      <td>A.II</td>\n",
       "      <td>incC</td>\n",
       "      <td>Wyllieite</td>\n",
       "      <td>4</td>\n",
       "      <td>8.4</td>\n",
       "      <td>6.0</td>\n",
       "      <td>L - V - S</td>\n",
       "      <td>76.0</td>\n",
       "      <td>...</td>\n",
       "      <td>-22.3</td>\n",
       "      <td>-13.1</td>\n",
       "      <td>1.5</td>\n",
       "      <td>NaN</td>\n",
       "      <td>NaN</td>\n",
       "      <td>NaN</td>\n",
       "      <td>NaN</td>\n",
       "      <td>NaN</td>\n",
       "      <td>red</td>\n",
       "      <td>square</td>\n",
       "    </tr>\n",
       "    <tr>\n",
       "      <th>229</th>\n",
       "      <td>18/11/2021</td>\n",
       "      <td>BU18FA32</td>\n",
       "      <td>A.II</td>\n",
       "      <td>incC</td>\n",
       "      <td>Wyllieite</td>\n",
       "      <td>5</td>\n",
       "      <td>22.2</td>\n",
       "      <td>8.7</td>\n",
       "      <td>L - V - S</td>\n",
       "      <td>78.0</td>\n",
       "      <td>...</td>\n",
       "      <td>-17.2</td>\n",
       "      <td>-10.7</td>\n",
       "      <td>1.4</td>\n",
       "      <td>NaN</td>\n",
       "      <td>NaN</td>\n",
       "      <td>NaN</td>\n",
       "      <td>NaN</td>\n",
       "      <td>NaN</td>\n",
       "      <td>red</td>\n",
       "      <td>square</td>\n",
       "    </tr>\n",
       "  </tbody>\n",
       "</table>\n",
       "<p>229 rows × 25 columns</p>\n",
       "</div>"
      ],
      "text/plain": [
       "           Date    sample piece field       Host analysis  Length  Width  \\\n",
       "1    11/02/2019  BU18FA22     A   FF1     Quartz        1     9.1    7.4   \n",
       "2    11/02/2019  BU18FA22     A   FF1     Quartz        2     9.8    7.8   \n",
       "3    20/02/2019  BU18FA22     A   FF2     Quartz        1    24.8   13.3   \n",
       "4    11/02/2019  BU18FA22     A   FF2     Quartz        2    13.8    8.9   \n",
       "5    11/02/2019  BU18FA22     A   FF2     Quartz        3    14.1   10.2   \n",
       "..          ...       ...   ...   ...        ...      ...     ...    ...   \n",
       "225  18/11/2021  BU18FA32  A.II  incC  Wyllieite        1    39.6   29.3   \n",
       "226  18/11/2021  BU18FA32  A.II  incC  Wyllieite        2    18.8    5.6   \n",
       "227  18/11/2021  BU18FA32  A.II  incC  Wyllieite        3    13.1   10.0   \n",
       "228  18/11/2021  BU18FA32  A.II  incC  Wyllieite        4     8.4    6.0   \n",
       "229  18/11/2021  BU18FA32  A.II  incC  Wyllieite        5    22.2    8.7   \n",
       "\n",
       "        Phases  VL (%)  ...  Tm Hh  Tm H2O  Tm CL  Th CO2  Tm Xts  Th total  \\\n",
       "1        L - V    75.0  ...    NaN     NaN    NaN     NaN     NaN       NaN   \n",
       "2        L - V    72.0  ...    NaN     NaN    NaN     NaN     NaN       NaN   \n",
       "3        L - V    73.0  ...  -25.2   -19.1    0.6     NaN     NaN       NaN   \n",
       "4        L - V    80.0  ...  -25.2   -16.5    NaN     NaN     NaN       NaN   \n",
       "5        L - V    77.0  ...  -27.3   -17.2    0.1     NaN     NaN       NaN   \n",
       "..         ...     ...  ...    ...     ...    ...     ...     ...       ...   \n",
       "225  L - V - S    79.0  ...  -18.8   -13.1    2.3     NaN     NaN       NaN   \n",
       "226  L - V - S    78.0  ...  -21.3   -11.3    NaN     NaN     NaN       NaN   \n",
       "227  L - V - S    77.0  ...  -24.4   -11.3    1.4     NaN     NaN       NaN   \n",
       "228  L - V - S    76.0  ...  -22.3   -13.1    1.5     NaN     NaN       NaN   \n",
       "229  L - V - S    78.0  ...  -17.2   -10.7    1.4     NaN     NaN       NaN   \n",
       "\n",
       "     Hmg Mode  Type  Color  Symbol  \n",
       "1         NaN   NaN   grey  circle  \n",
       "2         NaN   NaN   grey  circle  \n",
       "3         NaN   NaN   grey  circle  \n",
       "4         NaN   NaN   grey  circle  \n",
       "5         NaN   NaN   grey  circle  \n",
       "..        ...   ...    ...     ...  \n",
       "225       NaN   NaN    red  square  \n",
       "226       NaN   NaN    red  square  \n",
       "227       NaN   NaN    red  square  \n",
       "228       NaN   NaN    red  square  \n",
       "229       NaN   NaN    red  square  \n",
       "\n",
       "[229 rows x 25 columns]"
      ]
     },
     "execution_count": 56,
     "metadata": {},
     "output_type": "execute_result"
    }
   ],
   "source": [
    "# --- create dataframe from csv file using pandas import command \n",
    "\n",
    "df_FI = pd.read_csv(base_dir + \"FI_data.csv\", \n",
    "                    encoding = \"ANSI\", \n",
    "                   index_col = 0)\n",
    "\n",
    "\n",
    "# --- add symbology to observations depending on the host phase\n",
    "\n",
    "symbols =  {'Augelite' : 'triangle',\n",
    "            'Bertossaite' : 'triangle',\n",
    "            'Brazilianite' : 'triangle',\n",
    "            'Montebrasite-F' : 'square',\n",
    "            'Montebrasite-OH' : 'triangle',\n",
    "            'Quartz' : 'circle',\n",
    "            'Scorzalite' : 'triangle',\n",
    "            'Trolleite' : 'square',\n",
    "            'Wyllieite' : 'square'}\n",
    "\n",
    "colors = {'Augelite' : 'yellow',\n",
    "          'Bertossaite' : 'yellow',\n",
    "          'Brazilianite' : 'green',\n",
    "          'Montebrasite-F' : 'red',\n",
    "          'Montebrasite-OH' : 'green',\n",
    "          'Quartz' : 'grey',\n",
    "          'Scorzalite' : 'green',\n",
    "          'Trolleite' : 'orange',\n",
    "          'Wyllieite' : 'red'}\n",
    "\n",
    "\n",
    "df_FI['Color'] = df_FI['Host'].map(colors)\n",
    "df_FI['Symbol'] = df_FI['Host'].map(symbols)\n",
    "\n",
    "\n",
    "# --- print the colums of the imported dataframe - can be changed if necessary\n",
    "\n",
    "print(df_FI.columns) \n",
    "\n",
    "\n",
    "df_FI"
   ]
  },
  {
   "cell_type": "code",
   "execution_count": 57,
   "metadata": {},
   "outputs": [],
   "source": [
    "# --- calculate ratios of columns in the dataframe\n",
    "\n",
    "# df_FI[\"Na/Li\"] = df_FI['mNaCl (mol/kg)'] / df_FI['mLiCl (mol/kg)']\n",
    "# df_FI[\"Na%\"] = (100 * df_FI['mNaCl (mol/kg)'] * 0.05844) / (1 + (df_FI['mNaCl (mol/kg)'] * 0.05844) + (df_FI['mLiCl (mol/kg)'] * 0.04239))\n",
    "# df_FI[\"Li%\"] = (100 * df_FI['mLiCl (mol/kg)'] * 0.04239) / (1 + (df_FI['mNaCl (mol/kg)'] * 0.05844) + (df_FI['mLiCl (mol/kg)'] * 0.04239))\n",
    "# df_FI[\"Na/Li%\"] = df_FI['Na%'] / df_FI['Li%']\n",
    "# df_FI[\"salinity\"] = df_FI['Na%'] + df_FI['Li%']\n",
    "# df_FI[\"mCl (mol/kg)\"] = (df_FI['mNaCl (mol/kg)'] + df_FI['mLiCl (mol/kg)'])\n",
    "\n",
    "# df_FI[\"N2/CO2\"] = df_FI['XN2']/ df_FI['XCO2']\n",
    "\n",
    "\n",
    "# df_FI[\"NaCl_mol\"] = (df_FI['Bakker/Bodnar']*((100*df_FI['mNaCl(Dubois)']*0.05844)/(1+(df_FI['mNaCl(Dubois)']*0.05844)+(df_FI['mLiCl(Dubois)']*0.04239)))/58.44277)\n",
    "# df_FI[\"LiCl_mol\"] = (df_FI['Bakker/Bodnar']*((100*df_FI['mLiCl(Dubois)']*0.04239)/(1+(df_FI['mNaCl(Dubois)']*0.05844)+(df_FI['mLiCl(Dubois)']*0.04239)))/42.394)\n",
    "# df_FI[\"Li/Na_mol\"] = df_FI['mLiCl(Dubois)']/ df_FI['mNaCl(Dubois)']\n",
    "# df_FI[\"Li/Na_mol2\"] = (df_FI['LiCl%']/42.394)/(df_FI['NaCl%']/58.44277)\n",
    "\n",
    "\n",
    "\n"
   ]
  },
  {
   "cell_type": "code",
   "execution_count": 5,
   "metadata": {},
   "outputs": [
    {
     "name": "stdout",
     "output_type": "stream",
     "text": [
      "Index(['Standard', '3/12/2018', '21/12/2018', '7/01/2019', '11/02/2019',\n",
      "       '20/02/2019', '20/03/2019', '24/04/2019', '26/04/2019', '29/04/2019',\n",
      "       '18/06/2019', '18/07/2019', '8/08/2019', '27/07/2021', '3/08/2021',\n",
      "       '16/08/2021', '13/09/2021', '20/09/2021', '6/10/2021', '13/10/2021',\n",
      "       '21/10/2021', '28/10/2021', '18/11/2021'],\n",
      "      dtype='object')\n"
     ]
    },
    {
     "data": {
      "text/html": [
       "<div>\n",
       "<style scoped>\n",
       "    .dataframe tbody tr th:only-of-type {\n",
       "        vertical-align: middle;\n",
       "    }\n",
       "\n",
       "    .dataframe tbody tr th {\n",
       "        vertical-align: top;\n",
       "    }\n",
       "\n",
       "    .dataframe thead th {\n",
       "        text-align: right;\n",
       "    }\n",
       "</style>\n",
       "<table border=\"1\" class=\"dataframe\">\n",
       "  <thead>\n",
       "    <tr style=\"text-align: right;\">\n",
       "      <th></th>\n",
       "      <th>Standard</th>\n",
       "      <th>3/12/2018</th>\n",
       "      <th>21/12/2018</th>\n",
       "      <th>7/01/2019</th>\n",
       "      <th>11/02/2019</th>\n",
       "      <th>20/02/2019</th>\n",
       "      <th>20/03/2019</th>\n",
       "      <th>24/04/2019</th>\n",
       "      <th>26/04/2019</th>\n",
       "      <th>29/04/2019</th>\n",
       "      <th>...</th>\n",
       "      <th>27/07/2021</th>\n",
       "      <th>3/08/2021</th>\n",
       "      <th>16/08/2021</th>\n",
       "      <th>13/09/2021</th>\n",
       "      <th>20/09/2021</th>\n",
       "      <th>6/10/2021</th>\n",
       "      <th>13/10/2021</th>\n",
       "      <th>21/10/2021</th>\n",
       "      <th>28/10/2021</th>\n",
       "      <th>18/11/2021</th>\n",
       "    </tr>\n",
       "  </thead>\n",
       "  <tbody>\n",
       "    <tr>\n",
       "      <th>CO2 melting</th>\n",
       "      <td>-56.6</td>\n",
       "      <td>-59.2</td>\n",
       "      <td>-57.6</td>\n",
       "      <td>-57.8</td>\n",
       "      <td>-57.6</td>\n",
       "      <td>-56.9</td>\n",
       "      <td>-57.0</td>\n",
       "      <td>-56.8</td>\n",
       "      <td>-57.1</td>\n",
       "      <td>-56.9</td>\n",
       "      <td>...</td>\n",
       "      <td>-58.1</td>\n",
       "      <td>-58.0</td>\n",
       "      <td>-56.9</td>\n",
       "      <td>-56.7</td>\n",
       "      <td>-56.6</td>\n",
       "      <td>-57.4</td>\n",
       "      <td>-56.9</td>\n",
       "      <td>-57.0</td>\n",
       "      <td>-56.9</td>\n",
       "      <td>-57.5</td>\n",
       "    </tr>\n",
       "    <tr>\n",
       "      <th>CL melting</th>\n",
       "      <td>10.0</td>\n",
       "      <td>10.0</td>\n",
       "      <td>10.0</td>\n",
       "      <td>10.0</td>\n",
       "      <td>10.0</td>\n",
       "      <td>10.1</td>\n",
       "      <td>10.2</td>\n",
       "      <td>10.1</td>\n",
       "      <td>10.2</td>\n",
       "      <td>10.1</td>\n",
       "      <td>...</td>\n",
       "      <td>10.1</td>\n",
       "      <td>10.0</td>\n",
       "      <td>10.1</td>\n",
       "      <td>10.1</td>\n",
       "      <td>10.1</td>\n",
       "      <td>10.1</td>\n",
       "      <td>10.1</td>\n",
       "      <td>10.1</td>\n",
       "      <td>10.1</td>\n",
       "      <td>10.0</td>\n",
       "    </tr>\n",
       "    <tr>\n",
       "      <th>CO2 homog</th>\n",
       "      <td>31.1</td>\n",
       "      <td>31.5</td>\n",
       "      <td>31.3</td>\n",
       "      <td>31.1</td>\n",
       "      <td>31.2</td>\n",
       "      <td>31.0</td>\n",
       "      <td>30.7</td>\n",
       "      <td>31.1</td>\n",
       "      <td>31.1</td>\n",
       "      <td>31.1</td>\n",
       "      <td>...</td>\n",
       "      <td>31.2</td>\n",
       "      <td>31.2</td>\n",
       "      <td>31.0</td>\n",
       "      <td>31.1</td>\n",
       "      <td>31.1</td>\n",
       "      <td>31.1</td>\n",
       "      <td>31.1</td>\n",
       "      <td>31.1</td>\n",
       "      <td>31.1</td>\n",
       "      <td>31.1</td>\n",
       "    </tr>\n",
       "    <tr>\n",
       "      <th>H2O-NaCl melting</th>\n",
       "      <td>-21.2</td>\n",
       "      <td>-21.9</td>\n",
       "      <td>-22.0</td>\n",
       "      <td>-21.6</td>\n",
       "      <td>-21.7</td>\n",
       "      <td>-21.2</td>\n",
       "      <td>-21.4</td>\n",
       "      <td>-21.3</td>\n",
       "      <td>-21.4</td>\n",
       "      <td>-21.2</td>\n",
       "      <td>...</td>\n",
       "      <td>-21.2</td>\n",
       "      <td>-21.2</td>\n",
       "      <td>-21.4</td>\n",
       "      <td>-21.1</td>\n",
       "      <td>-21.2</td>\n",
       "      <td>-21.3</td>\n",
       "      <td>-21.1</td>\n",
       "      <td>-21.3</td>\n",
       "      <td>-21.2</td>\n",
       "      <td>-21.2</td>\n",
       "    </tr>\n",
       "    <tr>\n",
       "      <th>KCl melting</th>\n",
       "      <td>-10.5</td>\n",
       "      <td>-10.9</td>\n",
       "      <td>-10.6</td>\n",
       "      <td>-11.0</td>\n",
       "      <td>-11.2</td>\n",
       "      <td>-10.7</td>\n",
       "      <td>-10.7</td>\n",
       "      <td>-10.8</td>\n",
       "      <td>-11.3</td>\n",
       "      <td>-10.9</td>\n",
       "      <td>...</td>\n",
       "      <td>-10.8</td>\n",
       "      <td>-10.6</td>\n",
       "      <td>-10.5</td>\n",
       "      <td>-10.6</td>\n",
       "      <td>-10.6</td>\n",
       "      <td>-10.8</td>\n",
       "      <td>-10.7</td>\n",
       "      <td>-10.9</td>\n",
       "      <td>-10.7</td>\n",
       "      <td>-10.7</td>\n",
       "    </tr>\n",
       "    <tr>\n",
       "      <th>H2O melting</th>\n",
       "      <td>0.0</td>\n",
       "      <td>-0.2</td>\n",
       "      <td>-0.1</td>\n",
       "      <td>-0.1</td>\n",
       "      <td>-0.2</td>\n",
       "      <td>-0.2</td>\n",
       "      <td>-0.2</td>\n",
       "      <td>0.1</td>\n",
       "      <td>-0.2</td>\n",
       "      <td>0.0</td>\n",
       "      <td>...</td>\n",
       "      <td>-0.2</td>\n",
       "      <td>0.0</td>\n",
       "      <td>0.0</td>\n",
       "      <td>0.0</td>\n",
       "      <td>0.1</td>\n",
       "      <td>-0.1</td>\n",
       "      <td>0.1</td>\n",
       "      <td>0.1</td>\n",
       "      <td>0.0</td>\n",
       "      <td>0.1</td>\n",
       "    </tr>\n",
       "  </tbody>\n",
       "</table>\n",
       "<p>6 rows × 23 columns</p>\n",
       "</div>"
      ],
      "text/plain": [
       "                  Standard  3/12/2018  21/12/2018  7/01/2019  11/02/2019  \\\n",
       "CO2 melting          -56.6      -59.2       -57.6      -57.8       -57.6   \n",
       "CL melting            10.0       10.0        10.0       10.0        10.0   \n",
       "CO2 homog             31.1       31.5        31.3       31.1        31.2   \n",
       "H2O-NaCl melting     -21.2      -21.9       -22.0      -21.6       -21.7   \n",
       "KCl melting          -10.5      -10.9       -10.6      -11.0       -11.2   \n",
       "H2O melting            0.0       -0.2        -0.1       -0.1        -0.2   \n",
       "\n",
       "                  20/02/2019  20/03/2019  24/04/2019  26/04/2019  29/04/2019  \\\n",
       "CO2 melting            -56.9       -57.0       -56.8       -57.1       -56.9   \n",
       "CL melting              10.1        10.2        10.1        10.2        10.1   \n",
       "CO2 homog               31.0        30.7        31.1        31.1        31.1   \n",
       "H2O-NaCl melting       -21.2       -21.4       -21.3       -21.4       -21.2   \n",
       "KCl melting            -10.7       -10.7       -10.8       -11.3       -10.9   \n",
       "H2O melting             -0.2        -0.2         0.1        -0.2         0.0   \n",
       "\n",
       "                  ...  27/07/2021  3/08/2021  16/08/2021  13/09/2021  \\\n",
       "CO2 melting       ...       -58.1      -58.0       -56.9       -56.7   \n",
       "CL melting        ...        10.1       10.0        10.1        10.1   \n",
       "CO2 homog         ...        31.2       31.2        31.0        31.1   \n",
       "H2O-NaCl melting  ...       -21.2      -21.2       -21.4       -21.1   \n",
       "KCl melting       ...       -10.8      -10.6       -10.5       -10.6   \n",
       "H2O melting       ...        -0.2        0.0         0.0         0.0   \n",
       "\n",
       "                  20/09/2021  6/10/2021  13/10/2021  21/10/2021  28/10/2021  \\\n",
       "CO2 melting            -56.6      -57.4       -56.9       -57.0       -56.9   \n",
       "CL melting              10.1       10.1        10.1        10.1        10.1   \n",
       "CO2 homog               31.1       31.1        31.1        31.1        31.1   \n",
       "H2O-NaCl melting       -21.2      -21.3       -21.1       -21.3       -21.2   \n",
       "KCl melting            -10.6      -10.8       -10.7       -10.9       -10.7   \n",
       "H2O melting              0.1       -0.1         0.1         0.1         0.0   \n",
       "\n",
       "                  18/11/2021  \n",
       "CO2 melting            -57.5  \n",
       "CL melting              10.0  \n",
       "CO2 homog               31.1  \n",
       "H2O-NaCl melting       -21.2  \n",
       "KCl melting            -10.7  \n",
       "H2O melting              0.1  \n",
       "\n",
       "[6 rows x 23 columns]"
      ]
     },
     "execution_count": 5,
     "metadata": {},
     "output_type": "execute_result"
    }
   ],
   "source": [
    "# --- create standard dataframe from csv \n",
    "\n",
    "df_std = pd.read_csv(base_dir + \"FI_standards.csv\", \n",
    "                    encoding = \"ANSI\",index_col=0, header=0).T\n",
    "\n",
    "print(df_std.columns)\n",
    "\n",
    "df_std"
   ]
  },
  {
   "cell_type": "code",
   "execution_count": 23,
   "metadata": {},
   "outputs": [
    {
     "name": "stdout",
     "output_type": "stream",
     "text": [
      "{'3/12/2018': (0.9671329690881035, 0.3056069221278131), '21/12/2018': (0.9852339749915826, 0.17941079576458865), '7/01/2019': (0.9857489242141172, 0.24933280936289848), '11/02/2019': (0.9867935303039075, 0.27437995834056456), '20/02/2019': (0.9974182997665206, 0.09605609313605182), '20/03/2019': (0.9979140579984189, 0.18317340118723674), '24/04/2019': (0.9967522050544694, 0.040900826765451), '26/04/2019': (0.9929733481102493, 0.19296700882819331), '29/04/2019': (0.9960705549729215, 0.06869542128426835), '18/06/2019': (0.9972456111918138, -0.021667858624396606), '18/07/2019': (0.9919475498395687, 0.06891373204989229), '8/08/2019': (0.9859499780701194, 0.30028565168082066), '27/07/2021': (0.9827031038824526, 0.15874201504003116), '3/08/2021': (0.9839238488963381, 0.1031165093936775), '16/08/2021': (0.9965954764495398, 0.056267371107175335), '13/09/2021': (0.9987405973550307, -0.009907300807093514), '20/09/2021': (0.9993583218268011, -0.021703840326278263), '6/10/2021': (0.9906181776567524, 0.12431996643114211), '13/10/2021': (0.9963179640611926, 0.0042452494167537595), '21/10/2021': (0.9945164449350589, 0.07288961873155424), '28/10/2021': (0.9962060625843879, 0.03656809650280575), '18/11/2021': (0.98991984223381, 0.08568939927827281)}\n"
     ]
    },
    {
     "data": {
      "image/png": "[encoded data removed]",
      "text/plain": [
       "<Figure size 720x720 with 1 Axes>"
      ]
     },
     "metadata": {
      "needs_background": "light"
     },
     "output_type": "display_data"
    }
   ],
   "source": [
    "# --- plot standard data to obtain correction values\n",
    "\n",
    "a = list(df_std.columns[1:]) #list with each entry date (column names) in the dataset\n",
    "y = list(df_std[\"Standard\"]) #list with expected values for the standards\n",
    "\n",
    "calibration_dict = dict()\n",
    "\n",
    "    # -- plot measured data against the expected values from the fluid inclusion standards\n",
    "\n",
    "fig, ax = plt.subplots(figsize=(10,10))\n",
    "\n",
    "for item in range(len(df_std.columns[1:])):  # loop to plot measurements for each entry date\n",
    "\n",
    "    x = list(df_std[a[item]]) #list with measured values for the current entry date\n",
    "    \n",
    "        # - here the data are fitted by a linear model to obtain the correction equation\n",
    "        \n",
    "    z = np.polyfit(x, y, 1)\n",
    "    p = np.poly1d(z)\n",
    "    \n",
    "    plt.plot(x,p(x),\"-\") #plot fitted line\n",
    "    plt.plot(x,y,'o', label=a[item]+\"\\n y=%.4fx+%.4f\"%(z[0],z[1]), alpha=1)    #plot standards data with entry date fitted equation in the legend\n",
    "    \n",
    "             \n",
    "        # - create a dictionary with the correction equation values\n",
    "    calibration_dict[a[item]] = (z[0],z[1])\n",
    "    \n",
    "        \n",
    "print(calibration_dict)   \n",
    "\n",
    "    # -- adjust plot parameters\n",
    "\n",
    "plt.legend(loc=(1.04,0),fontsize=11)\n",
    "\n",
    "    \n",
    "plt.xlabel(\"measured values ($^{o}C$)\",fontsize=20)\n",
    "plt.xlim([-60,35])\n",
    "plt.ylabel(\"expected values ($^{o}C$)\",fontsize=20)\n",
    "plt.ylim([-60,35])\n",
    "\n",
    "ax.xaxis.set_minor_locator(MultipleLocator(5))\n",
    "ax.yaxis.set_minor_locator(AutoMinorLocator())\n",
    "\n",
    "ax.tick_params(axis='both', which='major',labelsize=20,direction='in',width=1.5,length=8)\n",
    "ax.tick_params(axis='both', which='minor',direction='in',width=1,length=4)\n",
    "\n",
    "plt.title(\"Calibration curves for microthermometric data\",horizontalalignment='center',fontsize=22)\n",
    "\n",
    "\n",
    "\n",
    "#fig.write_image(\"FI_N2-Co2_vs_Li-Na_mass.pdf\")\n",
    "\n",
    "plt.show()\n"
   ]
  },
  {
   "cell_type": "code",
   "execution_count": 58,
   "metadata": {},
   "outputs": [
    {
     "data": {
      "text/html": [
       "<div>\n",
       "<style scoped>\n",
       "    .dataframe tbody tr th:only-of-type {\n",
       "        vertical-align: middle;\n",
       "    }\n",
       "\n",
       "    .dataframe tbody tr th {\n",
       "        vertical-align: top;\n",
       "    }\n",
       "\n",
       "    .dataframe thead th {\n",
       "        text-align: right;\n",
       "    }\n",
       "</style>\n",
       "<table border=\"1\" class=\"dataframe\">\n",
       "  <thead>\n",
       "    <tr style=\"text-align: right;\">\n",
       "      <th></th>\n",
       "      <th>sample</th>\n",
       "      <th>piece</th>\n",
       "      <th>field</th>\n",
       "      <th>analysis</th>\n",
       "      <th>Host</th>\n",
       "      <th>Length</th>\n",
       "      <th>Width</th>\n",
       "      <th>Phases</th>\n",
       "      <th>VL (%)</th>\n",
       "      <th>Tm CO2</th>\n",
       "      <th>Te</th>\n",
       "      <th>Tm Hh</th>\n",
       "      <th>Tm H2O</th>\n",
       "      <th>Tm CL</th>\n",
       "      <th>Th CO2</th>\n",
       "      <th>Hmg Mode</th>\n",
       "      <th>Type</th>\n",
       "      <th>Color</th>\n",
       "      <th>Symbol</th>\n",
       "    </tr>\n",
       "  </thead>\n",
       "  <tbody>\n",
       "    <tr>\n",
       "      <th>1</th>\n",
       "      <td>BU18FA22</td>\n",
       "      <td>A</td>\n",
       "      <td>FF1</td>\n",
       "      <td>1</td>\n",
       "      <td>Quartz</td>\n",
       "      <td>9.1</td>\n",
       "      <td>7.4</td>\n",
       "      <td>L - V</td>\n",
       "      <td>75.0</td>\n",
       "      <td>-57.453042</td>\n",
       "      <td>-62.880406</td>\n",
       "      <td>NaN</td>\n",
       "      <td>NaN</td>\n",
       "      <td>NaN</td>\n",
       "      <td>NaN</td>\n",
       "      <td>NaN</td>\n",
       "      <td>NaN</td>\n",
       "      <td>grey</td>\n",
       "      <td>circle</td>\n",
       "    </tr>\n",
       "    <tr>\n",
       "      <th>2</th>\n",
       "      <td>BU18FA22</td>\n",
       "      <td>A</td>\n",
       "      <td>FF1</td>\n",
       "      <td>2</td>\n",
       "      <td>Quartz</td>\n",
       "      <td>9.8</td>\n",
       "      <td>7.8</td>\n",
       "      <td>L - V</td>\n",
       "      <td>72.0</td>\n",
       "      <td>NaN</td>\n",
       "      <td>NaN</td>\n",
       "      <td>NaN</td>\n",
       "      <td>NaN</td>\n",
       "      <td>NaN</td>\n",
       "      <td>NaN</td>\n",
       "      <td>NaN</td>\n",
       "      <td>NaN</td>\n",
       "      <td>grey</td>\n",
       "      <td>circle</td>\n",
       "    </tr>\n",
       "    <tr>\n",
       "      <th>3</th>\n",
       "      <td>BU18FA22</td>\n",
       "      <td>A</td>\n",
       "      <td>FF2</td>\n",
       "      <td>1</td>\n",
       "      <td>Quartz</td>\n",
       "      <td>24.8</td>\n",
       "      <td>13.3</td>\n",
       "      <td>L - V</td>\n",
       "      <td>73.0</td>\n",
       "      <td>-61.943362</td>\n",
       "      <td>-72.914963</td>\n",
       "      <td>-25.038885</td>\n",
       "      <td>-18.954633</td>\n",
       "      <td>0.694507</td>\n",
       "      <td>NaN</td>\n",
       "      <td>NaN</td>\n",
       "      <td>NaN</td>\n",
       "      <td>grey</td>\n",
       "      <td>circle</td>\n",
       "    </tr>\n",
       "    <tr>\n",
       "      <th>4</th>\n",
       "      <td>BU18FA22</td>\n",
       "      <td>A</td>\n",
       "      <td>FF2</td>\n",
       "      <td>2</td>\n",
       "      <td>Quartz</td>\n",
       "      <td>13.8</td>\n",
       "      <td>8.9</td>\n",
       "      <td>L - V</td>\n",
       "      <td>80.0</td>\n",
       "      <td>NaN</td>\n",
       "      <td>-24.592817</td>\n",
       "      <td>-24.592817</td>\n",
       "      <td>-16.007713</td>\n",
       "      <td>NaN</td>\n",
       "      <td>NaN</td>\n",
       "      <td>NaN</td>\n",
       "      <td>NaN</td>\n",
       "      <td>grey</td>\n",
       "      <td>circle</td>\n",
       "    </tr>\n",
       "    <tr>\n",
       "      <th>5</th>\n",
       "      <td>BU18FA22</td>\n",
       "      <td>A</td>\n",
       "      <td>FF2</td>\n",
       "      <td>3</td>\n",
       "      <td>Quartz</td>\n",
       "      <td>14.1</td>\n",
       "      <td>10.2</td>\n",
       "      <td>L - V</td>\n",
       "      <td>77.0</td>\n",
       "      <td>-57.6504</td>\n",
       "      <td>-26.665083</td>\n",
       "      <td>-26.665083</td>\n",
       "      <td>-16.698469</td>\n",
       "      <td>0.373059</td>\n",
       "      <td>NaN</td>\n",
       "      <td>NaN</td>\n",
       "      <td>NaN</td>\n",
       "      <td>grey</td>\n",
       "      <td>circle</td>\n",
       "    </tr>\n",
       "    <tr>\n",
       "      <th>...</th>\n",
       "      <td>...</td>\n",
       "      <td>...</td>\n",
       "      <td>...</td>\n",
       "      <td>...</td>\n",
       "      <td>...</td>\n",
       "      <td>...</td>\n",
       "      <td>...</td>\n",
       "      <td>...</td>\n",
       "      <td>...</td>\n",
       "      <td>...</td>\n",
       "      <td>...</td>\n",
       "      <td>...</td>\n",
       "      <td>...</td>\n",
       "      <td>...</td>\n",
       "      <td>...</td>\n",
       "      <td>...</td>\n",
       "      <td>...</td>\n",
       "      <td>...</td>\n",
       "      <td>...</td>\n",
       "    </tr>\n",
       "    <tr>\n",
       "      <th>225</th>\n",
       "      <td>BU18FA32</td>\n",
       "      <td>A.II</td>\n",
       "      <td>incC</td>\n",
       "      <td>1</td>\n",
       "      <td>Wyllieite</td>\n",
       "      <td>39.6</td>\n",
       "      <td>29.3</td>\n",
       "      <td>L - V - S</td>\n",
       "      <td>79.0</td>\n",
       "      <td>NaN</td>\n",
       "      <td>NaN</td>\n",
       "      <td>-18.524804</td>\n",
       "      <td>-12.882261</td>\n",
       "      <td>2.362505</td>\n",
       "      <td>NaN</td>\n",
       "      <td>NaN</td>\n",
       "      <td>NaN</td>\n",
       "      <td>red</td>\n",
       "      <td>square</td>\n",
       "    </tr>\n",
       "    <tr>\n",
       "      <th>226</th>\n",
       "      <td>BU18FA32</td>\n",
       "      <td>A.II</td>\n",
       "      <td>incC</td>\n",
       "      <td>2</td>\n",
       "      <td>Wyllieite</td>\n",
       "      <td>18.8</td>\n",
       "      <td>5.6</td>\n",
       "      <td>L - V - S</td>\n",
       "      <td>78.0</td>\n",
       "      <td>NaN</td>\n",
       "      <td>NaN</td>\n",
       "      <td>-20.999603</td>\n",
       "      <td>-11.100405</td>\n",
       "      <td>NaN</td>\n",
       "      <td>NaN</td>\n",
       "      <td>NaN</td>\n",
       "      <td>NaN</td>\n",
       "      <td>red</td>\n",
       "      <td>square</td>\n",
       "    </tr>\n",
       "    <tr>\n",
       "      <th>227</th>\n",
       "      <td>BU18FA32</td>\n",
       "      <td>A.II</td>\n",
       "      <td>incC</td>\n",
       "      <td>3</td>\n",
       "      <td>Wyllieite</td>\n",
       "      <td>13.1</td>\n",
       "      <td>10.0</td>\n",
       "      <td>L - V - S</td>\n",
       "      <td>77.0</td>\n",
       "      <td>NaN</td>\n",
       "      <td>NaN</td>\n",
       "      <td>-24.068355</td>\n",
       "      <td>-11.100405</td>\n",
       "      <td>1.471577</td>\n",
       "      <td>NaN</td>\n",
       "      <td>NaN</td>\n",
       "      <td>NaN</td>\n",
       "      <td>red</td>\n",
       "      <td>square</td>\n",
       "    </tr>\n",
       "    <tr>\n",
       "      <th>228</th>\n",
       "      <td>BU18FA32</td>\n",
       "      <td>A.II</td>\n",
       "      <td>incC</td>\n",
       "      <td>4</td>\n",
       "      <td>Wyllieite</td>\n",
       "      <td>8.4</td>\n",
       "      <td>6.0</td>\n",
       "      <td>L - V - S</td>\n",
       "      <td>76.0</td>\n",
       "      <td>NaN</td>\n",
       "      <td>NaN</td>\n",
       "      <td>-21.989523</td>\n",
       "      <td>-12.882261</td>\n",
       "      <td>1.570569</td>\n",
       "      <td>NaN</td>\n",
       "      <td>NaN</td>\n",
       "      <td>NaN</td>\n",
       "      <td>red</td>\n",
       "      <td>square</td>\n",
       "    </tr>\n",
       "    <tr>\n",
       "      <th>229</th>\n",
       "      <td>BU18FA32</td>\n",
       "      <td>A.II</td>\n",
       "      <td>incC</td>\n",
       "      <td>5</td>\n",
       "      <td>Wyllieite</td>\n",
       "      <td>22.2</td>\n",
       "      <td>8.7</td>\n",
       "      <td>L - V - S</td>\n",
       "      <td>78.0</td>\n",
       "      <td>NaN</td>\n",
       "      <td>NaN</td>\n",
       "      <td>-16.940932</td>\n",
       "      <td>-10.506453</td>\n",
       "      <td>1.471577</td>\n",
       "      <td>NaN</td>\n",
       "      <td>NaN</td>\n",
       "      <td>NaN</td>\n",
       "      <td>red</td>\n",
       "      <td>square</td>\n",
       "    </tr>\n",
       "  </tbody>\n",
       "</table>\n",
       "<p>229 rows × 19 columns</p>\n",
       "</div>"
      ],
      "text/plain": [
       "       sample piece field analysis       Host  Length  Width     Phases  \\\n",
       "1    BU18FA22     A   FF1        1     Quartz     9.1    7.4      L - V   \n",
       "2    BU18FA22     A   FF1        2     Quartz     9.8    7.8      L - V   \n",
       "3    BU18FA22     A   FF2        1     Quartz    24.8   13.3      L - V   \n",
       "4    BU18FA22     A   FF2        2     Quartz    13.8    8.9      L - V   \n",
       "5    BU18FA22     A   FF2        3     Quartz    14.1   10.2      L - V   \n",
       "..        ...   ...   ...      ...        ...     ...    ...        ...   \n",
       "225  BU18FA32  A.II  incC        1  Wyllieite    39.6   29.3  L - V - S   \n",
       "226  BU18FA32  A.II  incC        2  Wyllieite    18.8    5.6  L - V - S   \n",
       "227  BU18FA32  A.II  incC        3  Wyllieite    13.1   10.0  L - V - S   \n",
       "228  BU18FA32  A.II  incC        4  Wyllieite     8.4    6.0  L - V - S   \n",
       "229  BU18FA32  A.II  incC        5  Wyllieite    22.2    8.7  L - V - S   \n",
       "\n",
       "     VL (%)     Tm CO2         Te      Tm Hh     Tm H2O     Tm CL Th CO2  \\\n",
       "1      75.0 -57.453042 -62.880406        NaN        NaN       NaN    NaN   \n",
       "2      72.0        NaN        NaN        NaN        NaN       NaN    NaN   \n",
       "3      73.0 -61.943362 -72.914963 -25.038885 -18.954633  0.694507    NaN   \n",
       "4      80.0        NaN -24.592817 -24.592817 -16.007713       NaN    NaN   \n",
       "5      77.0   -57.6504 -26.665083 -26.665083 -16.698469  0.373059    NaN   \n",
       "..      ...        ...        ...        ...        ...       ...    ...   \n",
       "225    79.0        NaN        NaN -18.524804 -12.882261  2.362505    NaN   \n",
       "226    78.0        NaN        NaN -20.999603 -11.100405       NaN    NaN   \n",
       "227    77.0        NaN        NaN -24.068355 -11.100405  1.471577    NaN   \n",
       "228    76.0        NaN        NaN -21.989523 -12.882261  1.570569    NaN   \n",
       "229    78.0        NaN        NaN -16.940932 -10.506453  1.471577    NaN   \n",
       "\n",
       "    Hmg Mode  Type Color  Symbol  \n",
       "1        NaN   NaN  grey  circle  \n",
       "2        NaN   NaN  grey  circle  \n",
       "3        NaN   NaN  grey  circle  \n",
       "4        NaN   NaN  grey  circle  \n",
       "5        NaN   NaN  grey  circle  \n",
       "..       ...   ...   ...     ...  \n",
       "225      NaN   NaN   red  square  \n",
       "226      NaN   NaN   red  square  \n",
       "227      NaN   NaN   red  square  \n",
       "228      NaN   NaN   red  square  \n",
       "229      NaN   NaN   red  square  \n",
       "\n",
       "[229 rows x 19 columns]"
      ]
     },
     "execution_count": 58,
     "metadata": {},
     "output_type": "execute_result"
    }
   ],
   "source": [
    "# --- Use formula from calibration trendline to correct measured unknown data\n",
    "\n",
    "    # -- remove unwanted data that could block the calculation\n",
    "    \n",
    "df_corrected = df_FI.drop(['sample', 'piece', 'field', 'Host', 'analysis', 'Length',\n",
    "       'Width', 'Phases', 'VL (%)', 'VV (%)', 'V2 (%)', 'Vb','Hmg Mode',\n",
    "       'Type', 'Color', 'Symbol'], axis=1).T\n",
    "    \n",
    " \n",
    "    \n",
    "#  'XCO2', 'XN2', 'XCH4','Modelling (Dubois, 2010)', 'mNaCl (mol/kg)',\n",
    "#        'mLiCl (mol/kg)', 'Na/Li', 'Na%', 'Li%', 'Na/Li%', 'salinity',\n",
    "#        'mCl (mol/kg)', 'N2/CO2'\n",
    "\n",
    "\n",
    "    # -- save important metadata to a separate dataframe\n",
    "    \n",
    "df_corrected_metadata = df_FI[['sample', 'piece', 'field', 'Host', 'analysis', \n",
    "                               'Length', 'Width', 'Phases', 'VL (%)','Hmg Mode','Type','Color', 'Symbol']]\n",
    "\n",
    "# print(df_corrected)\n",
    "# print(df_corrected.index)\n",
    "df_corrected = df_corrected.drop(index=['Tm Xts','Th total'])\n",
    "\n",
    "\n",
    "    # -- walk through dataframe columns to perfom calculation according to calibration trendline\n",
    "    \n",
    "for column, values in df_corrected.iteritems():\n",
    "#     print(column, '\\n', values,'\\n')\n",
    "#     print(calibration_dict[values[0]][0], calibration_dict[values[0]][1],'\\n')\n",
    "#     print(df_corrected[column][1:],'\\n\\n')\n",
    "#     print(df_corrected[column])\n",
    "\n",
    "        # - grab values from calibration dictionary to perform calculations\n",
    "    df_corrected[column][1:] = (df_corrected[column][1:]*calibration_dict[values[0]][0]) + calibration_dict[values[0]][1]\n",
    "\n",
    "\n",
    "    # -- transpose back the dataframe to usual position and concatenate with metadata\n",
    "    \n",
    "df_corrected = df_corrected.T\n",
    "df_corrected = pd.concat([df_corrected_metadata,df_corrected], axis=1)\n",
    "\n",
    "df_corrected = df_corrected.drop(['Date'], axis=1)\n",
    "\n",
    "\n",
    "\n",
    "# df_corrected[['XCO2', 'XN2', 'XCH4', 'N2/CO2','mNaCl (mol/kg)','mLiCl (mol/kg)', \n",
    "#               'Na/Li', 'Na%', 'Li%', 'Na/Li%', 'salinity',\n",
    "#               'mCl (mol/kg)']] = df_FI[['XCO2', 'XN2', 'XCH4', 'N2/CO2','mNaCl (mol/kg)',\n",
    "#                                         'mLiCl (mol/kg)', 'Na/Li', 'Na%', 'Li%', 'Na/Li%', 'salinity','mCl (mol/kg)']]\n",
    "\n",
    "\n",
    "\n",
    "\n",
    "# df_corrected[['sample','piece','field','extra']]=df_corrected[\"Sample\"].str.split(pat=' ', expand=True)\n",
    "\n",
    "\n",
    "df_corrected = df_corrected[['sample','piece', 'field', 'analysis', 'Host',\n",
    "                            'Length', 'Width', 'Phases', 'VL (%)', \n",
    "                            'Tm CO2','Te', 'Tm Hh', 'Tm H2O', 'Tm CL', \n",
    "                            'Th CO2','Hmg Mode','Type','Color', 'Symbol']]\n",
    "#                             'Tm Xts', 'Th total']]\n",
    "#                             'XCO2', 'XN2', 'XCH4', 'N2/CO2', \n",
    "#                             'mNaCl (mol/kg)', 'mLiCl (mol/kg)','Na/Li', \n",
    "#                             'Na%', 'Li%', 'Na/Li%', 'salinity', 'mCl (mol/kg)']]\n",
    "\n",
    "\n",
    "df_corrected.to_csv(base_dir +'Buranga_microthermometry_processed.csv')\n",
    "df_corrected\n"
   ]
  },
  {
   "cell_type": "code",
   "execution_count": 59,
   "metadata": {
    "scrolled": false
   },
   "outputs": [
    {
     "data": {
      "application/vnd.plotly.v1+json": {
       "config": {
        "plotlyServerURL": "https://plot.ly"
       },
       "data": [
        {
         "customdata": [
          [
           "BU18FA22",
           "A",
           "FF1",
           "1",
           "L - V",
           "Quartz"
          ],
          [
           "BU18FA22",
           "A",
           "FF1",
           "2",
           "L - V",
           "Quartz"
          ],
          [
           "BU18FA22",
           "A",
           "FF2",
           "1",
           "L - V",
           "Quartz"
          ],
          [
           "BU18FA22",
           "A",
           "FF2",
           "2",
           "L - V",
           "Quartz"
          ],
          [
           "BU18FA22",
           "A",
           "FF2",
           "3",
           "L - V",
           "Quartz"
          ],
          [
           "BU18FA22",
           "A",
           "FF2",
           "4",
           "L - V",
           "Quartz"
          ],
          [
           "BU18FA22",
           "A",
           "FF2",
           "5",
           "L - V",
           "Quartz"
          ],
          [
           "BU18FA22",
           "A",
           "FF3b",
           "1",
           "L - V",
           "Quartz"
          ],
          [
           "BU18FA22",
           "A",
           "FF3b",
           "2",
           "L - V",
           "Quartz"
          ],
          [
           "BU18FA22",
           "A",
           "FF3b",
           "3",
           "L - V",
           "Quartz"
          ],
          [
           "BU18FA22",
           "A",
           "FF3b",
           "4",
           "L - V",
           "Quartz"
          ],
          [
           "BU18FA22",
           "A",
           "FF3b",
           "5",
           "L - V",
           "Quartz"
          ],
          [
           "BU18FA22",
           "A",
           "FF3a",
           "1",
           "L - V",
           "Quartz"
          ],
          [
           "BU18FA22",
           "A",
           "FF3a",
           "2",
           "L - V",
           "Quartz"
          ],
          [
           "BU18FA22",
           "A",
           "FF3a",
           "3",
           "L - V",
           "Quartz"
          ],
          [
           "BU18FA22",
           "A",
           "FF3a",
           "4",
           "L - V",
           "Quartz"
          ],
          [
           "BU18FA22",
           "A",
           "FF3a",
           "5",
           "L - V",
           "Quartz"
          ],
          [
           "BU18FA22",
           "B",
           "FF1",
           "1",
           "L - V",
           "Quartz"
          ],
          [
           "BU18FA22",
           "B",
           "FF1",
           "2",
           "L - V",
           "Quartz"
          ],
          [
           "BU18FA22",
           "B",
           "FF1",
           "3",
           "L - V",
           "Quartz"
          ],
          [
           "BU18FA22",
           "B",
           "FF1",
           "4",
           "L - V",
           "Quartz"
          ],
          [
           "BU18FA22",
           "B",
           "FF1",
           "5",
           "L - V",
           "Quartz"
          ],
          [
           "BU18FA19",
           "D",
           "FFore2",
           "1",
           "L - V",
           "Quartz"
          ],
          [
           "BU18FA19",
           "D",
           "FFore2",
           "2",
           "L - V",
           "Quartz"
          ],
          [
           "BU18FA19",
           "D",
           "FFore2",
           "3",
           "L - V",
           "Quartz"
          ],
          [
           "BU18FA19",
           "D",
           "FFore2",
           "4",
           "L - V",
           "Quartz"
          ],
          [
           "BU18FA19",
           "D",
           "FFore2",
           "5",
           "L - V",
           "Quartz"
          ],
          [
           "BU18FA19",
           "D",
           "FFore2",
           "7",
           "L - V",
           "Quartz"
          ],
          [
           "BU18FA19",
           "D",
           "FFore2",
           "8",
           "L - V",
           "Quartz"
          ],
          [
           "BU18FA19",
           "D",
           "FFore2",
           "9",
           "L - V",
           "Quartz"
          ],
          [
           "BU18FA19",
           "D",
           "FFore2",
           "11",
           "L - V",
           "Quartz"
          ],
          [
           "BU18FA19",
           "D",
           "FFore2",
           "12",
           "L - V",
           "Quartz"
          ],
          [
           "BU18FA19",
           "D",
           "FFore2",
           "13",
           "L - V",
           "Quartz"
          ],
          [
           "BU18FA19",
           "E",
           "FF11b",
           "1",
           "L - V",
           "Quartz"
          ],
          [
           "BU18FA19",
           "E",
           "FF11b",
           "2",
           "L - V",
           "Quartz"
          ],
          [
           "BU18FA19",
           "E",
           "FF11b",
           "3",
           "L - V",
           "Quartz"
          ],
          [
           "BU18FA19",
           "E",
           "FF11b",
           "4",
           "L - V",
           "Quartz"
          ],
          [
           "BU18FA19",
           "E",
           "FF11b",
           "5",
           "L - V",
           "Quartz"
          ],
          [
           "BU18FA19",
           "E",
           "FF11b",
           "6",
           "L - V",
           "Quartz"
          ],
          [
           "BU18FA19",
           "E",
           "FF11b",
           "7",
           "L - V",
           "Quartz"
          ],
          [
           "BU18FA19",
           "E",
           "FF11b",
           "8",
           "L - V",
           "Quartz"
          ],
          [
           "BU18FA19",
           "E",
           "FF11b",
           "9",
           "L - V",
           "Quartz"
          ],
          [
           "BU18FA19",
           "E",
           "FF11b",
           "10",
           "L - V",
           "Quartz"
          ]
         ],
         "hovertemplate": "Host=%{customdata[5]}<br>Phases=%{customdata[4]}<br>Tm H2O=%{x}<br>Tm CL=%{y}<br>sample=%{customdata[0]}<br>piece=%{customdata[1]}<br>field=%{customdata[2]}<br>analysis=%{customdata[3]}<extra></extra>",
         "legendgroup": "Quartz, L - V",
         "marker": {
          "color": "#636efa",
          "size": 8,
          "symbol": "circle"
         },
         "mode": "markers",
         "name": "Quartz, L - V",
         "orientation": "v",
         "showlegend": true,
         "type": "scatter",
         "x": [
          null,
          null,
          -18.954633432404492,
          -16.00771329167391,
          -16.698468762886645,
          -11.075028864248978,
          -14.527522996218048,
          -15.514316526521956,
          -13.047332700762187,
          -15.711675232582737,
          -14.527522996218048,
          -17.882620999251333,
          -15.711675232582737,
          -16.1063926447043,
          -14.132805584096484,
          -18.376017764403286,
          -15.81035458561313,
          -16.00771329167391,
          -20.053566765919932,
          -19.066773235616026,
          null,
          -19.95488741288954,
          -13.74433452076339,
          -16.71618905373365,
          -13.34808724970069,
          -14.734952698420143,
          -15.923694511608245,
          -14.734952698420143,
          -22.065527213080113,
          -21.768341759783087,
          -7.966298463072786,
          -14.44236522947054,
          -17.929478103684712,
          -16.833889945164447,
          -15.143211988774846,
          -16.933341589657953,
          -11.065694564541104,
          -14.844857055294328,
          -15.043760344281338,
          -11.562952787008633,
          null,
          -11.165146209034612,
          -11.364049498021622
         ],
         "xaxis": "x",
         "y": [
          null,
          null,
          0.6945070729959641,
          null,
          0.3730593113709553,
          0.49502341304266007,
          1.5572115477356443,
          null,
          -1.6992071022672504,
          1.5572115477356443,
          0.17570060531017379,
          0.3730593113709553,
          -1.3044896901456875,
          -0.8110929249937338,
          -0.5150548659025616,
          null,
          -2.4886419265103763,
          -3.3767561037838933,
          -1.4031690431760782,
          -2.1926038674192045,
          -3.1793973977231116,
          -1.008451631054515,
          1.4121235973849202,
          2.2046181395103224,
          2.4027417750416724,
          null,
          null,
          2.2046181395103224,
          2.6999272283386984,
          3.0961744994013993,
          null,
          1.0005632134779463,
          0.20350884222899226,
          null,
          -1.0210784706970106,
          -0.3249169592424693,
          -1.5183366931645401,
          -0.4243686037359752,
          -3.905176161008681,
          2.260825797588684,
          -0.9216268262035047,
          -4.8996926059437405,
          -1.1205301151905165
         ],
         "yaxis": "y"
        },
        {
         "customdata": [
          [
           "BU18FA19",
           "D",
           "FFore2",
           "6",
           "V - L",
           "Quartz"
          ]
         ],
         "hovertemplate": "Host=%{customdata[5]}<br>Phases=%{customdata[4]}<br>Tm H2O=%{x}<br>Tm CL=%{y}<br>sample=%{customdata[0]}<br>piece=%{customdata[1]}<br>field=%{customdata[2]}<br>analysis=%{customdata[3]}<extra></extra>",
         "legendgroup": "Quartz, V - L",
         "marker": {
          "color": "#636efa",
          "size": 8,
          "symbol": "square"
         },
         "mode": "markers",
         "name": "Quartz, V - L",
         "orientation": "v",
         "showlegend": true,
         "type": "scatter",
         "x": [
          null
         ],
         "xaxis": "x",
         "y": [
          null
         ],
         "yaxis": "y"
        },
        {
         "customdata": [
          [
           "BU18FA22",
           "B",
           "FF1",
           "1",
           "L - V",
           "Trolleite"
          ],
          [
           "BU18FA22",
           "B",
           "FF1",
           "2",
           "L - V",
           "Trolleite"
          ],
          [
           "BU18FA22",
           "B",
           "FF1",
           "3",
           "L - V",
           "Trolleite"
          ],
          [
           "BU18FA22",
           "B",
           "FF1",
           "4",
           "L - V",
           "Trolleite"
          ],
          [
           "BU18FA22",
           "B",
           "FF1",
           "5",
           "L - V",
           "Trolleite"
          ],
          [
           "BU18FA20",
           "E",
           "FF1",
           "3",
           "L - V",
           "Trolleite"
          ],
          [
           "BU18FA20",
           "E",
           "FF1",
           "4",
           "L - V",
           "Trolleite"
          ],
          [
           "BU18FA20",
           "A",
           "FF2",
           "1",
           "L - V",
           "Trolleite"
          ],
          [
           "BU18FA20",
           "A",
           "FF2",
           "2",
           "L - V",
           "Trolleite"
          ],
          [
           "BU18FA20",
           "A",
           "FF2",
           "3",
           "L - V",
           "Trolleite"
          ],
          [
           "BU18FA20",
           "F",
           "FF2",
           "1",
           "L - V",
           "Trolleite"
          ],
          [
           "BU18FA20",
           "E",
           "FF1",
           "7",
           "L - V",
           "Trolleite"
          ],
          [
           "BU18FA20",
           "H",
           "FF1",
           "1",
           "L - V",
           "Trolleite"
          ],
          [
           "BU18FA20",
           "H",
           "FF1",
           "2",
           "L - V",
           "Trolleite"
          ],
          [
           "BU18FA20",
           "H",
           "FF1",
           "3",
           "L - V",
           "Trolleite"
          ],
          [
           "BU18FA20",
           "H",
           "FF1",
           "4",
           "L - V",
           "Trolleite"
          ],
          [
           "BU18FA20",
           "H",
           "FF1",
           "5",
           "L - V",
           "Trolleite"
          ],
          [
           "BU18FA19",
           "A",
           "FF7b",
           "10",
           "L - V",
           "Trolleite"
          ],
          [
           "BU18FA19",
           "C",
           "FFore1",
           "2",
           "L - V",
           "Trolleite"
          ],
          [
           "BU18FA19",
           "C",
           "FFore1",
           "4",
           "L - V",
           "Trolleite"
          ],
          [
           "BU18FA19",
           "C",
           "FFore1",
           "7",
           "L - V",
           "Trolleite"
          ],
          [
           "BU18FA19",
           "D",
           "FF2",
           "2",
           "L - V",
           "Trolleite"
          ],
          [
           "BU18FA19",
           "D",
           "FF2",
           "5",
           "L - V",
           "Trolleite"
          ],
          [
           "BU18FA19",
           "D",
           "FF2",
           "6",
           "L - V",
           "Trolleite"
          ],
          [
           "BU18FA19",
           "D",
           "FF2",
           "7",
           "L - V",
           "Trolleite"
          ],
          [
           "BU18FA19",
           "D",
           "FF2",
           "8",
           "L - V",
           "Trolleite"
          ],
          [
           "BU18FA19",
           "D",
           "FF2",
           "9",
           "L - V",
           "Trolleite"
          ],
          [
           "BU18FA19",
           "D",
           "FF2",
           "10",
           "L - V",
           "Trolleite"
          ]
         ],
         "hovertemplate": "Host=%{customdata[5]}<br>Phases=%{customdata[4]}<br>Tm H2O=%{x}<br>Tm CL=%{y}<br>sample=%{customdata[0]}<br>piece=%{customdata[1]}<br>field=%{customdata[2]}<br>analysis=%{customdata[3]}<extra></extra>",
         "legendgroup": "Trolleite, L - V",
         "marker": {
          "color": "#EF553B",
          "size": 8,
          "symbol": "circle"
         },
         "mode": "markers",
         "name": "Trolleite, L - V",
         "orientation": "v",
         "showlegend": true,
         "type": "scatter",
         "x": [
          -16.062120363081583,
          -10.777707581063199,
          -16.797148115917036,
          null,
          -22.224512532588527,
          -14.412006146524355,
          -14.312330926018907,
          -17.87914792677834,
          -12.020605172927874,
          -14.403741208392471,
          -9.692796017450364,
          -13.322378190784285,
          -14.71110476055968,
          -14.909494270527594,
          -13.818351965704068,
          -13.223183435800328,
          -13.123988680816371,
          -12.687893526258717,
          -15.811565325189736,
          null,
          -14.612335338997573,
          -13.312593142127993,
          -14.906522842263012,
          -15.9027289048474,
          -18.59248527382525,
          -16.301211329881156,
          -16.600073148656474,
          -16.20159072362272
         ],
         "xaxis": "x",
         "y": [
          -4.8910354056965515,
          -2.686000632571158,
          -1.9952451613584226,
          null,
          -1.5018483962064688,
          -3.3480566704197448,
          2.233755677885284,
          1.0866430221274177,
          4.065563066458165,
          4.3634550708912405,
          0.5667306987707291,
          -1.7165918576613315,
          1.854419321761116,
          2.2511983416969437,
          2.449587851664857,
          2.9455616265846416,
          2.3503930966809,
          1.382217512958917,
          1.8770769711446436,
          1.277461978048563,
          1.9770128033273238,
          1.730118402896265,
          2.6267038592222143,
          2.2282214341884594,
          0.03656809650280575,
          1.9293596154131427,
          2.1286008279300206,
          2.2282214341884594
         ],
         "yaxis": "y"
        },
        {
         "customdata": [
          [
           "BU18FA20",
           "E",
           "FF1",
           "1",
           "L - L - V",
           "Trolleite"
          ],
          [
           "BU18FA20",
           "E",
           "FF1",
           "2",
           "L - L - V",
           "Trolleite"
          ],
          [
           "BU18FA20",
           "E",
           "FF1",
           "6",
           "L - L - V",
           "Trolleite"
          ],
          [
           "BU18FA19",
           "B",
           "FF1",
           "5",
           "L - L - V",
           "Trolleite"
          ],
          [
           "BU18FA19",
           "B",
           "FF1",
           "10",
           "L - L - V",
           "Trolleite"
          ]
         ],
         "hovertemplate": "Host=%{customdata[5]}<br>Phases=%{customdata[4]}<br>Tm H2O=%{x}<br>Tm CL=%{y}<br>sample=%{customdata[0]}<br>piece=%{customdata[1]}<br>field=%{customdata[2]}<br>analysis=%{customdata[3]}<extra></extra>",
         "legendgroup": "Trolleite, L - L - V",
         "marker": {
          "color": "#EF553B",
          "size": 8,
          "symbol": "diamond"
         },
         "mode": "markers",
         "name": "Trolleite, L - L - V",
         "orientation": "v",
         "showlegend": true,
         "type": "scatter",
         "x": [
          -15.109732690062483,
          -14.611356587535248,
          -12.429625395928673,
          null,
          null
         ],
         "xaxis": "x",
         "y": [
          8.612969790233887,
          8.2142689082121,
          -2.311760387565072,
          0.3895889381349188,
          1.9770128033273238
         ],
         "yaxis": "y"
        },
        {
         "customdata": [
          [
           "BU18FA20",
           "G",
           "FF1",
           "4",
           "V - L",
           "Trolleite"
          ]
         ],
         "hovertemplate": "Host=%{customdata[5]}<br>Phases=%{customdata[4]}<br>Tm H2O=%{x}<br>Tm CL=%{y}<br>sample=%{customdata[0]}<br>piece=%{customdata[1]}<br>field=%{customdata[2]}<br>analysis=%{customdata[3]}<extra></extra>",
         "legendgroup": "Trolleite, V - L",
         "marker": {
          "color": "#EF553B",
          "size": 8,
          "symbol": "square"
         },
         "mode": "markers",
         "name": "Trolleite, V - L",
         "orientation": "v",
         "showlegend": true,
         "type": "scatter",
         "x": [
          -13.322378190784285
         ],
         "xaxis": "x",
         "y": [
          2.5487826066488144
         ],
         "yaxis": "y"
        },
        {
         "customdata": [
          [
           "BU18FA20",
           "E",
           "FF1",
           "5",
           "L - V - S",
           "Trolleite"
          ],
          [
           "BU18FA20",
           "G",
           "FF1",
           "1",
           "L - V - S",
           "Trolleite"
          ],
          [
           "BU18FA20",
           "G",
           "FF1",
           "2",
           "L - V - S",
           "Trolleite"
          ],
          [
           "BU18FA20",
           "G",
           "FF1",
           "3",
           "L - V - S",
           "Trolleite"
          ],
          [
           "BU18FA20",
           "H",
           "FF1",
           "7",
           "L - V - S",
           "Trolleite"
          ],
          [
           "BU18FA20",
           "J",
           "FF1",
           "1",
           "L - V - S",
           "Trolleite"
          ],
          [
           "BU18FA20",
           "J",
           "FF1",
           "2",
           "L - V - S",
           "Trolleite"
          ],
          [
           "BU18FA20",
           "J",
           "FF1",
           "3",
           "L - V - S",
           "Trolleite"
          ],
          [
           "BU18FA19",
           "A",
           "FF7b",
           "1",
           "L - V - S",
           "Trolleite"
          ],
          [
           "BU18FA19",
           "A",
           "FF7b",
           "2",
           "L - V - S",
           "Trolleite"
          ],
          [
           "BU18FA19",
           "A",
           "FF7b",
           "3",
           "L - V - S",
           "Trolleite"
          ],
          [
           "BU18FA19",
           "A",
           "FF7b",
           "4",
           "L - V - S",
           "Trolleite"
          ],
          [
           "BU18FA19",
           "A",
           "FF7b",
           "5",
           "L - V - S",
           "Trolleite"
          ],
          [
           "BU18FA19",
           "A",
           "FF7b",
           "6",
           "L - V - S",
           "Trolleite"
          ],
          [
           "BU18FA19",
           "A",
           "FF7b",
           "7",
           "L - V - S",
           "Trolleite"
          ],
          [
           "BU18FA19",
           "A",
           "FF7b",
           "8",
           "L - V - S",
           "Trolleite"
          ],
          [
           "BU18FA19",
           "A",
           "FF7b",
           "9",
           "L - V - S",
           "Trolleite"
          ],
          [
           "BU18FA19",
           "B",
           "FF1",
           "1",
           "L - V - S",
           "Trolleite"
          ],
          [
           "BU18FA19",
           "B",
           "FF1",
           "2",
           "L - V - S",
           "Trolleite"
          ],
          [
           "BU18FA19",
           "B",
           "FF1",
           "3",
           "L - V - S",
           "Trolleite"
          ],
          [
           "BU18FA19",
           "B",
           "FF1",
           "4",
           "L - V - S",
           "Trolleite"
          ],
          [
           "BU18FA19",
           "B",
           "FF1",
           "6",
           "L - V - S",
           "Trolleite"
          ],
          [
           "BU18FA19",
           "B",
           "FF1",
           "7",
           "L - V - S",
           "Trolleite"
          ],
          [
           "BU18FA19",
           "B",
           "FF1",
           "8",
           "L - V - S",
           "Trolleite"
          ],
          [
           "BU18FA19",
           "B",
           "FF1",
           "9",
           "L - V - S",
           "Trolleite"
          ],
          [
           "BU18FA19",
           "C",
           "FFore1",
           "1",
           "L - V - S",
           "Trolleite"
          ],
          [
           "BU18FA19",
           "C",
           "FFore1",
           "3",
           "L - V - S",
           "Trolleite"
          ],
          [
           "BU18FA19",
           "C",
           "FFore1",
           "5",
           "L - V - S",
           "Trolleite"
          ],
          [
           "BU18FA19",
           "C",
           "FFore1",
           "6",
           "L - V - S",
           "Trolleite"
          ],
          [
           "BU18FA19",
           "D",
           "FF2",
           "1",
           "L - V - S",
           "Trolleite"
          ],
          [
           "BU18FA19",
           "D",
           "FF2",
           "3",
           "L - V - S",
           "Trolleite"
          ],
          [
           "BU18FA19",
           "D",
           "FF2",
           "4",
           "L - V - S",
           "Trolleite"
          ]
         ],
         "hovertemplate": "Host=%{customdata[5]}<br>Phases=%{customdata[4]}<br>Tm H2O=%{x}<br>Tm CL=%{y}<br>sample=%{customdata[0]}<br>piece=%{customdata[1]}<br>field=%{customdata[2]}<br>analysis=%{customdata[3]}<extra></extra>",
         "legendgroup": "Trolleite, L - V - S",
         "marker": {
          "color": "#EF553B",
          "size": 8,
          "symbol": "x"
         },
         "mode": "markers",
         "name": "Trolleite, L - V - S",
         "orientation": "v",
         "showlegend": true,
         "type": "scatter",
         "x": [
          -16.00063657535112,
          null,
          -15.10788378049551,
          null,
          -13.619962455736156,
          -14.286993612032022,
          -15.073156095137984,
          -12.812938956208342,
          -8.161843821335562,
          -8.752198130673365,
          -8.457020976004463,
          -7.571489511997759,
          -10.916830598245308,
          -11.015222983134944,
          -12.687893526258717,
          -16.721981306733703,
          -7.965059051556294,
          -6.919900964039604,
          -14.192023783248528,
          null,
          -16.4891271571651,
          -9.115864568950167,
          -17.610410304477977,
          -16.710987814833857,
          -14.012720345901494,
          null,
          -15.511757828641695,
          -15.811565325189736,
          -17.810281968843338,
          -17.695899817499303,
          -15.803108298588961,
          -14.707281629746136
         ],
         "xaxis": "x",
         "y": [
          2.6479773616327713,
          null,
          -2.7085394075008997,
          null,
          1.6560298117932022,
          2.320688843581427,
          2.418959153969672,
          2.713770085134408,
          6.498621527219875,
          1.382217512958917,
          4.03881190497903,
          2.858103286303424,
          1.5790022827381847,
          1.5790022827381847,
          4.727558599206467,
          2.562926131634523,
          1.2838251280692832,
          -0.9403281053423644,
          1.6879517146964587,
          null,
          1.8876998341674647,
          1.0775903136832028,
          2.4766919642407244,
          2.7764994607887643,
          2.5766277964234043,
          null,
          2.176884467692684,
          2.376756132058044,
          2.4766919642407244,
          1.6304977966378265,
          2.2282214341884594,
          2.5270832529637755
         ],
         "yaxis": "y"
        },
        {
         "customdata": [
          [
           "BU18FA20",
           "H",
           "FF1",
           "6",
           "L",
           "Trolleite"
          ]
         ],
         "hovertemplate": "Host=%{customdata[5]}<br>Phases=%{customdata[4]}<br>Tm H2O=%{x}<br>Tm CL=%{y}<br>sample=%{customdata[0]}<br>piece=%{customdata[1]}<br>field=%{customdata[2]}<br>analysis=%{customdata[3]}<extra></extra>",
         "legendgroup": "Trolleite, L",
         "marker": {
          "color": "#EF553B",
          "size": 8,
          "symbol": "cross"
         },
         "mode": "markers",
         "name": "Trolleite, L",
         "orientation": "v",
         "showlegend": true,
         "type": "scatter",
         "x": [
          null
         ],
         "xaxis": "x",
         "y": [
          null
         ],
         "yaxis": "y"
        },
        {
         "customdata": [
          [
           "BU18FA19",
           "B",
           "FF1",
           "MI",
           "S - L - V",
           "Trolleite"
          ]
         ],
         "hovertemplate": "Host=%{customdata[5]}<br>Phases=%{customdata[4]}<br>Tm H2O=%{x}<br>Tm CL=%{y}<br>sample=%{customdata[0]}<br>piece=%{customdata[1]}<br>field=%{customdata[2]}<br>analysis=%{customdata[3]}<extra></extra>",
         "legendgroup": "Trolleite, S - L - V",
         "marker": {
          "color": "#EF553B",
          "size": 8,
          "symbol": "circle"
         },
         "mode": "markers",
         "name": "Trolleite, S - L - V",
         "orientation": "v",
         "showlegend": true,
         "type": "scatter",
         "x": [
          null
         ],
         "xaxis": "x",
         "y": [
          null
         ],
         "yaxis": "y"
        },
        {
         "customdata": [
          [
           "BU18FA22",
           "B",
           "FF2",
           "1",
           "L - V",
           "Scorzalite"
          ],
          [
           "BU18FA22",
           "B",
           "FF2",
           "2",
           "L - V",
           "Scorzalite"
          ],
          [
           "BU18FA22",
           "B",
           "FF2",
           "3",
           "L - V",
           "Scorzalite"
          ],
          [
           "BU18FA22",
           "B",
           "FF2",
           "4",
           "L - V",
           "Scorzalite"
          ],
          [
           "BU18FA22",
           "B",
           "FF2",
           "5",
           "L - V",
           "Scorzalite"
          ],
          [
           "BU18FA22",
           "B",
           "FF2",
           "6",
           "L - V",
           "Scorzalite"
          ],
          [
           "BU18FA20",
           "A",
           "FF1",
           "1",
           "L - V",
           "Scorzalite"
          ],
          [
           "BU18FA20",
           "A",
           "FF4",
           "1",
           "L - V",
           "Scorzalite"
          ],
          [
           "BU18FA20",
           "I",
           "FF1",
           "1",
           "L - V",
           "Scorzalite"
          ],
          [
           "BU18FA22",
           "D",
           "FF1",
           "1",
           "L - V",
           "Scorzalite"
          ],
          [
           "BU18FA22",
           "D",
           "FF1",
           "2",
           "L - V",
           "Scorzalite"
          ],
          [
           "BU18FA22",
           "D",
           "FF1",
           "3",
           "L - V",
           "Scorzalite"
          ]
         ],
         "hovertemplate": "Host=%{customdata[5]}<br>Phases=%{customdata[4]}<br>Tm H2O=%{x}<br>Tm CL=%{y}<br>sample=%{customdata[0]}<br>piece=%{customdata[1]}<br>field=%{customdata[2]}<br>analysis=%{customdata[3]}<extra></extra>",
         "legendgroup": "Scorzalite, L - V",
         "marker": {
          "color": "#00cc96",
          "size": 8,
          "symbol": "circle"
         },
         "mode": "markers",
         "name": "Scorzalite, L - V",
         "orientation": "v",
         "showlegend": true,
         "type": "scatter",
         "x": [
          -18.178659058342504,
          -20.448284178041494,
          -21.23771900228462,
          -20.448284178041494,
          -15.363927553245016,
          -14.466251083455148,
          -13.818351965704068,
          null,
          -11.735262111040974,
          -13.322378190784285,
          -10.842509316185362,
          -11.437677846089104
         ],
         "xaxis": "x",
         "y": [
          null,
          -1.6992071022672504,
          -0.0216581007506077,
          -2.9820386916623303,
          1.691925372762485,
          0.6945070729959641,
          -3.7996817123244253,
          null,
          -3.4029026923885977,
          2.2511983416969437,
          2.8463668716006847,
          1.060861281889461
         ],
         "yaxis": "y"
        },
        {
         "customdata": [
          [
           "BU18FA20",
           "C",
           "FF2",
           "1",
           "L - V",
           "Bertossaite"
          ],
          [
           "BU18FA20",
           "C",
           "FF2",
           "2",
           "L - V",
           "Bertossaite"
          ],
          [
           "BU18FA20",
           "C",
           "FF2",
           "3",
           "L - V",
           "Bertossaite"
          ],
          [
           "BU18FA20",
           "C",
           "Bts3-FF1",
           "1",
           "L - V",
           "Bertossaite"
          ],
          [
           "BU18FA20",
           "C",
           "Bts3-FF1",
           "2",
           "L - V",
           "Bertossaite"
          ],
          [
           "BU18FA20",
           "C",
           "Bts3-FF1",
           "3",
           "L - V",
           "Bertossaite"
          ],
          [
           "BU18FA20",
           "C",
           "Bts3-FF1",
           "4",
           "L - V",
           "Bertossaite"
          ],
          [
           "BU18FA20",
           "F",
           "FF1",
           "1",
           "L - V",
           "Bertossaite"
          ],
          [
           "BU18FA20",
           "F",
           "FF1",
           "2",
           "L - V",
           "Bertossaite"
          ],
          [
           "BU18FA20",
           "F",
           "FF1",
           "3",
           "L - V",
           "Bertossaite"
          ],
          [
           "BU18FA20",
           "C",
           "FF1",
           "5",
           "L - V",
           "Bertossaite"
          ],
          [
           "BU18FA20",
           "C",
           "FF2",
           "5",
           "L - V",
           "Bertossaite"
          ],
          [
           "BU18FA19",
           "E",
           "FF11",
           "1",
           "L - V",
           "Bertossaite"
          ],
          [
           "BU18FA19",
           "E",
           "FF11",
           "2",
           "L - V",
           "Bertossaite"
          ],
          [
           "BU18FA19",
           "E",
           "FF11",
           "3",
           "L - V",
           "Bertossaite"
          ],
          [
           "BU18FA19",
           "E",
           "FF11",
           "4",
           "L - V",
           "Bertossaite"
          ],
          [
           "BU18FA19",
           "E",
           "FF11",
           "5",
           "L - V",
           "Bertossaite"
          ],
          [
           "BU18FA19",
           "E",
           "FF11",
           "6",
           "L - V",
           "Bertossaite"
          ],
          [
           "BU18FA19",
           "E",
           "FF11",
           "8",
           "L - V",
           "Bertossaite"
          ],
          [
           "BU18FA19",
           "E",
           "FF11",
           "9",
           "L - V",
           "Bertossaite"
          ],
          [
           "BU18FA04",
           "A",
           "FF3",
           "1",
           "L - V",
           "Bertossaite"
          ],
          [
           "BU18FA04",
           "A",
           "FF3",
           "2",
           "L - V",
           "Bertossaite"
          ],
          [
           "BU18FA04",
           "A",
           "FF3",
           "3",
           "L - V",
           "Bertossaite"
          ],
          [
           "BU18FA04",
           "A",
           "FF3",
           "5",
           "L - V",
           "Bertossaite"
          ],
          [
           "BU18FA04",
           "A",
           "FF3",
           "6",
           "L - V",
           "Bertossaite"
          ],
          [
           "BU18FA04",
           "A",
           "FF3",
           "7",
           "L - V",
           "Bertossaite"
          ],
          [
           "BU18FA04",
           "A",
           "FF3",
           "8",
           "L - V",
           "Bertossaite"
          ],
          [
           "BU18FA04",
           "A",
           "FF3",
           "9",
           "L - V",
           "Bertossaite"
          ]
         ],
         "hovertemplate": "Host=%{customdata[5]}<br>Phases=%{customdata[4]}<br>Tm H2O=%{x}<br>Tm CL=%{y}<br>sample=%{customdata[0]}<br>piece=%{customdata[1]}<br>field=%{customdata[2]}<br>analysis=%{customdata[3]}<extra></extra>",
         "legendgroup": "Bertossaite, L - V",
         "marker": {
          "color": "#ab63fa",
          "size": 8,
          "symbol": "circle"
         },
         "mode": "markers",
         "name": "Bertossaite, L - V",
         "orientation": "v",
         "showlegend": true,
         "type": "scatter",
         "x": [
          -10.69408983099553,
          -10.494507019395845,
          -10.09534139619648,
          -11.29283826579458,
          -11.093255454194898,
          -12.091169512193318,
          -10.594298425195689,
          -10.788473627920578,
          -8.59711840698015,
          -10.390045405931408,
          -11.933651621008888,
          -9.652172256377881,
          -16.136105768374563,
          -17.530950918060235,
          -17.630582714466353,
          -16.335369361186803,
          -16.335369361186803,
          -17.630582714466353,
          -17.430599812125482,
          -17.828406390099506,
          -14.664116250005497,
          -13.575204423548305,
          -13.575204423548305,
          -13.674196407771687,
          -13.773188391995067,
          -12.288308628644351,
          -12.090324660197592,
          null
         ],
         "xaxis": "x",
         "y": [
          3.9752468215812287,
          3.675872604181703,
          5.771492125978382,
          -0.6151578452114985,
          -0.11620081621228895,
          null,
          0.48254761858676243,
          4.750227029657,
          5.646690529132629,
          4.451405863165124,
          -1.4190075927094608,
          3.4415354015044257,
          2.4950401595697356,
          2.395408363163616,
          1.9968811775391389,
          1.5983539919146619,
          2.395408363163616,
          2.4950401595697356,
          null,
          2.3602774420821895,
          2.560489004862798,
          3.6494008313199893,
          3.847384799766751,
          3.74839281554337,
          3.6494008313199893,
          null,
          3.946376783990132,
          null
         ],
         "yaxis": "y"
        },
        {
         "customdata": [
          [
           "BU18FA20",
           "C",
           "FF1",
           "1",
           "L - L - V",
           "Bertossaite"
          ],
          [
           "BU18FA20",
           "C",
           "FF1",
           "2",
           "L - L - V",
           "Bertossaite"
          ],
          [
           "BU18FA20",
           "C",
           "FF1",
           "3",
           "L - L - V",
           "Bertossaite"
          ],
          [
           "BU18FA20",
           "C",
           "FF1",
           "4",
           "L - L - V",
           "Bertossaite"
          ],
          [
           "BU18FA20",
           "C",
           "FF1",
           "6",
           "L - L - V",
           "Bertossaite"
          ],
          [
           "BU18FA20",
           "C",
           "FF1",
           "7",
           "L - L - V",
           "Bertossaite"
          ],
          [
           "BU18FA20",
           "C",
           "FF1",
           "8",
           "L - L - V",
           "Bertossaite"
          ],
          [
           "BU18FA20",
           "C",
           "FF1",
           "9",
           "L - L - V",
           "Bertossaite"
          ],
          [
           "BU18FA20",
           "C",
           "FF1",
           "10",
           "L - L - V",
           "Bertossaite"
          ],
          [
           "BU18FA20",
           "B",
           "FF4",
           "1",
           "L - L - V",
           "Bertossaite"
          ],
          [
           "BU18FA20",
           "B",
           "FF4",
           "2",
           "L - L - V",
           "Bertossaite"
          ],
          [
           "BU18FA20",
           "B",
           "FF4",
           "3",
           "L - L - V",
           "Bertossaite"
          ],
          [
           "BU18FA20",
           "B",
           "FF4",
           "4",
           "L - L - V",
           "Bertossaite"
          ],
          [
           "BU18FA20",
           "B",
           "FF4",
           "5",
           "L - L - V",
           "Bertossaite"
          ],
          [
           "BU18FA04",
           "A",
           "FF3",
           "4",
           "L - L - V",
           "Bertossaite"
          ]
         ],
         "hovertemplate": "Host=%{customdata[5]}<br>Phases=%{customdata[4]}<br>Tm H2O=%{x}<br>Tm CL=%{y}<br>sample=%{customdata[0]}<br>piece=%{customdata[1]}<br>field=%{customdata[2]}<br>analysis=%{customdata[3]}<extra></extra>",
         "legendgroup": "Bertossaite, L - L - V",
         "marker": {
          "color": "#ab63fa",
          "size": 8,
          "symbol": "diamond"
         },
         "mode": "markers",
         "name": "Bertossaite, L - L - V",
         "orientation": "v",
         "showlegend": true,
         "type": "scatter",
         "x": [
          -12.390543729592842,
          -12.390543729592842,
          -11.891586700593633,
          -12.590126541192527,
          -15.207078535479464,
          -11.735262111040974,
          -11.23928833612119,
          -11.834456866024931,
          -11.140093581137235,
          -12.22331709387887,
          -11.731965541937646,
          -11.535424921161155,
          -11.731965541937646,
          -11.731965541937646,
          -10.605444896846876
         ],
         "xaxis": "x",
         "y": [
          -1.812654714809601,
          -3.010151584407704,
          -1.812654714809601,
          -1.912446120609443,
          -1.5182023476934177,
          -2.5101498975329863,
          -1.3198128377255038,
          -1.4190075927094608,
          -1.4190075927094608,
          -8.587315609513798,
          -3.673800090101534,
          -8.882126540678533,
          -8.783856230290287,
          -10.061370265337477,
          -6.645765527911635
         ],
         "yaxis": "y"
        },
        {
         "customdata": [
          [
           "BU18FA20",
           "C",
           "FF2",
           "4",
           "V - L",
           "Bertossaite"
          ]
         ],
         "hovertemplate": "Host=%{customdata[5]}<br>Phases=%{customdata[4]}<br>Tm H2O=%{x}<br>Tm CL=%{y}<br>sample=%{customdata[0]}<br>piece=%{customdata[1]}<br>field=%{customdata[2]}<br>analysis=%{customdata[3]}<extra></extra>",
         "legendgroup": "Bertossaite, V - L",
         "marker": {
          "color": "#ab63fa",
          "size": 8,
          "symbol": "square"
         },
         "mode": "markers",
         "name": "Bertossaite, V - L",
         "orientation": "v",
         "showlegend": true,
         "type": "scatter",
         "x": [
          -2.610985961208336
         ],
         "xaxis": "x",
         "y": [
          7.966903053574904
         ],
         "yaxis": "y"
        },
        {
         "customdata": [
          [
           "BU18FA19",
           "E",
           "FF11",
           "7",
           "L - V - S",
           "Bertossaite"
          ],
          [
           "BU18FA19",
           "E",
           "FF11",
           "10",
           "L - V - S",
           "Bertossaite"
          ]
         ],
         "hovertemplate": "Host=%{customdata[5]}<br>Phases=%{customdata[4]}<br>Tm H2O=%{x}<br>Tm CL=%{y}<br>sample=%{customdata[0]}<br>piece=%{customdata[1]}<br>field=%{customdata[2]}<br>analysis=%{customdata[3]}<extra></extra>",
         "legendgroup": "Bertossaite, L - V - S",
         "marker": {
          "color": "#ab63fa",
          "size": 8,
          "symbol": "x"
         },
         "mode": "markers",
         "name": "Bertossaite, L - V - S",
         "orientation": "v",
         "showlegend": true,
         "type": "scatter",
         "x": [
          -18.925796067745903,
          -17.132244878644965
         ],
         "xaxis": "x",
         "y": [
          0.50240423144735,
          null
         ],
         "yaxis": "y"
        },
        {
         "customdata": [
          [
           "BU18FA32",
           "A",
           "FF1",
           "5",
           "L - V",
           "Brazilianite"
          ],
          [
           "BU18FA32",
           "A",
           "FF1",
           "6",
           "L - V",
           "Brazilianite"
          ],
          [
           "BU18FA32",
           "A",
           "FF1",
           "7",
           "L - V",
           "Brazilianite"
          ],
          [
           "BU18FA32",
           "A",
           "FF1",
           "8",
           "L - V",
           "Brazilianite"
          ],
          [
           "BU18FA32",
           "A",
           "FF1",
           "9",
           "L - V",
           "Brazilianite"
          ],
          [
           "BU18FA32",
           "A",
           "FF1",
           "10",
           "L - V",
           "Brazilianite"
          ],
          [
           "BU18FA32",
           "C",
           "FF1",
           "1",
           "L - V",
           "Brazilianite"
          ],
          [
           "BU18FA32",
           "C",
           "FF1",
           "2",
           "L - V",
           "Brazilianite"
          ],
          [
           "BU18FA32",
           "C",
           "FF1",
           "6",
           "L - V",
           "Brazilianite"
          ],
          [
           "BU18FA32",
           "C",
           "FF1",
           "7",
           "L - V",
           "Brazilianite"
          ],
          [
           "BU18FA32",
           "C",
           "FF1",
           "8",
           "L - V",
           "Brazilianite"
          ],
          [
           "BU18FA32",
           "C",
           "FF1",
           "9",
           "L - V",
           "Brazilianite"
          ],
          [
           "BU18FA32",
           "C",
           "FF1",
           "10",
           "L - V",
           "Brazilianite"
          ],
          [
           "BU18FA32",
           "B",
           "FF2",
           "2",
           "L - V",
           "Brazilianite"
          ],
          [
           "BU18FA32",
           "B",
           "FF2",
           "4",
           "L - V",
           "Brazilianite"
          ],
          [
           "BU18FA02a",
           "A",
           "FF1",
           "1",
           "L - V",
           "Brazilianite"
          ],
          [
           "BU18FA02a",
           "A",
           "FF1",
           "3",
           "L - V",
           "Brazilianite"
          ],
          [
           "BU18FA02a",
           "A",
           "FF1",
           "5",
           "L - V",
           "Brazilianite"
          ]
         ],
         "hovertemplate": "Host=%{customdata[5]}<br>Phases=%{customdata[4]}<br>Tm H2O=%{x}<br>Tm CL=%{y}<br>sample=%{customdata[0]}<br>piece=%{customdata[1]}<br>field=%{customdata[2]}<br>analysis=%{customdata[3]}<extra></extra>",
         "legendgroup": "Brazilianite, L - V",
         "marker": {
          "color": "#FFA15A",
          "size": 8,
          "symbol": "circle"
         },
         "mode": "markers",
         "name": "Brazilianite, L - V",
         "orientation": "v",
         "showlegend": true,
         "type": "scatter",
         "x": [
          -12.387513437402887,
          -12.387513437402887,
          -11.888890631806982,
          -11.489992387330256,
          -11.589716948449437,
          -11.888890631806982,
          -12.58696255964125,
          -11.489992387330256,
          -11.689441509568617,
          -12.387513437402887,
          -10.692195898376804,
          -12.786411681879613,
          -11.09109414285353,
          -10.15964057572572,
          -10.15964057572572,
          -16.79931436117335,
          -16.101970117364278,
          -16.79931436117335
         ],
         "xaxis": "x",
         "y": [
          3.8675900250236768,
          3.8675900250236768,
          4.067039147262039,
          null,
          3.9673145861428583,
          4.366212830619585,
          4.665386513977128,
          3.7678654639044953,
          3.7678654639044953,
          4.067039147262039,
          3.8675900250236768,
          -0.8194643475778476,
          4.665386513977128,
          5.072257534452294,
          4.777446603287558,
          2.5270832529637755,
          2.4274626467053366,
          2.4274626467053366
         ],
         "yaxis": "y"
        },
        {
         "customdata": [
          [
           "BU18FA32",
           "A",
           "FF1",
           "2",
           "L - L - V",
           "Brazilianite"
          ],
          [
           "BU18FA32",
           "A",
           "FF1",
           "3",
           "L - L - V",
           "Brazilianite"
          ],
          [
           "BU18FA32",
           "A",
           "FF1",
           "4",
           "L - L - V",
           "Brazilianite"
          ],
          [
           "BU18FA32",
           "C",
           "FF1",
           "3",
           "L - L - V",
           "Brazilianite"
          ],
          [
           "BU18FA32",
           "C",
           "FF1",
           "4",
           "L - L - V",
           "Brazilianite"
          ],
          [
           "BU18FA32",
           "C",
           "FF1",
           "5",
           "L - L - V",
           "Brazilianite"
          ]
         ],
         "hovertemplate": "Host=%{customdata[5]}<br>Phases=%{customdata[4]}<br>Tm H2O=%{x}<br>Tm CL=%{y}<br>sample=%{customdata[0]}<br>piece=%{customdata[1]}<br>field=%{customdata[2]}<br>analysis=%{customdata[3]}<extra></extra>",
         "legendgroup": "Brazilianite, L - L - V",
         "marker": {
          "color": "#FFA15A",
          "size": 8,
          "symbol": "diamond"
         },
         "mode": "markers",
         "name": "Brazilianite, L - L - V",
         "orientation": "v",
         "showlegend": true,
         "type": "scatter",
         "x": [
          -12.985860804117976,
          -10.791920459495987,
          -10.991369581734348,
          -12.287788876283708,
          -15.578699393216692,
          -12.387513437402887
         ],
         "xaxis": "x",
         "y": [
          5.164009319573036,
          -2.8139555699614753,
          -3.512027497795745,
          1.0753023136865987,
          0.7761286303290544,
          1.3744759970441427
         ],
         "yaxis": "y"
        },
        {
         "customdata": [
          [
           "BU18FA32",
           "A",
           "FF1",
           "1",
           "L - V - S",
           "Brazilianite"
          ],
          [
           "BU18FA32",
           "B",
           "FF2",
           "1",
           "L - V - S",
           "Brazilianite"
          ],
          [
           "BU18FA32",
           "B",
           "FF2",
           "3",
           "L - V - S",
           "Brazilianite"
          ],
          [
           "BU18FA32",
           "B",
           "FF2",
           "5",
           "L - V - S",
           "Brazilianite"
          ],
          [
           "BU18FA02a",
           "A",
           "FF1",
           "2",
           "L - V - S",
           "Brazilianite"
          ],
          [
           "BU18FA02a",
           "A",
           "FF1",
           "4",
           "L - V - S",
           "Brazilianite"
          ]
         ],
         "hovertemplate": "Host=%{customdata[5]}<br>Phases=%{customdata[4]}<br>Tm H2O=%{x}<br>Tm CL=%{y}<br>sample=%{customdata[0]}<br>piece=%{customdata[1]}<br>field=%{customdata[2]}<br>analysis=%{customdata[3]}<extra></extra>",
         "legendgroup": "Brazilianite, L - V - S",
         "marker": {
          "color": "#FFA15A",
          "size": 8,
          "symbol": "x"
         },
         "mode": "markers",
         "name": "Brazilianite, L - V - S",
         "orientation": "v",
         "showlegend": true,
         "type": "scatter",
         "x": [
          -11.489992387330256,
          -9.96309995494923,
          -9.96309995494923,
          -9.96309995494923,
          -16.79931436117335,
          -17.596279211240862
         ],
         "xaxis": "x",
         "y": [
          4.76511107509631,
          4.97398722406405,
          4.875716913675804,
          4.97398722406405,
          2.327842040446898,
          2.0289802216715818
         ],
         "yaxis": "y"
        },
        {
         "customdata": [
          [
           "BU18FA32",
           "A.II",
           "incC",
           "3",
           "L - V - S",
           "Wyllieite"
          ],
          [
           "BU18FA32",
           "A.II",
           "incC",
           "2",
           "L - V - S",
           "Wyllieite"
          ],
          [
           "BU18FA32",
           "A.II",
           "incC",
           "1",
           "L - V - S",
           "Wyllieite"
          ],
          [
           "BU18FA32",
           "A.II",
           "incC",
           "4",
           "L - V - S",
           "Wyllieite"
          ],
          [
           "BU18FA32",
           "A.II",
           "incC",
           "1",
           "L - V - S",
           "Wyllieite"
          ],
          [
           "BU18FA32",
           "A.II",
           "incC",
           "2",
           "L - V - S",
           "Wyllieite"
          ],
          [
           "BU18FA32",
           "A.II",
           "incC",
           "3",
           "L - V - S",
           "Wyllieite"
          ],
          [
           "BU18FA32",
           "A.II",
           "incC",
           "4",
           "L - V - S",
           "Wyllieite"
          ],
          [
           "BU18FA32",
           "A.II",
           "incC",
           "5",
           "L - V - S",
           "Wyllieite"
          ]
         ],
         "hovertemplate": "Host=%{customdata[5]}<br>Phases=%{customdata[4]}<br>Tm H2O=%{x}<br>Tm CL=%{y}<br>sample=%{customdata[0]}<br>piece=%{customdata[1]}<br>field=%{customdata[2]}<br>analysis=%{customdata[3]}<extra></extra>",
         "legendgroup": "Wyllieite, L - V - S",
         "marker": {
          "color": "#19d3f3",
          "size": 8,
          "symbol": "x"
         },
         "mode": "markers",
         "name": "Wyllieite, L - V - S",
         "orientation": "v",
         "showlegend": true,
         "type": "scatter",
         "x": [
          -11.038139096125553,
          -10.84094910051153,
          -11.432519087353601,
          -10.84094910051153,
          -12.882260533984638,
          -11.100404817963781,
          -11.100404817963781,
          -12.882260533984638,
          -10.506452912623493
         ],
         "xaxis": "x",
         "y": [
          0.004500658259784851,
          0.20169065387380872,
          0.10309565606679677,
          0.20169065387380872,
          2.362505036416036,
          null,
          1.4715771784056066,
          1.5705691626289877,
          1.4715771784056066
         ],
         "yaxis": "y"
        },
        {
         "customdata": [
          [
           "BU18FA19(2)",
           "A",
           "FF1b",
           "1",
           "L - V",
           "Augelite"
          ],
          [
           "BU18FA19(2)",
           "A",
           "FF1",
           "2",
           "L - V",
           "Augelite"
          ],
          [
           "BU18FA19(2)",
           "A",
           "FF1",
           "3",
           "L - V",
           "Augelite"
          ],
          [
           "BU18FA19(2)",
           "A",
           "FF1",
           "7",
           "L - V",
           "Augelite"
          ],
          [
           "BU18FA19(2)",
           "A",
           "FF1",
           "8",
           "L - V",
           "Augelite"
          ],
          [
           "BU18FA19(2)",
           "A",
           "FF2",
           "2",
           "L - V",
           "Augelite"
          ],
          [
           "BU18FA19(2)",
           "A",
           "FF2",
           "3",
           "L - V",
           "Augelite"
          ],
          [
           "BU18FA19(2)",
           "A",
           "FF2",
           "4",
           "L - V",
           "Augelite"
          ],
          [
           "BU18FA19(2)",
           "A",
           "FF2",
           "5",
           "L - V",
           "Augelite"
          ],
          [
           "BU18FA19(2)",
           "A",
           "FF2b",
           "1",
           "L - V",
           "Augelite"
          ],
          [
           "BU18FA19(2)",
           "A",
           "FF2b",
           "2",
           "L - V",
           "Augelite"
          ],
          [
           "BU18FA19(2)",
           "A",
           "FF2b",
           "4",
           "L - V",
           "Augelite"
          ]
         ],
         "hovertemplate": "Host=%{customdata[5]}<br>Phases=%{customdata[4]}<br>Tm H2O=%{x}<br>Tm CL=%{y}<br>sample=%{customdata[0]}<br>piece=%{customdata[1]}<br>field=%{customdata[2]}<br>analysis=%{customdata[3]}<extra></extra>",
         "legendgroup": "Augelite, L - V",
         "marker": {
          "color": "#FF6692",
          "size": 8,
          "symbol": "circle"
         },
         "mode": "markers",
         "name": "Augelite, L - V",
         "orientation": "v",
         "showlegend": true,
         "type": "scatter",
         "x": [
          -17.13891585559002,
          null,
          -19.11875554005764,
          -7.239717433251921,
          null,
          null,
          null,
          -24.365330703896834,
          null,
          -17.732867760930308,
          null,
          -20.70262728763174
         ],
         "xaxis": "x",
         "y": [
          -2.19112623785949,
          null,
          null,
          0.48165733617179685,
          0.48165733617179685,
          1.1746012257354639,
          -1.2012063956256802,
          null,
          null,
          1.669561146852369,
          -0.9042304429555372,
          0.5806493203951778
         ],
         "yaxis": "y"
        },
        {
         "customdata": [
          [
           "BU18FA19(2)",
           "A",
           "FF2b",
           "3",
           "L - L - V",
           "Augelite"
          ],
          [
           "BU18FA19(2)",
           "A",
           "FF2b",
           "5",
           "L - L - V",
           "Augelite"
          ]
         ],
         "hovertemplate": "Host=%{customdata[5]}<br>Phases=%{customdata[4]}<br>Tm H2O=%{x}<br>Tm CL=%{y}<br>sample=%{customdata[0]}<br>piece=%{customdata[1]}<br>field=%{customdata[2]}<br>analysis=%{customdata[3]}<extra></extra>",
         "legendgroup": "Augelite, L - L - V",
         "marker": {
          "color": "#FF6692",
          "size": 8,
          "symbol": "diamond"
         },
         "mode": "markers",
         "name": "Augelite, L - L - V",
         "orientation": "v",
         "showlegend": true,
         "type": "scatter",
         "x": [
          null,
          -16.940931887143257
         ],
         "xaxis": "x",
         "y": [
          -0.9042304429555372,
          1.0756092415120828
         ],
         "yaxis": "y"
        },
        {
         "customdata": [
          [
           "BU18FA19(2)",
           "A",
           "FF1",
           "9",
           "V - L",
           "Augelite"
          ]
         ],
         "hovertemplate": "Host=%{customdata[5]}<br>Phases=%{customdata[4]}<br>Tm H2O=%{x}<br>Tm CL=%{y}<br>sample=%{customdata[0]}<br>piece=%{customdata[1]}<br>field=%{customdata[2]}<br>analysis=%{customdata[3]}<extra></extra>",
         "legendgroup": "Augelite, V - L",
         "marker": {
          "color": "#FF6692",
          "size": 8,
          "symbol": "square"
         },
         "mode": "markers",
         "name": "Augelite, V - L",
         "orientation": "v",
         "showlegend": true,
         "type": "scatter",
         "x": [
          null
         ],
         "xaxis": "x",
         "y": [
          2.065529083745893
         ],
         "yaxis": "y"
        },
        {
         "customdata": [
          [
           "BU18FA19(2)",
           "A",
           "FF1",
           "1",
           "L - V - S",
           "Augelite"
          ],
          [
           "BU18FA19(2)",
           "A",
           "FF1",
           "4",
           "L - V - S",
           "Augelite"
          ],
          [
           "BU18FA19(2)",
           "A",
           "FF1",
           "5",
           "L - V - S",
           "Augelite"
          ],
          [
           "BU18FA19(2)",
           "A",
           "FF1",
           "6",
           "L - V - S",
           "Augelite"
          ],
          [
           "BU18FA19(2)",
           "A",
           "FF2",
           "1",
           "L - V - S",
           "Augelite"
          ]
         ],
         "hovertemplate": "Host=%{customdata[5]}<br>Phases=%{customdata[4]}<br>Tm H2O=%{x}<br>Tm CL=%{y}<br>sample=%{customdata[0]}<br>piece=%{customdata[1]}<br>field=%{customdata[2]}<br>analysis=%{customdata[3]}<extra></extra>",
         "legendgroup": "Augelite, L - V - S",
         "marker": {
          "color": "#FF6692",
          "size": 8,
          "symbol": "x"
         },
         "mode": "markers",
         "name": "Augelite, L - V - S",
         "orientation": "v",
         "showlegend": true,
         "type": "scatter",
         "x": [
          null,
          null,
          null,
          -14.169156328888592,
          null
         ],
         "xaxis": "x",
         "y": [
          null,
          null,
          0.9766172572887019,
          null,
          -1.0032224271789183
         ],
         "yaxis": "y"
        }
       ],
       "layout": {
        "height": 500,
        "legend": {
         "title": {
          "text": "Host, Phases"
         },
         "tracegroupgap": 0
        },
        "margin": {
         "t": 60
        },
        "plot_bgcolor": "white",
        "template": {
         "data": {
          "bar": [
           {
            "error_x": {
             "color": "rgb(36,36,36)"
            },
            "error_y": {
             "color": "rgb(36,36,36)"
            },
            "marker": {
             "line": {
              "color": "white",
              "width": 0.5
             }
            },
            "type": "bar"
           }
          ],
          "barpolar": [
           {
            "marker": {
             "line": {
              "color": "white",
              "width": 0.5
             }
            },
            "type": "barpolar"
           }
          ],
          "carpet": [
           {
            "aaxis": {
             "endlinecolor": "rgb(36,36,36)",
             "gridcolor": "white",
             "linecolor": "white",
             "minorgridcolor": "white",
             "startlinecolor": "rgb(36,36,36)"
            },
            "baxis": {
             "endlinecolor": "rgb(36,36,36)",
             "gridcolor": "white",
             "linecolor": "white",
             "minorgridcolor": "white",
             "startlinecolor": "rgb(36,36,36)"
            },
            "type": "carpet"
           }
          ],
          "choropleth": [
           {
            "colorbar": {
             "outlinewidth": 1,
             "tickcolor": "rgb(36,36,36)",
             "ticks": "outside"
            },
            "type": "choropleth"
           }
          ],
          "contour": [
           {
            "colorbar": {
             "outlinewidth": 1,
             "tickcolor": "rgb(36,36,36)",
             "ticks": "outside"
            },
            "colorscale": [
             [
              0,
              "#440154"
             ],
             [
              0.1111111111111111,
              "#482878"
             ],
             [
              0.2222222222222222,
              "#3e4989"
             ],
             [
              0.3333333333333333,
              "#31688e"
             ],
             [
              0.4444444444444444,
              "#26828e"
             ],
             [
              0.5555555555555556,
              "#1f9e89"
             ],
             [
              0.6666666666666666,
              "#35b779"
             ],
             [
              0.7777777777777778,
              "#6ece58"
             ],
             [
              0.8888888888888888,
              "#b5de2b"
             ],
             [
              1,
              "#fde725"
             ]
            ],
            "type": "contour"
           }
          ],
          "contourcarpet": [
           {
            "colorbar": {
             "outlinewidth": 1,
             "tickcolor": "rgb(36,36,36)",
             "ticks": "outside"
            },
            "type": "contourcarpet"
           }
          ],
          "heatmap": [
           {
            "colorbar": {
             "outlinewidth": 1,
             "tickcolor": "rgb(36,36,36)",
             "ticks": "outside"
            },
            "colorscale": [
             [
              0,
              "#440154"
             ],
             [
              0.1111111111111111,
              "#482878"
             ],
             [
              0.2222222222222222,
              "#3e4989"
             ],
             [
              0.3333333333333333,
              "#31688e"
             ],
             [
              0.4444444444444444,
              "#26828e"
             ],
             [
              0.5555555555555556,
              "#1f9e89"
             ],
             [
              0.6666666666666666,
              "#35b779"
             ],
             [
              0.7777777777777778,
              "#6ece58"
             ],
             [
              0.8888888888888888,
              "#b5de2b"
             ],
             [
              1,
              "#fde725"
             ]
            ],
            "type": "heatmap"
           }
          ],
          "heatmapgl": [
           {
            "colorbar": {
             "outlinewidth": 1,
             "tickcolor": "rgb(36,36,36)",
             "ticks": "outside"
            },
            "colorscale": [
             [
              0,
              "#440154"
             ],
             [
              0.1111111111111111,
              "#482878"
             ],
             [
              0.2222222222222222,
              "#3e4989"
             ],
             [
              0.3333333333333333,
              "#31688e"
             ],
             [
              0.4444444444444444,
              "#26828e"
             ],
             [
              0.5555555555555556,
              "#1f9e89"
             ],
             [
              0.6666666666666666,
              "#35b779"
             ],
             [
              0.7777777777777778,
              "#6ece58"
             ],
             [
              0.8888888888888888,
              "#b5de2b"
             ],
             [
              1,
              "#fde725"
             ]
            ],
            "type": "heatmapgl"
           }
          ],
          "histogram": [
           {
            "marker": {
             "line": {
              "color": "white",
              "width": 0.6
             }
            },
            "type": "histogram"
           }
          ],
          "histogram2d": [
           {
            "colorbar": {
             "outlinewidth": 1,
             "tickcolor": "rgb(36,36,36)",
             "ticks": "outside"
            },
            "colorscale": [
             [
              0,
              "#440154"
             ],
             [
              0.1111111111111111,
              "#482878"
             ],
             [
              0.2222222222222222,
              "#3e4989"
             ],
             [
              0.3333333333333333,
              "#31688e"
             ],
             [
              0.4444444444444444,
              "#26828e"
             ],
             [
              0.5555555555555556,
              "#1f9e89"
             ],
             [
              0.6666666666666666,
              "#35b779"
             ],
             [
              0.7777777777777778,
              "#6ece58"
             ],
             [
              0.8888888888888888,
              "#b5de2b"
             ],
             [
              1,
              "#fde725"
             ]
            ],
            "type": "histogram2d"
           }
          ],
          "histogram2dcontour": [
           {
            "colorbar": {
             "outlinewidth": 1,
             "tickcolor": "rgb(36,36,36)",
             "ticks": "outside"
            },
            "colorscale": [
             [
              0,
              "#440154"
             ],
             [
              0.1111111111111111,
              "#482878"
             ],
             [
              0.2222222222222222,
              "#3e4989"
             ],
             [
              0.3333333333333333,
              "#31688e"
             ],
             [
              0.4444444444444444,
              "#26828e"
             ],
             [
              0.5555555555555556,
              "#1f9e89"
             ],
             [
              0.6666666666666666,
              "#35b779"
             ],
             [
              0.7777777777777778,
              "#6ece58"
             ],
             [
              0.8888888888888888,
              "#b5de2b"
             ],
             [
              1,
              "#fde725"
             ]
            ],
            "type": "histogram2dcontour"
           }
          ],
          "mesh3d": [
           {
            "colorbar": {
             "outlinewidth": 1,
             "tickcolor": "rgb(36,36,36)",
             "ticks": "outside"
            },
            "type": "mesh3d"
           }
          ],
          "parcoords": [
           {
            "line": {
             "colorbar": {
              "outlinewidth": 1,
              "tickcolor": "rgb(36,36,36)",
              "ticks": "outside"
             }
            },
            "type": "parcoords"
           }
          ],
          "pie": [
           {
            "automargin": true,
            "type": "pie"
           }
          ],
          "scatter": [
           {
            "marker": {
             "colorbar": {
              "outlinewidth": 1,
              "tickcolor": "rgb(36,36,36)",
              "ticks": "outside"
             }
            },
            "type": "scatter"
           }
          ],
          "scatter3d": [
           {
            "line": {
             "colorbar": {
              "outlinewidth": 1,
              "tickcolor": "rgb(36,36,36)",
              "ticks": "outside"
             }
            },
            "marker": {
             "colorbar": {
              "outlinewidth": 1,
              "tickcolor": "rgb(36,36,36)",
              "ticks": "outside"
             }
            },
            "type": "scatter3d"
           }
          ],
          "scattercarpet": [
           {
            "marker": {
             "colorbar": {
              "outlinewidth": 1,
              "tickcolor": "rgb(36,36,36)",
              "ticks": "outside"
             }
            },
            "type": "scattercarpet"
           }
          ],
          "scattergeo": [
           {
            "marker": {
             "colorbar": {
              "outlinewidth": 1,
              "tickcolor": "rgb(36,36,36)",
              "ticks": "outside"
             }
            },
            "type": "scattergeo"
           }
          ],
          "scattergl": [
           {
            "marker": {
             "colorbar": {
              "outlinewidth": 1,
              "tickcolor": "rgb(36,36,36)",
              "ticks": "outside"
             }
            },
            "type": "scattergl"
           }
          ],
          "scattermapbox": [
           {
            "marker": {
             "colorbar": {
              "outlinewidth": 1,
              "tickcolor": "rgb(36,36,36)",
              "ticks": "outside"
             }
            },
            "type": "scattermapbox"
           }
          ],
          "scatterpolar": [
           {
            "marker": {
             "colorbar": {
              "outlinewidth": 1,
              "tickcolor": "rgb(36,36,36)",
              "ticks": "outside"
             }
            },
            "type": "scatterpolar"
           }
          ],
          "scatterpolargl": [
           {
            "marker": {
             "colorbar": {
              "outlinewidth": 1,
              "tickcolor": "rgb(36,36,36)",
              "ticks": "outside"
             }
            },
            "type": "scatterpolargl"
           }
          ],
          "scatterternary": [
           {
            "marker": {
             "colorbar": {
              "outlinewidth": 1,
              "tickcolor": "rgb(36,36,36)",
              "ticks": "outside"
             }
            },
            "type": "scatterternary"
           }
          ],
          "surface": [
           {
            "colorbar": {
             "outlinewidth": 1,
             "tickcolor": "rgb(36,36,36)",
             "ticks": "outside"
            },
            "colorscale": [
             [
              0,
              "#440154"
             ],
             [
              0.1111111111111111,
              "#482878"
             ],
             [
              0.2222222222222222,
              "#3e4989"
             ],
             [
              0.3333333333333333,
              "#31688e"
             ],
             [
              0.4444444444444444,
              "#26828e"
             ],
             [
              0.5555555555555556,
              "#1f9e89"
             ],
             [
              0.6666666666666666,
              "#35b779"
             ],
             [
              0.7777777777777778,
              "#6ece58"
             ],
             [
              0.8888888888888888,
              "#b5de2b"
             ],
             [
              1,
              "#fde725"
             ]
            ],
            "type": "surface"
           }
          ],
          "table": [
           {
            "cells": {
             "fill": {
              "color": "rgb(237,237,237)"
             },
             "line": {
              "color": "white"
             }
            },
            "header": {
             "fill": {
              "color": "rgb(217,217,217)"
             },
             "line": {
              "color": "white"
             }
            },
            "type": "table"
           }
          ]
         },
         "layout": {
          "annotationdefaults": {
           "arrowhead": 0,
           "arrowwidth": 1
          },
          "autotypenumbers": "strict",
          "coloraxis": {
           "colorbar": {
            "outlinewidth": 1,
            "tickcolor": "rgb(36,36,36)",
            "ticks": "outside"
           }
          },
          "colorscale": {
           "diverging": [
            [
             0,
             "rgb(103,0,31)"
            ],
            [
             0.1,
             "rgb(178,24,43)"
            ],
            [
             0.2,
             "rgb(214,96,77)"
            ],
            [
             0.3,
             "rgb(244,165,130)"
            ],
            [
             0.4,
             "rgb(253,219,199)"
            ],
            [
             0.5,
             "rgb(247,247,247)"
            ],
            [
             0.6,
             "rgb(209,229,240)"
            ],
            [
             0.7,
             "rgb(146,197,222)"
            ],
            [
             0.8,
             "rgb(67,147,195)"
            ],
            [
             0.9,
             "rgb(33,102,172)"
            ],
            [
             1,
             "rgb(5,48,97)"
            ]
           ],
           "sequential": [
            [
             0,
             "#440154"
            ],
            [
             0.1111111111111111,
             "#482878"
            ],
            [
             0.2222222222222222,
             "#3e4989"
            ],
            [
             0.3333333333333333,
             "#31688e"
            ],
            [
             0.4444444444444444,
             "#26828e"
            ],
            [
             0.5555555555555556,
             "#1f9e89"
            ],
            [
             0.6666666666666666,
             "#35b779"
            ],
            [
             0.7777777777777778,
             "#6ece58"
            ],
            [
             0.8888888888888888,
             "#b5de2b"
            ],
            [
             1,
             "#fde725"
            ]
           ],
           "sequentialminus": [
            [
             0,
             "#440154"
            ],
            [
             0.1111111111111111,
             "#482878"
            ],
            [
             0.2222222222222222,
             "#3e4989"
            ],
            [
             0.3333333333333333,
             "#31688e"
            ],
            [
             0.4444444444444444,
             "#26828e"
            ],
            [
             0.5555555555555556,
             "#1f9e89"
            ],
            [
             0.6666666666666666,
             "#35b779"
            ],
            [
             0.7777777777777778,
             "#6ece58"
            ],
            [
             0.8888888888888888,
             "#b5de2b"
            ],
            [
             1,
             "#fde725"
            ]
           ]
          },
          "colorway": [
           "#1F77B4",
           "#FF7F0E",
           "#2CA02C",
           "#D62728",
           "#9467BD",
           "#8C564B",
           "#E377C2",
           "#7F7F7F",
           "#BCBD22",
           "#17BECF"
          ],
          "font": {
           "color": "rgb(36,36,36)"
          },
          "geo": {
           "bgcolor": "white",
           "lakecolor": "white",
           "landcolor": "white",
           "showlakes": true,
           "showland": true,
           "subunitcolor": "white"
          },
          "hoverlabel": {
           "align": "left"
          },
          "hovermode": "closest",
          "mapbox": {
           "style": "light"
          },
          "paper_bgcolor": "white",
          "plot_bgcolor": "white",
          "polar": {
           "angularaxis": {
            "gridcolor": "rgb(232,232,232)",
            "linecolor": "rgb(36,36,36)",
            "showgrid": false,
            "showline": true,
            "ticks": "outside"
           },
           "bgcolor": "white",
           "radialaxis": {
            "gridcolor": "rgb(232,232,232)",
            "linecolor": "rgb(36,36,36)",
            "showgrid": false,
            "showline": true,
            "ticks": "outside"
           }
          },
          "scene": {
           "xaxis": {
            "backgroundcolor": "white",
            "gridcolor": "rgb(232,232,232)",
            "gridwidth": 2,
            "linecolor": "rgb(36,36,36)",
            "showbackground": true,
            "showgrid": false,
            "showline": true,
            "ticks": "outside",
            "zeroline": false,
            "zerolinecolor": "rgb(36,36,36)"
           },
           "yaxis": {
            "backgroundcolor": "white",
            "gridcolor": "rgb(232,232,232)",
            "gridwidth": 2,
            "linecolor": "rgb(36,36,36)",
            "showbackground": true,
            "showgrid": false,
            "showline": true,
            "ticks": "outside",
            "zeroline": false,
            "zerolinecolor": "rgb(36,36,36)"
           },
           "zaxis": {
            "backgroundcolor": "white",
            "gridcolor": "rgb(232,232,232)",
            "gridwidth": 2,
            "linecolor": "rgb(36,36,36)",
            "showbackground": true,
            "showgrid": false,
            "showline": true,
            "ticks": "outside",
            "zeroline": false,
            "zerolinecolor": "rgb(36,36,36)"
           }
          },
          "shapedefaults": {
           "fillcolor": "black",
           "line": {
            "width": 0
           },
           "opacity": 0.3
          },
          "ternary": {
           "aaxis": {
            "gridcolor": "rgb(232,232,232)",
            "linecolor": "rgb(36,36,36)",
            "showgrid": false,
            "showline": true,
            "ticks": "outside"
           },
           "baxis": {
            "gridcolor": "rgb(232,232,232)",
            "linecolor": "rgb(36,36,36)",
            "showgrid": false,
            "showline": true,
            "ticks": "outside"
           },
           "bgcolor": "white",
           "caxis": {
            "gridcolor": "rgb(232,232,232)",
            "linecolor": "rgb(36,36,36)",
            "showgrid": false,
            "showline": true,
            "ticks": "outside"
           }
          },
          "title": {
           "x": 0.05
          },
          "xaxis": {
           "automargin": true,
           "gridcolor": "rgb(232,232,232)",
           "linecolor": "rgb(36,36,36)",
           "showgrid": false,
           "showline": true,
           "ticks": "outside",
           "title": {
            "standoff": 15
           },
           "zeroline": false,
           "zerolinecolor": "rgb(36,36,36)"
          },
          "yaxis": {
           "automargin": true,
           "gridcolor": "rgb(232,232,232)",
           "linecolor": "rgb(36,36,36)",
           "showgrid": false,
           "showline": true,
           "ticks": "outside",
           "title": {
            "standoff": 15
           },
           "zeroline": false,
           "zerolinecolor": "rgb(36,36,36)"
          }
         }
        },
        "width": 650,
        "xaxis": {
         "anchor": "y",
         "domain": [
          0,
          1
         ],
         "linecolor": "black",
         "mirror": "allticks",
         "showgrid": false,
         "ticks": "inside",
         "title": {
          "text": "Tm H2O"
         },
         "zeroline": true
        },
        "yaxis": {
         "anchor": "x",
         "domain": [
          0,
          1
         ],
         "linecolor": "black",
         "mirror": "allticks",
         "showgrid": false,
         "ticks": "inside",
         "title": {
          "text": "Tm CL"
         },
         "zeroline": true
        }
       }
      },
      "text/html": [
       "<div>                            <div id=\"41221366-977e-4607-952f-cc2f3f739b6d\" class=\"plotly-graph-div\" style=\"height:500px; width:650px;\"></div>            <script type=\"text/javascript\">                require([\"plotly\"], function(Plotly) {                    window.PLOTLYENV=window.PLOTLYENV || {};                                    if (document.getElementById(\"41221366-977e-4607-952f-cc2f3f739b6d\")) {                    Plotly.newPlot(                        \"41221366-977e-4607-952f-cc2f3f739b6d\",                        [{\"customdata\": [[\"BU18FA22\", \"A\", \"FF1\", \"1\", \"L - V\", \"Quartz\"], [\"BU18FA22\", \"A\", \"FF1\", \"2\", \"L - V\", \"Quartz\"], [\"BU18FA22\", \"A\", \"FF2\", \"1\", \"L - V\", \"Quartz\"], [\"BU18FA22\", \"A\", \"FF2\", \"2\", \"L - V\", \"Quartz\"], [\"BU18FA22\", \"A\", \"FF2\", \"3\", \"L - V\", \"Quartz\"], [\"BU18FA22\", \"A\", \"FF2\", \"4\", \"L - V\", \"Quartz\"], [\"BU18FA22\", \"A\", \"FF2\", \"5\", \"L - V\", \"Quartz\"], [\"BU18FA22\", \"A\", \"FF3b\", \"1\", \"L - V\", \"Quartz\"], [\"BU18FA22\", \"A\", \"FF3b\", \"2\", \"L - V\", \"Quartz\"], [\"BU18FA22\", \"A\", \"FF3b\", \"3\", \"L - V\", \"Quartz\"], [\"BU18FA22\", \"A\", \"FF3b\", \"4\", \"L - V\", \"Quartz\"], [\"BU18FA22\", \"A\", \"FF3b\", \"5\", \"L - V\", \"Quartz\"], [\"BU18FA22\", \"A\", \"FF3a\", \"1\", \"L - V\", \"Quartz\"], [\"BU18FA22\", \"A\", \"FF3a\", \"2\", \"L - V\", \"Quartz\"], [\"BU18FA22\", \"A\", \"FF3a\", \"3\", \"L - V\", \"Quartz\"], [\"BU18FA22\", \"A\", \"FF3a\", \"4\", \"L - V\", \"Quartz\"], [\"BU18FA22\", \"A\", \"FF3a\", \"5\", \"L - V\", \"Quartz\"], [\"BU18FA22\", \"B\", \"FF1\", \"1\", \"L - V\", \"Quartz\"], [\"BU18FA22\", \"B\", \"FF1\", \"2\", \"L - V\", \"Quartz\"], [\"BU18FA22\", \"B\", \"FF1\", \"3\", \"L - V\", \"Quartz\"], [\"BU18FA22\", \"B\", \"FF1\", \"4\", \"L - V\", \"Quartz\"], [\"BU18FA22\", \"B\", \"FF1\", \"5\", \"L - V\", \"Quartz\"], [\"BU18FA19\", \"D\", \"FFore2\", \"1\", \"L - V\", \"Quartz\"], [\"BU18FA19\", \"D\", \"FFore2\", \"2\", \"L - V\", \"Quartz\"], [\"BU18FA19\", \"D\", \"FFore2\", \"3\", \"L - V\", \"Quartz\"], [\"BU18FA19\", \"D\", \"FFore2\", \"4\", \"L - V\", \"Quartz\"], [\"BU18FA19\", \"D\", \"FFore2\", \"5\", \"L - V\", \"Quartz\"], [\"BU18FA19\", \"D\", \"FFore2\", \"7\", \"L - V\", \"Quartz\"], [\"BU18FA19\", \"D\", \"FFore2\", \"8\", \"L - V\", \"Quartz\"], [\"BU18FA19\", \"D\", \"FFore2\", \"9\", \"L - V\", \"Quartz\"], [\"BU18FA19\", \"D\", \"FFore2\", \"11\", \"L - V\", \"Quartz\"], [\"BU18FA19\", \"D\", \"FFore2\", \"12\", \"L - V\", \"Quartz\"], [\"BU18FA19\", \"D\", \"FFore2\", \"13\", \"L - V\", \"Quartz\"], [\"BU18FA19\", \"E\", \"FF11b\", \"1\", \"L - V\", \"Quartz\"], [\"BU18FA19\", \"E\", \"FF11b\", \"2\", \"L - V\", \"Quartz\"], [\"BU18FA19\", \"E\", \"FF11b\", \"3\", \"L - V\", \"Quartz\"], [\"BU18FA19\", \"E\", \"FF11b\", \"4\", \"L - V\", \"Quartz\"], [\"BU18FA19\", \"E\", \"FF11b\", \"5\", \"L - V\", \"Quartz\"], [\"BU18FA19\", \"E\", \"FF11b\", \"6\", \"L - V\", \"Quartz\"], [\"BU18FA19\", \"E\", \"FF11b\", \"7\", \"L - V\", \"Quartz\"], [\"BU18FA19\", \"E\", \"FF11b\", \"8\", \"L - V\", \"Quartz\"], [\"BU18FA19\", \"E\", \"FF11b\", \"9\", \"L - V\", \"Quartz\"], [\"BU18FA19\", \"E\", \"FF11b\", \"10\", \"L - V\", \"Quartz\"]], \"hovertemplate\": \"Host=%{customdata[5]}<br>Phases=%{customdata[4]}<br>Tm H2O=%{x}<br>Tm CL=%{y}<br>sample=%{customdata[0]}<br>piece=%{customdata[1]}<br>field=%{customdata[2]}<br>analysis=%{customdata[3]}<extra></extra>\", \"legendgroup\": \"Quartz, L - V\", \"marker\": {\"color\": \"#636efa\", \"size\": 8, \"symbol\": \"circle\"}, \"mode\": \"markers\", \"name\": \"Quartz, L - V\", \"orientation\": \"v\", \"showlegend\": true, \"type\": \"scatter\", \"x\": [null, null, -18.954633432404492, -16.00771329167391, -16.698468762886645, -11.075028864248978, -14.527522996218048, -15.514316526521956, -13.047332700762187, -15.711675232582737, -14.527522996218048, -17.882620999251333, -15.711675232582737, -16.1063926447043, -14.132805584096484, -18.376017764403286, -15.81035458561313, -16.00771329167391, -20.053566765919932, -19.066773235616026, null, -19.95488741288954, -13.74433452076339, -16.71618905373365, -13.34808724970069, -14.734952698420143, -15.923694511608245, -14.734952698420143, -22.065527213080113, -21.768341759783087, -7.966298463072786, -14.44236522947054, -17.929478103684712, -16.833889945164447, -15.143211988774846, -16.933341589657953, -11.065694564541104, -14.844857055294328, -15.043760344281338, -11.562952787008633, null, -11.165146209034612, -11.364049498021622], \"xaxis\": \"x\", \"y\": [null, null, 0.6945070729959641, null, 0.3730593113709553, 0.49502341304266007, 1.5572115477356443, null, -1.6992071022672504, 1.5572115477356443, 0.17570060531017379, 0.3730593113709553, -1.3044896901456875, -0.8110929249937338, -0.5150548659025616, null, -2.4886419265103763, -3.3767561037838933, -1.4031690431760782, -2.1926038674192045, -3.1793973977231116, -1.008451631054515, 1.4121235973849202, 2.2046181395103224, 2.4027417750416724, null, null, 2.2046181395103224, 2.6999272283386984, 3.0961744994013993, null, 1.0005632134779463, 0.20350884222899226, null, -1.0210784706970106, -0.3249169592424693, -1.5183366931645401, -0.4243686037359752, -3.905176161008681, 2.260825797588684, -0.9216268262035047, -4.8996926059437405, -1.1205301151905165], \"yaxis\": \"y\"}, {\"customdata\": [[\"BU18FA19\", \"D\", \"FFore2\", \"6\", \"V - L\", \"Quartz\"]], \"hovertemplate\": \"Host=%{customdata[5]}<br>Phases=%{customdata[4]}<br>Tm H2O=%{x}<br>Tm CL=%{y}<br>sample=%{customdata[0]}<br>piece=%{customdata[1]}<br>field=%{customdata[2]}<br>analysis=%{customdata[3]}<extra></extra>\", \"legendgroup\": \"Quartz, V - L\", \"marker\": {\"color\": \"#636efa\", \"size\": 8, \"symbol\": \"square\"}, \"mode\": \"markers\", \"name\": \"Quartz, V - L\", \"orientation\": \"v\", \"showlegend\": true, \"type\": \"scatter\", \"x\": [null], \"xaxis\": \"x\", \"y\": [null], \"yaxis\": \"y\"}, {\"customdata\": [[\"BU18FA22\", \"B\", \"FF1\", \"1\", \"L - V\", \"Trolleite\"], [\"BU18FA22\", \"B\", \"FF1\", \"2\", \"L - V\", \"Trolleite\"], [\"BU18FA22\", \"B\", \"FF1\", \"3\", \"L - V\", \"Trolleite\"], [\"BU18FA22\", \"B\", \"FF1\", \"4\", \"L - V\", \"Trolleite\"], [\"BU18FA22\", \"B\", \"FF1\", \"5\", \"L - V\", \"Trolleite\"], [\"BU18FA20\", \"E\", \"FF1\", \"3\", \"L - V\", \"Trolleite\"], [\"BU18FA20\", \"E\", \"FF1\", \"4\", \"L - V\", \"Trolleite\"], [\"BU18FA20\", \"A\", \"FF2\", \"1\", \"L - V\", \"Trolleite\"], [\"BU18FA20\", \"A\", \"FF2\", \"2\", \"L - V\", \"Trolleite\"], [\"BU18FA20\", \"A\", \"FF2\", \"3\", \"L - V\", \"Trolleite\"], [\"BU18FA20\", \"F\", \"FF2\", \"1\", \"L - V\", \"Trolleite\"], [\"BU18FA20\", \"E\", \"FF1\", \"7\", \"L - V\", \"Trolleite\"], [\"BU18FA20\", \"H\", \"FF1\", \"1\", \"L - V\", \"Trolleite\"], [\"BU18FA20\", \"H\", \"FF1\", \"2\", \"L - V\", \"Trolleite\"], [\"BU18FA20\", \"H\", \"FF1\", \"3\", \"L - V\", \"Trolleite\"], [\"BU18FA20\", \"H\", \"FF1\", \"4\", \"L - V\", \"Trolleite\"], [\"BU18FA20\", \"H\", \"FF1\", \"5\", \"L - V\", \"Trolleite\"], [\"BU18FA19\", \"A\", \"FF7b\", \"10\", \"L - V\", \"Trolleite\"], [\"BU18FA19\", \"C\", \"FFore1\", \"2\", \"L - V\", \"Trolleite\"], [\"BU18FA19\", \"C\", \"FFore1\", \"4\", \"L - V\", \"Trolleite\"], [\"BU18FA19\", \"C\", \"FFore1\", \"7\", \"L - V\", \"Trolleite\"], [\"BU18FA19\", \"D\", \"FF2\", \"2\", \"L - V\", \"Trolleite\"], [\"BU18FA19\", \"D\", \"FF2\", \"5\", \"L - V\", \"Trolleite\"], [\"BU18FA19\", \"D\", \"FF2\", \"6\", \"L - V\", \"Trolleite\"], [\"BU18FA19\", \"D\", \"FF2\", \"7\", \"L - V\", \"Trolleite\"], [\"BU18FA19\", \"D\", \"FF2\", \"8\", \"L - V\", \"Trolleite\"], [\"BU18FA19\", \"D\", \"FF2\", \"9\", \"L - V\", \"Trolleite\"], [\"BU18FA19\", \"D\", \"FF2\", \"10\", \"L - V\", \"Trolleite\"]], \"hovertemplate\": \"Host=%{customdata[5]}<br>Phases=%{customdata[4]}<br>Tm H2O=%{x}<br>Tm CL=%{y}<br>sample=%{customdata[0]}<br>piece=%{customdata[1]}<br>field=%{customdata[2]}<br>analysis=%{customdata[3]}<extra></extra>\", \"legendgroup\": \"Trolleite, L - V\", \"marker\": {\"color\": \"#EF553B\", \"size\": 8, \"symbol\": \"circle\"}, \"mode\": \"markers\", \"name\": \"Trolleite, L - V\", \"orientation\": \"v\", \"showlegend\": true, \"type\": \"scatter\", \"x\": [-16.062120363081583, -10.777707581063199, -16.797148115917036, null, -22.224512532588527, -14.412006146524355, -14.312330926018907, -17.87914792677834, -12.020605172927874, -14.403741208392471, -9.692796017450364, -13.322378190784285, -14.71110476055968, -14.909494270527594, -13.818351965704068, -13.223183435800328, -13.123988680816371, -12.687893526258717, -15.811565325189736, null, -14.612335338997573, -13.312593142127993, -14.906522842263012, -15.9027289048474, -18.59248527382525, -16.301211329881156, -16.600073148656474, -16.20159072362272], \"xaxis\": \"x\", \"y\": [-4.8910354056965515, -2.686000632571158, -1.9952451613584226, null, -1.5018483962064688, -3.3480566704197448, 2.233755677885284, 1.0866430221274177, 4.065563066458165, 4.3634550708912405, 0.5667306987707291, -1.7165918576613315, 1.854419321761116, 2.2511983416969437, 2.449587851664857, 2.9455616265846416, 2.3503930966809, 1.382217512958917, 1.8770769711446436, 1.277461978048563, 1.9770128033273238, 1.730118402896265, 2.6267038592222143, 2.2282214341884594, 0.03656809650280575, 1.9293596154131427, 2.1286008279300206, 2.2282214341884594], \"yaxis\": \"y\"}, {\"customdata\": [[\"BU18FA20\", \"E\", \"FF1\", \"1\", \"L - L - V\", \"Trolleite\"], [\"BU18FA20\", \"E\", \"FF1\", \"2\", \"L - L - V\", \"Trolleite\"], [\"BU18FA20\", \"E\", \"FF1\", \"6\", \"L - L - V\", \"Trolleite\"], [\"BU18FA19\", \"B\", \"FF1\", \"5\", \"L - L - V\", \"Trolleite\"], [\"BU18FA19\", \"B\", \"FF1\", \"10\", \"L - L - V\", \"Trolleite\"]], \"hovertemplate\": \"Host=%{customdata[5]}<br>Phases=%{customdata[4]}<br>Tm H2O=%{x}<br>Tm CL=%{y}<br>sample=%{customdata[0]}<br>piece=%{customdata[1]}<br>field=%{customdata[2]}<br>analysis=%{customdata[3]}<extra></extra>\", \"legendgroup\": \"Trolleite, L - L - V\", \"marker\": {\"color\": \"#EF553B\", \"size\": 8, \"symbol\": \"diamond\"}, \"mode\": \"markers\", \"name\": \"Trolleite, L - L - V\", \"orientation\": \"v\", \"showlegend\": true, \"type\": \"scatter\", \"x\": [-15.109732690062483, -14.611356587535248, -12.429625395928673, null, null], \"xaxis\": \"x\", \"y\": [8.612969790233887, 8.2142689082121, -2.311760387565072, 0.3895889381349188, 1.9770128033273238], \"yaxis\": \"y\"}, {\"customdata\": [[\"BU18FA20\", \"G\", \"FF1\", \"4\", \"V - L\", \"Trolleite\"]], \"hovertemplate\": \"Host=%{customdata[5]}<br>Phases=%{customdata[4]}<br>Tm H2O=%{x}<br>Tm CL=%{y}<br>sample=%{customdata[0]}<br>piece=%{customdata[1]}<br>field=%{customdata[2]}<br>analysis=%{customdata[3]}<extra></extra>\", \"legendgroup\": \"Trolleite, V - L\", \"marker\": {\"color\": \"#EF553B\", \"size\": 8, \"symbol\": \"square\"}, \"mode\": \"markers\", \"name\": \"Trolleite, V - L\", \"orientation\": \"v\", \"showlegend\": true, \"type\": \"scatter\", \"x\": [-13.322378190784285], \"xaxis\": \"x\", \"y\": [2.5487826066488144], \"yaxis\": \"y\"}, {\"customdata\": [[\"BU18FA20\", \"E\", \"FF1\", \"5\", \"L - V - S\", \"Trolleite\"], [\"BU18FA20\", \"G\", \"FF1\", \"1\", \"L - V - S\", \"Trolleite\"], [\"BU18FA20\", \"G\", \"FF1\", \"2\", \"L - V - S\", \"Trolleite\"], [\"BU18FA20\", \"G\", \"FF1\", \"3\", \"L - V - S\", \"Trolleite\"], [\"BU18FA20\", \"H\", \"FF1\", \"7\", \"L - V - S\", \"Trolleite\"], [\"BU18FA20\", \"J\", \"FF1\", \"1\", \"L - V - S\", \"Trolleite\"], [\"BU18FA20\", \"J\", \"FF1\", \"2\", \"L - V - S\", \"Trolleite\"], [\"BU18FA20\", \"J\", \"FF1\", \"3\", \"L - V - S\", \"Trolleite\"], [\"BU18FA19\", \"A\", \"FF7b\", \"1\", \"L - V - S\", \"Trolleite\"], [\"BU18FA19\", \"A\", \"FF7b\", \"2\", \"L - V - S\", \"Trolleite\"], [\"BU18FA19\", \"A\", \"FF7b\", \"3\", \"L - V - S\", \"Trolleite\"], [\"BU18FA19\", \"A\", \"FF7b\", \"4\", \"L - V - S\", \"Trolleite\"], [\"BU18FA19\", \"A\", \"FF7b\", \"5\", \"L - V - S\", \"Trolleite\"], [\"BU18FA19\", \"A\", \"FF7b\", \"6\", \"L - V - S\", \"Trolleite\"], [\"BU18FA19\", \"A\", \"FF7b\", \"7\", \"L - V - S\", \"Trolleite\"], [\"BU18FA19\", \"A\", \"FF7b\", \"8\", \"L - V - S\", \"Trolleite\"], [\"BU18FA19\", \"A\", \"FF7b\", \"9\", \"L - V - S\", \"Trolleite\"], [\"BU18FA19\", \"B\", \"FF1\", \"1\", \"L - V - S\", \"Trolleite\"], [\"BU18FA19\", \"B\", \"FF1\", \"2\", \"L - V - S\", \"Trolleite\"], [\"BU18FA19\", \"B\", \"FF1\", \"3\", \"L - V - S\", \"Trolleite\"], [\"BU18FA19\", \"B\", \"FF1\", \"4\", \"L - V - S\", \"Trolleite\"], [\"BU18FA19\", \"B\", \"FF1\", \"6\", \"L - V - S\", \"Trolleite\"], [\"BU18FA19\", \"B\", \"FF1\", \"7\", \"L - V - S\", \"Trolleite\"], [\"BU18FA19\", \"B\", \"FF1\", \"8\", \"L - V - S\", \"Trolleite\"], [\"BU18FA19\", \"B\", \"FF1\", \"9\", \"L - V - S\", \"Trolleite\"], [\"BU18FA19\", \"C\", \"FFore1\", \"1\", \"L - V - S\", \"Trolleite\"], [\"BU18FA19\", \"C\", \"FFore1\", \"3\", \"L - V - S\", \"Trolleite\"], [\"BU18FA19\", \"C\", \"FFore1\", \"5\", \"L - V - S\", \"Trolleite\"], [\"BU18FA19\", \"C\", \"FFore1\", \"6\", \"L - V - S\", \"Trolleite\"], [\"BU18FA19\", \"D\", \"FF2\", \"1\", \"L - V - S\", \"Trolleite\"], [\"BU18FA19\", \"D\", \"FF2\", \"3\", \"L - V - S\", \"Trolleite\"], [\"BU18FA19\", \"D\", \"FF2\", \"4\", \"L - V - S\", \"Trolleite\"]], \"hovertemplate\": \"Host=%{customdata[5]}<br>Phases=%{customdata[4]}<br>Tm H2O=%{x}<br>Tm CL=%{y}<br>sample=%{customdata[0]}<br>piece=%{customdata[1]}<br>field=%{customdata[2]}<br>analysis=%{customdata[3]}<extra></extra>\", \"legendgroup\": \"Trolleite, L - V - S\", \"marker\": {\"color\": \"#EF553B\", \"size\": 8, \"symbol\": \"x\"}, \"mode\": \"markers\", \"name\": \"Trolleite, L - V - S\", \"orientation\": \"v\", \"showlegend\": true, \"type\": \"scatter\", \"x\": [-16.00063657535112, null, -15.10788378049551, null, -13.619962455736156, -14.286993612032022, -15.073156095137984, -12.812938956208342, -8.161843821335562, -8.752198130673365, -8.457020976004463, -7.571489511997759, -10.916830598245308, -11.015222983134944, -12.687893526258717, -16.721981306733703, -7.965059051556294, -6.919900964039604, -14.192023783248528, null, -16.4891271571651, -9.115864568950167, -17.610410304477977, -16.710987814833857, -14.012720345901494, null, -15.511757828641695, -15.811565325189736, -17.810281968843338, -17.695899817499303, -15.803108298588961, -14.707281629746136], \"xaxis\": \"x\", \"y\": [2.6479773616327713, null, -2.7085394075008997, null, 1.6560298117932022, 2.320688843581427, 2.418959153969672, 2.713770085134408, 6.498621527219875, 1.382217512958917, 4.03881190497903, 2.858103286303424, 1.5790022827381847, 1.5790022827381847, 4.727558599206467, 2.562926131634523, 1.2838251280692832, -0.9403281053423644, 1.6879517146964587, null, 1.8876998341674647, 1.0775903136832028, 2.4766919642407244, 2.7764994607887643, 2.5766277964234043, null, 2.176884467692684, 2.376756132058044, 2.4766919642407244, 1.6304977966378265, 2.2282214341884594, 2.5270832529637755], \"yaxis\": \"y\"}, {\"customdata\": [[\"BU18FA20\", \"H\", \"FF1\", \"6\", \"L\", \"Trolleite\"]], \"hovertemplate\": \"Host=%{customdata[5]}<br>Phases=%{customdata[4]}<br>Tm H2O=%{x}<br>Tm CL=%{y}<br>sample=%{customdata[0]}<br>piece=%{customdata[1]}<br>field=%{customdata[2]}<br>analysis=%{customdata[3]}<extra></extra>\", \"legendgroup\": \"Trolleite, L\", \"marker\": {\"color\": \"#EF553B\", \"size\": 8, \"symbol\": \"cross\"}, \"mode\": \"markers\", \"name\": \"Trolleite, L\", \"orientation\": \"v\", \"showlegend\": true, \"type\": \"scatter\", \"x\": [null], \"xaxis\": \"x\", \"y\": [null], \"yaxis\": \"y\"}, {\"customdata\": [[\"BU18FA19\", \"B\", \"FF1\", \"MI\", \"S - L - V\", \"Trolleite\"]], \"hovertemplate\": \"Host=%{customdata[5]}<br>Phases=%{customdata[4]}<br>Tm H2O=%{x}<br>Tm CL=%{y}<br>sample=%{customdata[0]}<br>piece=%{customdata[1]}<br>field=%{customdata[2]}<br>analysis=%{customdata[3]}<extra></extra>\", \"legendgroup\": \"Trolleite, S - L - V\", \"marker\": {\"color\": \"#EF553B\", \"size\": 8, \"symbol\": \"circle\"}, \"mode\": \"markers\", \"name\": \"Trolleite, S - L - V\", \"orientation\": \"v\", \"showlegend\": true, \"type\": \"scatter\", \"x\": [null], \"xaxis\": \"x\", \"y\": [null], \"yaxis\": \"y\"}, {\"customdata\": [[\"BU18FA22\", \"B\", \"FF2\", \"1\", \"L - V\", \"Scorzalite\"], [\"BU18FA22\", \"B\", \"FF2\", \"2\", \"L - V\", \"Scorzalite\"], [\"BU18FA22\", \"B\", \"FF2\", \"3\", \"L - V\", \"Scorzalite\"], [\"BU18FA22\", \"B\", \"FF2\", \"4\", \"L - V\", \"Scorzalite\"], [\"BU18FA22\", \"B\", \"FF2\", \"5\", \"L - V\", \"Scorzalite\"], [\"BU18FA22\", \"B\", \"FF2\", \"6\", \"L - V\", \"Scorzalite\"], [\"BU18FA20\", \"A\", \"FF1\", \"1\", \"L - V\", \"Scorzalite\"], [\"BU18FA20\", \"A\", \"FF4\", \"1\", \"L - V\", \"Scorzalite\"], [\"BU18FA20\", \"I\", \"FF1\", \"1\", \"L - V\", \"Scorzalite\"], [\"BU18FA22\", \"D\", \"FF1\", \"1\", \"L - V\", \"Scorzalite\"], [\"BU18FA22\", \"D\", \"FF1\", \"2\", \"L - V\", \"Scorzalite\"], [\"BU18FA22\", \"D\", \"FF1\", \"3\", \"L - V\", \"Scorzalite\"]], \"hovertemplate\": \"Host=%{customdata[5]}<br>Phases=%{customdata[4]}<br>Tm H2O=%{x}<br>Tm CL=%{y}<br>sample=%{customdata[0]}<br>piece=%{customdata[1]}<br>field=%{customdata[2]}<br>analysis=%{customdata[3]}<extra></extra>\", \"legendgroup\": \"Scorzalite, L - V\", \"marker\": {\"color\": \"#00cc96\", \"size\": 8, \"symbol\": \"circle\"}, \"mode\": \"markers\", \"name\": \"Scorzalite, L - V\", \"orientation\": \"v\", \"showlegend\": true, \"type\": \"scatter\", \"x\": [-18.178659058342504, -20.448284178041494, -21.23771900228462, -20.448284178041494, -15.363927553245016, -14.466251083455148, -13.818351965704068, null, -11.735262111040974, -13.322378190784285, -10.842509316185362, -11.437677846089104], \"xaxis\": \"x\", \"y\": [null, -1.6992071022672504, -0.0216581007506077, -2.9820386916623303, 1.691925372762485, 0.6945070729959641, -3.7996817123244253, null, -3.4029026923885977, 2.2511983416969437, 2.8463668716006847, 1.060861281889461], \"yaxis\": \"y\"}, {\"customdata\": [[\"BU18FA20\", \"C\", \"FF2\", \"1\", \"L - V\", \"Bertossaite\"], [\"BU18FA20\", \"C\", \"FF2\", \"2\", \"L - V\", \"Bertossaite\"], [\"BU18FA20\", \"C\", \"FF2\", \"3\", \"L - V\", \"Bertossaite\"], [\"BU18FA20\", \"C\", \"Bts3-FF1\", \"1\", \"L - V\", \"Bertossaite\"], [\"BU18FA20\", \"C\", \"Bts3-FF1\", \"2\", \"L - V\", \"Bertossaite\"], [\"BU18FA20\", \"C\", \"Bts3-FF1\", \"3\", \"L - V\", \"Bertossaite\"], [\"BU18FA20\", \"C\", \"Bts3-FF1\", \"4\", \"L - V\", \"Bertossaite\"], [\"BU18FA20\", \"F\", \"FF1\", \"1\", \"L - V\", \"Bertossaite\"], [\"BU18FA20\", \"F\", \"FF1\", \"2\", \"L - V\", \"Bertossaite\"], [\"BU18FA20\", \"F\", \"FF1\", \"3\", \"L - V\", \"Bertossaite\"], [\"BU18FA20\", \"C\", \"FF1\", \"5\", \"L - V\", \"Bertossaite\"], [\"BU18FA20\", \"C\", \"FF2\", \"5\", \"L - V\", \"Bertossaite\"], [\"BU18FA19\", \"E\", \"FF11\", \"1\", \"L - V\", \"Bertossaite\"], [\"BU18FA19\", \"E\", \"FF11\", \"2\", \"L - V\", \"Bertossaite\"], [\"BU18FA19\", \"E\", \"FF11\", \"3\", \"L - V\", \"Bertossaite\"], [\"BU18FA19\", \"E\", \"FF11\", \"4\", \"L - V\", \"Bertossaite\"], [\"BU18FA19\", \"E\", \"FF11\", \"5\", \"L - V\", \"Bertossaite\"], [\"BU18FA19\", \"E\", \"FF11\", \"6\", \"L - V\", \"Bertossaite\"], [\"BU18FA19\", \"E\", \"FF11\", \"8\", \"L - V\", \"Bertossaite\"], [\"BU18FA19\", \"E\", \"FF11\", \"9\", \"L - V\", \"Bertossaite\"], [\"BU18FA04\", \"A\", \"FF3\", \"1\", \"L - V\", \"Bertossaite\"], [\"BU18FA04\", \"A\", \"FF3\", \"2\", \"L - V\", \"Bertossaite\"], [\"BU18FA04\", \"A\", \"FF3\", \"3\", \"L - V\", \"Bertossaite\"], [\"BU18FA04\", \"A\", \"FF3\", \"5\", \"L - V\", \"Bertossaite\"], [\"BU18FA04\", \"A\", \"FF3\", \"6\", \"L - V\", \"Bertossaite\"], [\"BU18FA04\", \"A\", \"FF3\", \"7\", \"L - V\", \"Bertossaite\"], [\"BU18FA04\", \"A\", \"FF3\", \"8\", \"L - V\", \"Bertossaite\"], [\"BU18FA04\", \"A\", \"FF3\", \"9\", \"L - V\", \"Bertossaite\"]], \"hovertemplate\": \"Host=%{customdata[5]}<br>Phases=%{customdata[4]}<br>Tm H2O=%{x}<br>Tm CL=%{y}<br>sample=%{customdata[0]}<br>piece=%{customdata[1]}<br>field=%{customdata[2]}<br>analysis=%{customdata[3]}<extra></extra>\", \"legendgroup\": \"Bertossaite, L - V\", \"marker\": {\"color\": \"#ab63fa\", \"size\": 8, \"symbol\": \"circle\"}, \"mode\": \"markers\", \"name\": \"Bertossaite, L - V\", \"orientation\": \"v\", \"showlegend\": true, \"type\": \"scatter\", \"x\": [-10.69408983099553, -10.494507019395845, -10.09534139619648, -11.29283826579458, -11.093255454194898, -12.091169512193318, -10.594298425195689, -10.788473627920578, -8.59711840698015, -10.390045405931408, -11.933651621008888, -9.652172256377881, -16.136105768374563, -17.530950918060235, -17.630582714466353, -16.335369361186803, -16.335369361186803, -17.630582714466353, -17.430599812125482, -17.828406390099506, -14.664116250005497, -13.575204423548305, -13.575204423548305, -13.674196407771687, -13.773188391995067, -12.288308628644351, -12.090324660197592, null], \"xaxis\": \"x\", \"y\": [3.9752468215812287, 3.675872604181703, 5.771492125978382, -0.6151578452114985, -0.11620081621228895, null, 0.48254761858676243, 4.750227029657, 5.646690529132629, 4.451405863165124, -1.4190075927094608, 3.4415354015044257, 2.4950401595697356, 2.395408363163616, 1.9968811775391389, 1.5983539919146619, 2.395408363163616, 2.4950401595697356, null, 2.3602774420821895, 2.560489004862798, 3.6494008313199893, 3.847384799766751, 3.74839281554337, 3.6494008313199893, null, 3.946376783990132, null], \"yaxis\": \"y\"}, {\"customdata\": [[\"BU18FA20\", \"C\", \"FF1\", \"1\", \"L - L - V\", \"Bertossaite\"], [\"BU18FA20\", \"C\", \"FF1\", \"2\", \"L - L - V\", \"Bertossaite\"], [\"BU18FA20\", \"C\", \"FF1\", \"3\", \"L - L - V\", \"Bertossaite\"], [\"BU18FA20\", \"C\", \"FF1\", \"4\", \"L - L - V\", \"Bertossaite\"], [\"BU18FA20\", \"C\", \"FF1\", \"6\", \"L - L - V\", \"Bertossaite\"], [\"BU18FA20\", \"C\", \"FF1\", \"7\", \"L - L - V\", \"Bertossaite\"], [\"BU18FA20\", \"C\", \"FF1\", \"8\", \"L - L - V\", \"Bertossaite\"], [\"BU18FA20\", \"C\", \"FF1\", \"9\", \"L - L - V\", \"Bertossaite\"], [\"BU18FA20\", \"C\", \"FF1\", \"10\", \"L - L - V\", \"Bertossaite\"], [\"BU18FA20\", \"B\", \"FF4\", \"1\", \"L - L - V\", \"Bertossaite\"], [\"BU18FA20\", \"B\", \"FF4\", \"2\", \"L - L - V\", \"Bertossaite\"], [\"BU18FA20\", \"B\", \"FF4\", \"3\", \"L - L - V\", \"Bertossaite\"], [\"BU18FA20\", \"B\", \"FF4\", \"4\", \"L - L - V\", \"Bertossaite\"], [\"BU18FA20\", \"B\", \"FF4\", \"5\", \"L - L - V\", \"Bertossaite\"], [\"BU18FA04\", \"A\", \"FF3\", \"4\", \"L - L - V\", \"Bertossaite\"]], \"hovertemplate\": \"Host=%{customdata[5]}<br>Phases=%{customdata[4]}<br>Tm H2O=%{x}<br>Tm CL=%{y}<br>sample=%{customdata[0]}<br>piece=%{customdata[1]}<br>field=%{customdata[2]}<br>analysis=%{customdata[3]}<extra></extra>\", \"legendgroup\": \"Bertossaite, L - L - V\", \"marker\": {\"color\": \"#ab63fa\", \"size\": 8, \"symbol\": \"diamond\"}, \"mode\": \"markers\", \"name\": \"Bertossaite, L - L - V\", \"orientation\": \"v\", \"showlegend\": true, \"type\": \"scatter\", \"x\": [-12.390543729592842, -12.390543729592842, -11.891586700593633, -12.590126541192527, -15.207078535479464, -11.735262111040974, -11.23928833612119, -11.834456866024931, -11.140093581137235, -12.22331709387887, -11.731965541937646, -11.535424921161155, -11.731965541937646, -11.731965541937646, -10.605444896846876], \"xaxis\": \"x\", \"y\": [-1.812654714809601, -3.010151584407704, -1.812654714809601, -1.912446120609443, -1.5182023476934177, -2.5101498975329863, -1.3198128377255038, -1.4190075927094608, -1.4190075927094608, -8.587315609513798, -3.673800090101534, -8.882126540678533, -8.783856230290287, -10.061370265337477, -6.645765527911635], \"yaxis\": \"y\"}, {\"customdata\": [[\"BU18FA20\", \"C\", \"FF2\", \"4\", \"V - L\", \"Bertossaite\"]], \"hovertemplate\": \"Host=%{customdata[5]}<br>Phases=%{customdata[4]}<br>Tm H2O=%{x}<br>Tm CL=%{y}<br>sample=%{customdata[0]}<br>piece=%{customdata[1]}<br>field=%{customdata[2]}<br>analysis=%{customdata[3]}<extra></extra>\", \"legendgroup\": \"Bertossaite, V - L\", \"marker\": {\"color\": \"#ab63fa\", \"size\": 8, \"symbol\": \"square\"}, \"mode\": \"markers\", \"name\": \"Bertossaite, V - L\", \"orientation\": \"v\", \"showlegend\": true, \"type\": \"scatter\", \"x\": [-2.610985961208336], \"xaxis\": \"x\", \"y\": [7.966903053574904], \"yaxis\": \"y\"}, {\"customdata\": [[\"BU18FA19\", \"E\", \"FF11\", \"7\", \"L - V - S\", \"Bertossaite\"], [\"BU18FA19\", \"E\", \"FF11\", \"10\", \"L - V - S\", \"Bertossaite\"]], \"hovertemplate\": \"Host=%{customdata[5]}<br>Phases=%{customdata[4]}<br>Tm H2O=%{x}<br>Tm CL=%{y}<br>sample=%{customdata[0]}<br>piece=%{customdata[1]}<br>field=%{customdata[2]}<br>analysis=%{customdata[3]}<extra></extra>\", \"legendgroup\": \"Bertossaite, L - V - S\", \"marker\": {\"color\": \"#ab63fa\", \"size\": 8, \"symbol\": \"x\"}, \"mode\": \"markers\", \"name\": \"Bertossaite, L - V - S\", \"orientation\": \"v\", \"showlegend\": true, \"type\": \"scatter\", \"x\": [-18.925796067745903, -17.132244878644965], \"xaxis\": \"x\", \"y\": [0.50240423144735, null], \"yaxis\": \"y\"}, {\"customdata\": [[\"BU18FA32\", \"A\", \"FF1\", \"5\", \"L - V\", \"Brazilianite\"], [\"BU18FA32\", \"A\", \"FF1\", \"6\", \"L - V\", \"Brazilianite\"], [\"BU18FA32\", \"A\", \"FF1\", \"7\", \"L - V\", \"Brazilianite\"], [\"BU18FA32\", \"A\", \"FF1\", \"8\", \"L - V\", \"Brazilianite\"], [\"BU18FA32\", \"A\", \"FF1\", \"9\", \"L - V\", \"Brazilianite\"], [\"BU18FA32\", \"A\", \"FF1\", \"10\", \"L - V\", \"Brazilianite\"], [\"BU18FA32\", \"C\", \"FF1\", \"1\", \"L - V\", \"Brazilianite\"], [\"BU18FA32\", \"C\", \"FF1\", \"2\", \"L - V\", \"Brazilianite\"], [\"BU18FA32\", \"C\", \"FF1\", \"6\", \"L - V\", \"Brazilianite\"], [\"BU18FA32\", \"C\", \"FF1\", \"7\", \"L - V\", \"Brazilianite\"], [\"BU18FA32\", \"C\", \"FF1\", \"8\", \"L - V\", \"Brazilianite\"], [\"BU18FA32\", \"C\", \"FF1\", \"9\", \"L - V\", \"Brazilianite\"], [\"BU18FA32\", \"C\", \"FF1\", \"10\", \"L - V\", \"Brazilianite\"], [\"BU18FA32\", \"B\", \"FF2\", \"2\", \"L - V\", \"Brazilianite\"], [\"BU18FA32\", \"B\", \"FF2\", \"4\", \"L - V\", \"Brazilianite\"], [\"BU18FA02a\", \"A\", \"FF1\", \"1\", \"L - V\", \"Brazilianite\"], [\"BU18FA02a\", \"A\", \"FF1\", \"3\", \"L - V\", \"Brazilianite\"], [\"BU18FA02a\", \"A\", \"FF1\", \"5\", \"L - V\", \"Brazilianite\"]], \"hovertemplate\": \"Host=%{customdata[5]}<br>Phases=%{customdata[4]}<br>Tm H2O=%{x}<br>Tm CL=%{y}<br>sample=%{customdata[0]}<br>piece=%{customdata[1]}<br>field=%{customdata[2]}<br>analysis=%{customdata[3]}<extra></extra>\", \"legendgroup\": \"Brazilianite, L - V\", \"marker\": {\"color\": \"#FFA15A\", \"size\": 8, \"symbol\": \"circle\"}, \"mode\": \"markers\", \"name\": \"Brazilianite, L - V\", \"orientation\": \"v\", \"showlegend\": true, \"type\": \"scatter\", \"x\": [-12.387513437402887, -12.387513437402887, -11.888890631806982, -11.489992387330256, -11.589716948449437, -11.888890631806982, -12.58696255964125, -11.489992387330256, -11.689441509568617, -12.387513437402887, -10.692195898376804, -12.786411681879613, -11.09109414285353, -10.15964057572572, -10.15964057572572, -16.79931436117335, -16.101970117364278, -16.79931436117335], \"xaxis\": \"x\", \"y\": [3.8675900250236768, 3.8675900250236768, 4.067039147262039, null, 3.9673145861428583, 4.366212830619585, 4.665386513977128, 3.7678654639044953, 3.7678654639044953, 4.067039147262039, 3.8675900250236768, -0.8194643475778476, 4.665386513977128, 5.072257534452294, 4.777446603287558, 2.5270832529637755, 2.4274626467053366, 2.4274626467053366], \"yaxis\": \"y\"}, {\"customdata\": [[\"BU18FA32\", \"A\", \"FF1\", \"2\", \"L - L - V\", \"Brazilianite\"], [\"BU18FA32\", \"A\", \"FF1\", \"3\", \"L - L - V\", \"Brazilianite\"], [\"BU18FA32\", \"A\", \"FF1\", \"4\", \"L - L - V\", \"Brazilianite\"], [\"BU18FA32\", \"C\", \"FF1\", \"3\", \"L - L - V\", \"Brazilianite\"], [\"BU18FA32\", \"C\", \"FF1\", \"4\", \"L - L - V\", \"Brazilianite\"], [\"BU18FA32\", \"C\", \"FF1\", \"5\", \"L - L - V\", \"Brazilianite\"]], \"hovertemplate\": \"Host=%{customdata[5]}<br>Phases=%{customdata[4]}<br>Tm H2O=%{x}<br>Tm CL=%{y}<br>sample=%{customdata[0]}<br>piece=%{customdata[1]}<br>field=%{customdata[2]}<br>analysis=%{customdata[3]}<extra></extra>\", \"legendgroup\": \"Brazilianite, L - L - V\", \"marker\": {\"color\": \"#FFA15A\", \"size\": 8, \"symbol\": \"diamond\"}, \"mode\": \"markers\", \"name\": \"Brazilianite, L - L - V\", \"orientation\": \"v\", \"showlegend\": true, \"type\": \"scatter\", \"x\": [-12.985860804117976, -10.791920459495987, -10.991369581734348, -12.287788876283708, -15.578699393216692, -12.387513437402887], \"xaxis\": \"x\", \"y\": [5.164009319573036, -2.8139555699614753, -3.512027497795745, 1.0753023136865987, 0.7761286303290544, 1.3744759970441427], \"yaxis\": \"y\"}, {\"customdata\": [[\"BU18FA32\", \"A\", \"FF1\", \"1\", \"L - V - S\", \"Brazilianite\"], [\"BU18FA32\", \"B\", \"FF2\", \"1\", \"L - V - S\", \"Brazilianite\"], [\"BU18FA32\", \"B\", \"FF2\", \"3\", \"L - V - S\", \"Brazilianite\"], [\"BU18FA32\", \"B\", \"FF2\", \"5\", \"L - V - S\", \"Brazilianite\"], [\"BU18FA02a\", \"A\", \"FF1\", \"2\", \"L - V - S\", \"Brazilianite\"], [\"BU18FA02a\", \"A\", \"FF1\", \"4\", \"L - V - S\", \"Brazilianite\"]], \"hovertemplate\": \"Host=%{customdata[5]}<br>Phases=%{customdata[4]}<br>Tm H2O=%{x}<br>Tm CL=%{y}<br>sample=%{customdata[0]}<br>piece=%{customdata[1]}<br>field=%{customdata[2]}<br>analysis=%{customdata[3]}<extra></extra>\", \"legendgroup\": \"Brazilianite, L - V - S\", \"marker\": {\"color\": \"#FFA15A\", \"size\": 8, \"symbol\": \"x\"}, \"mode\": \"markers\", \"name\": \"Brazilianite, L - V - S\", \"orientation\": \"v\", \"showlegend\": true, \"type\": \"scatter\", \"x\": [-11.489992387330256, -9.96309995494923, -9.96309995494923, -9.96309995494923, -16.79931436117335, -17.596279211240862], \"xaxis\": \"x\", \"y\": [4.76511107509631, 4.97398722406405, 4.875716913675804, 4.97398722406405, 2.327842040446898, 2.0289802216715818], \"yaxis\": \"y\"}, {\"customdata\": [[\"BU18FA32\", \"A.II\", \"incC\", \"3\", \"L - V - S\", \"Wyllieite\"], [\"BU18FA32\", \"A.II\", \"incC\", \"2\", \"L - V - S\", \"Wyllieite\"], [\"BU18FA32\", \"A.II\", \"incC\", \"1\", \"L - V - S\", \"Wyllieite\"], [\"BU18FA32\", \"A.II\", \"incC\", \"4\", \"L - V - S\", \"Wyllieite\"], [\"BU18FA32\", \"A.II\", \"incC\", \"1\", \"L - V - S\", \"Wyllieite\"], [\"BU18FA32\", \"A.II\", \"incC\", \"2\", \"L - V - S\", \"Wyllieite\"], [\"BU18FA32\", \"A.II\", \"incC\", \"3\", \"L - V - S\", \"Wyllieite\"], [\"BU18FA32\", \"A.II\", \"incC\", \"4\", \"L - V - S\", \"Wyllieite\"], [\"BU18FA32\", \"A.II\", \"incC\", \"5\", \"L - V - S\", \"Wyllieite\"]], \"hovertemplate\": \"Host=%{customdata[5]}<br>Phases=%{customdata[4]}<br>Tm H2O=%{x}<br>Tm CL=%{y}<br>sample=%{customdata[0]}<br>piece=%{customdata[1]}<br>field=%{customdata[2]}<br>analysis=%{customdata[3]}<extra></extra>\", \"legendgroup\": \"Wyllieite, L - V - S\", \"marker\": {\"color\": \"#19d3f3\", \"size\": 8, \"symbol\": \"x\"}, \"mode\": \"markers\", \"name\": \"Wyllieite, L - V - S\", \"orientation\": \"v\", \"showlegend\": true, \"type\": \"scatter\", \"x\": [-11.038139096125553, -10.84094910051153, -11.432519087353601, -10.84094910051153, -12.882260533984638, -11.100404817963781, -11.100404817963781, -12.882260533984638, -10.506452912623493], \"xaxis\": \"x\", \"y\": [0.004500658259784851, 0.20169065387380872, 0.10309565606679677, 0.20169065387380872, 2.362505036416036, null, 1.4715771784056066, 1.5705691626289877, 1.4715771784056066], \"yaxis\": \"y\"}, {\"customdata\": [[\"BU18FA19(2)\", \"A\", \"FF1b\", \"1\", \"L - V\", \"Augelite\"], [\"BU18FA19(2)\", \"A\", \"FF1\", \"2\", \"L - V\", \"Augelite\"], [\"BU18FA19(2)\", \"A\", \"FF1\", \"3\", \"L - V\", \"Augelite\"], [\"BU18FA19(2)\", \"A\", \"FF1\", \"7\", \"L - V\", \"Augelite\"], [\"BU18FA19(2)\", \"A\", \"FF1\", \"8\", \"L - V\", \"Augelite\"], [\"BU18FA19(2)\", \"A\", \"FF2\", \"2\", \"L - V\", \"Augelite\"], [\"BU18FA19(2)\", \"A\", \"FF2\", \"3\", \"L - V\", \"Augelite\"], [\"BU18FA19(2)\", \"A\", \"FF2\", \"4\", \"L - V\", \"Augelite\"], [\"BU18FA19(2)\", \"A\", \"FF2\", \"5\", \"L - V\", \"Augelite\"], [\"BU18FA19(2)\", \"A\", \"FF2b\", \"1\", \"L - V\", \"Augelite\"], [\"BU18FA19(2)\", \"A\", \"FF2b\", \"2\", \"L - V\", \"Augelite\"], [\"BU18FA19(2)\", \"A\", \"FF2b\", \"4\", \"L - V\", \"Augelite\"]], \"hovertemplate\": \"Host=%{customdata[5]}<br>Phases=%{customdata[4]}<br>Tm H2O=%{x}<br>Tm CL=%{y}<br>sample=%{customdata[0]}<br>piece=%{customdata[1]}<br>field=%{customdata[2]}<br>analysis=%{customdata[3]}<extra></extra>\", \"legendgroup\": \"Augelite, L - V\", \"marker\": {\"color\": \"#FF6692\", \"size\": 8, \"symbol\": \"circle\"}, \"mode\": \"markers\", \"name\": \"Augelite, L - V\", \"orientation\": \"v\", \"showlegend\": true, \"type\": \"scatter\", \"x\": [-17.13891585559002, null, -19.11875554005764, -7.239717433251921, null, null, null, -24.365330703896834, null, -17.732867760930308, null, -20.70262728763174], \"xaxis\": \"x\", \"y\": [-2.19112623785949, null, null, 0.48165733617179685, 0.48165733617179685, 1.1746012257354639, -1.2012063956256802, null, null, 1.669561146852369, -0.9042304429555372, 0.5806493203951778], \"yaxis\": \"y\"}, {\"customdata\": [[\"BU18FA19(2)\", \"A\", \"FF2b\", \"3\", \"L - L - V\", \"Augelite\"], [\"BU18FA19(2)\", \"A\", \"FF2b\", \"5\", \"L - L - V\", \"Augelite\"]], \"hovertemplate\": \"Host=%{customdata[5]}<br>Phases=%{customdata[4]}<br>Tm H2O=%{x}<br>Tm CL=%{y}<br>sample=%{customdata[0]}<br>piece=%{customdata[1]}<br>field=%{customdata[2]}<br>analysis=%{customdata[3]}<extra></extra>\", \"legendgroup\": \"Augelite, L - L - V\", \"marker\": {\"color\": \"#FF6692\", \"size\": 8, \"symbol\": \"diamond\"}, \"mode\": \"markers\", \"name\": \"Augelite, L - L - V\", \"orientation\": \"v\", \"showlegend\": true, \"type\": \"scatter\", \"x\": [null, -16.940931887143257], \"xaxis\": \"x\", \"y\": [-0.9042304429555372, 1.0756092415120828], \"yaxis\": \"y\"}, {\"customdata\": [[\"BU18FA19(2)\", \"A\", \"FF1\", \"9\", \"V - L\", \"Augelite\"]], \"hovertemplate\": \"Host=%{customdata[5]}<br>Phases=%{customdata[4]}<br>Tm H2O=%{x}<br>Tm CL=%{y}<br>sample=%{customdata[0]}<br>piece=%{customdata[1]}<br>field=%{customdata[2]}<br>analysis=%{customdata[3]}<extra></extra>\", \"legendgroup\": \"Augelite, V - L\", \"marker\": {\"color\": \"#FF6692\", \"size\": 8, \"symbol\": \"square\"}, \"mode\": \"markers\", \"name\": \"Augelite, V - L\", \"orientation\": \"v\", \"showlegend\": true, \"type\": \"scatter\", \"x\": [null], \"xaxis\": \"x\", \"y\": [2.065529083745893], \"yaxis\": \"y\"}, {\"customdata\": [[\"BU18FA19(2)\", \"A\", \"FF1\", \"1\", \"L - V - S\", \"Augelite\"], [\"BU18FA19(2)\", \"A\", \"FF1\", \"4\", \"L - V - S\", \"Augelite\"], [\"BU18FA19(2)\", \"A\", \"FF1\", \"5\", \"L - V - S\", \"Augelite\"], [\"BU18FA19(2)\", \"A\", \"FF1\", \"6\", \"L - V - S\", \"Augelite\"], [\"BU18FA19(2)\", \"A\", \"FF2\", \"1\", \"L - V - S\", \"Augelite\"]], \"hovertemplate\": \"Host=%{customdata[5]}<br>Phases=%{customdata[4]}<br>Tm H2O=%{x}<br>Tm CL=%{y}<br>sample=%{customdata[0]}<br>piece=%{customdata[1]}<br>field=%{customdata[2]}<br>analysis=%{customdata[3]}<extra></extra>\", \"legendgroup\": \"Augelite, L - V - S\", \"marker\": {\"color\": \"#FF6692\", \"size\": 8, \"symbol\": \"x\"}, \"mode\": \"markers\", \"name\": \"Augelite, L - V - S\", \"orientation\": \"v\", \"showlegend\": true, \"type\": \"scatter\", \"x\": [null, null, null, -14.169156328888592, null], \"xaxis\": \"x\", \"y\": [null, null, 0.9766172572887019, null, -1.0032224271789183], \"yaxis\": \"y\"}],                        {\"height\": 500, \"legend\": {\"title\": {\"text\": \"Host, Phases\"}, \"tracegroupgap\": 0}, \"margin\": {\"t\": 60}, \"plot_bgcolor\": \"white\", \"template\": {\"data\": {\"bar\": [{\"error_x\": {\"color\": \"rgb(36,36,36)\"}, \"error_y\": {\"color\": \"rgb(36,36,36)\"}, \"marker\": {\"line\": {\"color\": \"white\", \"width\": 0.5}}, \"type\": \"bar\"}], \"barpolar\": [{\"marker\": {\"line\": {\"color\": \"white\", \"width\": 0.5}}, \"type\": \"barpolar\"}], \"carpet\": [{\"aaxis\": {\"endlinecolor\": \"rgb(36,36,36)\", \"gridcolor\": \"white\", \"linecolor\": \"white\", \"minorgridcolor\": \"white\", \"startlinecolor\": \"rgb(36,36,36)\"}, \"baxis\": {\"endlinecolor\": \"rgb(36,36,36)\", \"gridcolor\": \"white\", \"linecolor\": \"white\", \"minorgridcolor\": \"white\", \"startlinecolor\": \"rgb(36,36,36)\"}, \"type\": \"carpet\"}], \"choropleth\": [{\"colorbar\": {\"outlinewidth\": 1, \"tickcolor\": \"rgb(36,36,36)\", \"ticks\": \"outside\"}, \"type\": \"choropleth\"}], \"contour\": [{\"colorbar\": {\"outlinewidth\": 1, \"tickcolor\": \"rgb(36,36,36)\", \"ticks\": \"outside\"}, \"colorscale\": [[0.0, \"#440154\"], [0.1111111111111111, \"#482878\"], [0.2222222222222222, \"#3e4989\"], [0.3333333333333333, \"#31688e\"], [0.4444444444444444, \"#26828e\"], [0.5555555555555556, \"#1f9e89\"], [0.6666666666666666, \"#35b779\"], [0.7777777777777778, \"#6ece58\"], [0.8888888888888888, \"#b5de2b\"], [1.0, \"#fde725\"]], \"type\": \"contour\"}], \"contourcarpet\": [{\"colorbar\": {\"outlinewidth\": 1, \"tickcolor\": \"rgb(36,36,36)\", \"ticks\": \"outside\"}, \"type\": \"contourcarpet\"}], \"heatmap\": [{\"colorbar\": {\"outlinewidth\": 1, \"tickcolor\": \"rgb(36,36,36)\", \"ticks\": \"outside\"}, \"colorscale\": [[0.0, \"#440154\"], [0.1111111111111111, \"#482878\"], [0.2222222222222222, \"#3e4989\"], [0.3333333333333333, \"#31688e\"], [0.4444444444444444, \"#26828e\"], [0.5555555555555556, \"#1f9e89\"], [0.6666666666666666, \"#35b779\"], [0.7777777777777778, \"#6ece58\"], [0.8888888888888888, \"#b5de2b\"], [1.0, \"#fde725\"]], \"type\": \"heatmap\"}], \"heatmapgl\": [{\"colorbar\": {\"outlinewidth\": 1, \"tickcolor\": \"rgb(36,36,36)\", \"ticks\": \"outside\"}, \"colorscale\": [[0.0, \"#440154\"], [0.1111111111111111, \"#482878\"], [0.2222222222222222, \"#3e4989\"], [0.3333333333333333, \"#31688e\"], [0.4444444444444444, \"#26828e\"], [0.5555555555555556, \"#1f9e89\"], [0.6666666666666666, \"#35b779\"], [0.7777777777777778, \"#6ece58\"], [0.8888888888888888, \"#b5de2b\"], [1.0, \"#fde725\"]], \"type\": \"heatmapgl\"}], \"histogram\": [{\"marker\": {\"line\": {\"color\": \"white\", \"width\": 0.6}}, \"type\": \"histogram\"}], \"histogram2d\": [{\"colorbar\": {\"outlinewidth\": 1, \"tickcolor\": \"rgb(36,36,36)\", \"ticks\": \"outside\"}, \"colorscale\": [[0.0, \"#440154\"], [0.1111111111111111, \"#482878\"], [0.2222222222222222, \"#3e4989\"], [0.3333333333333333, \"#31688e\"], [0.4444444444444444, \"#26828e\"], [0.5555555555555556, \"#1f9e89\"], [0.6666666666666666, \"#35b779\"], [0.7777777777777778, \"#6ece58\"], [0.8888888888888888, \"#b5de2b\"], [1.0, \"#fde725\"]], \"type\": \"histogram2d\"}], \"histogram2dcontour\": [{\"colorbar\": {\"outlinewidth\": 1, \"tickcolor\": \"rgb(36,36,36)\", \"ticks\": \"outside\"}, \"colorscale\": [[0.0, \"#440154\"], [0.1111111111111111, \"#482878\"], [0.2222222222222222, \"#3e4989\"], [0.3333333333333333, \"#31688e\"], [0.4444444444444444, \"#26828e\"], [0.5555555555555556, \"#1f9e89\"], [0.6666666666666666, \"#35b779\"], [0.7777777777777778, \"#6ece58\"], [0.8888888888888888, \"#b5de2b\"], [1.0, \"#fde725\"]], \"type\": \"histogram2dcontour\"}], \"mesh3d\": [{\"colorbar\": {\"outlinewidth\": 1, \"tickcolor\": \"rgb(36,36,36)\", \"ticks\": \"outside\"}, \"type\": \"mesh3d\"}], \"parcoords\": [{\"line\": {\"colorbar\": {\"outlinewidth\": 1, \"tickcolor\": \"rgb(36,36,36)\", \"ticks\": \"outside\"}}, \"type\": \"parcoords\"}], \"pie\": [{\"automargin\": true, \"type\": \"pie\"}], \"scatter\": [{\"marker\": {\"colorbar\": {\"outlinewidth\": 1, \"tickcolor\": \"rgb(36,36,36)\", \"ticks\": \"outside\"}}, \"type\": \"scatter\"}], \"scatter3d\": [{\"line\": {\"colorbar\": {\"outlinewidth\": 1, \"tickcolor\": \"rgb(36,36,36)\", \"ticks\": \"outside\"}}, \"marker\": {\"colorbar\": {\"outlinewidth\": 1, \"tickcolor\": \"rgb(36,36,36)\", \"ticks\": \"outside\"}}, \"type\": \"scatter3d\"}], \"scattercarpet\": [{\"marker\": {\"colorbar\": {\"outlinewidth\": 1, \"tickcolor\": \"rgb(36,36,36)\", \"ticks\": \"outside\"}}, \"type\": \"scattercarpet\"}], \"scattergeo\": [{\"marker\": {\"colorbar\": {\"outlinewidth\": 1, \"tickcolor\": \"rgb(36,36,36)\", \"ticks\": \"outside\"}}, \"type\": \"scattergeo\"}], \"scattergl\": [{\"marker\": {\"colorbar\": {\"outlinewidth\": 1, \"tickcolor\": \"rgb(36,36,36)\", \"ticks\": \"outside\"}}, \"type\": \"scattergl\"}], \"scattermapbox\": [{\"marker\": {\"colorbar\": {\"outlinewidth\": 1, \"tickcolor\": \"rgb(36,36,36)\", \"ticks\": \"outside\"}}, \"type\": \"scattermapbox\"}], \"scatterpolar\": [{\"marker\": {\"colorbar\": {\"outlinewidth\": 1, \"tickcolor\": \"rgb(36,36,36)\", \"ticks\": \"outside\"}}, \"type\": \"scatterpolar\"}], \"scatterpolargl\": [{\"marker\": {\"colorbar\": {\"outlinewidth\": 1, \"tickcolor\": \"rgb(36,36,36)\", \"ticks\": \"outside\"}}, \"type\": \"scatterpolargl\"}], \"scatterternary\": [{\"marker\": {\"colorbar\": {\"outlinewidth\": 1, \"tickcolor\": \"rgb(36,36,36)\", \"ticks\": \"outside\"}}, \"type\": \"scatterternary\"}], \"surface\": [{\"colorbar\": {\"outlinewidth\": 1, \"tickcolor\": \"rgb(36,36,36)\", \"ticks\": \"outside\"}, \"colorscale\": [[0.0, \"#440154\"], [0.1111111111111111, \"#482878\"], [0.2222222222222222, \"#3e4989\"], [0.3333333333333333, \"#31688e\"], [0.4444444444444444, \"#26828e\"], [0.5555555555555556, \"#1f9e89\"], [0.6666666666666666, \"#35b779\"], [0.7777777777777778, \"#6ece58\"], [0.8888888888888888, \"#b5de2b\"], [1.0, \"#fde725\"]], \"type\": \"surface\"}], \"table\": [{\"cells\": {\"fill\": {\"color\": \"rgb(237,237,237)\"}, \"line\": {\"color\": \"white\"}}, \"header\": {\"fill\": {\"color\": \"rgb(217,217,217)\"}, \"line\": {\"color\": \"white\"}}, \"type\": \"table\"}]}, \"layout\": {\"annotationdefaults\": {\"arrowhead\": 0, \"arrowwidth\": 1}, \"autotypenumbers\": \"strict\", \"coloraxis\": {\"colorbar\": {\"outlinewidth\": 1, \"tickcolor\": \"rgb(36,36,36)\", \"ticks\": \"outside\"}}, \"colorscale\": {\"diverging\": [[0.0, \"rgb(103,0,31)\"], [0.1, \"rgb(178,24,43)\"], [0.2, \"rgb(214,96,77)\"], [0.3, \"rgb(244,165,130)\"], [0.4, \"rgb(253,219,199)\"], [0.5, \"rgb(247,247,247)\"], [0.6, \"rgb(209,229,240)\"], [0.7, \"rgb(146,197,222)\"], [0.8, \"rgb(67,147,195)\"], [0.9, \"rgb(33,102,172)\"], [1.0, \"rgb(5,48,97)\"]], \"sequential\": [[0.0, \"#440154\"], [0.1111111111111111, \"#482878\"], [0.2222222222222222, \"#3e4989\"], [0.3333333333333333, \"#31688e\"], [0.4444444444444444, \"#26828e\"], [0.5555555555555556, \"#1f9e89\"], [0.6666666666666666, \"#35b779\"], [0.7777777777777778, \"#6ece58\"], [0.8888888888888888, \"#b5de2b\"], [1.0, \"#fde725\"]], \"sequentialminus\": [[0.0, \"#440154\"], [0.1111111111111111, \"#482878\"], [0.2222222222222222, \"#3e4989\"], [0.3333333333333333, \"#31688e\"], [0.4444444444444444, \"#26828e\"], [0.5555555555555556, \"#1f9e89\"], [0.6666666666666666, \"#35b779\"], [0.7777777777777778, \"#6ece58\"], [0.8888888888888888, \"#b5de2b\"], [1.0, \"#fde725\"]]}, \"colorway\": [\"#1F77B4\", \"#FF7F0E\", \"#2CA02C\", \"#D62728\", \"#9467BD\", \"#8C564B\", \"#E377C2\", \"#7F7F7F\", \"#BCBD22\", \"#17BECF\"], \"font\": {\"color\": \"rgb(36,36,36)\"}, \"geo\": {\"bgcolor\": \"white\", \"lakecolor\": \"white\", \"landcolor\": \"white\", \"showlakes\": true, \"showland\": true, \"subunitcolor\": \"white\"}, \"hoverlabel\": {\"align\": \"left\"}, \"hovermode\": \"closest\", \"mapbox\": {\"style\": \"light\"}, \"paper_bgcolor\": \"white\", \"plot_bgcolor\": \"white\", \"polar\": {\"angularaxis\": {\"gridcolor\": \"rgb(232,232,232)\", \"linecolor\": \"rgb(36,36,36)\", \"showgrid\": false, \"showline\": true, \"ticks\": \"outside\"}, \"bgcolor\": \"white\", \"radialaxis\": {\"gridcolor\": \"rgb(232,232,232)\", \"linecolor\": \"rgb(36,36,36)\", \"showgrid\": false, \"showline\": true, \"ticks\": \"outside\"}}, \"scene\": {\"xaxis\": {\"backgroundcolor\": \"white\", \"gridcolor\": \"rgb(232,232,232)\", \"gridwidth\": 2, \"linecolor\": \"rgb(36,36,36)\", \"showbackground\": true, \"showgrid\": false, \"showline\": true, \"ticks\": \"outside\", \"zeroline\": false, \"zerolinecolor\": \"rgb(36,36,36)\"}, \"yaxis\": {\"backgroundcolor\": \"white\", \"gridcolor\": \"rgb(232,232,232)\", \"gridwidth\": 2, \"linecolor\": \"rgb(36,36,36)\", \"showbackground\": true, \"showgrid\": false, \"showline\": true, \"ticks\": \"outside\", \"zeroline\": false, \"zerolinecolor\": \"rgb(36,36,36)\"}, \"zaxis\": {\"backgroundcolor\": \"white\", \"gridcolor\": \"rgb(232,232,232)\", \"gridwidth\": 2, \"linecolor\": \"rgb(36,36,36)\", \"showbackground\": true, \"showgrid\": false, \"showline\": true, \"ticks\": \"outside\", \"zeroline\": false, \"zerolinecolor\": \"rgb(36,36,36)\"}}, \"shapedefaults\": {\"fillcolor\": \"black\", \"line\": {\"width\": 0}, \"opacity\": 0.3}, \"ternary\": {\"aaxis\": {\"gridcolor\": \"rgb(232,232,232)\", \"linecolor\": \"rgb(36,36,36)\", \"showgrid\": false, \"showline\": true, \"ticks\": \"outside\"}, \"baxis\": {\"gridcolor\": \"rgb(232,232,232)\", \"linecolor\": \"rgb(36,36,36)\", \"showgrid\": false, \"showline\": true, \"ticks\": \"outside\"}, \"bgcolor\": \"white\", \"caxis\": {\"gridcolor\": \"rgb(232,232,232)\", \"linecolor\": \"rgb(36,36,36)\", \"showgrid\": false, \"showline\": true, \"ticks\": \"outside\"}}, \"title\": {\"x\": 0.05}, \"xaxis\": {\"automargin\": true, \"gridcolor\": \"rgb(232,232,232)\", \"linecolor\": \"rgb(36,36,36)\", \"showgrid\": false, \"showline\": true, \"ticks\": \"outside\", \"title\": {\"standoff\": 15}, \"zeroline\": false, \"zerolinecolor\": \"rgb(36,36,36)\"}, \"yaxis\": {\"automargin\": true, \"gridcolor\": \"rgb(232,232,232)\", \"linecolor\": \"rgb(36,36,36)\", \"showgrid\": false, \"showline\": true, \"ticks\": \"outside\", \"title\": {\"standoff\": 15}, \"zeroline\": false, \"zerolinecolor\": \"rgb(36,36,36)\"}}}, \"width\": 650, \"xaxis\": {\"anchor\": \"y\", \"domain\": [0.0, 1.0], \"linecolor\": \"black\", \"mirror\": \"allticks\", \"showgrid\": false, \"ticks\": \"inside\", \"title\": {\"text\": \"Tm H2O\"}, \"zeroline\": true}, \"yaxis\": {\"anchor\": \"x\", \"domain\": [0.0, 1.0], \"linecolor\": \"black\", \"mirror\": \"allticks\", \"showgrid\": false, \"ticks\": \"inside\", \"title\": {\"text\": \"Tm CL\"}, \"zeroline\": true}},                        {\"responsive\": true}                    ).then(function(){\n",
       "                            \n",
       "var gd = document.getElementById('41221366-977e-4607-952f-cc2f3f739b6d');\n",
       "var x = new MutationObserver(function (mutations, observer) {{\n",
       "        var display = window.getComputedStyle(gd).display;\n",
       "        if (!display || display === 'none') {{\n",
       "            console.log([gd, 'removed!']);\n",
       "            Plotly.purge(gd);\n",
       "            observer.disconnect();\n",
       "        }}\n",
       "}});\n",
       "\n",
       "// Listen for the removal of the full notebook cells\n",
       "var notebookContainer = gd.closest('#notebook-container');\n",
       "if (notebookContainer) {{\n",
       "    x.observe(notebookContainer, {childList: true});\n",
       "}}\n",
       "\n",
       "// Listen for the clearing of the current output cell\n",
       "var outputEl = gd.closest('.output');\n",
       "if (outputEl) {{\n",
       "    x.observe(outputEl, {childList: true});\n",
       "}}\n",
       "\n",
       "                        })                };                });            </script>        </div>"
      ]
     },
     "metadata": {},
     "output_type": "display_data"
    }
   ],
   "source": [
    "# --- plot figures\n",
    "\n",
    "fig = px.scatter(df_corrected, x=\"Tm H2O\", y=\"Tm CL\",\n",
    "                 symbol = \"Phases\", color=\"Host\", \n",
    "                 hover_data=[\"sample\",'piece','field',\"analysis\",\"Phases\",\"Host\"],\n",
    "                 width=650, height=500)\n",
    "\n",
    "fig.update_layout(plot_bgcolor=\"white\",template=\"simple_white\")\n",
    "\n",
    "fig.update_traces(marker=dict(size=8),\n",
    "                  selector=dict(mode='markers'))\n",
    "\n",
    "fig.update_xaxes(ticks='inside',zeroline=True,linecolor=\"black\",showgrid=False,mirror= \"allticks\")#,range=(0,7))\n",
    "fig.update_yaxes(ticks='inside',zeroline=True,linecolor=\"black\",showgrid=False,mirror= \"allticks\")#,range=(0,0.35))\n",
    "\n",
    "# fig.update_xaxes(tickvals=[0,1,2,3,4,5,6,7])\n",
    "\n",
    "# fig.write_image(\"FI_N2-Co2_vs_NaLi_mol.pdf\");\n",
    "fig.show()\n"
   ]
  },
  {
   "cell_type": "code",
   "execution_count": 38,
   "metadata": {},
   "outputs": [
    {
     "data": {
      "text/html": [
       "<div>\n",
       "<style scoped>\n",
       "    .dataframe tbody tr th:only-of-type {\n",
       "        vertical-align: middle;\n",
       "    }\n",
       "\n",
       "    .dataframe tbody tr th {\n",
       "        vertical-align: top;\n",
       "    }\n",
       "\n",
       "    .dataframe thead th {\n",
       "        text-align: right;\n",
       "    }\n",
       "</style>\n",
       "<table border=\"1\" class=\"dataframe\">\n",
       "  <thead>\n",
       "    <tr style=\"text-align: right;\">\n",
       "      <th></th>\n",
       "      <th>sample</th>\n",
       "      <th>piece</th>\n",
       "      <th>field</th>\n",
       "      <th>analysis</th>\n",
       "      <th>Host</th>\n",
       "      <th>Length</th>\n",
       "      <th>Width</th>\n",
       "      <th>Phases</th>\n",
       "      <th>VL (%)</th>\n",
       "      <th>Tm CO2</th>\n",
       "      <th>Te</th>\n",
       "      <th>Tm Hh</th>\n",
       "      <th>Tm H2O</th>\n",
       "      <th>Tm CL</th>\n",
       "      <th>Th CO2</th>\n",
       "      <th>Bodnar</th>\n",
       "    </tr>\n",
       "  </thead>\n",
       "  <tbody>\n",
       "    <tr>\n",
       "      <th>34</th>\n",
       "      <td>BU18FA20</td>\n",
       "      <td>C</td>\n",
       "      <td>FF1</td>\n",
       "      <td>1</td>\n",
       "      <td>Bertossaite</td>\n",
       "      <td>89.7</td>\n",
       "      <td>26.5</td>\n",
       "      <td>L - L - V</td>\n",
       "      <td>78.0</td>\n",
       "      <td>-58.394382</td>\n",
       "      <td>-76.157252</td>\n",
       "      <td>-24.565095</td>\n",
       "      <td>-12.390544</td>\n",
       "      <td>-1.812655</td>\n",
       "      <td>27.326436</td>\n",
       "      <td>16.328899</td>\n",
       "    </tr>\n",
       "    <tr>\n",
       "      <th>35</th>\n",
       "      <td>BU18FA20</td>\n",
       "      <td>C</td>\n",
       "      <td>FF1</td>\n",
       "      <td>2</td>\n",
       "      <td>Bertossaite</td>\n",
       "      <td>26.5</td>\n",
       "      <td>19.0</td>\n",
       "      <td>L - L - V</td>\n",
       "      <td>76.0</td>\n",
       "      <td>-58.693756</td>\n",
       "      <td>-74.460798</td>\n",
       "      <td>-25.263635</td>\n",
       "      <td>-12.390544</td>\n",
       "      <td>-3.010152</td>\n",
       "      <td>27.326436</td>\n",
       "      <td>16.328899</td>\n",
       "    </tr>\n",
       "    <tr>\n",
       "      <th>36</th>\n",
       "      <td>BU18FA20</td>\n",
       "      <td>C</td>\n",
       "      <td>FF1</td>\n",
       "      <td>3</td>\n",
       "      <td>Bertossaite</td>\n",
       "      <td>15.0</td>\n",
       "      <td>7.5</td>\n",
       "      <td>L - L - V</td>\n",
       "      <td>77.0</td>\n",
       "      <td>-58.494173</td>\n",
       "      <td>-74.361007</td>\n",
       "      <td>-26.161758</td>\n",
       "      <td>-11.891587</td>\n",
       "      <td>-1.812655</td>\n",
       "      <td>27.526019</td>\n",
       "      <td>15.853354</td>\n",
       "    </tr>\n",
       "    <tr>\n",
       "      <th>37</th>\n",
       "      <td>BU18FA20</td>\n",
       "      <td>C</td>\n",
       "      <td>FF1</td>\n",
       "      <td>4</td>\n",
       "      <td>Bertossaite</td>\n",
       "      <td>13.9</td>\n",
       "      <td>10.5</td>\n",
       "      <td>L - L - V</td>\n",
       "      <td>74.0</td>\n",
       "      <td>-58.494173</td>\n",
       "      <td>-73.961841</td>\n",
       "      <td>-25.064052</td>\n",
       "      <td>-12.590127</td>\n",
       "      <td>-1.912446</td>\n",
       "      <td>27.226644</td>\n",
       "      <td>16.515819</td>\n",
       "    </tr>\n",
       "    <tr>\n",
       "      <th>97</th>\n",
       "      <td>BU18FA20</td>\n",
       "      <td>C</td>\n",
       "      <td>FF1</td>\n",
       "      <td>5</td>\n",
       "      <td>Bertossaite</td>\n",
       "      <td>28.2</td>\n",
       "      <td>18.0</td>\n",
       "      <td>L - V</td>\n",
       "      <td>80.0</td>\n",
       "      <td>-56.174512</td>\n",
       "      <td>-73.335205</td>\n",
       "      <td>-23.737827</td>\n",
       "      <td>-11.933652</td>\n",
       "      <td>-1.419008</td>\n",
       "      <td>27.049887</td>\n",
       "      <td>15.893907</td>\n",
       "    </tr>\n",
       "    <tr>\n",
       "      <th>...</th>\n",
       "      <td>...</td>\n",
       "      <td>...</td>\n",
       "      <td>...</td>\n",
       "      <td>...</td>\n",
       "      <td>...</td>\n",
       "      <td>...</td>\n",
       "      <td>...</td>\n",
       "      <td>...</td>\n",
       "      <td>...</td>\n",
       "      <td>...</td>\n",
       "      <td>...</td>\n",
       "      <td>...</td>\n",
       "      <td>...</td>\n",
       "      <td>...</td>\n",
       "      <td>...</td>\n",
       "      <td>...</td>\n",
       "    </tr>\n",
       "    <tr>\n",
       "      <th>225</th>\n",
       "      <td>BU18FA32</td>\n",
       "      <td>A.II</td>\n",
       "      <td>incC</td>\n",
       "      <td>1</td>\n",
       "      <td>Wyllieite</td>\n",
       "      <td>39.6</td>\n",
       "      <td>29.3</td>\n",
       "      <td>L - V - S</td>\n",
       "      <td>79.0</td>\n",
       "      <td>0.085689</td>\n",
       "      <td>0.085689</td>\n",
       "      <td>-18.524804</td>\n",
       "      <td>-12.882261</td>\n",
       "      <td>2.362505</td>\n",
       "      <td>0.085689</td>\n",
       "      <td>16.786097</td>\n",
       "    </tr>\n",
       "    <tr>\n",
       "      <th>226</th>\n",
       "      <td>BU18FA32</td>\n",
       "      <td>A.II</td>\n",
       "      <td>incC</td>\n",
       "      <td>2</td>\n",
       "      <td>Wyllieite</td>\n",
       "      <td>18.8</td>\n",
       "      <td>5.6</td>\n",
       "      <td>L - V - S</td>\n",
       "      <td>78.0</td>\n",
       "      <td>0.085689</td>\n",
       "      <td>0.085689</td>\n",
       "      <td>-20.999603</td>\n",
       "      <td>-11.100405</td>\n",
       "      <td>0.085689</td>\n",
       "      <td>0.085689</td>\n",
       "      <td>15.074295</td>\n",
       "    </tr>\n",
       "    <tr>\n",
       "      <th>227</th>\n",
       "      <td>BU18FA32</td>\n",
       "      <td>A.II</td>\n",
       "      <td>incC</td>\n",
       "      <td>3</td>\n",
       "      <td>Wyllieite</td>\n",
       "      <td>13.1</td>\n",
       "      <td>10.0</td>\n",
       "      <td>L - V - S</td>\n",
       "      <td>77.0</td>\n",
       "      <td>0.085689</td>\n",
       "      <td>0.085689</td>\n",
       "      <td>-24.068355</td>\n",
       "      <td>-11.100405</td>\n",
       "      <td>1.471577</td>\n",
       "      <td>0.085689</td>\n",
       "      <td>15.074295</td>\n",
       "    </tr>\n",
       "    <tr>\n",
       "      <th>228</th>\n",
       "      <td>BU18FA32</td>\n",
       "      <td>A.II</td>\n",
       "      <td>incC</td>\n",
       "      <td>4</td>\n",
       "      <td>Wyllieite</td>\n",
       "      <td>8.4</td>\n",
       "      <td>6.0</td>\n",
       "      <td>L - V - S</td>\n",
       "      <td>76.0</td>\n",
       "      <td>0.085689</td>\n",
       "      <td>0.085689</td>\n",
       "      <td>-21.989523</td>\n",
       "      <td>-12.882261</td>\n",
       "      <td>1.570569</td>\n",
       "      <td>0.085689</td>\n",
       "      <td>16.786097</td>\n",
       "    </tr>\n",
       "    <tr>\n",
       "      <th>229</th>\n",
       "      <td>BU18FA32</td>\n",
       "      <td>A.II</td>\n",
       "      <td>incC</td>\n",
       "      <td>5</td>\n",
       "      <td>Wyllieite</td>\n",
       "      <td>22.2</td>\n",
       "      <td>8.7</td>\n",
       "      <td>L - V - S</td>\n",
       "      <td>78.0</td>\n",
       "      <td>0.085689</td>\n",
       "      <td>0.085689</td>\n",
       "      <td>-16.940932</td>\n",
       "      <td>-10.506453</td>\n",
       "      <td>1.471577</td>\n",
       "      <td>0.085689</td>\n",
       "      <td>14.468431</td>\n",
       "    </tr>\n",
       "  </tbody>\n",
       "</table>\n",
       "<p>229 rows × 16 columns</p>\n",
       "</div>"
      ],
      "text/plain": [
       "       sample piece field analysis         Host  Length  Width     Phases  \\\n",
       "34   BU18FA20     C   FF1        1  Bertossaite    89.7   26.5  L - L - V   \n",
       "35   BU18FA20     C   FF1        2  Bertossaite    26.5   19.0  L - L - V   \n",
       "36   BU18FA20     C   FF1        3  Bertossaite    15.0    7.5  L - L - V   \n",
       "37   BU18FA20     C   FF1        4  Bertossaite    13.9   10.5  L - L - V   \n",
       "97   BU18FA20     C   FF1        5  Bertossaite    28.2   18.0      L - V   \n",
       "..        ...   ...   ...      ...          ...     ...    ...        ...   \n",
       "225  BU18FA32  A.II  incC        1    Wyllieite    39.6   29.3  L - V - S   \n",
       "226  BU18FA32  A.II  incC        2    Wyllieite    18.8    5.6  L - V - S   \n",
       "227  BU18FA32  A.II  incC        3    Wyllieite    13.1   10.0  L - V - S   \n",
       "228  BU18FA32  A.II  incC        4    Wyllieite     8.4    6.0  L - V - S   \n",
       "229  BU18FA32  A.II  incC        5    Wyllieite    22.2    8.7  L - V - S   \n",
       "\n",
       "     VL (%)     Tm CO2         Te      Tm Hh     Tm H2O     Tm CL     Th CO2  \\\n",
       "34     78.0 -58.394382 -76.157252 -24.565095 -12.390544 -1.812655  27.326436   \n",
       "35     76.0 -58.693756 -74.460798 -25.263635 -12.390544 -3.010152  27.326436   \n",
       "36     77.0 -58.494173 -74.361007 -26.161758 -11.891587 -1.812655  27.526019   \n",
       "37     74.0 -58.494173 -73.961841 -25.064052 -12.590127 -1.912446  27.226644   \n",
       "97     80.0 -56.174512 -73.335205 -23.737827 -11.933652 -1.419008  27.049887   \n",
       "..      ...        ...        ...        ...        ...       ...        ...   \n",
       "225    79.0   0.085689   0.085689 -18.524804 -12.882261  2.362505   0.085689   \n",
       "226    78.0   0.085689   0.085689 -20.999603 -11.100405  0.085689   0.085689   \n",
       "227    77.0   0.085689   0.085689 -24.068355 -11.100405  1.471577   0.085689   \n",
       "228    76.0   0.085689   0.085689 -21.989523 -12.882261  1.570569   0.085689   \n",
       "229    78.0   0.085689   0.085689 -16.940932 -10.506453  1.471577   0.085689   \n",
       "\n",
       "        Bodnar  \n",
       "34   16.328899  \n",
       "35   16.328899  \n",
       "36   15.853354  \n",
       "37   16.515819  \n",
       "97   15.893907  \n",
       "..         ...  \n",
       "225  16.786097  \n",
       "226  15.074295  \n",
       "227  15.074295  \n",
       "228  16.786097  \n",
       "229  14.468431  \n",
       "\n",
       "[229 rows x 16 columns]"
      ]
     },
     "execution_count": 38,
     "metadata": {},
     "output_type": "execute_result"
    }
   ],
   "source": [
    "# --- Use formula from Bodnar(1993) GCA 57 to calculate the salinity in the H20-NaCl system\n",
    "\n",
    "x = -(df_corrected['Tm H2O']) # get the freezing point depression temperature value\n",
    "\n",
    "df_corrected['Bodnar'] = 0.00 + 1.78*x - 0.0442*(x**2) + 0.000557*(x**3)\n",
    "\n",
    "df_corrected"
   ]
  },
  {
   "cell_type": "code",
   "execution_count": null,
   "metadata": {},
   "outputs": [],
   "source": []
  }
 ],
 "metadata": {
  "kernelspec": {
   "display_name": "Python 3",
   "language": "python",
   "name": "python3"
  },
  "language_info": {
   "codemirror_mode": {
    "name": "ipython",
    "version": 3
   },
   "file_extension": ".py",
   "mimetype": "text/x-python",
   "name": "python",
   "nbconvert_exporter": "python",
   "pygments_lexer": "ipython3",
   "version": "3.7.1"
  }
 },
 "nbformat": 4,
 "nbformat_minor": 2
}
