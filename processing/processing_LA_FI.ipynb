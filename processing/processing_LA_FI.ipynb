{
 "cells": [
  {
   "cell_type": "code",
   "execution_count": 1,
   "id": "ac8d3b15",
   "metadata": {},
   "outputs": [],
   "source": [
    "# ---------------- importing reduced LAICPMS data files\n",
    "\n",
    "    # - LAICPMS data processed using SILLS for data reduction\n",
    "\n",
    "# --- import modules\n",
    "\n",
    "import os\n",
    "import glob\n",
    "import pandas as pd\n",
    "import math\n",
    "import numpy as np\n",
    "import plotly.express as px\n",
    "\n",
    "\n",
    "# --- set working directory\n",
    "\n",
    "base_dir = \"_DATA/\""
   ]
  },
  {
   "cell_type": "code",
   "execution_count": 2,
   "id": "ada3d0c8",
   "metadata": {},
   "outputs": [
    {
     "name": "stdout",
     "output_type": "stream",
     "text": [
      "['2021_08_25-test.xls', '2021_11_29-AM.xls', '2021_11_29-PM1.xls', '2021_11_29-PM2.xls', '2021_11_30-AM.xls', '2021_11_30-AM2.xls', '2021_11_30-PM.xls', '2021_11_30-PM2.xls', '2021_12_01-AM.xls', '2021_12_01-PM.xls', '2021_12_01-PM2.xls']\n"
     ]
    },
    {
     "data": {
      "text/plain": [
       "11"
      ]
     },
     "execution_count": 2,
     "metadata": {},
     "output_type": "execute_result"
    }
   ],
   "source": [
    "# --- look into working directory and create a list with selected files - .xls\n",
    "os.chdir(base_dir)\n",
    "txt_files = glob.glob('*.xls')\n",
    "\n",
    "print(txt_files)\n",
    "len(txt_files)"
   ]
  },
  {
   "cell_type": "code",
   "execution_count": 3,
   "id": "854a37b2",
   "metadata": {},
   "outputs": [
    {
     "name": "stdout",
     "output_type": "stream",
     "text": [
      "2021_08_25-test.xls\n",
      "2021_11_29-AM.xls\n",
      "2021_11_29-PM1.xls\n",
      "2021_11_29-PM2.xls\n",
      "2021_11_30-AM.xls\n",
      "2021_11_30-AM2.xls\n",
      "2021_11_30-PM.xls\n",
      "2021_11_30-PM2.xls\n",
      "2021_12_01-AM.xls\n",
      "2021_12_01-PM.xls\n",
      "2021_12_01-PM2.xls\n"
     ]
    },
    {
     "data": {
      "text/html": [
       "<div>\n",
       "<style scoped>\n",
       "    .dataframe tbody tr th:only-of-type {\n",
       "        vertical-align: middle;\n",
       "    }\n",
       "\n",
       "    .dataframe tbody tr th {\n",
       "        vertical-align: top;\n",
       "    }\n",
       "\n",
       "    .dataframe thead th {\n",
       "        text-align: right;\n",
       "    }\n",
       "</style>\n",
       "<table border=\"1\" class=\"dataframe\">\n",
       "  <thead>\n",
       "    <tr style=\"text-align: right;\">\n",
       "      <th></th>\n",
       "      <th>sample</th>\n",
       "      <th>piece</th>\n",
       "      <th>field</th>\n",
       "      <th>analysis</th>\n",
       "      <th>Host</th>\n",
       "      <th>Time</th>\n",
       "      <th>Info</th>\n",
       "      <th>Li7</th>\n",
       "      <th>B11</th>\n",
       "      <th>Na23</th>\n",
       "      <th>...</th>\n",
       "      <th>Fe56</th>\n",
       "      <th>Fe57</th>\n",
       "      <th>Rb85</th>\n",
       "      <th>Sr88</th>\n",
       "      <th>Nb93</th>\n",
       "      <th>Sn118</th>\n",
       "      <th>Cs133</th>\n",
       "      <th>Ba137</th>\n",
       "      <th>Ta181</th>\n",
       "      <th>W182</th>\n",
       "    </tr>\n",
       "  </thead>\n",
       "  <tbody>\n",
       "    <tr>\n",
       "      <th>0</th>\n",
       "      <td>20</td>\n",
       "      <td>B</td>\n",
       "      <td>4.0</td>\n",
       "      <td>1</td>\n",
       "      <td>bertossaite</td>\n",
       "      <td>14:36:00</td>\n",
       "      <td>NaN</td>\n",
       "      <td>&lt;8.1678</td>\n",
       "      <td>243.017826</td>\n",
       "      <td>44286.873509</td>\n",
       "      <td>...</td>\n",
       "      <td>380.788387</td>\n",
       "      <td>&lt;134.2921</td>\n",
       "      <td>798.763019</td>\n",
       "      <td>NaN</td>\n",
       "      <td>&lt;0.089087</td>\n",
       "      <td>&lt;4.4638</td>\n",
       "      <td>571.702701</td>\n",
       "      <td>NaN</td>\n",
       "      <td>&lt;0.38684</td>\n",
       "      <td>&lt;1.4856</td>\n",
       "    </tr>\n",
       "    <tr>\n",
       "      <th>1</th>\n",
       "      <td>20</td>\n",
       "      <td>B</td>\n",
       "      <td>4.0</td>\n",
       "      <td>2</td>\n",
       "      <td>bertossaite</td>\n",
       "      <td>14:41:00</td>\n",
       "      <td>NaN</td>\n",
       "      <td>4364.129983</td>\n",
       "      <td>283.372066</td>\n",
       "      <td>40731.651892</td>\n",
       "      <td>...</td>\n",
       "      <td>&lt;170.9541</td>\n",
       "      <td>&lt;310.2672</td>\n",
       "      <td>771.347476</td>\n",
       "      <td>NaN</td>\n",
       "      <td>&lt;0.48308</td>\n",
       "      <td>&lt;10.8423</td>\n",
       "      <td>706.986291</td>\n",
       "      <td>NaN</td>\n",
       "      <td>&lt;0.89823</td>\n",
       "      <td>&lt;4.1129</td>\n",
       "    </tr>\n",
       "    <tr>\n",
       "      <th>2</th>\n",
       "      <td>20</td>\n",
       "      <td>B</td>\n",
       "      <td>4.0</td>\n",
       "      <td>3b</td>\n",
       "      <td>bertossaite</td>\n",
       "      <td>14:49:00</td>\n",
       "      <td>NaN</td>\n",
       "      <td>6460.774841</td>\n",
       "      <td>236.260499</td>\n",
       "      <td>35981.020799</td>\n",
       "      <td>...</td>\n",
       "      <td>1071.500697</td>\n",
       "      <td>559.03085</td>\n",
       "      <td>745.991087</td>\n",
       "      <td>NaN</td>\n",
       "      <td>&lt;0.31016</td>\n",
       "      <td>&lt;7.8353</td>\n",
       "      <td>535.075053</td>\n",
       "      <td>NaN</td>\n",
       "      <td>&lt;0.66429</td>\n",
       "      <td>&lt;1.9577</td>\n",
       "    </tr>\n",
       "    <tr>\n",
       "      <th>3</th>\n",
       "      <td>20</td>\n",
       "      <td>J</td>\n",
       "      <td>1.0</td>\n",
       "      <td>1</td>\n",
       "      <td>trolleite</td>\n",
       "      <td>14:11:00</td>\n",
       "      <td>NaN</td>\n",
       "      <td>434.836112</td>\n",
       "      <td>2855.375827</td>\n",
       "      <td>37825.239581</td>\n",
       "      <td>...</td>\n",
       "      <td>3666.43071</td>\n",
       "      <td>862.006039</td>\n",
       "      <td>1900.347217</td>\n",
       "      <td>NaN</td>\n",
       "      <td>1.233901</td>\n",
       "      <td>9.757163</td>\n",
       "      <td>1143.178165</td>\n",
       "      <td>NaN</td>\n",
       "      <td>9.76354</td>\n",
       "      <td>15.726706</td>\n",
       "    </tr>\n",
       "    <tr>\n",
       "      <th>4</th>\n",
       "      <td>20</td>\n",
       "      <td>J</td>\n",
       "      <td>1.0</td>\n",
       "      <td>2b</td>\n",
       "      <td>trolleite</td>\n",
       "      <td>14:16:00</td>\n",
       "      <td>NaN</td>\n",
       "      <td>178.412401</td>\n",
       "      <td>1573.511157</td>\n",
       "      <td>36780.957507</td>\n",
       "      <td>...</td>\n",
       "      <td>&lt;491.3925</td>\n",
       "      <td>&lt;826.9806</td>\n",
       "      <td>1311.715072</td>\n",
       "      <td>NaN</td>\n",
       "      <td>&lt;1.007</td>\n",
       "      <td>&lt;28.6566</td>\n",
       "      <td>545.693152</td>\n",
       "      <td>NaN</td>\n",
       "      <td>&lt;1.6585</td>\n",
       "      <td>&lt;11.6703</td>\n",
       "    </tr>\n",
       "    <tr>\n",
       "      <th>...</th>\n",
       "      <td>...</td>\n",
       "      <td>...</td>\n",
       "      <td>...</td>\n",
       "      <td>...</td>\n",
       "      <td>...</td>\n",
       "      <td>...</td>\n",
       "      <td>...</td>\n",
       "      <td>...</td>\n",
       "      <td>...</td>\n",
       "      <td>...</td>\n",
       "      <td>...</td>\n",
       "      <td>...</td>\n",
       "      <td>...</td>\n",
       "      <td>...</td>\n",
       "      <td>...</td>\n",
       "      <td>...</td>\n",
       "      <td>...</td>\n",
       "      <td>...</td>\n",
       "      <td>...</td>\n",
       "      <td>...</td>\n",
       "      <td>...</td>\n",
       "    </tr>\n",
       "    <tr>\n",
       "      <th>163</th>\n",
       "      <td>19(2)</td>\n",
       "      <td>C</td>\n",
       "      <td>2</td>\n",
       "      <td>wyl</td>\n",
       "      <td>wyllieite</td>\n",
       "      <td>16:24:00</td>\n",
       "      <td>Wyl-matrix</td>\n",
       "      <td>&lt;2.7868</td>\n",
       "      <td>&lt;14.9017</td>\n",
       "      <td>63123.179629</td>\n",
       "      <td>...</td>\n",
       "      <td>113561.695469</td>\n",
       "      <td>94236.435981</td>\n",
       "      <td>&lt;0.39905</td>\n",
       "      <td>1.623696</td>\n",
       "      <td>0.070576</td>\n",
       "      <td>&lt;1.3492</td>\n",
       "      <td>&lt;0.43114</td>\n",
       "      <td>&lt;0.64908</td>\n",
       "      <td>&lt;0.19826</td>\n",
       "      <td>1.02802</td>\n",
       "    </tr>\n",
       "    <tr>\n",
       "      <th>164</th>\n",
       "      <td>19</td>\n",
       "      <td>E</td>\n",
       "      <td>11b</td>\n",
       "      <td>3</td>\n",
       "      <td>quartz</td>\n",
       "      <td>16:06:00</td>\n",
       "      <td>NaN</td>\n",
       "      <td>8139.744285</td>\n",
       "      <td>&lt;1131.2472</td>\n",
       "      <td>36895.330495</td>\n",
       "      <td>...</td>\n",
       "      <td>21750.053796</td>\n",
       "      <td>11944.60507</td>\n",
       "      <td>1293.324711</td>\n",
       "      <td>367.649885</td>\n",
       "      <td>&lt;12.5783</td>\n",
       "      <td>&lt;114.3945</td>\n",
       "      <td>111.557053</td>\n",
       "      <td>936.884638</td>\n",
       "      <td>&lt;22.7527</td>\n",
       "      <td>&lt;95.5103</td>\n",
       "    </tr>\n",
       "    <tr>\n",
       "      <th>165</th>\n",
       "      <td>19</td>\n",
       "      <td>E</td>\n",
       "      <td>11b</td>\n",
       "      <td>4</td>\n",
       "      <td>quartz</td>\n",
       "      <td>16:10:00</td>\n",
       "      <td>NaN</td>\n",
       "      <td>&lt;116.2199</td>\n",
       "      <td>1602.664237</td>\n",
       "      <td>43288.551278</td>\n",
       "      <td>...</td>\n",
       "      <td>1539.850901</td>\n",
       "      <td>&lt;1580.1095</td>\n",
       "      <td>1596.468023</td>\n",
       "      <td>278.828777</td>\n",
       "      <td>18.621208</td>\n",
       "      <td>151.316832</td>\n",
       "      <td>274.385185</td>\n",
       "      <td>135.987287</td>\n",
       "      <td>&lt;10.3592</td>\n",
       "      <td>162.805301</td>\n",
       "    </tr>\n",
       "    <tr>\n",
       "      <th>166</th>\n",
       "      <td>4</td>\n",
       "      <td>C</td>\n",
       "      <td>8</td>\n",
       "      <td>4</td>\n",
       "      <td>trolleite</td>\n",
       "      <td>16:45:00</td>\n",
       "      <td>2shots</td>\n",
       "      <td>3160.320899</td>\n",
       "      <td>1451.754807</td>\n",
       "      <td>29383.474629</td>\n",
       "      <td>...</td>\n",
       "      <td>1266.046399</td>\n",
       "      <td>&lt;667.382</td>\n",
       "      <td>2713.85015</td>\n",
       "      <td>&lt;3.1026</td>\n",
       "      <td>2.093393</td>\n",
       "      <td>&lt;25.7419</td>\n",
       "      <td>488.197384</td>\n",
       "      <td>&lt;29.6833</td>\n",
       "      <td>&lt;3.8746</td>\n",
       "      <td>&lt;16.6224</td>\n",
       "    </tr>\n",
       "    <tr>\n",
       "      <th>167</th>\n",
       "      <td>4</td>\n",
       "      <td>C</td>\n",
       "      <td>8</td>\n",
       "      <td>5</td>\n",
       "      <td>trolleite</td>\n",
       "      <td>16:49:00</td>\n",
       "      <td>NaN</td>\n",
       "      <td>95.142198</td>\n",
       "      <td>1504.879588</td>\n",
       "      <td>48470.078537</td>\n",
       "      <td>...</td>\n",
       "      <td>&lt;137.0932</td>\n",
       "      <td>&lt;495.1902</td>\n",
       "      <td>1616.601743</td>\n",
       "      <td>&lt;2.4637</td>\n",
       "      <td>&lt;1.6151</td>\n",
       "      <td>&lt;18.6897</td>\n",
       "      <td>300.942542</td>\n",
       "      <td>&lt;16.6584</td>\n",
       "      <td>&lt;2.5397</td>\n",
       "      <td>&lt;12.8505</td>\n",
       "    </tr>\n",
       "  </tbody>\n",
       "</table>\n",
       "<p>168 rows × 29 columns</p>\n",
       "</div>"
      ],
      "text/plain": [
       "    sample piece field analysis         Host      Time        Info  \\\n",
       "0       20     B   4.0        1  bertossaite  14:36:00         NaN   \n",
       "1       20     B   4.0        2  bertossaite  14:41:00         NaN   \n",
       "2       20     B   4.0       3b  bertossaite  14:49:00         NaN   \n",
       "3       20     J   1.0        1    trolleite  14:11:00         NaN   \n",
       "4       20     J   1.0       2b    trolleite  14:16:00         NaN   \n",
       "..     ...   ...   ...      ...          ...       ...         ...   \n",
       "163  19(2)     C     2      wyl    wyllieite  16:24:00  Wyl-matrix   \n",
       "164     19     E   11b        3       quartz  16:06:00         NaN   \n",
       "165     19     E   11b        4       quartz  16:10:00         NaN   \n",
       "166      4     C     8        4    trolleite  16:45:00      2shots   \n",
       "167      4     C     8        5    trolleite  16:49:00         NaN   \n",
       "\n",
       "             Li7          B11          Na23  ...           Fe56          Fe57  \\\n",
       "0        <8.1678   243.017826  44286.873509  ...     380.788387     <134.2921   \n",
       "1    4364.129983   283.372066  40731.651892  ...      <170.9541     <310.2672   \n",
       "2    6460.774841   236.260499  35981.020799  ...    1071.500697     559.03085   \n",
       "3     434.836112  2855.375827  37825.239581  ...     3666.43071    862.006039   \n",
       "4     178.412401  1573.511157  36780.957507  ...      <491.3925     <826.9806   \n",
       "..           ...          ...           ...  ...            ...           ...   \n",
       "163      <2.7868     <14.9017  63123.179629  ...  113561.695469  94236.435981   \n",
       "164  8139.744285   <1131.2472  36895.330495  ...   21750.053796   11944.60507   \n",
       "165    <116.2199  1602.664237  43288.551278  ...    1539.850901    <1580.1095   \n",
       "166  3160.320899  1451.754807  29383.474629  ...    1266.046399      <667.382   \n",
       "167    95.142198  1504.879588  48470.078537  ...      <137.0932     <495.1902   \n",
       "\n",
       "            Rb85        Sr88       Nb93       Sn118        Cs133       Ba137  \\\n",
       "0     798.763019         NaN  <0.089087     <4.4638   571.702701         NaN   \n",
       "1     771.347476         NaN   <0.48308    <10.8423   706.986291         NaN   \n",
       "2     745.991087         NaN   <0.31016     <7.8353   535.075053         NaN   \n",
       "3    1900.347217         NaN   1.233901    9.757163  1143.178165         NaN   \n",
       "4    1311.715072         NaN     <1.007    <28.6566   545.693152         NaN   \n",
       "..           ...         ...        ...         ...          ...         ...   \n",
       "163     <0.39905    1.623696   0.070576     <1.3492     <0.43114    <0.64908   \n",
       "164  1293.324711  367.649885   <12.5783   <114.3945   111.557053  936.884638   \n",
       "165  1596.468023  278.828777  18.621208  151.316832   274.385185  135.987287   \n",
       "166   2713.85015     <3.1026   2.093393    <25.7419   488.197384    <29.6833   \n",
       "167  1616.601743     <2.4637    <1.6151    <18.6897   300.942542    <16.6584   \n",
       "\n",
       "        Ta181        W182  \n",
       "0    <0.38684     <1.4856  \n",
       "1    <0.89823     <4.1129  \n",
       "2    <0.66429     <1.9577  \n",
       "3     9.76354   15.726706  \n",
       "4     <1.6585    <11.6703  \n",
       "..        ...         ...  \n",
       "163  <0.19826     1.02802  \n",
       "164  <22.7527    <95.5103  \n",
       "165  <10.3592  162.805301  \n",
       "166   <3.8746    <16.6224  \n",
       "167   <2.5397    <12.8505  \n",
       "\n",
       "[168 rows x 29 columns]"
      ]
     },
     "execution_count": 3,
     "metadata": {},
     "output_type": "execute_result"
    }
   ],
   "source": [
    "# --- create a single dataframe with all files in the list\n",
    "\n",
    "df_raw = pd.DataFrame()\n",
    "\n",
    "    # -- loop in the file list, get relevant data and append to combined dataframe\n",
    "for file in txt_files:\n",
    "    print(file)\n",
    "    df = pd.read_excel(file, skiprows = (0,1,2,3,4,5,6,7,9), na_values=None) #skiprows in the start of the file, before actual data\n",
    "    blank_df = df.loc[df.isnull().all(1)] #creates a dataframe showing where blank lines are located\n",
    "\n",
    "        # - here is a condition to remove everything after the relevant data (multidata input file, only first part is required)\n",
    "    if len(blank_df) > 0: #check if there are indeed blank lines in the df\n",
    "        first_blank_index = blank_df.index[0]  #locate index of first blank line\n",
    "        df = df[:first_blank_index]  #filters data from start of dataframe up to the first blank line\n",
    "    \n",
    "    df_raw = pd.concat((df_raw,df),sort=False,ignore_index = True)\n",
    "    \n",
    "\n",
    "    \n",
    "df_raw = df_raw.rename(columns={\"Sample\": \"sample\", \"Piece\": \"piece\", \"Field\": \"field\", \"Analysis\": \"analysis\"})\n",
    "\n",
    "df_raw"
   ]
  },
  {
   "cell_type": "code",
   "execution_count": 4,
   "id": "bc4ca680",
   "metadata": {},
   "outputs": [
    {
     "name": "stdout",
     "output_type": "stream",
     "text": [
      "Index(['Li7', 'B11', 'Na23', 'Mg24', 'Al27', 'Si29', 'P31', 'K39', 'Ca43',\n",
      "       'Ca44', 'Ti47', 'Mn55', 'Fe56', 'Fe57', 'Rb85', 'Sr88', 'Nb93', 'Sn118',\n",
      "       'Cs133', 'Ba137', 'Ta181', 'W182'],\n",
      "      dtype='object')\n"
     ]
    },
    {
     "data": {
      "text/html": [
       "<div>\n",
       "<style scoped>\n",
       "    .dataframe tbody tr th:only-of-type {\n",
       "        vertical-align: middle;\n",
       "    }\n",
       "\n",
       "    .dataframe tbody tr th {\n",
       "        vertical-align: top;\n",
       "    }\n",
       "\n",
       "    .dataframe thead th {\n",
       "        text-align: right;\n",
       "    }\n",
       "</style>\n",
       "<table border=\"1\" class=\"dataframe\">\n",
       "  <thead>\n",
       "    <tr style=\"text-align: right;\">\n",
       "      <th></th>\n",
       "      <th>Li7</th>\n",
       "      <th>B11</th>\n",
       "      <th>Na23</th>\n",
       "      <th>Mg24</th>\n",
       "      <th>Al27</th>\n",
       "      <th>Si29</th>\n",
       "      <th>P31</th>\n",
       "      <th>K39</th>\n",
       "      <th>Ca43</th>\n",
       "      <th>Ca44</th>\n",
       "      <th>...</th>\n",
       "      <th>Fe56</th>\n",
       "      <th>Fe57</th>\n",
       "      <th>Rb85</th>\n",
       "      <th>Sr88</th>\n",
       "      <th>Nb93</th>\n",
       "      <th>Sn118</th>\n",
       "      <th>Cs133</th>\n",
       "      <th>Ba137</th>\n",
       "      <th>Ta181</th>\n",
       "      <th>W182</th>\n",
       "    </tr>\n",
       "  </thead>\n",
       "  <tbody>\n",
       "    <tr>\n",
       "      <th>0</th>\n",
       "      <td>&lt;8.1678</td>\n",
       "      <td>243.017826</td>\n",
       "      <td>44286.873509</td>\n",
       "      <td>&lt;1.3586</td>\n",
       "      <td>&lt;7.6038</td>\n",
       "      <td>NaN</td>\n",
       "      <td>19621.767193</td>\n",
       "      <td>17304.44194</td>\n",
       "      <td>&lt;2093.9036</td>\n",
       "      <td>&lt;787.0589</td>\n",
       "      <td>...</td>\n",
       "      <td>380.788387</td>\n",
       "      <td>&lt;134.2921</td>\n",
       "      <td>798.763019</td>\n",
       "      <td>NaN</td>\n",
       "      <td>&lt;0.089087</td>\n",
       "      <td>&lt;4.4638</td>\n",
       "      <td>571.702701</td>\n",
       "      <td>NaN</td>\n",
       "      <td>&lt;0.38684</td>\n",
       "      <td>&lt;1.4856</td>\n",
       "    </tr>\n",
       "    <tr>\n",
       "      <th>1</th>\n",
       "      <td>4364.129983</td>\n",
       "      <td>283.372066</td>\n",
       "      <td>40731.651892</td>\n",
       "      <td>&lt;2.4529</td>\n",
       "      <td>&lt;17.9401</td>\n",
       "      <td>NaN</td>\n",
       "      <td>28551.259407</td>\n",
       "      <td>12733.89934</td>\n",
       "      <td>&lt;4745.4249</td>\n",
       "      <td>&lt;1848.0081</td>\n",
       "      <td>...</td>\n",
       "      <td>&lt;170.9541</td>\n",
       "      <td>&lt;310.2672</td>\n",
       "      <td>771.347476</td>\n",
       "      <td>NaN</td>\n",
       "      <td>&lt;0.48308</td>\n",
       "      <td>&lt;10.8423</td>\n",
       "      <td>706.986291</td>\n",
       "      <td>NaN</td>\n",
       "      <td>&lt;0.89823</td>\n",
       "      <td>&lt;4.1129</td>\n",
       "    </tr>\n",
       "    <tr>\n",
       "      <th>2</th>\n",
       "      <td>6460.774841</td>\n",
       "      <td>236.260499</td>\n",
       "      <td>35981.020799</td>\n",
       "      <td>26.107586</td>\n",
       "      <td>&lt;13.9121</td>\n",
       "      <td>NaN</td>\n",
       "      <td>18063.733313</td>\n",
       "      <td>18817.427948</td>\n",
       "      <td>3784.027315</td>\n",
       "      <td>2765.706974</td>\n",
       "      <td>...</td>\n",
       "      <td>1071.500697</td>\n",
       "      <td>559.03085</td>\n",
       "      <td>745.991087</td>\n",
       "      <td>NaN</td>\n",
       "      <td>&lt;0.31016</td>\n",
       "      <td>&lt;7.8353</td>\n",
       "      <td>535.075053</td>\n",
       "      <td>NaN</td>\n",
       "      <td>&lt;0.66429</td>\n",
       "      <td>&lt;1.9577</td>\n",
       "    </tr>\n",
       "    <tr>\n",
       "      <th>3</th>\n",
       "      <td>434.836112</td>\n",
       "      <td>2855.375827</td>\n",
       "      <td>37825.239581</td>\n",
       "      <td>1496.743447</td>\n",
       "      <td>&lt;13.5197</td>\n",
       "      <td>NaN</td>\n",
       "      <td>19153.614296</td>\n",
       "      <td>31943.847324</td>\n",
       "      <td>&lt;3943.1651</td>\n",
       "      <td>&lt;1431.7765</td>\n",
       "      <td>...</td>\n",
       "      <td>3666.43071</td>\n",
       "      <td>862.006039</td>\n",
       "      <td>1900.347217</td>\n",
       "      <td>NaN</td>\n",
       "      <td>1.233901</td>\n",
       "      <td>9.757163</td>\n",
       "      <td>1143.178165</td>\n",
       "      <td>NaN</td>\n",
       "      <td>9.76354</td>\n",
       "      <td>15.726706</td>\n",
       "    </tr>\n",
       "    <tr>\n",
       "      <th>4</th>\n",
       "      <td>178.412401</td>\n",
       "      <td>1573.511157</td>\n",
       "      <td>36780.957507</td>\n",
       "      <td>206.10789</td>\n",
       "      <td>&lt;43.8831</td>\n",
       "      <td>NaN</td>\n",
       "      <td>&lt;1410.4975</td>\n",
       "      <td>36383.554954</td>\n",
       "      <td>&lt;12348.5107</td>\n",
       "      <td>&lt;4531.7175</td>\n",
       "      <td>...</td>\n",
       "      <td>&lt;491.3925</td>\n",
       "      <td>&lt;826.9806</td>\n",
       "      <td>1311.715072</td>\n",
       "      <td>NaN</td>\n",
       "      <td>&lt;1.007</td>\n",
       "      <td>&lt;28.6566</td>\n",
       "      <td>545.693152</td>\n",
       "      <td>NaN</td>\n",
       "      <td>&lt;1.6585</td>\n",
       "      <td>&lt;11.6703</td>\n",
       "    </tr>\n",
       "    <tr>\n",
       "      <th>...</th>\n",
       "      <td>...</td>\n",
       "      <td>...</td>\n",
       "      <td>...</td>\n",
       "      <td>...</td>\n",
       "      <td>...</td>\n",
       "      <td>...</td>\n",
       "      <td>...</td>\n",
       "      <td>...</td>\n",
       "      <td>...</td>\n",
       "      <td>...</td>\n",
       "      <td>...</td>\n",
       "      <td>...</td>\n",
       "      <td>...</td>\n",
       "      <td>...</td>\n",
       "      <td>...</td>\n",
       "      <td>...</td>\n",
       "      <td>...</td>\n",
       "      <td>...</td>\n",
       "      <td>...</td>\n",
       "      <td>...</td>\n",
       "      <td>...</td>\n",
       "    </tr>\n",
       "    <tr>\n",
       "      <th>163</th>\n",
       "      <td>&lt;2.7868</td>\n",
       "      <td>&lt;14.9017</td>\n",
       "      <td>63123.179629</td>\n",
       "      <td>2901.537923</td>\n",
       "      <td>41173.872107</td>\n",
       "      <td>760.21364</td>\n",
       "      <td>120134.277192</td>\n",
       "      <td>73.471986</td>\n",
       "      <td>4276.485199</td>\n",
       "      <td>4185.040749</td>\n",
       "      <td>...</td>\n",
       "      <td>113561.695469</td>\n",
       "      <td>94236.435981</td>\n",
       "      <td>&lt;0.39905</td>\n",
       "      <td>1.623696</td>\n",
       "      <td>0.070576</td>\n",
       "      <td>&lt;1.3492</td>\n",
       "      <td>&lt;0.43114</td>\n",
       "      <td>&lt;0.64908</td>\n",
       "      <td>&lt;0.19826</td>\n",
       "      <td>1.02802</td>\n",
       "    </tr>\n",
       "    <tr>\n",
       "      <th>164</th>\n",
       "      <td>8139.744285</td>\n",
       "      <td>&lt;1131.2472</td>\n",
       "      <td>36895.330495</td>\n",
       "      <td>872.964919</td>\n",
       "      <td>90889.421741</td>\n",
       "      <td>&lt;23673.358</td>\n",
       "      <td>62522.700636</td>\n",
       "      <td>21365.653601</td>\n",
       "      <td>75412.037448</td>\n",
       "      <td>71596.418822</td>\n",
       "      <td>...</td>\n",
       "      <td>21750.053796</td>\n",
       "      <td>11944.60507</td>\n",
       "      <td>1293.324711</td>\n",
       "      <td>367.649885</td>\n",
       "      <td>&lt;12.5783</td>\n",
       "      <td>&lt;114.3945</td>\n",
       "      <td>111.557053</td>\n",
       "      <td>936.884638</td>\n",
       "      <td>&lt;22.7527</td>\n",
       "      <td>&lt;95.5103</td>\n",
       "    </tr>\n",
       "    <tr>\n",
       "      <th>165</th>\n",
       "      <td>&lt;116.2199</td>\n",
       "      <td>1602.664237</td>\n",
       "      <td>43288.551278</td>\n",
       "      <td>12965.476511</td>\n",
       "      <td>14864.742036</td>\n",
       "      <td>&lt;13933.6769</td>\n",
       "      <td>&lt;2743.4184</td>\n",
       "      <td>30061.625403</td>\n",
       "      <td>&lt;27324.135</td>\n",
       "      <td>&lt;12370.5121</td>\n",
       "      <td>...</td>\n",
       "      <td>1539.850901</td>\n",
       "      <td>&lt;1580.1095</td>\n",
       "      <td>1596.468023</td>\n",
       "      <td>278.828777</td>\n",
       "      <td>18.621208</td>\n",
       "      <td>151.316832</td>\n",
       "      <td>274.385185</td>\n",
       "      <td>135.987287</td>\n",
       "      <td>&lt;10.3592</td>\n",
       "      <td>162.805301</td>\n",
       "    </tr>\n",
       "    <tr>\n",
       "      <th>166</th>\n",
       "      <td>3160.320899</td>\n",
       "      <td>1451.754807</td>\n",
       "      <td>29383.474629</td>\n",
       "      <td>498.86357</td>\n",
       "      <td>&lt;45.2691</td>\n",
       "      <td>&lt;6158.0215</td>\n",
       "      <td>89935.335895</td>\n",
       "      <td>45553.496975</td>\n",
       "      <td>&lt;11018.9869</td>\n",
       "      <td>&lt;5382.4929</td>\n",
       "      <td>...</td>\n",
       "      <td>1266.046399</td>\n",
       "      <td>&lt;667.382</td>\n",
       "      <td>2713.85015</td>\n",
       "      <td>&lt;3.1026</td>\n",
       "      <td>2.093393</td>\n",
       "      <td>&lt;25.7419</td>\n",
       "      <td>488.197384</td>\n",
       "      <td>&lt;29.6833</td>\n",
       "      <td>&lt;3.8746</td>\n",
       "      <td>&lt;16.6224</td>\n",
       "    </tr>\n",
       "    <tr>\n",
       "      <th>167</th>\n",
       "      <td>95.142198</td>\n",
       "      <td>1504.879588</td>\n",
       "      <td>48470.078537</td>\n",
       "      <td>66.357977</td>\n",
       "      <td>&lt;33.652</td>\n",
       "      <td>&lt;4635.569</td>\n",
       "      <td>&lt;889.1145</td>\n",
       "      <td>5418.458838</td>\n",
       "      <td>&lt;8322.9776</td>\n",
       "      <td>&lt;4178.6451</td>\n",
       "      <td>...</td>\n",
       "      <td>&lt;137.0932</td>\n",
       "      <td>&lt;495.1902</td>\n",
       "      <td>1616.601743</td>\n",
       "      <td>&lt;2.4637</td>\n",
       "      <td>&lt;1.6151</td>\n",
       "      <td>&lt;18.6897</td>\n",
       "      <td>300.942542</td>\n",
       "      <td>&lt;16.6584</td>\n",
       "      <td>&lt;2.5397</td>\n",
       "      <td>&lt;12.8505</td>\n",
       "    </tr>\n",
       "  </tbody>\n",
       "</table>\n",
       "<p>168 rows × 22 columns</p>\n",
       "</div>"
      ],
      "text/plain": [
       "             Li7          B11          Na23          Mg24          Al27  \\\n",
       "0        <8.1678   243.017826  44286.873509       <1.3586       <7.6038   \n",
       "1    4364.129983   283.372066  40731.651892       <2.4529      <17.9401   \n",
       "2    6460.774841   236.260499  35981.020799     26.107586      <13.9121   \n",
       "3     434.836112  2855.375827  37825.239581   1496.743447      <13.5197   \n",
       "4     178.412401  1573.511157  36780.957507     206.10789      <43.8831   \n",
       "..           ...          ...           ...           ...           ...   \n",
       "163      <2.7868     <14.9017  63123.179629   2901.537923  41173.872107   \n",
       "164  8139.744285   <1131.2472  36895.330495    872.964919  90889.421741   \n",
       "165    <116.2199  1602.664237  43288.551278  12965.476511  14864.742036   \n",
       "166  3160.320899  1451.754807  29383.474629     498.86357      <45.2691   \n",
       "167    95.142198  1504.879588  48470.078537     66.357977       <33.652   \n",
       "\n",
       "            Si29            P31           K39          Ca43          Ca44  \\\n",
       "0            NaN   19621.767193   17304.44194    <2093.9036     <787.0589   \n",
       "1            NaN   28551.259407   12733.89934    <4745.4249    <1848.0081   \n",
       "2            NaN   18063.733313  18817.427948   3784.027315   2765.706974   \n",
       "3            NaN   19153.614296  31943.847324    <3943.1651    <1431.7765   \n",
       "4            NaN     <1410.4975  36383.554954   <12348.5107    <4531.7175   \n",
       "..           ...            ...           ...           ...           ...   \n",
       "163    760.21364  120134.277192     73.471986   4276.485199   4185.040749   \n",
       "164   <23673.358   62522.700636  21365.653601  75412.037448  71596.418822   \n",
       "165  <13933.6769     <2743.4184  30061.625403    <27324.135   <12370.5121   \n",
       "166   <6158.0215   89935.335895  45553.496975   <11018.9869    <5382.4929   \n",
       "167    <4635.569      <889.1145   5418.458838    <8322.9776    <4178.6451   \n",
       "\n",
       "     ...           Fe56          Fe57         Rb85        Sr88       Nb93  \\\n",
       "0    ...     380.788387     <134.2921   798.763019         NaN  <0.089087   \n",
       "1    ...      <170.9541     <310.2672   771.347476         NaN   <0.48308   \n",
       "2    ...    1071.500697     559.03085   745.991087         NaN   <0.31016   \n",
       "3    ...     3666.43071    862.006039  1900.347217         NaN   1.233901   \n",
       "4    ...      <491.3925     <826.9806  1311.715072         NaN     <1.007   \n",
       "..   ...            ...           ...          ...         ...        ...   \n",
       "163  ...  113561.695469  94236.435981     <0.39905    1.623696   0.070576   \n",
       "164  ...   21750.053796   11944.60507  1293.324711  367.649885   <12.5783   \n",
       "165  ...    1539.850901    <1580.1095  1596.468023  278.828777  18.621208   \n",
       "166  ...    1266.046399      <667.382   2713.85015     <3.1026   2.093393   \n",
       "167  ...      <137.0932     <495.1902  1616.601743     <2.4637    <1.6151   \n",
       "\n",
       "          Sn118        Cs133       Ba137     Ta181        W182  \n",
       "0       <4.4638   571.702701         NaN  <0.38684     <1.4856  \n",
       "1      <10.8423   706.986291         NaN  <0.89823     <4.1129  \n",
       "2       <7.8353   535.075053         NaN  <0.66429     <1.9577  \n",
       "3      9.757163  1143.178165         NaN   9.76354   15.726706  \n",
       "4      <28.6566   545.693152         NaN   <1.6585    <11.6703  \n",
       "..          ...          ...         ...       ...         ...  \n",
       "163     <1.3492     <0.43114    <0.64908  <0.19826     1.02802  \n",
       "164   <114.3945   111.557053  936.884638  <22.7527    <95.5103  \n",
       "165  151.316832   274.385185  135.987287  <10.3592  162.805301  \n",
       "166    <25.7419   488.197384    <29.6833   <3.8746    <16.6224  \n",
       "167    <18.6897   300.942542    <16.6584   <2.5397    <12.8505  \n",
       "\n",
       "[168 rows x 22 columns]"
      ]
     },
     "execution_count": 4,
     "metadata": {},
     "output_type": "execute_result"
    }
   ],
   "source": [
    "df_data = df_raw.drop(['sample', 'piece', 'field', 'analysis', 'Host', 'Time', 'Info'], axis=1)\n",
    "\n",
    "#separate data from metadata - only do calculation in data afterwards\n",
    "df_metadata = df_raw[['sample', 'piece', 'field', 'analysis', 'Host', 'Time', 'Info']]\n",
    "\n",
    "print(df_data.columns)\n",
    "\n",
    "df_data"
   ]
  },
  {
   "cell_type": "code",
   "execution_count": 139,
   "id": "c2db7052",
   "metadata": {},
   "outputs": [
    {
     "data": {
      "text/html": [
       "<div>\n",
       "<style scoped>\n",
       "    .dataframe tbody tr th:only-of-type {\n",
       "        vertical-align: middle;\n",
       "    }\n",
       "\n",
       "    .dataframe tbody tr th {\n",
       "        vertical-align: top;\n",
       "    }\n",
       "\n",
       "    .dataframe thead th {\n",
       "        text-align: right;\n",
       "    }\n",
       "</style>\n",
       "<table border=\"1\" class=\"dataframe\">\n",
       "  <thead>\n",
       "    <tr style=\"text-align: right;\">\n",
       "      <th></th>\n",
       "      <th>Li</th>\n",
       "      <th>B</th>\n",
       "      <th>Na</th>\n",
       "      <th>Mg</th>\n",
       "      <th>Al</th>\n",
       "      <th>Si</th>\n",
       "      <th>P</th>\n",
       "      <th>K</th>\n",
       "      <th>Ca43</th>\n",
       "      <th>Ca44</th>\n",
       "      <th>...</th>\n",
       "      <th>Cs%</th>\n",
       "      <th>B%</th>\n",
       "      <th>Alkalis</th>\n",
       "      <th>sample</th>\n",
       "      <th>piece</th>\n",
       "      <th>field</th>\n",
       "      <th>analysis</th>\n",
       "      <th>Host</th>\n",
       "      <th>Time</th>\n",
       "      <th>Info</th>\n",
       "    </tr>\n",
       "  </thead>\n",
       "  <tbody>\n",
       "    <tr>\n",
       "      <th>0</th>\n",
       "      <td>NaN</td>\n",
       "      <td>243.017826</td>\n",
       "      <td>44286.873509</td>\n",
       "      <td>NaN</td>\n",
       "      <td>NaN</td>\n",
       "      <td>NaN</td>\n",
       "      <td>19621.767193</td>\n",
       "      <td>17304.441940</td>\n",
       "      <td>NaN</td>\n",
       "      <td>NaN</td>\n",
       "      <td>...</td>\n",
       "      <td>0.057170</td>\n",
       "      <td>0.024302</td>\n",
       "      <td>NaN</td>\n",
       "      <td>20</td>\n",
       "      <td>B</td>\n",
       "      <td>4.0</td>\n",
       "      <td>1</td>\n",
       "      <td>bertossaite</td>\n",
       "      <td>14:36:00</td>\n",
       "      <td></td>\n",
       "    </tr>\n",
       "    <tr>\n",
       "      <th>1</th>\n",
       "      <td>4364.129983</td>\n",
       "      <td>283.372066</td>\n",
       "      <td>40731.651892</td>\n",
       "      <td>NaN</td>\n",
       "      <td>NaN</td>\n",
       "      <td>NaN</td>\n",
       "      <td>28551.259407</td>\n",
       "      <td>12733.899340</td>\n",
       "      <td>NaN</td>\n",
       "      <td>NaN</td>\n",
       "      <td>...</td>\n",
       "      <td>0.070699</td>\n",
       "      <td>0.028337</td>\n",
       "      <td>5.930801</td>\n",
       "      <td>20</td>\n",
       "      <td>B</td>\n",
       "      <td>4.0</td>\n",
       "      <td>2</td>\n",
       "      <td>bertossaite</td>\n",
       "      <td>14:41:00</td>\n",
       "      <td></td>\n",
       "    </tr>\n",
       "    <tr>\n",
       "      <th>2</th>\n",
       "      <td>6460.774841</td>\n",
       "      <td>236.260499</td>\n",
       "      <td>35981.020799</td>\n",
       "      <td>26.107586</td>\n",
       "      <td>NaN</td>\n",
       "      <td>NaN</td>\n",
       "      <td>18063.733313</td>\n",
       "      <td>18817.427948</td>\n",
       "      <td>3784.027315</td>\n",
       "      <td>2765.706974</td>\n",
       "      <td>...</td>\n",
       "      <td>0.053508</td>\n",
       "      <td>0.023626</td>\n",
       "      <td>6.254029</td>\n",
       "      <td>20</td>\n",
       "      <td>B</td>\n",
       "      <td>4.0</td>\n",
       "      <td>3b</td>\n",
       "      <td>bertossaite</td>\n",
       "      <td>14:49:00</td>\n",
       "      <td></td>\n",
       "    </tr>\n",
       "    <tr>\n",
       "      <th>3</th>\n",
       "      <td>434.836112</td>\n",
       "      <td>2855.375827</td>\n",
       "      <td>37825.239581</td>\n",
       "      <td>1496.743447</td>\n",
       "      <td>NaN</td>\n",
       "      <td>NaN</td>\n",
       "      <td>19153.614296</td>\n",
       "      <td>31943.847324</td>\n",
       "      <td>NaN</td>\n",
       "      <td>NaN</td>\n",
       "      <td>...</td>\n",
       "      <td>0.114318</td>\n",
       "      <td>0.285538</td>\n",
       "      <td>7.324745</td>\n",
       "      <td>20</td>\n",
       "      <td>J</td>\n",
       "      <td>1.0</td>\n",
       "      <td>1</td>\n",
       "      <td>trolleite</td>\n",
       "      <td>14:11:00</td>\n",
       "      <td></td>\n",
       "    </tr>\n",
       "    <tr>\n",
       "      <th>4</th>\n",
       "      <td>178.412401</td>\n",
       "      <td>1573.511157</td>\n",
       "      <td>36780.957507</td>\n",
       "      <td>206.107890</td>\n",
       "      <td>NaN</td>\n",
       "      <td>NaN</td>\n",
       "      <td>NaN</td>\n",
       "      <td>36383.554954</td>\n",
       "      <td>NaN</td>\n",
       "      <td>NaN</td>\n",
       "      <td>...</td>\n",
       "      <td>0.054569</td>\n",
       "      <td>0.157351</td>\n",
       "      <td>7.520033</td>\n",
       "      <td>20</td>\n",
       "      <td>J</td>\n",
       "      <td>1.0</td>\n",
       "      <td>2b</td>\n",
       "      <td>trolleite</td>\n",
       "      <td>14:16:00</td>\n",
       "      <td></td>\n",
       "    </tr>\n",
       "    <tr>\n",
       "      <th>...</th>\n",
       "      <td>...</td>\n",
       "      <td>...</td>\n",
       "      <td>...</td>\n",
       "      <td>...</td>\n",
       "      <td>...</td>\n",
       "      <td>...</td>\n",
       "      <td>...</td>\n",
       "      <td>...</td>\n",
       "      <td>...</td>\n",
       "      <td>...</td>\n",
       "      <td>...</td>\n",
       "      <td>...</td>\n",
       "      <td>...</td>\n",
       "      <td>...</td>\n",
       "      <td>...</td>\n",
       "      <td>...</td>\n",
       "      <td>...</td>\n",
       "      <td>...</td>\n",
       "      <td>...</td>\n",
       "      <td>...</td>\n",
       "      <td>...</td>\n",
       "    </tr>\n",
       "    <tr>\n",
       "      <th>163</th>\n",
       "      <td>NaN</td>\n",
       "      <td>NaN</td>\n",
       "      <td>63123.179629</td>\n",
       "      <td>2901.537923</td>\n",
       "      <td>41173.872107</td>\n",
       "      <td>760.21364</td>\n",
       "      <td>120134.277192</td>\n",
       "      <td>73.471986</td>\n",
       "      <td>4276.485199</td>\n",
       "      <td>4185.040749</td>\n",
       "      <td>...</td>\n",
       "      <td>NaN</td>\n",
       "      <td>NaN</td>\n",
       "      <td>NaN</td>\n",
       "      <td>19(2)</td>\n",
       "      <td>C</td>\n",
       "      <td>2</td>\n",
       "      <td>wyl</td>\n",
       "      <td>wyllieite</td>\n",
       "      <td>16:24:00</td>\n",
       "      <td>Wyl-matrix</td>\n",
       "    </tr>\n",
       "    <tr>\n",
       "      <th>164</th>\n",
       "      <td>8139.744285</td>\n",
       "      <td>NaN</td>\n",
       "      <td>36895.330495</td>\n",
       "      <td>872.964919</td>\n",
       "      <td>90889.421741</td>\n",
       "      <td>NaN</td>\n",
       "      <td>62522.700636</td>\n",
       "      <td>21365.653601</td>\n",
       "      <td>75412.037448</td>\n",
       "      <td>71596.418822</td>\n",
       "      <td>...</td>\n",
       "      <td>0.011156</td>\n",
       "      <td>NaN</td>\n",
       "      <td>6.780561</td>\n",
       "      <td>19</td>\n",
       "      <td>E</td>\n",
       "      <td>11b</td>\n",
       "      <td>3</td>\n",
       "      <td>quartz</td>\n",
       "      <td>16:06:00</td>\n",
       "      <td></td>\n",
       "    </tr>\n",
       "    <tr>\n",
       "      <th>165</th>\n",
       "      <td>NaN</td>\n",
       "      <td>1602.664237</td>\n",
       "      <td>43288.551278</td>\n",
       "      <td>12965.476511</td>\n",
       "      <td>14864.742036</td>\n",
       "      <td>NaN</td>\n",
       "      <td>NaN</td>\n",
       "      <td>30061.625403</td>\n",
       "      <td>NaN</td>\n",
       "      <td>NaN</td>\n",
       "      <td>...</td>\n",
       "      <td>0.027439</td>\n",
       "      <td>0.160266</td>\n",
       "      <td>NaN</td>\n",
       "      <td>19</td>\n",
       "      <td>E</td>\n",
       "      <td>11b</td>\n",
       "      <td>4</td>\n",
       "      <td>quartz</td>\n",
       "      <td>16:10:00</td>\n",
       "      <td></td>\n",
       "    </tr>\n",
       "    <tr>\n",
       "      <th>166</th>\n",
       "      <td>3160.320899</td>\n",
       "      <td>1451.754807</td>\n",
       "      <td>29383.474629</td>\n",
       "      <td>498.863570</td>\n",
       "      <td>NaN</td>\n",
       "      <td>NaN</td>\n",
       "      <td>89935.335895</td>\n",
       "      <td>45553.496975</td>\n",
       "      <td>NaN</td>\n",
       "      <td>NaN</td>\n",
       "      <td>...</td>\n",
       "      <td>0.048820</td>\n",
       "      <td>0.145175</td>\n",
       "      <td>8.129934</td>\n",
       "      <td>4</td>\n",
       "      <td>C</td>\n",
       "      <td>8</td>\n",
       "      <td>4</td>\n",
       "      <td>trolleite</td>\n",
       "      <td>16:45:00</td>\n",
       "      <td>2shots</td>\n",
       "    </tr>\n",
       "    <tr>\n",
       "      <th>167</th>\n",
       "      <td>95.142198</td>\n",
       "      <td>1504.879588</td>\n",
       "      <td>48470.078537</td>\n",
       "      <td>66.357977</td>\n",
       "      <td>NaN</td>\n",
       "      <td>NaN</td>\n",
       "      <td>NaN</td>\n",
       "      <td>5418.458838</td>\n",
       "      <td>NaN</td>\n",
       "      <td>NaN</td>\n",
       "      <td>...</td>\n",
       "      <td>0.030094</td>\n",
       "      <td>0.150488</td>\n",
       "      <td>5.590122</td>\n",
       "      <td>4</td>\n",
       "      <td>C</td>\n",
       "      <td>8</td>\n",
       "      <td>5</td>\n",
       "      <td>trolleite</td>\n",
       "      <td>16:49:00</td>\n",
       "      <td></td>\n",
       "    </tr>\n",
       "  </tbody>\n",
       "</table>\n",
       "<p>168 rows × 42 columns</p>\n",
       "</div>"
      ],
      "text/plain": [
       "              Li            B            Na            Mg            Al  \\\n",
       "0            NaN   243.017826  44286.873509           NaN           NaN   \n",
       "1    4364.129983   283.372066  40731.651892           NaN           NaN   \n",
       "2    6460.774841   236.260499  35981.020799     26.107586           NaN   \n",
       "3     434.836112  2855.375827  37825.239581   1496.743447           NaN   \n",
       "4     178.412401  1573.511157  36780.957507    206.107890           NaN   \n",
       "..           ...          ...           ...           ...           ...   \n",
       "163          NaN          NaN  63123.179629   2901.537923  41173.872107   \n",
       "164  8139.744285          NaN  36895.330495    872.964919  90889.421741   \n",
       "165          NaN  1602.664237  43288.551278  12965.476511  14864.742036   \n",
       "166  3160.320899  1451.754807  29383.474629    498.863570           NaN   \n",
       "167    95.142198  1504.879588  48470.078537     66.357977           NaN   \n",
       "\n",
       "            Si              P             K          Ca43          Ca44  ...  \\\n",
       "0          NaN   19621.767193  17304.441940           NaN           NaN  ...   \n",
       "1          NaN   28551.259407  12733.899340           NaN           NaN  ...   \n",
       "2          NaN   18063.733313  18817.427948   3784.027315   2765.706974  ...   \n",
       "3          NaN   19153.614296  31943.847324           NaN           NaN  ...   \n",
       "4          NaN            NaN  36383.554954           NaN           NaN  ...   \n",
       "..         ...            ...           ...           ...           ...  ...   \n",
       "163  760.21364  120134.277192     73.471986   4276.485199   4185.040749  ...   \n",
       "164        NaN   62522.700636  21365.653601  75412.037448  71596.418822  ...   \n",
       "165        NaN            NaN  30061.625403           NaN           NaN  ...   \n",
       "166        NaN   89935.335895  45553.496975           NaN           NaN  ...   \n",
       "167        NaN            NaN   5418.458838           NaN           NaN  ...   \n",
       "\n",
       "          Cs%        B%   Alkalis  sample  piece  field  analysis  \\\n",
       "0    0.057170  0.024302       NaN      20      B    4.0         1   \n",
       "1    0.070699  0.028337  5.930801      20      B    4.0         2   \n",
       "2    0.053508  0.023626  6.254029      20      B    4.0        3b   \n",
       "3    0.114318  0.285538  7.324745      20      J    1.0         1   \n",
       "4    0.054569  0.157351  7.520033      20      J    1.0        2b   \n",
       "..        ...       ...       ...     ...    ...    ...       ...   \n",
       "163       NaN       NaN       NaN   19(2)      C      2       wyl   \n",
       "164  0.011156       NaN  6.780561      19      E    11b         3   \n",
       "165  0.027439  0.160266       NaN      19      E    11b         4   \n",
       "166  0.048820  0.145175  8.129934       4      C      8         4   \n",
       "167  0.030094  0.150488  5.590122       4      C      8         5   \n",
       "\n",
       "            Host      Time        Info  \n",
       "0    bertossaite  14:36:00              \n",
       "1    bertossaite  14:41:00              \n",
       "2    bertossaite  14:49:00              \n",
       "3      trolleite  14:11:00              \n",
       "4      trolleite  14:16:00              \n",
       "..           ...       ...         ...  \n",
       "163    wyllieite  16:24:00  Wyl-matrix  \n",
       "164       quartz  16:06:00              \n",
       "165       quartz  16:10:00              \n",
       "166    trolleite  16:45:00      2shots  \n",
       "167    trolleite  16:49:00              \n",
       "\n",
       "[168 rows x 42 columns]"
      ]
     },
     "execution_count": 139,
     "metadata": {},
     "output_type": "execute_result"
    }
   ],
   "source": [
    "df_data_bdl = df_data.copy()\n",
    "\n",
    "#replace values starting with \"<\" (i.e. below detection limit) to value/sqrt(value)\n",
    "#replace negative values with 0\n",
    "# for col_name, col_values in df_data_bdl.iteritems():\n",
    "#     for index, value in enumerate(col_values):\n",
    "#         if type(value) is str:\n",
    "#             value = value.replace('<', '')\n",
    "#             value = float(value)\n",
    "#             if value < 0:\n",
    "#                 df_data_bdl[col_name][index] = 0\n",
    "#             else:\n",
    "#                 df_data_bdl[col_name][index] = (value/(math.sqrt(2)))\n",
    "#         elif value < 0:\n",
    "#             df_data_bdl[col_name][index] = 0    \n",
    "            \n",
    "            \n",
    "df_data_bdl = df_data.replace({'<': np.nan},regex=True)\n",
    "df_data_bdl[df_data_bdl < 0] = 0\n",
    "\n",
    "\n",
    "#rename dataframe columns for simplification\n",
    "df_data_bdl.columns = ['Li', 'B', 'Na', 'Mg', 'Al', 'Si','P', 'K', 'Ca43','Ca44', \n",
    "                       'Ti', 'Mn', 'Fe56', 'Fe57', 'Rb', 'Sr', 'Nb', 'Sn','Cs', 'Ba', 'Ta', 'W']\n",
    "\n",
    "\n",
    "#add columns in the dataframe using iloc characters\n",
    "df_data_bdl[\"Ca\"] = df_data_bdl['Ca43'] + df_data_bdl['Ca44']\n",
    "df_data_bdl[\"Fe\"] = df_data_bdl['Fe56'] + df_data_bdl['Fe57']\n",
    "df_data_bdl[\"NbTa\"] = df_data_bdl['Nb'] + df_data_bdl['Ta']\n",
    "df_data_bdl[\"Nb/Ta\"] = df_data_bdl['Nb'] / (df_data_bdl['Ta'].replace(0, np.nan))\n",
    "df_data_bdl[\"Li/Na\"] = df_data_bdl['Li'] / df_data_bdl['Na']\n",
    "df_data_bdl[\"K/Na\"] = df_data_bdl['K'] / df_data_bdl['Na']\n",
    "\n",
    "df_data_bdl[\"Na%\"] = df_data_bdl['Na'] / 10000\n",
    "df_data_bdl[\"Li%\"] = df_data_bdl['Li'] / 10000\n",
    "df_data_bdl[\"K%\"] = df_data_bdl['K'] / 10000\n",
    "df_data_bdl[\"Rb%\"] = df_data_bdl['Rb'] / 10000\n",
    "df_data_bdl[\"Cs%\"] = df_data_bdl['Cs'] / 10000\n",
    "\n",
    "df_data_bdl[\"B%\"] = df_data_bdl['B'] / 10000\n",
    "\n",
    "df_data_bdl[\"Alkalis\"] = df_data_bdl['Li%'] + df_data_bdl['Na%'] + df_data_bdl['K%'] + df_data_bdl['Rb%'] + df_data_bdl['Cs%']\n",
    "\n",
    "\n",
    "\n",
    "#combine calculated data with metadata\n",
    "df_data_bdl[['sample', 'piece', 'field', 'analysis', 'Host', 'Time', 'Info']] = df_metadata[['sample', 'piece', 'field', 'analysis', 'Host', 'Time', 'Info']]\n",
    "\n",
    "df_data_bdl['Info'] = df_data_bdl['Info'].fillna('')\n",
    "# df_data_bdl = df_data_bdl.fillna(0.0)\n",
    "\n",
    "df_data_bdl"
   ]
  },
  {
   "cell_type": "code",
   "execution_count": 140,
   "id": "a2d423c7",
   "metadata": {},
   "outputs": [
    {
     "data": {
      "text/html": [
       "<div>\n",
       "<style scoped>\n",
       "    .dataframe tbody tr th:only-of-type {\n",
       "        vertical-align: middle;\n",
       "    }\n",
       "\n",
       "    .dataframe tbody tr th {\n",
       "        vertical-align: top;\n",
       "    }\n",
       "\n",
       "    .dataframe thead th {\n",
       "        text-align: right;\n",
       "    }\n",
       "</style>\n",
       "<table border=\"1\" class=\"dataframe\">\n",
       "  <thead>\n",
       "    <tr style=\"text-align: right;\">\n",
       "      <th></th>\n",
       "      <th>sample</th>\n",
       "      <th>piece</th>\n",
       "      <th>field</th>\n",
       "      <th>analysis</th>\n",
       "      <th>Host</th>\n",
       "      <th>Li</th>\n",
       "      <th>B</th>\n",
       "      <th>Na</th>\n",
       "      <th>Mg</th>\n",
       "      <th>Al</th>\n",
       "      <th>...</th>\n",
       "      <th>K/Na</th>\n",
       "      <th>Na%</th>\n",
       "      <th>Li%</th>\n",
       "      <th>K%</th>\n",
       "      <th>Rb%</th>\n",
       "      <th>Cs%</th>\n",
       "      <th>B%</th>\n",
       "      <th>Alkalis</th>\n",
       "      <th>Time</th>\n",
       "      <th>Info</th>\n",
       "    </tr>\n",
       "  </thead>\n",
       "  <tbody>\n",
       "    <tr>\n",
       "      <th>0</th>\n",
       "      <td>BU18FA20</td>\n",
       "      <td>B</td>\n",
       "      <td>ff4</td>\n",
       "      <td>NaN</td>\n",
       "      <td>bertossaite</td>\n",
       "      <td>NaN</td>\n",
       "      <td>243.017826</td>\n",
       "      <td>44286.873509</td>\n",
       "      <td>NaN</td>\n",
       "      <td>NaN</td>\n",
       "      <td>...</td>\n",
       "      <td>0.390735</td>\n",
       "      <td>4.428687</td>\n",
       "      <td>NaN</td>\n",
       "      <td>1.730444</td>\n",
       "      <td>0.079876</td>\n",
       "      <td>0.057170</td>\n",
       "      <td>0.024302</td>\n",
       "      <td>NaN</td>\n",
       "      <td>14:36:00</td>\n",
       "      <td></td>\n",
       "    </tr>\n",
       "    <tr>\n",
       "      <th>1</th>\n",
       "      <td>BU18FA20</td>\n",
       "      <td>B</td>\n",
       "      <td>ff4</td>\n",
       "      <td>NaN</td>\n",
       "      <td>bertossaite</td>\n",
       "      <td>4364.129983</td>\n",
       "      <td>283.372066</td>\n",
       "      <td>40731.651892</td>\n",
       "      <td>NaN</td>\n",
       "      <td>NaN</td>\n",
       "      <td>...</td>\n",
       "      <td>0.312629</td>\n",
       "      <td>4.073165</td>\n",
       "      <td>0.436413</td>\n",
       "      <td>1.273390</td>\n",
       "      <td>0.077135</td>\n",
       "      <td>0.070699</td>\n",
       "      <td>0.028337</td>\n",
       "      <td>5.930801</td>\n",
       "      <td>14:41:00</td>\n",
       "      <td></td>\n",
       "    </tr>\n",
       "    <tr>\n",
       "      <th>2</th>\n",
       "      <td>BU18FA20</td>\n",
       "      <td>B</td>\n",
       "      <td>ff4</td>\n",
       "      <td>NaN</td>\n",
       "      <td>bertossaite</td>\n",
       "      <td>6460.774841</td>\n",
       "      <td>236.260499</td>\n",
       "      <td>35981.020799</td>\n",
       "      <td>26.107586</td>\n",
       "      <td>NaN</td>\n",
       "      <td>...</td>\n",
       "      <td>0.522982</td>\n",
       "      <td>3.598102</td>\n",
       "      <td>0.646077</td>\n",
       "      <td>1.881743</td>\n",
       "      <td>0.074599</td>\n",
       "      <td>0.053508</td>\n",
       "      <td>0.023626</td>\n",
       "      <td>6.254029</td>\n",
       "      <td>14:49:00</td>\n",
       "      <td></td>\n",
       "    </tr>\n",
       "    <tr>\n",
       "      <th>3</th>\n",
       "      <td>BU18FA20</td>\n",
       "      <td>J</td>\n",
       "      <td>ff1</td>\n",
       "      <td>NaN</td>\n",
       "      <td>trolleite</td>\n",
       "      <td>434.836112</td>\n",
       "      <td>2855.375827</td>\n",
       "      <td>37825.239581</td>\n",
       "      <td>1496.743447</td>\n",
       "      <td>NaN</td>\n",
       "      <td>...</td>\n",
       "      <td>0.844511</td>\n",
       "      <td>3.782524</td>\n",
       "      <td>0.043484</td>\n",
       "      <td>3.194385</td>\n",
       "      <td>0.190035</td>\n",
       "      <td>0.114318</td>\n",
       "      <td>0.285538</td>\n",
       "      <td>7.324745</td>\n",
       "      <td>14:11:00</td>\n",
       "      <td></td>\n",
       "    </tr>\n",
       "    <tr>\n",
       "      <th>4</th>\n",
       "      <td>BU18FA20</td>\n",
       "      <td>J</td>\n",
       "      <td>ff1</td>\n",
       "      <td>NaN</td>\n",
       "      <td>trolleite</td>\n",
       "      <td>178.412401</td>\n",
       "      <td>1573.511157</td>\n",
       "      <td>36780.957507</td>\n",
       "      <td>206.107890</td>\n",
       "      <td>NaN</td>\n",
       "      <td>...</td>\n",
       "      <td>0.989195</td>\n",
       "      <td>3.678096</td>\n",
       "      <td>0.017841</td>\n",
       "      <td>3.638355</td>\n",
       "      <td>0.131172</td>\n",
       "      <td>0.054569</td>\n",
       "      <td>0.157351</td>\n",
       "      <td>7.520033</td>\n",
       "      <td>14:16:00</td>\n",
       "      <td></td>\n",
       "    </tr>\n",
       "    <tr>\n",
       "      <th>...</th>\n",
       "      <td>...</td>\n",
       "      <td>...</td>\n",
       "      <td>...</td>\n",
       "      <td>...</td>\n",
       "      <td>...</td>\n",
       "      <td>...</td>\n",
       "      <td>...</td>\n",
       "      <td>...</td>\n",
       "      <td>...</td>\n",
       "      <td>...</td>\n",
       "      <td>...</td>\n",
       "      <td>...</td>\n",
       "      <td>...</td>\n",
       "      <td>...</td>\n",
       "      <td>...</td>\n",
       "      <td>...</td>\n",
       "      <td>...</td>\n",
       "      <td>...</td>\n",
       "      <td>...</td>\n",
       "      <td>...</td>\n",
       "      <td>...</td>\n",
       "    </tr>\n",
       "    <tr>\n",
       "      <th>161</th>\n",
       "      <td>BU18FA4</td>\n",
       "      <td>C</td>\n",
       "      <td>ff8</td>\n",
       "      <td>NaN</td>\n",
       "      <td>trolleite</td>\n",
       "      <td>1817.131781</td>\n",
       "      <td>1813.854015</td>\n",
       "      <td>25485.231543</td>\n",
       "      <td>30.366298</td>\n",
       "      <td>NaN</td>\n",
       "      <td>...</td>\n",
       "      <td>2.368727</td>\n",
       "      <td>2.548523</td>\n",
       "      <td>0.181713</td>\n",
       "      <td>6.036756</td>\n",
       "      <td>0.264373</td>\n",
       "      <td>0.039088</td>\n",
       "      <td>0.181385</td>\n",
       "      <td>9.070454</td>\n",
       "      <td>16:39:00</td>\n",
       "      <td></td>\n",
       "    </tr>\n",
       "    <tr>\n",
       "      <th>164</th>\n",
       "      <td>BU18FA19</td>\n",
       "      <td>E</td>\n",
       "      <td>ff11b</td>\n",
       "      <td>NaN</td>\n",
       "      <td>quartz</td>\n",
       "      <td>8139.744285</td>\n",
       "      <td>NaN</td>\n",
       "      <td>36895.330495</td>\n",
       "      <td>872.964919</td>\n",
       "      <td>90889.421741</td>\n",
       "      <td>...</td>\n",
       "      <td>0.579088</td>\n",
       "      <td>3.689533</td>\n",
       "      <td>0.813974</td>\n",
       "      <td>2.136565</td>\n",
       "      <td>0.129332</td>\n",
       "      <td>0.011156</td>\n",
       "      <td>NaN</td>\n",
       "      <td>6.780561</td>\n",
       "      <td>16:06:00</td>\n",
       "      <td></td>\n",
       "    </tr>\n",
       "    <tr>\n",
       "      <th>165</th>\n",
       "      <td>BU18FA19</td>\n",
       "      <td>E</td>\n",
       "      <td>ff11b</td>\n",
       "      <td>NaN</td>\n",
       "      <td>quartz</td>\n",
       "      <td>NaN</td>\n",
       "      <td>1602.664237</td>\n",
       "      <td>43288.551278</td>\n",
       "      <td>12965.476511</td>\n",
       "      <td>14864.742036</td>\n",
       "      <td>...</td>\n",
       "      <td>0.694447</td>\n",
       "      <td>4.328855</td>\n",
       "      <td>NaN</td>\n",
       "      <td>3.006163</td>\n",
       "      <td>0.159647</td>\n",
       "      <td>0.027439</td>\n",
       "      <td>0.160266</td>\n",
       "      <td>NaN</td>\n",
       "      <td>16:10:00</td>\n",
       "      <td></td>\n",
       "    </tr>\n",
       "    <tr>\n",
       "      <th>166</th>\n",
       "      <td>BU18FA4</td>\n",
       "      <td>C</td>\n",
       "      <td>ff8</td>\n",
       "      <td>NaN</td>\n",
       "      <td>trolleite</td>\n",
       "      <td>3160.320899</td>\n",
       "      <td>1451.754807</td>\n",
       "      <td>29383.474629</td>\n",
       "      <td>498.863570</td>\n",
       "      <td>NaN</td>\n",
       "      <td>...</td>\n",
       "      <td>1.550310</td>\n",
       "      <td>2.938347</td>\n",
       "      <td>0.316032</td>\n",
       "      <td>4.555350</td>\n",
       "      <td>0.271385</td>\n",
       "      <td>0.048820</td>\n",
       "      <td>0.145175</td>\n",
       "      <td>8.129934</td>\n",
       "      <td>16:45:00</td>\n",
       "      <td>2shots</td>\n",
       "    </tr>\n",
       "    <tr>\n",
       "      <th>167</th>\n",
       "      <td>BU18FA4</td>\n",
       "      <td>C</td>\n",
       "      <td>ff8</td>\n",
       "      <td>NaN</td>\n",
       "      <td>trolleite</td>\n",
       "      <td>95.142198</td>\n",
       "      <td>1504.879588</td>\n",
       "      <td>48470.078537</td>\n",
       "      <td>66.357977</td>\n",
       "      <td>NaN</td>\n",
       "      <td>...</td>\n",
       "      <td>0.111790</td>\n",
       "      <td>4.847008</td>\n",
       "      <td>0.009514</td>\n",
       "      <td>0.541846</td>\n",
       "      <td>0.161660</td>\n",
       "      <td>0.030094</td>\n",
       "      <td>0.150488</td>\n",
       "      <td>5.590122</td>\n",
       "      <td>16:49:00</td>\n",
       "      <td></td>\n",
       "    </tr>\n",
       "  </tbody>\n",
       "</table>\n",
       "<p>120 rows × 42 columns</p>\n",
       "</div>"
      ],
      "text/plain": [
       "       sample piece  field analysis         Host           Li            B  \\\n",
       "0    BU18FA20     B    ff4      NaN  bertossaite          NaN   243.017826   \n",
       "1    BU18FA20     B    ff4      NaN  bertossaite  4364.129983   283.372066   \n",
       "2    BU18FA20     B    ff4      NaN  bertossaite  6460.774841   236.260499   \n",
       "3    BU18FA20     J    ff1      NaN    trolleite   434.836112  2855.375827   \n",
       "4    BU18FA20     J    ff1      NaN    trolleite   178.412401  1573.511157   \n",
       "..        ...   ...    ...      ...          ...          ...          ...   \n",
       "161   BU18FA4     C    ff8      NaN    trolleite  1817.131781  1813.854015   \n",
       "164  BU18FA19     E  ff11b      NaN       quartz  8139.744285          NaN   \n",
       "165  BU18FA19     E  ff11b      NaN       quartz          NaN  1602.664237   \n",
       "166   BU18FA4     C    ff8      NaN    trolleite  3160.320899  1451.754807   \n",
       "167   BU18FA4     C    ff8      NaN    trolleite    95.142198  1504.879588   \n",
       "\n",
       "               Na            Mg            Al  ...      K/Na       Na%  \\\n",
       "0    44286.873509           NaN           NaN  ...  0.390735  4.428687   \n",
       "1    40731.651892           NaN           NaN  ...  0.312629  4.073165   \n",
       "2    35981.020799     26.107586           NaN  ...  0.522982  3.598102   \n",
       "3    37825.239581   1496.743447           NaN  ...  0.844511  3.782524   \n",
       "4    36780.957507    206.107890           NaN  ...  0.989195  3.678096   \n",
       "..            ...           ...           ...  ...       ...       ...   \n",
       "161  25485.231543     30.366298           NaN  ...  2.368727  2.548523   \n",
       "164  36895.330495    872.964919  90889.421741  ...  0.579088  3.689533   \n",
       "165  43288.551278  12965.476511  14864.742036  ...  0.694447  4.328855   \n",
       "166  29383.474629    498.863570           NaN  ...  1.550310  2.938347   \n",
       "167  48470.078537     66.357977           NaN  ...  0.111790  4.847008   \n",
       "\n",
       "          Li%        K%       Rb%       Cs%        B%   Alkalis      Time  \\\n",
       "0         NaN  1.730444  0.079876  0.057170  0.024302       NaN  14:36:00   \n",
       "1    0.436413  1.273390  0.077135  0.070699  0.028337  5.930801  14:41:00   \n",
       "2    0.646077  1.881743  0.074599  0.053508  0.023626  6.254029  14:49:00   \n",
       "3    0.043484  3.194385  0.190035  0.114318  0.285538  7.324745  14:11:00   \n",
       "4    0.017841  3.638355  0.131172  0.054569  0.157351  7.520033  14:16:00   \n",
       "..        ...       ...       ...       ...       ...       ...       ...   \n",
       "161  0.181713  6.036756  0.264373  0.039088  0.181385  9.070454  16:39:00   \n",
       "164  0.813974  2.136565  0.129332  0.011156       NaN  6.780561  16:06:00   \n",
       "165       NaN  3.006163  0.159647  0.027439  0.160266       NaN  16:10:00   \n",
       "166  0.316032  4.555350  0.271385  0.048820  0.145175  8.129934  16:45:00   \n",
       "167  0.009514  0.541846  0.161660  0.030094  0.150488  5.590122  16:49:00   \n",
       "\n",
       "       Info  \n",
       "0            \n",
       "1            \n",
       "2            \n",
       "3            \n",
       "4            \n",
       "..      ...  \n",
       "161          \n",
       "164          \n",
       "165          \n",
       "166  2shots  \n",
       "167          \n",
       "\n",
       "[120 rows x 42 columns]"
      ]
     },
     "execution_count": 140,
     "metadata": {},
     "output_type": "execute_result"
    }
   ],
   "source": [
    "df_hosts = df_data_bdl[df_data_bdl['Info'].str.contains(\"matri|rutile\")]\n",
    "\n",
    "df_FI = df_data_bdl[~df_data_bdl['Info'].str.contains(\"matri|rutile\")]\n",
    "\n",
    "\n",
    "\n",
    "df_FI = df_FI[['sample', 'piece', 'field', 'analysis', 'Host',\n",
    "               'Li', 'B', 'Na', 'Mg', 'Al', 'Si', 'P', 'K', \n",
    "               'Ca43', 'Ca44', 'Ti', 'Mn','Fe56', 'Fe57', 'Rb', \n",
    "               'Sr', 'Nb', 'Sn', 'Cs', 'Ba', 'Ta', 'W', 'Ca',\n",
    "               'Fe', 'NbTa', 'Nb/Ta', 'Li/Na', 'K/Na', 'Na%', \n",
    "               'Li%', 'K%', 'Rb%','Cs%', 'B%', 'Alkalis',\n",
    "               'Time', 'Info']]\n",
    "\n",
    "\n",
    "\n",
    "df_FI['sample'] = 'BU18FA' + df_FI['sample'].astype(str)\n",
    "df_FI['field'] = 'ff' + df_FI['field'].astype(str).replace(('.0'),(''),regex=True)\n",
    "df_FI['analysis'] = 'fi0' + df_hosts['analysis'].astype(str)\n",
    "\n",
    "\n",
    "# df_FI.to_csv(base_dir+'Buranga_FI_LAICPMS_bdl.csv',index=False)\n",
    "\n",
    "df_FI"
   ]
  },
  {
   "cell_type": "code",
   "execution_count": 75,
   "id": "8d90632b",
   "metadata": {},
   "outputs": [
    {
     "data": {
      "text/html": [
       "<div>\n",
       "<style scoped>\n",
       "    .dataframe tbody tr th:only-of-type {\n",
       "        vertical-align: middle;\n",
       "    }\n",
       "\n",
       "    .dataframe tbody tr th {\n",
       "        vertical-align: top;\n",
       "    }\n",
       "\n",
       "    .dataframe thead th {\n",
       "        text-align: right;\n",
       "    }\n",
       "</style>\n",
       "<table border=\"1\" class=\"dataframe\">\n",
       "  <thead>\n",
       "    <tr style=\"text-align: right;\">\n",
       "      <th></th>\n",
       "      <th>sample</th>\n",
       "      <th>piece</th>\n",
       "      <th>field</th>\n",
       "      <th>analysis</th>\n",
       "      <th>Host</th>\n",
       "      <th>Li</th>\n",
       "      <th>B</th>\n",
       "      <th>Na</th>\n",
       "      <th>Mg</th>\n",
       "      <th>Al</th>\n",
       "      <th>...</th>\n",
       "      <th>K/Na</th>\n",
       "      <th>Na%</th>\n",
       "      <th>Li%</th>\n",
       "      <th>K%</th>\n",
       "      <th>Rb%</th>\n",
       "      <th>Cs%</th>\n",
       "      <th>B%</th>\n",
       "      <th>Alkalis</th>\n",
       "      <th>Time</th>\n",
       "      <th>Info</th>\n",
       "    </tr>\n",
       "  </thead>\n",
       "  <tbody>\n",
       "    <tr>\n",
       "      <th>count</th>\n",
       "      <td>120</td>\n",
       "      <td>120</td>\n",
       "      <td>120</td>\n",
       "      <td>120</td>\n",
       "      <td>120</td>\n",
       "      <td>120.0</td>\n",
       "      <td>120.0</td>\n",
       "      <td>120.000000</td>\n",
       "      <td>120.0</td>\n",
       "      <td>120.0</td>\n",
       "      <td>...</td>\n",
       "      <td>120.0</td>\n",
       "      <td>120.000000</td>\n",
       "      <td>120.0</td>\n",
       "      <td>120.0</td>\n",
       "      <td>120.0</td>\n",
       "      <td>120.0</td>\n",
       "      <td>120.0</td>\n",
       "      <td>120.000000</td>\n",
       "      <td>120</td>\n",
       "      <td>120</td>\n",
       "    </tr>\n",
       "    <tr>\n",
       "      <th>unique</th>\n",
       "      <td>7</td>\n",
       "      <td>6</td>\n",
       "      <td>15</td>\n",
       "      <td>18</td>\n",
       "      <td>6</td>\n",
       "      <td>111.0</td>\n",
       "      <td>111.0</td>\n",
       "      <td>113.000000</td>\n",
       "      <td>117.0</td>\n",
       "      <td>116.0</td>\n",
       "      <td>...</td>\n",
       "      <td>111.0</td>\n",
       "      <td>113.000000</td>\n",
       "      <td>111.0</td>\n",
       "      <td>111.0</td>\n",
       "      <td>111.0</td>\n",
       "      <td>112.0</td>\n",
       "      <td>111.0</td>\n",
       "      <td>113.000000</td>\n",
       "      <td>108</td>\n",
       "      <td>11</td>\n",
       "    </tr>\n",
       "    <tr>\n",
       "      <th>top</th>\n",
       "      <td>BU18FA20</td>\n",
       "      <td>B</td>\n",
       "      <td>ff1</td>\n",
       "      <td>fi01</td>\n",
       "      <td>bertossaite</td>\n",
       "      <td>0.0</td>\n",
       "      <td>0.0</td>\n",
       "      <td>51141.341547</td>\n",
       "      <td>0.0</td>\n",
       "      <td>0.0</td>\n",
       "      <td>...</td>\n",
       "      <td>0.0</td>\n",
       "      <td>5.114134</td>\n",
       "      <td>0.0</td>\n",
       "      <td>0.0</td>\n",
       "      <td>0.0</td>\n",
       "      <td>0.0</td>\n",
       "      <td>0.0</td>\n",
       "      <td>5.114134</td>\n",
       "      <td>15:05:00</td>\n",
       "      <td></td>\n",
       "    </tr>\n",
       "    <tr>\n",
       "      <th>freq</th>\n",
       "      <td>27</td>\n",
       "      <td>44</td>\n",
       "      <td>37</td>\n",
       "      <td>24</td>\n",
       "      <td>39</td>\n",
       "      <td>10.0</td>\n",
       "      <td>10.0</td>\n",
       "      <td>7.000000</td>\n",
       "      <td>4.0</td>\n",
       "      <td>5.0</td>\n",
       "      <td>...</td>\n",
       "      <td>10.0</td>\n",
       "      <td>7.000000</td>\n",
       "      <td>10.0</td>\n",
       "      <td>10.0</td>\n",
       "      <td>10.0</td>\n",
       "      <td>9.0</td>\n",
       "      <td>10.0</td>\n",
       "      <td>7.000000</td>\n",
       "      <td>2</td>\n",
       "      <td>73</td>\n",
       "    </tr>\n",
       "  </tbody>\n",
       "</table>\n",
       "<p>4 rows × 42 columns</p>\n",
       "</div>"
      ],
      "text/plain": [
       "          sample piece field analysis         Host     Li      B  \\\n",
       "count        120   120   120      120          120  120.0  120.0   \n",
       "unique         7     6    15       18            6  111.0  111.0   \n",
       "top     BU18FA20     B   ff1     fi01  bertossaite    0.0    0.0   \n",
       "freq          27    44    37       24           39   10.0   10.0   \n",
       "\n",
       "                  Na     Mg     Al  ...   K/Na         Na%    Li%     K%  \\\n",
       "count     120.000000  120.0  120.0  ...  120.0  120.000000  120.0  120.0   \n",
       "unique    113.000000  117.0  116.0  ...  111.0  113.000000  111.0  111.0   \n",
       "top     51141.341547    0.0    0.0  ...    0.0    5.114134    0.0    0.0   \n",
       "freq        7.000000    4.0    5.0  ...   10.0    7.000000   10.0   10.0   \n",
       "\n",
       "          Rb%    Cs%     B%     Alkalis      Time  Info  \n",
       "count   120.0  120.0  120.0  120.000000       120   120  \n",
       "unique  111.0  112.0  111.0  113.000000       108    11  \n",
       "top       0.0    0.0    0.0    5.114134  15:05:00        \n",
       "freq     10.0    9.0   10.0    7.000000         2    73  \n",
       "\n",
       "[4 rows x 42 columns]"
      ]
     },
     "execution_count": 75,
     "metadata": {},
     "output_type": "execute_result"
    }
   ],
   "source": [
    "df_FI.describe()"
   ]
  },
  {
   "cell_type": "code",
   "execution_count": 152,
   "id": "5103491b",
   "metadata": {},
   "outputs": [
    {
     "data": {
      "application/vnd.plotly.v1+json": {
       "config": {
        "plotlyServerURL": "https://plot.ly"
       },
       "data": [
        {
         "customdata": [
          [
           "J",
           1,
           "M1",
           "matrix-Trl",
           20
          ],
          [
           "J",
           1,
           "M2",
           "matrix-Trl",
           20
          ],
          [
           "A",
           "7b",
           "M2",
           "matrix",
           19
          ],
          [
           "B",
           5,
           4,
           "matrix-trl",
           4
          ],
          [
           "B",
           1,
           "M",
           "matrix-trl",
           19
          ],
          [
           "C",
           1,
           "trl",
           "Trl-matrix",
           22
          ],
          [
           "A",
           "3b",
           "Trl",
           "Trl-matrix",
           22
          ],
          [
           "C",
           8,
           2,
           "Trl-matrix-2shots",
           4
          ]
         ],
         "hovertemplate": "Host=trolleite<br>Nb=%{x}<br>Ta=%{y}<br>piece=%{customdata[0]}<br>field=%{customdata[1]}<br>analysis=%{customdata[2]}<br>Info=%{customdata[3]}<br>sample=%{customdata[4]}<extra></extra>",
         "legendgroup": "trolleite",
         "marker": {
          "color": "#636efa",
          "size": 8,
          "symbol": "circle"
         },
         "mode": "markers",
         "name": "trolleite",
         "orientation": "v",
         "showlegend": true,
         "type": "scatter",
         "x": [
          0.2846731843300221,
          null,
          10.989498548813977,
          2.598095479004982,
          1.0889434047084803,
          0.31584242476304397,
          0.7473307528751673,
          null
         ],
         "xaxis": "x",
         "y": [
          5.710175600256571,
          null,
          null,
          25.366345904818406,
          38.80016277981929,
          null,
          null,
          null
         ],
         "yaxis": "y"
        },
        {
         "customdata": [
          [
           "B",
           4,
           "M3",
           "matrix-Bts",
           20
          ],
          [
           "B",
           4,
           "M4",
           "matrix-Bts",
           20
          ],
          [
           "A",
           3,
           "M",
           "matrix-bts",
           4
          ],
          [
           "B",
           6,
           3,
           "Bst-matrix-2shots-10hz",
           4
          ],
          [
           "B",
           6,
           7,
           "Bst-matrix-2shots",
           4
          ],
          [
           "B",
           7,
           4,
           "Bst-matrix-2shots",
           4
          ],
          [
           "F",
           "Ar7",
           "Bst",
           "Bst-matrix",
           19
          ],
          [
           "E",
           11,
           1,
           "Bts-matrix-2shots",
           19
          ],
          [
           "E",
           11,
           12,
           "Bts-matrix-3shots",
           19
          ],
          [
           "E",
           11,
           "M",
           "Bts-matrix",
           19
          ],
          [
           "B",
           2,
           6,
           "Bts-matrix-2shots",
           20
          ],
          [
           "B",
           4,
           10,
           "Bst-matrix-3shots",
           20
          ],
          [
           "C",
           2,
           "3 (copy)",
           "Bst-matrix-2shots",
           22
          ],
          [
           "C",
           3,
           1,
           "Bts-matrix-3shots",
           22
          ],
          [
           "C",
           1,
           "M",
           "Bts-matrix",
           20
          ]
         ],
         "hovertemplate": "Host=bertossaite<br>Nb=%{x}<br>Ta=%{y}<br>piece=%{customdata[0]}<br>field=%{customdata[1]}<br>analysis=%{customdata[2]}<br>Info=%{customdata[3]}<br>sample=%{customdata[4]}<extra></extra>",
         "legendgroup": "bertossaite",
         "marker": {
          "color": "#EF553B",
          "size": 8,
          "symbol": "diamond"
         },
         "mode": "markers",
         "name": "bertossaite",
         "orientation": "v",
         "showlegend": true,
         "type": "scatter",
         "x": [
          null,
          null,
          0.15630351900160983,
          0.5921122501973901,
          null,
          0.33680454985221764,
          null,
          null,
          null,
          0.05833830424613652,
          0.09739255495961821,
          null,
          null,
          null,
          null
         ],
         "xaxis": "x",
         "y": [
          0.6102380769806706,
          0.7013994298215959,
          3.9071319520542516,
          6.725319463017819,
          null,
          3.112158554122777,
          0.4860870033891586,
          0.3386280046428565,
          null,
          0.19488155978424432,
          0.5270482139174656,
          0.7858772598343942,
          null,
          null,
          0.5828368563546412
         ],
         "yaxis": "y"
        },
        {
         "customdata": [
          [
           "F",
           "Ar7",
           "M",
           "Rsm-matrix",
           19
          ],
          [
           "F",
           "Ar7",
           "M2",
           "Rsm-matrix",
           19
          ],
          [
           "C",
           2,
           "M",
           "Rsm-matric",
           "19(2)"
          ]
         ],
         "hovertemplate": "Host=rosemaryite<br>Nb=%{x}<br>Ta=%{y}<br>piece=%{customdata[0]}<br>field=%{customdata[1]}<br>analysis=%{customdata[2]}<br>Info=%{customdata[3]}<br>sample=%{customdata[4]}<extra></extra>",
         "legendgroup": "rosemaryite",
         "marker": {
          "color": "#00cc96",
          "size": 8,
          "symbol": "square"
         },
         "mode": "markers",
         "name": "rosemaryite",
         "orientation": "v",
         "showlegend": true,
         "type": "scatter",
         "x": [
          1.2082340014885542,
          0.5559802606200104,
          8.041616251345015
         ],
         "xaxis": "x",
         "y": [
          1.1222236559811576,
          0.4639035825223678,
          0.9291626917044897
         ],
         "yaxis": "y"
        },
        {
         "customdata": [
          [
           "C",
           1,
           "scz",
           "Scz-matrix",
           22
          ],
          [
           "C",
           6,
           "scz",
           "Scz-matrix",
           22
          ]
         ],
         "hovertemplate": "Host=scorzalite<br>Nb=%{x}<br>Ta=%{y}<br>piece=%{customdata[0]}<br>field=%{customdata[1]}<br>analysis=%{customdata[2]}<br>Info=%{customdata[3]}<br>sample=%{customdata[4]}<extra></extra>",
         "legendgroup": "scorzalite",
         "marker": {
          "color": "#ab63fa",
          "size": 8,
          "symbol": "x"
         },
         "mode": "markers",
         "name": "scorzalite",
         "orientation": "v",
         "showlegend": true,
         "type": "scatter",
         "x": [
          37.78142388697037,
          104.83408191140565
         ],
         "xaxis": "x",
         "y": [
          48.32642944736145,
          159.8573049518838
         ],
         "yaxis": "y"
        },
        {
         "customdata": [
          [
           "C",
           6,
           "mbs",
           "Mbs-matrix",
           22
          ],
          [
           "C",
           7,
           "mbs",
           "Mbs-matrix",
           22
          ],
          [
           "D",
           1,
           "Mbs",
           "Mbs-matrix-dark",
           20
          ],
          [
           "D",
           1,
           "Mbs2",
           "Mbs-matrix-clear",
           20
          ]
         ],
         "hovertemplate": "Host=montebrasite<br>Nb=%{x}<br>Ta=%{y}<br>piece=%{customdata[0]}<br>field=%{customdata[1]}<br>analysis=%{customdata[2]}<br>Info=%{customdata[3]}<br>sample=%{customdata[4]}<extra></extra>",
         "legendgroup": "montebrasite",
         "marker": {
          "color": "#FFA15A",
          "size": 8,
          "symbol": "cross"
         },
         "mode": "markers",
         "name": "montebrasite",
         "orientation": "v",
         "showlegend": true,
         "type": "scatter",
         "x": [
          20.23892056943158,
          255.50086851179046,
          17.007946634222264,
          16.156164458340548
         ],
         "xaxis": "x",
         "y": [
          74.54741062764062,
          36.30335266268338,
          134.48294939482085,
          225.47733890187132
         ],
         "yaxis": "y"
        },
        {
         "customdata": [
          [
           "A",
           1,
           2,
           "Brz-matrix-3shots",
           32
          ],
          [
           "A",
           1,
           5,
           "Brz-matrix-3shots",
           32
          ],
          [
           "B",
           4,
           "M",
           "Brz-matrix",
           "02a"
          ],
          [
           "B",
           1,
           "6 (copy)",
           "Brz-matrix",
           32
          ],
          [
           "B",
           1,
           "M",
           "Brz-matrix",
           32
          ]
         ],
         "hovertemplate": "Host=brazilianite<br>Nb=%{x}<br>Ta=%{y}<br>piece=%{customdata[0]}<br>field=%{customdata[1]}<br>analysis=%{customdata[2]}<br>Info=%{customdata[3]}<br>sample=%{customdata[4]}<extra></extra>",
         "legendgroup": "brazilianite",
         "marker": {
          "color": "#19d3f3",
          "size": 8,
          "symbol": "circle"
         },
         "mode": "markers",
         "name": "brazilianite",
         "orientation": "v",
         "showlegend": true,
         "type": "scatter",
         "x": [
          1.557412086798706,
          1.6335086459616477,
          0.6424653023474874,
          4.844246646510664,
          2.9083203993089457
         ],
         "xaxis": "x",
         "y": [
          1.7421409226728293,
          1.9682654070741428,
          2.1103944884468673,
          6.2409002304897845,
          2.8990768032634824
         ],
         "yaxis": "y"
        },
        {
         "customdata": [
          [
           "AII",
           "C",
           3,
           "Wyl-matrix-2shots",
           32
          ],
          [
           "AII",
           "C",
           "M",
           "Wyl-matrix",
           32
          ],
          [
           "AII",
           "C",
           "M2",
           "Wyl-matrix",
           32
          ],
          [
           "C",
           2,
           "wyl",
           "Wyl-matrix",
           "19(2)"
          ]
         ],
         "hovertemplate": "Host=wyllieite<br>Nb=%{x}<br>Ta=%{y}<br>piece=%{customdata[0]}<br>field=%{customdata[1]}<br>analysis=%{customdata[2]}<br>Info=%{customdata[3]}<br>sample=%{customdata[4]}<extra></extra>",
         "legendgroup": "wyllieite",
         "marker": {
          "color": "#FF6692",
          "size": 8,
          "symbol": "diamond"
         },
         "mode": "markers",
         "name": "wyllieite",
         "orientation": "v",
         "showlegend": true,
         "type": "scatter",
         "x": [
          null,
          0.021253861023606883,
          0.05197754219044842,
          0.07057602286484119
         ],
         "xaxis": "x",
         "y": [
          null,
          null,
          null,
          null
         ],
         "yaxis": "y"
        },
        {
         "customdata": [
          [
           "A",
           1,
           "1 (copy)",
           "rutile-inclusion",
           "19(2)"
          ],
          [
           "A",
           1,
           6,
           "Aug-matrix",
           "19(2)"
          ],
          [
           "A",
           1,
           "6b",
           "Aug-matrix",
           "19(2)"
          ],
          [
           "A",
           "2b",
           3,
           "Aug-matrix",
           "19(2)"
          ],
          [
           "A",
           "2b",
           6,
           "Aug-matrix",
           "19(2)"
          ],
          [
           "A",
           5,
           1,
           "Aug-matrix-2shots",
           "19(2)"
          ],
          [
           "A",
           5,
           2,
           "Aug-matrix-2shots",
           "19(2)"
          ]
         ],
         "hovertemplate": "Host=augelite<br>Nb=%{x}<br>Ta=%{y}<br>piece=%{customdata[0]}<br>field=%{customdata[1]}<br>analysis=%{customdata[2]}<br>Info=%{customdata[3]}<br>sample=%{customdata[4]}<extra></extra>",
         "legendgroup": "augelite",
         "marker": {
          "color": "#B6E880",
          "size": 8,
          "symbol": "square"
         },
         "mode": "markers",
         "name": "augelite",
         "orientation": "v",
         "showlegend": true,
         "type": "scatter",
         "x": [
          4632.83672419173,
          null,
          null,
          null,
          null,
          null,
          null
         ],
         "xaxis": "x",
         "y": [
          12510.733475009349,
          null,
          null,
          null,
          null,
          null,
          null
         ],
         "yaxis": "y"
        }
       ],
       "layout": {
        "height": 500,
        "legend": {
         "title": {
          "text": "Host"
         },
         "tracegroupgap": 0
        },
        "margin": {
         "t": 60
        },
        "plot_bgcolor": "white",
        "template": {
         "data": {
          "bar": [
           {
            "error_x": {
             "color": "rgb(36,36,36)"
            },
            "error_y": {
             "color": "rgb(36,36,36)"
            },
            "marker": {
             "line": {
              "color": "white",
              "width": 0.5
             }
            },
            "type": "bar"
           }
          ],
          "barpolar": [
           {
            "marker": {
             "line": {
              "color": "white",
              "width": 0.5
             }
            },
            "type": "barpolar"
           }
          ],
          "carpet": [
           {
            "aaxis": {
             "endlinecolor": "rgb(36,36,36)",
             "gridcolor": "white",
             "linecolor": "white",
             "minorgridcolor": "white",
             "startlinecolor": "rgb(36,36,36)"
            },
            "baxis": {
             "endlinecolor": "rgb(36,36,36)",
             "gridcolor": "white",
             "linecolor": "white",
             "minorgridcolor": "white",
             "startlinecolor": "rgb(36,36,36)"
            },
            "type": "carpet"
           }
          ],
          "choropleth": [
           {
            "colorbar": {
             "outlinewidth": 1,
             "tickcolor": "rgb(36,36,36)",
             "ticks": "outside"
            },
            "type": "choropleth"
           }
          ],
          "contour": [
           {
            "colorbar": {
             "outlinewidth": 1,
             "tickcolor": "rgb(36,36,36)",
             "ticks": "outside"
            },
            "colorscale": [
             [
              0,
              "#440154"
             ],
             [
              0.1111111111111111,
              "#482878"
             ],
             [
              0.2222222222222222,
              "#3e4989"
             ],
             [
              0.3333333333333333,
              "#31688e"
             ],
             [
              0.4444444444444444,
              "#26828e"
             ],
             [
              0.5555555555555556,
              "#1f9e89"
             ],
             [
              0.6666666666666666,
              "#35b779"
             ],
             [
              0.7777777777777778,
              "#6ece58"
             ],
             [
              0.8888888888888888,
              "#b5de2b"
             ],
             [
              1,
              "#fde725"
             ]
            ],
            "type": "contour"
           }
          ],
          "contourcarpet": [
           {
            "colorbar": {
             "outlinewidth": 1,
             "tickcolor": "rgb(36,36,36)",
             "ticks": "outside"
            },
            "type": "contourcarpet"
           }
          ],
          "heatmap": [
           {
            "colorbar": {
             "outlinewidth": 1,
             "tickcolor": "rgb(36,36,36)",
             "ticks": "outside"
            },
            "colorscale": [
             [
              0,
              "#440154"
             ],
             [
              0.1111111111111111,
              "#482878"
             ],
             [
              0.2222222222222222,
              "#3e4989"
             ],
             [
              0.3333333333333333,
              "#31688e"
             ],
             [
              0.4444444444444444,
              "#26828e"
             ],
             [
              0.5555555555555556,
              "#1f9e89"
             ],
             [
              0.6666666666666666,
              "#35b779"
             ],
             [
              0.7777777777777778,
              "#6ece58"
             ],
             [
              0.8888888888888888,
              "#b5de2b"
             ],
             [
              1,
              "#fde725"
             ]
            ],
            "type": "heatmap"
           }
          ],
          "heatmapgl": [
           {
            "colorbar": {
             "outlinewidth": 1,
             "tickcolor": "rgb(36,36,36)",
             "ticks": "outside"
            },
            "colorscale": [
             [
              0,
              "#440154"
             ],
             [
              0.1111111111111111,
              "#482878"
             ],
             [
              0.2222222222222222,
              "#3e4989"
             ],
             [
              0.3333333333333333,
              "#31688e"
             ],
             [
              0.4444444444444444,
              "#26828e"
             ],
             [
              0.5555555555555556,
              "#1f9e89"
             ],
             [
              0.6666666666666666,
              "#35b779"
             ],
             [
              0.7777777777777778,
              "#6ece58"
             ],
             [
              0.8888888888888888,
              "#b5de2b"
             ],
             [
              1,
              "#fde725"
             ]
            ],
            "type": "heatmapgl"
           }
          ],
          "histogram": [
           {
            "marker": {
             "line": {
              "color": "white",
              "width": 0.6
             }
            },
            "type": "histogram"
           }
          ],
          "histogram2d": [
           {
            "colorbar": {
             "outlinewidth": 1,
             "tickcolor": "rgb(36,36,36)",
             "ticks": "outside"
            },
            "colorscale": [
             [
              0,
              "#440154"
             ],
             [
              0.1111111111111111,
              "#482878"
             ],
             [
              0.2222222222222222,
              "#3e4989"
             ],
             [
              0.3333333333333333,
              "#31688e"
             ],
             [
              0.4444444444444444,
              "#26828e"
             ],
             [
              0.5555555555555556,
              "#1f9e89"
             ],
             [
              0.6666666666666666,
              "#35b779"
             ],
             [
              0.7777777777777778,
              "#6ece58"
             ],
             [
              0.8888888888888888,
              "#b5de2b"
             ],
             [
              1,
              "#fde725"
             ]
            ],
            "type": "histogram2d"
           }
          ],
          "histogram2dcontour": [
           {
            "colorbar": {
             "outlinewidth": 1,
             "tickcolor": "rgb(36,36,36)",
             "ticks": "outside"
            },
            "colorscale": [
             [
              0,
              "#440154"
             ],
             [
              0.1111111111111111,
              "#482878"
             ],
             [
              0.2222222222222222,
              "#3e4989"
             ],
             [
              0.3333333333333333,
              "#31688e"
             ],
             [
              0.4444444444444444,
              "#26828e"
             ],
             [
              0.5555555555555556,
              "#1f9e89"
             ],
             [
              0.6666666666666666,
              "#35b779"
             ],
             [
              0.7777777777777778,
              "#6ece58"
             ],
             [
              0.8888888888888888,
              "#b5de2b"
             ],
             [
              1,
              "#fde725"
             ]
            ],
            "type": "histogram2dcontour"
           }
          ],
          "mesh3d": [
           {
            "colorbar": {
             "outlinewidth": 1,
             "tickcolor": "rgb(36,36,36)",
             "ticks": "outside"
            },
            "type": "mesh3d"
           }
          ],
          "parcoords": [
           {
            "line": {
             "colorbar": {
              "outlinewidth": 1,
              "tickcolor": "rgb(36,36,36)",
              "ticks": "outside"
             }
            },
            "type": "parcoords"
           }
          ],
          "pie": [
           {
            "automargin": true,
            "type": "pie"
           }
          ],
          "scatter": [
           {
            "marker": {
             "colorbar": {
              "outlinewidth": 1,
              "tickcolor": "rgb(36,36,36)",
              "ticks": "outside"
             }
            },
            "type": "scatter"
           }
          ],
          "scatter3d": [
           {
            "line": {
             "colorbar": {
              "outlinewidth": 1,
              "tickcolor": "rgb(36,36,36)",
              "ticks": "outside"
             }
            },
            "marker": {
             "colorbar": {
              "outlinewidth": 1,
              "tickcolor": "rgb(36,36,36)",
              "ticks": "outside"
             }
            },
            "type": "scatter3d"
           }
          ],
          "scattercarpet": [
           {
            "marker": {
             "colorbar": {
              "outlinewidth": 1,
              "tickcolor": "rgb(36,36,36)",
              "ticks": "outside"
             }
            },
            "type": "scattercarpet"
           }
          ],
          "scattergeo": [
           {
            "marker": {
             "colorbar": {
              "outlinewidth": 1,
              "tickcolor": "rgb(36,36,36)",
              "ticks": "outside"
             }
            },
            "type": "scattergeo"
           }
          ],
          "scattergl": [
           {
            "marker": {
             "colorbar": {
              "outlinewidth": 1,
              "tickcolor": "rgb(36,36,36)",
              "ticks": "outside"
             }
            },
            "type": "scattergl"
           }
          ],
          "scattermapbox": [
           {
            "marker": {
             "colorbar": {
              "outlinewidth": 1,
              "tickcolor": "rgb(36,36,36)",
              "ticks": "outside"
             }
            },
            "type": "scattermapbox"
           }
          ],
          "scatterpolar": [
           {
            "marker": {
             "colorbar": {
              "outlinewidth": 1,
              "tickcolor": "rgb(36,36,36)",
              "ticks": "outside"
             }
            },
            "type": "scatterpolar"
           }
          ],
          "scatterpolargl": [
           {
            "marker": {
             "colorbar": {
              "outlinewidth": 1,
              "tickcolor": "rgb(36,36,36)",
              "ticks": "outside"
             }
            },
            "type": "scatterpolargl"
           }
          ],
          "scatterternary": [
           {
            "marker": {
             "colorbar": {
              "outlinewidth": 1,
              "tickcolor": "rgb(36,36,36)",
              "ticks": "outside"
             }
            },
            "type": "scatterternary"
           }
          ],
          "surface": [
           {
            "colorbar": {
             "outlinewidth": 1,
             "tickcolor": "rgb(36,36,36)",
             "ticks": "outside"
            },
            "colorscale": [
             [
              0,
              "#440154"
             ],
             [
              0.1111111111111111,
              "#482878"
             ],
             [
              0.2222222222222222,
              "#3e4989"
             ],
             [
              0.3333333333333333,
              "#31688e"
             ],
             [
              0.4444444444444444,
              "#26828e"
             ],
             [
              0.5555555555555556,
              "#1f9e89"
             ],
             [
              0.6666666666666666,
              "#35b779"
             ],
             [
              0.7777777777777778,
              "#6ece58"
             ],
             [
              0.8888888888888888,
              "#b5de2b"
             ],
             [
              1,
              "#fde725"
             ]
            ],
            "type": "surface"
           }
          ],
          "table": [
           {
            "cells": {
             "fill": {
              "color": "rgb(237,237,237)"
             },
             "line": {
              "color": "white"
             }
            },
            "header": {
             "fill": {
              "color": "rgb(217,217,217)"
             },
             "line": {
              "color": "white"
             }
            },
            "type": "table"
           }
          ]
         },
         "layout": {
          "annotationdefaults": {
           "arrowhead": 0,
           "arrowwidth": 1
          },
          "autotypenumbers": "strict",
          "coloraxis": {
           "colorbar": {
            "outlinewidth": 1,
            "tickcolor": "rgb(36,36,36)",
            "ticks": "outside"
           }
          },
          "colorscale": {
           "diverging": [
            [
             0,
             "rgb(103,0,31)"
            ],
            [
             0.1,
             "rgb(178,24,43)"
            ],
            [
             0.2,
             "rgb(214,96,77)"
            ],
            [
             0.3,
             "rgb(244,165,130)"
            ],
            [
             0.4,
             "rgb(253,219,199)"
            ],
            [
             0.5,
             "rgb(247,247,247)"
            ],
            [
             0.6,
             "rgb(209,229,240)"
            ],
            [
             0.7,
             "rgb(146,197,222)"
            ],
            [
             0.8,
             "rgb(67,147,195)"
            ],
            [
             0.9,
             "rgb(33,102,172)"
            ],
            [
             1,
             "rgb(5,48,97)"
            ]
           ],
           "sequential": [
            [
             0,
             "#440154"
            ],
            [
             0.1111111111111111,
             "#482878"
            ],
            [
             0.2222222222222222,
             "#3e4989"
            ],
            [
             0.3333333333333333,
             "#31688e"
            ],
            [
             0.4444444444444444,
             "#26828e"
            ],
            [
             0.5555555555555556,
             "#1f9e89"
            ],
            [
             0.6666666666666666,
             "#35b779"
            ],
            [
             0.7777777777777778,
             "#6ece58"
            ],
            [
             0.8888888888888888,
             "#b5de2b"
            ],
            [
             1,
             "#fde725"
            ]
           ],
           "sequentialminus": [
            [
             0,
             "#440154"
            ],
            [
             0.1111111111111111,
             "#482878"
            ],
            [
             0.2222222222222222,
             "#3e4989"
            ],
            [
             0.3333333333333333,
             "#31688e"
            ],
            [
             0.4444444444444444,
             "#26828e"
            ],
            [
             0.5555555555555556,
             "#1f9e89"
            ],
            [
             0.6666666666666666,
             "#35b779"
            ],
            [
             0.7777777777777778,
             "#6ece58"
            ],
            [
             0.8888888888888888,
             "#b5de2b"
            ],
            [
             1,
             "#fde725"
            ]
           ]
          },
          "colorway": [
           "#1F77B4",
           "#FF7F0E",
           "#2CA02C",
           "#D62728",
           "#9467BD",
           "#8C564B",
           "#E377C2",
           "#7F7F7F",
           "#BCBD22",
           "#17BECF"
          ],
          "font": {
           "color": "rgb(36,36,36)"
          },
          "geo": {
           "bgcolor": "white",
           "lakecolor": "white",
           "landcolor": "white",
           "showlakes": true,
           "showland": true,
           "subunitcolor": "white"
          },
          "hoverlabel": {
           "align": "left"
          },
          "hovermode": "closest",
          "mapbox": {
           "style": "light"
          },
          "paper_bgcolor": "white",
          "plot_bgcolor": "white",
          "polar": {
           "angularaxis": {
            "gridcolor": "rgb(232,232,232)",
            "linecolor": "rgb(36,36,36)",
            "showgrid": false,
            "showline": true,
            "ticks": "outside"
           },
           "bgcolor": "white",
           "radialaxis": {
            "gridcolor": "rgb(232,232,232)",
            "linecolor": "rgb(36,36,36)",
            "showgrid": false,
            "showline": true,
            "ticks": "outside"
           }
          },
          "scene": {
           "xaxis": {
            "backgroundcolor": "white",
            "gridcolor": "rgb(232,232,232)",
            "gridwidth": 2,
            "linecolor": "rgb(36,36,36)",
            "showbackground": true,
            "showgrid": false,
            "showline": true,
            "ticks": "outside",
            "zeroline": false,
            "zerolinecolor": "rgb(36,36,36)"
           },
           "yaxis": {
            "backgroundcolor": "white",
            "gridcolor": "rgb(232,232,232)",
            "gridwidth": 2,
            "linecolor": "rgb(36,36,36)",
            "showbackground": true,
            "showgrid": false,
            "showline": true,
            "ticks": "outside",
            "zeroline": false,
            "zerolinecolor": "rgb(36,36,36)"
           },
           "zaxis": {
            "backgroundcolor": "white",
            "gridcolor": "rgb(232,232,232)",
            "gridwidth": 2,
            "linecolor": "rgb(36,36,36)",
            "showbackground": true,
            "showgrid": false,
            "showline": true,
            "ticks": "outside",
            "zeroline": false,
            "zerolinecolor": "rgb(36,36,36)"
           }
          },
          "shapedefaults": {
           "fillcolor": "black",
           "line": {
            "width": 0
           },
           "opacity": 0.3
          },
          "ternary": {
           "aaxis": {
            "gridcolor": "rgb(232,232,232)",
            "linecolor": "rgb(36,36,36)",
            "showgrid": false,
            "showline": true,
            "ticks": "outside"
           },
           "baxis": {
            "gridcolor": "rgb(232,232,232)",
            "linecolor": "rgb(36,36,36)",
            "showgrid": false,
            "showline": true,
            "ticks": "outside"
           },
           "bgcolor": "white",
           "caxis": {
            "gridcolor": "rgb(232,232,232)",
            "linecolor": "rgb(36,36,36)",
            "showgrid": false,
            "showline": true,
            "ticks": "outside"
           }
          },
          "title": {
           "x": 0.05
          },
          "xaxis": {
           "automargin": true,
           "gridcolor": "rgb(232,232,232)",
           "linecolor": "rgb(36,36,36)",
           "showgrid": false,
           "showline": true,
           "ticks": "outside",
           "title": {
            "standoff": 15
           },
           "zeroline": false,
           "zerolinecolor": "rgb(36,36,36)"
          },
          "yaxis": {
           "automargin": true,
           "gridcolor": "rgb(232,232,232)",
           "linecolor": "rgb(36,36,36)",
           "showgrid": false,
           "showline": true,
           "ticks": "outside",
           "title": {
            "standoff": 15
           },
           "zeroline": false,
           "zerolinecolor": "rgb(36,36,36)"
          }
         }
        },
        "width": 650,
        "xaxis": {
         "anchor": "y",
         "domain": [
          0,
          1
         ],
         "linecolor": "black",
         "mirror": "allticks",
         "showgrid": false,
         "ticks": "inside",
         "title": {
          "text": "Nb"
         },
         "type": "log",
         "zeroline": true
        },
        "yaxis": {
         "anchor": "x",
         "domain": [
          0,
          1
         ],
         "linecolor": "black",
         "mirror": "allticks",
         "showgrid": false,
         "ticks": "inside",
         "title": {
          "text": "Ta"
         },
         "type": "log",
         "zeroline": true
        }
       }
      },
      "text/html": [
       "<div>                            <div id=\"58acab56-86bf-4cb7-9dd3-bb7b8f7dc468\" class=\"plotly-graph-div\" style=\"height:500px; width:650px;\"></div>            <script type=\"text/javascript\">                require([\"plotly\"], function(Plotly) {                    window.PLOTLYENV=window.PLOTLYENV || {};                                    if (document.getElementById(\"58acab56-86bf-4cb7-9dd3-bb7b8f7dc468\")) {                    Plotly.newPlot(                        \"58acab56-86bf-4cb7-9dd3-bb7b8f7dc468\",                        [{\"customdata\": [[\"J\", 1.0, \"M1\", \"matrix-Trl\", 20], [\"J\", 1.0, \"M2\", \"matrix-Trl\", 20], [\"A\", \"7b\", \"M2\", \"matrix\", 19], [\"B\", 5, 4, \"matrix-trl\", 4], [\"B\", 1, \"M\", \"matrix-trl\", 19], [\"C\", 1.0, \"trl\", \"Trl-matrix\", 22], [\"A\", \"3b\", \"Trl\", \"Trl-matrix\", 22], [\"C\", 8, 2, \"Trl-matrix-2shots\", 4]], \"hovertemplate\": \"Host=trolleite<br>Nb=%{x}<br>Ta=%{y}<br>piece=%{customdata[0]}<br>field=%{customdata[1]}<br>analysis=%{customdata[2]}<br>Info=%{customdata[3]}<br>sample=%{customdata[4]}<extra></extra>\", \"legendgroup\": \"trolleite\", \"marker\": {\"color\": \"#636efa\", \"size\": 8, \"symbol\": \"circle\"}, \"mode\": \"markers\", \"name\": \"trolleite\", \"orientation\": \"v\", \"showlegend\": true, \"type\": \"scatter\", \"x\": [0.2846731843300221, null, 10.989498548813977, 2.598095479004982, 1.0889434047084803, 0.31584242476304397, 0.7473307528751673, null], \"xaxis\": \"x\", \"y\": [5.710175600256571, null, null, 25.366345904818406, 38.80016277981929, null, null, null], \"yaxis\": \"y\"}, {\"customdata\": [[\"B\", 4.0, \"M3\", \"matrix-Bts\", 20], [\"B\", 4.0, \"M4\", \"matrix-Bts\", 20], [\"A\", 3, \"M\", \"matrix-bts\", 4], [\"B\", 6, 3, \"Bst-matrix-2shots-10hz\", 4], [\"B\", 6, 7, \"Bst-matrix-2shots\", 4], [\"B\", 7, 4, \"Bst-matrix-2shots\", 4], [\"F\", \"Ar7\", \"Bst\", \"Bst-matrix\", 19], [\"E\", 11, 1, \"Bts-matrix-2shots\", 19], [\"E\", 11, 12, \"Bts-matrix-3shots\", 19], [\"E\", 11, \"M\", \"Bts-matrix\", 19], [\"B\", 2, 6, \"Bts-matrix-2shots\", 20], [\"B\", 4.0, 10.0, \"Bst-matrix-3shots\", 20], [\"C\", 2.0, \"3 (copy)\", \"Bst-matrix-2shots\", 22], [\"C\", 3.0, 1, \"Bts-matrix-3shots\", 22], [\"C\", 1, \"M\", \"Bts-matrix\", 20]], \"hovertemplate\": \"Host=bertossaite<br>Nb=%{x}<br>Ta=%{y}<br>piece=%{customdata[0]}<br>field=%{customdata[1]}<br>analysis=%{customdata[2]}<br>Info=%{customdata[3]}<br>sample=%{customdata[4]}<extra></extra>\", \"legendgroup\": \"bertossaite\", \"marker\": {\"color\": \"#EF553B\", \"size\": 8, \"symbol\": \"diamond\"}, \"mode\": \"markers\", \"name\": \"bertossaite\", \"orientation\": \"v\", \"showlegend\": true, \"type\": \"scatter\", \"x\": [null, null, 0.15630351900160983, 0.5921122501973901, null, 0.33680454985221764, null, null, null, 0.05833830424613652, 0.09739255495961821, null, null, null, null], \"xaxis\": \"x\", \"y\": [0.6102380769806706, 0.7013994298215959, 3.9071319520542516, 6.725319463017819, null, 3.112158554122777, 0.4860870033891586, 0.3386280046428565, null, 0.19488155978424432, 0.5270482139174656, 0.7858772598343942, null, null, 0.5828368563546412], \"yaxis\": \"y\"}, {\"customdata\": [[\"F\", \"Ar7\", \"M\", \"Rsm-matrix\", 19], [\"F\", \"Ar7\", \"M2\", \"Rsm-matrix\", 19], [\"C\", 2, \"M\", \"Rsm-matric\", \"19(2)\"]], \"hovertemplate\": \"Host=rosemaryite<br>Nb=%{x}<br>Ta=%{y}<br>piece=%{customdata[0]}<br>field=%{customdata[1]}<br>analysis=%{customdata[2]}<br>Info=%{customdata[3]}<br>sample=%{customdata[4]}<extra></extra>\", \"legendgroup\": \"rosemaryite\", \"marker\": {\"color\": \"#00cc96\", \"size\": 8, \"symbol\": \"square\"}, \"mode\": \"markers\", \"name\": \"rosemaryite\", \"orientation\": \"v\", \"showlegend\": true, \"type\": \"scatter\", \"x\": [1.2082340014885542, 0.5559802606200104, 8.041616251345015], \"xaxis\": \"x\", \"y\": [1.1222236559811576, 0.4639035825223678, 0.9291626917044897], \"yaxis\": \"y\"}, {\"customdata\": [[\"C\", 1.0, \"scz\", \"Scz-matrix\", 22], [\"C\", 6.0, \"scz\", \"Scz-matrix\", 22]], \"hovertemplate\": \"Host=scorzalite<br>Nb=%{x}<br>Ta=%{y}<br>piece=%{customdata[0]}<br>field=%{customdata[1]}<br>analysis=%{customdata[2]}<br>Info=%{customdata[3]}<br>sample=%{customdata[4]}<extra></extra>\", \"legendgroup\": \"scorzalite\", \"marker\": {\"color\": \"#ab63fa\", \"size\": 8, \"symbol\": \"x\"}, \"mode\": \"markers\", \"name\": \"scorzalite\", \"orientation\": \"v\", \"showlegend\": true, \"type\": \"scatter\", \"x\": [37.78142388697037, 104.83408191140565], \"xaxis\": \"x\", \"y\": [48.32642944736145, 159.8573049518838], \"yaxis\": \"y\"}, {\"customdata\": [[\"C\", 6.0, \"mbs\", \"Mbs-matrix\", 22], [\"C\", 7.0, \"mbs\", \"Mbs-matrix\", 22], [\"D\", 1, \"Mbs\", \"Mbs-matrix-dark\", 20], [\"D\", 1, \"Mbs2\", \"Mbs-matrix-clear\", 20]], \"hovertemplate\": \"Host=montebrasite<br>Nb=%{x}<br>Ta=%{y}<br>piece=%{customdata[0]}<br>field=%{customdata[1]}<br>analysis=%{customdata[2]}<br>Info=%{customdata[3]}<br>sample=%{customdata[4]}<extra></extra>\", \"legendgroup\": \"montebrasite\", \"marker\": {\"color\": \"#FFA15A\", \"size\": 8, \"symbol\": \"cross\"}, \"mode\": \"markers\", \"name\": \"montebrasite\", \"orientation\": \"v\", \"showlegend\": true, \"type\": \"scatter\", \"x\": [20.23892056943158, 255.50086851179046, 17.007946634222264, 16.156164458340548], \"xaxis\": \"x\", \"y\": [74.54741062764062, 36.30335266268338, 134.48294939482085, 225.47733890187132], \"yaxis\": \"y\"}, {\"customdata\": [[\"A\", 1.0, 2, \"Brz-matrix-3shots\", 32], [\"A\", 1.0, 5, \"Brz-matrix-3shots\", 32], [\"B\", 4.0, \"M\", \"Brz-matrix\", \"02a\"], [\"B\", 1.0, \"6 (copy)\", \"Brz-matrix\", 32], [\"B\", 1.0, \"M\", \"Brz-matrix\", 32]], \"hovertemplate\": \"Host=brazilianite<br>Nb=%{x}<br>Ta=%{y}<br>piece=%{customdata[0]}<br>field=%{customdata[1]}<br>analysis=%{customdata[2]}<br>Info=%{customdata[3]}<br>sample=%{customdata[4]}<extra></extra>\", \"legendgroup\": \"brazilianite\", \"marker\": {\"color\": \"#19d3f3\", \"size\": 8, \"symbol\": \"circle\"}, \"mode\": \"markers\", \"name\": \"brazilianite\", \"orientation\": \"v\", \"showlegend\": true, \"type\": \"scatter\", \"x\": [1.557412086798706, 1.6335086459616477, 0.6424653023474874, 4.844246646510664, 2.9083203993089457], \"xaxis\": \"x\", \"y\": [1.7421409226728293, 1.9682654070741428, 2.1103944884468673, 6.2409002304897845, 2.8990768032634824], \"yaxis\": \"y\"}, {\"customdata\": [[\"AII\", \"C\", 3, \"Wyl-matrix-2shots\", 32], [\"AII\", \"C\", \"M\", \"Wyl-matrix\", 32], [\"AII\", \"C\", \"M2\", \"Wyl-matrix\", 32], [\"C\", 2, \"wyl\", \"Wyl-matrix\", \"19(2)\"]], \"hovertemplate\": \"Host=wyllieite<br>Nb=%{x}<br>Ta=%{y}<br>piece=%{customdata[0]}<br>field=%{customdata[1]}<br>analysis=%{customdata[2]}<br>Info=%{customdata[3]}<br>sample=%{customdata[4]}<extra></extra>\", \"legendgroup\": \"wyllieite\", \"marker\": {\"color\": \"#FF6692\", \"size\": 8, \"symbol\": \"diamond\"}, \"mode\": \"markers\", \"name\": \"wyllieite\", \"orientation\": \"v\", \"showlegend\": true, \"type\": \"scatter\", \"x\": [null, 0.021253861023606883, 0.05197754219044842, 0.07057602286484119], \"xaxis\": \"x\", \"y\": [null, null, null, null], \"yaxis\": \"y\"}, {\"customdata\": [[\"A\", 1, \"1 (copy)\", \"rutile-inclusion\", \"19(2)\"], [\"A\", 1, 6, \"Aug-matrix\", \"19(2)\"], [\"A\", 1, \"6b\", \"Aug-matrix\", \"19(2)\"], [\"A\", \"2b\", 3, \"Aug-matrix\", \"19(2)\"], [\"A\", \"2b\", 6, \"Aug-matrix\", \"19(2)\"], [\"A\", 5, 1, \"Aug-matrix-2shots\", \"19(2)\"], [\"A\", 5, 2, \"Aug-matrix-2shots\", \"19(2)\"]], \"hovertemplate\": \"Host=augelite<br>Nb=%{x}<br>Ta=%{y}<br>piece=%{customdata[0]}<br>field=%{customdata[1]}<br>analysis=%{customdata[2]}<br>Info=%{customdata[3]}<br>sample=%{customdata[4]}<extra></extra>\", \"legendgroup\": \"augelite\", \"marker\": {\"color\": \"#B6E880\", \"size\": 8, \"symbol\": \"square\"}, \"mode\": \"markers\", \"name\": \"augelite\", \"orientation\": \"v\", \"showlegend\": true, \"type\": \"scatter\", \"x\": [4632.83672419173, null, null, null, null, null, null], \"xaxis\": \"x\", \"y\": [12510.733475009349, null, null, null, null, null, null], \"yaxis\": \"y\"}],                        {\"height\": 500, \"legend\": {\"title\": {\"text\": \"Host\"}, \"tracegroupgap\": 0}, \"margin\": {\"t\": 60}, \"plot_bgcolor\": \"white\", \"template\": {\"data\": {\"bar\": [{\"error_x\": {\"color\": \"rgb(36,36,36)\"}, \"error_y\": {\"color\": \"rgb(36,36,36)\"}, \"marker\": {\"line\": {\"color\": \"white\", \"width\": 0.5}}, \"type\": \"bar\"}], \"barpolar\": [{\"marker\": {\"line\": {\"color\": \"white\", \"width\": 0.5}}, \"type\": \"barpolar\"}], \"carpet\": [{\"aaxis\": {\"endlinecolor\": \"rgb(36,36,36)\", \"gridcolor\": \"white\", \"linecolor\": \"white\", \"minorgridcolor\": \"white\", \"startlinecolor\": \"rgb(36,36,36)\"}, \"baxis\": {\"endlinecolor\": \"rgb(36,36,36)\", \"gridcolor\": \"white\", \"linecolor\": \"white\", \"minorgridcolor\": \"white\", \"startlinecolor\": \"rgb(36,36,36)\"}, \"type\": \"carpet\"}], \"choropleth\": [{\"colorbar\": {\"outlinewidth\": 1, \"tickcolor\": \"rgb(36,36,36)\", \"ticks\": \"outside\"}, \"type\": \"choropleth\"}], \"contour\": [{\"colorbar\": {\"outlinewidth\": 1, \"tickcolor\": \"rgb(36,36,36)\", \"ticks\": \"outside\"}, \"colorscale\": [[0.0, \"#440154\"], [0.1111111111111111, \"#482878\"], [0.2222222222222222, \"#3e4989\"], [0.3333333333333333, \"#31688e\"], [0.4444444444444444, \"#26828e\"], [0.5555555555555556, \"#1f9e89\"], [0.6666666666666666, \"#35b779\"], [0.7777777777777778, \"#6ece58\"], [0.8888888888888888, \"#b5de2b\"], [1.0, \"#fde725\"]], \"type\": \"contour\"}], \"contourcarpet\": [{\"colorbar\": {\"outlinewidth\": 1, \"tickcolor\": \"rgb(36,36,36)\", \"ticks\": \"outside\"}, \"type\": \"contourcarpet\"}], \"heatmap\": [{\"colorbar\": {\"outlinewidth\": 1, \"tickcolor\": \"rgb(36,36,36)\", \"ticks\": \"outside\"}, \"colorscale\": [[0.0, \"#440154\"], [0.1111111111111111, \"#482878\"], [0.2222222222222222, \"#3e4989\"], [0.3333333333333333, \"#31688e\"], [0.4444444444444444, \"#26828e\"], [0.5555555555555556, \"#1f9e89\"], [0.6666666666666666, \"#35b779\"], [0.7777777777777778, \"#6ece58\"], [0.8888888888888888, \"#b5de2b\"], [1.0, \"#fde725\"]], \"type\": \"heatmap\"}], \"heatmapgl\": [{\"colorbar\": {\"outlinewidth\": 1, \"tickcolor\": \"rgb(36,36,36)\", \"ticks\": \"outside\"}, \"colorscale\": [[0.0, \"#440154\"], [0.1111111111111111, \"#482878\"], [0.2222222222222222, \"#3e4989\"], [0.3333333333333333, \"#31688e\"], [0.4444444444444444, \"#26828e\"], [0.5555555555555556, \"#1f9e89\"], [0.6666666666666666, \"#35b779\"], [0.7777777777777778, \"#6ece58\"], [0.8888888888888888, \"#b5de2b\"], [1.0, \"#fde725\"]], \"type\": \"heatmapgl\"}], \"histogram\": [{\"marker\": {\"line\": {\"color\": \"white\", \"width\": 0.6}}, \"type\": \"histogram\"}], \"histogram2d\": [{\"colorbar\": {\"outlinewidth\": 1, \"tickcolor\": \"rgb(36,36,36)\", \"ticks\": \"outside\"}, \"colorscale\": [[0.0, \"#440154\"], [0.1111111111111111, \"#482878\"], [0.2222222222222222, \"#3e4989\"], [0.3333333333333333, \"#31688e\"], [0.4444444444444444, \"#26828e\"], [0.5555555555555556, \"#1f9e89\"], [0.6666666666666666, \"#35b779\"], [0.7777777777777778, \"#6ece58\"], [0.8888888888888888, \"#b5de2b\"], [1.0, \"#fde725\"]], \"type\": \"histogram2d\"}], \"histogram2dcontour\": [{\"colorbar\": {\"outlinewidth\": 1, \"tickcolor\": \"rgb(36,36,36)\", \"ticks\": \"outside\"}, \"colorscale\": [[0.0, \"#440154\"], [0.1111111111111111, \"#482878\"], [0.2222222222222222, \"#3e4989\"], [0.3333333333333333, \"#31688e\"], [0.4444444444444444, \"#26828e\"], [0.5555555555555556, \"#1f9e89\"], [0.6666666666666666, \"#35b779\"], [0.7777777777777778, \"#6ece58\"], [0.8888888888888888, \"#b5de2b\"], [1.0, \"#fde725\"]], \"type\": \"histogram2dcontour\"}], \"mesh3d\": [{\"colorbar\": {\"outlinewidth\": 1, \"tickcolor\": \"rgb(36,36,36)\", \"ticks\": \"outside\"}, \"type\": \"mesh3d\"}], \"parcoords\": [{\"line\": {\"colorbar\": {\"outlinewidth\": 1, \"tickcolor\": \"rgb(36,36,36)\", \"ticks\": \"outside\"}}, \"type\": \"parcoords\"}], \"pie\": [{\"automargin\": true, \"type\": \"pie\"}], \"scatter\": [{\"marker\": {\"colorbar\": {\"outlinewidth\": 1, \"tickcolor\": \"rgb(36,36,36)\", \"ticks\": \"outside\"}}, \"type\": \"scatter\"}], \"scatter3d\": [{\"line\": {\"colorbar\": {\"outlinewidth\": 1, \"tickcolor\": \"rgb(36,36,36)\", \"ticks\": \"outside\"}}, \"marker\": {\"colorbar\": {\"outlinewidth\": 1, \"tickcolor\": \"rgb(36,36,36)\", \"ticks\": \"outside\"}}, \"type\": \"scatter3d\"}], \"scattercarpet\": [{\"marker\": {\"colorbar\": {\"outlinewidth\": 1, \"tickcolor\": \"rgb(36,36,36)\", \"ticks\": \"outside\"}}, \"type\": \"scattercarpet\"}], \"scattergeo\": [{\"marker\": {\"colorbar\": {\"outlinewidth\": 1, \"tickcolor\": \"rgb(36,36,36)\", \"ticks\": \"outside\"}}, \"type\": \"scattergeo\"}], \"scattergl\": [{\"marker\": {\"colorbar\": {\"outlinewidth\": 1, \"tickcolor\": \"rgb(36,36,36)\", \"ticks\": \"outside\"}}, \"type\": \"scattergl\"}], \"scattermapbox\": [{\"marker\": {\"colorbar\": {\"outlinewidth\": 1, \"tickcolor\": \"rgb(36,36,36)\", \"ticks\": \"outside\"}}, \"type\": \"scattermapbox\"}], \"scatterpolar\": [{\"marker\": {\"colorbar\": {\"outlinewidth\": 1, \"tickcolor\": \"rgb(36,36,36)\", \"ticks\": \"outside\"}}, \"type\": \"scatterpolar\"}], \"scatterpolargl\": [{\"marker\": {\"colorbar\": {\"outlinewidth\": 1, \"tickcolor\": \"rgb(36,36,36)\", \"ticks\": \"outside\"}}, \"type\": \"scatterpolargl\"}], \"scatterternary\": [{\"marker\": {\"colorbar\": {\"outlinewidth\": 1, \"tickcolor\": \"rgb(36,36,36)\", \"ticks\": \"outside\"}}, \"type\": \"scatterternary\"}], \"surface\": [{\"colorbar\": {\"outlinewidth\": 1, \"tickcolor\": \"rgb(36,36,36)\", \"ticks\": \"outside\"}, \"colorscale\": [[0.0, \"#440154\"], [0.1111111111111111, \"#482878\"], [0.2222222222222222, \"#3e4989\"], [0.3333333333333333, \"#31688e\"], [0.4444444444444444, \"#26828e\"], [0.5555555555555556, \"#1f9e89\"], [0.6666666666666666, \"#35b779\"], [0.7777777777777778, \"#6ece58\"], [0.8888888888888888, \"#b5de2b\"], [1.0, \"#fde725\"]], \"type\": \"surface\"}], \"table\": [{\"cells\": {\"fill\": {\"color\": \"rgb(237,237,237)\"}, \"line\": {\"color\": \"white\"}}, \"header\": {\"fill\": {\"color\": \"rgb(217,217,217)\"}, \"line\": {\"color\": \"white\"}}, \"type\": \"table\"}]}, \"layout\": {\"annotationdefaults\": {\"arrowhead\": 0, \"arrowwidth\": 1}, \"autotypenumbers\": \"strict\", \"coloraxis\": {\"colorbar\": {\"outlinewidth\": 1, \"tickcolor\": \"rgb(36,36,36)\", \"ticks\": \"outside\"}}, \"colorscale\": {\"diverging\": [[0.0, \"rgb(103,0,31)\"], [0.1, \"rgb(178,24,43)\"], [0.2, \"rgb(214,96,77)\"], [0.3, \"rgb(244,165,130)\"], [0.4, \"rgb(253,219,199)\"], [0.5, \"rgb(247,247,247)\"], [0.6, \"rgb(209,229,240)\"], [0.7, \"rgb(146,197,222)\"], [0.8, \"rgb(67,147,195)\"], [0.9, \"rgb(33,102,172)\"], [1.0, \"rgb(5,48,97)\"]], \"sequential\": [[0.0, \"#440154\"], [0.1111111111111111, \"#482878\"], [0.2222222222222222, \"#3e4989\"], [0.3333333333333333, \"#31688e\"], [0.4444444444444444, \"#26828e\"], [0.5555555555555556, \"#1f9e89\"], [0.6666666666666666, \"#35b779\"], [0.7777777777777778, \"#6ece58\"], [0.8888888888888888, \"#b5de2b\"], [1.0, \"#fde725\"]], \"sequentialminus\": [[0.0, \"#440154\"], [0.1111111111111111, \"#482878\"], [0.2222222222222222, \"#3e4989\"], [0.3333333333333333, \"#31688e\"], [0.4444444444444444, \"#26828e\"], [0.5555555555555556, \"#1f9e89\"], [0.6666666666666666, \"#35b779\"], [0.7777777777777778, \"#6ece58\"], [0.8888888888888888, \"#b5de2b\"], [1.0, \"#fde725\"]]}, \"colorway\": [\"#1F77B4\", \"#FF7F0E\", \"#2CA02C\", \"#D62728\", \"#9467BD\", \"#8C564B\", \"#E377C2\", \"#7F7F7F\", \"#BCBD22\", \"#17BECF\"], \"font\": {\"color\": \"rgb(36,36,36)\"}, \"geo\": {\"bgcolor\": \"white\", \"lakecolor\": \"white\", \"landcolor\": \"white\", \"showlakes\": true, \"showland\": true, \"subunitcolor\": \"white\"}, \"hoverlabel\": {\"align\": \"left\"}, \"hovermode\": \"closest\", \"mapbox\": {\"style\": \"light\"}, \"paper_bgcolor\": \"white\", \"plot_bgcolor\": \"white\", \"polar\": {\"angularaxis\": {\"gridcolor\": \"rgb(232,232,232)\", \"linecolor\": \"rgb(36,36,36)\", \"showgrid\": false, \"showline\": true, \"ticks\": \"outside\"}, \"bgcolor\": \"white\", \"radialaxis\": {\"gridcolor\": \"rgb(232,232,232)\", \"linecolor\": \"rgb(36,36,36)\", \"showgrid\": false, \"showline\": true, \"ticks\": \"outside\"}}, \"scene\": {\"xaxis\": {\"backgroundcolor\": \"white\", \"gridcolor\": \"rgb(232,232,232)\", \"gridwidth\": 2, \"linecolor\": \"rgb(36,36,36)\", \"showbackground\": true, \"showgrid\": false, \"showline\": true, \"ticks\": \"outside\", \"zeroline\": false, \"zerolinecolor\": \"rgb(36,36,36)\"}, \"yaxis\": {\"backgroundcolor\": \"white\", \"gridcolor\": \"rgb(232,232,232)\", \"gridwidth\": 2, \"linecolor\": \"rgb(36,36,36)\", \"showbackground\": true, \"showgrid\": false, \"showline\": true, \"ticks\": \"outside\", \"zeroline\": false, \"zerolinecolor\": \"rgb(36,36,36)\"}, \"zaxis\": {\"backgroundcolor\": \"white\", \"gridcolor\": \"rgb(232,232,232)\", \"gridwidth\": 2, \"linecolor\": \"rgb(36,36,36)\", \"showbackground\": true, \"showgrid\": false, \"showline\": true, \"ticks\": \"outside\", \"zeroline\": false, \"zerolinecolor\": \"rgb(36,36,36)\"}}, \"shapedefaults\": {\"fillcolor\": \"black\", \"line\": {\"width\": 0}, \"opacity\": 0.3}, \"ternary\": {\"aaxis\": {\"gridcolor\": \"rgb(232,232,232)\", \"linecolor\": \"rgb(36,36,36)\", \"showgrid\": false, \"showline\": true, \"ticks\": \"outside\"}, \"baxis\": {\"gridcolor\": \"rgb(232,232,232)\", \"linecolor\": \"rgb(36,36,36)\", \"showgrid\": false, \"showline\": true, \"ticks\": \"outside\"}, \"bgcolor\": \"white\", \"caxis\": {\"gridcolor\": \"rgb(232,232,232)\", \"linecolor\": \"rgb(36,36,36)\", \"showgrid\": false, \"showline\": true, \"ticks\": \"outside\"}}, \"title\": {\"x\": 0.05}, \"xaxis\": {\"automargin\": true, \"gridcolor\": \"rgb(232,232,232)\", \"linecolor\": \"rgb(36,36,36)\", \"showgrid\": false, \"showline\": true, \"ticks\": \"outside\", \"title\": {\"standoff\": 15}, \"zeroline\": false, \"zerolinecolor\": \"rgb(36,36,36)\"}, \"yaxis\": {\"automargin\": true, \"gridcolor\": \"rgb(232,232,232)\", \"linecolor\": \"rgb(36,36,36)\", \"showgrid\": false, \"showline\": true, \"ticks\": \"outside\", \"title\": {\"standoff\": 15}, \"zeroline\": false, \"zerolinecolor\": \"rgb(36,36,36)\"}}}, \"width\": 650, \"xaxis\": {\"anchor\": \"y\", \"domain\": [0.0, 1.0], \"linecolor\": \"black\", \"mirror\": \"allticks\", \"showgrid\": false, \"ticks\": \"inside\", \"title\": {\"text\": \"Nb\"}, \"type\": \"log\", \"zeroline\": true}, \"yaxis\": {\"anchor\": \"x\", \"domain\": [0.0, 1.0], \"linecolor\": \"black\", \"mirror\": \"allticks\", \"showgrid\": false, \"ticks\": \"inside\", \"title\": {\"text\": \"Ta\"}, \"type\": \"log\", \"zeroline\": true}},                        {\"responsive\": true}                    ).then(function(){\n",
       "                            \n",
       "var gd = document.getElementById('58acab56-86bf-4cb7-9dd3-bb7b8f7dc468');\n",
       "var x = new MutationObserver(function (mutations, observer) {{\n",
       "        var display = window.getComputedStyle(gd).display;\n",
       "        if (!display || display === 'none') {{\n",
       "            console.log([gd, 'removed!']);\n",
       "            Plotly.purge(gd);\n",
       "            observer.disconnect();\n",
       "        }}\n",
       "}});\n",
       "\n",
       "// Listen for the removal of the full notebook cells\n",
       "var notebookContainer = gd.closest('#notebook-container');\n",
       "if (notebookContainer) {{\n",
       "    x.observe(notebookContainer, {childList: true});\n",
       "}}\n",
       "\n",
       "// Listen for the clearing of the current output cell\n",
       "var outputEl = gd.closest('.output');\n",
       "if (outputEl) {{\n",
       "    x.observe(outputEl, {childList: true});\n",
       "}}\n",
       "\n",
       "                        })                };                });            </script>        </div>"
      ]
     },
     "metadata": {},
     "output_type": "display_data"
    }
   ],
   "source": [
    "# --- plot binary graphs\n",
    "\n",
    "fig = px.scatter(df_hosts, x=\"Nb\", y=\"Ta\",\n",
    "                 hover_data=[\"piece\",'field','analysis',\"Info\",'sample'],\n",
    "                 width=650, height=500,\n",
    "                symbol = \"Host\", color=\"Host\",\n",
    "                log_x=True, log_y=True)\n",
    "\n",
    "fig.update_layout(plot_bgcolor=\"white\",template=\"simple_white\")\n",
    "\n",
    "fig.update_traces(marker=dict(size=8),\n",
    "                  selector=dict(mode='markers'))\n",
    "\n",
    "fig.update_xaxes(ticks='inside',zeroline=True,linecolor=\"black\",showgrid=False,mirror= \"allticks\")#,range=(0,20000))\n",
    "fig.update_yaxes(ticks='inside',zeroline=True,linecolor=\"black\",showgrid=False,mirror= \"allticks\")#,range=(0,126000))\n",
    "\n",
    "\n",
    "\n",
    "# fig.update_xaxes(tickvals=[0,1,2,3,4,5,6,7])\n",
    "\n",
    "fig.write_image(base_dir+\"FI_B_vs_Li_nan.pdf\");\n",
    "fig.show()\n",
    "\n"
   ]
  },
  {
   "cell_type": "code",
   "execution_count": 30,
   "id": "8265ddd4",
   "metadata": {},
   "outputs": [
    {
     "data": {
      "application/vnd.plotly.v1+json": {
       "config": {
        "plotlyServerURL": "https://plot.ly"
       },
       "data": [
        {
         "a": [
          33.33333333333333,
          33.33333333333333,
          33.33333333333333,
          33.33333333333333,
          0.14102316638553636,
          33.33333333333333,
          33.33333333333333,
          33.33333333333333,
          33.33333333333333,
          0.0069661296486341374,
          33.33333333333333,
          0.2757122901487147,
          33.33333333333333,
          33.33333333333333,
          33.33333333333333,
          33.33333333333333,
          0.0008012943002731016
         ],
         "b": [
          33.33333333333333,
          33.33333333333333,
          33.33333333333333,
          33.33333333333333,
          0.39269492326467775,
          33.33333333333333,
          33.33333333333333,
          33.33333333333333,
          33.33333333333333,
          0.0069661296486341374,
          33.33333333333333,
          2.0109192287757285,
          33.33333333333333,
          33.33333333333333,
          33.33333333333333,
          33.33333333333333,
          0.0008012943002731016
         ],
         "c": [
          33.33333333333333,
          33.33333333333333,
          33.33333333333333,
          33.33333333333333,
          99.46628191034978,
          33.33333333333333,
          33.33333333333333,
          33.33333333333333,
          33.33333333333333,
          99.98606774070272,
          33.33333333333333,
          97.71336848107556,
          33.33333333333333,
          33.33333333333333,
          33.33333333333333,
          33.33333333333333,
          99.99839741139945
         ],
         "customdata": [
          [
           "B",
           4,
           1,
           ""
          ],
          [
           "B",
           4,
           2,
           ""
          ],
          [
           "B",
           4,
           "3b",
           ""
          ],
          [
           "B",
           2,
           1,
           "2shots"
          ],
          [
           "B",
           2,
           2,
           "maybe-not"
          ],
          [
           "B",
           2,
           3,
           "3shots"
          ],
          [
           "B",
           2,
           4,
           "3shots"
          ],
          [
           "B",
           2,
           5,
           "3shots"
          ],
          [
           "B",
           2,
           7,
           ""
          ],
          [
           "B",
           4,
           6,
           ""
          ],
          [
           "B",
           4,
           7,
           "3shots"
          ],
          [
           "B",
           4,
           9,
           ""
          ],
          [
           "C",
           1,
           1,
           "3shots"
          ],
          [
           "C",
           1,
           2,
           "2shots"
          ],
          [
           "C",
           1,
           4,
           "2shots"
          ],
          [
           "C",
           1,
           8,
           "2shots"
          ],
          [
           "C",
           1,
           9,
           ""
          ]
         ],
         "hovertemplate": "sample=20<br>Host=bertossaite<br>Nb=%{a}<br>Ta=%{b}<br>Ti=%{c}<br>piece=%{customdata[0]}<br>field=%{customdata[1]}<br>analysis=%{customdata[2]}<br>Info=%{customdata[3]}<extra></extra>",
         "legendgroup": "20, bertossaite",
         "marker": {
          "color": "#636efa",
          "size": 8,
          "symbol": "circle"
         },
         "mode": "markers",
         "name": "20, bertossaite",
         "showlegend": true,
         "subplot": "ternary",
         "type": "scatterternary"
        },
        {
         "a": [
          11.21887350078808,
          0.0017221383230287047,
          0.6260732028326492,
          33.33333333333333,
          0.00605112699740539,
          33.33333333333333,
          33.33333333333333,
          0.015836853764368573,
          33.33333333333333,
          99.94274236418296
         ],
         "b": [
          88.77203430179145,
          0.0017221383230287047,
          0.0008550313118215574,
          33.33333333333333,
          99.98789774600517,
          33.33333333333333,
          33.33333333333333,
          99.96832629247126,
          33.33333333333333,
          0.02862881790852336
         ],
         "c": [
          0.009092197420471761,
          99.99655572335394,
          99.37307176585553,
          33.33333333333333,
          0.00605112699740539,
          33.33333333333333,
          33.33333333333333,
          0.015836853764368573,
          33.33333333333333,
          0.02862881790852336
         ],
         "customdata": [
          [
           "J",
           1,
           1,
           ""
          ],
          [
           "J",
           1,
           "2b",
           ""
          ],
          [
           "J",
           1,
           3,
           ""
          ],
          [
           "E",
           1,
           1,
           "trl-real?"
          ],
          [
           "E",
           1,
           2,
           "trl"
          ],
          [
           "E",
           1,
           3,
           "trl"
          ],
          [
           "E",
           1,
           4,
           "trl"
          ],
          [
           "E",
           1,
           5,
           "trl-Xtl-rich"
          ],
          [
           "E",
           1,
           7,
           "trl"
          ],
          [
           "E",
           1,
           8,
           "trl"
          ]
         ],
         "hovertemplate": "sample=20<br>Host=trolleite<br>Nb=%{a}<br>Ta=%{b}<br>Ti=%{c}<br>piece=%{customdata[0]}<br>field=%{customdata[1]}<br>analysis=%{customdata[2]}<br>Info=%{customdata[3]}<extra></extra>",
         "legendgroup": "20, trolleite",
         "marker": {
          "color": "#636efa",
          "size": 8,
          "symbol": "diamond"
         },
         "mode": "markers",
         "name": "20, trolleite",
         "showlegend": true,
         "subplot": "ternary",
         "type": "scatterternary"
        },
        {
         "a": [
          0.0001457595585769347,
          0.0014387297480028816,
          33.33333333333333,
          33.33333333333333
         ],
         "b": [
          0.0001457595585769347,
          0.0014387297480028816,
          33.33333333333333,
          33.33333333333333
         ],
         "c": [
          99.99970848088286,
          99.99712254050401,
          33.33333333333333,
          33.33333333333333
         ],
         "customdata": [
          [
           "E",
           11,
           6,
           "2shots"
          ],
          [
           "E",
           11,
           7,
           ""
          ],
          [
           "E",
           11,
           9,
           "2shots"
          ],
          [
           "E",
           11,
           10,
           "2shots"
          ]
         ],
         "hovertemplate": "sample=19<br>Host=bertossaite<br>Nb=%{a}<br>Ta=%{b}<br>Ti=%{c}<br>piece=%{customdata[0]}<br>field=%{customdata[1]}<br>analysis=%{customdata[2]}<br>Info=%{customdata[3]}<extra></extra>",
         "legendgroup": "19, bertossaite",
         "marker": {
          "color": "#EF553B",
          "size": 8,
          "symbol": "circle"
         },
         "mode": "markers",
         "name": "19, bertossaite",
         "showlegend": true,
         "subplot": "ternary",
         "type": "scatterternary"
        },
        {
         "a": [
          33.33333333333333,
          0.002423381974762509,
          33.33333333333333,
          33.33333333333333,
          99.99168997081121,
          33.33333333333333,
          2.4898512201660306,
          33.33333333333333,
          33.33333333333333,
          7.824364744919378e-05,
          0.46348432292851505,
          0.002957691978174168,
          33.33333333333333,
          0.0013771091487188496
         ],
         "b": [
          33.33333333333333,
          99.99515323605048,
          33.33333333333333,
          33.33333333333333,
          0.004155014594388733,
          33.33333333333333,
          8.727808463549925,
          33.33333333333333,
          33.33333333333333,
          1.329976182836234,
          10.105025983244719,
          99.99408461604366,
          33.33333333333333,
          99.99724578170255
         ],
         "c": [
          33.33333333333333,
          0.002423381974762509,
          33.33333333333333,
          33.33333333333333,
          0.004155014594388733,
          33.33333333333333,
          88.78234031628403,
          33.33333333333333,
          33.33333333333333,
          98.66994557351632,
          89.43148969382678,
          0.002957691978174168,
          33.33333333333333,
          0.0013771091487188496
         ],
         "customdata": [
          [
           "A",
           "7b",
           6,
           ""
          ],
          [
           "A",
           "7b",
           8,
           ""
          ],
          [
           "A",
           "7b",
           12,
           ""
          ],
          [
           "A",
           "7b",
           7,
           ""
          ],
          [
           "A",
           "7b",
           9,
           ""
          ],
          [
           "A",
           "7b",
           1,
           ""
          ],
          [
           "A",
           "7b",
           11,
           ""
          ],
          [
           "A",
           "7b",
           2,
           ""
          ],
          [
           "B",
           1,
           2,
           ""
          ],
          [
           "B",
           1,
           3,
           ""
          ],
          [
           "B",
           1,
           4,
           ""
          ],
          [
           "B",
           1,
           5,
           "trl"
          ],
          [
           "B",
           1,
           6,
           "trl"
          ],
          [
           "B",
           1,
           7,
           "trl"
          ]
         ],
         "hovertemplate": "sample=19<br>Host=trolleite<br>Nb=%{a}<br>Ta=%{b}<br>Ti=%{c}<br>piece=%{customdata[0]}<br>field=%{customdata[1]}<br>analysis=%{customdata[2]}<br>Info=%{customdata[3]}<extra></extra>",
         "legendgroup": "19, trolleite",
         "marker": {
          "color": "#EF553B",
          "size": 8,
          "symbol": "diamond"
         },
         "mode": "markers",
         "name": "19, trolleite",
         "showlegend": true,
         "subplot": "ternary",
         "type": "scatterternary"
        },
        {
         "a": [
          38.4971744155088,
          33.33333333333333,
          0.7638206303553365
         ],
         "b": [
          61.46653764916535,
          33.33333333333333,
          4.1018855743337464e-05
         ],
         "c": [
          0.03628793532585813,
          33.33333333333333,
          99.23613835078892
         ],
         "customdata": [
          [
           "E",
           "11b",
           2,
           "Qz-exploded"
          ],
          [
           "E",
           "11b",
           3,
           ""
          ],
          [
           "E",
           "11b",
           4,
           ""
          ]
         ],
         "hovertemplate": "sample=19<br>Host=quartz<br>Nb=%{a}<br>Ta=%{b}<br>Ti=%{c}<br>piece=%{customdata[0]}<br>field=%{customdata[1]}<br>analysis=%{customdata[2]}<br>Info=%{customdata[3]}<extra></extra>",
         "legendgroup": "19, quartz",
         "marker": {
          "color": "#EF553B",
          "size": 8,
          "symbol": "square"
         },
         "mode": "markers",
         "name": "19, quartz",
         "showlegend": true,
         "subplot": "ternary",
         "type": "scatterternary"
        },
        {
         "a": [
          33.33333333333333,
          33.33333333333333,
          33.33333333333333,
          33.33333333333333,
          0.00026799530764314114,
          0.00039342541621769994,
          33.33333333333333,
          0.9822566142727964,
          12.076934982924687,
          0.006847921183919955,
          0.000970675582329092,
          0.3138253527086976,
          33.33333333333333,
          33.33333333333333
         ],
         "b": [
          33.33333333333333,
          33.33333333333333,
          33.33333333333333,
          33.33333333333333,
          2.9829720185849267,
          3.7295562141746452,
          33.33333333333333,
          0.007765212025810352,
          87.91702646246299,
          99.98630415763216,
          0.000970675582329092,
          3.0381432119185576,
          33.33333333333333,
          33.33333333333333
         ],
         "c": [
          33.33333333333333,
          33.33333333333333,
          33.33333333333333,
          33.33333333333333,
          97.01675998610743,
          96.27005036040913,
          33.33333333333333,
          99.0099781737014,
          0.006038554612318375,
          0.006847921183919955,
          99.99805864883534,
          96.64803143537274,
          33.33333333333333,
          33.33333333333333
         ],
         "customdata": [
          [
           "A",
           3,
           1,
           "bts"
          ],
          [
           "A",
           3,
           2,
           "bts"
          ],
          [
           "A",
           3,
           3,
           "bts"
          ],
          [
           "A",
           3,
           4,
           "bts"
          ],
          [
           "A",
           3,
           5,
           "bts"
          ],
          [
           "A",
           3,
           6,
           "bts"
          ],
          [
           "A",
           3,
           8,
           "bts"
          ],
          [
           "B",
           6,
           1,
           ""
          ],
          [
           "B",
           6,
           6,
           "3shots"
          ],
          [
           "B",
           6,
           9,
           ""
          ],
          [
           "B",
           7,
           1,
           "2shots"
          ],
          [
           "B",
           7,
           2,
           "2shots"
          ],
          [
           "B",
           7,
           3,
           ""
          ],
          [
           "B",
           7,
           5,
           "2shots"
          ]
         ],
         "hovertemplate": "sample=4<br>Host=bertossaite<br>Nb=%{a}<br>Ta=%{b}<br>Ti=%{c}<br>piece=%{customdata[0]}<br>field=%{customdata[1]}<br>analysis=%{customdata[2]}<br>Info=%{customdata[3]}<extra></extra>",
         "legendgroup": "4, bertossaite",
         "marker": {
          "color": "#00cc96",
          "size": 8,
          "symbol": "circle"
         },
         "mode": "markers",
         "name": "4, bertossaite",
         "showlegend": true,
         "subplot": "ternary",
         "type": "scatterternary"
        },
        {
         "a": [
          0.014555159657192717,
          0.010258259854957121,
          33.33333333333333,
          99.9045525245433,
          33.33333333333333
         ],
         "b": [
          99.9708896806856,
          99.9794834802901,
          33.33333333333333,
          0.04772373772834783,
          33.33333333333333
         ],
         "c": [
          0.014555159657192717,
          0.010258259854957121,
          33.33333333333333,
          0.04772373772834783,
          33.33333333333333
         ],
         "customdata": [
          [
           "B",
           5,
           1,
           "trl"
          ],
          [
           "C",
           8,
           1,
           ""
          ],
          [
           "C",
           8,
           3,
           ""
          ],
          [
           "C",
           8,
           4,
           "2shots"
          ],
          [
           "C",
           8,
           5,
           ""
          ]
         ],
         "hovertemplate": "sample=4<br>Host=trolleite<br>Nb=%{a}<br>Ta=%{b}<br>Ti=%{c}<br>piece=%{customdata[0]}<br>field=%{customdata[1]}<br>analysis=%{customdata[2]}<br>Info=%{customdata[3]}<extra></extra>",
         "legendgroup": "4, trolleite",
         "marker": {
          "color": "#00cc96",
          "size": 8,
          "symbol": "diamond"
         },
         "mode": "markers",
         "name": "4, trolleite",
         "showlegend": true,
         "subplot": "ternary",
         "type": "scatterternary"
        },
        {
         "a": [
          33.33333333333333,
          33.33333333333333,
          33.33333333333333,
          33.33333333333333
         ],
         "b": [
          33.33333333333333,
          33.33333333333333,
          33.33333333333333,
          33.33333333333333
         ],
         "c": [
          33.33333333333333,
          33.33333333333333,
          33.33333333333333,
          33.33333333333333
         ],
         "customdata": [
          [
           "C",
           2,
           1,
           ""
          ],
          [
           "C",
           2,
           2,
           ""
          ],
          [
           "C",
           2,
           3,
           "2shots"
          ],
          [
           "C",
           3,
           4,
           "3shots"
          ]
         ],
         "hovertemplate": "sample=22<br>Host=bertossaite<br>Nb=%{a}<br>Ta=%{b}<br>Ti=%{c}<br>piece=%{customdata[0]}<br>field=%{customdata[1]}<br>analysis=%{customdata[2]}<br>Info=%{customdata[3]}<extra></extra>",
         "legendgroup": "22, bertossaite",
         "marker": {
          "color": "#ab63fa",
          "size": 8,
          "symbol": "circle"
         },
         "mode": "markers",
         "name": "22, bertossaite",
         "showlegend": true,
         "subplot": "ternary",
         "type": "scatterternary"
        },
        {
         "a": [
          0.003766363805976245,
          33.33333333333333,
          0.000471692048233659,
          33.33333333333333,
          33.33333333333333,
          33.33333333333333,
          83.13716857678286
         ],
         "b": [
          99.99246727238804,
          33.33333333333333,
          0.000471692048233659,
          33.33333333333333,
          33.33333333333333,
          33.33333333333333,
          3.1749684861423453
         ],
         "c": [
          0.003766363805976245,
          33.33333333333333,
          99.99905661590353,
          33.33333333333333,
          33.33333333333333,
          33.33333333333333,
          13.687862937074808
         ],
         "customdata": [
          [
           "A",
           2,
           1,
           ""
          ],
          [
           "A",
           2,
           2,
           ""
          ],
          [
           "A",
           3,
           1,
           ""
          ],
          [
           "A",
           3,
           4,
           ""
          ],
          [
           "A",
           3,
           5,
           ""
          ],
          [
           "A",
           "3b",
           1,
           ""
          ],
          [
           "A",
           "3b",
           2,
           ""
          ]
         ],
         "hovertemplate": "sample=22<br>Host=trolleite<br>Nb=%{a}<br>Ta=%{b}<br>Ti=%{c}<br>piece=%{customdata[0]}<br>field=%{customdata[1]}<br>analysis=%{customdata[2]}<br>Info=%{customdata[3]}<extra></extra>",
         "legendgroup": "22, trolleite",
         "marker": {
          "color": "#ab63fa",
          "size": 8,
          "symbol": "diamond"
         },
         "mode": "markers",
         "name": "22, trolleite",
         "showlegend": true,
         "subplot": "ternary",
         "type": "scatterternary"
        },
        {
         "a": [
          33.33333333333333
         ],
         "b": [
          33.33333333333333
         ],
         "c": [
          33.33333333333333
         ],
         "customdata": [
          [
           "B",
           "1b",
           1,
           "qz"
          ]
         ],
         "hovertemplate": "sample=22<br>Host=quartz<br>Nb=%{a}<br>Ta=%{b}<br>Ti=%{c}<br>piece=%{customdata[0]}<br>field=%{customdata[1]}<br>analysis=%{customdata[2]}<br>Info=%{customdata[3]}<extra></extra>",
         "legendgroup": "22, quartz",
         "marker": {
          "color": "#ab63fa",
          "size": 8,
          "symbol": "square"
         },
         "mode": "markers",
         "name": "22, quartz",
         "showlegend": true,
         "subplot": "ternary",
         "type": "scatterternary"
        },
        {
         "a": [
          33.33333333333333,
          33.33333333333333,
          0.0335335526685749,
          1.3247449438785235,
          1.2062586556824522,
          52.99765575486957,
          33.33333333333333,
          3.3743774373925715,
          0.0006446192253162805,
          19.63161069247003,
          0.0060005831277006524,
          0.007318383994076705,
          0.0015038709881237365,
          2.0462246927753664,
          12.264021370672332
         ],
         "b": [
          33.33333333333333,
          33.33333333333333,
          99.93293289466287,
          0.0007409260290936557,
          0,
          46.995011494357115,
          33.33333333333333,
          3.9643451190285033,
          0.7137332701185857,
          30.713644636265325,
          99.98799883374458,
          0.007318383994076705,
          0.0015038709881237365,
          1.6701416886142042,
          8.687372319586526
         ],
         "c": [
          33.33333333333333,
          33.33333333333333,
          0.0335335526685749,
          98.67451413009239,
          98.79374134431754,
          0.00733275077331923,
          33.33333333333333,
          92.66127744357892,
          99.2856221106561,
          49.65474467126464,
          0.0060005831277006524,
          99.98536323201184,
          99.99699225802377,
          96.28363361861044,
          79.04860630974116
         ],
         "customdata": [
          [
           "A",
           1,
           1,
           ""
          ],
          [
           "A",
           1,
           3,
           "2shots"
          ],
          [
           "A",
           1,
           6,
           "3shots"
          ],
          [
           "A",
           1,
           9,
           "2shots"
          ],
          [
           "A",
           1,
           11,
           "3shots"
          ],
          [
           "B",
           1,
           1,
           ""
          ],
          [
           "B",
           1,
           2,
           ""
          ],
          [
           "B",
           1,
           3,
           ""
          ],
          [
           "B",
           1,
           4,
           ""
          ],
          [
           "B",
           1,
           5,
           ""
          ],
          [
           "B",
           1,
           6,
           ""
          ],
          [
           "B",
           2,
           6,
           ""
          ],
          [
           "B",
           2,
           7,
           ""
          ],
          [
           "B",
           2,
           8,
           ""
          ],
          [
           "B",
           2,
           "9b",
           ""
          ]
         ],
         "hovertemplate": "sample=32<br>Host=brazilianite<br>Nb=%{a}<br>Ta=%{b}<br>Ti=%{c}<br>piece=%{customdata[0]}<br>field=%{customdata[1]}<br>analysis=%{customdata[2]}<br>Info=%{customdata[3]}<extra></extra>",
         "legendgroup": "32, brazilianite",
         "marker": {
          "color": "#FFA15A",
          "size": 8,
          "symbol": "x"
         },
         "mode": "markers",
         "name": "32, brazilianite",
         "showlegend": true,
         "subplot": "ternary",
         "type": "scatterternary"
        },
        {
         "a": [
          0.0018247749957919963,
          33.33333333333333,
          99.9722599715288,
          0.027252619373178764,
          33.33333333333333,
          33.33333333333333,
          33.33333333333333
         ],
         "b": [
          0,
          33.33333333333333,
          0.013870014235596608,
          0.027252619373178764,
          33.33333333333333,
          33.33333333333333,
          33.33333333333333
         ],
         "c": [
          99.99817522500422,
          33.33333333333333,
          0.013870014235596608,
          99.94549476125366,
          33.33333333333333,
          33.33333333333333,
          33.33333333333333
         ],
         "customdata": [
          [
           "AII",
           "C",
           1,
           ""
          ],
          [
           "AII",
           "C",
           2,
           ""
          ],
          [
           "AII",
           "C",
           4,
           ""
          ],
          [
           "AII",
           "C",
           5,
           ""
          ],
          [
           "AII",
           "C",
           6,
           ""
          ],
          [
           "AII",
           "C",
           7,
           ""
          ],
          [
           "AII",
           "C",
           8,
           ""
          ]
         ],
         "hovertemplate": "sample=32<br>Host=wyllieite<br>Nb=%{a}<br>Ta=%{b}<br>Ti=%{c}<br>piece=%{customdata[0]}<br>field=%{customdata[1]}<br>analysis=%{customdata[2]}<br>Info=%{customdata[3]}<extra></extra>",
         "legendgroup": "32, wyllieite",
         "marker": {
          "color": "#FFA15A",
          "size": 8,
          "symbol": "circle"
         },
         "mode": "markers",
         "name": "32, wyllieite",
         "showlegend": true,
         "subplot": "ternary",
         "type": "scatterternary"
        },
        {
         "a": [
          1.1639110225876177,
          0.010075853883061042,
          0.0004700205171125289,
          33.33333333333333,
          0.10462701077985977,
          0,
          33.33333333333333
         ],
         "b": [
          3.75154586658858,
          99.97984829223388,
          0.0004700205171125289,
          33.33333333333333,
          0.5719233679021196,
          0.0034403866447478655,
          33.33333333333333
         ],
         "c": [
          95.0845431108238,
          0.010075853883061042,
          99.99905995896577,
          33.33333333333333,
          99.32344962131802,
          99.99655961335525,
          33.33333333333333
         ],
         "customdata": [
          [
           "B",
           3,
           1,
           ""
          ],
          [
           "B",
           3,
           2,
           ""
          ],
          [
           "B",
           3,
           3,
           ""
          ],
          [
           "B",
           3,
           4,
           ""
          ],
          [
           "B",
           3,
           5,
           ""
          ],
          [
           "B",
           3,
           6,
           ""
          ],
          [
           "B",
           4,
           1,
           ""
          ]
         ],
         "hovertemplate": "sample=02a<br>Host=brazilianite<br>Nb=%{a}<br>Ta=%{b}<br>Ti=%{c}<br>piece=%{customdata[0]}<br>field=%{customdata[1]}<br>analysis=%{customdata[2]}<br>Info=%{customdata[3]}<extra></extra>",
         "legendgroup": "02a, brazilianite",
         "marker": {
          "color": "#19d3f3",
          "size": 8,
          "symbol": "x"
         },
         "mode": "markers",
         "name": "02a, brazilianite",
         "showlegend": true,
         "subplot": "ternary",
         "type": "scatterternary"
        },
        {
         "a": [
          9.71653192809771,
          33.33333333333333,
          33.33333333333333,
          33.33333333333333,
          33.33333333333333,
          35.711184037238304,
          33.33333333333333,
          33.33333333333333,
          33.33333333333333,
          33.33333333333333,
          33.33333333333333,
          33.33333333333333
         ],
         "b": [
          33.691014578883866,
          33.33333333333333,
          33.33333333333333,
          33.33333333333333,
          33.33333333333333,
          64.28838935567786,
          33.33333333333333,
          33.33333333333333,
          33.33333333333333,
          33.33333333333333,
          33.33333333333333,
          33.33333333333333
         ],
         "c": [
          56.59245349301841,
          33.33333333333333,
          33.33333333333333,
          33.33333333333333,
          33.33333333333333,
          0.0004266070838280788,
          33.33333333333333,
          33.33333333333333,
          33.33333333333333,
          33.33333333333333,
          33.33333333333333,
          33.33333333333333
         ],
         "customdata": [
          [
           "A",
           2,
           3,
           ""
          ],
          [
           "A",
           2,
           4,
           ""
          ],
          [
           "A",
           2,
           5,
           ""
          ],
          [
           "A",
           2,
           6,
           ""
          ],
          [
           "A",
           2,
           7,
           "true?"
          ],
          [
           "A",
           1,
           1,
           ""
          ],
          [
           "A",
           1,
           7,
           "2shots"
          ],
          [
           "A",
           1,
           8,
           "2shots"
          ],
          [
           "A",
           1,
           9,
           ""
          ],
          [
           "A",
           1,
           10,
           ""
          ],
          [
           "A",
           "1b",
           1,
           ""
          ],
          [
           "A",
           "2b",
           1,
           ""
          ]
         ],
         "hovertemplate": "sample=19(2)<br>Host=augelite<br>Nb=%{a}<br>Ta=%{b}<br>Ti=%{c}<br>piece=%{customdata[0]}<br>field=%{customdata[1]}<br>analysis=%{customdata[2]}<br>Info=%{customdata[3]}<extra></extra>",
         "legendgroup": "19(2), augelite",
         "marker": {
          "color": "#FF6692",
          "size": 8,
          "symbol": "cross"
         },
         "mode": "markers",
         "name": "19(2), augelite",
         "showlegend": true,
         "subplot": "ternary",
         "type": "scatterternary"
        }
       ],
       "layout": {
        "legend": {
         "title": {
          "text": "sample, Host"
         },
         "tracegroupgap": 0
        },
        "margin": {
         "t": 60
        },
        "template": {
         "data": {
          "bar": [
           {
            "error_x": {
             "color": "#2a3f5f"
            },
            "error_y": {
             "color": "#2a3f5f"
            },
            "marker": {
             "line": {
              "color": "#E5ECF6",
              "width": 0.5
             }
            },
            "type": "bar"
           }
          ],
          "barpolar": [
           {
            "marker": {
             "line": {
              "color": "#E5ECF6",
              "width": 0.5
             }
            },
            "type": "barpolar"
           }
          ],
          "carpet": [
           {
            "aaxis": {
             "endlinecolor": "#2a3f5f",
             "gridcolor": "white",
             "linecolor": "white",
             "minorgridcolor": "white",
             "startlinecolor": "#2a3f5f"
            },
            "baxis": {
             "endlinecolor": "#2a3f5f",
             "gridcolor": "white",
             "linecolor": "white",
             "minorgridcolor": "white",
             "startlinecolor": "#2a3f5f"
            },
            "type": "carpet"
           }
          ],
          "choropleth": [
           {
            "colorbar": {
             "outlinewidth": 0,
             "ticks": ""
            },
            "type": "choropleth"
           }
          ],
          "contour": [
           {
            "colorbar": {
             "outlinewidth": 0,
             "ticks": ""
            },
            "colorscale": [
             [
              0,
              "#0d0887"
             ],
             [
              0.1111111111111111,
              "#46039f"
             ],
             [
              0.2222222222222222,
              "#7201a8"
             ],
             [
              0.3333333333333333,
              "#9c179e"
             ],
             [
              0.4444444444444444,
              "#bd3786"
             ],
             [
              0.5555555555555556,
              "#d8576b"
             ],
             [
              0.6666666666666666,
              "#ed7953"
             ],
             [
              0.7777777777777778,
              "#fb9f3a"
             ],
             [
              0.8888888888888888,
              "#fdca26"
             ],
             [
              1,
              "#f0f921"
             ]
            ],
            "type": "contour"
           }
          ],
          "contourcarpet": [
           {
            "colorbar": {
             "outlinewidth": 0,
             "ticks": ""
            },
            "type": "contourcarpet"
           }
          ],
          "heatmap": [
           {
            "colorbar": {
             "outlinewidth": 0,
             "ticks": ""
            },
            "colorscale": [
             [
              0,
              "#0d0887"
             ],
             [
              0.1111111111111111,
              "#46039f"
             ],
             [
              0.2222222222222222,
              "#7201a8"
             ],
             [
              0.3333333333333333,
              "#9c179e"
             ],
             [
              0.4444444444444444,
              "#bd3786"
             ],
             [
              0.5555555555555556,
              "#d8576b"
             ],
             [
              0.6666666666666666,
              "#ed7953"
             ],
             [
              0.7777777777777778,
              "#fb9f3a"
             ],
             [
              0.8888888888888888,
              "#fdca26"
             ],
             [
              1,
              "#f0f921"
             ]
            ],
            "type": "heatmap"
           }
          ],
          "heatmapgl": [
           {
            "colorbar": {
             "outlinewidth": 0,
             "ticks": ""
            },
            "colorscale": [
             [
              0,
              "#0d0887"
             ],
             [
              0.1111111111111111,
              "#46039f"
             ],
             [
              0.2222222222222222,
              "#7201a8"
             ],
             [
              0.3333333333333333,
              "#9c179e"
             ],
             [
              0.4444444444444444,
              "#bd3786"
             ],
             [
              0.5555555555555556,
              "#d8576b"
             ],
             [
              0.6666666666666666,
              "#ed7953"
             ],
             [
              0.7777777777777778,
              "#fb9f3a"
             ],
             [
              0.8888888888888888,
              "#fdca26"
             ],
             [
              1,
              "#f0f921"
             ]
            ],
            "type": "heatmapgl"
           }
          ],
          "histogram": [
           {
            "marker": {
             "colorbar": {
              "outlinewidth": 0,
              "ticks": ""
             }
            },
            "type": "histogram"
           }
          ],
          "histogram2d": [
           {
            "colorbar": {
             "outlinewidth": 0,
             "ticks": ""
            },
            "colorscale": [
             [
              0,
              "#0d0887"
             ],
             [
              0.1111111111111111,
              "#46039f"
             ],
             [
              0.2222222222222222,
              "#7201a8"
             ],
             [
              0.3333333333333333,
              "#9c179e"
             ],
             [
              0.4444444444444444,
              "#bd3786"
             ],
             [
              0.5555555555555556,
              "#d8576b"
             ],
             [
              0.6666666666666666,
              "#ed7953"
             ],
             [
              0.7777777777777778,
              "#fb9f3a"
             ],
             [
              0.8888888888888888,
              "#fdca26"
             ],
             [
              1,
              "#f0f921"
             ]
            ],
            "type": "histogram2d"
           }
          ],
          "histogram2dcontour": [
           {
            "colorbar": {
             "outlinewidth": 0,
             "ticks": ""
            },
            "colorscale": [
             [
              0,
              "#0d0887"
             ],
             [
              0.1111111111111111,
              "#46039f"
             ],
             [
              0.2222222222222222,
              "#7201a8"
             ],
             [
              0.3333333333333333,
              "#9c179e"
             ],
             [
              0.4444444444444444,
              "#bd3786"
             ],
             [
              0.5555555555555556,
              "#d8576b"
             ],
             [
              0.6666666666666666,
              "#ed7953"
             ],
             [
              0.7777777777777778,
              "#fb9f3a"
             ],
             [
              0.8888888888888888,
              "#fdca26"
             ],
             [
              1,
              "#f0f921"
             ]
            ],
            "type": "histogram2dcontour"
           }
          ],
          "mesh3d": [
           {
            "colorbar": {
             "outlinewidth": 0,
             "ticks": ""
            },
            "type": "mesh3d"
           }
          ],
          "parcoords": [
           {
            "line": {
             "colorbar": {
              "outlinewidth": 0,
              "ticks": ""
             }
            },
            "type": "parcoords"
           }
          ],
          "pie": [
           {
            "automargin": true,
            "type": "pie"
           }
          ],
          "scatter": [
           {
            "marker": {
             "colorbar": {
              "outlinewidth": 0,
              "ticks": ""
             }
            },
            "type": "scatter"
           }
          ],
          "scatter3d": [
           {
            "line": {
             "colorbar": {
              "outlinewidth": 0,
              "ticks": ""
             }
            },
            "marker": {
             "colorbar": {
              "outlinewidth": 0,
              "ticks": ""
             }
            },
            "type": "scatter3d"
           }
          ],
          "scattercarpet": [
           {
            "marker": {
             "colorbar": {
              "outlinewidth": 0,
              "ticks": ""
             }
            },
            "type": "scattercarpet"
           }
          ],
          "scattergeo": [
           {
            "marker": {
             "colorbar": {
              "outlinewidth": 0,
              "ticks": ""
             }
            },
            "type": "scattergeo"
           }
          ],
          "scattergl": [
           {
            "marker": {
             "colorbar": {
              "outlinewidth": 0,
              "ticks": ""
             }
            },
            "type": "scattergl"
           }
          ],
          "scattermapbox": [
           {
            "marker": {
             "colorbar": {
              "outlinewidth": 0,
              "ticks": ""
             }
            },
            "type": "scattermapbox"
           }
          ],
          "scatterpolar": [
           {
            "marker": {
             "colorbar": {
              "outlinewidth": 0,
              "ticks": ""
             }
            },
            "type": "scatterpolar"
           }
          ],
          "scatterpolargl": [
           {
            "marker": {
             "colorbar": {
              "outlinewidth": 0,
              "ticks": ""
             }
            },
            "type": "scatterpolargl"
           }
          ],
          "scatterternary": [
           {
            "marker": {
             "colorbar": {
              "outlinewidth": 0,
              "ticks": ""
             }
            },
            "type": "scatterternary"
           }
          ],
          "surface": [
           {
            "colorbar": {
             "outlinewidth": 0,
             "ticks": ""
            },
            "colorscale": [
             [
              0,
              "#0d0887"
             ],
             [
              0.1111111111111111,
              "#46039f"
             ],
             [
              0.2222222222222222,
              "#7201a8"
             ],
             [
              0.3333333333333333,
              "#9c179e"
             ],
             [
              0.4444444444444444,
              "#bd3786"
             ],
             [
              0.5555555555555556,
              "#d8576b"
             ],
             [
              0.6666666666666666,
              "#ed7953"
             ],
             [
              0.7777777777777778,
              "#fb9f3a"
             ],
             [
              0.8888888888888888,
              "#fdca26"
             ],
             [
              1,
              "#f0f921"
             ]
            ],
            "type": "surface"
           }
          ],
          "table": [
           {
            "cells": {
             "fill": {
              "color": "#EBF0F8"
             },
             "line": {
              "color": "white"
             }
            },
            "header": {
             "fill": {
              "color": "#C8D4E3"
             },
             "line": {
              "color": "white"
             }
            },
            "type": "table"
           }
          ]
         },
         "layout": {
          "annotationdefaults": {
           "arrowcolor": "#2a3f5f",
           "arrowhead": 0,
           "arrowwidth": 1
          },
          "autotypenumbers": "strict",
          "coloraxis": {
           "colorbar": {
            "outlinewidth": 0,
            "ticks": ""
           }
          },
          "colorscale": {
           "diverging": [
            [
             0,
             "#8e0152"
            ],
            [
             0.1,
             "#c51b7d"
            ],
            [
             0.2,
             "#de77ae"
            ],
            [
             0.3,
             "#f1b6da"
            ],
            [
             0.4,
             "#fde0ef"
            ],
            [
             0.5,
             "#f7f7f7"
            ],
            [
             0.6,
             "#e6f5d0"
            ],
            [
             0.7,
             "#b8e186"
            ],
            [
             0.8,
             "#7fbc41"
            ],
            [
             0.9,
             "#4d9221"
            ],
            [
             1,
             "#276419"
            ]
           ],
           "sequential": [
            [
             0,
             "#0d0887"
            ],
            [
             0.1111111111111111,
             "#46039f"
            ],
            [
             0.2222222222222222,
             "#7201a8"
            ],
            [
             0.3333333333333333,
             "#9c179e"
            ],
            [
             0.4444444444444444,
             "#bd3786"
            ],
            [
             0.5555555555555556,
             "#d8576b"
            ],
            [
             0.6666666666666666,
             "#ed7953"
            ],
            [
             0.7777777777777778,
             "#fb9f3a"
            ],
            [
             0.8888888888888888,
             "#fdca26"
            ],
            [
             1,
             "#f0f921"
            ]
           ],
           "sequentialminus": [
            [
             0,
             "#0d0887"
            ],
            [
             0.1111111111111111,
             "#46039f"
            ],
            [
             0.2222222222222222,
             "#7201a8"
            ],
            [
             0.3333333333333333,
             "#9c179e"
            ],
            [
             0.4444444444444444,
             "#bd3786"
            ],
            [
             0.5555555555555556,
             "#d8576b"
            ],
            [
             0.6666666666666666,
             "#ed7953"
            ],
            [
             0.7777777777777778,
             "#fb9f3a"
            ],
            [
             0.8888888888888888,
             "#fdca26"
            ],
            [
             1,
             "#f0f921"
            ]
           ]
          },
          "colorway": [
           "#636efa",
           "#EF553B",
           "#00cc96",
           "#ab63fa",
           "#FFA15A",
           "#19d3f3",
           "#FF6692",
           "#B6E880",
           "#FF97FF",
           "#FECB52"
          ],
          "font": {
           "color": "#2a3f5f"
          },
          "geo": {
           "bgcolor": "white",
           "lakecolor": "white",
           "landcolor": "#E5ECF6",
           "showlakes": true,
           "showland": true,
           "subunitcolor": "white"
          },
          "hoverlabel": {
           "align": "left"
          },
          "hovermode": "closest",
          "mapbox": {
           "style": "light"
          },
          "paper_bgcolor": "white",
          "plot_bgcolor": "#E5ECF6",
          "polar": {
           "angularaxis": {
            "gridcolor": "white",
            "linecolor": "white",
            "ticks": ""
           },
           "bgcolor": "#E5ECF6",
           "radialaxis": {
            "gridcolor": "white",
            "linecolor": "white",
            "ticks": ""
           }
          },
          "scene": {
           "xaxis": {
            "backgroundcolor": "#E5ECF6",
            "gridcolor": "white",
            "gridwidth": 2,
            "linecolor": "white",
            "showbackground": true,
            "ticks": "",
            "zerolinecolor": "white"
           },
           "yaxis": {
            "backgroundcolor": "#E5ECF6",
            "gridcolor": "white",
            "gridwidth": 2,
            "linecolor": "white",
            "showbackground": true,
            "ticks": "",
            "zerolinecolor": "white"
           },
           "zaxis": {
            "backgroundcolor": "#E5ECF6",
            "gridcolor": "white",
            "gridwidth": 2,
            "linecolor": "white",
            "showbackground": true,
            "ticks": "",
            "zerolinecolor": "white"
           }
          },
          "shapedefaults": {
           "line": {
            "color": "#2a3f5f"
           }
          },
          "ternary": {
           "aaxis": {
            "gridcolor": "white",
            "linecolor": "white",
            "ticks": ""
           },
           "baxis": {
            "gridcolor": "white",
            "linecolor": "white",
            "ticks": ""
           },
           "bgcolor": "#E5ECF6",
           "caxis": {
            "gridcolor": "white",
            "linecolor": "white",
            "ticks": ""
           }
          },
          "title": {
           "x": 0.05
          },
          "xaxis": {
           "automargin": true,
           "gridcolor": "white",
           "linecolor": "white",
           "ticks": "",
           "title": {
            "standoff": 15
           },
           "zerolinecolor": "white",
           "zerolinewidth": 2
          },
          "yaxis": {
           "automargin": true,
           "gridcolor": "white",
           "linecolor": "white",
           "ticks": "",
           "title": {
            "standoff": 15
           },
           "zerolinecolor": "white",
           "zerolinewidth": 2
          }
         }
        },
        "ternary": {
         "aaxis": {
          "title": {
           "text": "Nb"
          }
         },
         "baxis": {
          "title": {
           "text": "Ta"
          }
         },
         "caxis": {
          "title": {
           "text": "Ti"
          }
         },
         "domain": {
          "x": [
           0,
           1
          ],
          "y": [
           0,
           1
          ]
         }
        }
       }
      },
      "text/html": [
       "<div>                            <div id=\"2ac69652-fc24-4810-ba5f-57ead21e857d\" class=\"plotly-graph-div\" style=\"height:525px; width:100%;\"></div>            <script type=\"text/javascript\">                require([\"plotly\"], function(Plotly) {                    window.PLOTLYENV=window.PLOTLYENV || {};                                    if (document.getElementById(\"2ac69652-fc24-4810-ba5f-57ead21e857d\")) {                    Plotly.newPlot(                        \"2ac69652-fc24-4810-ba5f-57ead21e857d\",                        [{\"a\": [33.33333333333333, 33.33333333333333, 33.33333333333333, 33.33333333333333, 0.14102316638553636, 33.33333333333333, 33.33333333333333, 33.33333333333333, 33.33333333333333, 0.0069661296486341374, 33.33333333333333, 0.2757122901487147, 33.33333333333333, 33.33333333333333, 33.33333333333333, 33.33333333333333, 0.0008012943002731016], \"b\": [33.33333333333333, 33.33333333333333, 33.33333333333333, 33.33333333333333, 0.39269492326467775, 33.33333333333333, 33.33333333333333, 33.33333333333333, 33.33333333333333, 0.0069661296486341374, 33.33333333333333, 2.0109192287757285, 33.33333333333333, 33.33333333333333, 33.33333333333333, 33.33333333333333, 0.0008012943002731016], \"c\": [33.33333333333333, 33.33333333333333, 33.33333333333333, 33.33333333333333, 99.46628191034978, 33.33333333333333, 33.33333333333333, 33.33333333333333, 33.33333333333333, 99.98606774070272, 33.33333333333333, 97.71336848107556, 33.33333333333333, 33.33333333333333, 33.33333333333333, 33.33333333333333, 99.99839741139945], \"customdata\": [[\"B\", 4.0, 1, \"\"], [\"B\", 4.0, 2, \"\"], [\"B\", 4.0, \"3b\", \"\"], [\"B\", 2, 1, \"2shots\"], [\"B\", 2, 2, \"maybe-not\"], [\"B\", 2, 3, \"3shots\"], [\"B\", 2, 4, \"3shots\"], [\"B\", 2, 5, \"3shots\"], [\"B\", 2, 7, \"\"], [\"B\", 4.0, 6.0, \"\"], [\"B\", 4.0, 7.0, \"3shots\"], [\"B\", 4.0, 9.0, \"\"], [\"C\", 1, 1, \"3shots\"], [\"C\", 1, 2, \"2shots\"], [\"C\", 1, 4, \"2shots\"], [\"C\", 1, 8, \"2shots\"], [\"C\", 1, 9, \"\"]], \"hovertemplate\": \"sample=20<br>Host=bertossaite<br>Nb=%{a}<br>Ta=%{b}<br>Ti=%{c}<br>piece=%{customdata[0]}<br>field=%{customdata[1]}<br>analysis=%{customdata[2]}<br>Info=%{customdata[3]}<extra></extra>\", \"legendgroup\": \"20, bertossaite\", \"marker\": {\"color\": \"#636efa\", \"size\": 8, \"symbol\": \"circle\"}, \"mode\": \"markers\", \"name\": \"20, bertossaite\", \"showlegend\": true, \"subplot\": \"ternary\", \"type\": \"scatterternary\"}, {\"a\": [11.21887350078808, 0.0017221383230287047, 0.6260732028326492, 33.33333333333333, 0.00605112699740539, 33.33333333333333, 33.33333333333333, 0.015836853764368573, 33.33333333333333, 99.94274236418296], \"b\": [88.77203430179145, 0.0017221383230287047, 0.0008550313118215574, 33.33333333333333, 99.98789774600517, 33.33333333333333, 33.33333333333333, 99.96832629247126, 33.33333333333333, 0.02862881790852336], \"c\": [0.009092197420471761, 99.99655572335394, 99.37307176585553, 33.33333333333333, 0.00605112699740539, 33.33333333333333, 33.33333333333333, 0.015836853764368573, 33.33333333333333, 0.02862881790852336], \"customdata\": [[\"J\", 1.0, 1, \"\"], [\"J\", 1.0, \"2b\", \"\"], [\"J\", 1.0, 3, \"\"], [\"E\", 1, 1, \"trl-real?\"], [\"E\", 1, 2, \"trl\"], [\"E\", 1, 3, \"trl\"], [\"E\", 1, 4, \"trl\"], [\"E\", 1, 5, \"trl-Xtl-rich\"], [\"E\", 1, 7, \"trl\"], [\"E\", 1, 8, \"trl\"]], \"hovertemplate\": \"sample=20<br>Host=trolleite<br>Nb=%{a}<br>Ta=%{b}<br>Ti=%{c}<br>piece=%{customdata[0]}<br>field=%{customdata[1]}<br>analysis=%{customdata[2]}<br>Info=%{customdata[3]}<extra></extra>\", \"legendgroup\": \"20, trolleite\", \"marker\": {\"color\": \"#636efa\", \"size\": 8, \"symbol\": \"diamond\"}, \"mode\": \"markers\", \"name\": \"20, trolleite\", \"showlegend\": true, \"subplot\": \"ternary\", \"type\": \"scatterternary\"}, {\"a\": [0.0001457595585769347, 0.0014387297480028816, 33.33333333333333, 33.33333333333333], \"b\": [0.0001457595585769347, 0.0014387297480028816, 33.33333333333333, 33.33333333333333], \"c\": [99.99970848088286, 99.99712254050401, 33.33333333333333, 33.33333333333333], \"customdata\": [[\"E\", 11, 6, \"2shots\"], [\"E\", 11, 7, \"\"], [\"E\", 11, 9, \"2shots\"], [\"E\", 11, 10, \"2shots\"]], \"hovertemplate\": \"sample=19<br>Host=bertossaite<br>Nb=%{a}<br>Ta=%{b}<br>Ti=%{c}<br>piece=%{customdata[0]}<br>field=%{customdata[1]}<br>analysis=%{customdata[2]}<br>Info=%{customdata[3]}<extra></extra>\", \"legendgroup\": \"19, bertossaite\", \"marker\": {\"color\": \"#EF553B\", \"size\": 8, \"symbol\": \"circle\"}, \"mode\": \"markers\", \"name\": \"19, bertossaite\", \"showlegend\": true, \"subplot\": \"ternary\", \"type\": \"scatterternary\"}, {\"a\": [33.33333333333333, 0.002423381974762509, 33.33333333333333, 33.33333333333333, 99.99168997081121, 33.33333333333333, 2.4898512201660306, 33.33333333333333, 33.33333333333333, 7.824364744919378e-05, 0.46348432292851505, 0.002957691978174168, 33.33333333333333, 0.0013771091487188496], \"b\": [33.33333333333333, 99.99515323605048, 33.33333333333333, 33.33333333333333, 0.004155014594388733, 33.33333333333333, 8.727808463549925, 33.33333333333333, 33.33333333333333, 1.329976182836234, 10.105025983244719, 99.99408461604366, 33.33333333333333, 99.99724578170255], \"c\": [33.33333333333333, 0.002423381974762509, 33.33333333333333, 33.33333333333333, 0.004155014594388733, 33.33333333333333, 88.78234031628403, 33.33333333333333, 33.33333333333333, 98.66994557351632, 89.43148969382678, 0.002957691978174168, 33.33333333333333, 0.0013771091487188496], \"customdata\": [[\"A\", \"7b\", 6, \"\"], [\"A\", \"7b\", 8, \"\"], [\"A\", \"7b\", 12, \"\"], [\"A\", \"7b\", 7, \"\"], [\"A\", \"7b\", 9, \"\"], [\"A\", \"7b\", 1, \"\"], [\"A\", \"7b\", 11, \"\"], [\"A\", \"7b\", 2, \"\"], [\"B\", 1, 2, \"\"], [\"B\", 1, 3, \"\"], [\"B\", 1, 4, \"\"], [\"B\", 1, 5, \"trl\"], [\"B\", 1, 6, \"trl\"], [\"B\", 1, 7, \"trl\"]], \"hovertemplate\": \"sample=19<br>Host=trolleite<br>Nb=%{a}<br>Ta=%{b}<br>Ti=%{c}<br>piece=%{customdata[0]}<br>field=%{customdata[1]}<br>analysis=%{customdata[2]}<br>Info=%{customdata[3]}<extra></extra>\", \"legendgroup\": \"19, trolleite\", \"marker\": {\"color\": \"#EF553B\", \"size\": 8, \"symbol\": \"diamond\"}, \"mode\": \"markers\", \"name\": \"19, trolleite\", \"showlegend\": true, \"subplot\": \"ternary\", \"type\": \"scatterternary\"}, {\"a\": [38.4971744155088, 33.33333333333333, 0.7638206303553365], \"b\": [61.46653764916535, 33.33333333333333, 4.1018855743337464e-05], \"c\": [0.03628793532585813, 33.33333333333333, 99.23613835078892], \"customdata\": [[\"E\", \"11b\", 2, \"Qz-exploded\"], [\"E\", \"11b\", 3, \"\"], [\"E\", \"11b\", 4, \"\"]], \"hovertemplate\": \"sample=19<br>Host=quartz<br>Nb=%{a}<br>Ta=%{b}<br>Ti=%{c}<br>piece=%{customdata[0]}<br>field=%{customdata[1]}<br>analysis=%{customdata[2]}<br>Info=%{customdata[3]}<extra></extra>\", \"legendgroup\": \"19, quartz\", \"marker\": {\"color\": \"#EF553B\", \"size\": 8, \"symbol\": \"square\"}, \"mode\": \"markers\", \"name\": \"19, quartz\", \"showlegend\": true, \"subplot\": \"ternary\", \"type\": \"scatterternary\"}, {\"a\": [33.33333333333333, 33.33333333333333, 33.33333333333333, 33.33333333333333, 0.00026799530764314114, 0.00039342541621769994, 33.33333333333333, 0.9822566142727964, 12.076934982924687, 0.006847921183919955, 0.000970675582329092, 0.3138253527086976, 33.33333333333333, 33.33333333333333], \"b\": [33.33333333333333, 33.33333333333333, 33.33333333333333, 33.33333333333333, 2.9829720185849267, 3.7295562141746452, 33.33333333333333, 0.007765212025810352, 87.91702646246299, 99.98630415763216, 0.000970675582329092, 3.0381432119185576, 33.33333333333333, 33.33333333333333], \"c\": [33.33333333333333, 33.33333333333333, 33.33333333333333, 33.33333333333333, 97.01675998610743, 96.27005036040913, 33.33333333333333, 99.0099781737014, 0.006038554612318375, 0.006847921183919955, 99.99805864883534, 96.64803143537274, 33.33333333333333, 33.33333333333333], \"customdata\": [[\"A\", 3, 1, \"bts\"], [\"A\", 3, 2, \"bts\"], [\"A\", 3, 3, \"bts\"], [\"A\", 3, 4, \"bts\"], [\"A\", 3, 5, \"bts\"], [\"A\", 3, 6, \"bts\"], [\"A\", 3, 8, \"bts\"], [\"B\", 6, 1, \"\"], [\"B\", 6, 6, \"3shots\"], [\"B\", 6, 9, \"\"], [\"B\", 7, 1, \"2shots\"], [\"B\", 7, 2, \"2shots\"], [\"B\", 7, 3, \"\"], [\"B\", 7, 5, \"2shots\"]], \"hovertemplate\": \"sample=4<br>Host=bertossaite<br>Nb=%{a}<br>Ta=%{b}<br>Ti=%{c}<br>piece=%{customdata[0]}<br>field=%{customdata[1]}<br>analysis=%{customdata[2]}<br>Info=%{customdata[3]}<extra></extra>\", \"legendgroup\": \"4, bertossaite\", \"marker\": {\"color\": \"#00cc96\", \"size\": 8, \"symbol\": \"circle\"}, \"mode\": \"markers\", \"name\": \"4, bertossaite\", \"showlegend\": true, \"subplot\": \"ternary\", \"type\": \"scatterternary\"}, {\"a\": [0.014555159657192717, 0.010258259854957121, 33.33333333333333, 99.9045525245433, 33.33333333333333], \"b\": [99.9708896806856, 99.9794834802901, 33.33333333333333, 0.04772373772834783, 33.33333333333333], \"c\": [0.014555159657192717, 0.010258259854957121, 33.33333333333333, 0.04772373772834783, 33.33333333333333], \"customdata\": [[\"B\", 5, 1, \"trl\"], [\"C\", 8, 1, \"\"], [\"C\", 8, 3, \"\"], [\"C\", 8, 4, \"2shots\"], [\"C\", 8, 5, \"\"]], \"hovertemplate\": \"sample=4<br>Host=trolleite<br>Nb=%{a}<br>Ta=%{b}<br>Ti=%{c}<br>piece=%{customdata[0]}<br>field=%{customdata[1]}<br>analysis=%{customdata[2]}<br>Info=%{customdata[3]}<extra></extra>\", \"legendgroup\": \"4, trolleite\", \"marker\": {\"color\": \"#00cc96\", \"size\": 8, \"symbol\": \"diamond\"}, \"mode\": \"markers\", \"name\": \"4, trolleite\", \"showlegend\": true, \"subplot\": \"ternary\", \"type\": \"scatterternary\"}, {\"a\": [33.33333333333333, 33.33333333333333, 33.33333333333333, 33.33333333333333], \"b\": [33.33333333333333, 33.33333333333333, 33.33333333333333, 33.33333333333333], \"c\": [33.33333333333333, 33.33333333333333, 33.33333333333333, 33.33333333333333], \"customdata\": [[\"C\", 2.0, 1, \"\"], [\"C\", 2.0, 2, \"\"], [\"C\", 2.0, 3, \"2shots\"], [\"C\", 3.0, 4, \"3shots\"]], \"hovertemplate\": \"sample=22<br>Host=bertossaite<br>Nb=%{a}<br>Ta=%{b}<br>Ti=%{c}<br>piece=%{customdata[0]}<br>field=%{customdata[1]}<br>analysis=%{customdata[2]}<br>Info=%{customdata[3]}<extra></extra>\", \"legendgroup\": \"22, bertossaite\", \"marker\": {\"color\": \"#ab63fa\", \"size\": 8, \"symbol\": \"circle\"}, \"mode\": \"markers\", \"name\": \"22, bertossaite\", \"showlegend\": true, \"subplot\": \"ternary\", \"type\": \"scatterternary\"}, {\"a\": [0.003766363805976245, 33.33333333333333, 0.000471692048233659, 33.33333333333333, 33.33333333333333, 33.33333333333333, 83.13716857678286], \"b\": [99.99246727238804, 33.33333333333333, 0.000471692048233659, 33.33333333333333, 33.33333333333333, 33.33333333333333, 3.1749684861423453], \"c\": [0.003766363805976245, 33.33333333333333, 99.99905661590353, 33.33333333333333, 33.33333333333333, 33.33333333333333, 13.687862937074808], \"customdata\": [[\"A\", 2, 1, \"\"], [\"A\", 2, 2, \"\"], [\"A\", 3, 1, \"\"], [\"A\", 3, 4, \"\"], [\"A\", 3, 5, \"\"], [\"A\", \"3b\", 1, \"\"], [\"A\", \"3b\", 2, \"\"]], \"hovertemplate\": \"sample=22<br>Host=trolleite<br>Nb=%{a}<br>Ta=%{b}<br>Ti=%{c}<br>piece=%{customdata[0]}<br>field=%{customdata[1]}<br>analysis=%{customdata[2]}<br>Info=%{customdata[3]}<extra></extra>\", \"legendgroup\": \"22, trolleite\", \"marker\": {\"color\": \"#ab63fa\", \"size\": 8, \"symbol\": \"diamond\"}, \"mode\": \"markers\", \"name\": \"22, trolleite\", \"showlegend\": true, \"subplot\": \"ternary\", \"type\": \"scatterternary\"}, {\"a\": [33.33333333333333], \"b\": [33.33333333333333], \"c\": [33.33333333333333], \"customdata\": [[\"B\", \"1b\", 1, \"qz\"]], \"hovertemplate\": \"sample=22<br>Host=quartz<br>Nb=%{a}<br>Ta=%{b}<br>Ti=%{c}<br>piece=%{customdata[0]}<br>field=%{customdata[1]}<br>analysis=%{customdata[2]}<br>Info=%{customdata[3]}<extra></extra>\", \"legendgroup\": \"22, quartz\", \"marker\": {\"color\": \"#ab63fa\", \"size\": 8, \"symbol\": \"square\"}, \"mode\": \"markers\", \"name\": \"22, quartz\", \"showlegend\": true, \"subplot\": \"ternary\", \"type\": \"scatterternary\"}, {\"a\": [33.33333333333333, 33.33333333333333, 0.0335335526685749, 1.3247449438785235, 1.2062586556824522, 52.99765575486957, 33.33333333333333, 3.3743774373925715, 0.0006446192253162805, 19.63161069247003, 0.0060005831277006524, 0.007318383994076705, 0.0015038709881237365, 2.0462246927753664, 12.264021370672332], \"b\": [33.33333333333333, 33.33333333333333, 99.93293289466287, 0.0007409260290936557, 0.0, 46.995011494357115, 33.33333333333333, 3.9643451190285033, 0.7137332701185857, 30.713644636265325, 99.98799883374458, 0.007318383994076705, 0.0015038709881237365, 1.6701416886142042, 8.687372319586526], \"c\": [33.33333333333333, 33.33333333333333, 0.0335335526685749, 98.67451413009239, 98.79374134431754, 0.00733275077331923, 33.33333333333333, 92.66127744357892, 99.2856221106561, 49.65474467126464, 0.0060005831277006524, 99.98536323201184, 99.99699225802377, 96.28363361861044, 79.04860630974116], \"customdata\": [[\"A\", 1.0, 1, \"\"], [\"A\", 1.0, 3, \"2shots\"], [\"A\", 1.0, 6, \"3shots\"], [\"A\", 1.0, 9, \"2shots\"], [\"A\", 1.0, 11, \"3shots\"], [\"B\", 1.0, 1, \"\"], [\"B\", 1.0, 2, \"\"], [\"B\", 1.0, 3, \"\"], [\"B\", 1.0, 4, \"\"], [\"B\", 1.0, 5, \"\"], [\"B\", 1.0, 6, \"\"], [\"B\", 2.0, 6, \"\"], [\"B\", 2.0, 7, \"\"], [\"B\", 2.0, 8, \"\"], [\"B\", 2.0, \"9b\", \"\"]], \"hovertemplate\": \"sample=32<br>Host=brazilianite<br>Nb=%{a}<br>Ta=%{b}<br>Ti=%{c}<br>piece=%{customdata[0]}<br>field=%{customdata[1]}<br>analysis=%{customdata[2]}<br>Info=%{customdata[3]}<extra></extra>\", \"legendgroup\": \"32, brazilianite\", \"marker\": {\"color\": \"#FFA15A\", \"size\": 8, \"symbol\": \"x\"}, \"mode\": \"markers\", \"name\": \"32, brazilianite\", \"showlegend\": true, \"subplot\": \"ternary\", \"type\": \"scatterternary\"}, {\"a\": [0.0018247749957919963, 33.33333333333333, 99.9722599715288, 0.027252619373178764, 33.33333333333333, 33.33333333333333, 33.33333333333333], \"b\": [0.0, 33.33333333333333, 0.013870014235596608, 0.027252619373178764, 33.33333333333333, 33.33333333333333, 33.33333333333333], \"c\": [99.99817522500422, 33.33333333333333, 0.013870014235596608, 99.94549476125366, 33.33333333333333, 33.33333333333333, 33.33333333333333], \"customdata\": [[\"AII\", \"C\", 1, \"\"], [\"AII\", \"C\", 2, \"\"], [\"AII\", \"C\", 4, \"\"], [\"AII\", \"C\", 5, \"\"], [\"AII\", \"C\", 6, \"\"], [\"AII\", \"C\", 7, \"\"], [\"AII\", \"C\", 8, \"\"]], \"hovertemplate\": \"sample=32<br>Host=wyllieite<br>Nb=%{a}<br>Ta=%{b}<br>Ti=%{c}<br>piece=%{customdata[0]}<br>field=%{customdata[1]}<br>analysis=%{customdata[2]}<br>Info=%{customdata[3]}<extra></extra>\", \"legendgroup\": \"32, wyllieite\", \"marker\": {\"color\": \"#FFA15A\", \"size\": 8, \"symbol\": \"circle\"}, \"mode\": \"markers\", \"name\": \"32, wyllieite\", \"showlegend\": true, \"subplot\": \"ternary\", \"type\": \"scatterternary\"}, {\"a\": [1.1639110225876177, 0.010075853883061042, 0.0004700205171125289, 33.33333333333333, 0.10462701077985977, 0.0, 33.33333333333333], \"b\": [3.75154586658858, 99.97984829223388, 0.0004700205171125289, 33.33333333333333, 0.5719233679021196, 0.0034403866447478655, 33.33333333333333], \"c\": [95.0845431108238, 0.010075853883061042, 99.99905995896577, 33.33333333333333, 99.32344962131802, 99.99655961335525, 33.33333333333333], \"customdata\": [[\"B\", 3.0, 1, \"\"], [\"B\", 3.0, 2, \"\"], [\"B\", 3.0, 3, \"\"], [\"B\", 3.0, 4, \"\"], [\"B\", 3.0, 5, \"\"], [\"B\", 3.0, 6, \"\"], [\"B\", 4.0, 1, \"\"]], \"hovertemplate\": \"sample=02a<br>Host=brazilianite<br>Nb=%{a}<br>Ta=%{b}<br>Ti=%{c}<br>piece=%{customdata[0]}<br>field=%{customdata[1]}<br>analysis=%{customdata[2]}<br>Info=%{customdata[3]}<extra></extra>\", \"legendgroup\": \"02a, brazilianite\", \"marker\": {\"color\": \"#19d3f3\", \"size\": 8, \"symbol\": \"x\"}, \"mode\": \"markers\", \"name\": \"02a, brazilianite\", \"showlegend\": true, \"subplot\": \"ternary\", \"type\": \"scatterternary\"}, {\"a\": [9.71653192809771, 33.33333333333333, 33.33333333333333, 33.33333333333333, 33.33333333333333, 35.711184037238304, 33.33333333333333, 33.33333333333333, 33.33333333333333, 33.33333333333333, 33.33333333333333, 33.33333333333333], \"b\": [33.691014578883866, 33.33333333333333, 33.33333333333333, 33.33333333333333, 33.33333333333333, 64.28838935567786, 33.33333333333333, 33.33333333333333, 33.33333333333333, 33.33333333333333, 33.33333333333333, 33.33333333333333], \"c\": [56.59245349301841, 33.33333333333333, 33.33333333333333, 33.33333333333333, 33.33333333333333, 0.0004266070838280788, 33.33333333333333, 33.33333333333333, 33.33333333333333, 33.33333333333333, 33.33333333333333, 33.33333333333333], \"customdata\": [[\"A\", 2, 3, \"\"], [\"A\", 2, 4, \"\"], [\"A\", 2, 5, \"\"], [\"A\", 2, 6, \"\"], [\"A\", 2, 7, \"true?\"], [\"A\", 1, 1, \"\"], [\"A\", 1, 7, \"2shots\"], [\"A\", 1, 8, \"2shots\"], [\"A\", 1, 9, \"\"], [\"A\", 1, 10, \"\"], [\"A\", \"1b\", 1, \"\"], [\"A\", \"2b\", 1, \"\"]], \"hovertemplate\": \"sample=19(2)<br>Host=augelite<br>Nb=%{a}<br>Ta=%{b}<br>Ti=%{c}<br>piece=%{customdata[0]}<br>field=%{customdata[1]}<br>analysis=%{customdata[2]}<br>Info=%{customdata[3]}<extra></extra>\", \"legendgroup\": \"19(2), augelite\", \"marker\": {\"color\": \"#FF6692\", \"size\": 8, \"symbol\": \"cross\"}, \"mode\": \"markers\", \"name\": \"19(2), augelite\", \"showlegend\": true, \"subplot\": \"ternary\", \"type\": \"scatterternary\"}],                        {\"legend\": {\"title\": {\"text\": \"sample, Host\"}, \"tracegroupgap\": 0}, \"margin\": {\"t\": 60}, \"template\": {\"data\": {\"bar\": [{\"error_x\": {\"color\": \"#2a3f5f\"}, \"error_y\": {\"color\": \"#2a3f5f\"}, \"marker\": {\"line\": {\"color\": \"#E5ECF6\", \"width\": 0.5}}, \"type\": \"bar\"}], \"barpolar\": [{\"marker\": {\"line\": {\"color\": \"#E5ECF6\", \"width\": 0.5}}, \"type\": \"barpolar\"}], \"carpet\": [{\"aaxis\": {\"endlinecolor\": \"#2a3f5f\", \"gridcolor\": \"white\", \"linecolor\": \"white\", \"minorgridcolor\": \"white\", \"startlinecolor\": \"#2a3f5f\"}, \"baxis\": {\"endlinecolor\": \"#2a3f5f\", \"gridcolor\": \"white\", \"linecolor\": \"white\", \"minorgridcolor\": \"white\", \"startlinecolor\": \"#2a3f5f\"}, \"type\": \"carpet\"}], \"choropleth\": [{\"colorbar\": {\"outlinewidth\": 0, \"ticks\": \"\"}, \"type\": \"choropleth\"}], \"contour\": [{\"colorbar\": {\"outlinewidth\": 0, \"ticks\": \"\"}, \"colorscale\": [[0.0, \"#0d0887\"], [0.1111111111111111, \"#46039f\"], [0.2222222222222222, \"#7201a8\"], [0.3333333333333333, \"#9c179e\"], [0.4444444444444444, \"#bd3786\"], [0.5555555555555556, \"#d8576b\"], [0.6666666666666666, \"#ed7953\"], [0.7777777777777778, \"#fb9f3a\"], [0.8888888888888888, \"#fdca26\"], [1.0, \"#f0f921\"]], \"type\": \"contour\"}], \"contourcarpet\": [{\"colorbar\": {\"outlinewidth\": 0, \"ticks\": \"\"}, \"type\": \"contourcarpet\"}], \"heatmap\": [{\"colorbar\": {\"outlinewidth\": 0, \"ticks\": \"\"}, \"colorscale\": [[0.0, \"#0d0887\"], [0.1111111111111111, \"#46039f\"], [0.2222222222222222, \"#7201a8\"], [0.3333333333333333, \"#9c179e\"], [0.4444444444444444, \"#bd3786\"], [0.5555555555555556, \"#d8576b\"], [0.6666666666666666, \"#ed7953\"], [0.7777777777777778, \"#fb9f3a\"], [0.8888888888888888, \"#fdca26\"], [1.0, \"#f0f921\"]], \"type\": \"heatmap\"}], \"heatmapgl\": [{\"colorbar\": {\"outlinewidth\": 0, \"ticks\": \"\"}, \"colorscale\": [[0.0, \"#0d0887\"], [0.1111111111111111, \"#46039f\"], [0.2222222222222222, \"#7201a8\"], [0.3333333333333333, \"#9c179e\"], [0.4444444444444444, \"#bd3786\"], [0.5555555555555556, \"#d8576b\"], [0.6666666666666666, \"#ed7953\"], [0.7777777777777778, \"#fb9f3a\"], [0.8888888888888888, \"#fdca26\"], [1.0, \"#f0f921\"]], \"type\": \"heatmapgl\"}], \"histogram\": [{\"marker\": {\"colorbar\": {\"outlinewidth\": 0, \"ticks\": \"\"}}, \"type\": \"histogram\"}], \"histogram2d\": [{\"colorbar\": {\"outlinewidth\": 0, \"ticks\": \"\"}, \"colorscale\": [[0.0, \"#0d0887\"], [0.1111111111111111, \"#46039f\"], [0.2222222222222222, \"#7201a8\"], [0.3333333333333333, \"#9c179e\"], [0.4444444444444444, \"#bd3786\"], [0.5555555555555556, \"#d8576b\"], [0.6666666666666666, \"#ed7953\"], [0.7777777777777778, \"#fb9f3a\"], [0.8888888888888888, \"#fdca26\"], [1.0, \"#f0f921\"]], \"type\": \"histogram2d\"}], \"histogram2dcontour\": [{\"colorbar\": {\"outlinewidth\": 0, \"ticks\": \"\"}, \"colorscale\": [[0.0, \"#0d0887\"], [0.1111111111111111, \"#46039f\"], [0.2222222222222222, \"#7201a8\"], [0.3333333333333333, \"#9c179e\"], [0.4444444444444444, \"#bd3786\"], [0.5555555555555556, \"#d8576b\"], [0.6666666666666666, \"#ed7953\"], [0.7777777777777778, \"#fb9f3a\"], [0.8888888888888888, \"#fdca26\"], [1.0, \"#f0f921\"]], \"type\": \"histogram2dcontour\"}], \"mesh3d\": [{\"colorbar\": {\"outlinewidth\": 0, \"ticks\": \"\"}, \"type\": \"mesh3d\"}], \"parcoords\": [{\"line\": {\"colorbar\": {\"outlinewidth\": 0, \"ticks\": \"\"}}, \"type\": \"parcoords\"}], \"pie\": [{\"automargin\": true, \"type\": \"pie\"}], \"scatter\": [{\"marker\": {\"colorbar\": {\"outlinewidth\": 0, \"ticks\": \"\"}}, \"type\": \"scatter\"}], \"scatter3d\": [{\"line\": {\"colorbar\": {\"outlinewidth\": 0, \"ticks\": \"\"}}, \"marker\": {\"colorbar\": {\"outlinewidth\": 0, \"ticks\": \"\"}}, \"type\": \"scatter3d\"}], \"scattercarpet\": [{\"marker\": {\"colorbar\": {\"outlinewidth\": 0, \"ticks\": \"\"}}, \"type\": \"scattercarpet\"}], \"scattergeo\": [{\"marker\": {\"colorbar\": {\"outlinewidth\": 0, \"ticks\": \"\"}}, \"type\": \"scattergeo\"}], \"scattergl\": [{\"marker\": {\"colorbar\": {\"outlinewidth\": 0, \"ticks\": \"\"}}, \"type\": \"scattergl\"}], \"scattermapbox\": [{\"marker\": {\"colorbar\": {\"outlinewidth\": 0, \"ticks\": \"\"}}, \"type\": \"scattermapbox\"}], \"scatterpolar\": [{\"marker\": {\"colorbar\": {\"outlinewidth\": 0, \"ticks\": \"\"}}, \"type\": \"scatterpolar\"}], \"scatterpolargl\": [{\"marker\": {\"colorbar\": {\"outlinewidth\": 0, \"ticks\": \"\"}}, \"type\": \"scatterpolargl\"}], \"scatterternary\": [{\"marker\": {\"colorbar\": {\"outlinewidth\": 0, \"ticks\": \"\"}}, \"type\": \"scatterternary\"}], \"surface\": [{\"colorbar\": {\"outlinewidth\": 0, \"ticks\": \"\"}, \"colorscale\": [[0.0, \"#0d0887\"], [0.1111111111111111, \"#46039f\"], [0.2222222222222222, \"#7201a8\"], [0.3333333333333333, \"#9c179e\"], [0.4444444444444444, \"#bd3786\"], [0.5555555555555556, \"#d8576b\"], [0.6666666666666666, \"#ed7953\"], [0.7777777777777778, \"#fb9f3a\"], [0.8888888888888888, \"#fdca26\"], [1.0, \"#f0f921\"]], \"type\": \"surface\"}], \"table\": [{\"cells\": {\"fill\": {\"color\": \"#EBF0F8\"}, \"line\": {\"color\": \"white\"}}, \"header\": {\"fill\": {\"color\": \"#C8D4E3\"}, \"line\": {\"color\": \"white\"}}, \"type\": \"table\"}]}, \"layout\": {\"annotationdefaults\": {\"arrowcolor\": \"#2a3f5f\", \"arrowhead\": 0, \"arrowwidth\": 1}, \"autotypenumbers\": \"strict\", \"coloraxis\": {\"colorbar\": {\"outlinewidth\": 0, \"ticks\": \"\"}}, \"colorscale\": {\"diverging\": [[0, \"#8e0152\"], [0.1, \"#c51b7d\"], [0.2, \"#de77ae\"], [0.3, \"#f1b6da\"], [0.4, \"#fde0ef\"], [0.5, \"#f7f7f7\"], [0.6, \"#e6f5d0\"], [0.7, \"#b8e186\"], [0.8, \"#7fbc41\"], [0.9, \"#4d9221\"], [1, \"#276419\"]], \"sequential\": [[0.0, \"#0d0887\"], [0.1111111111111111, \"#46039f\"], [0.2222222222222222, \"#7201a8\"], [0.3333333333333333, \"#9c179e\"], [0.4444444444444444, \"#bd3786\"], [0.5555555555555556, \"#d8576b\"], [0.6666666666666666, \"#ed7953\"], [0.7777777777777778, \"#fb9f3a\"], [0.8888888888888888, \"#fdca26\"], [1.0, \"#f0f921\"]], \"sequentialminus\": [[0.0, \"#0d0887\"], [0.1111111111111111, \"#46039f\"], [0.2222222222222222, \"#7201a8\"], [0.3333333333333333, \"#9c179e\"], [0.4444444444444444, \"#bd3786\"], [0.5555555555555556, \"#d8576b\"], [0.6666666666666666, \"#ed7953\"], [0.7777777777777778, \"#fb9f3a\"], [0.8888888888888888, \"#fdca26\"], [1.0, \"#f0f921\"]]}, \"colorway\": [\"#636efa\", \"#EF553B\", \"#00cc96\", \"#ab63fa\", \"#FFA15A\", \"#19d3f3\", \"#FF6692\", \"#B6E880\", \"#FF97FF\", \"#FECB52\"], \"font\": {\"color\": \"#2a3f5f\"}, \"geo\": {\"bgcolor\": \"white\", \"lakecolor\": \"white\", \"landcolor\": \"#E5ECF6\", \"showlakes\": true, \"showland\": true, \"subunitcolor\": \"white\"}, \"hoverlabel\": {\"align\": \"left\"}, \"hovermode\": \"closest\", \"mapbox\": {\"style\": \"light\"}, \"paper_bgcolor\": \"white\", \"plot_bgcolor\": \"#E5ECF6\", \"polar\": {\"angularaxis\": {\"gridcolor\": \"white\", \"linecolor\": \"white\", \"ticks\": \"\"}, \"bgcolor\": \"#E5ECF6\", \"radialaxis\": {\"gridcolor\": \"white\", \"linecolor\": \"white\", \"ticks\": \"\"}}, \"scene\": {\"xaxis\": {\"backgroundcolor\": \"#E5ECF6\", \"gridcolor\": \"white\", \"gridwidth\": 2, \"linecolor\": \"white\", \"showbackground\": true, \"ticks\": \"\", \"zerolinecolor\": \"white\"}, \"yaxis\": {\"backgroundcolor\": \"#E5ECF6\", \"gridcolor\": \"white\", \"gridwidth\": 2, \"linecolor\": \"white\", \"showbackground\": true, \"ticks\": \"\", \"zerolinecolor\": \"white\"}, \"zaxis\": {\"backgroundcolor\": \"#E5ECF6\", \"gridcolor\": \"white\", \"gridwidth\": 2, \"linecolor\": \"white\", \"showbackground\": true, \"ticks\": \"\", \"zerolinecolor\": \"white\"}}, \"shapedefaults\": {\"line\": {\"color\": \"#2a3f5f\"}}, \"ternary\": {\"aaxis\": {\"gridcolor\": \"white\", \"linecolor\": \"white\", \"ticks\": \"\"}, \"baxis\": {\"gridcolor\": \"white\", \"linecolor\": \"white\", \"ticks\": \"\"}, \"bgcolor\": \"#E5ECF6\", \"caxis\": {\"gridcolor\": \"white\", \"linecolor\": \"white\", \"ticks\": \"\"}}, \"title\": {\"x\": 0.05}, \"xaxis\": {\"automargin\": true, \"gridcolor\": \"white\", \"linecolor\": \"white\", \"ticks\": \"\", \"title\": {\"standoff\": 15}, \"zerolinecolor\": \"white\", \"zerolinewidth\": 2}, \"yaxis\": {\"automargin\": true, \"gridcolor\": \"white\", \"linecolor\": \"white\", \"ticks\": \"\", \"title\": {\"standoff\": 15}, \"zerolinecolor\": \"white\", \"zerolinewidth\": 2}}}, \"ternary\": {\"aaxis\": {\"title\": {\"text\": \"Nb\"}}, \"baxis\": {\"title\": {\"text\": \"Ta\"}}, \"caxis\": {\"title\": {\"text\": \"Ti\"}}, \"domain\": {\"x\": [0.0, 1.0], \"y\": [0.0, 1.0]}}},                        {\"responsive\": true}                    ).then(function(){\n",
       "                            \n",
       "var gd = document.getElementById('2ac69652-fc24-4810-ba5f-57ead21e857d');\n",
       "var x = new MutationObserver(function (mutations, observer) {{\n",
       "        var display = window.getComputedStyle(gd).display;\n",
       "        if (!display || display === 'none') {{\n",
       "            console.log([gd, 'removed!']);\n",
       "            Plotly.purge(gd);\n",
       "            observer.disconnect();\n",
       "        }}\n",
       "}});\n",
       "\n",
       "// Listen for the removal of the full notebook cells\n",
       "var notebookContainer = gd.closest('#notebook-container');\n",
       "if (notebookContainer) {{\n",
       "    x.observe(notebookContainer, {childList: true});\n",
       "}}\n",
       "\n",
       "// Listen for the clearing of the current output cell\n",
       "var outputEl = gd.closest('.output');\n",
       "if (outputEl) {{\n",
       "    x.observe(outputEl, {childList: true});\n",
       "}}\n",
       "\n",
       "                        })                };                });            </script>        </div>"
      ]
     },
     "metadata": {},
     "output_type": "display_data"
    }
   ],
   "source": [
    "#normalization function - written by Bram Paredis\n",
    "def normalize(data, total=None):\n",
    "    \"\"\"Normalize data to 100%\"\"\"\n",
    "    if total is None:\n",
    "        total = data.sum(axis=1)\n",
    "    return data.divide(total, axis=0) * 100\n",
    "\n",
    "\n",
    "A = 'Nb'\n",
    "B = 'Ta'\n",
    "C = 'Ti'\n",
    "\n",
    "#define subset within dataset\n",
    "df_subset = df_FI.loc[:, [A, B, C]]\n",
    "\n",
    "#normalize subset using function defined above\n",
    "df_subset_normalized = normalize(df_subset)\n",
    "#combine calculated data with metadata\n",
    "df_subset_normalized[['sample', 'piece', 'field', 'analysis', 'Host', 'Info']] = df_data_bdl[['sample', 'piece', 'field', 'analysis', 'Host', 'Info']]\n",
    "\n",
    "#ternary plot of normalized subset\n",
    "\n",
    "fig2 = px.scatter_ternary(df_subset_normalized, a=A, b=B, c=C,\n",
    "                          hover_data=[\"piece\",'field','analysis',\"Info\"],\n",
    "                          symbol = \"Host\", color=\"sample\")\n",
    "\n",
    "fig2.update_traces(marker=dict(size=8),\n",
    "                  selector=dict(mode='markers'))\n",
    "\n",
    "#fig.write_image(\"ternary_test.pdf\")\n",
    "fig2.show()"
   ]
  },
  {
   "cell_type": "code",
   "execution_count": 129,
   "id": "14b7f589",
   "metadata": {},
   "outputs": [
    {
     "data": {
      "image/png": "[encoded data removed]",
      "text/plain": [
       "<Figure size 1080x504 with 1 Axes>"
      ]
     },
     "metadata": {},
     "output_type": "display_data"
    }
   ],
   "source": [
    "import seaborn as sns\n",
    "import matplotlib.pyplot as plt\n",
    "\n",
    "host_list = ['wyllieite', 'trolleite', 'bertossaite', 'augelite', 'brazilianite', 'quartz']\n",
    "\n",
    "fig = plt.figure(figsize =(15, 7))\n",
    "\n",
    "# fig, (ax1, ax2, ax3, ax4) = plt.subplots(1, 4, figsize=(16,5))\n",
    "\n",
    "sns.set_style(\"whitegrid\")\n",
    "\n",
    "\n",
    "# Histogram + kernel density function curve\n",
    "\n",
    "# ax = sns.displot(df_FI, x=\"K%\", hue=\"Host\", multiple='stack', kde=True)#col=\"Host\"\n",
    "# sns.kdeplot(data=df_FI, x=\"K\", hue=\"Host\")\n",
    "\n",
    "\n",
    "\n",
    "\n",
    "# Boxplot + data on top\n",
    "\n",
    "x = \"Host\"\n",
    "y = \"Rb\"\n",
    "\n",
    "ax = sns.boxplot(x=x, y=y, data=df_FI, showfliers = True, order = host_list)\n",
    "# ax = sns.violinplot(x=x, y=y, data=df_FI, showfliers = False)\n",
    "ax = sns.stripplot(x=x, y=y, data=df_FI, color='.0', order = host_list)\n",
    "# ax.set(yscale=\"log\")\n",
    "\n",
    "\n",
    "\n",
    "\n",
    "# # Binary distribution map\n",
    "\n",
    "# sns.displot(df_FI, x=\"K%\", y=\"Na%\", hue=\"Host\", kind=\"kde\")\n",
    "\n",
    "\n",
    "\n",
    "\n",
    "# # Binary scatter plot \n",
    "\n",
    "# sns.scatterplot(data=df_FI, x=\"K%\", y=\"Na%\", hue=\"Host\")\n",
    "# ax.set_xlim([0, 12.5])\n",
    "\n",
    "\n",
    "\n",
    "\n",
    "# Mixed plots\n",
    "\n",
    "# plot = sns.jointplot(data=df_FI, x=\"K%\", y=\"B%\", hue=\"Host\")\n",
    "\n",
    "# plot.ax_marg_x.set_xlim(-2.5, 7.5)\n",
    "# ax.set_ylim(0.001, 100000)\n",
    "\n",
    "\n",
    "\n",
    "plt.show()\n",
    "\n",
    "   "
   ]
  },
  {
   "cell_type": "markdown",
   "id": "71fa046f",
   "metadata": {},
   "source": [
    "# Things to do in the code:\n",
    "\n",
    "#### 1. Figure out a way to easily illustrate the processes"
   ]
  },
  {
   "cell_type": "code",
   "execution_count": null,
   "id": "4ca3c31a",
   "metadata": {},
   "outputs": [],
   "source": []
  },
  {
   "cell_type": "code",
   "execution_count": null,
   "id": "c55e3b6b",
   "metadata": {},
   "outputs": [],
   "source": []
  }
 ],
 "metadata": {
  "kernelspec": {
   "display_name": "Python 3",
   "language": "python",
   "name": "python3"
  },
  "language_info": {
   "codemirror_mode": {
    "name": "ipython",
    "version": 3
   },
   "file_extension": ".py",
   "mimetype": "text/x-python",
   "name": "python",
   "nbconvert_exporter": "python",
   "pygments_lexer": "ipython3",
   "version": "3.7.1"
  }
 },
 "nbformat": 4,
 "nbformat_minor": 5
}
